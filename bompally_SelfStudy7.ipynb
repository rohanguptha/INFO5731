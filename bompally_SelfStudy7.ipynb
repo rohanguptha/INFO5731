{
  "nbformat": 4,
  "nbformat_minor": 0,
  "metadata": {
    "colab": {
      "name": "bompally_SelfStudy7.ipynb",
      "version": "0.3.2",
      "provenance": [],
      "collapsed_sections": [],
      "include_colab_link": true
    },
    "kernelspec": {
      "name": "python3",
      "display_name": "Python 3"
    },
    "accelerator": "GPU"
  },
  "cells": [
    {
      "cell_type": "markdown",
      "metadata": {
        "id": "view-in-github",
        "colab_type": "text"
      },
      "source": [
        "<a href=\"https://colab.research.google.com/github/rohanguptha/INFO5731/blob/master/bompally_SelfStudy7.ipynb\" target=\"_parent\"><img src=\"https://colab.research.google.com/assets/colab-badge.svg\" alt=\"Open In Colab\"/></a>"
      ]
    },
    {
      "metadata": {
        "id": "owaTk36LxnjP",
        "colab_type": "code",
        "colab": {}
      },
      "cell_type": "code",
      "source": [
        "%reload_ext autoreload\n",
        "%autoreload 2\n",
        "%matplotlib inline"
      ],
      "execution_count": 0,
      "outputs": []
    },
    {
      "metadata": {
        "id": "8EZpbWmIBAdA",
        "colab_type": "code",
        "colab": {}
      },
      "cell_type": "code",
      "source": [
        "from fastai.text import *"
      ],
      "execution_count": 0,
      "outputs": []
    },
    {
      "metadata": {
        "id": "_iRYoMWoBHp2",
        "colab_type": "code",
        "outputId": "bc85d8da-74c3-4ea3-9c97-f972f251362f",
        "colab": {
          "base_uri": "https://localhost:8080/",
          "height": 52
        }
      },
      "cell_type": "code",
      "source": [
        "path = untar_data(URLs.IMDB_SAMPLE)\n",
        "path.ls()"
      ],
      "execution_count": 31,
      "outputs": [
        {
          "output_type": "execute_result",
          "data": {
            "text/plain": [
              "[PosixPath('/root/.fastai/data/imdb_sample/texts.csv'),\n",
              " PosixPath('/root/.fastai/data/imdb_sample/data_save.pkl')]"
            ]
          },
          "metadata": {
            "tags": []
          },
          "execution_count": 31
        }
      ]
    },
    {
      "metadata": {
        "id": "3sXlk448BMDn",
        "colab_type": "code",
        "outputId": "a84ba1b8-8328-4d70-a7eb-5e4256d3ffb0",
        "colab": {
          "base_uri": "https://localhost:8080/",
          "height": 202
        }
      },
      "cell_type": "code",
      "source": [
        "df = pd.read_csv(path/'texts.csv')\n",
        "df.head()"
      ],
      "execution_count": 32,
      "outputs": [
        {
          "output_type": "execute_result",
          "data": {
            "text/html": [
              "<div>\n",
              "<style scoped>\n",
              "    .dataframe tbody tr th:only-of-type {\n",
              "        vertical-align: middle;\n",
              "    }\n",
              "\n",
              "    .dataframe tbody tr th {\n",
              "        vertical-align: top;\n",
              "    }\n",
              "\n",
              "    .dataframe thead th {\n",
              "        text-align: right;\n",
              "    }\n",
              "</style>\n",
              "<table border=\"1\" class=\"dataframe\">\n",
              "  <thead>\n",
              "    <tr style=\"text-align: right;\">\n",
              "      <th></th>\n",
              "      <th>label</th>\n",
              "      <th>text</th>\n",
              "      <th>is_valid</th>\n",
              "    </tr>\n",
              "  </thead>\n",
              "  <tbody>\n",
              "    <tr>\n",
              "      <th>0</th>\n",
              "      <td>negative</td>\n",
              "      <td>Un-bleeping-believable! Meg Ryan doesn't even ...</td>\n",
              "      <td>False</td>\n",
              "    </tr>\n",
              "    <tr>\n",
              "      <th>1</th>\n",
              "      <td>positive</td>\n",
              "      <td>This is a extremely well-made film. The acting...</td>\n",
              "      <td>False</td>\n",
              "    </tr>\n",
              "    <tr>\n",
              "      <th>2</th>\n",
              "      <td>negative</td>\n",
              "      <td>Every once in a long while a movie will come a...</td>\n",
              "      <td>False</td>\n",
              "    </tr>\n",
              "    <tr>\n",
              "      <th>3</th>\n",
              "      <td>positive</td>\n",
              "      <td>Name just says it all. I watched this movie wi...</td>\n",
              "      <td>False</td>\n",
              "    </tr>\n",
              "    <tr>\n",
              "      <th>4</th>\n",
              "      <td>negative</td>\n",
              "      <td>This movie succeeds at being one of the most u...</td>\n",
              "      <td>False</td>\n",
              "    </tr>\n",
              "  </tbody>\n",
              "</table>\n",
              "</div>"
            ],
            "text/plain": [
              "      label                                               text  is_valid\n",
              "0  negative  Un-bleeping-believable! Meg Ryan doesn't even ...     False\n",
              "1  positive  This is a extremely well-made film. The acting...     False\n",
              "2  negative  Every once in a long while a movie will come a...     False\n",
              "3  positive  Name just says it all. I watched this movie wi...     False\n",
              "4  negative  This movie succeeds at being one of the most u...     False"
            ]
          },
          "metadata": {
            "tags": []
          },
          "execution_count": 32
        }
      ]
    },
    {
      "metadata": {
        "id": "D3W-iTarBOil",
        "colab_type": "code",
        "outputId": "2541158f-845e-4cb8-ce60-e58c553c31eb",
        "colab": {
          "base_uri": "https://localhost:8080/",
          "height": 55
        }
      },
      "cell_type": "code",
      "source": [
        "df['text'][1]"
      ],
      "execution_count": 33,
      "outputs": [
        {
          "output_type": "execute_result",
          "data": {
            "text/plain": [
              "'This is a extremely well-made film. The acting, script and camera-work are all first-rate. The music is good, too, though it is mostly early in the film, when things are still relatively cheery. There are no really superstars in the cast, though several faces will be familiar. The entire cast does an excellent job with the script.<br /><br />But it is hard to watch, because there is no good end to a situation like the one presented. It is now fashionable to blame the British for setting Hindus and Muslims against each other, and then cruelly separating them into two countries. There is some merit in this view, but it\\'s also true that no one forced Hindus and Muslims in the region to mistreat each other as they did around the time of partition. It seems more likely that the British simply saw the tensions between the religions and were clever enough to exploit them to their own ends.<br /><br />The result is that there is much cruelty and inhumanity in the situation and this is very unpleasant to remember and to see on the screen. But it is never painted as a black-and-white case. There is baseness and nobility on both sides, and also the hope for change in the younger generation.<br /><br />There is redemption of a sort, in the end, when Puro has to make a hard choice between a man who has ruined her life, but also truly loved her, and her family which has disowned her, then later come looking for her. But by that point, she has no option that is without great pain for her.<br /><br />This film carries the message that both Muslims and Hindus have their grave faults, and also that both can be dignified and caring people. The reality of partition makes that realisation all the more wrenching, since there can never be real reconciliation across the India/Pakistan border. In that sense, it is similar to \"Mr & Mrs Iyer\".<br /><br />In the end, we were glad to have seen the film, even though the resolution was heartbreaking. If the UK and US could deal with their own histories of racism with this kind of frankness, they would certainly be better off.'"
            ]
          },
          "metadata": {
            "tags": []
          },
          "execution_count": 33
        }
      ]
    },
    {
      "metadata": {
        "id": "0v8miTVhBQlZ",
        "colab_type": "code",
        "colab": {}
      },
      "cell_type": "code",
      "source": [
        "data_lm = TextDataBunch.from_csv(path, 'texts.csv')"
      ],
      "execution_count": 0,
      "outputs": []
    },
    {
      "metadata": {
        "id": "XJQVcECjBTUV",
        "colab_type": "code",
        "colab": {}
      },
      "cell_type": "code",
      "source": [
        "data_lm.save()"
      ],
      "execution_count": 0,
      "outputs": []
    },
    {
      "metadata": {
        "id": "eKNsQUCgBXSg",
        "colab_type": "code",
        "colab": {}
      },
      "cell_type": "code",
      "source": [
        "data = load_data(path)"
      ],
      "execution_count": 0,
      "outputs": []
    },
    {
      "metadata": {
        "id": "Mwzka8MEBZgw",
        "colab_type": "code",
        "outputId": "5b752487-941f-4c4b-fcf4-ce445dd07adb",
        "colab": {
          "base_uri": "https://localhost:8080/",
          "height": 306
        }
      },
      "cell_type": "code",
      "source": [
        "data = TextClasDataBunch.from_csv(path, 'texts.csv')\n",
        "data.show_batch()"
      ],
      "execution_count": 37,
      "outputs": [
        {
          "output_type": "display_data",
          "data": {
            "text/html": [
              "<table border=\"1\" class=\"dataframe\">\n",
              "  <thead>\n",
              "    <tr style=\"text-align: right;\">\n",
              "      <th>text</th>\n",
              "      <th>target</th>\n",
              "    </tr>\n",
              "  </thead>\n",
              "  <tbody>\n",
              "    <tr>\n",
              "      <td>xxbos xxmaj raising xxmaj victor xxmaj vargas : a xxmaj review \\n \\n  xxmaj you know , xxmaj raising xxmaj victor xxmaj vargas is like sticking your hands into a big , steaming bowl of xxunk . xxmaj it 's warm and gooey , but you 're not sure if it feels right . xxmaj try as i might , no matter how warm and gooey xxmaj raising xxmaj</td>\n",
              "      <td>negative</td>\n",
              "    </tr>\n",
              "    <tr>\n",
              "      <td>xxbos xxup the xxup shop xxup around xxup the xxup corner is one of the sweetest and most feel - good romantic comedies ever made . xxmaj there 's just no getting around that , and it 's hard to actually put one 's feeling for this film into words . xxmaj it 's not one of those films that tries too hard , nor does it come up with</td>\n",
              "      <td>positive</td>\n",
              "    </tr>\n",
              "    <tr>\n",
              "      <td>xxbos xxmaj now that xxmaj che(2008 ) has finished its relatively short xxmaj australian cinema run ( extremely limited xxunk screen in xxmaj sydney , after xxunk ) , i can xxunk join both xxunk of \" xxmaj at xxmaj the xxmaj movies \" in taking xxmaj steven xxmaj soderbergh to task . \\n \\n  xxmaj it 's usually satisfying to watch a film director change his style /</td>\n",
              "      <td>negative</td>\n",
              "    </tr>\n",
              "    <tr>\n",
              "      <td>xxbos xxmaj this film sat on my xxmaj tivo for weeks before i watched it . i dreaded a self - indulgent xxunk flick about relationships gone bad . i was wrong ; this was an xxunk xxunk into the screwed - up xxunk of xxmaj new xxmaj yorkers . \\n \\n  xxmaj the format is the same as xxmaj max xxmaj xxunk ' \" xxmaj la xxmaj ronde</td>\n",
              "      <td>positive</td>\n",
              "    </tr>\n",
              "    <tr>\n",
              "      <td>xxbos xxmaj many neglect that this is n't just a classic due to the fact that it 's the first xxup 3d game , or even the first xxunk - up . xxmaj it 's also one of the first stealth games , one of the xxunk definitely the first ) truly claustrophobic games , and just a pretty well - rounded gaming experience in general . xxmaj with graphics</td>\n",
              "      <td>positive</td>\n",
              "    </tr>\n",
              "  </tbody>\n",
              "</table>"
            ],
            "text/plain": [
              "<IPython.core.display.HTML object>"
            ]
          },
          "metadata": {
            "tags": []
          }
        }
      ]
    },
    {
      "metadata": {
        "id": "lfdn2BKZBcP5",
        "colab_type": "code",
        "outputId": "6dd2bf02-2f51-4245-d01e-e575d5b2d4bb",
        "colab": {
          "base_uri": "https://localhost:8080/",
          "height": 191
        }
      },
      "cell_type": "code",
      "source": [
        "data.vocab.itos[:10]"
      ],
      "execution_count": 38,
      "outputs": [
        {
          "output_type": "execute_result",
          "data": {
            "text/plain": [
              "['xxunk',\n",
              " 'xxpad',\n",
              " 'xxbos',\n",
              " 'xxfld',\n",
              " 'xxmaj',\n",
              " 'xxup',\n",
              " 'xxrep',\n",
              " 'xxwrep',\n",
              " 'the',\n",
              " ',']"
            ]
          },
          "metadata": {
            "tags": []
          },
          "execution_count": 38
        }
      ]
    },
    {
      "metadata": {
        "id": "YwFQaC1hBf_w",
        "colab_type": "code",
        "outputId": "42b9522f-816b-4c2e-d819-57a22d05850d",
        "colab": {
          "base_uri": "https://localhost:8080/",
          "height": 159
        }
      },
      "cell_type": "code",
      "source": [
        "data.train_ds[0][0]"
      ],
      "execution_count": 39,
      "outputs": [
        {
          "output_type": "execute_result",
          "data": {
            "text/plain": [
              "Text xxbos xxmaj december holiday xxunk , like the original xxmaj frosty , ought to be richly - produced with quality music and a wholesome , yet lighthearted storyline . xxmaj they should have a touch of the mystical magic of the holidays . xxmaj basically , they should look , sound , and feel ... well , \" special \" and they should have a decent and appropriate xxmaj december holiday subtext . \n",
              " \n",
              "  xxmaj so when i saw xxmaj legend of xxmaj frosty the xxmaj snowman in the xxup tv xxunk , i got my kids ( 6 and xxunk pumped up for it by telling them the story of the original xxmaj frosty and passionately relating how much i enjoyed it as a kid . xxmaj as my wife and kids xxunk up on the couch to watch the movie the expectations were high , but 10 minutes into it my kids were xxunk and my wife and i were giving each other \" the look \" and rolling our eyes . xxmaj after 35 minutes my kids were actually asking to go to bed -- i guess they were fed up with the insensitive language and pointless , disconnected segments . i was actually embarrassed about their ( and my ) disappointment with this movie . \n",
              " \n",
              "  xxmaj unfortunately , xxmaj legend of xxmaj frosty the xxmaj snowman is more like a bad episode of xxmaj fairly xxmaj odd xxmaj parents xxunk with a worse - than - normal episode of xxmaj sponge xxmaj bob than a classic holiday movie . xxmaj do n't get me wrong ... those shows are fine and i like them as much as the next guy , but when i watch xxmaj fairly xxmaj odd xxmaj parents or xxmaj sponge xxmaj bob , my low expectations ( for mediocre , off - color , zero subtext , mind numbing episodes ) are always satisfied . \n",
              " \n",
              "  xxmaj we picked out some good books and spent the rest of the evening reading together . a much better choice than the embarrassingly bad xxmaj legend of xxmaj frosty the xxmaj snowman ."
            ]
          },
          "metadata": {
            "tags": []
          },
          "execution_count": 39
        }
      ]
    },
    {
      "metadata": {
        "id": "wDW1hQ17Bih_",
        "colab_type": "code",
        "outputId": "589ea42b-c37f-4259-bfca-533abf5c19db",
        "colab": {
          "base_uri": "https://localhost:8080/",
          "height": 35
        }
      },
      "cell_type": "code",
      "source": [
        "data.train_ds[0][0].data[:10]"
      ],
      "execution_count": 40,
      "outputs": [
        {
          "output_type": "execute_result",
          "data": {
            "text/plain": [
              "array([   2,    4, 6126, 2804,    0,    9,   49,    8,  206,    4])"
            ]
          },
          "metadata": {
            "tags": []
          },
          "execution_count": 40
        }
      ]
    },
    {
      "metadata": {
        "id": "y9O4w42gBkyr",
        "colab_type": "code",
        "colab": {}
      },
      "cell_type": "code",
      "source": [
        "data = (TextList.from_csv(path, 'texts.csv', cols='text')\n",
        "                .split_from_df(col=2)\n",
        "                .label_from_df(cols=0)\n",
        "                .databunch())"
      ],
      "execution_count": 0,
      "outputs": []
    },
    {
      "metadata": {
        "id": "MG9rhxHZBnBk",
        "colab_type": "code",
        "colab": {}
      },
      "cell_type": "code",
      "source": [
        "bs=48"
      ],
      "execution_count": 0,
      "outputs": []
    },
    {
      "metadata": {
        "id": "lQKMtRmhBqvd",
        "colab_type": "code",
        "outputId": "ffd93b4f-c198-4282-e53e-18121f49cd33",
        "colab": {
          "base_uri": "https://localhost:8080/",
          "height": 173
        }
      },
      "cell_type": "code",
      "source": [
        "path = untar_data(URLs.IMDB)\n",
        "path.ls()"
      ],
      "execution_count": 43,
      "outputs": [
        {
          "output_type": "execute_result",
          "data": {
            "text/plain": [
              "[PosixPath('/root/.fastai/data/imdb/train'),\n",
              " PosixPath('/root/.fastai/data/imdb/data_lm.pkl'),\n",
              " PosixPath('/root/.fastai/data/imdb/README'),\n",
              " PosixPath('/root/.fastai/data/imdb/models'),\n",
              " PosixPath('/root/.fastai/data/imdb/imdb.vocab'),\n",
              " PosixPath('/root/.fastai/data/imdb/tmp_lm'),\n",
              " PosixPath('/root/.fastai/data/imdb/unsup'),\n",
              " PosixPath('/root/.fastai/data/imdb/tmp_clas'),\n",
              " PosixPath('/root/.fastai/data/imdb/test')]"
            ]
          },
          "metadata": {
            "tags": []
          },
          "execution_count": 43
        }
      ]
    },
    {
      "metadata": {
        "id": "LvH_YZq4BtSf",
        "colab_type": "code",
        "outputId": "40057571-27c0-4e60-fabe-56e76458d8f0",
        "colab": {
          "base_uri": "https://localhost:8080/",
          "height": 87
        }
      },
      "cell_type": "code",
      "source": [
        "(path/'train').ls()"
      ],
      "execution_count": 44,
      "outputs": [
        {
          "output_type": "execute_result",
          "data": {
            "text/plain": [
              "[PosixPath('/root/.fastai/data/imdb/train/neg'),\n",
              " PosixPath('/root/.fastai/data/imdb/train/unsupBow.feat'),\n",
              " PosixPath('/root/.fastai/data/imdb/train/pos'),\n",
              " PosixPath('/root/.fastai/data/imdb/train/labeledBow.feat')]"
            ]
          },
          "metadata": {
            "tags": []
          },
          "execution_count": 44
        }
      ]
    },
    {
      "metadata": {
        "id": "8sOy3D8IBwqZ",
        "colab_type": "code",
        "colab": {}
      },
      "cell_type": "code",
      "source": [
        "data_lm = (TextList.from_folder(path)\n",
        "           #Inputs: all the text files in path\n",
        "            .filter_by_folder(include=['train', 'test', 'unsup']) \n",
        "           #We may have other temp folders that contain text files so we only keep what's in train and test\n",
        "            .split_by_rand_pct(0.1)\n",
        "           #We randomly split and keep 10% (10,000 reviews) for validation\n",
        "            .label_for_lm()           \n",
        "           #We want to do a language model so we label accordingly\n",
        "            .databunch(bs=bs))\n",
        "data_lm.save('data_lm.pkl')"
      ],
      "execution_count": 0,
      "outputs": []
    },
    {
      "metadata": {
        "id": "O4M4X7SGBwsP",
        "colab_type": "code",
        "colab": {}
      },
      "cell_type": "code",
      "source": [
        "data_lm = load_data(path, 'data_lm.pkl', bs=bs)"
      ],
      "execution_count": 0,
      "outputs": []
    },
    {
      "metadata": {
        "id": "SGN80I1OBwvk",
        "colab_type": "code",
        "outputId": "3ea61383-5ddd-44a2-d0fa-efa4ffd85d6c",
        "colab": {
          "base_uri": "https://localhost:8080/",
          "height": 289
        }
      },
      "cell_type": "code",
      "source": [
        "data_lm.show_batch()"
      ],
      "execution_count": 47,
      "outputs": [
        {
          "output_type": "display_data",
          "data": {
            "text/html": [
              "<table border=\"1\" class=\"dataframe\">\n",
              "  <thead>\n",
              "    <tr style=\"text-align: right;\">\n",
              "      <th>idx</th>\n",
              "      <th>text</th>\n",
              "    </tr>\n",
              "  </thead>\n",
              "  <tbody>\n",
              "    <tr>\n",
              "      <td>0</td>\n",
              "      <td>failed . xxmaj stupid , not funny . xxmaj tedious , not hilarious . xxmaj bad , not good . xxmaj that in a nutshell is all i can say for this video . xxbos xxmaj the worst kind of film . xxmaj basically , the xxup us xxmaj declaration of xxmaj independence was replaced with a plasma screen and this fooled the museum 's security for several days .</td>\n",
              "    </tr>\n",
              "    <tr>\n",
              "      <td>1</td>\n",
              "      <td>military over - xxunk have all grown so much since the time of the first film , and \" xxmaj wargames : xxmaj the xxmaj dead xxmaj code \" had an opportunity to bring it all into a great flick . \\n \\n  xxmaj the movie failed on pretty much every level , but i particularly blame the writers and anyone who had any input regarding the realism of</td>\n",
              "    </tr>\n",
              "    <tr>\n",
              "      <td>2</td>\n",
              "      <td>they would have roasted him in two seconds flat ! \" xxup ow \" indeed ! \\n \\n  xxmaj do n't get me wrong . i rated this movie low . xxmaj still , it 's never boring ( except when the scientist tries to explain everything - only to make it all sound more and more ridiculous ) , and you have to admit , in your little</td>\n",
              "    </tr>\n",
              "    <tr>\n",
              "      <td>3</td>\n",
              "      <td>but on the big screen , flush that expectation down the toilet immediately along with the money you would use for a ticket .. xxmaj you may get more enjoyment that way . xxmaj the acting was terrible , the plot was completely unrealistic , ( along with the so called \" twist \" in the end . i must say this .. xxmaj the ending did surprise me .</td>\n",
              "    </tr>\n",
              "    <tr>\n",
              "      <td>4</td>\n",
              "      <td>group of stereotypical blacks upset who will appear on different xxmaj springer shows . xxmaj at the end , the movie leaves one with some xxunk and xxmaj springer rhetoric about the need for us to see the real world ( evidently as seen through his show ) . i agree with him there- it is important to know how the world really is so that we can seek to</td>\n",
              "    </tr>\n",
              "  </tbody>\n",
              "</table>"
            ],
            "text/plain": [
              "<IPython.core.display.HTML object>"
            ]
          },
          "metadata": {
            "tags": []
          }
        }
      ]
    },
    {
      "metadata": {
        "id": "ox0Wd6iABwyd",
        "colab_type": "code",
        "colab": {}
      },
      "cell_type": "code",
      "source": [
        "learn = language_model_learner(data_lm, AWD_LSTM, drop_mult=0.3)"
      ],
      "execution_count": 0,
      "outputs": []
    },
    {
      "metadata": {
        "id": "uRvpK8qiB_Ii",
        "colab_type": "code",
        "outputId": "f93af4a9-b654-4682-9746-8889842fb124",
        "colab": {
          "base_uri": "https://localhost:8080/",
          "height": 35
        }
      },
      "cell_type": "code",
      "source": [
        "learn.lr_find()"
      ],
      "execution_count": 51,
      "outputs": [
        {
          "output_type": "display_data",
          "data": {
            "text/html": [
              ""
            ],
            "text/plain": [
              "<IPython.core.display.HTML object>"
            ]
          },
          "metadata": {
            "tags": []
          }
        },
        {
          "output_type": "stream",
          "text": [
            "LR Finder is complete, type {learner_name}.recorder.plot() to see the graph.\n"
          ],
          "name": "stdout"
        }
      ]
    },
    {
      "metadata": {
        "id": "0x2rpRTWB_Mo",
        "colab_type": "code",
        "outputId": "6f358999-92c9-4cac-da84-c82e563adbb6",
        "colab": {
          "base_uri": "https://localhost:8080/",
          "height": 279
        }
      },
      "cell_type": "code",
      "source": [
        "learn.recorder.plot(skip_end=15)"
      ],
      "execution_count": 52,
      "outputs": [
        {
          "output_type": "display_data",
          "data": {
            "image/png": "[encoded data removed]",
            "text/plain": [
              "<Figure size 432x288 with 1 Axes>"
            ]
          },
          "metadata": {
            "tags": []
          }
        }
      ]
    },
    {
      "metadata": {
        "id": "lHf4MnhqB_PZ",
        "colab_type": "code",
        "outputId": "2059858b-119e-4b10-dc48-3b52f2382f04",
        "colab": {
          "base_uri": "https://localhost:8080/",
          "height": 103
        }
      },
      "cell_type": "code",
      "source": [
        "learn.fit_one_cycle(1, 1e-2, moms=(0.8,0.7))"
      ],
      "execution_count": 53,
      "outputs": [
        {
          "output_type": "display_data",
          "data": {
            "text/html": [
              "Total time: 1:24:23 <p><table border=\"1\" class=\"dataframe\">\n",
              "  <thead>\n",
              "    <tr style=\"text-align: left;\">\n",
              "      <th>epoch</th>\n",
              "      <th>train_loss</th>\n",
              "      <th>valid_loss</th>\n",
              "      <th>accuracy</th>\n",
              "      <th>time</th>\n",
              "    </tr>\n",
              "  </thead>\n",
              "  <tbody>\n",
              "    <tr>\n",
              "      <td>0</td>\n",
              "      <td>4.202726</td>\n",
              "      <td>4.059827</td>\n",
              "      <td>0.292900</td>\n",
              "      <td>1:24:23</td>\n",
              "    </tr>\n",
              "  </tbody>\n",
              "</table>"
            ],
            "text/plain": [
              "<IPython.core.display.HTML object>"
            ]
          },
          "metadata": {
            "tags": []
          }
        }
      ]
    },
    {
      "metadata": {
        "id": "dAjufdd9yPWd",
        "colab_type": "code",
        "colab": {}
      },
      "cell_type": "code",
      "source": [
        "learn.save('fit_head')"
      ],
      "execution_count": 0,
      "outputs": []
    },
    {
      "metadata": {
        "id": "Jg8u1mPJyZHk",
        "colab_type": "code",
        "colab": {
          "base_uri": "https://localhost:8080/",
          "height": 7924
        },
        "outputId": "781cf46e-4e30-4587-c41d-332b2a8503e1"
      },
      "cell_type": "code",
      "source": [
        "learn.load('fit_head')"
      ],
      "execution_count": 55,
      "outputs": [
        {
          "output_type": "execute_result",
          "data": {
            "text/plain": [
              "LanguageLearner(data=TextLMDataBunch;\n",
              "\n",
              "Train: LabelList (90000 items)\n",
              "x: LMTextList\n",
              "xxbos i vowed a long time ago to xxup never , xxup ever watch a movie that has xxup anyone who xxup ever was a regular cast member of \" xxmaj saturday xxmaj night xxmaj live \" . i did n't rent \" xxmaj corky xxmaj romano \" but i was forced by my unfailing good manners to watch it for half an hour . xxmaj then my good manners failed . xxmaj stupid , not funny . xxmaj tedious , not hilarious . xxmaj bad , not good . xxmaj that in a nutshell is all i can say for this video .,xxbos xxmaj the worst kind of film . xxmaj basically , the xxup us xxmaj declaration of xxmaj independence was replaced with a plasma screen and this fooled the museum 's security for several days . xxmaj eh ? \n",
              " \n",
              "  xxmaj the plasma screen that would theoretically run for less than 2 seconds off that watch battery , assuming it had a low enough internal resistance to deliver the required current , which it would n't . \n",
              " \n",
              "  xxmaj it would be possible with a dozen large car batteries and an xxunk , but that system would n't fit into the case . xxmaj sorry to be anal , but this is n't even close to being plausible . xxmaj the rest of the film was n't a great deal better and i 'm left wondering why the budget could n't have been donated to charity or me .,xxbos i firmly believe that the best xxmaj oscar ceremony in recent years was in 2003 for two reasons : \n",
              " \n",
              "  1 ) xxmaj host xxmaj steve xxmaj martin was at his most wittiest : \" i saw the teamsters help xxmaj michael xxmaj moore into the trunk of his limo \" and \" i 'll better not mention the gay mafia in case i wake up with a poodle 's head in my bed \" \n",
              " \n",
              "  2 ) xxmaj surprise winners : xxmaj no one had xxmaj adrien xxmaj brody down for best actor ( xxmaj genuine applause ) or xxmaj roman xxmaj polanski for best director ( xxmaj genuine jeers and boos ) but they won \n",
              " \n",
              "  xxmaj last year 's award ceremony was n't too bad but there was little in the way of surprises and i was happy to see xxup return xxup of xxup the xxup king sweep the awards even if it was n't the best in the trilogy ( xxup fellowship was much better ) but what let the xxup bbc coverage down was xxmaj jonathan xxmaj ross getting a few of his sycophantic mates round and pretending they were hilarious when they were anything but . xxmaj so when i heard xxmaj sky were doing the coverage for xxmaj british xxup tv i was expecting xxmaj barry xxmaj norman and xxmaj mark xxmaj xxunk to be doing the links , but instead we ended up with xxmaj jamie xxmaj xxunk and xxmaj sharon xxmaj osbourne ! xxmaj oh gawd if xxmaj british xxup tv are desperate for film critics ( xxmaj obviously they are ) i 'm sure both xxmaj bob xxmaj the xxmaj moo and xxmaj theo xxmaj robertson will happily fly over to xxup la to give their honest opinions on the winners and losers \n",
              " \n",
              "  xxmaj chris xxmaj rock was n't too bad , but he 's no xxmaj steve xxmaj martin while the location seemed to resemble a sports hall with seats put in ! xxmaj not much of a glitzy arena in my opinion . xxmaj the main problem i had with the ceremony was the format with the \" minor \" xxmaj oscars handed out to the winners who were sitting in their seats ! xxmaj there 's no such thing as a \" minor \" xxmaj oscar and just because the award is for xxmaj best xxmaj animated xxmaj short or xxmaj best xxmaj costume xxmaj design they 're as well deserved as xxmaj best xxmaj picture or xxmaj best xxmaj director . xxmaj all the winners should be allowed to march up to the podium . xxmaj what a bunch of arrogant snobs the xxmaj academy are becoming and i quite agree with the comments that this format is disgraceful and if it was n't for the surprises this could possibly have been the worst ceremony in history . xxmaj as for the awards themselves \n",
              " \n",
              "  xxmaj best xxmaj supporting xxmaj actress - xxmaj cate xxmaj blanchett . xxmaj no great surprise for a competitive category \n",
              " \n",
              "  xxmaj best xxmaj supporting xxmaj actor - xxmaj morgan xxmaj freeman . xxmaj no real complaints since xxmaj freeman is one of xxmaj america 's greatest living character actors \n",
              " \n",
              "  xxmaj best xxmaj actor - xxmaj jamie xxmaj foxx . xxmaj most predictable award of the night . xxmaj yawn \n",
              " \n",
              "  xxmaj best xxmaj actress - xxmaj hilary xxmaj swank . xxmaj major surprise since everyone thought xxmaj annette xxmaj benning was going to win simply down to academy politics but xxmaj swank did deserve it and gave the best speech of the night \n",
              " \n",
              "  xxmaj best xxmaj director - xxmaj clint xxmaj eastwood . xxmaj major surprise since everyone thought xxmaj scorsese was going to get the award simply because he 'd never won one . xxmaj actually i 'm glad about this because if he did n't deserve it for xxup taxi xxup driver , xxup raging xxup bull or xxup goodfellas he did n't deserve it for xxup the xxup aviator \n",
              " \n",
              "  xxmaj best xxmaj film - xxup million xxup dollar xxup baby . xxmaj again another major surprise since everyone thought the academy would split the awards for best director and best picture while i thought the xxmaj hollywood friendly plot of xxup the xxup aviator would have made it a dead cert for xxmaj best xxmaj picture while xxup xxunk 's controversial subject matter would have turned a lot of voters off \n",
              " \n",
              "  xxmaj what these awards perhaps illustrate is that this year the voters have decided to ignore xxmaj oscar politics and genuinely give out awards to people who deserve it something they have n't done in the past , i mean a xxup beautiful xxup mind beating xxup the xxup fellowship xxup of xxup the xxup ring for gawd 's sake ! xxmaj and long may the academy vote with their heads instead of their hearts,xxbos xxmaj this film was hard to get a hold of , and when i eventually saw it the disappointment was overwhelming . i mean , this is one of the great stories of the twentieth century : an unknown man takes advantage of the unsuspecting airline industry and xxup gets xxup away with millions in ransom without hurting anyone or bungling the attempt . xxmaj with all of this built - in interest , how could anyone make such a lackluster , talk - laden flick of this true - life event . xxmaj while xxmaj williams is always interesting , the screenwriters assumed that the xxup d.b. xxmaj cooper persona was stereotypically heroic like a movie star , s what we get is a type - without any engaging details or insights into the mind of a person daring enough and clever enough to have pulled it off . xxmaj harrold practically steals the movie with her spunk and pure beauty , but the real letdown was in the handling of the plot and the lame direction . xxmaj shame on this film for even existing .,xxbos i knew my summary would get you . xxmaj how is this movie like a xxmaj pet xxmaj rock and xxmaj disco ? ! xxmaj well , unless you lived through the 1970s or 80s , you probably ca n't understand xxup why anyone would like a xxmaj new xxmaj coke or own a xxmaj pet xxmaj rock ( and frankly , at least in the case of xxmaj pet xxmaj rocks , i xxup still do n't understand it completely ) . xxmaj they 're just a couple things that seemed to make sense at the time but really baffle the younger generation . xxmaj the same can be said for xxmaj kay xxmaj kyser and his band . xxmaj at the time ( the 1940s mostly ) , they were very popular and had enough clout that the studio starred them with xxmaj boris xxmaj karloff , xxmaj bela xxmaj lugosi xxup and xxmaj peter xxmaj lorre in this film . xxmaj yet , if you did n't live at that time ( it was well before my time ) , you wonder why anyone liked this sort of \" entertainment \" . xxmaj after all , xxmaj kyser and his band mates are incredibly obnoxious and their humor is very , very broad ( i.e. , unsophisticated and cheesy ) . xxmaj frankly , i could n't stand their antics nor did i appreciate that there were just too many musical numbers in the film . xxmaj because of these factors , the great supporting cast was given a back seat and fans of these actors will probably be disappointed . \n",
              " \n",
              "  xxmaj the film involves xxmaj kyser and the band coming to a mansion where a young lady and her wacky aunt live . xxmaj once there , the bridge is washed out and strange happenings begin . xxmaj eventually , it culminates in some attempts on xxmaj sally 's life and a séance ( of sorts ) . xxmaj it 's all played for laughs -- and it 's really not a horror movie despite the cast . \n",
              " \n",
              "  xxmaj overall , it 's passable entertainment at best . xxmaj as a xxmaj lugosi and xxmaj karloff fan , i sure felt cheated having to watch xxmaj kyser and his knuckleheads .\n",
              "y: LMLabelList\n",
              ",,,,\n",
              "Path: /root/.fastai/data/imdb;\n",
              "\n",
              "Valid: LabelList (10000 items)\n",
              "x: LMTextList\n",
              "xxbos i do n't know what neighborhoods the folks who wrote the rave reviews for this movie live in , but i 'm glad i 'm not there if they do n't comment on the cartoonish - ness of this thing . xxmaj okay , we learn to suspend our disbelief in films like the \" xxmaj die xxmaj hard \" series , but seeing little xxmaj jodie knock off a whole street gang , with a xxmaj glock , as a xxup novice yet ... c'mon . xxmaj all she needed was a bald head and a ripped t - shirt and she would xxup be xxmaj bruce xxmaj willis . \n",
              " \n",
              "  xxmaj apparently , xxmaj jodie being the executive producer blinded her to what a joke and waste of her money this would be . xxmaj or she was living out some kind of fantasy where she is the only blonde and everyone else is a brunette black , or xxmaj hispanic . xxmaj even the dog is black . xxmaj little xxmaj blondie is the only good one and ( except for a xxmaj black police officer ) everyone else in town is some nasty minority out to get her . xxmaj has your fear of your acting talent declined so far that you think the only way you can get noticed is to be the only bright spot ( literally ) on camera in a dark , morose and somber neighborhood / film / cast ? xxmaj apparently she thought she was in the wrong movie ... xxmaj the xxmaj dark xxmaj knight . \n",
              " \n",
              "  xxmaj ridiculous plot holes , furniture chewing acting , gratuitous violence ( \" xxmaj look girls ! xxmaj now you can do it , xxunk ... xxmaj spend the time with your family instead of watching this drek .,xxbos xxmaj one of the joys of picking up the recent xxmaj bela xxmaj lugosi collection is getting to see delightful movies like xxmaj the xxmaj invisible xxmaj ray . xxmaj boris xxmaj karloff and xxmaj bela xxmaj lugosi team up in a movie that delves into meteorites and radiation and while the science is all perfectly absurd ( especially the camera technique xxmaj karloff , as xxmaj janos xxmaj rukh , uses to determine the site of a certain meteorite ) and downright laughable , i did n't care in the lease because the movie is thoroughly enjoyable . xxmaj the effects are done well for the time , the acting is great , and the finish is particularly strong . xxmaj it reminds me of the pulp sci - fi comics and novels of the 1940s and ' 50s , complete with ray guns and ridiculous science . xxmaj you must watch this movie !,xxbos i xxup love xxmaj sandra xxmaj bullock - xxmaj she 's one of my all - time favorite actresses - but this is a movie that she should have paid a long time ago to be trash - canned . i realize that it 's almost 20 years old - but my dead grandmother can act better than these people did . xxmaj beware - it 's not even worth the $ 5.50 walmart rack ... xxmaj you know that when the acting stinks this bad that it 's not even worth a couple of bucks - the sound quality is horrendous - there 's no closed captioning to even hear the hideous dialog , and it looks as if it were filmed on a $ 1.98 budget . i thought that i 'd like to see xxmaj sandra in an early role to see how she evolved as an actress - but xxup yikes is too kind a word to use ...,xxbos xxmaj wow ... just wow . i have never seen a more blatant rip off of xxmaj star xxmaj wars and xxmaj star xxmaj trek in my whole life . xxmaj this movie was made in 1978 , right after the release of xxmaj star xxmaj wars , and a while after xxmaj star xxmaj trek . and it really shows . xxmaj this movie copied everything from lightsabers to phasers , to the cardboard sets . xxmaj but while xxmaj star xxmaj trek was endearing , this was not . \n",
              " \n",
              "  xxmaj now we 're on to movie 15 of our 50 chilling classics and let me just say first of all that xxup this xxup is xxup in xxup the xxup wrong xxup movie xxup pack . xxmaj this xxup obviously should be in the sci - fi pack . xxmaj there is nothing horror movie related about this . xxmaj so xxup why it 's in a horror pack , like \" xxmaj death xxmaj rage \" i have no idea . xxmaj they really have to preview these movies before they put them in the pack . xxmaj at least put the genres together correctly . that would be like putting \" xxmaj abbott and xxmaj costello xxmaj meet the invisible man \" in the xxmaj western box set . xxmaj if i wanted to see sci - fi , i 'd have bought the xxmaj sci - fi pack . \n",
              " \n",
              "  xxmaj another problem with this movie is how it 's titled \" xxmaj war of the xxmaj robots \" . which usually entails that xxmaj robots are fighting each other . xxmaj now there are robots in this movie , but they look so pathetic it 's incredibly amusing . xxmaj every robot looks exactly like a human with a blonde mullet and a silver jumpsuit . xxup fear xxup the xxup robots ! and you do n't even learn that they xxup are robots until halfway into the movie . xxmaj but the robots are n't even the main villains . xxmaj the main villains are these old people . xxmaj yeah . terrifying . if a movie is called \" xxmaj war of the robots \" then i better see robots xxup battling xxup each xxup other ! that 's like me calling the movie \" xxmaj clone xxmaj wars \" \" xxmaj the xxmaj xxunk xxmaj raider battle \" . xxmaj sure they 're in there , but they 're not the main concern . \n",
              " \n",
              "  xxmaj this movie also runs far too long . 100 minutes for a cheap xxmaj star xxmaj wars / xxmaj trek rip off is really overkill . xxmaj none of the characters are endearing , except for the alien . he 's pretty cool . and xxmaj julie 's actually pretty hot . \n",
              " \n",
              "  xxmaj basically a professor and his assistant are kidnapped and it 's up to john ( kirk ripoff ) ( god i hated that guy ) and his crew to save them because apparently the aliens kidnapped at just the wrong time when if the professor 's gone , the city will explode . xxmaj man , talk about your bad timing . xxmaj now in this film , they never really give you the alien 's side of the story . xxmaj they 're meant to seem evil and uncaring , but their reasoning for what they 're doing is n't really evil , they just want to survive . xxmaj however , instead of making the villains more human ( no pun intended ) they cartoonishly xxunk them , not to mention make the professor and the assistant ( lois ) switch sides so many times it incredibly confused me . \n",
              " \n",
              "  xxmaj all this movie made me want to do is watch the real star trek . xxmaj the special effects in this were xxup laughable . xxmaj in star trek at least the projectile showed up on screen as a beam of light . and that was 10 years ago . xxmaj here all they did was have a plastic gun flash a light with some sound effects . and the funny thing is , in the second half in the movie , they xxup forgot to put in the sound effects . xxmaj that 's just sad . xxmaj this movie tried so hard to jump on the bandwagon , but failed so miserably . i would n't have even seen it if it was n't in this box set . xxmaj but i repeat . xxup it xxup shouldn't xxup be xxup in a xxup horror xxup box xxup set ! \" xxmaj war of the xxmaj robots \" gets 2 ripped off \" xxmaj star \" titles , out of 10 .,xxbos xxmaj those people like myself who think xxmaj jennifer xxmaj jason xxmaj leigh is one of the most exciting film actresses in the world have to see this film . xxmaj and what a tour de force her performance is ! xxmaj she dominates nearly every frame , in a totally mesmerising study of a vulnerable and neurotic girl . xxmaj but despite this wonderful job of acting , the film is truly horrible and disgusting . xxmaj it does have the merit of not showing directly the pornography and sexual perversions which are integral to the story , and that is a merciful release . xxmaj these are strongly suggested and glimpsed , but no more . xxmaj that part is subtle . xxmaj but otherwise , this is a ' weirdo horror flick ' with nothing to redeem it other than the fact that xxmaj leigh is in it . xxmaj and this brings us to whether stars should be appearing in things like this just because the acting parts are so meaty . i take the view that xxmaj jodie xxmaj foster and xxmaj anthony xxmaj hopkins should never have made ' xxmaj silence of the xxmaj lambs ' , because by doing so they polluted an already disturbed world . xxmaj similarly , xxmaj leigh should never have made this film , which can only make a lot of weirdos weirder . xxmaj can actors and actresses please restrain themselves from making the world a worse place despite the fact that there is a career advantage in it for them ? xxmaj this utterly revolting tale of sexual violence and perversion has no point . xxmaj we can read about that sort of thing in the newspapers . xxmaj why do we need to waste good celluloid on such things ? xxmaj if people want to watch horror movies , then what is wrong with ghosts ? xxmaj do we really have to have psychotic perverts in so many movies ? xxmaj are n't there enough of them on the streets ? xxmaj these films should not be made , and actors and actresses should refuse to appear in them .\n",
              "y: LMLabelList\n",
              ",,,,\n",
              "Path: /root/.fastai/data/imdb;\n",
              "\n",
              "Test: None, model=SequentialRNN(\n",
              "  (0): AWD_LSTM(\n",
              "    (encoder): Embedding(60003, 400, padding_idx=1)\n",
              "    (encoder_dp): EmbeddingDropout(\n",
              "      (emb): Embedding(60003, 400, padding_idx=1)\n",
              "    )\n",
              "    (rnns): ModuleList(\n",
              "      (0): WeightDropout(\n",
              "        (module): LSTM(400, 1150, batch_first=True)\n",
              "      )\n",
              "      (1): WeightDropout(\n",
              "        (module): LSTM(1150, 1150, batch_first=True)\n",
              "      )\n",
              "      (2): WeightDropout(\n",
              "        (module): LSTM(1150, 400, batch_first=True)\n",
              "      )\n",
              "    )\n",
              "    (input_dp): RNNDropout()\n",
              "    (hidden_dps): ModuleList(\n",
              "      (0): RNNDropout()\n",
              "      (1): RNNDropout()\n",
              "      (2): RNNDropout()\n",
              "    )\n",
              "  )\n",
              "  (1): LinearDecoder(\n",
              "    (decoder): Linear(in_features=400, out_features=60003, bias=True)\n",
              "    (output_dp): RNNDropout()\n",
              "  )\n",
              "), opt_func=functools.partial(<class 'torch.optim.adam.Adam'>, betas=(0.9, 0.99)), loss_func=FlattenedLoss of CrossEntropyLoss(), metrics=[<function accuracy at 0x7f6268742268>], true_wd=True, bn_wd=True, wd=0.01, train_bn=True, path=PosixPath('/root/.fastai/data/imdb'), model_dir='models', callback_fns=[functools.partial(<class 'fastai.basic_train.Recorder'>, add_time=True)], callbacks=[RNNTrainer\n",
              "learn: LanguageLearner(data=TextLMDataBunch;\n",
              "\n",
              "Train: LabelList (90000 items)\n",
              "x: LMTextList\n",
              "xxbos i vowed a long time ago to xxup never , xxup ever watch a movie that has xxup anyone who xxup ever was a regular cast member of \" xxmaj saturday xxmaj night xxmaj live \" . i did n't rent \" xxmaj corky xxmaj romano \" but i was forced by my unfailing good manners to watch it for half an hour . xxmaj then my good manners failed . xxmaj stupid , not funny . xxmaj tedious , not hilarious . xxmaj bad , not good . xxmaj that in a nutshell is all i can say for this video .,xxbos xxmaj the worst kind of film . xxmaj basically , the xxup us xxmaj declaration of xxmaj independence was replaced with a plasma screen and this fooled the museum 's security for several days . xxmaj eh ? \n",
              " \n",
              "  xxmaj the plasma screen that would theoretically run for less than 2 seconds off that watch battery , assuming it had a low enough internal resistance to deliver the required current , which it would n't . \n",
              " \n",
              "  xxmaj it would be possible with a dozen large car batteries and an xxunk , but that system would n't fit into the case . xxmaj sorry to be anal , but this is n't even close to being plausible . xxmaj the rest of the film was n't a great deal better and i 'm left wondering why the budget could n't have been donated to charity or me .,xxbos i firmly believe that the best xxmaj oscar ceremony in recent years was in 2003 for two reasons : \n",
              " \n",
              "  1 ) xxmaj host xxmaj steve xxmaj martin was at his most wittiest : \" i saw the teamsters help xxmaj michael xxmaj moore into the trunk of his limo \" and \" i 'll better not mention the gay mafia in case i wake up with a poodle 's head in my bed \" \n",
              " \n",
              "  2 ) xxmaj surprise winners : xxmaj no one had xxmaj adrien xxmaj brody down for best actor ( xxmaj genuine applause ) or xxmaj roman xxmaj polanski for best director ( xxmaj genuine jeers and boos ) but they won \n",
              " \n",
              "  xxmaj last year 's award ceremony was n't too bad but there was little in the way of surprises and i was happy to see xxup return xxup of xxup the xxup king sweep the awards even if it was n't the best in the trilogy ( xxup fellowship was much better ) but what let the xxup bbc coverage down was xxmaj jonathan xxmaj ross getting a few of his sycophantic mates round and pretending they were hilarious when they were anything but . xxmaj so when i heard xxmaj sky were doing the coverage for xxmaj british xxup tv i was expecting xxmaj barry xxmaj norman and xxmaj mark xxmaj xxunk to be doing the links , but instead we ended up with xxmaj jamie xxmaj xxunk and xxmaj sharon xxmaj osbourne ! xxmaj oh gawd if xxmaj british xxup tv are desperate for film critics ( xxmaj obviously they are ) i 'm sure both xxmaj bob xxmaj the xxmaj moo and xxmaj theo xxmaj robertson will happily fly over to xxup la to give their honest opinions on the winners and losers \n",
              " \n",
              "  xxmaj chris xxmaj rock was n't too bad , but he 's no xxmaj steve xxmaj martin while the location seemed to resemble a sports hall with seats put in ! xxmaj not much of a glitzy arena in my opinion . xxmaj the main problem i had with the ceremony was the format with the \" minor \" xxmaj oscars handed out to the winners who were sitting in their seats ! xxmaj there 's no such thing as a \" minor \" xxmaj oscar and just because the award is for xxmaj best xxmaj animated xxmaj short or xxmaj best xxmaj costume xxmaj design they 're as well deserved as xxmaj best xxmaj picture or xxmaj best xxmaj director . xxmaj all the winners should be allowed to march up to the podium . xxmaj what a bunch of arrogant snobs the xxmaj academy are becoming and i quite agree with the comments that this format is disgraceful and if it was n't for the surprises this could possibly have been the worst ceremony in history . xxmaj as for the awards themselves \n",
              " \n",
              "  xxmaj best xxmaj supporting xxmaj actress - xxmaj cate xxmaj blanchett . xxmaj no great surprise for a competitive category \n",
              " \n",
              "  xxmaj best xxmaj supporting xxmaj actor - xxmaj morgan xxmaj freeman . xxmaj no real complaints since xxmaj freeman is one of xxmaj america 's greatest living character actors \n",
              " \n",
              "  xxmaj best xxmaj actor - xxmaj jamie xxmaj foxx . xxmaj most predictable award of the night . xxmaj yawn \n",
              " \n",
              "  xxmaj best xxmaj actress - xxmaj hilary xxmaj swank . xxmaj major surprise since everyone thought xxmaj annette xxmaj benning was going to win simply down to academy politics but xxmaj swank did deserve it and gave the best speech of the night \n",
              " \n",
              "  xxmaj best xxmaj director - xxmaj clint xxmaj eastwood . xxmaj major surprise since everyone thought xxmaj scorsese was going to get the award simply because he 'd never won one . xxmaj actually i 'm glad about this because if he did n't deserve it for xxup taxi xxup driver , xxup raging xxup bull or xxup goodfellas he did n't deserve it for xxup the xxup aviator \n",
              " \n",
              "  xxmaj best xxmaj film - xxup million xxup dollar xxup baby . xxmaj again another major surprise since everyone thought the academy would split the awards for best director and best picture while i thought the xxmaj hollywood friendly plot of xxup the xxup aviator would have made it a dead cert for xxmaj best xxmaj picture while xxup xxunk 's controversial subject matter would have turned a lot of voters off \n",
              " \n",
              "  xxmaj what these awards perhaps illustrate is that this year the voters have decided to ignore xxmaj oscar politics and genuinely give out awards to people who deserve it something they have n't done in the past , i mean a xxup beautiful xxup mind beating xxup the xxup fellowship xxup of xxup the xxup ring for gawd 's sake ! xxmaj and long may the academy vote with their heads instead of their hearts,xxbos xxmaj this film was hard to get a hold of , and when i eventually saw it the disappointment was overwhelming . i mean , this is one of the great stories of the twentieth century : an unknown man takes advantage of the unsuspecting airline industry and xxup gets xxup away with millions in ransom without hurting anyone or bungling the attempt . xxmaj with all of this built - in interest , how could anyone make such a lackluster , talk - laden flick of this true - life event . xxmaj while xxmaj williams is always interesting , the screenwriters assumed that the xxup d.b. xxmaj cooper persona was stereotypically heroic like a movie star , s what we get is a type - without any engaging details or insights into the mind of a person daring enough and clever enough to have pulled it off . xxmaj harrold practically steals the movie with her spunk and pure beauty , but the real letdown was in the handling of the plot and the lame direction . xxmaj shame on this film for even existing .,xxbos i knew my summary would get you . xxmaj how is this movie like a xxmaj pet xxmaj rock and xxmaj disco ? ! xxmaj well , unless you lived through the 1970s or 80s , you probably ca n't understand xxup why anyone would like a xxmaj new xxmaj coke or own a xxmaj pet xxmaj rock ( and frankly , at least in the case of xxmaj pet xxmaj rocks , i xxup still do n't understand it completely ) . xxmaj they 're just a couple things that seemed to make sense at the time but really baffle the younger generation . xxmaj the same can be said for xxmaj kay xxmaj kyser and his band . xxmaj at the time ( the 1940s mostly ) , they were very popular and had enough clout that the studio starred them with xxmaj boris xxmaj karloff , xxmaj bela xxmaj lugosi xxup and xxmaj peter xxmaj lorre in this film . xxmaj yet , if you did n't live at that time ( it was well before my time ) , you wonder why anyone liked this sort of \" entertainment \" . xxmaj after all , xxmaj kyser and his band mates are incredibly obnoxious and their humor is very , very broad ( i.e. , unsophisticated and cheesy ) . xxmaj frankly , i could n't stand their antics nor did i appreciate that there were just too many musical numbers in the film . xxmaj because of these factors , the great supporting cast was given a back seat and fans of these actors will probably be disappointed . \n",
              " \n",
              "  xxmaj the film involves xxmaj kyser and the band coming to a mansion where a young lady and her wacky aunt live . xxmaj once there , the bridge is washed out and strange happenings begin . xxmaj eventually , it culminates in some attempts on xxmaj sally 's life and a séance ( of sorts ) . xxmaj it 's all played for laughs -- and it 's really not a horror movie despite the cast . \n",
              " \n",
              "  xxmaj overall , it 's passable entertainment at best . xxmaj as a xxmaj lugosi and xxmaj karloff fan , i sure felt cheated having to watch xxmaj kyser and his knuckleheads .\n",
              "y: LMLabelList\n",
              ",,,,\n",
              "Path: /root/.fastai/data/imdb;\n",
              "\n",
              "Valid: LabelList (10000 items)\n",
              "x: LMTextList\n",
              "xxbos i do n't know what neighborhoods the folks who wrote the rave reviews for this movie live in , but i 'm glad i 'm not there if they do n't comment on the cartoonish - ness of this thing . xxmaj okay , we learn to suspend our disbelief in films like the \" xxmaj die xxmaj hard \" series , but seeing little xxmaj jodie knock off a whole street gang , with a xxmaj glock , as a xxup novice yet ... c'mon . xxmaj all she needed was a bald head and a ripped t - shirt and she would xxup be xxmaj bruce xxmaj willis . \n",
              " \n",
              "  xxmaj apparently , xxmaj jodie being the executive producer blinded her to what a joke and waste of her money this would be . xxmaj or she was living out some kind of fantasy where she is the only blonde and everyone else is a brunette black , or xxmaj hispanic . xxmaj even the dog is black . xxmaj little xxmaj blondie is the only good one and ( except for a xxmaj black police officer ) everyone else in town is some nasty minority out to get her . xxmaj has your fear of your acting talent declined so far that you think the only way you can get noticed is to be the only bright spot ( literally ) on camera in a dark , morose and somber neighborhood / film / cast ? xxmaj apparently she thought she was in the wrong movie ... xxmaj the xxmaj dark xxmaj knight . \n",
              " \n",
              "  xxmaj ridiculous plot holes , furniture chewing acting , gratuitous violence ( \" xxmaj look girls ! xxmaj now you can do it , xxunk ... xxmaj spend the time with your family instead of watching this drek .,xxbos xxmaj one of the joys of picking up the recent xxmaj bela xxmaj lugosi collection is getting to see delightful movies like xxmaj the xxmaj invisible xxmaj ray . xxmaj boris xxmaj karloff and xxmaj bela xxmaj lugosi team up in a movie that delves into meteorites and radiation and while the science is all perfectly absurd ( especially the camera technique xxmaj karloff , as xxmaj janos xxmaj rukh , uses to determine the site of a certain meteorite ) and downright laughable , i did n't care in the lease because the movie is thoroughly enjoyable . xxmaj the effects are done well for the time , the acting is great , and the finish is particularly strong . xxmaj it reminds me of the pulp sci - fi comics and novels of the 1940s and ' 50s , complete with ray guns and ridiculous science . xxmaj you must watch this movie !,xxbos i xxup love xxmaj sandra xxmaj bullock - xxmaj she 's one of my all - time favorite actresses - but this is a movie that she should have paid a long time ago to be trash - canned . i realize that it 's almost 20 years old - but my dead grandmother can act better than these people did . xxmaj beware - it 's not even worth the $ 5.50 walmart rack ... xxmaj you know that when the acting stinks this bad that it 's not even worth a couple of bucks - the sound quality is horrendous - there 's no closed captioning to even hear the hideous dialog , and it looks as if it were filmed on a $ 1.98 budget . i thought that i 'd like to see xxmaj sandra in an early role to see how she evolved as an actress - but xxup yikes is too kind a word to use ...,xxbos xxmaj wow ... just wow . i have never seen a more blatant rip off of xxmaj star xxmaj wars and xxmaj star xxmaj trek in my whole life . xxmaj this movie was made in 1978 , right after the release of xxmaj star xxmaj wars , and a while after xxmaj star xxmaj trek . and it really shows . xxmaj this movie copied everything from lightsabers to phasers , to the cardboard sets . xxmaj but while xxmaj star xxmaj trek was endearing , this was not . \n",
              " \n",
              "  xxmaj now we 're on to movie 15 of our 50 chilling classics and let me just say first of all that xxup this xxup is xxup in xxup the xxup wrong xxup movie xxup pack . xxmaj this xxup obviously should be in the sci - fi pack . xxmaj there is nothing horror movie related about this . xxmaj so xxup why it 's in a horror pack , like \" xxmaj death xxmaj rage \" i have no idea . xxmaj they really have to preview these movies before they put them in the pack . xxmaj at least put the genres together correctly . that would be like putting \" xxmaj abbott and xxmaj costello xxmaj meet the invisible man \" in the xxmaj western box set . xxmaj if i wanted to see sci - fi , i 'd have bought the xxmaj sci - fi pack . \n",
              " \n",
              "  xxmaj another problem with this movie is how it 's titled \" xxmaj war of the xxmaj robots \" . which usually entails that xxmaj robots are fighting each other . xxmaj now there are robots in this movie , but they look so pathetic it 's incredibly amusing . xxmaj every robot looks exactly like a human with a blonde mullet and a silver jumpsuit . xxup fear xxup the xxup robots ! and you do n't even learn that they xxup are robots until halfway into the movie . xxmaj but the robots are n't even the main villains . xxmaj the main villains are these old people . xxmaj yeah . terrifying . if a movie is called \" xxmaj war of the robots \" then i better see robots xxup battling xxup each xxup other ! that 's like me calling the movie \" xxmaj clone xxmaj wars \" \" xxmaj the xxmaj xxunk xxmaj raider battle \" . xxmaj sure they 're in there , but they 're not the main concern . \n",
              " \n",
              "  xxmaj this movie also runs far too long . 100 minutes for a cheap xxmaj star xxmaj wars / xxmaj trek rip off is really overkill . xxmaj none of the characters are endearing , except for the alien . he 's pretty cool . and xxmaj julie 's actually pretty hot . \n",
              " \n",
              "  xxmaj basically a professor and his assistant are kidnapped and it 's up to john ( kirk ripoff ) ( god i hated that guy ) and his crew to save them because apparently the aliens kidnapped at just the wrong time when if the professor 's gone , the city will explode . xxmaj man , talk about your bad timing . xxmaj now in this film , they never really give you the alien 's side of the story . xxmaj they 're meant to seem evil and uncaring , but their reasoning for what they 're doing is n't really evil , they just want to survive . xxmaj however , instead of making the villains more human ( no pun intended ) they cartoonishly xxunk them , not to mention make the professor and the assistant ( lois ) switch sides so many times it incredibly confused me . \n",
              " \n",
              "  xxmaj all this movie made me want to do is watch the real star trek . xxmaj the special effects in this were xxup laughable . xxmaj in star trek at least the projectile showed up on screen as a beam of light . and that was 10 years ago . xxmaj here all they did was have a plastic gun flash a light with some sound effects . and the funny thing is , in the second half in the movie , they xxup forgot to put in the sound effects . xxmaj that 's just sad . xxmaj this movie tried so hard to jump on the bandwagon , but failed so miserably . i would n't have even seen it if it was n't in this box set . xxmaj but i repeat . xxup it xxup shouldn't xxup be xxup in a xxup horror xxup box xxup set ! \" xxmaj war of the xxmaj robots \" gets 2 ripped off \" xxmaj star \" titles , out of 10 .,xxbos xxmaj those people like myself who think xxmaj jennifer xxmaj jason xxmaj leigh is one of the most exciting film actresses in the world have to see this film . xxmaj and what a tour de force her performance is ! xxmaj she dominates nearly every frame , in a totally mesmerising study of a vulnerable and neurotic girl . xxmaj but despite this wonderful job of acting , the film is truly horrible and disgusting . xxmaj it does have the merit of not showing directly the pornography and sexual perversions which are integral to the story , and that is a merciful release . xxmaj these are strongly suggested and glimpsed , but no more . xxmaj that part is subtle . xxmaj but otherwise , this is a ' weirdo horror flick ' with nothing to redeem it other than the fact that xxmaj leigh is in it . xxmaj and this brings us to whether stars should be appearing in things like this just because the acting parts are so meaty . i take the view that xxmaj jodie xxmaj foster and xxmaj anthony xxmaj hopkins should never have made ' xxmaj silence of the xxmaj lambs ' , because by doing so they polluted an already disturbed world . xxmaj similarly , xxmaj leigh should never have made this film , which can only make a lot of weirdos weirder . xxmaj can actors and actresses please restrain themselves from making the world a worse place despite the fact that there is a career advantage in it for them ? xxmaj this utterly revolting tale of sexual violence and perversion has no point . xxmaj we can read about that sort of thing in the newspapers . xxmaj why do we need to waste good celluloid on such things ? xxmaj if people want to watch horror movies , then what is wrong with ghosts ? xxmaj do we really have to have psychotic perverts in so many movies ? xxmaj are n't there enough of them on the streets ? xxmaj these films should not be made , and actors and actresses should refuse to appear in them .\n",
              "y: LMLabelList\n",
              ",,,,\n",
              "Path: /root/.fastai/data/imdb;\n",
              "\n",
              "Test: None, model=SequentialRNN(\n",
              "  (0): AWD_LSTM(\n",
              "    (encoder): Embedding(60003, 400, padding_idx=1)\n",
              "    (encoder_dp): EmbeddingDropout(\n",
              "      (emb): Embedding(60003, 400, padding_idx=1)\n",
              "    )\n",
              "    (rnns): ModuleList(\n",
              "      (0): WeightDropout(\n",
              "        (module): LSTM(400, 1150, batch_first=True)\n",
              "      )\n",
              "      (1): WeightDropout(\n",
              "        (module): LSTM(1150, 1150, batch_first=True)\n",
              "      )\n",
              "      (2): WeightDropout(\n",
              "        (module): LSTM(1150, 400, batch_first=True)\n",
              "      )\n",
              "    )\n",
              "    (input_dp): RNNDropout()\n",
              "    (hidden_dps): ModuleList(\n",
              "      (0): RNNDropout()\n",
              "      (1): RNNDropout()\n",
              "      (2): RNNDropout()\n",
              "    )\n",
              "  )\n",
              "  (1): LinearDecoder(\n",
              "    (decoder): Linear(in_features=400, out_features=60003, bias=True)\n",
              "    (output_dp): RNNDropout()\n",
              "  )\n",
              "), opt_func=functools.partial(<class 'torch.optim.adam.Adam'>, betas=(0.9, 0.99)), loss_func=FlattenedLoss of CrossEntropyLoss(), metrics=[<function accuracy at 0x7f6268742268>], true_wd=True, bn_wd=True, wd=0.01, train_bn=True, path=PosixPath('/root/.fastai/data/imdb'), model_dir='models', callback_fns=[functools.partial(<class 'fastai.basic_train.Recorder'>, add_time=True)], callbacks=[...], layer_groups=[Sequential(\n",
              "  (0): WeightDropout(\n",
              "    (module): LSTM(400, 1150, batch_first=True)\n",
              "  )\n",
              "  (1): RNNDropout()\n",
              "), Sequential(\n",
              "  (0): WeightDropout(\n",
              "    (module): LSTM(1150, 1150, batch_first=True)\n",
              "  )\n",
              "  (1): RNNDropout()\n",
              "), Sequential(\n",
              "  (0): WeightDropout(\n",
              "    (module): LSTM(1150, 400, batch_first=True)\n",
              "  )\n",
              "  (1): RNNDropout()\n",
              "), Sequential(\n",
              "  (0): Embedding(60003, 400, padding_idx=1)\n",
              "  (1): EmbeddingDropout(\n",
              "    (emb): Embedding(60003, 400, padding_idx=1)\n",
              "  )\n",
              "  (2): LinearDecoder(\n",
              "    (decoder): Linear(in_features=400, out_features=60003, bias=True)\n",
              "    (output_dp): RNNDropout()\n",
              "  )\n",
              ")], add_time=True)\n",
              "alpha: 2.0\n",
              "beta: 1.0], layer_groups=[Sequential(\n",
              "  (0): WeightDropout(\n",
              "    (module): LSTM(400, 1150, batch_first=True)\n",
              "  )\n",
              "  (1): RNNDropout()\n",
              "), Sequential(\n",
              "  (0): WeightDropout(\n",
              "    (module): LSTM(1150, 1150, batch_first=True)\n",
              "  )\n",
              "  (1): RNNDropout()\n",
              "), Sequential(\n",
              "  (0): WeightDropout(\n",
              "    (module): LSTM(1150, 400, batch_first=True)\n",
              "  )\n",
              "  (1): RNNDropout()\n",
              "), Sequential(\n",
              "  (0): Embedding(60003, 400, padding_idx=1)\n",
              "  (1): EmbeddingDropout(\n",
              "    (emb): Embedding(60003, 400, padding_idx=1)\n",
              "  )\n",
              "  (2): LinearDecoder(\n",
              "    (decoder): Linear(in_features=400, out_features=60003, bias=True)\n",
              "    (output_dp): RNNDropout()\n",
              "  )\n",
              ")], add_time=True)"
            ]
          },
          "metadata": {
            "tags": []
          },
          "execution_count": 55
        },
        {
          "output_type": "execute_result",
          "data": {
            "text/plain": [
              "LanguageLearner(data=TextLMDataBunch;\n",
              "\n",
              "Train: LabelList (90000 items)\n",
              "x: LMTextList\n",
              "xxbos i vowed a long time ago to xxup never , xxup ever watch a movie that has xxup anyone who xxup ever was a regular cast member of \" xxmaj saturday xxmaj night xxmaj live \" . i did n't rent \" xxmaj corky xxmaj romano \" but i was forced by my unfailing good manners to watch it for half an hour . xxmaj then my good manners failed . xxmaj stupid , not funny . xxmaj tedious , not hilarious . xxmaj bad , not good . xxmaj that in a nutshell is all i can say for this video .,xxbos xxmaj the worst kind of film . xxmaj basically , the xxup us xxmaj declaration of xxmaj independence was replaced with a plasma screen and this fooled the museum 's security for several days . xxmaj eh ? \n",
              " \n",
              "  xxmaj the plasma screen that would theoretically run for less than 2 seconds off that watch battery , assuming it had a low enough internal resistance to deliver the required current , which it would n't . \n",
              " \n",
              "  xxmaj it would be possible with a dozen large car batteries and an xxunk , but that system would n't fit into the case . xxmaj sorry to be anal , but this is n't even close to being plausible . xxmaj the rest of the film was n't a great deal better and i 'm left wondering why the budget could n't have been donated to charity or me .,xxbos i firmly believe that the best xxmaj oscar ceremony in recent years was in 2003 for two reasons : \n",
              " \n",
              "  1 ) xxmaj host xxmaj steve xxmaj martin was at his most wittiest : \" i saw the teamsters help xxmaj michael xxmaj moore into the trunk of his limo \" and \" i 'll better not mention the gay mafia in case i wake up with a poodle 's head in my bed \" \n",
              " \n",
              "  2 ) xxmaj surprise winners : xxmaj no one had xxmaj adrien xxmaj brody down for best actor ( xxmaj genuine applause ) or xxmaj roman xxmaj polanski for best director ( xxmaj genuine jeers and boos ) but they won \n",
              " \n",
              "  xxmaj last year 's award ceremony was n't too bad but there was little in the way of surprises and i was happy to see xxup return xxup of xxup the xxup king sweep the awards even if it was n't the best in the trilogy ( xxup fellowship was much better ) but what let the xxup bbc coverage down was xxmaj jonathan xxmaj ross getting a few of his sycophantic mates round and pretending they were hilarious when they were anything but . xxmaj so when i heard xxmaj sky were doing the coverage for xxmaj british xxup tv i was expecting xxmaj barry xxmaj norman and xxmaj mark xxmaj xxunk to be doing the links , but instead we ended up with xxmaj jamie xxmaj xxunk and xxmaj sharon xxmaj osbourne ! xxmaj oh gawd if xxmaj british xxup tv are desperate for film critics ( xxmaj obviously they are ) i 'm sure both xxmaj bob xxmaj the xxmaj moo and xxmaj theo xxmaj robertson will happily fly over to xxup la to give their honest opinions on the winners and losers \n",
              " \n",
              "  xxmaj chris xxmaj rock was n't too bad , but he 's no xxmaj steve xxmaj martin while the location seemed to resemble a sports hall with seats put in ! xxmaj not much of a glitzy arena in my opinion . xxmaj the main problem i had with the ceremony was the format with the \" minor \" xxmaj oscars handed out to the winners who were sitting in their seats ! xxmaj there 's no such thing as a \" minor \" xxmaj oscar and just because the award is for xxmaj best xxmaj animated xxmaj short or xxmaj best xxmaj costume xxmaj design they 're as well deserved as xxmaj best xxmaj picture or xxmaj best xxmaj director . xxmaj all the winners should be allowed to march up to the podium . xxmaj what a bunch of arrogant snobs the xxmaj academy are becoming and i quite agree with the comments that this format is disgraceful and if it was n't for the surprises this could possibly have been the worst ceremony in history . xxmaj as for the awards themselves \n",
              " \n",
              "  xxmaj best xxmaj supporting xxmaj actress - xxmaj cate xxmaj blanchett . xxmaj no great surprise for a competitive category \n",
              " \n",
              "  xxmaj best xxmaj supporting xxmaj actor - xxmaj morgan xxmaj freeman . xxmaj no real complaints since xxmaj freeman is one of xxmaj america 's greatest living character actors \n",
              " \n",
              "  xxmaj best xxmaj actor - xxmaj jamie xxmaj foxx . xxmaj most predictable award of the night . xxmaj yawn \n",
              " \n",
              "  xxmaj best xxmaj actress - xxmaj hilary xxmaj swank . xxmaj major surprise since everyone thought xxmaj annette xxmaj benning was going to win simply down to academy politics but xxmaj swank did deserve it and gave the best speech of the night \n",
              " \n",
              "  xxmaj best xxmaj director - xxmaj clint xxmaj eastwood . xxmaj major surprise since everyone thought xxmaj scorsese was going to get the award simply because he 'd never won one . xxmaj actually i 'm glad about this because if he did n't deserve it for xxup taxi xxup driver , xxup raging xxup bull or xxup goodfellas he did n't deserve it for xxup the xxup aviator \n",
              " \n",
              "  xxmaj best xxmaj film - xxup million xxup dollar xxup baby . xxmaj again another major surprise since everyone thought the academy would split the awards for best director and best picture while i thought the xxmaj hollywood friendly plot of xxup the xxup aviator would have made it a dead cert for xxmaj best xxmaj picture while xxup xxunk 's controversial subject matter would have turned a lot of voters off \n",
              " \n",
              "  xxmaj what these awards perhaps illustrate is that this year the voters have decided to ignore xxmaj oscar politics and genuinely give out awards to people who deserve it something they have n't done in the past , i mean a xxup beautiful xxup mind beating xxup the xxup fellowship xxup of xxup the xxup ring for gawd 's sake ! xxmaj and long may the academy vote with their heads instead of their hearts,xxbos xxmaj this film was hard to get a hold of , and when i eventually saw it the disappointment was overwhelming . i mean , this is one of the great stories of the twentieth century : an unknown man takes advantage of the unsuspecting airline industry and xxup gets xxup away with millions in ransom without hurting anyone or bungling the attempt . xxmaj with all of this built - in interest , how could anyone make such a lackluster , talk - laden flick of this true - life event . xxmaj while xxmaj williams is always interesting , the screenwriters assumed that the xxup d.b. xxmaj cooper persona was stereotypically heroic like a movie star , s what we get is a type - without any engaging details or insights into the mind of a person daring enough and clever enough to have pulled it off . xxmaj harrold practically steals the movie with her spunk and pure beauty , but the real letdown was in the handling of the plot and the lame direction . xxmaj shame on this film for even existing .,xxbos i knew my summary would get you . xxmaj how is this movie like a xxmaj pet xxmaj rock and xxmaj disco ? ! xxmaj well , unless you lived through the 1970s or 80s , you probably ca n't understand xxup why anyone would like a xxmaj new xxmaj coke or own a xxmaj pet xxmaj rock ( and frankly , at least in the case of xxmaj pet xxmaj rocks , i xxup still do n't understand it completely ) . xxmaj they 're just a couple things that seemed to make sense at the time but really baffle the younger generation . xxmaj the same can be said for xxmaj kay xxmaj kyser and his band . xxmaj at the time ( the 1940s mostly ) , they were very popular and had enough clout that the studio starred them with xxmaj boris xxmaj karloff , xxmaj bela xxmaj lugosi xxup and xxmaj peter xxmaj lorre in this film . xxmaj yet , if you did n't live at that time ( it was well before my time ) , you wonder why anyone liked this sort of \" entertainment \" . xxmaj after all , xxmaj kyser and his band mates are incredibly obnoxious and their humor is very , very broad ( i.e. , unsophisticated and cheesy ) . xxmaj frankly , i could n't stand their antics nor did i appreciate that there were just too many musical numbers in the film . xxmaj because of these factors , the great supporting cast was given a back seat and fans of these actors will probably be disappointed . \n",
              " \n",
              "  xxmaj the film involves xxmaj kyser and the band coming to a mansion where a young lady and her wacky aunt live . xxmaj once there , the bridge is washed out and strange happenings begin . xxmaj eventually , it culminates in some attempts on xxmaj sally 's life and a séance ( of sorts ) . xxmaj it 's all played for laughs -- and it 's really not a horror movie despite the cast . \n",
              " \n",
              "  xxmaj overall , it 's passable entertainment at best . xxmaj as a xxmaj lugosi and xxmaj karloff fan , i sure felt cheated having to watch xxmaj kyser and his knuckleheads .\n",
              "y: LMLabelList\n",
              ",,,,\n",
              "Path: /root/.fastai/data/imdb;\n",
              "\n",
              "Valid: LabelList (10000 items)\n",
              "x: LMTextList\n",
              "xxbos i do n't know what neighborhoods the folks who wrote the rave reviews for this movie live in , but i 'm glad i 'm not there if they do n't comment on the cartoonish - ness of this thing . xxmaj okay , we learn to suspend our disbelief in films like the \" xxmaj die xxmaj hard \" series , but seeing little xxmaj jodie knock off a whole street gang , with a xxmaj glock , as a xxup novice yet ... c'mon . xxmaj all she needed was a bald head and a ripped t - shirt and she would xxup be xxmaj bruce xxmaj willis . \n",
              " \n",
              "  xxmaj apparently , xxmaj jodie being the executive producer blinded her to what a joke and waste of her money this would be . xxmaj or she was living out some kind of fantasy where she is the only blonde and everyone else is a brunette black , or xxmaj hispanic . xxmaj even the dog is black . xxmaj little xxmaj blondie is the only good one and ( except for a xxmaj black police officer ) everyone else in town is some nasty minority out to get her . xxmaj has your fear of your acting talent declined so far that you think the only way you can get noticed is to be the only bright spot ( literally ) on camera in a dark , morose and somber neighborhood / film / cast ? xxmaj apparently she thought she was in the wrong movie ... xxmaj the xxmaj dark xxmaj knight . \n",
              " \n",
              "  xxmaj ridiculous plot holes , furniture chewing acting , gratuitous violence ( \" xxmaj look girls ! xxmaj now you can do it , xxunk ... xxmaj spend the time with your family instead of watching this drek .,xxbos xxmaj one of the joys of picking up the recent xxmaj bela xxmaj lugosi collection is getting to see delightful movies like xxmaj the xxmaj invisible xxmaj ray . xxmaj boris xxmaj karloff and xxmaj bela xxmaj lugosi team up in a movie that delves into meteorites and radiation and while the science is all perfectly absurd ( especially the camera technique xxmaj karloff , as xxmaj janos xxmaj rukh , uses to determine the site of a certain meteorite ) and downright laughable , i did n't care in the lease because the movie is thoroughly enjoyable . xxmaj the effects are done well for the time , the acting is great , and the finish is particularly strong . xxmaj it reminds me of the pulp sci - fi comics and novels of the 1940s and ' 50s , complete with ray guns and ridiculous science . xxmaj you must watch this movie !,xxbos i xxup love xxmaj sandra xxmaj bullock - xxmaj she 's one of my all - time favorite actresses - but this is a movie that she should have paid a long time ago to be trash - canned . i realize that it 's almost 20 years old - but my dead grandmother can act better than these people did . xxmaj beware - it 's not even worth the $ 5.50 walmart rack ... xxmaj you know that when the acting stinks this bad that it 's not even worth a couple of bucks - the sound quality is horrendous - there 's no closed captioning to even hear the hideous dialog , and it looks as if it were filmed on a $ 1.98 budget . i thought that i 'd like to see xxmaj sandra in an early role to see how she evolved as an actress - but xxup yikes is too kind a word to use ...,xxbos xxmaj wow ... just wow . i have never seen a more blatant rip off of xxmaj star xxmaj wars and xxmaj star xxmaj trek in my whole life . xxmaj this movie was made in 1978 , right after the release of xxmaj star xxmaj wars , and a while after xxmaj star xxmaj trek . and it really shows . xxmaj this movie copied everything from lightsabers to phasers , to the cardboard sets . xxmaj but while xxmaj star xxmaj trek was endearing , this was not . \n",
              " \n",
              "  xxmaj now we 're on to movie 15 of our 50 chilling classics and let me just say first of all that xxup this xxup is xxup in xxup the xxup wrong xxup movie xxup pack . xxmaj this xxup obviously should be in the sci - fi pack . xxmaj there is nothing horror movie related about this . xxmaj so xxup why it 's in a horror pack , like \" xxmaj death xxmaj rage \" i have no idea . xxmaj they really have to preview these movies before they put them in the pack . xxmaj at least put the genres together correctly . that would be like putting \" xxmaj abbott and xxmaj costello xxmaj meet the invisible man \" in the xxmaj western box set . xxmaj if i wanted to see sci - fi , i 'd have bought the xxmaj sci - fi pack . \n",
              " \n",
              "  xxmaj another problem with this movie is how it 's titled \" xxmaj war of the xxmaj robots \" . which usually entails that xxmaj robots are fighting each other . xxmaj now there are robots in this movie , but they look so pathetic it 's incredibly amusing . xxmaj every robot looks exactly like a human with a blonde mullet and a silver jumpsuit . xxup fear xxup the xxup robots ! and you do n't even learn that they xxup are robots until halfway into the movie . xxmaj but the robots are n't even the main villains . xxmaj the main villains are these old people . xxmaj yeah . terrifying . if a movie is called \" xxmaj war of the robots \" then i better see robots xxup battling xxup each xxup other ! that 's like me calling the movie \" xxmaj clone xxmaj wars \" \" xxmaj the xxmaj xxunk xxmaj raider battle \" . xxmaj sure they 're in there , but they 're not the main concern . \n",
              " \n",
              "  xxmaj this movie also runs far too long . 100 minutes for a cheap xxmaj star xxmaj wars / xxmaj trek rip off is really overkill . xxmaj none of the characters are endearing , except for the alien . he 's pretty cool . and xxmaj julie 's actually pretty hot . \n",
              " \n",
              "  xxmaj basically a professor and his assistant are kidnapped and it 's up to john ( kirk ripoff ) ( god i hated that guy ) and his crew to save them because apparently the aliens kidnapped at just the wrong time when if the professor 's gone , the city will explode . xxmaj man , talk about your bad timing . xxmaj now in this film , they never really give you the alien 's side of the story . xxmaj they 're meant to seem evil and uncaring , but their reasoning for what they 're doing is n't really evil , they just want to survive . xxmaj however , instead of making the villains more human ( no pun intended ) they cartoonishly xxunk them , not to mention make the professor and the assistant ( lois ) switch sides so many times it incredibly confused me . \n",
              " \n",
              "  xxmaj all this movie made me want to do is watch the real star trek . xxmaj the special effects in this were xxup laughable . xxmaj in star trek at least the projectile showed up on screen as a beam of light . and that was 10 years ago . xxmaj here all they did was have a plastic gun flash a light with some sound effects . and the funny thing is , in the second half in the movie , they xxup forgot to put in the sound effects . xxmaj that 's just sad . xxmaj this movie tried so hard to jump on the bandwagon , but failed so miserably . i would n't have even seen it if it was n't in this box set . xxmaj but i repeat . xxup it xxup shouldn't xxup be xxup in a xxup horror xxup box xxup set ! \" xxmaj war of the xxmaj robots \" gets 2 ripped off \" xxmaj star \" titles , out of 10 .,xxbos xxmaj those people like myself who think xxmaj jennifer xxmaj jason xxmaj leigh is one of the most exciting film actresses in the world have to see this film . xxmaj and what a tour de force her performance is ! xxmaj she dominates nearly every frame , in a totally mesmerising study of a vulnerable and neurotic girl . xxmaj but despite this wonderful job of acting , the film is truly horrible and disgusting . xxmaj it does have the merit of not showing directly the pornography and sexual perversions which are integral to the story , and that is a merciful release . xxmaj these are strongly suggested and glimpsed , but no more . xxmaj that part is subtle . xxmaj but otherwise , this is a ' weirdo horror flick ' with nothing to redeem it other than the fact that xxmaj leigh is in it . xxmaj and this brings us to whether stars should be appearing in things like this just because the acting parts are so meaty . i take the view that xxmaj jodie xxmaj foster and xxmaj anthony xxmaj hopkins should never have made ' xxmaj silence of the xxmaj lambs ' , because by doing so they polluted an already disturbed world . xxmaj similarly , xxmaj leigh should never have made this film , which can only make a lot of weirdos weirder . xxmaj can actors and actresses please restrain themselves from making the world a worse place despite the fact that there is a career advantage in it for them ? xxmaj this utterly revolting tale of sexual violence and perversion has no point . xxmaj we can read about that sort of thing in the newspapers . xxmaj why do we need to waste good celluloid on such things ? xxmaj if people want to watch horror movies , then what is wrong with ghosts ? xxmaj do we really have to have psychotic perverts in so many movies ? xxmaj are n't there enough of them on the streets ? xxmaj these films should not be made , and actors and actresses should refuse to appear in them .\n",
              "y: LMLabelList\n",
              ",,,,\n",
              "Path: /root/.fastai/data/imdb;\n",
              "\n",
              "Test: None, model=SequentialRNN(\n",
              "  (0): AWD_LSTM(\n",
              "    (encoder): Embedding(60003, 400, padding_idx=1)\n",
              "    (encoder_dp): EmbeddingDropout(\n",
              "      (emb): Embedding(60003, 400, padding_idx=1)\n",
              "    )\n",
              "    (rnns): ModuleList(\n",
              "      (0): WeightDropout(\n",
              "        (module): LSTM(400, 1150, batch_first=True)\n",
              "      )\n",
              "      (1): WeightDropout(\n",
              "        (module): LSTM(1150, 1150, batch_first=True)\n",
              "      )\n",
              "      (2): WeightDropout(\n",
              "        (module): LSTM(1150, 400, batch_first=True)\n",
              "      )\n",
              "    )\n",
              "    (input_dp): RNNDropout()\n",
              "    (hidden_dps): ModuleList(\n",
              "      (0): RNNDropout()\n",
              "      (1): RNNDropout()\n",
              "      (2): RNNDropout()\n",
              "    )\n",
              "  )\n",
              "  (1): LinearDecoder(\n",
              "    (decoder): Linear(in_features=400, out_features=60003, bias=True)\n",
              "    (output_dp): RNNDropout()\n",
              "  )\n",
              "), opt_func=functools.partial(<class 'torch.optim.adam.Adam'>, betas=(0.9, 0.99)), loss_func=FlattenedLoss of CrossEntropyLoss(), metrics=[<function accuracy at 0x7f6268742268>], true_wd=True, bn_wd=True, wd=0.01, train_bn=True, path=PosixPath('/root/.fastai/data/imdb'), model_dir='models', callback_fns=[functools.partial(<class 'fastai.basic_train.Recorder'>, add_time=True)], callbacks=[RNNTrainer\n",
              "learn: LanguageLearner(data=TextLMDataBunch;\n",
              "\n",
              "Train: LabelList (90000 items)\n",
              "x: LMTextList\n",
              "xxbos i vowed a long time ago to xxup never , xxup ever watch a movie that has xxup anyone who xxup ever was a regular cast member of \" xxmaj saturday xxmaj night xxmaj live \" . i did n't rent \" xxmaj corky xxmaj romano \" but i was forced by my unfailing good manners to watch it for half an hour . xxmaj then my good manners failed . xxmaj stupid , not funny . xxmaj tedious , not hilarious . xxmaj bad , not good . xxmaj that in a nutshell is all i can say for this video .,xxbos xxmaj the worst kind of film . xxmaj basically , the xxup us xxmaj declaration of xxmaj independence was replaced with a plasma screen and this fooled the museum 's security for several days . xxmaj eh ? \n",
              " \n",
              "  xxmaj the plasma screen that would theoretically run for less than 2 seconds off that watch battery , assuming it had a low enough internal resistance to deliver the required current , which it would n't . \n",
              " \n",
              "  xxmaj it would be possible with a dozen large car batteries and an xxunk , but that system would n't fit into the case . xxmaj sorry to be anal , but this is n't even close to being plausible . xxmaj the rest of the film was n't a great deal better and i 'm left wondering why the budget could n't have been donated to charity or me .,xxbos i firmly believe that the best xxmaj oscar ceremony in recent years was in 2003 for two reasons : \n",
              " \n",
              "  1 ) xxmaj host xxmaj steve xxmaj martin was at his most wittiest : \" i saw the teamsters help xxmaj michael xxmaj moore into the trunk of his limo \" and \" i 'll better not mention the gay mafia in case i wake up with a poodle 's head in my bed \" \n",
              " \n",
              "  2 ) xxmaj surprise winners : xxmaj no one had xxmaj adrien xxmaj brody down for best actor ( xxmaj genuine applause ) or xxmaj roman xxmaj polanski for best director ( xxmaj genuine jeers and boos ) but they won \n",
              " \n",
              "  xxmaj last year 's award ceremony was n't too bad but there was little in the way of surprises and i was happy to see xxup return xxup of xxup the xxup king sweep the awards even if it was n't the best in the trilogy ( xxup fellowship was much better ) but what let the xxup bbc coverage down was xxmaj jonathan xxmaj ross getting a few of his sycophantic mates round and pretending they were hilarious when they were anything but . xxmaj so when i heard xxmaj sky were doing the coverage for xxmaj british xxup tv i was expecting xxmaj barry xxmaj norman and xxmaj mark xxmaj xxunk to be doing the links , but instead we ended up with xxmaj jamie xxmaj xxunk and xxmaj sharon xxmaj osbourne ! xxmaj oh gawd if xxmaj british xxup tv are desperate for film critics ( xxmaj obviously they are ) i 'm sure both xxmaj bob xxmaj the xxmaj moo and xxmaj theo xxmaj robertson will happily fly over to xxup la to give their honest opinions on the winners and losers \n",
              " \n",
              "  xxmaj chris xxmaj rock was n't too bad , but he 's no xxmaj steve xxmaj martin while the location seemed to resemble a sports hall with seats put in ! xxmaj not much of a glitzy arena in my opinion . xxmaj the main problem i had with the ceremony was the format with the \" minor \" xxmaj oscars handed out to the winners who were sitting in their seats ! xxmaj there 's no such thing as a \" minor \" xxmaj oscar and just because the award is for xxmaj best xxmaj animated xxmaj short or xxmaj best xxmaj costume xxmaj design they 're as well deserved as xxmaj best xxmaj picture or xxmaj best xxmaj director . xxmaj all the winners should be allowed to march up to the podium . xxmaj what a bunch of arrogant snobs the xxmaj academy are becoming and i quite agree with the comments that this format is disgraceful and if it was n't for the surprises this could possibly have been the worst ceremony in history . xxmaj as for the awards themselves \n",
              " \n",
              "  xxmaj best xxmaj supporting xxmaj actress - xxmaj cate xxmaj blanchett . xxmaj no great surprise for a competitive category \n",
              " \n",
              "  xxmaj best xxmaj supporting xxmaj actor - xxmaj morgan xxmaj freeman . xxmaj no real complaints since xxmaj freeman is one of xxmaj america 's greatest living character actors \n",
              " \n",
              "  xxmaj best xxmaj actor - xxmaj jamie xxmaj foxx . xxmaj most predictable award of the night . xxmaj yawn \n",
              " \n",
              "  xxmaj best xxmaj actress - xxmaj hilary xxmaj swank . xxmaj major surprise since everyone thought xxmaj annette xxmaj benning was going to win simply down to academy politics but xxmaj swank did deserve it and gave the best speech of the night \n",
              " \n",
              "  xxmaj best xxmaj director - xxmaj clint xxmaj eastwood . xxmaj major surprise since everyone thought xxmaj scorsese was going to get the award simply because he 'd never won one . xxmaj actually i 'm glad about this because if he did n't deserve it for xxup taxi xxup driver , xxup raging xxup bull or xxup goodfellas he did n't deserve it for xxup the xxup aviator \n",
              " \n",
              "  xxmaj best xxmaj film - xxup million xxup dollar xxup baby . xxmaj again another major surprise since everyone thought the academy would split the awards for best director and best picture while i thought the xxmaj hollywood friendly plot of xxup the xxup aviator would have made it a dead cert for xxmaj best xxmaj picture while xxup xxunk 's controversial subject matter would have turned a lot of voters off \n",
              " \n",
              "  xxmaj what these awards perhaps illustrate is that this year the voters have decided to ignore xxmaj oscar politics and genuinely give out awards to people who deserve it something they have n't done in the past , i mean a xxup beautiful xxup mind beating xxup the xxup fellowship xxup of xxup the xxup ring for gawd 's sake ! xxmaj and long may the academy vote with their heads instead of their hearts,xxbos xxmaj this film was hard to get a hold of , and when i eventually saw it the disappointment was overwhelming . i mean , this is one of the great stories of the twentieth century : an unknown man takes advantage of the unsuspecting airline industry and xxup gets xxup away with millions in ransom without hurting anyone or bungling the attempt . xxmaj with all of this built - in interest , how could anyone make such a lackluster , talk - laden flick of this true - life event . xxmaj while xxmaj williams is always interesting , the screenwriters assumed that the xxup d.b. xxmaj cooper persona was stereotypically heroic like a movie star , s what we get is a type - without any engaging details or insights into the mind of a person daring enough and clever enough to have pulled it off . xxmaj harrold practically steals the movie with her spunk and pure beauty , but the real letdown was in the handling of the plot and the lame direction . xxmaj shame on this film for even existing .,xxbos i knew my summary would get you . xxmaj how is this movie like a xxmaj pet xxmaj rock and xxmaj disco ? ! xxmaj well , unless you lived through the 1970s or 80s , you probably ca n't understand xxup why anyone would like a xxmaj new xxmaj coke or own a xxmaj pet xxmaj rock ( and frankly , at least in the case of xxmaj pet xxmaj rocks , i xxup still do n't understand it completely ) . xxmaj they 're just a couple things that seemed to make sense at the time but really baffle the younger generation . xxmaj the same can be said for xxmaj kay xxmaj kyser and his band . xxmaj at the time ( the 1940s mostly ) , they were very popular and had enough clout that the studio starred them with xxmaj boris xxmaj karloff , xxmaj bela xxmaj lugosi xxup and xxmaj peter xxmaj lorre in this film . xxmaj yet , if you did n't live at that time ( it was well before my time ) , you wonder why anyone liked this sort of \" entertainment \" . xxmaj after all , xxmaj kyser and his band mates are incredibly obnoxious and their humor is very , very broad ( i.e. , unsophisticated and cheesy ) . xxmaj frankly , i could n't stand their antics nor did i appreciate that there were just too many musical numbers in the film . xxmaj because of these factors , the great supporting cast was given a back seat and fans of these actors will probably be disappointed . \n",
              " \n",
              "  xxmaj the film involves xxmaj kyser and the band coming to a mansion where a young lady and her wacky aunt live . xxmaj once there , the bridge is washed out and strange happenings begin . xxmaj eventually , it culminates in some attempts on xxmaj sally 's life and a séance ( of sorts ) . xxmaj it 's all played for laughs -- and it 's really not a horror movie despite the cast . \n",
              " \n",
              "  xxmaj overall , it 's passable entertainment at best . xxmaj as a xxmaj lugosi and xxmaj karloff fan , i sure felt cheated having to watch xxmaj kyser and his knuckleheads .\n",
              "y: LMLabelList\n",
              ",,,,\n",
              "Path: /root/.fastai/data/imdb;\n",
              "\n",
              "Valid: LabelList (10000 items)\n",
              "x: LMTextList\n",
              "xxbos i do n't know what neighborhoods the folks who wrote the rave reviews for this movie live in , but i 'm glad i 'm not there if they do n't comment on the cartoonish - ness of this thing . xxmaj okay , we learn to suspend our disbelief in films like the \" xxmaj die xxmaj hard \" series , but seeing little xxmaj jodie knock off a whole street gang , with a xxmaj glock , as a xxup novice yet ... c'mon . xxmaj all she needed was a bald head and a ripped t - shirt and she would xxup be xxmaj bruce xxmaj willis . \n",
              " \n",
              "  xxmaj apparently , xxmaj jodie being the executive producer blinded her to what a joke and waste of her money this would be . xxmaj or she was living out some kind of fantasy where she is the only blonde and everyone else is a brunette black , or xxmaj hispanic . xxmaj even the dog is black . xxmaj little xxmaj blondie is the only good one and ( except for a xxmaj black police officer ) everyone else in town is some nasty minority out to get her . xxmaj has your fear of your acting talent declined so far that you think the only way you can get noticed is to be the only bright spot ( literally ) on camera in a dark , morose and somber neighborhood / film / cast ? xxmaj apparently she thought she was in the wrong movie ... xxmaj the xxmaj dark xxmaj knight . \n",
              " \n",
              "  xxmaj ridiculous plot holes , furniture chewing acting , gratuitous violence ( \" xxmaj look girls ! xxmaj now you can do it , xxunk ... xxmaj spend the time with your family instead of watching this drek .,xxbos xxmaj one of the joys of picking up the recent xxmaj bela xxmaj lugosi collection is getting to see delightful movies like xxmaj the xxmaj invisible xxmaj ray . xxmaj boris xxmaj karloff and xxmaj bela xxmaj lugosi team up in a movie that delves into meteorites and radiation and while the science is all perfectly absurd ( especially the camera technique xxmaj karloff , as xxmaj janos xxmaj rukh , uses to determine the site of a certain meteorite ) and downright laughable , i did n't care in the lease because the movie is thoroughly enjoyable . xxmaj the effects are done well for the time , the acting is great , and the finish is particularly strong . xxmaj it reminds me of the pulp sci - fi comics and novels of the 1940s and ' 50s , complete with ray guns and ridiculous science . xxmaj you must watch this movie !,xxbos i xxup love xxmaj sandra xxmaj bullock - xxmaj she 's one of my all - time favorite actresses - but this is a movie that she should have paid a long time ago to be trash - canned . i realize that it 's almost 20 years old - but my dead grandmother can act better than these people did . xxmaj beware - it 's not even worth the $ 5.50 walmart rack ... xxmaj you know that when the acting stinks this bad that it 's not even worth a couple of bucks - the sound quality is horrendous - there 's no closed captioning to even hear the hideous dialog , and it looks as if it were filmed on a $ 1.98 budget . i thought that i 'd like to see xxmaj sandra in an early role to see how she evolved as an actress - but xxup yikes is too kind a word to use ...,xxbos xxmaj wow ... just wow . i have never seen a more blatant rip off of xxmaj star xxmaj wars and xxmaj star xxmaj trek in my whole life . xxmaj this movie was made in 1978 , right after the release of xxmaj star xxmaj wars , and a while after xxmaj star xxmaj trek . and it really shows . xxmaj this movie copied everything from lightsabers to phasers , to the cardboard sets . xxmaj but while xxmaj star xxmaj trek was endearing , this was not . \n",
              " \n",
              "  xxmaj now we 're on to movie 15 of our 50 chilling classics and let me just say first of all that xxup this xxup is xxup in xxup the xxup wrong xxup movie xxup pack . xxmaj this xxup obviously should be in the sci - fi pack . xxmaj there is nothing horror movie related about this . xxmaj so xxup why it 's in a horror pack , like \" xxmaj death xxmaj rage \" i have no idea . xxmaj they really have to preview these movies before they put them in the pack . xxmaj at least put the genres together correctly . that would be like putting \" xxmaj abbott and xxmaj costello xxmaj meet the invisible man \" in the xxmaj western box set . xxmaj if i wanted to see sci - fi , i 'd have bought the xxmaj sci - fi pack . \n",
              " \n",
              "  xxmaj another problem with this movie is how it 's titled \" xxmaj war of the xxmaj robots \" . which usually entails that xxmaj robots are fighting each other . xxmaj now there are robots in this movie , but they look so pathetic it 's incredibly amusing . xxmaj every robot looks exactly like a human with a blonde mullet and a silver jumpsuit . xxup fear xxup the xxup robots ! and you do n't even learn that they xxup are robots until halfway into the movie . xxmaj but the robots are n't even the main villains . xxmaj the main villains are these old people . xxmaj yeah . terrifying . if a movie is called \" xxmaj war of the robots \" then i better see robots xxup battling xxup each xxup other ! that 's like me calling the movie \" xxmaj clone xxmaj wars \" \" xxmaj the xxmaj xxunk xxmaj raider battle \" . xxmaj sure they 're in there , but they 're not the main concern . \n",
              " \n",
              "  xxmaj this movie also runs far too long . 100 minutes for a cheap xxmaj star xxmaj wars / xxmaj trek rip off is really overkill . xxmaj none of the characters are endearing , except for the alien . he 's pretty cool . and xxmaj julie 's actually pretty hot . \n",
              " \n",
              "  xxmaj basically a professor and his assistant are kidnapped and it 's up to john ( kirk ripoff ) ( god i hated that guy ) and his crew to save them because apparently the aliens kidnapped at just the wrong time when if the professor 's gone , the city will explode . xxmaj man , talk about your bad timing . xxmaj now in this film , they never really give you the alien 's side of the story . xxmaj they 're meant to seem evil and uncaring , but their reasoning for what they 're doing is n't really evil , they just want to survive . xxmaj however , instead of making the villains more human ( no pun intended ) they cartoonishly xxunk them , not to mention make the professor and the assistant ( lois ) switch sides so many times it incredibly confused me . \n",
              " \n",
              "  xxmaj all this movie made me want to do is watch the real star trek . xxmaj the special effects in this were xxup laughable . xxmaj in star trek at least the projectile showed up on screen as a beam of light . and that was 10 years ago . xxmaj here all they did was have a plastic gun flash a light with some sound effects . and the funny thing is , in the second half in the movie , they xxup forgot to put in the sound effects . xxmaj that 's just sad . xxmaj this movie tried so hard to jump on the bandwagon , but failed so miserably . i would n't have even seen it if it was n't in this box set . xxmaj but i repeat . xxup it xxup shouldn't xxup be xxup in a xxup horror xxup box xxup set ! \" xxmaj war of the xxmaj robots \" gets 2 ripped off \" xxmaj star \" titles , out of 10 .,xxbos xxmaj those people like myself who think xxmaj jennifer xxmaj jason xxmaj leigh is one of the most exciting film actresses in the world have to see this film . xxmaj and what a tour de force her performance is ! xxmaj she dominates nearly every frame , in a totally mesmerising study of a vulnerable and neurotic girl . xxmaj but despite this wonderful job of acting , the film is truly horrible and disgusting . xxmaj it does have the merit of not showing directly the pornography and sexual perversions which are integral to the story , and that is a merciful release . xxmaj these are strongly suggested and glimpsed , but no more . xxmaj that part is subtle . xxmaj but otherwise , this is a ' weirdo horror flick ' with nothing to redeem it other than the fact that xxmaj leigh is in it . xxmaj and this brings us to whether stars should be appearing in things like this just because the acting parts are so meaty . i take the view that xxmaj jodie xxmaj foster and xxmaj anthony xxmaj hopkins should never have made ' xxmaj silence of the xxmaj lambs ' , because by doing so they polluted an already disturbed world . xxmaj similarly , xxmaj leigh should never have made this film , which can only make a lot of weirdos weirder . xxmaj can actors and actresses please restrain themselves from making the world a worse place despite the fact that there is a career advantage in it for them ? xxmaj this utterly revolting tale of sexual violence and perversion has no point . xxmaj we can read about that sort of thing in the newspapers . xxmaj why do we need to waste good celluloid on such things ? xxmaj if people want to watch horror movies , then what is wrong with ghosts ? xxmaj do we really have to have psychotic perverts in so many movies ? xxmaj are n't there enough of them on the streets ? xxmaj these films should not be made , and actors and actresses should refuse to appear in them .\n",
              "y: LMLabelList\n",
              ",,,,\n",
              "Path: /root/.fastai/data/imdb;\n",
              "\n",
              "Test: None, model=SequentialRNN(\n",
              "  (0): AWD_LSTM(\n",
              "    (encoder): Embedding(60003, 400, padding_idx=1)\n",
              "    (encoder_dp): EmbeddingDropout(\n",
              "      (emb): Embedding(60003, 400, padding_idx=1)\n",
              "    )\n",
              "    (rnns): ModuleList(\n",
              "      (0): WeightDropout(\n",
              "        (module): LSTM(400, 1150, batch_first=True)\n",
              "      )\n",
              "      (1): WeightDropout(\n",
              "        (module): LSTM(1150, 1150, batch_first=True)\n",
              "      )\n",
              "      (2): WeightDropout(\n",
              "        (module): LSTM(1150, 400, batch_first=True)\n",
              "      )\n",
              "    )\n",
              "    (input_dp): RNNDropout()\n",
              "    (hidden_dps): ModuleList(\n",
              "      (0): RNNDropout()\n",
              "      (1): RNNDropout()\n",
              "      (2): RNNDropout()\n",
              "    )\n",
              "  )\n",
              "  (1): LinearDecoder(\n",
              "    (decoder): Linear(in_features=400, out_features=60003, bias=True)\n",
              "    (output_dp): RNNDropout()\n",
              "  )\n",
              "), opt_func=functools.partial(<class 'torch.optim.adam.Adam'>, betas=(0.9, 0.99)), loss_func=FlattenedLoss of CrossEntropyLoss(), metrics=[<function accuracy at 0x7f6268742268>], true_wd=True, bn_wd=True, wd=0.01, train_bn=True, path=PosixPath('/root/.fastai/data/imdb'), model_dir='models', callback_fns=[functools.partial(<class 'fastai.basic_train.Recorder'>, add_time=True)], callbacks=[...], layer_groups=[Sequential(\n",
              "  (0): WeightDropout(\n",
              "    (module): LSTM(400, 1150, batch_first=True)\n",
              "  )\n",
              "  (1): RNNDropout()\n",
              "), Sequential(\n",
              "  (0): WeightDropout(\n",
              "    (module): LSTM(1150, 1150, batch_first=True)\n",
              "  )\n",
              "  (1): RNNDropout()\n",
              "), Sequential(\n",
              "  (0): WeightDropout(\n",
              "    (module): LSTM(1150, 400, batch_first=True)\n",
              "  )\n",
              "  (1): RNNDropout()\n",
              "), Sequential(\n",
              "  (0): Embedding(60003, 400, padding_idx=1)\n",
              "  (1): EmbeddingDropout(\n",
              "    (emb): Embedding(60003, 400, padding_idx=1)\n",
              "  )\n",
              "  (2): LinearDecoder(\n",
              "    (decoder): Linear(in_features=400, out_features=60003, bias=True)\n",
              "    (output_dp): RNNDropout()\n",
              "  )\n",
              ")], add_time=True)\n",
              "alpha: 2.0\n",
              "beta: 1.0], layer_groups=[Sequential(\n",
              "  (0): WeightDropout(\n",
              "    (module): LSTM(400, 1150, batch_first=True)\n",
              "  )\n",
              "  (1): RNNDropout()\n",
              "), Sequential(\n",
              "  (0): WeightDropout(\n",
              "    (module): LSTM(1150, 1150, batch_first=True)\n",
              "  )\n",
              "  (1): RNNDropout()\n",
              "), Sequential(\n",
              "  (0): WeightDropout(\n",
              "    (module): LSTM(1150, 400, batch_first=True)\n",
              "  )\n",
              "  (1): RNNDropout()\n",
              "), Sequential(\n",
              "  (0): Embedding(60003, 400, padding_idx=1)\n",
              "  (1): EmbeddingDropout(\n",
              "    (emb): Embedding(60003, 400, padding_idx=1)\n",
              "  )\n",
              "  (2): LinearDecoder(\n",
              "    (decoder): Linear(in_features=400, out_features=60003, bias=True)\n",
              "    (output_dp): RNNDropout()\n",
              "  )\n",
              ")], add_time=True)"
            ]
          },
          "metadata": {
            "tags": []
          },
          "execution_count": 55
        }
      ]
    },
    {
      "metadata": {
        "id": "G8XtT0xSydnq",
        "colab_type": "code",
        "colab": {}
      },
      "cell_type": "code",
      "source": [
        "learn.unfreeze()"
      ],
      "execution_count": 0,
      "outputs": []
    },
    {
      "metadata": {
        "id": "SIG2EUMuyja2",
        "colab_type": "code",
        "colab": {
          "base_uri": "https://localhost:8080/",
          "height": 103
        },
        "outputId": "2b320f00-ae7b-49cc-817e-bbd1535e8bfd"
      },
      "cell_type": "code",
      "source": [
        "learn.fit_one_cycle(1, 1e-3, moms=(0.8,0.7))"
      ],
      "execution_count": 57,
      "outputs": [
        {
          "output_type": "display_data",
          "data": {
            "text/html": [
              "Total time: 1:34:19 <p><table border=\"1\" class=\"dataframe\">\n",
              "  <thead>\n",
              "    <tr style=\"text-align: left;\">\n",
              "      <th>epoch</th>\n",
              "      <th>train_loss</th>\n",
              "      <th>valid_loss</th>\n",
              "      <th>accuracy</th>\n",
              "      <th>time</th>\n",
              "    </tr>\n",
              "  </thead>\n",
              "  <tbody>\n",
              "    <tr>\n",
              "      <td>0</td>\n",
              "      <td>3.877043</td>\n",
              "      <td>3.802437</td>\n",
              "      <td>0.321361</td>\n",
              "      <td>1:34:19</td>\n",
              "    </tr>\n",
              "  </tbody>\n",
              "</table>"
            ],
            "text/plain": [
              "<IPython.core.display.HTML object>"
            ]
          },
          "metadata": {
            "tags": []
          }
        }
      ]
    },
    {
      "metadata": {
        "id": "rlqhLGqpkr87",
        "colab_type": "code",
        "colab": {}
      },
      "cell_type": "code",
      "source": [
        "learn.save('fine_tuned')"
      ],
      "execution_count": 0,
      "outputs": []
    },
    {
      "metadata": {
        "id": "gY7BgILakwKN",
        "colab_type": "code",
        "colab": {}
      },
      "cell_type": "code",
      "source": [
        "learn.load('fine_tuned');"
      ],
      "execution_count": 0,
      "outputs": []
    },
    {
      "metadata": {
        "id": "FqxOqHAvlp9o",
        "colab_type": "code",
        "colab": {}
      },
      "cell_type": "code",
      "source": [
        "TEXT = \"I liked this movie because\"\n",
        "N_WORDS = 40\n",
        "N_SENTENCES = 2"
      ],
      "execution_count": 0,
      "outputs": []
    },
    {
      "metadata": {
        "id": "0YUzOxo_lvcl",
        "colab_type": "code",
        "outputId": "e14307e2-d2a9-4714-cfc3-43ceadada3f7",
        "colab": {
          "base_uri": "https://localhost:8080/",
          "height": 176
        }
      },
      "cell_type": "code",
      "source": [
        "print(\"\\n\".join(learn.predict(TEXT, N_WORDS, temperature=0.75) for _ in range(N_SENTENCES)))"
      ],
      "execution_count": 61,
      "outputs": [
        {
          "output_type": "stream",
          "text": [
            "I liked this movie because it made me feel really sad . i see some other reviewer who actually had to see it . It is quite possibly a bit of a guy getting his kicks . \n",
            " \n",
            "  You ca n't help but\n",
            "I liked this movie because it was actually a great movie , and really i sought to see it again and again . This movie was a lot like Sonic Adventures , or Children of the West . i was\n",
            "I liked this movie because it made me feel really sad . i see some other reviewer who actually had to see it . It is quite possibly a bit of a guy getting his kicks . \n",
            " \n",
            "  You ca n't help but\n",
            "I liked this movie because it was actually a great movie , and really i sought to see it again and again . This movie was a lot like Sonic Adventures , or Children of the West . i was\n"
          ],
          "name": "stdout"
        }
      ]
    },
    {
      "metadata": {
        "id": "1yXR0H5tmLtg",
        "colab_type": "code",
        "colab": {}
      },
      "cell_type": "code",
      "source": [
        "learn.save_encoder('fine_tuned_enc')"
      ],
      "execution_count": 0,
      "outputs": []
    },
    {
      "metadata": {
        "id": "lLopxIokmRtg",
        "colab_type": "code",
        "colab": {}
      },
      "cell_type": "code",
      "source": [
        "path = untar_data(URLs.IMDB)"
      ],
      "execution_count": 0,
      "outputs": []
    },
    {
      "metadata": {
        "id": "yXouGo2mmUyv",
        "colab_type": "code",
        "colab": {}
      },
      "cell_type": "code",
      "source": [
        "data_clas = (TextList.from_folder(path, vocab=data_lm.vocab)\n",
        "             #grab all the text files in path\n",
        "             .split_by_folder(valid='test')\n",
        "             #split by train and valid folder (that only keeps 'train' and 'test' so no need to filter)\n",
        "             .label_from_folder(classes=['neg', 'pos'])\n",
        "             #label them all with their folders\n",
        "             .databunch(bs=bs))\n",
        "\n",
        "data_clas.save('data_clas.pkl')"
      ],
      "execution_count": 0,
      "outputs": []
    },
    {
      "metadata": {
        "id": "VPMFTHgpngpZ",
        "colab_type": "code",
        "colab": {}
      },
      "cell_type": "code",
      "source": [
        "data_clas = load_data(path, 'data_clas.pkl', bs=bs)"
      ],
      "execution_count": 0,
      "outputs": []
    },
    {
      "metadata": {
        "id": "I5dGEUG1nkeq",
        "colab_type": "code",
        "outputId": "b0a3bcdf-3b7d-45cb-f1c1-95b287ee7294",
        "colab": {
          "base_uri": "https://localhost:8080/",
          "height": 699
        }
      },
      "cell_type": "code",
      "source": [
        "data_clas.show_batch()"
      ],
      "execution_count": 66,
      "outputs": [
        {
          "output_type": "display_data",
          "data": {
            "text/html": [
              "<table border=\"1\" class=\"dataframe\">\n",
              "  <thead>\n",
              "    <tr style=\"text-align: right;\">\n",
              "      <th>text</th>\n",
              "      <th>target</th>\n",
              "    </tr>\n",
              "  </thead>\n",
              "  <tbody>\n",
              "    <tr>\n",
              "      <td>xxbos xxmaj match 1 : xxmaj tag xxmaj team xxmaj table xxmaj match xxmaj bubba xxmaj ray and xxmaj spike xxmaj dudley vs xxmaj eddie xxmaj guerrero and xxmaj chris xxmaj benoit xxmaj bubba xxmaj ray and xxmaj spike xxmaj dudley started things off with a xxmaj tag xxmaj team xxmaj table xxmaj match against xxmaj eddie xxmaj guerrero and xxmaj chris xxmaj benoit . xxmaj according to the rules</td>\n",
              "      <td>pos</td>\n",
              "    </tr>\n",
              "    <tr>\n",
              "      <td>xxbos xxmaj by now you 've probably heard a bit about the new xxmaj disney dub of xxmaj miyazaki 's classic film , xxmaj laputa : xxmaj castle xxmaj in xxmaj the xxmaj sky . xxmaj during late summer of 1998 , xxmaj disney released \" xxmaj kiki 's xxmaj delivery xxmaj service \" on video which included a preview of the xxmaj laputa dub saying it was due out</td>\n",
              "      <td>pos</td>\n",
              "    </tr>\n",
              "    <tr>\n",
              "      <td>xxbos xxmaj some have praised _ xxunk _ as a xxmaj disney adventure for adults . i do n't think so -- at least not for thinking adults . \\n \\n  xxmaj this script suggests a beginning as a live - action movie , that struck someone as the type of crap you can not sell to adults anymore . xxmaj the \" crack staff \" of many older</td>\n",
              "      <td>neg</td>\n",
              "    </tr>\n",
              "    <tr>\n",
              "      <td>xxbos xxunk ) is the developing world 's answer to xxmaj silence of the xxmaj lambs . xxmaj where ` xxmaj silence ' terrorized our peace of mind , ` xxmaj citizen ' exhausts and saddens us instead . xxmaj this dramatization of the xxmaj chikatilo case translates rather well , thanks to a xxmaj westernized friendship between two xxmaj rostov cops who become equals . \\n \\n  citizenx</td>\n",
              "      <td>pos</td>\n",
              "    </tr>\n",
              "    <tr>\n",
              "      <td>xxbos xxmaj the freedom of having your own xxmaj sea xxmaj going xxmaj power xxmaj boat , the excitement of going on underwater adventures a rugged , an 's man of an adventurer and xxunk so well endowed ! ) assistants in fine xxmaj bikinis were all definite selling points for \" xxup sea xxup xxunk - 61 ) . \\n \\n  xxmaj just what was the reason for</td>\n",
              "      <td>pos</td>\n",
              "    </tr>\n",
              "  </tbody>\n",
              "</table>"
            ],
            "text/plain": [
              "<IPython.core.display.HTML object>"
            ]
          },
          "metadata": {
            "tags": []
          }
        },
        {
          "output_type": "display_data",
          "data": {
            "text/html": [
              "<table border=\"1\" class=\"dataframe\">\n",
              "  <thead>\n",
              "    <tr style=\"text-align: right;\">\n",
              "      <th>text</th>\n",
              "      <th>target</th>\n",
              "    </tr>\n",
              "  </thead>\n",
              "  <tbody>\n",
              "    <tr>\n",
              "      <td>xxbos xxmaj match 1 : xxmaj tag xxmaj team xxmaj table xxmaj match xxmaj bubba xxmaj ray and xxmaj spike xxmaj dudley vs xxmaj eddie xxmaj guerrero and xxmaj chris xxmaj benoit xxmaj bubba xxmaj ray and xxmaj spike xxmaj dudley started things off with a xxmaj tag xxmaj team xxmaj table xxmaj match against xxmaj eddie xxmaj guerrero and xxmaj chris xxmaj benoit . xxmaj according to the rules</td>\n",
              "      <td>pos</td>\n",
              "    </tr>\n",
              "    <tr>\n",
              "      <td>xxbos xxmaj by now you 've probably heard a bit about the new xxmaj disney dub of xxmaj miyazaki 's classic film , xxmaj laputa : xxmaj castle xxmaj in xxmaj the xxmaj sky . xxmaj during late summer of 1998 , xxmaj disney released \" xxmaj kiki 's xxmaj delivery xxmaj service \" on video which included a preview of the xxmaj laputa dub saying it was due out</td>\n",
              "      <td>pos</td>\n",
              "    </tr>\n",
              "    <tr>\n",
              "      <td>xxbos xxmaj some have praised _ xxunk _ as a xxmaj disney adventure for adults . i do n't think so -- at least not for thinking adults . \\n \\n  xxmaj this script suggests a beginning as a live - action movie , that struck someone as the type of crap you can not sell to adults anymore . xxmaj the \" crack staff \" of many older</td>\n",
              "      <td>neg</td>\n",
              "    </tr>\n",
              "    <tr>\n",
              "      <td>xxbos xxunk ) is the developing world 's answer to xxmaj silence of the xxmaj lambs . xxmaj where ` xxmaj silence ' terrorized our peace of mind , ` xxmaj citizen ' exhausts and saddens us instead . xxmaj this dramatization of the xxmaj chikatilo case translates rather well , thanks to a xxmaj westernized friendship between two xxmaj rostov cops who become equals . \\n \\n  citizenx</td>\n",
              "      <td>pos</td>\n",
              "    </tr>\n",
              "    <tr>\n",
              "      <td>xxbos xxmaj the freedom of having your own xxmaj sea xxmaj going xxmaj power xxmaj boat , the excitement of going on underwater adventures a rugged , an 's man of an adventurer and xxunk so well endowed ! ) assistants in fine xxmaj bikinis were all definite selling points for \" xxup sea xxup xxunk - 61 ) . \\n \\n  xxmaj just what was the reason for</td>\n",
              "      <td>pos</td>\n",
              "    </tr>\n",
              "  </tbody>\n",
              "</table>"
            ],
            "text/plain": [
              "<IPython.core.display.HTML object>"
            ]
          },
          "metadata": {
            "tags": []
          }
        }
      ]
    },
    {
      "metadata": {
        "id": "VFZgFWN1noKu",
        "colab_type": "code",
        "colab": {}
      },
      "cell_type": "code",
      "source": [
        "learn = text_classifier_learner(data_clas, AWD_LSTM, drop_mult=0.5)\n",
        "learn.load_encoder('fine_tuned_enc')"
      ],
      "execution_count": 0,
      "outputs": []
    },
    {
      "metadata": {
        "id": "sQg2Z1C9nvJI",
        "colab_type": "code",
        "outputId": "b7be64db-685b-43b6-edb4-7b895a0fac0f",
        "colab": {
          "base_uri": "https://localhost:8080/",
          "height": 52
        }
      },
      "cell_type": "code",
      "source": [
        "learn.lr_find()"
      ],
      "execution_count": 68,
      "outputs": [
        {
          "output_type": "display_data",
          "data": {
            "text/html": [
              ""
            ],
            "text/plain": [
              "<IPython.core.display.HTML object>"
            ]
          },
          "metadata": {
            "tags": []
          }
        },
        {
          "output_type": "stream",
          "text": [
            "LR Finder is complete, type {learner_name}.recorder.plot() to see the graph.\n",
            "LR Finder is complete, type {learner_name}.recorder.plot() to see the graph.\n"
          ],
          "name": "stdout"
        }
      ]
    },
    {
      "metadata": {
        "id": "yaiKf9gcoIPv",
        "colab_type": "code",
        "colab": {}
      },
      "cell_type": "code",
      "source": [
        "learn.recorder.plot()"
      ],
      "execution_count": 0,
      "outputs": []
    },
    {
      "metadata": {
        "id": "fO2K2PAgoMKj",
        "colab_type": "code",
        "outputId": "83cd2e24-d5ac-4134-d2f7-f85c20eb8cf7",
        "colab": {
          "base_uri": "https://localhost:8080/",
          "height": 103
        }
      },
      "cell_type": "code",
      "source": [
        "learn.fit_one_cycle(1, 2e-2, moms=(0.8,0.7))"
      ],
      "execution_count": 70,
      "outputs": [
        {
          "output_type": "display_data",
          "data": {
            "text/html": [
              "Total time: 11:41 <p><table border=\"1\" class=\"dataframe\">\n",
              "  <thead>\n",
              "    <tr style=\"text-align: left;\">\n",
              "      <th>epoch</th>\n",
              "      <th>train_loss</th>\n",
              "      <th>valid_loss</th>\n",
              "      <th>accuracy</th>\n",
              "      <th>time</th>\n",
              "    </tr>\n",
              "  </thead>\n",
              "  <tbody>\n",
              "    <tr>\n",
              "      <td>0</td>\n",
              "      <td>0.352636</td>\n",
              "      <td>0.248236</td>\n",
              "      <td>0.899800</td>\n",
              "      <td>11:41</td>\n",
              "    </tr>\n",
              "  </tbody>\n",
              "</table>"
            ],
            "text/plain": [
              "<IPython.core.display.HTML object>"
            ]
          },
          "metadata": {
            "tags": []
          }
        }
      ]
    },
    {
      "metadata": {
        "id": "Qm89F8uTB_HH",
        "colab_type": "code",
        "colab": {}
      },
      "cell_type": "code",
      "source": [
        "learn.save('first')"
      ],
      "execution_count": 0,
      "outputs": []
    },
    {
      "metadata": {
        "id": "z3MzwNrODMrK",
        "colab_type": "code",
        "colab": {
          "base_uri": "https://localhost:8080/",
          "height": 9657
        },
        "outputId": "02ed8133-284b-43c4-feb4-f81908064fb8"
      },
      "cell_type": "code",
      "source": [
        "learn.load('first')"
      ],
      "execution_count": 72,
      "outputs": [
        {
          "output_type": "execute_result",
          "data": {
            "text/plain": [
              "RNNLearner(data=TextClasDataBunch;\n",
              "\n",
              "Train: LabelList (25000 items)\n",
              "x: TextList\n",
              "xxbos i vowed a long time ago to xxup never , xxup ever watch a movie that has xxup anyone who xxup ever was a regular cast member of \" xxmaj saturday xxmaj night xxmaj live \" . i did n't rent \" xxmaj corky xxmaj romano \" but i was forced by my unfailing good manners to watch it for half an hour . xxmaj then my good manners failed . xxmaj stupid , not funny . xxmaj tedious , not hilarious . xxmaj bad , not good . xxmaj that in a nutshell is all i can say for this video .,xxbos xxmaj the worst kind of film . xxmaj basically , the xxup us xxmaj declaration of xxmaj independence was replaced with a plasma screen and this fooled the museum 's security for several days . xxmaj eh ? \n",
              " \n",
              "  xxmaj the plasma screen that would theoretically run for less than 2 seconds off that watch battery , assuming it had a low enough internal resistance to deliver the required current , which it would n't . \n",
              " \n",
              "  xxmaj it would be possible with a dozen large car batteries and an xxunk , but that system would n't fit into the case . xxmaj sorry to be anal , but this is n't even close to being plausible . xxmaj the rest of the film was n't a great deal better and i 'm left wondering why the budget could n't have been donated to charity or me .,xxbos xxmaj years after the fall of the last of the great corporations , the world has fallen into a new dark age where cyborgs are harvested for their parts . xxmaj cash , a female cyborg , travels to a wasteland doctor to receive news that she is pregnant . xxmaj on the run from xxmaj xxunk ( bounty hunters who hunt cyborgs ) , xxmaj cash tries to find her way to xxmaj xxunk , the mythical refuge for cyborgs . \n",
              " \n",
              "  \" xxmaj cyborg 3 : xxmaj the xxmaj xxunk \" is the third ( & last so far ) entry in the xxup cyborg trilogy . xxmaj the first film was originally planned to be a sequel to xxup masters xxup of xxup the xxup universe , but was quickly rewritten into a standard post - apocalyptic martial - arts fest that became something of a cult classic due to its cheesy action scenes . xxup cyborg 2 : xxup glass xxup shadow was a sequel that actually improved upon its predecessor but was not widely seen ( & was dismissed by those few who saw it as cheap fodder ) . \n",
              " \n",
              "  xxmaj this film , for one thing , tries to be a meld of the first two films ( the first was a cheesy action film while the second was a smart xxmaj cyberpunk story ) but unfortunately falls short on both counts . xxmaj the budget was obviously lower than xxup cyborg 2 , with the film being set in the desert wastelands ( like so many post - apocalyptic action films of the 90s were ) , shot around old industrial buildings to conserve costs . \n",
              " \n",
              "  xxmaj the film 's story centres on a plot device , that of a pregnant cyborg , that is as interesting as it is absurd ( this film is not the first to try that idea ; the anime xxup ova series xxup armitage xxup iii uses it to a greater extent ) . xxmaj but the film falls into the same trap that so many low - budget sci - fi action films fall victim to , in the fact that the snags ( synthetic organisms ) featured are nothing more than androids . xxmaj the visual effects amount to nothing more than prosthetic arms & makeup effects . \n",
              " \n",
              "  xxmaj the acting is pretty standard for this kind of film , with the lead actress ( xxmaj xxunk xxmaj xxunk ) being the single worst performer on display . xxmaj instead of being xxunk at the news she is pregnant , she acts all whiny & sullen . xxmaj her co - stars are much better , xxmaj malcolm mcdowell being the usual gangster type who enlivens the scenes he appears in & xxmaj richard xxmaj lynch has a lot of fun as the chief villain . xxmaj of particular note is xxmaj andrew xxmaj xxunk , playing xxmaj lynch 's right hand man , who would later appear in xxup the xxmaj texas xxup chainsaw xxup massacre remake & its prequel .,xxbos i firmly believe that the best xxmaj oscar ceremony in recent years was in 2003 for two reasons : \n",
              " \n",
              "  1 ) xxmaj host xxmaj steve xxmaj martin was at his most wittiest : \" i saw the teamsters help xxmaj michael xxmaj moore into the trunk of his limo \" and \" i 'll better not mention the gay mafia in case i wake up with a poodle 's head in my bed \" \n",
              " \n",
              "  2 ) xxmaj surprise winners : xxmaj no one had xxmaj adrien xxmaj brody down for best actor ( xxmaj genuine applause ) or xxmaj roman xxmaj polanski for best director ( xxmaj genuine jeers and boos ) but they won \n",
              " \n",
              "  xxmaj last year 's award ceremony was n't too bad but there was little in the way of surprises and i was happy to see xxup return xxup of xxup the xxup king sweep the awards even if it was n't the best in the trilogy ( xxup fellowship was much better ) but what let the xxup bbc coverage down was xxmaj jonathan xxmaj ross getting a few of his sycophantic mates round and pretending they were hilarious when they were anything but . xxmaj so when i heard xxmaj sky were doing the coverage for xxmaj british xxup tv i was expecting xxmaj barry xxmaj norman and xxmaj mark xxmaj xxunk to be doing the links , but instead we ended up with xxmaj jamie xxmaj xxunk and xxmaj sharon xxmaj osbourne ! xxmaj oh gawd if xxmaj british xxup tv are desperate for film critics ( xxmaj obviously they are ) i 'm sure both xxmaj bob xxmaj the xxmaj moo and xxmaj theo xxmaj robertson will happily fly over to xxup la to give their honest opinions on the winners and losers \n",
              " \n",
              "  xxmaj chris xxmaj rock was n't too bad , but he 's no xxmaj steve xxmaj martin while the location seemed to resemble a sports hall with seats put in ! xxmaj not much of a glitzy arena in my opinion . xxmaj the main problem i had with the ceremony was the format with the \" minor \" xxmaj oscars handed out to the winners who were sitting in their seats ! xxmaj there 's no such thing as a \" minor \" xxmaj oscar and just because the award is for xxmaj best xxmaj animated xxmaj short or xxmaj best xxmaj costume xxmaj design they 're as well deserved as xxmaj best xxmaj picture or xxmaj best xxmaj director . xxmaj all the winners should be allowed to march up to the podium . xxmaj what a bunch of arrogant snobs the xxmaj academy are becoming and i quite agree with the comments that this format is disgraceful and if it was n't for the surprises this could possibly have been the worst ceremony in history . xxmaj as for the awards themselves \n",
              " \n",
              "  xxmaj best xxmaj supporting xxmaj actress - xxmaj cate xxmaj blanchett . xxmaj no great surprise for a competitive category \n",
              " \n",
              "  xxmaj best xxmaj supporting xxmaj actor - xxmaj morgan xxmaj freeman . xxmaj no real complaints since xxmaj freeman is one of xxmaj america 's greatest living character actors \n",
              " \n",
              "  xxmaj best xxmaj actor - xxmaj jamie xxmaj foxx . xxmaj most predictable award of the night . xxmaj yawn \n",
              " \n",
              "  xxmaj best xxmaj actress - xxmaj hilary xxmaj swank . xxmaj major surprise since everyone thought xxmaj annette xxmaj benning was going to win simply down to academy politics but xxmaj swank did deserve it and gave the best speech of the night \n",
              " \n",
              "  xxmaj best xxmaj director - xxmaj clint xxmaj eastwood . xxmaj major surprise since everyone thought xxmaj scorsese was going to get the award simply because he 'd never won one . xxmaj actually i 'm glad about this because if he did n't deserve it for xxup taxi xxup driver , xxup raging xxup bull or xxup goodfellas he did n't deserve it for xxup the xxup aviator \n",
              " \n",
              "  xxmaj best xxmaj film - xxup million xxup dollar xxup baby . xxmaj again another major surprise since everyone thought the academy would split the awards for best director and best picture while i thought the xxmaj hollywood friendly plot of xxup the xxup aviator would have made it a dead cert for xxmaj best xxmaj picture while xxup xxunk 's controversial subject matter would have turned a lot of voters off \n",
              " \n",
              "  xxmaj what these awards perhaps illustrate is that this year the voters have decided to ignore xxmaj oscar politics and genuinely give out awards to people who deserve it something they have n't done in the past , i mean a xxup beautiful xxup mind beating xxup the xxup fellowship xxup of xxup the xxup ring for gawd 's sake ! xxmaj and long may the academy vote with their heads instead of their hearts,xxbos xxmaj this film was hard to get a hold of , and when i eventually saw it the disappointment was overwhelming . i mean , this is one of the great stories of the twentieth century : an unknown man takes advantage of the unsuspecting airline industry and xxup gets xxup away with millions in ransom without hurting anyone or bungling the attempt . xxmaj with all of this built - in interest , how could anyone make such a lackluster , talk - laden flick of this true - life event . xxmaj while xxmaj williams is always interesting , the screenwriters assumed that the xxup d.b. xxmaj cooper persona was stereotypically heroic like a movie star , s what we get is a type - without any engaging details or insights into the mind of a person daring enough and clever enough to have pulled it off . xxmaj harrold practically steals the movie with her spunk and pure beauty , but the real letdown was in the handling of the plot and the lame direction . xxmaj shame on this film for even existing .\n",
              "y: CategoryList\n",
              "neg,neg,neg,neg,neg\n",
              "Path: /root/.fastai/data/imdb;\n",
              "\n",
              "Valid: LabelList (25000 items)\n",
              "x: TextList\n",
              "xxbos xxmaj oh xxmaj sex xxmaj lives of the xxmaj potato xxmaj men , what foul demon created thee ? xxmaj this is a film that you watch , smirk a little during the runtime and then when you mention it to others having seen it , you just can not help but smile as you talk . xxmaj but it 's not that xxmaj sex xxmaj lives of the xxmaj potato xxmaj men is actually a funny film and one that inspires you to smile when talking or thinking about it , it 's just that the film is so bizarre ; is so insulting and is no shameless in its attempt to get across a meek laugh to do with sex and sex lives in general that you just can not help but have your mouth break out into a grin . xxmaj do bear in mind that what follows the smirk is a sinking of the head ; a consequent shake of the head and a raise of the index finger and thumb to both eyebrows as you gently rub them in an attempt to reminisce about your time watching this trash . \n",
              " \n",
              "  xxmaj but that 's what the film is , it 's trash ; it 's very brave and shameless trash but trash none - the - less . xxmaj whoever came up with this idea , put it to paper and then spread it around the industry trying to get it made must either be very brave or very desperate . xxmaj it 's strange to have a film that is most definitely ' about ' something but one that does not have , under any sort of circumstance , a decisive narrative . xxmaj this follows on from that idea that most of xxmaj european cinema is artistic and its stories are ambiguous and open - ended and themes take precedence over most other things . xxmaj in xxmaj sex xxmaj lives of the xxmaj potato xxmaj men , the same situation and technically the same joke are replayed over and over again and that is an xxunk that consists of : ' sex is a very , very funny thing . ' xxmaj these ideas are perhaps more suited to an xxmaj american film so it 's no wonder that after a while watching this film , things start to feel a little out of sorts . \n",
              " \n",
              "  xxmaj the film begins and ends in the same manner , creating a feeling of a circular journey ; a circular journey that has gone absolutely nowhere and absolutely nothing has been achieved . xxmaj three blokes sit around a table talking and what - not . xxmaj their boss joins them and the conversation is limited to whatever crude and disgusting stories , situations or scenarios each can possibly think of . xxmaj the odd thing here , being that whenever one man says something nasty , the other grimaces but has an equally filthy story to give in return creating a contradiction in what these men find to cross the line and what they do not . xxmaj the men are xxmaj dave ( xxmaj vegas ) and xxmaj ferris ( xxmaj crook ) , two people joined by xxmaj xxunk ( xxmaj coleman ) whenever the film sees fit to throw in a third face to crack some more nasty sex jokes or break some peculiar stories . xxmaj they are employed by xxmaj jeremy ( xxmaj xxunk ) , a man who has deeper issues and problems but issues of which the film is more concerned with exploiting for the sake of humour rather than study . \n",
              " \n",
              "  xxmaj so what 's the situation in xxmaj sex xxmaj lives of the xxmaj potato xxmaj men ? xxmaj the three to four men are in a crisis and for the duration of the film , we will adopt the role of the hapless fly on the wall as we witness what foul play these people get up to over the period of about a week . xxmaj if the humour revolving around xxmaj dave and xxmaj ferris is disgusting and repulsive , then for xxmaj jeremy things are just spooky . xxmaj it all begins rather innocently and it appears there is a female he likes and one who equally likes him in return but when the essence that xxmaj jeremy is merely a stalker creeps in , that 's when the jaws drop . xxmaj the character of xxmaj jeremy is used and put across in a way that makes unrequited love and stalking in general merely look ' funny ' . xxmaj jeremy sits in his apartment listening to classical music and writing out letters of abuse to xxmaj ruth ( xxmaj davis ) , echoing some sort of psychotic persona more associated with xxmaj hannibal xxmaj lecter writing his letter 's to xxmaj clarice in 2001 's xxmaj hannibal . xxmaj but whatever sympathy we might have for him at this point is rendered absolutely false when , later on , it is revealed the true origin of their relationship . xxmaj suddenly , we as an audience feel cheated into feeling a mite sorry for him earlier on and for whatever reason he did do what he did in the first place just seems cowardly and distasteful . xxmaj to say what it was would ruin whatever few surprises lurk within the film . \n",
              " \n",
              "  xxmaj quite sad how , in one of xxmaj jeremy 's letters , he writes about something - or - other exclaiming it to have \" xxmaj no artistic vision  just one big mess \" . i hate it when words said by the characters echo the film they 're in . xxmaj sex xxmaj lives of the xxmaj potato xxmaj men does not explore someone 's psyche or particular interest in a fetish or why they feel the need to go around having as much sex as possible , it just uses them as a front to pile on ridiculously unfunny jokes and situations . xxmaj rather than take group sex and explore what drives a person to seek it down , it makes a daft joke out of it ( tickets with numbers on ! ? ) ; rather than get into the mindset of a fan of xxmaj sadomasochism , the film has someone hang from a basement ceiling and warn everyone of ' incoming salt and vinegar ' as he climaxes . xxmaj ferris covers his face in disgust and the camera fades to the next scene without too much of a fuss . xxmaj it 's a relief the film got to no audiences abroad . xxmaj this is one section of xxmaj british culture , indeed of the xxmaj british mentality that i pray will be confined to our shores and ignored accordingly .,xxbos xxmaj not as bad as 1992 's \" xxmaj nails \" ( where xxmaj hopper plays an \" unstable \" cop ) but pretty bad . xxmaj how can a movie with such a great cast go so wrong ? xxmaj this film manages to find a way . xxmaj the story was pretty stupid and xxmaj hopper 's direction seemed like he had never directed before . xxmaj all of the long shots in the beginning were bothersome . xxmaj lots of meaningless scenes with a lot of meaningless dialogue .,xxbos xxmaj this is a stereotype plot . a young fighter tries to enter a competition when he is not ready and is not selected to represent his fighting school . xxmaj this leads to separation from the fighting school and naturally he finds a strange new master to teach him to fight . \n",
              " \n",
              "  xxmaj the fights are not of high standards . xxmaj they are way too \" simple \" in a way that 1 + 1 is simple to every adult . xxmaj the fighter has trained and enters the ring , but does not do what he trained and gets an ass kicking . xxmaj the coach yells do this and do that with no success . xxmaj and after some more of this ridiculous beating he suddenly does what he is told and hits his opponent once . xxmaj this results in a turning point in the fight , although our hero has been taking a beating of his life up until that point . xxmaj think about the xxmaj rocky movies and you 'll have a good point of reference of how much beating he really takes . xxmaj the fights are also shot poorly . \n",
              " \n",
              "  xxmaj there final thing that screws this film up is the stupid romance . xxmaj cheesy music and awkward moments are not what i call entertainment . \n",
              " \n",
              "  xxmaj these guys really could have made some quality entertainment , but the director was n't up to the task . xxmaj or the other crew in my opinion . xxmaj maybe they had a small budget , i do n't know , but what matters in the end is that this movie is bad and deserves the rating of 3 out of 10 .,xxbos well i 'd probably agree with all the bad comments about this movie cos honestly i thought it was such a piece of crap i mean the actors had done a terrible acting job and the script was all terrible . xxmaj although the special effects was n't a bit bad but i think the should have thought a lot harder than that . i mean how did xxmaj clara xxmaj bryant get successfully put into this film i mean she 'd do a lot better if she looked a bit further and that goes the same with xxmaj kristen honey , i mean her character dies and she does n't bother to try and defend herself i mean it 's got ta be a total joke . xxmaj she should at least do a lot better than what she an do like become a soldier or more of a heroine or something along the lines of bravery . xxmaj but the point is the actors did a complete soulless lousy job and so did the director and the writer who made this film . they should 've went into film school to think up some better ideas and i hope everyone agrees with my methods cos they are probably thinking the same thing .,xxbos xxmaj this is a big disappointment . xxmaj the main problem is the acting . xxmaj xxunk le xxmaj touzel is pretty poor as xxmaj fanny , and the rest are not much better , everybody is very stilted and unnatural . xxmaj also the camerawork is very 1980 's ie cramped and jumpy , compared with the likes of 1995 's xxup p&p , for example . \n",
              " \n",
              "  xxmaj the script is , if anything too faithful to the book , and there are some cringe worthy expressions that should have been cut . \n",
              " \n",
              "  xxmaj in every way this is far inferior to the recent film version , which though it took huge liberties with the book , seemed far more faithful to the spirit of the book and was far more enjoyable .\n",
              "y: CategoryList\n",
              "neg,neg,neg,neg,neg\n",
              "Path: /root/.fastai/data/imdb;\n",
              "\n",
              "Test: None, model=SequentialRNN(\n",
              "  (0): MultiBatchEncoder(\n",
              "    (module): AWD_LSTM(\n",
              "      (encoder): Embedding(60003, 400, padding_idx=1)\n",
              "      (encoder_dp): EmbeddingDropout(\n",
              "        (emb): Embedding(60003, 400, padding_idx=1)\n",
              "      )\n",
              "      (rnns): ModuleList(\n",
              "        (0): WeightDropout(\n",
              "          (module): LSTM(400, 1150, batch_first=True)\n",
              "        )\n",
              "        (1): WeightDropout(\n",
              "          (module): LSTM(1150, 1150, batch_first=True)\n",
              "        )\n",
              "        (2): WeightDropout(\n",
              "          (module): LSTM(1150, 400, batch_first=True)\n",
              "        )\n",
              "      )\n",
              "      (input_dp): RNNDropout()\n",
              "      (hidden_dps): ModuleList(\n",
              "        (0): RNNDropout()\n",
              "        (1): RNNDropout()\n",
              "        (2): RNNDropout()\n",
              "      )\n",
              "    )\n",
              "  )\n",
              "  (1): PoolingLinearClassifier(\n",
              "    (layers): Sequential(\n",
              "      (0): BatchNorm1d(1200, eps=1e-05, momentum=0.1, affine=True, track_running_stats=True)\n",
              "      (1): Dropout(p=0.2)\n",
              "      (2): Linear(in_features=1200, out_features=50, bias=True)\n",
              "      (3): ReLU(inplace)\n",
              "      (4): BatchNorm1d(50, eps=1e-05, momentum=0.1, affine=True, track_running_stats=True)\n",
              "      (5): Dropout(p=0.1)\n",
              "      (6): Linear(in_features=50, out_features=2, bias=True)\n",
              "    )\n",
              "  )\n",
              "), opt_func=functools.partial(<class 'torch.optim.adam.Adam'>, betas=(0.9, 0.99)), loss_func=FlattenedLoss of CrossEntropyLoss(), metrics=[<function accuracy at 0x7f6268742268>], true_wd=True, bn_wd=True, wd=0.01, train_bn=True, path=PosixPath('/root/.fastai/data/imdb'), model_dir='models', callback_fns=[functools.partial(<class 'fastai.basic_train.Recorder'>, add_time=True)], callbacks=[RNNTrainer\n",
              "learn: RNNLearner(data=TextClasDataBunch;\n",
              "\n",
              "Train: LabelList (25000 items)\n",
              "x: TextList\n",
              "xxbos i vowed a long time ago to xxup never , xxup ever watch a movie that has xxup anyone who xxup ever was a regular cast member of \" xxmaj saturday xxmaj night xxmaj live \" . i did n't rent \" xxmaj corky xxmaj romano \" but i was forced by my unfailing good manners to watch it for half an hour . xxmaj then my good manners failed . xxmaj stupid , not funny . xxmaj tedious , not hilarious . xxmaj bad , not good . xxmaj that in a nutshell is all i can say for this video .,xxbos xxmaj the worst kind of film . xxmaj basically , the xxup us xxmaj declaration of xxmaj independence was replaced with a plasma screen and this fooled the museum 's security for several days . xxmaj eh ? \n",
              " \n",
              "  xxmaj the plasma screen that would theoretically run for less than 2 seconds off that watch battery , assuming it had a low enough internal resistance to deliver the required current , which it would n't . \n",
              " \n",
              "  xxmaj it would be possible with a dozen large car batteries and an xxunk , but that system would n't fit into the case . xxmaj sorry to be anal , but this is n't even close to being plausible . xxmaj the rest of the film was n't a great deal better and i 'm left wondering why the budget could n't have been donated to charity or me .,xxbos xxmaj years after the fall of the last of the great corporations , the world has fallen into a new dark age where cyborgs are harvested for their parts . xxmaj cash , a female cyborg , travels to a wasteland doctor to receive news that she is pregnant . xxmaj on the run from xxmaj xxunk ( bounty hunters who hunt cyborgs ) , xxmaj cash tries to find her way to xxmaj xxunk , the mythical refuge for cyborgs . \n",
              " \n",
              "  \" xxmaj cyborg 3 : xxmaj the xxmaj xxunk \" is the third ( & last so far ) entry in the xxup cyborg trilogy . xxmaj the first film was originally planned to be a sequel to xxup masters xxup of xxup the xxup universe , but was quickly rewritten into a standard post - apocalyptic martial - arts fest that became something of a cult classic due to its cheesy action scenes . xxup cyborg 2 : xxup glass xxup shadow was a sequel that actually improved upon its predecessor but was not widely seen ( & was dismissed by those few who saw it as cheap fodder ) . \n",
              " \n",
              "  xxmaj this film , for one thing , tries to be a meld of the first two films ( the first was a cheesy action film while the second was a smart xxmaj cyberpunk story ) but unfortunately falls short on both counts . xxmaj the budget was obviously lower than xxup cyborg 2 , with the film being set in the desert wastelands ( like so many post - apocalyptic action films of the 90s were ) , shot around old industrial buildings to conserve costs . \n",
              " \n",
              "  xxmaj the film 's story centres on a plot device , that of a pregnant cyborg , that is as interesting as it is absurd ( this film is not the first to try that idea ; the anime xxup ova series xxup armitage xxup iii uses it to a greater extent ) . xxmaj but the film falls into the same trap that so many low - budget sci - fi action films fall victim to , in the fact that the snags ( synthetic organisms ) featured are nothing more than androids . xxmaj the visual effects amount to nothing more than prosthetic arms & makeup effects . \n",
              " \n",
              "  xxmaj the acting is pretty standard for this kind of film , with the lead actress ( xxmaj xxunk xxmaj xxunk ) being the single worst performer on display . xxmaj instead of being xxunk at the news she is pregnant , she acts all whiny & sullen . xxmaj her co - stars are much better , xxmaj malcolm mcdowell being the usual gangster type who enlivens the scenes he appears in & xxmaj richard xxmaj lynch has a lot of fun as the chief villain . xxmaj of particular note is xxmaj andrew xxmaj xxunk , playing xxmaj lynch 's right hand man , who would later appear in xxup the xxmaj texas xxup chainsaw xxup massacre remake & its prequel .,xxbos i firmly believe that the best xxmaj oscar ceremony in recent years was in 2003 for two reasons : \n",
              " \n",
              "  1 ) xxmaj host xxmaj steve xxmaj martin was at his most wittiest : \" i saw the teamsters help xxmaj michael xxmaj moore into the trunk of his limo \" and \" i 'll better not mention the gay mafia in case i wake up with a poodle 's head in my bed \" \n",
              " \n",
              "  2 ) xxmaj surprise winners : xxmaj no one had xxmaj adrien xxmaj brody down for best actor ( xxmaj genuine applause ) or xxmaj roman xxmaj polanski for best director ( xxmaj genuine jeers and boos ) but they won \n",
              " \n",
              "  xxmaj last year 's award ceremony was n't too bad but there was little in the way of surprises and i was happy to see xxup return xxup of xxup the xxup king sweep the awards even if it was n't the best in the trilogy ( xxup fellowship was much better ) but what let the xxup bbc coverage down was xxmaj jonathan xxmaj ross getting a few of his sycophantic mates round and pretending they were hilarious when they were anything but . xxmaj so when i heard xxmaj sky were doing the coverage for xxmaj british xxup tv i was expecting xxmaj barry xxmaj norman and xxmaj mark xxmaj xxunk to be doing the links , but instead we ended up with xxmaj jamie xxmaj xxunk and xxmaj sharon xxmaj osbourne ! xxmaj oh gawd if xxmaj british xxup tv are desperate for film critics ( xxmaj obviously they are ) i 'm sure both xxmaj bob xxmaj the xxmaj moo and xxmaj theo xxmaj robertson will happily fly over to xxup la to give their honest opinions on the winners and losers \n",
              " \n",
              "  xxmaj chris xxmaj rock was n't too bad , but he 's no xxmaj steve xxmaj martin while the location seemed to resemble a sports hall with seats put in ! xxmaj not much of a glitzy arena in my opinion . xxmaj the main problem i had with the ceremony was the format with the \" minor \" xxmaj oscars handed out to the winners who were sitting in their seats ! xxmaj there 's no such thing as a \" minor \" xxmaj oscar and just because the award is for xxmaj best xxmaj animated xxmaj short or xxmaj best xxmaj costume xxmaj design they 're as well deserved as xxmaj best xxmaj picture or xxmaj best xxmaj director . xxmaj all the winners should be allowed to march up to the podium . xxmaj what a bunch of arrogant snobs the xxmaj academy are becoming and i quite agree with the comments that this format is disgraceful and if it was n't for the surprises this could possibly have been the worst ceremony in history . xxmaj as for the awards themselves \n",
              " \n",
              "  xxmaj best xxmaj supporting xxmaj actress - xxmaj cate xxmaj blanchett . xxmaj no great surprise for a competitive category \n",
              " \n",
              "  xxmaj best xxmaj supporting xxmaj actor - xxmaj morgan xxmaj freeman . xxmaj no real complaints since xxmaj freeman is one of xxmaj america 's greatest living character actors \n",
              " \n",
              "  xxmaj best xxmaj actor - xxmaj jamie xxmaj foxx . xxmaj most predictable award of the night . xxmaj yawn \n",
              " \n",
              "  xxmaj best xxmaj actress - xxmaj hilary xxmaj swank . xxmaj major surprise since everyone thought xxmaj annette xxmaj benning was going to win simply down to academy politics but xxmaj swank did deserve it and gave the best speech of the night \n",
              " \n",
              "  xxmaj best xxmaj director - xxmaj clint xxmaj eastwood . xxmaj major surprise since everyone thought xxmaj scorsese was going to get the award simply because he 'd never won one . xxmaj actually i 'm glad about this because if he did n't deserve it for xxup taxi xxup driver , xxup raging xxup bull or xxup goodfellas he did n't deserve it for xxup the xxup aviator \n",
              " \n",
              "  xxmaj best xxmaj film - xxup million xxup dollar xxup baby . xxmaj again another major surprise since everyone thought the academy would split the awards for best director and best picture while i thought the xxmaj hollywood friendly plot of xxup the xxup aviator would have made it a dead cert for xxmaj best xxmaj picture while xxup xxunk 's controversial subject matter would have turned a lot of voters off \n",
              " \n",
              "  xxmaj what these awards perhaps illustrate is that this year the voters have decided to ignore xxmaj oscar politics and genuinely give out awards to people who deserve it something they have n't done in the past , i mean a xxup beautiful xxup mind beating xxup the xxup fellowship xxup of xxup the xxup ring for gawd 's sake ! xxmaj and long may the academy vote with their heads instead of their hearts,xxbos xxmaj this film was hard to get a hold of , and when i eventually saw it the disappointment was overwhelming . i mean , this is one of the great stories of the twentieth century : an unknown man takes advantage of the unsuspecting airline industry and xxup gets xxup away with millions in ransom without hurting anyone or bungling the attempt . xxmaj with all of this built - in interest , how could anyone make such a lackluster , talk - laden flick of this true - life event . xxmaj while xxmaj williams is always interesting , the screenwriters assumed that the xxup d.b. xxmaj cooper persona was stereotypically heroic like a movie star , s what we get is a type - without any engaging details or insights into the mind of a person daring enough and clever enough to have pulled it off . xxmaj harrold practically steals the movie with her spunk and pure beauty , but the real letdown was in the handling of the plot and the lame direction . xxmaj shame on this film for even existing .\n",
              "y: CategoryList\n",
              "neg,neg,neg,neg,neg\n",
              "Path: /root/.fastai/data/imdb;\n",
              "\n",
              "Valid: LabelList (25000 items)\n",
              "x: TextList\n",
              "xxbos xxmaj oh xxmaj sex xxmaj lives of the xxmaj potato xxmaj men , what foul demon created thee ? xxmaj this is a film that you watch , smirk a little during the runtime and then when you mention it to others having seen it , you just can not help but smile as you talk . xxmaj but it 's not that xxmaj sex xxmaj lives of the xxmaj potato xxmaj men is actually a funny film and one that inspires you to smile when talking or thinking about it , it 's just that the film is so bizarre ; is so insulting and is no shameless in its attempt to get across a meek laugh to do with sex and sex lives in general that you just can not help but have your mouth break out into a grin . xxmaj do bear in mind that what follows the smirk is a sinking of the head ; a consequent shake of the head and a raise of the index finger and thumb to both eyebrows as you gently rub them in an attempt to reminisce about your time watching this trash . \n",
              " \n",
              "  xxmaj but that 's what the film is , it 's trash ; it 's very brave and shameless trash but trash none - the - less . xxmaj whoever came up with this idea , put it to paper and then spread it around the industry trying to get it made must either be very brave or very desperate . xxmaj it 's strange to have a film that is most definitely ' about ' something but one that does not have , under any sort of circumstance , a decisive narrative . xxmaj this follows on from that idea that most of xxmaj european cinema is artistic and its stories are ambiguous and open - ended and themes take precedence over most other things . xxmaj in xxmaj sex xxmaj lives of the xxmaj potato xxmaj men , the same situation and technically the same joke are replayed over and over again and that is an xxunk that consists of : ' sex is a very , very funny thing . ' xxmaj these ideas are perhaps more suited to an xxmaj american film so it 's no wonder that after a while watching this film , things start to feel a little out of sorts . \n",
              " \n",
              "  xxmaj the film begins and ends in the same manner , creating a feeling of a circular journey ; a circular journey that has gone absolutely nowhere and absolutely nothing has been achieved . xxmaj three blokes sit around a table talking and what - not . xxmaj their boss joins them and the conversation is limited to whatever crude and disgusting stories , situations or scenarios each can possibly think of . xxmaj the odd thing here , being that whenever one man says something nasty , the other grimaces but has an equally filthy story to give in return creating a contradiction in what these men find to cross the line and what they do not . xxmaj the men are xxmaj dave ( xxmaj vegas ) and xxmaj ferris ( xxmaj crook ) , two people joined by xxmaj xxunk ( xxmaj coleman ) whenever the film sees fit to throw in a third face to crack some more nasty sex jokes or break some peculiar stories . xxmaj they are employed by xxmaj jeremy ( xxmaj xxunk ) , a man who has deeper issues and problems but issues of which the film is more concerned with exploiting for the sake of humour rather than study . \n",
              " \n",
              "  xxmaj so what 's the situation in xxmaj sex xxmaj lives of the xxmaj potato xxmaj men ? xxmaj the three to four men are in a crisis and for the duration of the film , we will adopt the role of the hapless fly on the wall as we witness what foul play these people get up to over the period of about a week . xxmaj if the humour revolving around xxmaj dave and xxmaj ferris is disgusting and repulsive , then for xxmaj jeremy things are just spooky . xxmaj it all begins rather innocently and it appears there is a female he likes and one who equally likes him in return but when the essence that xxmaj jeremy is merely a stalker creeps in , that 's when the jaws drop . xxmaj the character of xxmaj jeremy is used and put across in a way that makes unrequited love and stalking in general merely look ' funny ' . xxmaj jeremy sits in his apartment listening to classical music and writing out letters of abuse to xxmaj ruth ( xxmaj davis ) , echoing some sort of psychotic persona more associated with xxmaj hannibal xxmaj lecter writing his letter 's to xxmaj clarice in 2001 's xxmaj hannibal . xxmaj but whatever sympathy we might have for him at this point is rendered absolutely false when , later on , it is revealed the true origin of their relationship . xxmaj suddenly , we as an audience feel cheated into feeling a mite sorry for him earlier on and for whatever reason he did do what he did in the first place just seems cowardly and distasteful . xxmaj to say what it was would ruin whatever few surprises lurk within the film . \n",
              " \n",
              "  xxmaj quite sad how , in one of xxmaj jeremy 's letters , he writes about something - or - other exclaiming it to have \" xxmaj no artistic vision  just one big mess \" . i hate it when words said by the characters echo the film they 're in . xxmaj sex xxmaj lives of the xxmaj potato xxmaj men does not explore someone 's psyche or particular interest in a fetish or why they feel the need to go around having as much sex as possible , it just uses them as a front to pile on ridiculously unfunny jokes and situations . xxmaj rather than take group sex and explore what drives a person to seek it down , it makes a daft joke out of it ( tickets with numbers on ! ? ) ; rather than get into the mindset of a fan of xxmaj sadomasochism , the film has someone hang from a basement ceiling and warn everyone of ' incoming salt and vinegar ' as he climaxes . xxmaj ferris covers his face in disgust and the camera fades to the next scene without too much of a fuss . xxmaj it 's a relief the film got to no audiences abroad . xxmaj this is one section of xxmaj british culture , indeed of the xxmaj british mentality that i pray will be confined to our shores and ignored accordingly .,xxbos xxmaj not as bad as 1992 's \" xxmaj nails \" ( where xxmaj hopper plays an \" unstable \" cop ) but pretty bad . xxmaj how can a movie with such a great cast go so wrong ? xxmaj this film manages to find a way . xxmaj the story was pretty stupid and xxmaj hopper 's direction seemed like he had never directed before . xxmaj all of the long shots in the beginning were bothersome . xxmaj lots of meaningless scenes with a lot of meaningless dialogue .,xxbos xxmaj this is a stereotype plot . a young fighter tries to enter a competition when he is not ready and is not selected to represent his fighting school . xxmaj this leads to separation from the fighting school and naturally he finds a strange new master to teach him to fight . \n",
              " \n",
              "  xxmaj the fights are not of high standards . xxmaj they are way too \" simple \" in a way that 1 + 1 is simple to every adult . xxmaj the fighter has trained and enters the ring , but does not do what he trained and gets an ass kicking . xxmaj the coach yells do this and do that with no success . xxmaj and after some more of this ridiculous beating he suddenly does what he is told and hits his opponent once . xxmaj this results in a turning point in the fight , although our hero has been taking a beating of his life up until that point . xxmaj think about the xxmaj rocky movies and you 'll have a good point of reference of how much beating he really takes . xxmaj the fights are also shot poorly . \n",
              " \n",
              "  xxmaj there final thing that screws this film up is the stupid romance . xxmaj cheesy music and awkward moments are not what i call entertainment . \n",
              " \n",
              "  xxmaj these guys really could have made some quality entertainment , but the director was n't up to the task . xxmaj or the other crew in my opinion . xxmaj maybe they had a small budget , i do n't know , but what matters in the end is that this movie is bad and deserves the rating of 3 out of 10 .,xxbos well i 'd probably agree with all the bad comments about this movie cos honestly i thought it was such a piece of crap i mean the actors had done a terrible acting job and the script was all terrible . xxmaj although the special effects was n't a bit bad but i think the should have thought a lot harder than that . i mean how did xxmaj clara xxmaj bryant get successfully put into this film i mean she 'd do a lot better if she looked a bit further and that goes the same with xxmaj kristen honey , i mean her character dies and she does n't bother to try and defend herself i mean it 's got ta be a total joke . xxmaj she should at least do a lot better than what she an do like become a soldier or more of a heroine or something along the lines of bravery . xxmaj but the point is the actors did a complete soulless lousy job and so did the director and the writer who made this film . they should 've went into film school to think up some better ideas and i hope everyone agrees with my methods cos they are probably thinking the same thing .,xxbos xxmaj this is a big disappointment . xxmaj the main problem is the acting . xxmaj xxunk le xxmaj touzel is pretty poor as xxmaj fanny , and the rest are not much better , everybody is very stilted and unnatural . xxmaj also the camerawork is very 1980 's ie cramped and jumpy , compared with the likes of 1995 's xxup p&p , for example . \n",
              " \n",
              "  xxmaj the script is , if anything too faithful to the book , and there are some cringe worthy expressions that should have been cut . \n",
              " \n",
              "  xxmaj in every way this is far inferior to the recent film version , which though it took huge liberties with the book , seemed far more faithful to the spirit of the book and was far more enjoyable .\n",
              "y: CategoryList\n",
              "neg,neg,neg,neg,neg\n",
              "Path: /root/.fastai/data/imdb;\n",
              "\n",
              "Test: None, model=SequentialRNN(\n",
              "  (0): MultiBatchEncoder(\n",
              "    (module): AWD_LSTM(\n",
              "      (encoder): Embedding(60003, 400, padding_idx=1)\n",
              "      (encoder_dp): EmbeddingDropout(\n",
              "        (emb): Embedding(60003, 400, padding_idx=1)\n",
              "      )\n",
              "      (rnns): ModuleList(\n",
              "        (0): WeightDropout(\n",
              "          (module): LSTM(400, 1150, batch_first=True)\n",
              "        )\n",
              "        (1): WeightDropout(\n",
              "          (module): LSTM(1150, 1150, batch_first=True)\n",
              "        )\n",
              "        (2): WeightDropout(\n",
              "          (module): LSTM(1150, 400, batch_first=True)\n",
              "        )\n",
              "      )\n",
              "      (input_dp): RNNDropout()\n",
              "      (hidden_dps): ModuleList(\n",
              "        (0): RNNDropout()\n",
              "        (1): RNNDropout()\n",
              "        (2): RNNDropout()\n",
              "      )\n",
              "    )\n",
              "  )\n",
              "  (1): PoolingLinearClassifier(\n",
              "    (layers): Sequential(\n",
              "      (0): BatchNorm1d(1200, eps=1e-05, momentum=0.1, affine=True, track_running_stats=True)\n",
              "      (1): Dropout(p=0.2)\n",
              "      (2): Linear(in_features=1200, out_features=50, bias=True)\n",
              "      (3): ReLU(inplace)\n",
              "      (4): BatchNorm1d(50, eps=1e-05, momentum=0.1, affine=True, track_running_stats=True)\n",
              "      (5): Dropout(p=0.1)\n",
              "      (6): Linear(in_features=50, out_features=2, bias=True)\n",
              "    )\n",
              "  )\n",
              "), opt_func=functools.partial(<class 'torch.optim.adam.Adam'>, betas=(0.9, 0.99)), loss_func=FlattenedLoss of CrossEntropyLoss(), metrics=[<function accuracy at 0x7f6268742268>], true_wd=True, bn_wd=True, wd=0.01, train_bn=True, path=PosixPath('/root/.fastai/data/imdb'), model_dir='models', callback_fns=[functools.partial(<class 'fastai.basic_train.Recorder'>, add_time=True)], callbacks=[...], layer_groups=[Sequential(\n",
              "  (0): Embedding(60003, 400, padding_idx=1)\n",
              "  (1): EmbeddingDropout(\n",
              "    (emb): Embedding(60003, 400, padding_idx=1)\n",
              "  )\n",
              "), Sequential(\n",
              "  (0): WeightDropout(\n",
              "    (module): LSTM(400, 1150, batch_first=True)\n",
              "  )\n",
              "  (1): RNNDropout()\n",
              "), Sequential(\n",
              "  (0): WeightDropout(\n",
              "    (module): LSTM(1150, 1150, batch_first=True)\n",
              "  )\n",
              "  (1): RNNDropout()\n",
              "), Sequential(\n",
              "  (0): WeightDropout(\n",
              "    (module): LSTM(1150, 400, batch_first=True)\n",
              "  )\n",
              "  (1): RNNDropout()\n",
              "), Sequential(\n",
              "  (0): PoolingLinearClassifier(\n",
              "    (layers): Sequential(\n",
              "      (0): BatchNorm1d(1200, eps=1e-05, momentum=0.1, affine=True, track_running_stats=True)\n",
              "      (1): Dropout(p=0.2)\n",
              "      (2): Linear(in_features=1200, out_features=50, bias=True)\n",
              "      (3): ReLU(inplace)\n",
              "      (4): BatchNorm1d(50, eps=1e-05, momentum=0.1, affine=True, track_running_stats=True)\n",
              "      (5): Dropout(p=0.1)\n",
              "      (6): Linear(in_features=50, out_features=2, bias=True)\n",
              "    )\n",
              "  )\n",
              ")], add_time=True)\n",
              "alpha: 2.0\n",
              "beta: 1.0], layer_groups=[Sequential(\n",
              "  (0): Embedding(60003, 400, padding_idx=1)\n",
              "  (1): EmbeddingDropout(\n",
              "    (emb): Embedding(60003, 400, padding_idx=1)\n",
              "  )\n",
              "), Sequential(\n",
              "  (0): WeightDropout(\n",
              "    (module): LSTM(400, 1150, batch_first=True)\n",
              "  )\n",
              "  (1): RNNDropout()\n",
              "), Sequential(\n",
              "  (0): WeightDropout(\n",
              "    (module): LSTM(1150, 1150, batch_first=True)\n",
              "  )\n",
              "  (1): RNNDropout()\n",
              "), Sequential(\n",
              "  (0): WeightDropout(\n",
              "    (module): LSTM(1150, 400, batch_first=True)\n",
              "  )\n",
              "  (1): RNNDropout()\n",
              "), Sequential(\n",
              "  (0): PoolingLinearClassifier(\n",
              "    (layers): Sequential(\n",
              "      (0): BatchNorm1d(1200, eps=1e-05, momentum=0.1, affine=True, track_running_stats=True)\n",
              "      (1): Dropout(p=0.2)\n",
              "      (2): Linear(in_features=1200, out_features=50, bias=True)\n",
              "      (3): ReLU(inplace)\n",
              "      (4): BatchNorm1d(50, eps=1e-05, momentum=0.1, affine=True, track_running_stats=True)\n",
              "      (5): Dropout(p=0.1)\n",
              "      (6): Linear(in_features=50, out_features=2, bias=True)\n",
              "    )\n",
              "  )\n",
              ")], add_time=True)"
            ]
          },
          "metadata": {
            "tags": []
          },
          "execution_count": 72
        },
        {
          "output_type": "execute_result",
          "data": {
            "text/plain": [
              "RNNLearner(data=TextClasDataBunch;\n",
              "\n",
              "Train: LabelList (25000 items)\n",
              "x: TextList\n",
              "xxbos i vowed a long time ago to xxup never , xxup ever watch a movie that has xxup anyone who xxup ever was a regular cast member of \" xxmaj saturday xxmaj night xxmaj live \" . i did n't rent \" xxmaj corky xxmaj romano \" but i was forced by my unfailing good manners to watch it for half an hour . xxmaj then my good manners failed . xxmaj stupid , not funny . xxmaj tedious , not hilarious . xxmaj bad , not good . xxmaj that in a nutshell is all i can say for this video .,xxbos xxmaj the worst kind of film . xxmaj basically , the xxup us xxmaj declaration of xxmaj independence was replaced with a plasma screen and this fooled the museum 's security for several days . xxmaj eh ? \n",
              " \n",
              "  xxmaj the plasma screen that would theoretically run for less than 2 seconds off that watch battery , assuming it had a low enough internal resistance to deliver the required current , which it would n't . \n",
              " \n",
              "  xxmaj it would be possible with a dozen large car batteries and an xxunk , but that system would n't fit into the case . xxmaj sorry to be anal , but this is n't even close to being plausible . xxmaj the rest of the film was n't a great deal better and i 'm left wondering why the budget could n't have been donated to charity or me .,xxbos xxmaj years after the fall of the last of the great corporations , the world has fallen into a new dark age where cyborgs are harvested for their parts . xxmaj cash , a female cyborg , travels to a wasteland doctor to receive news that she is pregnant . xxmaj on the run from xxmaj xxunk ( bounty hunters who hunt cyborgs ) , xxmaj cash tries to find her way to xxmaj xxunk , the mythical refuge for cyborgs . \n",
              " \n",
              "  \" xxmaj cyborg 3 : xxmaj the xxmaj xxunk \" is the third ( & last so far ) entry in the xxup cyborg trilogy . xxmaj the first film was originally planned to be a sequel to xxup masters xxup of xxup the xxup universe , but was quickly rewritten into a standard post - apocalyptic martial - arts fest that became something of a cult classic due to its cheesy action scenes . xxup cyborg 2 : xxup glass xxup shadow was a sequel that actually improved upon its predecessor but was not widely seen ( & was dismissed by those few who saw it as cheap fodder ) . \n",
              " \n",
              "  xxmaj this film , for one thing , tries to be a meld of the first two films ( the first was a cheesy action film while the second was a smart xxmaj cyberpunk story ) but unfortunately falls short on both counts . xxmaj the budget was obviously lower than xxup cyborg 2 , with the film being set in the desert wastelands ( like so many post - apocalyptic action films of the 90s were ) , shot around old industrial buildings to conserve costs . \n",
              " \n",
              "  xxmaj the film 's story centres on a plot device , that of a pregnant cyborg , that is as interesting as it is absurd ( this film is not the first to try that idea ; the anime xxup ova series xxup armitage xxup iii uses it to a greater extent ) . xxmaj but the film falls into the same trap that so many low - budget sci - fi action films fall victim to , in the fact that the snags ( synthetic organisms ) featured are nothing more than androids . xxmaj the visual effects amount to nothing more than prosthetic arms & makeup effects . \n",
              " \n",
              "  xxmaj the acting is pretty standard for this kind of film , with the lead actress ( xxmaj xxunk xxmaj xxunk ) being the single worst performer on display . xxmaj instead of being xxunk at the news she is pregnant , she acts all whiny & sullen . xxmaj her co - stars are much better , xxmaj malcolm mcdowell being the usual gangster type who enlivens the scenes he appears in & xxmaj richard xxmaj lynch has a lot of fun as the chief villain . xxmaj of particular note is xxmaj andrew xxmaj xxunk , playing xxmaj lynch 's right hand man , who would later appear in xxup the xxmaj texas xxup chainsaw xxup massacre remake & its prequel .,xxbos i firmly believe that the best xxmaj oscar ceremony in recent years was in 2003 for two reasons : \n",
              " \n",
              "  1 ) xxmaj host xxmaj steve xxmaj martin was at his most wittiest : \" i saw the teamsters help xxmaj michael xxmaj moore into the trunk of his limo \" and \" i 'll better not mention the gay mafia in case i wake up with a poodle 's head in my bed \" \n",
              " \n",
              "  2 ) xxmaj surprise winners : xxmaj no one had xxmaj adrien xxmaj brody down for best actor ( xxmaj genuine applause ) or xxmaj roman xxmaj polanski for best director ( xxmaj genuine jeers and boos ) but they won \n",
              " \n",
              "  xxmaj last year 's award ceremony was n't too bad but there was little in the way of surprises and i was happy to see xxup return xxup of xxup the xxup king sweep the awards even if it was n't the best in the trilogy ( xxup fellowship was much better ) but what let the xxup bbc coverage down was xxmaj jonathan xxmaj ross getting a few of his sycophantic mates round and pretending they were hilarious when they were anything but . xxmaj so when i heard xxmaj sky were doing the coverage for xxmaj british xxup tv i was expecting xxmaj barry xxmaj norman and xxmaj mark xxmaj xxunk to be doing the links , but instead we ended up with xxmaj jamie xxmaj xxunk and xxmaj sharon xxmaj osbourne ! xxmaj oh gawd if xxmaj british xxup tv are desperate for film critics ( xxmaj obviously they are ) i 'm sure both xxmaj bob xxmaj the xxmaj moo and xxmaj theo xxmaj robertson will happily fly over to xxup la to give their honest opinions on the winners and losers \n",
              " \n",
              "  xxmaj chris xxmaj rock was n't too bad , but he 's no xxmaj steve xxmaj martin while the location seemed to resemble a sports hall with seats put in ! xxmaj not much of a glitzy arena in my opinion . xxmaj the main problem i had with the ceremony was the format with the \" minor \" xxmaj oscars handed out to the winners who were sitting in their seats ! xxmaj there 's no such thing as a \" minor \" xxmaj oscar and just because the award is for xxmaj best xxmaj animated xxmaj short or xxmaj best xxmaj costume xxmaj design they 're as well deserved as xxmaj best xxmaj picture or xxmaj best xxmaj director . xxmaj all the winners should be allowed to march up to the podium . xxmaj what a bunch of arrogant snobs the xxmaj academy are becoming and i quite agree with the comments that this format is disgraceful and if it was n't for the surprises this could possibly have been the worst ceremony in history . xxmaj as for the awards themselves \n",
              " \n",
              "  xxmaj best xxmaj supporting xxmaj actress - xxmaj cate xxmaj blanchett . xxmaj no great surprise for a competitive category \n",
              " \n",
              "  xxmaj best xxmaj supporting xxmaj actor - xxmaj morgan xxmaj freeman . xxmaj no real complaints since xxmaj freeman is one of xxmaj america 's greatest living character actors \n",
              " \n",
              "  xxmaj best xxmaj actor - xxmaj jamie xxmaj foxx . xxmaj most predictable award of the night . xxmaj yawn \n",
              " \n",
              "  xxmaj best xxmaj actress - xxmaj hilary xxmaj swank . xxmaj major surprise since everyone thought xxmaj annette xxmaj benning was going to win simply down to academy politics but xxmaj swank did deserve it and gave the best speech of the night \n",
              " \n",
              "  xxmaj best xxmaj director - xxmaj clint xxmaj eastwood . xxmaj major surprise since everyone thought xxmaj scorsese was going to get the award simply because he 'd never won one . xxmaj actually i 'm glad about this because if he did n't deserve it for xxup taxi xxup driver , xxup raging xxup bull or xxup goodfellas he did n't deserve it for xxup the xxup aviator \n",
              " \n",
              "  xxmaj best xxmaj film - xxup million xxup dollar xxup baby . xxmaj again another major surprise since everyone thought the academy would split the awards for best director and best picture while i thought the xxmaj hollywood friendly plot of xxup the xxup aviator would have made it a dead cert for xxmaj best xxmaj picture while xxup xxunk 's controversial subject matter would have turned a lot of voters off \n",
              " \n",
              "  xxmaj what these awards perhaps illustrate is that this year the voters have decided to ignore xxmaj oscar politics and genuinely give out awards to people who deserve it something they have n't done in the past , i mean a xxup beautiful xxup mind beating xxup the xxup fellowship xxup of xxup the xxup ring for gawd 's sake ! xxmaj and long may the academy vote with their heads instead of their hearts,xxbos xxmaj this film was hard to get a hold of , and when i eventually saw it the disappointment was overwhelming . i mean , this is one of the great stories of the twentieth century : an unknown man takes advantage of the unsuspecting airline industry and xxup gets xxup away with millions in ransom without hurting anyone or bungling the attempt . xxmaj with all of this built - in interest , how could anyone make such a lackluster , talk - laden flick of this true - life event . xxmaj while xxmaj williams is always interesting , the screenwriters assumed that the xxup d.b. xxmaj cooper persona was stereotypically heroic like a movie star , s what we get is a type - without any engaging details or insights into the mind of a person daring enough and clever enough to have pulled it off . xxmaj harrold practically steals the movie with her spunk and pure beauty , but the real letdown was in the handling of the plot and the lame direction . xxmaj shame on this film for even existing .\n",
              "y: CategoryList\n",
              "neg,neg,neg,neg,neg\n",
              "Path: /root/.fastai/data/imdb;\n",
              "\n",
              "Valid: LabelList (25000 items)\n",
              "x: TextList\n",
              "xxbos xxmaj oh xxmaj sex xxmaj lives of the xxmaj potato xxmaj men , what foul demon created thee ? xxmaj this is a film that you watch , smirk a little during the runtime and then when you mention it to others having seen it , you just can not help but smile as you talk . xxmaj but it 's not that xxmaj sex xxmaj lives of the xxmaj potato xxmaj men is actually a funny film and one that inspires you to smile when talking or thinking about it , it 's just that the film is so bizarre ; is so insulting and is no shameless in its attempt to get across a meek laugh to do with sex and sex lives in general that you just can not help but have your mouth break out into a grin . xxmaj do bear in mind that what follows the smirk is a sinking of the head ; a consequent shake of the head and a raise of the index finger and thumb to both eyebrows as you gently rub them in an attempt to reminisce about your time watching this trash . \n",
              " \n",
              "  xxmaj but that 's what the film is , it 's trash ; it 's very brave and shameless trash but trash none - the - less . xxmaj whoever came up with this idea , put it to paper and then spread it around the industry trying to get it made must either be very brave or very desperate . xxmaj it 's strange to have a film that is most definitely ' about ' something but one that does not have , under any sort of circumstance , a decisive narrative . xxmaj this follows on from that idea that most of xxmaj european cinema is artistic and its stories are ambiguous and open - ended and themes take precedence over most other things . xxmaj in xxmaj sex xxmaj lives of the xxmaj potato xxmaj men , the same situation and technically the same joke are replayed over and over again and that is an xxunk that consists of : ' sex is a very , very funny thing . ' xxmaj these ideas are perhaps more suited to an xxmaj american film so it 's no wonder that after a while watching this film , things start to feel a little out of sorts . \n",
              " \n",
              "  xxmaj the film begins and ends in the same manner , creating a feeling of a circular journey ; a circular journey that has gone absolutely nowhere and absolutely nothing has been achieved . xxmaj three blokes sit around a table talking and what - not . xxmaj their boss joins them and the conversation is limited to whatever crude and disgusting stories , situations or scenarios each can possibly think of . xxmaj the odd thing here , being that whenever one man says something nasty , the other grimaces but has an equally filthy story to give in return creating a contradiction in what these men find to cross the line and what they do not . xxmaj the men are xxmaj dave ( xxmaj vegas ) and xxmaj ferris ( xxmaj crook ) , two people joined by xxmaj xxunk ( xxmaj coleman ) whenever the film sees fit to throw in a third face to crack some more nasty sex jokes or break some peculiar stories . xxmaj they are employed by xxmaj jeremy ( xxmaj xxunk ) , a man who has deeper issues and problems but issues of which the film is more concerned with exploiting for the sake of humour rather than study . \n",
              " \n",
              "  xxmaj so what 's the situation in xxmaj sex xxmaj lives of the xxmaj potato xxmaj men ? xxmaj the three to four men are in a crisis and for the duration of the film , we will adopt the role of the hapless fly on the wall as we witness what foul play these people get up to over the period of about a week . xxmaj if the humour revolving around xxmaj dave and xxmaj ferris is disgusting and repulsive , then for xxmaj jeremy things are just spooky . xxmaj it all begins rather innocently and it appears there is a female he likes and one who equally likes him in return but when the essence that xxmaj jeremy is merely a stalker creeps in , that 's when the jaws drop . xxmaj the character of xxmaj jeremy is used and put across in a way that makes unrequited love and stalking in general merely look ' funny ' . xxmaj jeremy sits in his apartment listening to classical music and writing out letters of abuse to xxmaj ruth ( xxmaj davis ) , echoing some sort of psychotic persona more associated with xxmaj hannibal xxmaj lecter writing his letter 's to xxmaj clarice in 2001 's xxmaj hannibal . xxmaj but whatever sympathy we might have for him at this point is rendered absolutely false when , later on , it is revealed the true origin of their relationship . xxmaj suddenly , we as an audience feel cheated into feeling a mite sorry for him earlier on and for whatever reason he did do what he did in the first place just seems cowardly and distasteful . xxmaj to say what it was would ruin whatever few surprises lurk within the film . \n",
              " \n",
              "  xxmaj quite sad how , in one of xxmaj jeremy 's letters , he writes about something - or - other exclaiming it to have \" xxmaj no artistic vision  just one big mess \" . i hate it when words said by the characters echo the film they 're in . xxmaj sex xxmaj lives of the xxmaj potato xxmaj men does not explore someone 's psyche or particular interest in a fetish or why they feel the need to go around having as much sex as possible , it just uses them as a front to pile on ridiculously unfunny jokes and situations . xxmaj rather than take group sex and explore what drives a person to seek it down , it makes a daft joke out of it ( tickets with numbers on ! ? ) ; rather than get into the mindset of a fan of xxmaj sadomasochism , the film has someone hang from a basement ceiling and warn everyone of ' incoming salt and vinegar ' as he climaxes . xxmaj ferris covers his face in disgust and the camera fades to the next scene without too much of a fuss . xxmaj it 's a relief the film got to no audiences abroad . xxmaj this is one section of xxmaj british culture , indeed of the xxmaj british mentality that i pray will be confined to our shores and ignored accordingly .,xxbos xxmaj not as bad as 1992 's \" xxmaj nails \" ( where xxmaj hopper plays an \" unstable \" cop ) but pretty bad . xxmaj how can a movie with such a great cast go so wrong ? xxmaj this film manages to find a way . xxmaj the story was pretty stupid and xxmaj hopper 's direction seemed like he had never directed before . xxmaj all of the long shots in the beginning were bothersome . xxmaj lots of meaningless scenes with a lot of meaningless dialogue .,xxbos xxmaj this is a stereotype plot . a young fighter tries to enter a competition when he is not ready and is not selected to represent his fighting school . xxmaj this leads to separation from the fighting school and naturally he finds a strange new master to teach him to fight . \n",
              " \n",
              "  xxmaj the fights are not of high standards . xxmaj they are way too \" simple \" in a way that 1 + 1 is simple to every adult . xxmaj the fighter has trained and enters the ring , but does not do what he trained and gets an ass kicking . xxmaj the coach yells do this and do that with no success . xxmaj and after some more of this ridiculous beating he suddenly does what he is told and hits his opponent once . xxmaj this results in a turning point in the fight , although our hero has been taking a beating of his life up until that point . xxmaj think about the xxmaj rocky movies and you 'll have a good point of reference of how much beating he really takes . xxmaj the fights are also shot poorly . \n",
              " \n",
              "  xxmaj there final thing that screws this film up is the stupid romance . xxmaj cheesy music and awkward moments are not what i call entertainment . \n",
              " \n",
              "  xxmaj these guys really could have made some quality entertainment , but the director was n't up to the task . xxmaj or the other crew in my opinion . xxmaj maybe they had a small budget , i do n't know , but what matters in the end is that this movie is bad and deserves the rating of 3 out of 10 .,xxbos well i 'd probably agree with all the bad comments about this movie cos honestly i thought it was such a piece of crap i mean the actors had done a terrible acting job and the script was all terrible . xxmaj although the special effects was n't a bit bad but i think the should have thought a lot harder than that . i mean how did xxmaj clara xxmaj bryant get successfully put into this film i mean she 'd do a lot better if she looked a bit further and that goes the same with xxmaj kristen honey , i mean her character dies and she does n't bother to try and defend herself i mean it 's got ta be a total joke . xxmaj she should at least do a lot better than what she an do like become a soldier or more of a heroine or something along the lines of bravery . xxmaj but the point is the actors did a complete soulless lousy job and so did the director and the writer who made this film . they should 've went into film school to think up some better ideas and i hope everyone agrees with my methods cos they are probably thinking the same thing .,xxbos xxmaj this is a big disappointment . xxmaj the main problem is the acting . xxmaj xxunk le xxmaj touzel is pretty poor as xxmaj fanny , and the rest are not much better , everybody is very stilted and unnatural . xxmaj also the camerawork is very 1980 's ie cramped and jumpy , compared with the likes of 1995 's xxup p&p , for example . \n",
              " \n",
              "  xxmaj the script is , if anything too faithful to the book , and there are some cringe worthy expressions that should have been cut . \n",
              " \n",
              "  xxmaj in every way this is far inferior to the recent film version , which though it took huge liberties with the book , seemed far more faithful to the spirit of the book and was far more enjoyable .\n",
              "y: CategoryList\n",
              "neg,neg,neg,neg,neg\n",
              "Path: /root/.fastai/data/imdb;\n",
              "\n",
              "Test: None, model=SequentialRNN(\n",
              "  (0): MultiBatchEncoder(\n",
              "    (module): AWD_LSTM(\n",
              "      (encoder): Embedding(60003, 400, padding_idx=1)\n",
              "      (encoder_dp): EmbeddingDropout(\n",
              "        (emb): Embedding(60003, 400, padding_idx=1)\n",
              "      )\n",
              "      (rnns): ModuleList(\n",
              "        (0): WeightDropout(\n",
              "          (module): LSTM(400, 1150, batch_first=True)\n",
              "        )\n",
              "        (1): WeightDropout(\n",
              "          (module): LSTM(1150, 1150, batch_first=True)\n",
              "        )\n",
              "        (2): WeightDropout(\n",
              "          (module): LSTM(1150, 400, batch_first=True)\n",
              "        )\n",
              "      )\n",
              "      (input_dp): RNNDropout()\n",
              "      (hidden_dps): ModuleList(\n",
              "        (0): RNNDropout()\n",
              "        (1): RNNDropout()\n",
              "        (2): RNNDropout()\n",
              "      )\n",
              "    )\n",
              "  )\n",
              "  (1): PoolingLinearClassifier(\n",
              "    (layers): Sequential(\n",
              "      (0): BatchNorm1d(1200, eps=1e-05, momentum=0.1, affine=True, track_running_stats=True)\n",
              "      (1): Dropout(p=0.2)\n",
              "      (2): Linear(in_features=1200, out_features=50, bias=True)\n",
              "      (3): ReLU(inplace)\n",
              "      (4): BatchNorm1d(50, eps=1e-05, momentum=0.1, affine=True, track_running_stats=True)\n",
              "      (5): Dropout(p=0.1)\n",
              "      (6): Linear(in_features=50, out_features=2, bias=True)\n",
              "    )\n",
              "  )\n",
              "), opt_func=functools.partial(<class 'torch.optim.adam.Adam'>, betas=(0.9, 0.99)), loss_func=FlattenedLoss of CrossEntropyLoss(), metrics=[<function accuracy at 0x7f6268742268>], true_wd=True, bn_wd=True, wd=0.01, train_bn=True, path=PosixPath('/root/.fastai/data/imdb'), model_dir='models', callback_fns=[functools.partial(<class 'fastai.basic_train.Recorder'>, add_time=True)], callbacks=[RNNTrainer\n",
              "learn: RNNLearner(data=TextClasDataBunch;\n",
              "\n",
              "Train: LabelList (25000 items)\n",
              "x: TextList\n",
              "xxbos i vowed a long time ago to xxup never , xxup ever watch a movie that has xxup anyone who xxup ever was a regular cast member of \" xxmaj saturday xxmaj night xxmaj live \" . i did n't rent \" xxmaj corky xxmaj romano \" but i was forced by my unfailing good manners to watch it for half an hour . xxmaj then my good manners failed . xxmaj stupid , not funny . xxmaj tedious , not hilarious . xxmaj bad , not good . xxmaj that in a nutshell is all i can say for this video .,xxbos xxmaj the worst kind of film . xxmaj basically , the xxup us xxmaj declaration of xxmaj independence was replaced with a plasma screen and this fooled the museum 's security for several days . xxmaj eh ? \n",
              " \n",
              "  xxmaj the plasma screen that would theoretically run for less than 2 seconds off that watch battery , assuming it had a low enough internal resistance to deliver the required current , which it would n't . \n",
              " \n",
              "  xxmaj it would be possible with a dozen large car batteries and an xxunk , but that system would n't fit into the case . xxmaj sorry to be anal , but this is n't even close to being plausible . xxmaj the rest of the film was n't a great deal better and i 'm left wondering why the budget could n't have been donated to charity or me .,xxbos xxmaj years after the fall of the last of the great corporations , the world has fallen into a new dark age where cyborgs are harvested for their parts . xxmaj cash , a female cyborg , travels to a wasteland doctor to receive news that she is pregnant . xxmaj on the run from xxmaj xxunk ( bounty hunters who hunt cyborgs ) , xxmaj cash tries to find her way to xxmaj xxunk , the mythical refuge for cyborgs . \n",
              " \n",
              "  \" xxmaj cyborg 3 : xxmaj the xxmaj xxunk \" is the third ( & last so far ) entry in the xxup cyborg trilogy . xxmaj the first film was originally planned to be a sequel to xxup masters xxup of xxup the xxup universe , but was quickly rewritten into a standard post - apocalyptic martial - arts fest that became something of a cult classic due to its cheesy action scenes . xxup cyborg 2 : xxup glass xxup shadow was a sequel that actually improved upon its predecessor but was not widely seen ( & was dismissed by those few who saw it as cheap fodder ) . \n",
              " \n",
              "  xxmaj this film , for one thing , tries to be a meld of the first two films ( the first was a cheesy action film while the second was a smart xxmaj cyberpunk story ) but unfortunately falls short on both counts . xxmaj the budget was obviously lower than xxup cyborg 2 , with the film being set in the desert wastelands ( like so many post - apocalyptic action films of the 90s were ) , shot around old industrial buildings to conserve costs . \n",
              " \n",
              "  xxmaj the film 's story centres on a plot device , that of a pregnant cyborg , that is as interesting as it is absurd ( this film is not the first to try that idea ; the anime xxup ova series xxup armitage xxup iii uses it to a greater extent ) . xxmaj but the film falls into the same trap that so many low - budget sci - fi action films fall victim to , in the fact that the snags ( synthetic organisms ) featured are nothing more than androids . xxmaj the visual effects amount to nothing more than prosthetic arms & makeup effects . \n",
              " \n",
              "  xxmaj the acting is pretty standard for this kind of film , with the lead actress ( xxmaj xxunk xxmaj xxunk ) being the single worst performer on display . xxmaj instead of being xxunk at the news she is pregnant , she acts all whiny & sullen . xxmaj her co - stars are much better , xxmaj malcolm mcdowell being the usual gangster type who enlivens the scenes he appears in & xxmaj richard xxmaj lynch has a lot of fun as the chief villain . xxmaj of particular note is xxmaj andrew xxmaj xxunk , playing xxmaj lynch 's right hand man , who would later appear in xxup the xxmaj texas xxup chainsaw xxup massacre remake & its prequel .,xxbos i firmly believe that the best xxmaj oscar ceremony in recent years was in 2003 for two reasons : \n",
              " \n",
              "  1 ) xxmaj host xxmaj steve xxmaj martin was at his most wittiest : \" i saw the teamsters help xxmaj michael xxmaj moore into the trunk of his limo \" and \" i 'll better not mention the gay mafia in case i wake up with a poodle 's head in my bed \" \n",
              " \n",
              "  2 ) xxmaj surprise winners : xxmaj no one had xxmaj adrien xxmaj brody down for best actor ( xxmaj genuine applause ) or xxmaj roman xxmaj polanski for best director ( xxmaj genuine jeers and boos ) but they won \n",
              " \n",
              "  xxmaj last year 's award ceremony was n't too bad but there was little in the way of surprises and i was happy to see xxup return xxup of xxup the xxup king sweep the awards even if it was n't the best in the trilogy ( xxup fellowship was much better ) but what let the xxup bbc coverage down was xxmaj jonathan xxmaj ross getting a few of his sycophantic mates round and pretending they were hilarious when they were anything but . xxmaj so when i heard xxmaj sky were doing the coverage for xxmaj british xxup tv i was expecting xxmaj barry xxmaj norman and xxmaj mark xxmaj xxunk to be doing the links , but instead we ended up with xxmaj jamie xxmaj xxunk and xxmaj sharon xxmaj osbourne ! xxmaj oh gawd if xxmaj british xxup tv are desperate for film critics ( xxmaj obviously they are ) i 'm sure both xxmaj bob xxmaj the xxmaj moo and xxmaj theo xxmaj robertson will happily fly over to xxup la to give their honest opinions on the winners and losers \n",
              " \n",
              "  xxmaj chris xxmaj rock was n't too bad , but he 's no xxmaj steve xxmaj martin while the location seemed to resemble a sports hall with seats put in ! xxmaj not much of a glitzy arena in my opinion . xxmaj the main problem i had with the ceremony was the format with the \" minor \" xxmaj oscars handed out to the winners who were sitting in their seats ! xxmaj there 's no such thing as a \" minor \" xxmaj oscar and just because the award is for xxmaj best xxmaj animated xxmaj short or xxmaj best xxmaj costume xxmaj design they 're as well deserved as xxmaj best xxmaj picture or xxmaj best xxmaj director . xxmaj all the winners should be allowed to march up to the podium . xxmaj what a bunch of arrogant snobs the xxmaj academy are becoming and i quite agree with the comments that this format is disgraceful and if it was n't for the surprises this could possibly have been the worst ceremony in history . xxmaj as for the awards themselves \n",
              " \n",
              "  xxmaj best xxmaj supporting xxmaj actress - xxmaj cate xxmaj blanchett . xxmaj no great surprise for a competitive category \n",
              " \n",
              "  xxmaj best xxmaj supporting xxmaj actor - xxmaj morgan xxmaj freeman . xxmaj no real complaints since xxmaj freeman is one of xxmaj america 's greatest living character actors \n",
              " \n",
              "  xxmaj best xxmaj actor - xxmaj jamie xxmaj foxx . xxmaj most predictable award of the night . xxmaj yawn \n",
              " \n",
              "  xxmaj best xxmaj actress - xxmaj hilary xxmaj swank . xxmaj major surprise since everyone thought xxmaj annette xxmaj benning was going to win simply down to academy politics but xxmaj swank did deserve it and gave the best speech of the night \n",
              " \n",
              "  xxmaj best xxmaj director - xxmaj clint xxmaj eastwood . xxmaj major surprise since everyone thought xxmaj scorsese was going to get the award simply because he 'd never won one . xxmaj actually i 'm glad about this because if he did n't deserve it for xxup taxi xxup driver , xxup raging xxup bull or xxup goodfellas he did n't deserve it for xxup the xxup aviator \n",
              " \n",
              "  xxmaj best xxmaj film - xxup million xxup dollar xxup baby . xxmaj again another major surprise since everyone thought the academy would split the awards for best director and best picture while i thought the xxmaj hollywood friendly plot of xxup the xxup aviator would have made it a dead cert for xxmaj best xxmaj picture while xxup xxunk 's controversial subject matter would have turned a lot of voters off \n",
              " \n",
              "  xxmaj what these awards perhaps illustrate is that this year the voters have decided to ignore xxmaj oscar politics and genuinely give out awards to people who deserve it something they have n't done in the past , i mean a xxup beautiful xxup mind beating xxup the xxup fellowship xxup of xxup the xxup ring for gawd 's sake ! xxmaj and long may the academy vote with their heads instead of their hearts,xxbos xxmaj this film was hard to get a hold of , and when i eventually saw it the disappointment was overwhelming . i mean , this is one of the great stories of the twentieth century : an unknown man takes advantage of the unsuspecting airline industry and xxup gets xxup away with millions in ransom without hurting anyone or bungling the attempt . xxmaj with all of this built - in interest , how could anyone make such a lackluster , talk - laden flick of this true - life event . xxmaj while xxmaj williams is always interesting , the screenwriters assumed that the xxup d.b. xxmaj cooper persona was stereotypically heroic like a movie star , s what we get is a type - without any engaging details or insights into the mind of a person daring enough and clever enough to have pulled it off . xxmaj harrold practically steals the movie with her spunk and pure beauty , but the real letdown was in the handling of the plot and the lame direction . xxmaj shame on this film for even existing .\n",
              "y: CategoryList\n",
              "neg,neg,neg,neg,neg\n",
              "Path: /root/.fastai/data/imdb;\n",
              "\n",
              "Valid: LabelList (25000 items)\n",
              "x: TextList\n",
              "xxbos xxmaj oh xxmaj sex xxmaj lives of the xxmaj potato xxmaj men , what foul demon created thee ? xxmaj this is a film that you watch , smirk a little during the runtime and then when you mention it to others having seen it , you just can not help but smile as you talk . xxmaj but it 's not that xxmaj sex xxmaj lives of the xxmaj potato xxmaj men is actually a funny film and one that inspires you to smile when talking or thinking about it , it 's just that the film is so bizarre ; is so insulting and is no shameless in its attempt to get across a meek laugh to do with sex and sex lives in general that you just can not help but have your mouth break out into a grin . xxmaj do bear in mind that what follows the smirk is a sinking of the head ; a consequent shake of the head and a raise of the index finger and thumb to both eyebrows as you gently rub them in an attempt to reminisce about your time watching this trash . \n",
              " \n",
              "  xxmaj but that 's what the film is , it 's trash ; it 's very brave and shameless trash but trash none - the - less . xxmaj whoever came up with this idea , put it to paper and then spread it around the industry trying to get it made must either be very brave or very desperate . xxmaj it 's strange to have a film that is most definitely ' about ' something but one that does not have , under any sort of circumstance , a decisive narrative . xxmaj this follows on from that idea that most of xxmaj european cinema is artistic and its stories are ambiguous and open - ended and themes take precedence over most other things . xxmaj in xxmaj sex xxmaj lives of the xxmaj potato xxmaj men , the same situation and technically the same joke are replayed over and over again and that is an xxunk that consists of : ' sex is a very , very funny thing . ' xxmaj these ideas are perhaps more suited to an xxmaj american film so it 's no wonder that after a while watching this film , things start to feel a little out of sorts . \n",
              " \n",
              "  xxmaj the film begins and ends in the same manner , creating a feeling of a circular journey ; a circular journey that has gone absolutely nowhere and absolutely nothing has been achieved . xxmaj three blokes sit around a table talking and what - not . xxmaj their boss joins them and the conversation is limited to whatever crude and disgusting stories , situations or scenarios each can possibly think of . xxmaj the odd thing here , being that whenever one man says something nasty , the other grimaces but has an equally filthy story to give in return creating a contradiction in what these men find to cross the line and what they do not . xxmaj the men are xxmaj dave ( xxmaj vegas ) and xxmaj ferris ( xxmaj crook ) , two people joined by xxmaj xxunk ( xxmaj coleman ) whenever the film sees fit to throw in a third face to crack some more nasty sex jokes or break some peculiar stories . xxmaj they are employed by xxmaj jeremy ( xxmaj xxunk ) , a man who has deeper issues and problems but issues of which the film is more concerned with exploiting for the sake of humour rather than study . \n",
              " \n",
              "  xxmaj so what 's the situation in xxmaj sex xxmaj lives of the xxmaj potato xxmaj men ? xxmaj the three to four men are in a crisis and for the duration of the film , we will adopt the role of the hapless fly on the wall as we witness what foul play these people get up to over the period of about a week . xxmaj if the humour revolving around xxmaj dave and xxmaj ferris is disgusting and repulsive , then for xxmaj jeremy things are just spooky . xxmaj it all begins rather innocently and it appears there is a female he likes and one who equally likes him in return but when the essence that xxmaj jeremy is merely a stalker creeps in , that 's when the jaws drop . xxmaj the character of xxmaj jeremy is used and put across in a way that makes unrequited love and stalking in general merely look ' funny ' . xxmaj jeremy sits in his apartment listening to classical music and writing out letters of abuse to xxmaj ruth ( xxmaj davis ) , echoing some sort of psychotic persona more associated with xxmaj hannibal xxmaj lecter writing his letter 's to xxmaj clarice in 2001 's xxmaj hannibal . xxmaj but whatever sympathy we might have for him at this point is rendered absolutely false when , later on , it is revealed the true origin of their relationship . xxmaj suddenly , we as an audience feel cheated into feeling a mite sorry for him earlier on and for whatever reason he did do what he did in the first place just seems cowardly and distasteful . xxmaj to say what it was would ruin whatever few surprises lurk within the film . \n",
              " \n",
              "  xxmaj quite sad how , in one of xxmaj jeremy 's letters , he writes about something - or - other exclaiming it to have \" xxmaj no artistic vision  just one big mess \" . i hate it when words said by the characters echo the film they 're in . xxmaj sex xxmaj lives of the xxmaj potato xxmaj men does not explore someone 's psyche or particular interest in a fetish or why they feel the need to go around having as much sex as possible , it just uses them as a front to pile on ridiculously unfunny jokes and situations . xxmaj rather than take group sex and explore what drives a person to seek it down , it makes a daft joke out of it ( tickets with numbers on ! ? ) ; rather than get into the mindset of a fan of xxmaj sadomasochism , the film has someone hang from a basement ceiling and warn everyone of ' incoming salt and vinegar ' as he climaxes . xxmaj ferris covers his face in disgust and the camera fades to the next scene without too much of a fuss . xxmaj it 's a relief the film got to no audiences abroad . xxmaj this is one section of xxmaj british culture , indeed of the xxmaj british mentality that i pray will be confined to our shores and ignored accordingly .,xxbos xxmaj not as bad as 1992 's \" xxmaj nails \" ( where xxmaj hopper plays an \" unstable \" cop ) but pretty bad . xxmaj how can a movie with such a great cast go so wrong ? xxmaj this film manages to find a way . xxmaj the story was pretty stupid and xxmaj hopper 's direction seemed like he had never directed before . xxmaj all of the long shots in the beginning were bothersome . xxmaj lots of meaningless scenes with a lot of meaningless dialogue .,xxbos xxmaj this is a stereotype plot . a young fighter tries to enter a competition when he is not ready and is not selected to represent his fighting school . xxmaj this leads to separation from the fighting school and naturally he finds a strange new master to teach him to fight . \n",
              " \n",
              "  xxmaj the fights are not of high standards . xxmaj they are way too \" simple \" in a way that 1 + 1 is simple to every adult . xxmaj the fighter has trained and enters the ring , but does not do what he trained and gets an ass kicking . xxmaj the coach yells do this and do that with no success . xxmaj and after some more of this ridiculous beating he suddenly does what he is told and hits his opponent once . xxmaj this results in a turning point in the fight , although our hero has been taking a beating of his life up until that point . xxmaj think about the xxmaj rocky movies and you 'll have a good point of reference of how much beating he really takes . xxmaj the fights are also shot poorly . \n",
              " \n",
              "  xxmaj there final thing that screws this film up is the stupid romance . xxmaj cheesy music and awkward moments are not what i call entertainment . \n",
              " \n",
              "  xxmaj these guys really could have made some quality entertainment , but the director was n't up to the task . xxmaj or the other crew in my opinion . xxmaj maybe they had a small budget , i do n't know , but what matters in the end is that this movie is bad and deserves the rating of 3 out of 10 .,xxbos well i 'd probably agree with all the bad comments about this movie cos honestly i thought it was such a piece of crap i mean the actors had done a terrible acting job and the script was all terrible . xxmaj although the special effects was n't a bit bad but i think the should have thought a lot harder than that . i mean how did xxmaj clara xxmaj bryant get successfully put into this film i mean she 'd do a lot better if she looked a bit further and that goes the same with xxmaj kristen honey , i mean her character dies and she does n't bother to try and defend herself i mean it 's got ta be a total joke . xxmaj she should at least do a lot better than what she an do like become a soldier or more of a heroine or something along the lines of bravery . xxmaj but the point is the actors did a complete soulless lousy job and so did the director and the writer who made this film . they should 've went into film school to think up some better ideas and i hope everyone agrees with my methods cos they are probably thinking the same thing .,xxbos xxmaj this is a big disappointment . xxmaj the main problem is the acting . xxmaj xxunk le xxmaj touzel is pretty poor as xxmaj fanny , and the rest are not much better , everybody is very stilted and unnatural . xxmaj also the camerawork is very 1980 's ie cramped and jumpy , compared with the likes of 1995 's xxup p&p , for example . \n",
              " \n",
              "  xxmaj the script is , if anything too faithful to the book , and there are some cringe worthy expressions that should have been cut . \n",
              " \n",
              "  xxmaj in every way this is far inferior to the recent film version , which though it took huge liberties with the book , seemed far more faithful to the spirit of the book and was far more enjoyable .\n",
              "y: CategoryList\n",
              "neg,neg,neg,neg,neg\n",
              "Path: /root/.fastai/data/imdb;\n",
              "\n",
              "Test: None, model=SequentialRNN(\n",
              "  (0): MultiBatchEncoder(\n",
              "    (module): AWD_LSTM(\n",
              "      (encoder): Embedding(60003, 400, padding_idx=1)\n",
              "      (encoder_dp): EmbeddingDropout(\n",
              "        (emb): Embedding(60003, 400, padding_idx=1)\n",
              "      )\n",
              "      (rnns): ModuleList(\n",
              "        (0): WeightDropout(\n",
              "          (module): LSTM(400, 1150, batch_first=True)\n",
              "        )\n",
              "        (1): WeightDropout(\n",
              "          (module): LSTM(1150, 1150, batch_first=True)\n",
              "        )\n",
              "        (2): WeightDropout(\n",
              "          (module): LSTM(1150, 400, batch_first=True)\n",
              "        )\n",
              "      )\n",
              "      (input_dp): RNNDropout()\n",
              "      (hidden_dps): ModuleList(\n",
              "        (0): RNNDropout()\n",
              "        (1): RNNDropout()\n",
              "        (2): RNNDropout()\n",
              "      )\n",
              "    )\n",
              "  )\n",
              "  (1): PoolingLinearClassifier(\n",
              "    (layers): Sequential(\n",
              "      (0): BatchNorm1d(1200, eps=1e-05, momentum=0.1, affine=True, track_running_stats=True)\n",
              "      (1): Dropout(p=0.2)\n",
              "      (2): Linear(in_features=1200, out_features=50, bias=True)\n",
              "      (3): ReLU(inplace)\n",
              "      (4): BatchNorm1d(50, eps=1e-05, momentum=0.1, affine=True, track_running_stats=True)\n",
              "      (5): Dropout(p=0.1)\n",
              "      (6): Linear(in_features=50, out_features=2, bias=True)\n",
              "    )\n",
              "  )\n",
              "), opt_func=functools.partial(<class 'torch.optim.adam.Adam'>, betas=(0.9, 0.99)), loss_func=FlattenedLoss of CrossEntropyLoss(), metrics=[<function accuracy at 0x7f6268742268>], true_wd=True, bn_wd=True, wd=0.01, train_bn=True, path=PosixPath('/root/.fastai/data/imdb'), model_dir='models', callback_fns=[functools.partial(<class 'fastai.basic_train.Recorder'>, add_time=True)], callbacks=[...], layer_groups=[Sequential(\n",
              "  (0): Embedding(60003, 400, padding_idx=1)\n",
              "  (1): EmbeddingDropout(\n",
              "    (emb): Embedding(60003, 400, padding_idx=1)\n",
              "  )\n",
              "), Sequential(\n",
              "  (0): WeightDropout(\n",
              "    (module): LSTM(400, 1150, batch_first=True)\n",
              "  )\n",
              "  (1): RNNDropout()\n",
              "), Sequential(\n",
              "  (0): WeightDropout(\n",
              "    (module): LSTM(1150, 1150, batch_first=True)\n",
              "  )\n",
              "  (1): RNNDropout()\n",
              "), Sequential(\n",
              "  (0): WeightDropout(\n",
              "    (module): LSTM(1150, 400, batch_first=True)\n",
              "  )\n",
              "  (1): RNNDropout()\n",
              "), Sequential(\n",
              "  (0): PoolingLinearClassifier(\n",
              "    (layers): Sequential(\n",
              "      (0): BatchNorm1d(1200, eps=1e-05, momentum=0.1, affine=True, track_running_stats=True)\n",
              "      (1): Dropout(p=0.2)\n",
              "      (2): Linear(in_features=1200, out_features=50, bias=True)\n",
              "      (3): ReLU(inplace)\n",
              "      (4): BatchNorm1d(50, eps=1e-05, momentum=0.1, affine=True, track_running_stats=True)\n",
              "      (5): Dropout(p=0.1)\n",
              "      (6): Linear(in_features=50, out_features=2, bias=True)\n",
              "    )\n",
              "  )\n",
              ")], add_time=True)\n",
              "alpha: 2.0\n",
              "beta: 1.0], layer_groups=[Sequential(\n",
              "  (0): Embedding(60003, 400, padding_idx=1)\n",
              "  (1): EmbeddingDropout(\n",
              "    (emb): Embedding(60003, 400, padding_idx=1)\n",
              "  )\n",
              "), Sequential(\n",
              "  (0): WeightDropout(\n",
              "    (module): LSTM(400, 1150, batch_first=True)\n",
              "  )\n",
              "  (1): RNNDropout()\n",
              "), Sequential(\n",
              "  (0): WeightDropout(\n",
              "    (module): LSTM(1150, 1150, batch_first=True)\n",
              "  )\n",
              "  (1): RNNDropout()\n",
              "), Sequential(\n",
              "  (0): WeightDropout(\n",
              "    (module): LSTM(1150, 400, batch_first=True)\n",
              "  )\n",
              "  (1): RNNDropout()\n",
              "), Sequential(\n",
              "  (0): PoolingLinearClassifier(\n",
              "    (layers): Sequential(\n",
              "      (0): BatchNorm1d(1200, eps=1e-05, momentum=0.1, affine=True, track_running_stats=True)\n",
              "      (1): Dropout(p=0.2)\n",
              "      (2): Linear(in_features=1200, out_features=50, bias=True)\n",
              "      (3): ReLU(inplace)\n",
              "      (4): BatchNorm1d(50, eps=1e-05, momentum=0.1, affine=True, track_running_stats=True)\n",
              "      (5): Dropout(p=0.1)\n",
              "      (6): Linear(in_features=50, out_features=2, bias=True)\n",
              "    )\n",
              "  )\n",
              ")], add_time=True)"
            ]
          },
          "metadata": {
            "tags": []
          },
          "execution_count": 72
        }
      ]
    },
    {
      "metadata": {
        "id": "9jEK6yo4DMtB",
        "colab_type": "code",
        "outputId": "87af9245-9fdb-4c04-b74e-474f97d56a02",
        "colab": {
          "base_uri": "https://localhost:8080/",
          "height": 103
        }
      },
      "cell_type": "code",
      "source": [
        "learn.freeze_to(-2)\n",
        "learn.fit_one_cycle(1, slice(1e-2/(2.6**4),1e-2), moms=(0.8,0.7))"
      ],
      "execution_count": 0,
      "outputs": [
        {
          "output_type": "display_data",
          "data": {
            "text/html": [
              "Total time: 12:48 <p><table border=\"1\" class=\"dataframe\">\n",
              "  <thead>\n",
              "    <tr style=\"text-align: left;\">\n",
              "      <th>epoch</th>\n",
              "      <th>train_loss</th>\n",
              "      <th>valid_loss</th>\n",
              "      <th>accuracy</th>\n",
              "      <th>time</th>\n",
              "    </tr>\n",
              "  </thead>\n",
              "  <tbody>\n",
              "    <tr>\n",
              "      <td>0</td>\n",
              "      <td>0.292317</td>\n",
              "      <td>0.205541</td>\n",
              "      <td>0.918240</td>\n",
              "      <td>12:48</td>\n",
              "    </tr>\n",
              "  </tbody>\n",
              "</table>"
            ],
            "text/plain": [
              "<IPython.core.display.HTML object>"
            ]
          },
          "metadata": {
            "tags": []
          }
        }
      ]
    },
    {
      "metadata": {
        "id": "BlZ6F72IDMwG",
        "colab_type": "code",
        "colab": {}
      },
      "cell_type": "code",
      "source": [
        "learn.save('second')"
      ],
      "execution_count": 0,
      "outputs": []
    },
    {
      "metadata": {
        "colab_type": "code",
        "outputId": "7827c30a-6650-4b71-c0da-3cbe02544f55",
        "id": "WVCeZgHG4bGR",
        "colab": {
          "base_uri": "https://localhost:8080/",
          "height": 4930
        }
      },
      "cell_type": "code",
      "source": [
        "learn.load('second')"
      ],
      "execution_count": 0,
      "outputs": [
        {
          "output_type": "execute_result",
          "data": {
            "text/plain": [
              "RNNLearner(data=TextClasDataBunch;\n",
              "\n",
              "Train: LabelList (25000 items)\n",
              "x: TextList\n",
              "xxbos i vowed a long time ago to xxup never , xxup ever watch a movie that has xxup anyone who xxup ever was a regular cast member of \" xxmaj saturday xxmaj night xxmaj live \" . i did n't rent \" xxmaj corky xxmaj romano \" but i was forced by my unfailing good manners to watch it for half an hour . xxmaj then my good manners failed . xxmaj stupid , not funny . xxmaj tedious , not hilarious . xxmaj bad , not good . xxmaj that in a nutshell is all i can say for this video .,xxbos xxmaj the worst kind of film . xxmaj basically , the xxup us xxmaj declaration of xxmaj independence was replaced with a plasma screen and this fooled the museum 's security for several days . xxmaj eh ? \n",
              " \n",
              "  xxmaj the plasma screen that would theoretically run for less than 2 seconds off that watch battery , assuming it had a low enough internal resistance to deliver the required current , which it would n't . \n",
              " \n",
              "  xxmaj it would be possible with a dozen large car batteries and an xxunk , but that system would n't fit into the case . xxmaj sorry to be anal , but this is n't even close to being plausible . xxmaj the rest of the film was n't a great deal better and i 'm left wondering why the budget could n't have been donated to charity or me .,xxbos xxmaj years after the fall of the last of the great corporations , the world has fallen into a new dark age where cyborgs are harvested for their parts . xxmaj cash , a female cyborg , travels to a wasteland doctor to receive news that she is pregnant . xxmaj on the run from xxmaj xxunk ( bounty hunters who hunt cyborgs ) , xxmaj cash tries to find her way to xxmaj xxunk , the mythical refuge for cyborgs . \n",
              " \n",
              "  \" xxmaj cyborg 3 : xxmaj the xxmaj xxunk \" is the third ( & last so far ) entry in the xxup cyborg trilogy . xxmaj the first film was originally planned to be a sequel to xxup masters xxup of xxup the xxup universe , but was quickly rewritten into a standard post - apocalyptic martial - arts fest that became something of a cult classic due to its cheesy action scenes . xxup cyborg 2 : xxup glass xxup shadow was a sequel that actually improved upon its predecessor but was not widely seen ( & was dismissed by those few who saw it as cheap fodder ) . \n",
              " \n",
              "  xxmaj this film , for one thing , tries to be a meld of the first two films ( the first was a cheesy action film while the second was a smart xxmaj cyberpunk story ) but unfortunately falls short on both counts . xxmaj the budget was obviously lower than xxup cyborg 2 , with the film being set in the desert wastelands ( like so many post - apocalyptic action films of the 90s were ) , shot around old industrial buildings to conserve costs . \n",
              " \n",
              "  xxmaj the film 's story centres on a plot device , that of a pregnant cyborg , that is as interesting as it is absurd ( this film is not the first to try that idea ; the anime xxup ova series xxup armitage xxup iii uses it to a greater extent ) . xxmaj but the film falls into the same trap that so many low - budget sci - fi action films fall victim to , in the fact that the snags ( synthetic organisms ) featured are nothing more than androids . xxmaj the visual effects amount to nothing more than prosthetic arms & makeup effects . \n",
              " \n",
              "  xxmaj the acting is pretty standard for this kind of film , with the lead actress ( xxmaj xxunk xxmaj haje ) being the single worst performer on display . xxmaj instead of being joyed at the news she is pregnant , she acts all whiny & sullen . xxmaj her co - stars are much better , xxmaj malcolm mcdowell being the usual gangster type who enlivens the scenes he appears in & xxmaj richard xxmaj lynch has a lot of fun as the chief villain . xxmaj of particular note is xxmaj andrew xxmaj xxunk , playing xxmaj lynch 's right hand man , who would later appear in xxup the xxmaj texas xxup chainsaw xxup massacre remake & its prequel .,xxbos i firmly believe that the best xxmaj oscar ceremony in recent years was in 2003 for two reasons : \n",
              " \n",
              "  1 ) xxmaj host xxmaj steve xxmaj martin was at his most wittiest : \" i saw the teamsters help xxmaj michael xxmaj moore into the trunk of his limo \" and \" i 'll better not mention the gay mafia in case i wake up with a poodle 's head in my bed \" \n",
              " \n",
              "  2 ) xxmaj surprise winners : xxmaj no one had xxmaj adrien xxmaj brody down for best actor ( xxmaj genuine applause ) or xxmaj roman xxmaj polanski for best director ( xxmaj genuine jeers and boos ) but they won \n",
              " \n",
              "  xxmaj last year 's award ceremony was n't too bad but there was little in the way of surprises and i was happy to see xxup return xxup of xxup the xxup king sweep the awards even if it was n't the best in the trilogy ( xxup fellowship was much better ) but what let the xxup bbc coverage down was xxmaj jonathan xxmaj ross getting a few of his sycophantic mates round and pretending they were hilarious when they were anything but . xxmaj so when i heard xxmaj sky were doing the coverage for xxmaj british xxup tv i was expecting xxmaj barry xxmaj norman and xxmaj mark xxmaj kermode to be doing the links , but instead we ended up with xxmaj jamie xxmaj xxunk and xxmaj sharon xxmaj osbourne ! xxmaj oh gawd if xxmaj british xxup tv are desperate for film critics ( xxmaj obviously they are ) i 'm sure both xxmaj bob xxmaj the xxmaj moo and xxmaj theo xxmaj robertson will happily fly over to xxup la to give their honest opinions on the winners and losers \n",
              " \n",
              "  xxmaj chris xxmaj rock was n't too bad , but he 's no xxmaj steve xxmaj martin while the location seemed to resemble a sports hall with seats put in ! xxmaj not much of a glitzy arena in my opinion . xxmaj the main problem i had with the ceremony was the format with the \" minor \" xxmaj oscars handed out to the winners who were sitting in their seats ! xxmaj there 's no such thing as a \" minor \" xxmaj oscar and just because the award is for xxmaj best xxmaj animated xxmaj short or xxmaj best xxmaj costume xxmaj design they 're as well deserved as xxmaj best xxmaj picture or xxmaj best xxmaj director . xxmaj all the winners should be allowed to march up to the podium . xxmaj what a bunch of arrogant snobs the xxmaj academy are becoming and i quite agree with the comments that this format is disgraceful and if it was n't for the surprises this could possibly have been the worst ceremony in history . xxmaj as for the awards themselves \n",
              " \n",
              "  xxmaj best xxmaj supporting xxmaj actress - xxmaj cate xxmaj blanchett . xxmaj no great surprise for a competitive category \n",
              " \n",
              "  xxmaj best xxmaj supporting xxmaj actor - xxmaj morgan xxmaj freeman . xxmaj no real complaints since xxmaj freeman is one of xxmaj america 's greatest living character actors \n",
              " \n",
              "  xxmaj best xxmaj actor - xxmaj jamie xxmaj foxx . xxmaj most predictable award of the night . xxmaj yawn \n",
              " \n",
              "  xxmaj best xxmaj actress - xxmaj hilary xxmaj swank . xxmaj major surprise since everyone thought xxmaj annette xxmaj benning was going to win simply down to academy politics but xxmaj swank did deserve it and gave the best speech of the night \n",
              " \n",
              "  xxmaj best xxmaj director - xxmaj clint xxmaj eastwood . xxmaj major surprise since everyone thought xxmaj scorsese was going to get the award simply because he 'd never won one . xxmaj actually i 'm glad about this because if he did n't deserve it for xxup taxi xxup driver , xxup raging xxup bull or xxup goodfellas he did n't deserve it for xxup the xxup aviator \n",
              " \n",
              "  xxmaj best xxmaj film - xxup million xxup dollar xxup baby . xxmaj again another major surprise since everyone thought the academy would split the awards for best director and best picture while i thought the xxmaj hollywood friendly plot of xxup the xxup aviator would have made it a dead cert for xxmaj best xxmaj picture while xxup xxunk 's controversial subject matter would have turned a lot of voters off \n",
              " \n",
              "  xxmaj what these awards perhaps illustrate is that this year the voters have decided to ignore xxmaj oscar politics and genuinely give out awards to people who deserve it something they have n't done in the past , i mean a xxup beautiful xxup mind beating xxup the xxup fellowship xxup of xxup the xxup ring for gawd 's sake ! xxmaj and long may the academy vote with their heads instead of their hearts,xxbos xxmaj this film was hard to get a hold of , and when i eventually saw it the disappointment was overwhelming . i mean , this is one of the great stories of the twentieth century : an unknown man takes advantage of the unsuspecting airline industry and xxup gets xxup away with millions in ransom without hurting anyone or bungling the attempt . xxmaj with all of this built - in interest , how could anyone make such a lackluster , talk - laden flick of this true - life event . xxmaj while xxmaj williams is always interesting , the screenwriters assumed that the xxup d.b. xxmaj cooper persona was stereotypically heroic like a movie star , s what we get is a type - without any engaging details or insights into the mind of a person daring enough and clever enough to have pulled it off . xxmaj harrold practically steals the movie with her spunk and pure beauty , but the real letdown was in the handling of the plot and the lame direction . xxmaj shame on this film for even existing .\n",
              "y: CategoryList\n",
              "neg,neg,neg,neg,neg\n",
              "Path: /root/.fastai/data/imdb;\n",
              "\n",
              "Valid: LabelList (25000 items)\n",
              "x: TextList\n",
              "xxbos xxmaj oh xxmaj sex xxmaj lives of the xxmaj potato xxmaj men , what foul demon created thee ? xxmaj this is a film that you watch , smirk a little during the runtime and then when you mention it to others having seen it , you just can not help but smile as you talk . xxmaj but it 's not that xxmaj sex xxmaj lives of the xxmaj potato xxmaj men is actually a funny film and one that inspires you to smile when talking or thinking about it , it 's just that the film is so bizarre ; is so insulting and is no shameless in its attempt to get across a meek laugh to do with sex and sex lives in general that you just can not help but have your mouth break out into a grin . xxmaj do bear in mind that what follows the smirk is a sinking of the head ; a consequent shake of the head and a raise of the index finger and thumb to both eyebrows as you gently rub them in an attempt to reminisce about your time watching this trash . \n",
              " \n",
              "  xxmaj but that 's what the film is , it 's trash ; it 's very brave and shameless trash but trash none - the - less . xxmaj whoever came up with this idea , put it to paper and then spread it around the industry trying to get it made must either be very brave or very desperate . xxmaj it 's strange to have a film that is most definitely ' about ' something but one that does not have , under any sort of circumstance , a decisive narrative . xxmaj this follows on from that idea that most of xxmaj european cinema is artistic and its stories are ambiguous and open - ended and themes take precedence over most other things . xxmaj in xxmaj sex xxmaj lives of the xxmaj potato xxmaj men , the same situation and technically the same joke are replayed over and over again and that is an xxunk that consists of : ' sex is a very , very funny thing . ' xxmaj these ideas are perhaps more suited to an xxmaj american film so it 's no wonder that after a while watching this film , things start to feel a little out of sorts . \n",
              " \n",
              "  xxmaj the film begins and ends in the same manner , creating a feeling of a circular journey ; a circular journey that has gone absolutely nowhere and absolutely nothing has been achieved . xxmaj three blokes sit around a table talking and what - not . xxmaj their boss joins them and the conversation is limited to whatever crude and disgusting stories , situations or scenarios each can possibly think of . xxmaj the odd thing here , being that whenever one man says something nasty , the other grimaces but has an equally filthy story to give in return creating a contradiction in what these men find to cross the line and what they do not . xxmaj the men are xxmaj dave ( xxmaj vegas ) and xxmaj ferris ( xxmaj crook ) , two people joined by xxmaj xxunk ( xxmaj coleman ) whenever the film sees fit to throw in a third face to crack some more nasty sex jokes or break some peculiar stories . xxmaj they are employed by xxmaj jeremy ( xxmaj xxunk ) , a man who has deeper issues and problems but issues of which the film is more concerned with exploiting for the sake of humour rather than study . \n",
              " \n",
              "  xxmaj so what 's the situation in xxmaj sex xxmaj lives of the xxmaj potato xxmaj men ? xxmaj the three to four men are in a crisis and for the duration of the film , we will adopt the role of the hapless fly on the wall as we witness what foul play these people get up to over the period of about a week . xxmaj if the humour revolving around xxmaj dave and xxmaj ferris is disgusting and repulsive , then for xxmaj jeremy things are just spooky . xxmaj it all begins rather innocently and it appears there is a female he likes and one who equally likes him in return but when the essence that xxmaj jeremy is merely a stalker creeps in , that 's when the jaws drop . xxmaj the character of xxmaj jeremy is used and put across in a way that makes unrequited love and stalking in general merely look ' funny ' . xxmaj jeremy sits in his apartment listening to classical music and writing out letters of abuse to xxmaj ruth ( xxmaj davis ) , echoing some sort of psychotic persona more associated with xxmaj hannibal xxmaj lecter writing his letter 's to xxmaj clarice in 2001 's xxmaj hannibal . xxmaj but whatever sympathy we might have for him at this point is rendered absolutely false when , later on , it is revealed the true origin of their relationship . xxmaj suddenly , we as an audience feel cheated into feeling a mite sorry for him earlier on and for whatever reason he did do what he did in the first place just seems cowardly and distasteful . xxmaj to say what it was would ruin whatever few surprises lurk within the film . \n",
              " \n",
              "  xxmaj quite sad how , in one of xxmaj jeremy 's letters , he writes about something - or - other exclaiming it to have \" xxmaj no artistic vision  just one big mess \" . i hate it when words said by the characters echo the film they 're in . xxmaj sex xxmaj lives of the xxmaj potato xxmaj men does not explore someone 's psyche or particular interest in a fetish or why they feel the need to go around having as much sex as possible , it just uses them as a front to pile on ridiculously unfunny jokes and situations . xxmaj rather than take group sex and explore what drives a person to seek it down , it makes a daft joke out of it ( tickets with numbers on ! ? ) ; rather than get into the mindset of a fan of xxmaj sadomasochism , the film has someone hang from a basement ceiling and warn everyone of ' incoming salt and vinegar ' as he climaxes . xxmaj ferris covers his face in disgust and the camera fades to the next scene without too much of a fuss . xxmaj it 's a relief the film got to no audiences abroad . xxmaj this is one section of xxmaj british culture , indeed of the xxmaj british mentality that i pray will be confined to our shores and ignored accordingly .,xxbos xxmaj not as bad as 1992 's \" xxmaj nails \" ( where xxmaj hopper plays an \" unstable \" cop ) but pretty bad . xxmaj how can a movie with such a great cast go so wrong ? xxmaj this film manages to find a way . xxmaj the story was pretty stupid and xxmaj hopper 's direction seemed like he had never directed before . xxmaj all of the long shots in the beginning were bothersome . xxmaj lots of meaningless scenes with a lot of meaningless dialogue .,xxbos xxmaj this is a stereotype plot . a young fighter tries to enter a competition when he is not ready and is not selected to represent his fighting school . xxmaj this leads to separation from the fighting school and naturally he finds a strange new master to teach him to fight . \n",
              " \n",
              "  xxmaj the fights are not of high standards . xxmaj they are way too \" simple \" in a way that 1 + 1 is simple to every adult . xxmaj the fighter has trained and enters the ring , but does not do what he trained and gets an ass kicking . xxmaj the coach yells do this and do that with no success . xxmaj and after some more of this ridiculous beating he suddenly does what he is told and hits his opponent once . xxmaj this results in a turning point in the fight , although our hero has been taking a beating of his life up until that point . xxmaj think about the xxmaj rocky movies and you 'll have a good point of reference of how much beating he really takes . xxmaj the fights are also shot poorly . \n",
              " \n",
              "  xxmaj there final thing that screws this film up is the stupid romance . xxmaj cheesy music and awkward moments are not what i call entertainment . \n",
              " \n",
              "  xxmaj these guys really could have made some quality entertainment , but the director was n't up to the task . xxmaj or the other crew in my opinion . xxmaj maybe they had a small budget , i do n't know , but what matters in the end is that this movie is bad and deserves the rating of 3 out of 10 .,xxbos well i 'd probably agree with all the bad comments about this movie cos honestly i thought it was such a piece of crap i mean the actors had done a terrible acting job and the script was all terrible . xxmaj although the special effects was n't a bit bad but i think the should have thought a lot harder than that . i mean how did xxmaj clara xxmaj bryant get successfully put into this film i mean she 'd do a lot better if she looked a bit further and that goes the same with xxmaj kristen honey , i mean her character dies and she does n't bother to try and defend herself i mean it 's got ta be a total joke . xxmaj she should at least do a lot better than what she an do like become a soldier or more of a heroine or something along the lines of bravery . xxmaj but the point is the actors did a complete soulless lousy job and so did the director and the writer who made this film . they should 've went into film school to think up some better ideas and i hope everyone agrees with my methods cos they are probably thinking the same thing .,xxbos xxmaj this is a big disappointment . xxmaj the main problem is the acting . xxmaj xxunk le xxmaj touzel is pretty poor as xxmaj fanny , and the rest are not much better , everybody is very stilted and unnatural . xxmaj also the camerawork is very 1980 's ie cramped and jumpy , compared with the likes of 1995 's xxup p&p , for example . \n",
              " \n",
              "  xxmaj the script is , if anything too faithful to the book , and there are some cringe worthy expressions that should have been cut . \n",
              " \n",
              "  xxmaj in every way this is far inferior to the recent film version , which though it took huge liberties with the book , seemed far more faithful to the spirit of the book and was far more enjoyable .\n",
              "y: CategoryList\n",
              "neg,neg,neg,neg,neg\n",
              "Path: /root/.fastai/data/imdb;\n",
              "\n",
              "Test: None, model=SequentialRNN(\n",
              "  (0): MultiBatchEncoder(\n",
              "    (module): AWD_LSTM(\n",
              "      (encoder): Embedding(60003, 400, padding_idx=1)\n",
              "      (encoder_dp): EmbeddingDropout(\n",
              "        (emb): Embedding(60003, 400, padding_idx=1)\n",
              "      )\n",
              "      (rnns): ModuleList(\n",
              "        (0): WeightDropout(\n",
              "          (module): LSTM(400, 1150, batch_first=True)\n",
              "        )\n",
              "        (1): WeightDropout(\n",
              "          (module): LSTM(1150, 1150, batch_first=True)\n",
              "        )\n",
              "        (2): WeightDropout(\n",
              "          (module): LSTM(1150, 400, batch_first=True)\n",
              "        )\n",
              "      )\n",
              "      (input_dp): RNNDropout()\n",
              "      (hidden_dps): ModuleList(\n",
              "        (0): RNNDropout()\n",
              "        (1): RNNDropout()\n",
              "        (2): RNNDropout()\n",
              "      )\n",
              "    )\n",
              "  )\n",
              "  (1): PoolingLinearClassifier(\n",
              "    (layers): Sequential(\n",
              "      (0): BatchNorm1d(1200, eps=1e-05, momentum=0.1, affine=True, track_running_stats=True)\n",
              "      (1): Dropout(p=0.2)\n",
              "      (2): Linear(in_features=1200, out_features=50, bias=True)\n",
              "      (3): ReLU(inplace)\n",
              "      (4): BatchNorm1d(50, eps=1e-05, momentum=0.1, affine=True, track_running_stats=True)\n",
              "      (5): Dropout(p=0.1)\n",
              "      (6): Linear(in_features=50, out_features=2, bias=True)\n",
              "    )\n",
              "  )\n",
              "), opt_func=functools.partial(<class 'torch.optim.adam.Adam'>, betas=(0.9, 0.99)), loss_func=FlattenedLoss of CrossEntropyLoss(), metrics=[<function accuracy at 0x7fd56f7c8bf8>], true_wd=True, bn_wd=True, wd=0.01, train_bn=True, path=PosixPath('/root/.fastai/data/imdb'), model_dir='models', callback_fns=[functools.partial(<class 'fastai.basic_train.Recorder'>, add_time=True)], callbacks=[RNNTrainer\n",
              "learn: RNNLearner(data=TextClasDataBunch;\n",
              "\n",
              "Train: LabelList (25000 items)\n",
              "x: TextList\n",
              "xxbos i vowed a long time ago to xxup never , xxup ever watch a movie that has xxup anyone who xxup ever was a regular cast member of \" xxmaj saturday xxmaj night xxmaj live \" . i did n't rent \" xxmaj corky xxmaj romano \" but i was forced by my unfailing good manners to watch it for half an hour . xxmaj then my good manners failed . xxmaj stupid , not funny . xxmaj tedious , not hilarious . xxmaj bad , not good . xxmaj that in a nutshell is all i can say for this video .,xxbos xxmaj the worst kind of film . xxmaj basically , the xxup us xxmaj declaration of xxmaj independence was replaced with a plasma screen and this fooled the museum 's security for several days . xxmaj eh ? \n",
              " \n",
              "  xxmaj the plasma screen that would theoretically run for less than 2 seconds off that watch battery , assuming it had a low enough internal resistance to deliver the required current , which it would n't . \n",
              " \n",
              "  xxmaj it would be possible with a dozen large car batteries and an xxunk , but that system would n't fit into the case . xxmaj sorry to be anal , but this is n't even close to being plausible . xxmaj the rest of the film was n't a great deal better and i 'm left wondering why the budget could n't have been donated to charity or me .,xxbos xxmaj years after the fall of the last of the great corporations , the world has fallen into a new dark age where cyborgs are harvested for their parts . xxmaj cash , a female cyborg , travels to a wasteland doctor to receive news that she is pregnant . xxmaj on the run from xxmaj xxunk ( bounty hunters who hunt cyborgs ) , xxmaj cash tries to find her way to xxmaj xxunk , the mythical refuge for cyborgs . \n",
              " \n",
              "  \" xxmaj cyborg 3 : xxmaj the xxmaj xxunk \" is the third ( & last so far ) entry in the xxup cyborg trilogy . xxmaj the first film was originally planned to be a sequel to xxup masters xxup of xxup the xxup universe , but was quickly rewritten into a standard post - apocalyptic martial - arts fest that became something of a cult classic due to its cheesy action scenes . xxup cyborg 2 : xxup glass xxup shadow was a sequel that actually improved upon its predecessor but was not widely seen ( & was dismissed by those few who saw it as cheap fodder ) . \n",
              " \n",
              "  xxmaj this film , for one thing , tries to be a meld of the first two films ( the first was a cheesy action film while the second was a smart xxmaj cyberpunk story ) but unfortunately falls short on both counts . xxmaj the budget was obviously lower than xxup cyborg 2 , with the film being set in the desert wastelands ( like so many post - apocalyptic action films of the 90s were ) , shot around old industrial buildings to conserve costs . \n",
              " \n",
              "  xxmaj the film 's story centres on a plot device , that of a pregnant cyborg , that is as interesting as it is absurd ( this film is not the first to try that idea ; the anime xxup ova series xxup armitage xxup iii uses it to a greater extent ) . xxmaj but the film falls into the same trap that so many low - budget sci - fi action films fall victim to , in the fact that the snags ( synthetic organisms ) featured are nothing more than androids . xxmaj the visual effects amount to nothing more than prosthetic arms & makeup effects . \n",
              " \n",
              "  xxmaj the acting is pretty standard for this kind of film , with the lead actress ( xxmaj xxunk xxmaj haje ) being the single worst performer on display . xxmaj instead of being joyed at the news she is pregnant , she acts all whiny & sullen . xxmaj her co - stars are much better , xxmaj malcolm mcdowell being the usual gangster type who enlivens the scenes he appears in & xxmaj richard xxmaj lynch has a lot of fun as the chief villain . xxmaj of particular note is xxmaj andrew xxmaj xxunk , playing xxmaj lynch 's right hand man , who would later appear in xxup the xxmaj texas xxup chainsaw xxup massacre remake & its prequel .,xxbos i firmly believe that the best xxmaj oscar ceremony in recent years was in 2003 for two reasons : \n",
              " \n",
              "  1 ) xxmaj host xxmaj steve xxmaj martin was at his most wittiest : \" i saw the teamsters help xxmaj michael xxmaj moore into the trunk of his limo \" and \" i 'll better not mention the gay mafia in case i wake up with a poodle 's head in my bed \" \n",
              " \n",
              "  2 ) xxmaj surprise winners : xxmaj no one had xxmaj adrien xxmaj brody down for best actor ( xxmaj genuine applause ) or xxmaj roman xxmaj polanski for best director ( xxmaj genuine jeers and boos ) but they won \n",
              " \n",
              "  xxmaj last year 's award ceremony was n't too bad but there was little in the way of surprises and i was happy to see xxup return xxup of xxup the xxup king sweep the awards even if it was n't the best in the trilogy ( xxup fellowship was much better ) but what let the xxup bbc coverage down was xxmaj jonathan xxmaj ross getting a few of his sycophantic mates round and pretending they were hilarious when they were anything but . xxmaj so when i heard xxmaj sky were doing the coverage for xxmaj british xxup tv i was expecting xxmaj barry xxmaj norman and xxmaj mark xxmaj kermode to be doing the links , but instead we ended up with xxmaj jamie xxmaj xxunk and xxmaj sharon xxmaj osbourne ! xxmaj oh gawd if xxmaj british xxup tv are desperate for film critics ( xxmaj obviously they are ) i 'm sure both xxmaj bob xxmaj the xxmaj moo and xxmaj theo xxmaj robertson will happily fly over to xxup la to give their honest opinions on the winners and losers \n",
              " \n",
              "  xxmaj chris xxmaj rock was n't too bad , but he 's no xxmaj steve xxmaj martin while the location seemed to resemble a sports hall with seats put in ! xxmaj not much of a glitzy arena in my opinion . xxmaj the main problem i had with the ceremony was the format with the \" minor \" xxmaj oscars handed out to the winners who were sitting in their seats ! xxmaj there 's no such thing as a \" minor \" xxmaj oscar and just because the award is for xxmaj best xxmaj animated xxmaj short or xxmaj best xxmaj costume xxmaj design they 're as well deserved as xxmaj best xxmaj picture or xxmaj best xxmaj director . xxmaj all the winners should be allowed to march up to the podium . xxmaj what a bunch of arrogant snobs the xxmaj academy are becoming and i quite agree with the comments that this format is disgraceful and if it was n't for the surprises this could possibly have been the worst ceremony in history . xxmaj as for the awards themselves \n",
              " \n",
              "  xxmaj best xxmaj supporting xxmaj actress - xxmaj cate xxmaj blanchett . xxmaj no great surprise for a competitive category \n",
              " \n",
              "  xxmaj best xxmaj supporting xxmaj actor - xxmaj morgan xxmaj freeman . xxmaj no real complaints since xxmaj freeman is one of xxmaj america 's greatest living character actors \n",
              " \n",
              "  xxmaj best xxmaj actor - xxmaj jamie xxmaj foxx . xxmaj most predictable award of the night . xxmaj yawn \n",
              " \n",
              "  xxmaj best xxmaj actress - xxmaj hilary xxmaj swank . xxmaj major surprise since everyone thought xxmaj annette xxmaj benning was going to win simply down to academy politics but xxmaj swank did deserve it and gave the best speech of the night \n",
              " \n",
              "  xxmaj best xxmaj director - xxmaj clint xxmaj eastwood . xxmaj major surprise since everyone thought xxmaj scorsese was going to get the award simply because he 'd never won one . xxmaj actually i 'm glad about this because if he did n't deserve it for xxup taxi xxup driver , xxup raging xxup bull or xxup goodfellas he did n't deserve it for xxup the xxup aviator \n",
              " \n",
              "  xxmaj best xxmaj film - xxup million xxup dollar xxup baby . xxmaj again another major surprise since everyone thought the academy would split the awards for best director and best picture while i thought the xxmaj hollywood friendly plot of xxup the xxup aviator would have made it a dead cert for xxmaj best xxmaj picture while xxup xxunk 's controversial subject matter would have turned a lot of voters off \n",
              " \n",
              "  xxmaj what these awards perhaps illustrate is that this year the voters have decided to ignore xxmaj oscar politics and genuinely give out awards to people who deserve it something they have n't done in the past , i mean a xxup beautiful xxup mind beating xxup the xxup fellowship xxup of xxup the xxup ring for gawd 's sake ! xxmaj and long may the academy vote with their heads instead of their hearts,xxbos xxmaj this film was hard to get a hold of , and when i eventually saw it the disappointment was overwhelming . i mean , this is one of the great stories of the twentieth century : an unknown man takes advantage of the unsuspecting airline industry and xxup gets xxup away with millions in ransom without hurting anyone or bungling the attempt . xxmaj with all of this built - in interest , how could anyone make such a lackluster , talk - laden flick of this true - life event . xxmaj while xxmaj williams is always interesting , the screenwriters assumed that the xxup d.b. xxmaj cooper persona was stereotypically heroic like a movie star , s what we get is a type - without any engaging details or insights into the mind of a person daring enough and clever enough to have pulled it off . xxmaj harrold practically steals the movie with her spunk and pure beauty , but the real letdown was in the handling of the plot and the lame direction . xxmaj shame on this film for even existing .\n",
              "y: CategoryList\n",
              "neg,neg,neg,neg,neg\n",
              "Path: /root/.fastai/data/imdb;\n",
              "\n",
              "Valid: LabelList (25000 items)\n",
              "x: TextList\n",
              "xxbos xxmaj oh xxmaj sex xxmaj lives of the xxmaj potato xxmaj men , what foul demon created thee ? xxmaj this is a film that you watch , smirk a little during the runtime and then when you mention it to others having seen it , you just can not help but smile as you talk . xxmaj but it 's not that xxmaj sex xxmaj lives of the xxmaj potato xxmaj men is actually a funny film and one that inspires you to smile when talking or thinking about it , it 's just that the film is so bizarre ; is so insulting and is no shameless in its attempt to get across a meek laugh to do with sex and sex lives in general that you just can not help but have your mouth break out into a grin . xxmaj do bear in mind that what follows the smirk is a sinking of the head ; a consequent shake of the head and a raise of the index finger and thumb to both eyebrows as you gently rub them in an attempt to reminisce about your time watching this trash . \n",
              " \n",
              "  xxmaj but that 's what the film is , it 's trash ; it 's very brave and shameless trash but trash none - the - less . xxmaj whoever came up with this idea , put it to paper and then spread it around the industry trying to get it made must either be very brave or very desperate . xxmaj it 's strange to have a film that is most definitely ' about ' something but one that does not have , under any sort of circumstance , a decisive narrative . xxmaj this follows on from that idea that most of xxmaj european cinema is artistic and its stories are ambiguous and open - ended and themes take precedence over most other things . xxmaj in xxmaj sex xxmaj lives of the xxmaj potato xxmaj men , the same situation and technically the same joke are replayed over and over again and that is an xxunk that consists of : ' sex is a very , very funny thing . ' xxmaj these ideas are perhaps more suited to an xxmaj american film so it 's no wonder that after a while watching this film , things start to feel a little out of sorts . \n",
              " \n",
              "  xxmaj the film begins and ends in the same manner , creating a feeling of a circular journey ; a circular journey that has gone absolutely nowhere and absolutely nothing has been achieved . xxmaj three blokes sit around a table talking and what - not . xxmaj their boss joins them and the conversation is limited to whatever crude and disgusting stories , situations or scenarios each can possibly think of . xxmaj the odd thing here , being that whenever one man says something nasty , the other grimaces but has an equally filthy story to give in return creating a contradiction in what these men find to cross the line and what they do not . xxmaj the men are xxmaj dave ( xxmaj vegas ) and xxmaj ferris ( xxmaj crook ) , two people joined by xxmaj xxunk ( xxmaj coleman ) whenever the film sees fit to throw in a third face to crack some more nasty sex jokes or break some peculiar stories . xxmaj they are employed by xxmaj jeremy ( xxmaj xxunk ) , a man who has deeper issues and problems but issues of which the film is more concerned with exploiting for the sake of humour rather than study . \n",
              " \n",
              "  xxmaj so what 's the situation in xxmaj sex xxmaj lives of the xxmaj potato xxmaj men ? xxmaj the three to four men are in a crisis and for the duration of the film , we will adopt the role of the hapless fly on the wall as we witness what foul play these people get up to over the period of about a week . xxmaj if the humour revolving around xxmaj dave and xxmaj ferris is disgusting and repulsive , then for xxmaj jeremy things are just spooky . xxmaj it all begins rather innocently and it appears there is a female he likes and one who equally likes him in return but when the essence that xxmaj jeremy is merely a stalker creeps in , that 's when the jaws drop . xxmaj the character of xxmaj jeremy is used and put across in a way that makes unrequited love and stalking in general merely look ' funny ' . xxmaj jeremy sits in his apartment listening to classical music and writing out letters of abuse to xxmaj ruth ( xxmaj davis ) , echoing some sort of psychotic persona more associated with xxmaj hannibal xxmaj lecter writing his letter 's to xxmaj clarice in 2001 's xxmaj hannibal . xxmaj but whatever sympathy we might have for him at this point is rendered absolutely false when , later on , it is revealed the true origin of their relationship . xxmaj suddenly , we as an audience feel cheated into feeling a mite sorry for him earlier on and for whatever reason he did do what he did in the first place just seems cowardly and distasteful . xxmaj to say what it was would ruin whatever few surprises lurk within the film . \n",
              " \n",
              "  xxmaj quite sad how , in one of xxmaj jeremy 's letters , he writes about something - or - other exclaiming it to have \" xxmaj no artistic vision  just one big mess \" . i hate it when words said by the characters echo the film they 're in . xxmaj sex xxmaj lives of the xxmaj potato xxmaj men does not explore someone 's psyche or particular interest in a fetish or why they feel the need to go around having as much sex as possible , it just uses them as a front to pile on ridiculously unfunny jokes and situations . xxmaj rather than take group sex and explore what drives a person to seek it down , it makes a daft joke out of it ( tickets with numbers on ! ? ) ; rather than get into the mindset of a fan of xxmaj sadomasochism , the film has someone hang from a basement ceiling and warn everyone of ' incoming salt and vinegar ' as he climaxes . xxmaj ferris covers his face in disgust and the camera fades to the next scene without too much of a fuss . xxmaj it 's a relief the film got to no audiences abroad . xxmaj this is one section of xxmaj british culture , indeed of the xxmaj british mentality that i pray will be confined to our shores and ignored accordingly .,xxbos xxmaj not as bad as 1992 's \" xxmaj nails \" ( where xxmaj hopper plays an \" unstable \" cop ) but pretty bad . xxmaj how can a movie with such a great cast go so wrong ? xxmaj this film manages to find a way . xxmaj the story was pretty stupid and xxmaj hopper 's direction seemed like he had never directed before . xxmaj all of the long shots in the beginning were bothersome . xxmaj lots of meaningless scenes with a lot of meaningless dialogue .,xxbos xxmaj this is a stereotype plot . a young fighter tries to enter a competition when he is not ready and is not selected to represent his fighting school . xxmaj this leads to separation from the fighting school and naturally he finds a strange new master to teach him to fight . \n",
              " \n",
              "  xxmaj the fights are not of high standards . xxmaj they are way too \" simple \" in a way that 1 + 1 is simple to every adult . xxmaj the fighter has trained and enters the ring , but does not do what he trained and gets an ass kicking . xxmaj the coach yells do this and do that with no success . xxmaj and after some more of this ridiculous beating he suddenly does what he is told and hits his opponent once . xxmaj this results in a turning point in the fight , although our hero has been taking a beating of his life up until that point . xxmaj think about the xxmaj rocky movies and you 'll have a good point of reference of how much beating he really takes . xxmaj the fights are also shot poorly . \n",
              " \n",
              "  xxmaj there final thing that screws this film up is the stupid romance . xxmaj cheesy music and awkward moments are not what i call entertainment . \n",
              " \n",
              "  xxmaj these guys really could have made some quality entertainment , but the director was n't up to the task . xxmaj or the other crew in my opinion . xxmaj maybe they had a small budget , i do n't know , but what matters in the end is that this movie is bad and deserves the rating of 3 out of 10 .,xxbos well i 'd probably agree with all the bad comments about this movie cos honestly i thought it was such a piece of crap i mean the actors had done a terrible acting job and the script was all terrible . xxmaj although the special effects was n't a bit bad but i think the should have thought a lot harder than that . i mean how did xxmaj clara xxmaj bryant get successfully put into this film i mean she 'd do a lot better if she looked a bit further and that goes the same with xxmaj kristen honey , i mean her character dies and she does n't bother to try and defend herself i mean it 's got ta be a total joke . xxmaj she should at least do a lot better than what she an do like become a soldier or more of a heroine or something along the lines of bravery . xxmaj but the point is the actors did a complete soulless lousy job and so did the director and the writer who made this film . they should 've went into film school to think up some better ideas and i hope everyone agrees with my methods cos they are probably thinking the same thing .,xxbos xxmaj this is a big disappointment . xxmaj the main problem is the acting . xxmaj xxunk le xxmaj touzel is pretty poor as xxmaj fanny , and the rest are not much better , everybody is very stilted and unnatural . xxmaj also the camerawork is very 1980 's ie cramped and jumpy , compared with the likes of 1995 's xxup p&p , for example . \n",
              " \n",
              "  xxmaj the script is , if anything too faithful to the book , and there are some cringe worthy expressions that should have been cut . \n",
              " \n",
              "  xxmaj in every way this is far inferior to the recent film version , which though it took huge liberties with the book , seemed far more faithful to the spirit of the book and was far more enjoyable .\n",
              "y: CategoryList\n",
              "neg,neg,neg,neg,neg\n",
              "Path: /root/.fastai/data/imdb;\n",
              "\n",
              "Test: None, model=SequentialRNN(\n",
              "  (0): MultiBatchEncoder(\n",
              "    (module): AWD_LSTM(\n",
              "      (encoder): Embedding(60003, 400, padding_idx=1)\n",
              "      (encoder_dp): EmbeddingDropout(\n",
              "        (emb): Embedding(60003, 400, padding_idx=1)\n",
              "      )\n",
              "      (rnns): ModuleList(\n",
              "        (0): WeightDropout(\n",
              "          (module): LSTM(400, 1150, batch_first=True)\n",
              "        )\n",
              "        (1): WeightDropout(\n",
              "          (module): LSTM(1150, 1150, batch_first=True)\n",
              "        )\n",
              "        (2): WeightDropout(\n",
              "          (module): LSTM(1150, 400, batch_first=True)\n",
              "        )\n",
              "      )\n",
              "      (input_dp): RNNDropout()\n",
              "      (hidden_dps): ModuleList(\n",
              "        (0): RNNDropout()\n",
              "        (1): RNNDropout()\n",
              "        (2): RNNDropout()\n",
              "      )\n",
              "    )\n",
              "  )\n",
              "  (1): PoolingLinearClassifier(\n",
              "    (layers): Sequential(\n",
              "      (0): BatchNorm1d(1200, eps=1e-05, momentum=0.1, affine=True, track_running_stats=True)\n",
              "      (1): Dropout(p=0.2)\n",
              "      (2): Linear(in_features=1200, out_features=50, bias=True)\n",
              "      (3): ReLU(inplace)\n",
              "      (4): BatchNorm1d(50, eps=1e-05, momentum=0.1, affine=True, track_running_stats=True)\n",
              "      (5): Dropout(p=0.1)\n",
              "      (6): Linear(in_features=50, out_features=2, bias=True)\n",
              "    )\n",
              "  )\n",
              "), opt_func=functools.partial(<class 'torch.optim.adam.Adam'>, betas=(0.9, 0.99)), loss_func=FlattenedLoss of CrossEntropyLoss(), metrics=[<function accuracy at 0x7fd56f7c8bf8>], true_wd=True, bn_wd=True, wd=0.01, train_bn=True, path=PosixPath('/root/.fastai/data/imdb'), model_dir='models', callback_fns=[functools.partial(<class 'fastai.basic_train.Recorder'>, add_time=True)], callbacks=[...], layer_groups=[Sequential(\n",
              "  (0): Embedding(60003, 400, padding_idx=1)\n",
              "  (1): EmbeddingDropout(\n",
              "    (emb): Embedding(60003, 400, padding_idx=1)\n",
              "  )\n",
              "), Sequential(\n",
              "  (0): WeightDropout(\n",
              "    (module): LSTM(400, 1150, batch_first=True)\n",
              "  )\n",
              "  (1): RNNDropout()\n",
              "), Sequential(\n",
              "  (0): WeightDropout(\n",
              "    (module): LSTM(1150, 1150, batch_first=True)\n",
              "  )\n",
              "  (1): RNNDropout()\n",
              "), Sequential(\n",
              "  (0): WeightDropout(\n",
              "    (module): LSTM(1150, 400, batch_first=True)\n",
              "  )\n",
              "  (1): RNNDropout()\n",
              "), Sequential(\n",
              "  (0): PoolingLinearClassifier(\n",
              "    (layers): Sequential(\n",
              "      (0): BatchNorm1d(1200, eps=1e-05, momentum=0.1, affine=True, track_running_stats=True)\n",
              "      (1): Dropout(p=0.2)\n",
              "      (2): Linear(in_features=1200, out_features=50, bias=True)\n",
              "      (3): ReLU(inplace)\n",
              "      (4): BatchNorm1d(50, eps=1e-05, momentum=0.1, affine=True, track_running_stats=True)\n",
              "      (5): Dropout(p=0.1)\n",
              "      (6): Linear(in_features=50, out_features=2, bias=True)\n",
              "    )\n",
              "  )\n",
              ")], add_time=True)\n",
              "alpha: 2.0\n",
              "beta: 1.0], layer_groups=[Sequential(\n",
              "  (0): Embedding(60003, 400, padding_idx=1)\n",
              "  (1): EmbeddingDropout(\n",
              "    (emb): Embedding(60003, 400, padding_idx=1)\n",
              "  )\n",
              "), Sequential(\n",
              "  (0): WeightDropout(\n",
              "    (module): LSTM(400, 1150, batch_first=True)\n",
              "  )\n",
              "  (1): RNNDropout()\n",
              "), Sequential(\n",
              "  (0): WeightDropout(\n",
              "    (module): LSTM(1150, 1150, batch_first=True)\n",
              "  )\n",
              "  (1): RNNDropout()\n",
              "), Sequential(\n",
              "  (0): WeightDropout(\n",
              "    (module): LSTM(1150, 400, batch_first=True)\n",
              "  )\n",
              "  (1): RNNDropout()\n",
              "), Sequential(\n",
              "  (0): PoolingLinearClassifier(\n",
              "    (layers): Sequential(\n",
              "      (0): BatchNorm1d(1200, eps=1e-05, momentum=0.1, affine=True, track_running_stats=True)\n",
              "      (1): Dropout(p=0.2)\n",
              "      (2): Linear(in_features=1200, out_features=50, bias=True)\n",
              "      (3): ReLU(inplace)\n",
              "      (4): BatchNorm1d(50, eps=1e-05, momentum=0.1, affine=True, track_running_stats=True)\n",
              "      (5): Dropout(p=0.1)\n",
              "      (6): Linear(in_features=50, out_features=2, bias=True)\n",
              "    )\n",
              "  )\n",
              ")], add_time=True)"
            ]
          },
          "metadata": {
            "tags": []
          },
          "execution_count": 80
        }
      ]
    },
    {
      "metadata": {
        "colab_type": "code",
        "outputId": "59441b7a-6c57-47f3-96af-28b1017910aa",
        "id": "LWArK2mo4bGb",
        "colab": {
          "base_uri": "https://localhost:8080/",
          "height": 103
        }
      },
      "cell_type": "code",
      "source": [
        "learn.freeze_to(-3)\n",
        "learn.fit_one_cycle(1, slice(5e-3/(2.6**4),5e-3), moms=(0.8,0.7))"
      ],
      "execution_count": 0,
      "outputs": [
        {
          "output_type": "display_data",
          "data": {
            "text/html": [
              "Total time: 18:15 <p><table border=\"1\" class=\"dataframe\">\n",
              "  <thead>\n",
              "    <tr style=\"text-align: left;\">\n",
              "      <th>epoch</th>\n",
              "      <th>train_loss</th>\n",
              "      <th>valid_loss</th>\n",
              "      <th>accuracy</th>\n",
              "      <th>time</th>\n",
              "    </tr>\n",
              "  </thead>\n",
              "  <tbody>\n",
              "    <tr>\n",
              "      <td>0</td>\n",
              "      <td>0.246231</td>\n",
              "      <td>0.176457</td>\n",
              "      <td>0.931880</td>\n",
              "      <td>18:15</td>\n",
              "    </tr>\n",
              "  </tbody>\n",
              "</table>"
            ],
            "text/plain": [
              "<IPython.core.display.HTML object>"
            ]
          },
          "metadata": {
            "tags": []
          }
        }
      ]
    },
    {
      "metadata": {
        "colab_type": "code",
        "id": "7JNsM7Hd4bGk",
        "colab": {}
      },
      "cell_type": "code",
      "source": [
        "learn.save('third')"
      ],
      "execution_count": 0,
      "outputs": []
    },
    {
      "metadata": {
        "colab_type": "code",
        "outputId": "2ecba832-82a4-4c82-b658-8af514805b74",
        "id": "94hz8SaK4bGq",
        "colab": {
          "base_uri": "https://localhost:8080/",
          "height": 4930
        }
      },
      "cell_type": "code",
      "source": [
        "learn.load('third')"
      ],
      "execution_count": 0,
      "outputs": [
        {
          "output_type": "execute_result",
          "data": {
            "text/plain": [
              "RNNLearner(data=TextClasDataBunch;\n",
              "\n",
              "Train: LabelList (25000 items)\n",
              "x: TextList\n",
              "xxbos i vowed a long time ago to xxup never , xxup ever watch a movie that has xxup anyone who xxup ever was a regular cast member of \" xxmaj saturday xxmaj night xxmaj live \" . i did n't rent \" xxmaj corky xxmaj romano \" but i was forced by my unfailing good manners to watch it for half an hour . xxmaj then my good manners failed . xxmaj stupid , not funny . xxmaj tedious , not hilarious . xxmaj bad , not good . xxmaj that in a nutshell is all i can say for this video .,xxbos xxmaj the worst kind of film . xxmaj basically , the xxup us xxmaj declaration of xxmaj independence was replaced with a plasma screen and this fooled the museum 's security for several days . xxmaj eh ? \n",
              " \n",
              "  xxmaj the plasma screen that would theoretically run for less than 2 seconds off that watch battery , assuming it had a low enough internal resistance to deliver the required current , which it would n't . \n",
              " \n",
              "  xxmaj it would be possible with a dozen large car batteries and an xxunk , but that system would n't fit into the case . xxmaj sorry to be anal , but this is n't even close to being plausible . xxmaj the rest of the film was n't a great deal better and i 'm left wondering why the budget could n't have been donated to charity or me .,xxbos xxmaj years after the fall of the last of the great corporations , the world has fallen into a new dark age where cyborgs are harvested for their parts . xxmaj cash , a female cyborg , travels to a wasteland doctor to receive news that she is pregnant . xxmaj on the run from xxmaj xxunk ( bounty hunters who hunt cyborgs ) , xxmaj cash tries to find her way to xxmaj xxunk , the mythical refuge for cyborgs . \n",
              " \n",
              "  \" xxmaj cyborg 3 : xxmaj the xxmaj xxunk \" is the third ( & last so far ) entry in the xxup cyborg trilogy . xxmaj the first film was originally planned to be a sequel to xxup masters xxup of xxup the xxup universe , but was quickly rewritten into a standard post - apocalyptic martial - arts fest that became something of a cult classic due to its cheesy action scenes . xxup cyborg 2 : xxup glass xxup shadow was a sequel that actually improved upon its predecessor but was not widely seen ( & was dismissed by those few who saw it as cheap fodder ) . \n",
              " \n",
              "  xxmaj this film , for one thing , tries to be a meld of the first two films ( the first was a cheesy action film while the second was a smart xxmaj cyberpunk story ) but unfortunately falls short on both counts . xxmaj the budget was obviously lower than xxup cyborg 2 , with the film being set in the desert wastelands ( like so many post - apocalyptic action films of the 90s were ) , shot around old industrial buildings to conserve costs . \n",
              " \n",
              "  xxmaj the film 's story centres on a plot device , that of a pregnant cyborg , that is as interesting as it is absurd ( this film is not the first to try that idea ; the anime xxup ova series xxup armitage xxup iii uses it to a greater extent ) . xxmaj but the film falls into the same trap that so many low - budget sci - fi action films fall victim to , in the fact that the snags ( synthetic organisms ) featured are nothing more than androids . xxmaj the visual effects amount to nothing more than prosthetic arms & makeup effects . \n",
              " \n",
              "  xxmaj the acting is pretty standard for this kind of film , with the lead actress ( xxmaj xxunk xxmaj haje ) being the single worst performer on display . xxmaj instead of being joyed at the news she is pregnant , she acts all whiny & sullen . xxmaj her co - stars are much better , xxmaj malcolm mcdowell being the usual gangster type who enlivens the scenes he appears in & xxmaj richard xxmaj lynch has a lot of fun as the chief villain . xxmaj of particular note is xxmaj andrew xxmaj xxunk , playing xxmaj lynch 's right hand man , who would later appear in xxup the xxmaj texas xxup chainsaw xxup massacre remake & its prequel .,xxbos i firmly believe that the best xxmaj oscar ceremony in recent years was in 2003 for two reasons : \n",
              " \n",
              "  1 ) xxmaj host xxmaj steve xxmaj martin was at his most wittiest : \" i saw the teamsters help xxmaj michael xxmaj moore into the trunk of his limo \" and \" i 'll better not mention the gay mafia in case i wake up with a poodle 's head in my bed \" \n",
              " \n",
              "  2 ) xxmaj surprise winners : xxmaj no one had xxmaj adrien xxmaj brody down for best actor ( xxmaj genuine applause ) or xxmaj roman xxmaj polanski for best director ( xxmaj genuine jeers and boos ) but they won \n",
              " \n",
              "  xxmaj last year 's award ceremony was n't too bad but there was little in the way of surprises and i was happy to see xxup return xxup of xxup the xxup king sweep the awards even if it was n't the best in the trilogy ( xxup fellowship was much better ) but what let the xxup bbc coverage down was xxmaj jonathan xxmaj ross getting a few of his sycophantic mates round and pretending they were hilarious when they were anything but . xxmaj so when i heard xxmaj sky were doing the coverage for xxmaj british xxup tv i was expecting xxmaj barry xxmaj norman and xxmaj mark xxmaj kermode to be doing the links , but instead we ended up with xxmaj jamie xxmaj xxunk and xxmaj sharon xxmaj osbourne ! xxmaj oh gawd if xxmaj british xxup tv are desperate for film critics ( xxmaj obviously they are ) i 'm sure both xxmaj bob xxmaj the xxmaj moo and xxmaj theo xxmaj robertson will happily fly over to xxup la to give their honest opinions on the winners and losers \n",
              " \n",
              "  xxmaj chris xxmaj rock was n't too bad , but he 's no xxmaj steve xxmaj martin while the location seemed to resemble a sports hall with seats put in ! xxmaj not much of a glitzy arena in my opinion . xxmaj the main problem i had with the ceremony was the format with the \" minor \" xxmaj oscars handed out to the winners who were sitting in their seats ! xxmaj there 's no such thing as a \" minor \" xxmaj oscar and just because the award is for xxmaj best xxmaj animated xxmaj short or xxmaj best xxmaj costume xxmaj design they 're as well deserved as xxmaj best xxmaj picture or xxmaj best xxmaj director . xxmaj all the winners should be allowed to march up to the podium . xxmaj what a bunch of arrogant snobs the xxmaj academy are becoming and i quite agree with the comments that this format is disgraceful and if it was n't for the surprises this could possibly have been the worst ceremony in history . xxmaj as for the awards themselves \n",
              " \n",
              "  xxmaj best xxmaj supporting xxmaj actress - xxmaj cate xxmaj blanchett . xxmaj no great surprise for a competitive category \n",
              " \n",
              "  xxmaj best xxmaj supporting xxmaj actor - xxmaj morgan xxmaj freeman . xxmaj no real complaints since xxmaj freeman is one of xxmaj america 's greatest living character actors \n",
              " \n",
              "  xxmaj best xxmaj actor - xxmaj jamie xxmaj foxx . xxmaj most predictable award of the night . xxmaj yawn \n",
              " \n",
              "  xxmaj best xxmaj actress - xxmaj hilary xxmaj swank . xxmaj major surprise since everyone thought xxmaj annette xxmaj benning was going to win simply down to academy politics but xxmaj swank did deserve it and gave the best speech of the night \n",
              " \n",
              "  xxmaj best xxmaj director - xxmaj clint xxmaj eastwood . xxmaj major surprise since everyone thought xxmaj scorsese was going to get the award simply because he 'd never won one . xxmaj actually i 'm glad about this because if he did n't deserve it for xxup taxi xxup driver , xxup raging xxup bull or xxup goodfellas he did n't deserve it for xxup the xxup aviator \n",
              " \n",
              "  xxmaj best xxmaj film - xxup million xxup dollar xxup baby . xxmaj again another major surprise since everyone thought the academy would split the awards for best director and best picture while i thought the xxmaj hollywood friendly plot of xxup the xxup aviator would have made it a dead cert for xxmaj best xxmaj picture while xxup xxunk 's controversial subject matter would have turned a lot of voters off \n",
              " \n",
              "  xxmaj what these awards perhaps illustrate is that this year the voters have decided to ignore xxmaj oscar politics and genuinely give out awards to people who deserve it something they have n't done in the past , i mean a xxup beautiful xxup mind beating xxup the xxup fellowship xxup of xxup the xxup ring for gawd 's sake ! xxmaj and long may the academy vote with their heads instead of their hearts,xxbos xxmaj this film was hard to get a hold of , and when i eventually saw it the disappointment was overwhelming . i mean , this is one of the great stories of the twentieth century : an unknown man takes advantage of the unsuspecting airline industry and xxup gets xxup away with millions in ransom without hurting anyone or bungling the attempt . xxmaj with all of this built - in interest , how could anyone make such a lackluster , talk - laden flick of this true - life event . xxmaj while xxmaj williams is always interesting , the screenwriters assumed that the xxup d.b. xxmaj cooper persona was stereotypically heroic like a movie star , s what we get is a type - without any engaging details or insights into the mind of a person daring enough and clever enough to have pulled it off . xxmaj harrold practically steals the movie with her spunk and pure beauty , but the real letdown was in the handling of the plot and the lame direction . xxmaj shame on this film for even existing .\n",
              "y: CategoryList\n",
              "neg,neg,neg,neg,neg\n",
              "Path: /root/.fastai/data/imdb;\n",
              "\n",
              "Valid: LabelList (25000 items)\n",
              "x: TextList\n",
              "xxbos xxmaj oh xxmaj sex xxmaj lives of the xxmaj potato xxmaj men , what foul demon created thee ? xxmaj this is a film that you watch , smirk a little during the runtime and then when you mention it to others having seen it , you just can not help but smile as you talk . xxmaj but it 's not that xxmaj sex xxmaj lives of the xxmaj potato xxmaj men is actually a funny film and one that inspires you to smile when talking or thinking about it , it 's just that the film is so bizarre ; is so insulting and is no shameless in its attempt to get across a meek laugh to do with sex and sex lives in general that you just can not help but have your mouth break out into a grin . xxmaj do bear in mind that what follows the smirk is a sinking of the head ; a consequent shake of the head and a raise of the index finger and thumb to both eyebrows as you gently rub them in an attempt to reminisce about your time watching this trash . \n",
              " \n",
              "  xxmaj but that 's what the film is , it 's trash ; it 's very brave and shameless trash but trash none - the - less . xxmaj whoever came up with this idea , put it to paper and then spread it around the industry trying to get it made must either be very brave or very desperate . xxmaj it 's strange to have a film that is most definitely ' about ' something but one that does not have , under any sort of circumstance , a decisive narrative . xxmaj this follows on from that idea that most of xxmaj european cinema is artistic and its stories are ambiguous and open - ended and themes take precedence over most other things . xxmaj in xxmaj sex xxmaj lives of the xxmaj potato xxmaj men , the same situation and technically the same joke are replayed over and over again and that is an xxunk that consists of : ' sex is a very , very funny thing . ' xxmaj these ideas are perhaps more suited to an xxmaj american film so it 's no wonder that after a while watching this film , things start to feel a little out of sorts . \n",
              " \n",
              "  xxmaj the film begins and ends in the same manner , creating a feeling of a circular journey ; a circular journey that has gone absolutely nowhere and absolutely nothing has been achieved . xxmaj three blokes sit around a table talking and what - not . xxmaj their boss joins them and the conversation is limited to whatever crude and disgusting stories , situations or scenarios each can possibly think of . xxmaj the odd thing here , being that whenever one man says something nasty , the other grimaces but has an equally filthy story to give in return creating a contradiction in what these men find to cross the line and what they do not . xxmaj the men are xxmaj dave ( xxmaj vegas ) and xxmaj ferris ( xxmaj crook ) , two people joined by xxmaj xxunk ( xxmaj coleman ) whenever the film sees fit to throw in a third face to crack some more nasty sex jokes or break some peculiar stories . xxmaj they are employed by xxmaj jeremy ( xxmaj xxunk ) , a man who has deeper issues and problems but issues of which the film is more concerned with exploiting for the sake of humour rather than study . \n",
              " \n",
              "  xxmaj so what 's the situation in xxmaj sex xxmaj lives of the xxmaj potato xxmaj men ? xxmaj the three to four men are in a crisis and for the duration of the film , we will adopt the role of the hapless fly on the wall as we witness what foul play these people get up to over the period of about a week . xxmaj if the humour revolving around xxmaj dave and xxmaj ferris is disgusting and repulsive , then for xxmaj jeremy things are just spooky . xxmaj it all begins rather innocently and it appears there is a female he likes and one who equally likes him in return but when the essence that xxmaj jeremy is merely a stalker creeps in , that 's when the jaws drop . xxmaj the character of xxmaj jeremy is used and put across in a way that makes unrequited love and stalking in general merely look ' funny ' . xxmaj jeremy sits in his apartment listening to classical music and writing out letters of abuse to xxmaj ruth ( xxmaj davis ) , echoing some sort of psychotic persona more associated with xxmaj hannibal xxmaj lecter writing his letter 's to xxmaj clarice in 2001 's xxmaj hannibal . xxmaj but whatever sympathy we might have for him at this point is rendered absolutely false when , later on , it is revealed the true origin of their relationship . xxmaj suddenly , we as an audience feel cheated into feeling a mite sorry for him earlier on and for whatever reason he did do what he did in the first place just seems cowardly and distasteful . xxmaj to say what it was would ruin whatever few surprises lurk within the film . \n",
              " \n",
              "  xxmaj quite sad how , in one of xxmaj jeremy 's letters , he writes about something - or - other exclaiming it to have \" xxmaj no artistic vision  just one big mess \" . i hate it when words said by the characters echo the film they 're in . xxmaj sex xxmaj lives of the xxmaj potato xxmaj men does not explore someone 's psyche or particular interest in a fetish or why they feel the need to go around having as much sex as possible , it just uses them as a front to pile on ridiculously unfunny jokes and situations . xxmaj rather than take group sex and explore what drives a person to seek it down , it makes a daft joke out of it ( tickets with numbers on ! ? ) ; rather than get into the mindset of a fan of xxmaj sadomasochism , the film has someone hang from a basement ceiling and warn everyone of ' incoming salt and vinegar ' as he climaxes . xxmaj ferris covers his face in disgust and the camera fades to the next scene without too much of a fuss . xxmaj it 's a relief the film got to no audiences abroad . xxmaj this is one section of xxmaj british culture , indeed of the xxmaj british mentality that i pray will be confined to our shores and ignored accordingly .,xxbos xxmaj not as bad as 1992 's \" xxmaj nails \" ( where xxmaj hopper plays an \" unstable \" cop ) but pretty bad . xxmaj how can a movie with such a great cast go so wrong ? xxmaj this film manages to find a way . xxmaj the story was pretty stupid and xxmaj hopper 's direction seemed like he had never directed before . xxmaj all of the long shots in the beginning were bothersome . xxmaj lots of meaningless scenes with a lot of meaningless dialogue .,xxbos xxmaj this is a stereotype plot . a young fighter tries to enter a competition when he is not ready and is not selected to represent his fighting school . xxmaj this leads to separation from the fighting school and naturally he finds a strange new master to teach him to fight . \n",
              " \n",
              "  xxmaj the fights are not of high standards . xxmaj they are way too \" simple \" in a way that 1 + 1 is simple to every adult . xxmaj the fighter has trained and enters the ring , but does not do what he trained and gets an ass kicking . xxmaj the coach yells do this and do that with no success . xxmaj and after some more of this ridiculous beating he suddenly does what he is told and hits his opponent once . xxmaj this results in a turning point in the fight , although our hero has been taking a beating of his life up until that point . xxmaj think about the xxmaj rocky movies and you 'll have a good point of reference of how much beating he really takes . xxmaj the fights are also shot poorly . \n",
              " \n",
              "  xxmaj there final thing that screws this film up is the stupid romance . xxmaj cheesy music and awkward moments are not what i call entertainment . \n",
              " \n",
              "  xxmaj these guys really could have made some quality entertainment , but the director was n't up to the task . xxmaj or the other crew in my opinion . xxmaj maybe they had a small budget , i do n't know , but what matters in the end is that this movie is bad and deserves the rating of 3 out of 10 .,xxbos well i 'd probably agree with all the bad comments about this movie cos honestly i thought it was such a piece of crap i mean the actors had done a terrible acting job and the script was all terrible . xxmaj although the special effects was n't a bit bad but i think the should have thought a lot harder than that . i mean how did xxmaj clara xxmaj bryant get successfully put into this film i mean she 'd do a lot better if she looked a bit further and that goes the same with xxmaj kristen honey , i mean her character dies and she does n't bother to try and defend herself i mean it 's got ta be a total joke . xxmaj she should at least do a lot better than what she an do like become a soldier or more of a heroine or something along the lines of bravery . xxmaj but the point is the actors did a complete soulless lousy job and so did the director and the writer who made this film . they should 've went into film school to think up some better ideas and i hope everyone agrees with my methods cos they are probably thinking the same thing .,xxbos xxmaj this is a big disappointment . xxmaj the main problem is the acting . xxmaj xxunk le xxmaj touzel is pretty poor as xxmaj fanny , and the rest are not much better , everybody is very stilted and unnatural . xxmaj also the camerawork is very 1980 's ie cramped and jumpy , compared with the likes of 1995 's xxup p&p , for example . \n",
              " \n",
              "  xxmaj the script is , if anything too faithful to the book , and there are some cringe worthy expressions that should have been cut . \n",
              " \n",
              "  xxmaj in every way this is far inferior to the recent film version , which though it took huge liberties with the book , seemed far more faithful to the spirit of the book and was far more enjoyable .\n",
              "y: CategoryList\n",
              "neg,neg,neg,neg,neg\n",
              "Path: /root/.fastai/data/imdb;\n",
              "\n",
              "Test: None, model=SequentialRNN(\n",
              "  (0): MultiBatchEncoder(\n",
              "    (module): AWD_LSTM(\n",
              "      (encoder): Embedding(60003, 400, padding_idx=1)\n",
              "      (encoder_dp): EmbeddingDropout(\n",
              "        (emb): Embedding(60003, 400, padding_idx=1)\n",
              "      )\n",
              "      (rnns): ModuleList(\n",
              "        (0): WeightDropout(\n",
              "          (module): LSTM(400, 1150, batch_first=True)\n",
              "        )\n",
              "        (1): WeightDropout(\n",
              "          (module): LSTM(1150, 1150, batch_first=True)\n",
              "        )\n",
              "        (2): WeightDropout(\n",
              "          (module): LSTM(1150, 400, batch_first=True)\n",
              "        )\n",
              "      )\n",
              "      (input_dp): RNNDropout()\n",
              "      (hidden_dps): ModuleList(\n",
              "        (0): RNNDropout()\n",
              "        (1): RNNDropout()\n",
              "        (2): RNNDropout()\n",
              "      )\n",
              "    )\n",
              "  )\n",
              "  (1): PoolingLinearClassifier(\n",
              "    (layers): Sequential(\n",
              "      (0): BatchNorm1d(1200, eps=1e-05, momentum=0.1, affine=True, track_running_stats=True)\n",
              "      (1): Dropout(p=0.2)\n",
              "      (2): Linear(in_features=1200, out_features=50, bias=True)\n",
              "      (3): ReLU(inplace)\n",
              "      (4): BatchNorm1d(50, eps=1e-05, momentum=0.1, affine=True, track_running_stats=True)\n",
              "      (5): Dropout(p=0.1)\n",
              "      (6): Linear(in_features=50, out_features=2, bias=True)\n",
              "    )\n",
              "  )\n",
              "), opt_func=functools.partial(<class 'torch.optim.adam.Adam'>, betas=(0.9, 0.99)), loss_func=FlattenedLoss of CrossEntropyLoss(), metrics=[<function accuracy at 0x7fd56f7c8bf8>], true_wd=True, bn_wd=True, wd=0.01, train_bn=True, path=PosixPath('/root/.fastai/data/imdb'), model_dir='models', callback_fns=[functools.partial(<class 'fastai.basic_train.Recorder'>, add_time=True)], callbacks=[RNNTrainer\n",
              "learn: RNNLearner(data=TextClasDataBunch;\n",
              "\n",
              "Train: LabelList (25000 items)\n",
              "x: TextList\n",
              "xxbos i vowed a long time ago to xxup never , xxup ever watch a movie that has xxup anyone who xxup ever was a regular cast member of \" xxmaj saturday xxmaj night xxmaj live \" . i did n't rent \" xxmaj corky xxmaj romano \" but i was forced by my unfailing good manners to watch it for half an hour . xxmaj then my good manners failed . xxmaj stupid , not funny . xxmaj tedious , not hilarious . xxmaj bad , not good . xxmaj that in a nutshell is all i can say for this video .,xxbos xxmaj the worst kind of film . xxmaj basically , the xxup us xxmaj declaration of xxmaj independence was replaced with a plasma screen and this fooled the museum 's security for several days . xxmaj eh ? \n",
              " \n",
              "  xxmaj the plasma screen that would theoretically run for less than 2 seconds off that watch battery , assuming it had a low enough internal resistance to deliver the required current , which it would n't . \n",
              " \n",
              "  xxmaj it would be possible with a dozen large car batteries and an xxunk , but that system would n't fit into the case . xxmaj sorry to be anal , but this is n't even close to being plausible . xxmaj the rest of the film was n't a great deal better and i 'm left wondering why the budget could n't have been donated to charity or me .,xxbos xxmaj years after the fall of the last of the great corporations , the world has fallen into a new dark age where cyborgs are harvested for their parts . xxmaj cash , a female cyborg , travels to a wasteland doctor to receive news that she is pregnant . xxmaj on the run from xxmaj xxunk ( bounty hunters who hunt cyborgs ) , xxmaj cash tries to find her way to xxmaj xxunk , the mythical refuge for cyborgs . \n",
              " \n",
              "  \" xxmaj cyborg 3 : xxmaj the xxmaj xxunk \" is the third ( & last so far ) entry in the xxup cyborg trilogy . xxmaj the first film was originally planned to be a sequel to xxup masters xxup of xxup the xxup universe , but was quickly rewritten into a standard post - apocalyptic martial - arts fest that became something of a cult classic due to its cheesy action scenes . xxup cyborg 2 : xxup glass xxup shadow was a sequel that actually improved upon its predecessor but was not widely seen ( & was dismissed by those few who saw it as cheap fodder ) . \n",
              " \n",
              "  xxmaj this film , for one thing , tries to be a meld of the first two films ( the first was a cheesy action film while the second was a smart xxmaj cyberpunk story ) but unfortunately falls short on both counts . xxmaj the budget was obviously lower than xxup cyborg 2 , with the film being set in the desert wastelands ( like so many post - apocalyptic action films of the 90s were ) , shot around old industrial buildings to conserve costs . \n",
              " \n",
              "  xxmaj the film 's story centres on a plot device , that of a pregnant cyborg , that is as interesting as it is absurd ( this film is not the first to try that idea ; the anime xxup ova series xxup armitage xxup iii uses it to a greater extent ) . xxmaj but the film falls into the same trap that so many low - budget sci - fi action films fall victim to , in the fact that the snags ( synthetic organisms ) featured are nothing more than androids . xxmaj the visual effects amount to nothing more than prosthetic arms & makeup effects . \n",
              " \n",
              "  xxmaj the acting is pretty standard for this kind of film , with the lead actress ( xxmaj xxunk xxmaj haje ) being the single worst performer on display . xxmaj instead of being joyed at the news she is pregnant , she acts all whiny & sullen . xxmaj her co - stars are much better , xxmaj malcolm mcdowell being the usual gangster type who enlivens the scenes he appears in & xxmaj richard xxmaj lynch has a lot of fun as the chief villain . xxmaj of particular note is xxmaj andrew xxmaj xxunk , playing xxmaj lynch 's right hand man , who would later appear in xxup the xxmaj texas xxup chainsaw xxup massacre remake & its prequel .,xxbos i firmly believe that the best xxmaj oscar ceremony in recent years was in 2003 for two reasons : \n",
              " \n",
              "  1 ) xxmaj host xxmaj steve xxmaj martin was at his most wittiest : \" i saw the teamsters help xxmaj michael xxmaj moore into the trunk of his limo \" and \" i 'll better not mention the gay mafia in case i wake up with a poodle 's head in my bed \" \n",
              " \n",
              "  2 ) xxmaj surprise winners : xxmaj no one had xxmaj adrien xxmaj brody down for best actor ( xxmaj genuine applause ) or xxmaj roman xxmaj polanski for best director ( xxmaj genuine jeers and boos ) but they won \n",
              " \n",
              "  xxmaj last year 's award ceremony was n't too bad but there was little in the way of surprises and i was happy to see xxup return xxup of xxup the xxup king sweep the awards even if it was n't the best in the trilogy ( xxup fellowship was much better ) but what let the xxup bbc coverage down was xxmaj jonathan xxmaj ross getting a few of his sycophantic mates round and pretending they were hilarious when they were anything but . xxmaj so when i heard xxmaj sky were doing the coverage for xxmaj british xxup tv i was expecting xxmaj barry xxmaj norman and xxmaj mark xxmaj kermode to be doing the links , but instead we ended up with xxmaj jamie xxmaj xxunk and xxmaj sharon xxmaj osbourne ! xxmaj oh gawd if xxmaj british xxup tv are desperate for film critics ( xxmaj obviously they are ) i 'm sure both xxmaj bob xxmaj the xxmaj moo and xxmaj theo xxmaj robertson will happily fly over to xxup la to give their honest opinions on the winners and losers \n",
              " \n",
              "  xxmaj chris xxmaj rock was n't too bad , but he 's no xxmaj steve xxmaj martin while the location seemed to resemble a sports hall with seats put in ! xxmaj not much of a glitzy arena in my opinion . xxmaj the main problem i had with the ceremony was the format with the \" minor \" xxmaj oscars handed out to the winners who were sitting in their seats ! xxmaj there 's no such thing as a \" minor \" xxmaj oscar and just because the award is for xxmaj best xxmaj animated xxmaj short or xxmaj best xxmaj costume xxmaj design they 're as well deserved as xxmaj best xxmaj picture or xxmaj best xxmaj director . xxmaj all the winners should be allowed to march up to the podium . xxmaj what a bunch of arrogant snobs the xxmaj academy are becoming and i quite agree with the comments that this format is disgraceful and if it was n't for the surprises this could possibly have been the worst ceremony in history . xxmaj as for the awards themselves \n",
              " \n",
              "  xxmaj best xxmaj supporting xxmaj actress - xxmaj cate xxmaj blanchett . xxmaj no great surprise for a competitive category \n",
              " \n",
              "  xxmaj best xxmaj supporting xxmaj actor - xxmaj morgan xxmaj freeman . xxmaj no real complaints since xxmaj freeman is one of xxmaj america 's greatest living character actors \n",
              " \n",
              "  xxmaj best xxmaj actor - xxmaj jamie xxmaj foxx . xxmaj most predictable award of the night . xxmaj yawn \n",
              " \n",
              "  xxmaj best xxmaj actress - xxmaj hilary xxmaj swank . xxmaj major surprise since everyone thought xxmaj annette xxmaj benning was going to win simply down to academy politics but xxmaj swank did deserve it and gave the best speech of the night \n",
              " \n",
              "  xxmaj best xxmaj director - xxmaj clint xxmaj eastwood . xxmaj major surprise since everyone thought xxmaj scorsese was going to get the award simply because he 'd never won one . xxmaj actually i 'm glad about this because if he did n't deserve it for xxup taxi xxup driver , xxup raging xxup bull or xxup goodfellas he did n't deserve it for xxup the xxup aviator \n",
              " \n",
              "  xxmaj best xxmaj film - xxup million xxup dollar xxup baby . xxmaj again another major surprise since everyone thought the academy would split the awards for best director and best picture while i thought the xxmaj hollywood friendly plot of xxup the xxup aviator would have made it a dead cert for xxmaj best xxmaj picture while xxup xxunk 's controversial subject matter would have turned a lot of voters off \n",
              " \n",
              "  xxmaj what these awards perhaps illustrate is that this year the voters have decided to ignore xxmaj oscar politics and genuinely give out awards to people who deserve it something they have n't done in the past , i mean a xxup beautiful xxup mind beating xxup the xxup fellowship xxup of xxup the xxup ring for gawd 's sake ! xxmaj and long may the academy vote with their heads instead of their hearts,xxbos xxmaj this film was hard to get a hold of , and when i eventually saw it the disappointment was overwhelming . i mean , this is one of the great stories of the twentieth century : an unknown man takes advantage of the unsuspecting airline industry and xxup gets xxup away with millions in ransom without hurting anyone or bungling the attempt . xxmaj with all of this built - in interest , how could anyone make such a lackluster , talk - laden flick of this true - life event . xxmaj while xxmaj williams is always interesting , the screenwriters assumed that the xxup d.b. xxmaj cooper persona was stereotypically heroic like a movie star , s what we get is a type - without any engaging details or insights into the mind of a person daring enough and clever enough to have pulled it off . xxmaj harrold practically steals the movie with her spunk and pure beauty , but the real letdown was in the handling of the plot and the lame direction . xxmaj shame on this film for even existing .\n",
              "y: CategoryList\n",
              "neg,neg,neg,neg,neg\n",
              "Path: /root/.fastai/data/imdb;\n",
              "\n",
              "Valid: LabelList (25000 items)\n",
              "x: TextList\n",
              "xxbos xxmaj oh xxmaj sex xxmaj lives of the xxmaj potato xxmaj men , what foul demon created thee ? xxmaj this is a film that you watch , smirk a little during the runtime and then when you mention it to others having seen it , you just can not help but smile as you talk . xxmaj but it 's not that xxmaj sex xxmaj lives of the xxmaj potato xxmaj men is actually a funny film and one that inspires you to smile when talking or thinking about it , it 's just that the film is so bizarre ; is so insulting and is no shameless in its attempt to get across a meek laugh to do with sex and sex lives in general that you just can not help but have your mouth break out into a grin . xxmaj do bear in mind that what follows the smirk is a sinking of the head ; a consequent shake of the head and a raise of the index finger and thumb to both eyebrows as you gently rub them in an attempt to reminisce about your time watching this trash . \n",
              " \n",
              "  xxmaj but that 's what the film is , it 's trash ; it 's very brave and shameless trash but trash none - the - less . xxmaj whoever came up with this idea , put it to paper and then spread it around the industry trying to get it made must either be very brave or very desperate . xxmaj it 's strange to have a film that is most definitely ' about ' something but one that does not have , under any sort of circumstance , a decisive narrative . xxmaj this follows on from that idea that most of xxmaj european cinema is artistic and its stories are ambiguous and open - ended and themes take precedence over most other things . xxmaj in xxmaj sex xxmaj lives of the xxmaj potato xxmaj men , the same situation and technically the same joke are replayed over and over again and that is an xxunk that consists of : ' sex is a very , very funny thing . ' xxmaj these ideas are perhaps more suited to an xxmaj american film so it 's no wonder that after a while watching this film , things start to feel a little out of sorts . \n",
              " \n",
              "  xxmaj the film begins and ends in the same manner , creating a feeling of a circular journey ; a circular journey that has gone absolutely nowhere and absolutely nothing has been achieved . xxmaj three blokes sit around a table talking and what - not . xxmaj their boss joins them and the conversation is limited to whatever crude and disgusting stories , situations or scenarios each can possibly think of . xxmaj the odd thing here , being that whenever one man says something nasty , the other grimaces but has an equally filthy story to give in return creating a contradiction in what these men find to cross the line and what they do not . xxmaj the men are xxmaj dave ( xxmaj vegas ) and xxmaj ferris ( xxmaj crook ) , two people joined by xxmaj xxunk ( xxmaj coleman ) whenever the film sees fit to throw in a third face to crack some more nasty sex jokes or break some peculiar stories . xxmaj they are employed by xxmaj jeremy ( xxmaj xxunk ) , a man who has deeper issues and problems but issues of which the film is more concerned with exploiting for the sake of humour rather than study . \n",
              " \n",
              "  xxmaj so what 's the situation in xxmaj sex xxmaj lives of the xxmaj potato xxmaj men ? xxmaj the three to four men are in a crisis and for the duration of the film , we will adopt the role of the hapless fly on the wall as we witness what foul play these people get up to over the period of about a week . xxmaj if the humour revolving around xxmaj dave and xxmaj ferris is disgusting and repulsive , then for xxmaj jeremy things are just spooky . xxmaj it all begins rather innocently and it appears there is a female he likes and one who equally likes him in return but when the essence that xxmaj jeremy is merely a stalker creeps in , that 's when the jaws drop . xxmaj the character of xxmaj jeremy is used and put across in a way that makes unrequited love and stalking in general merely look ' funny ' . xxmaj jeremy sits in his apartment listening to classical music and writing out letters of abuse to xxmaj ruth ( xxmaj davis ) , echoing some sort of psychotic persona more associated with xxmaj hannibal xxmaj lecter writing his letter 's to xxmaj clarice in 2001 's xxmaj hannibal . xxmaj but whatever sympathy we might have for him at this point is rendered absolutely false when , later on , it is revealed the true origin of their relationship . xxmaj suddenly , we as an audience feel cheated into feeling a mite sorry for him earlier on and for whatever reason he did do what he did in the first place just seems cowardly and distasteful . xxmaj to say what it was would ruin whatever few surprises lurk within the film . \n",
              " \n",
              "  xxmaj quite sad how , in one of xxmaj jeremy 's letters , he writes about something - or - other exclaiming it to have \" xxmaj no artistic vision  just one big mess \" . i hate it when words said by the characters echo the film they 're in . xxmaj sex xxmaj lives of the xxmaj potato xxmaj men does not explore someone 's psyche or particular interest in a fetish or why they feel the need to go around having as much sex as possible , it just uses them as a front to pile on ridiculously unfunny jokes and situations . xxmaj rather than take group sex and explore what drives a person to seek it down , it makes a daft joke out of it ( tickets with numbers on ! ? ) ; rather than get into the mindset of a fan of xxmaj sadomasochism , the film has someone hang from a basement ceiling and warn everyone of ' incoming salt and vinegar ' as he climaxes . xxmaj ferris covers his face in disgust and the camera fades to the next scene without too much of a fuss . xxmaj it 's a relief the film got to no audiences abroad . xxmaj this is one section of xxmaj british culture , indeed of the xxmaj british mentality that i pray will be confined to our shores and ignored accordingly .,xxbos xxmaj not as bad as 1992 's \" xxmaj nails \" ( where xxmaj hopper plays an \" unstable \" cop ) but pretty bad . xxmaj how can a movie with such a great cast go so wrong ? xxmaj this film manages to find a way . xxmaj the story was pretty stupid and xxmaj hopper 's direction seemed like he had never directed before . xxmaj all of the long shots in the beginning were bothersome . xxmaj lots of meaningless scenes with a lot of meaningless dialogue .,xxbos xxmaj this is a stereotype plot . a young fighter tries to enter a competition when he is not ready and is not selected to represent his fighting school . xxmaj this leads to separation from the fighting school and naturally he finds a strange new master to teach him to fight . \n",
              " \n",
              "  xxmaj the fights are not of high standards . xxmaj they are way too \" simple \" in a way that 1 + 1 is simple to every adult . xxmaj the fighter has trained and enters the ring , but does not do what he trained and gets an ass kicking . xxmaj the coach yells do this and do that with no success . xxmaj and after some more of this ridiculous beating he suddenly does what he is told and hits his opponent once . xxmaj this results in a turning point in the fight , although our hero has been taking a beating of his life up until that point . xxmaj think about the xxmaj rocky movies and you 'll have a good point of reference of how much beating he really takes . xxmaj the fights are also shot poorly . \n",
              " \n",
              "  xxmaj there final thing that screws this film up is the stupid romance . xxmaj cheesy music and awkward moments are not what i call entertainment . \n",
              " \n",
              "  xxmaj these guys really could have made some quality entertainment , but the director was n't up to the task . xxmaj or the other crew in my opinion . xxmaj maybe they had a small budget , i do n't know , but what matters in the end is that this movie is bad and deserves the rating of 3 out of 10 .,xxbos well i 'd probably agree with all the bad comments about this movie cos honestly i thought it was such a piece of crap i mean the actors had done a terrible acting job and the script was all terrible . xxmaj although the special effects was n't a bit bad but i think the should have thought a lot harder than that . i mean how did xxmaj clara xxmaj bryant get successfully put into this film i mean she 'd do a lot better if she looked a bit further and that goes the same with xxmaj kristen honey , i mean her character dies and she does n't bother to try and defend herself i mean it 's got ta be a total joke . xxmaj she should at least do a lot better than what she an do like become a soldier or more of a heroine or something along the lines of bravery . xxmaj but the point is the actors did a complete soulless lousy job and so did the director and the writer who made this film . they should 've went into film school to think up some better ideas and i hope everyone agrees with my methods cos they are probably thinking the same thing .,xxbos xxmaj this is a big disappointment . xxmaj the main problem is the acting . xxmaj xxunk le xxmaj touzel is pretty poor as xxmaj fanny , and the rest are not much better , everybody is very stilted and unnatural . xxmaj also the camerawork is very 1980 's ie cramped and jumpy , compared with the likes of 1995 's xxup p&p , for example . \n",
              " \n",
              "  xxmaj the script is , if anything too faithful to the book , and there are some cringe worthy expressions that should have been cut . \n",
              " \n",
              "  xxmaj in every way this is far inferior to the recent film version , which though it took huge liberties with the book , seemed far more faithful to the spirit of the book and was far more enjoyable .\n",
              "y: CategoryList\n",
              "neg,neg,neg,neg,neg\n",
              "Path: /root/.fastai/data/imdb;\n",
              "\n",
              "Test: None, model=SequentialRNN(\n",
              "  (0): MultiBatchEncoder(\n",
              "    (module): AWD_LSTM(\n",
              "      (encoder): Embedding(60003, 400, padding_idx=1)\n",
              "      (encoder_dp): EmbeddingDropout(\n",
              "        (emb): Embedding(60003, 400, padding_idx=1)\n",
              "      )\n",
              "      (rnns): ModuleList(\n",
              "        (0): WeightDropout(\n",
              "          (module): LSTM(400, 1150, batch_first=True)\n",
              "        )\n",
              "        (1): WeightDropout(\n",
              "          (module): LSTM(1150, 1150, batch_first=True)\n",
              "        )\n",
              "        (2): WeightDropout(\n",
              "          (module): LSTM(1150, 400, batch_first=True)\n",
              "        )\n",
              "      )\n",
              "      (input_dp): RNNDropout()\n",
              "      (hidden_dps): ModuleList(\n",
              "        (0): RNNDropout()\n",
              "        (1): RNNDropout()\n",
              "        (2): RNNDropout()\n",
              "      )\n",
              "    )\n",
              "  )\n",
              "  (1): PoolingLinearClassifier(\n",
              "    (layers): Sequential(\n",
              "      (0): BatchNorm1d(1200, eps=1e-05, momentum=0.1, affine=True, track_running_stats=True)\n",
              "      (1): Dropout(p=0.2)\n",
              "      (2): Linear(in_features=1200, out_features=50, bias=True)\n",
              "      (3): ReLU(inplace)\n",
              "      (4): BatchNorm1d(50, eps=1e-05, momentum=0.1, affine=True, track_running_stats=True)\n",
              "      (5): Dropout(p=0.1)\n",
              "      (6): Linear(in_features=50, out_features=2, bias=True)\n",
              "    )\n",
              "  )\n",
              "), opt_func=functools.partial(<class 'torch.optim.adam.Adam'>, betas=(0.9, 0.99)), loss_func=FlattenedLoss of CrossEntropyLoss(), metrics=[<function accuracy at 0x7fd56f7c8bf8>], true_wd=True, bn_wd=True, wd=0.01, train_bn=True, path=PosixPath('/root/.fastai/data/imdb'), model_dir='models', callback_fns=[functools.partial(<class 'fastai.basic_train.Recorder'>, add_time=True)], callbacks=[...], layer_groups=[Sequential(\n",
              "  (0): Embedding(60003, 400, padding_idx=1)\n",
              "  (1): EmbeddingDropout(\n",
              "    (emb): Embedding(60003, 400, padding_idx=1)\n",
              "  )\n",
              "), Sequential(\n",
              "  (0): WeightDropout(\n",
              "    (module): LSTM(400, 1150, batch_first=True)\n",
              "  )\n",
              "  (1): RNNDropout()\n",
              "), Sequential(\n",
              "  (0): WeightDropout(\n",
              "    (module): LSTM(1150, 1150, batch_first=True)\n",
              "  )\n",
              "  (1): RNNDropout()\n",
              "), Sequential(\n",
              "  (0): WeightDropout(\n",
              "    (module): LSTM(1150, 400, batch_first=True)\n",
              "  )\n",
              "  (1): RNNDropout()\n",
              "), Sequential(\n",
              "  (0): PoolingLinearClassifier(\n",
              "    (layers): Sequential(\n",
              "      (0): BatchNorm1d(1200, eps=1e-05, momentum=0.1, affine=True, track_running_stats=True)\n",
              "      (1): Dropout(p=0.2)\n",
              "      (2): Linear(in_features=1200, out_features=50, bias=True)\n",
              "      (3): ReLU(inplace)\n",
              "      (4): BatchNorm1d(50, eps=1e-05, momentum=0.1, affine=True, track_running_stats=True)\n",
              "      (5): Dropout(p=0.1)\n",
              "      (6): Linear(in_features=50, out_features=2, bias=True)\n",
              "    )\n",
              "  )\n",
              ")], add_time=True)\n",
              "alpha: 2.0\n",
              "beta: 1.0], layer_groups=[Sequential(\n",
              "  (0): Embedding(60003, 400, padding_idx=1)\n",
              "  (1): EmbeddingDropout(\n",
              "    (emb): Embedding(60003, 400, padding_idx=1)\n",
              "  )\n",
              "), Sequential(\n",
              "  (0): WeightDropout(\n",
              "    (module): LSTM(400, 1150, batch_first=True)\n",
              "  )\n",
              "  (1): RNNDropout()\n",
              "), Sequential(\n",
              "  (0): WeightDropout(\n",
              "    (module): LSTM(1150, 1150, batch_first=True)\n",
              "  )\n",
              "  (1): RNNDropout()\n",
              "), Sequential(\n",
              "  (0): WeightDropout(\n",
              "    (module): LSTM(1150, 400, batch_first=True)\n",
              "  )\n",
              "  (1): RNNDropout()\n",
              "), Sequential(\n",
              "  (0): PoolingLinearClassifier(\n",
              "    (layers): Sequential(\n",
              "      (0): BatchNorm1d(1200, eps=1e-05, momentum=0.1, affine=True, track_running_stats=True)\n",
              "      (1): Dropout(p=0.2)\n",
              "      (2): Linear(in_features=1200, out_features=50, bias=True)\n",
              "      (3): ReLU(inplace)\n",
              "      (4): BatchNorm1d(50, eps=1e-05, momentum=0.1, affine=True, track_running_stats=True)\n",
              "      (5): Dropout(p=0.1)\n",
              "      (6): Linear(in_features=50, out_features=2, bias=True)\n",
              "    )\n",
              "  )\n",
              ")], add_time=True)"
            ]
          },
          "metadata": {
            "tags": []
          },
          "execution_count": 83
        }
      ]
    },
    {
      "metadata": {
        "colab_type": "code",
        "outputId": "a3ad8fea-5c3d-459f-b4f9-7f967e968249",
        "id": "_2Unl-EH4bGv",
        "colab": {
          "base_uri": "https://localhost:8080/",
          "height": 103
        }
      },
      "cell_type": "code",
      "source": [
        "learn.unfreeze()\n",
        "learn.fit_one_cycle(1, slice(1e-3/(2.6**4),1e-3), moms=(0.8,0.7))"
      ],
      "execution_count": 0,
      "outputs": [
        {
          "output_type": "display_data",
          "data": {
            "text/html": [
              "Total time: 24:37 <p><table border=\"1\" class=\"dataframe\">\n",
              "  <thead>\n",
              "    <tr style=\"text-align: left;\">\n",
              "      <th>epoch</th>\n",
              "      <th>train_loss</th>\n",
              "      <th>valid_loss</th>\n",
              "      <th>accuracy</th>\n",
              "      <th>time</th>\n",
              "    </tr>\n",
              "  </thead>\n",
              "  <tbody>\n",
              "    <tr>\n",
              "      <td>0</td>\n",
              "      <td>0.213888</td>\n",
              "      <td>0.168152</td>\n",
              "      <td>0.936520</td>\n",
              "      <td>24:37</td>\n",
              "    </tr>\n",
              "  </tbody>\n",
              "</table>"
            ],
            "text/plain": [
              "<IPython.core.display.HTML object>"
            ]
          },
          "metadata": {
            "tags": []
          }
        }
      ]
    },
    {
      "metadata": {
        "colab_type": "code",
        "outputId": "980df971-e644-44cf-9517-d36e29df97dd",
        "id": "W_cYfIJx4bGz",
        "colab": {
          "base_uri": "https://localhost:8080/",
          "height": 35
        }
      },
      "cell_type": "code",
      "source": [
        "learn.predict(\"I really loved that movie, it was awesome!\")"
      ],
      "execution_count": 0,
      "outputs": [
        {
          "output_type": "execute_result",
          "data": {
            "text/plain": [
              "(Category pos, tensor(1), tensor([1.2576e-05, 9.9999e-01]))"
            ]
          },
          "metadata": {
            "tags": []
          },
          "execution_count": 85
        }
      ]
    }
  ]
}