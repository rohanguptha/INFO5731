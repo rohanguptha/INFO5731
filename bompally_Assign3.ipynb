{
  "nbformat": 4,
  "nbformat_minor": 0,
  "metadata": {
    "colab": {
      "name": "bompally_Assign3.ipynb",
      "version": "0.3.2",
      "provenance": [],
      "collapsed_sections": [],
      "include_colab_link": true
    },
    "kernelspec": {
      "name": "python3",
      "display_name": "Python 3"
    }
  },
  "cells": [
    {
      "cell_type": "markdown",
      "metadata": {
        "id": "view-in-github",
        "colab_type": "text"
      },
      "source": [
        "<a href=\"https://colab.research.google.com/github/rohanguptha/INFO5731/blob/master/bompally_Assign3.ipynb\" target=\"_parent\"><img src=\"https://colab.research.google.com/assets/colab-badge.svg\" alt=\"Open In Colab\"/></a>"
      ]
    },
    {
      "metadata": {
        "id": "9GLEkynozH-d",
        "colab_type": "text"
      },
      "cell_type": "markdown",
      "source": [
        "# Assignment 3\n",
        "\n",
        "In this assignment, you will try to gather information from open data via API and visualize them.\n",
        "\n",
        "We will use the API from wikipedia as an example.\n",
        "\n",
        "Please go to [this web page](https://wikitech.wikimedia.org/wiki/Analytics/AQS/Pageviews), to learn how to get Pageviews of a certain wikipedia page.\n",
        "\n",
        "![](https://github.com/wshuyi/github_pub_img/raw/master/assets/2019-02-13-10-57-35-202134.png)\n",
        "\n",
        "As you can see here, to get a pageview count timeseries of en.wikipedia's article \"[Albert Enstein](https://en.wikipedia.org/wiki/Albert_Einstein)\" for the month of October 2015, you can use the following url with a \"GET\" method.\n",
        "\n",
        "[https://wikimedia.org/api/rest\\_v1/metrics/pageviews/per-article/en.wikipedia/all-access/all-agents/Albert\\_Einstein/daily/2015100100/2015103100](https://wikimedia.org/api/rest_v1/metrics/pageviews/per-article/en.wikipedia/all-access/all-agents/Albert_Einstein/daily/2015100100/2015103100)\n",
        "\n",
        "Your task, is to get Pageviews count timeseries of en.wikipedia's article \"[University of North Texas](https://en.wikipedia.org/wiki/University_of_North_Texas)\" for the month of January 2019.\n",
        "\n",
        "\n",
        "![](https://github.com/wshuyi/github_pub_img/raw/master/assets/2019-02-13-10-57-35-210502.png)\n",
        "\n",
        "Please answer the following questions by putting your code in the corresponding chunks. You can create new code or text chunks if necessary.\n",
        "\n"
      ]
    },
    {
      "metadata": {
        "id": "ySIA8u72zPIc",
        "colab_type": "text"
      },
      "cell_type": "markdown",
      "source": [
        "**Question 1. (20 points)** Make the corresponding url to gather the required data, and save it into a variable called 'url'.\n",
        "\n"
      ]
    },
    {
      "metadata": {
        "id": "NDBkVHDlzRtp",
        "colab_type": "code",
        "colab": {}
      },
      "cell_type": "code",
      "source": [
        "url = 'https://wikimedia.org/api/rest_v1/metrics/pageviews/per-article/en.wikipedia.org/all-access/all-agents/University_of_North_Texas/daily/2019010100/2019013100'"
      ],
      "execution_count": 0,
      "outputs": []
    },
    {
      "metadata": {
        "id": "9dQcHDnvzR_m",
        "colab_type": "text"
      },
      "cell_type": "markdown",
      "source": [
        "**Question 2. (20 points)** Call the API by using the url you created in Question 1, and print out the JSON data.\n",
        "\n",
        "![](https://github.com/wshuyi/github_pub_img/raw/master/assets/2019-02-13-10-57-35-196474.png)\n",
        "\n"
      ]
    },
    {
      "metadata": {
        "id": "UwObkLeozTxU",
        "colab_type": "code",
        "outputId": "0bae97a3-a420-4d57-dcda-fe2a469e1bd2",
        "colab": {
          "base_uri": "https://localhost:8080/",
          "height": 3779
        }
      },
      "cell_type": "code",
      "source": [
        "import requests\n",
        "import json\n",
        "response = requests.get(url)\n",
        "data = response.json()\n",
        "data"
      ],
      "execution_count": 0,
      "outputs": [
        {
          "output_type": "execute_result",
          "data": {
            "text/plain": [
              "{'items': [{'access': 'all-access',\n",
              "   'agent': 'all-agents',\n",
              "   'article': 'University_of_North_Texas',\n",
              "   'granularity': 'daily',\n",
              "   'project': 'en.wikipedia',\n",
              "   'timestamp': '2019010100',\n",
              "   'views': 732},\n",
              "  {'access': 'all-access',\n",
              "   'agent': 'all-agents',\n",
              "   'article': 'University_of_North_Texas',\n",
              "   'granularity': 'daily',\n",
              "   'project': 'en.wikipedia',\n",
              "   'timestamp': '2019010200',\n",
              "   'views': 834},\n",
              "  {'access': 'all-access',\n",
              "   'agent': 'all-agents',\n",
              "   'article': 'University_of_North_Texas',\n",
              "   'granularity': 'daily',\n",
              "   'project': 'en.wikipedia',\n",
              "   'timestamp': '2019010300',\n",
              "   'views': 821},\n",
              "  {'access': 'all-access',\n",
              "   'agent': 'all-agents',\n",
              "   'article': 'University_of_North_Texas',\n",
              "   'granularity': 'daily',\n",
              "   'project': 'en.wikipedia',\n",
              "   'timestamp': '2019010400',\n",
              "   'views': 719},\n",
              "  {'access': 'all-access',\n",
              "   'agent': 'all-agents',\n",
              "   'article': 'University_of_North_Texas',\n",
              "   'granularity': 'daily',\n",
              "   'project': 'en.wikipedia',\n",
              "   'timestamp': '2019010500',\n",
              "   'views': 672},\n",
              "  {'access': 'all-access',\n",
              "   'agent': 'all-agents',\n",
              "   'article': 'University_of_North_Texas',\n",
              "   'granularity': 'daily',\n",
              "   'project': 'en.wikipedia',\n",
              "   'timestamp': '2019010600',\n",
              "   'views': 676},\n",
              "  {'access': 'all-access',\n",
              "   'agent': 'all-agents',\n",
              "   'article': 'University_of_North_Texas',\n",
              "   'granularity': 'daily',\n",
              "   'project': 'en.wikipedia',\n",
              "   'timestamp': '2019010700',\n",
              "   'views': 632},\n",
              "  {'access': 'all-access',\n",
              "   'agent': 'all-agents',\n",
              "   'article': 'University_of_North_Texas',\n",
              "   'granularity': 'daily',\n",
              "   'project': 'en.wikipedia',\n",
              "   'timestamp': '2019010800',\n",
              "   'views': 788},\n",
              "  {'access': 'all-access',\n",
              "   'agent': 'all-agents',\n",
              "   'article': 'University_of_North_Texas',\n",
              "   'granularity': 'daily',\n",
              "   'project': 'en.wikipedia',\n",
              "   'timestamp': '2019010900',\n",
              "   'views': 712},\n",
              "  {'access': 'all-access',\n",
              "   'agent': 'all-agents',\n",
              "   'article': 'University_of_North_Texas',\n",
              "   'granularity': 'daily',\n",
              "   'project': 'en.wikipedia',\n",
              "   'timestamp': '2019011000',\n",
              "   'views': 673},\n",
              "  {'access': 'all-access',\n",
              "   'agent': 'all-agents',\n",
              "   'article': 'University_of_North_Texas',\n",
              "   'granularity': 'daily',\n",
              "   'project': 'en.wikipedia',\n",
              "   'timestamp': '2019011100',\n",
              "   'views': 784},\n",
              "  {'access': 'all-access',\n",
              "   'agent': 'all-agents',\n",
              "   'article': 'University_of_North_Texas',\n",
              "   'granularity': 'daily',\n",
              "   'project': 'en.wikipedia',\n",
              "   'timestamp': '2019011200',\n",
              "   'views': 663},\n",
              "  {'access': 'all-access',\n",
              "   'agent': 'all-agents',\n",
              "   'article': 'University_of_North_Texas',\n",
              "   'granularity': 'daily',\n",
              "   'project': 'en.wikipedia',\n",
              "   'timestamp': '2019011300',\n",
              "   'views': 685},\n",
              "  {'access': 'all-access',\n",
              "   'agent': 'all-agents',\n",
              "   'article': 'University_of_North_Texas',\n",
              "   'granularity': 'daily',\n",
              "   'project': 'en.wikipedia',\n",
              "   'timestamp': '2019011400',\n",
              "   'views': 752},\n",
              "  {'access': 'all-access',\n",
              "   'agent': 'all-agents',\n",
              "   'article': 'University_of_North_Texas',\n",
              "   'granularity': 'daily',\n",
              "   'project': 'en.wikipedia',\n",
              "   'timestamp': '2019011500',\n",
              "   'views': 731},\n",
              "  {'access': 'all-access',\n",
              "   'agent': 'all-agents',\n",
              "   'article': 'University_of_North_Texas',\n",
              "   'granularity': 'daily',\n",
              "   'project': 'en.wikipedia',\n",
              "   'timestamp': '2019011600',\n",
              "   'views': 779},\n",
              "  {'access': 'all-access',\n",
              "   'agent': 'all-agents',\n",
              "   'article': 'University_of_North_Texas',\n",
              "   'granularity': 'daily',\n",
              "   'project': 'en.wikipedia',\n",
              "   'timestamp': '2019011700',\n",
              "   'views': 779},\n",
              "  {'access': 'all-access',\n",
              "   'agent': 'all-agents',\n",
              "   'article': 'University_of_North_Texas',\n",
              "   'granularity': 'daily',\n",
              "   'project': 'en.wikipedia',\n",
              "   'timestamp': '2019011800',\n",
              "   'views': 616},\n",
              "  {'access': 'all-access',\n",
              "   'agent': 'all-agents',\n",
              "   'article': 'University_of_North_Texas',\n",
              "   'granularity': 'daily',\n",
              "   'project': 'en.wikipedia',\n",
              "   'timestamp': '2019011900',\n",
              "   'views': 502},\n",
              "  {'access': 'all-access',\n",
              "   'agent': 'all-agents',\n",
              "   'article': 'University_of_North_Texas',\n",
              "   'granularity': 'daily',\n",
              "   'project': 'en.wikipedia',\n",
              "   'timestamp': '2019012000',\n",
              "   'views': 487},\n",
              "  {'access': 'all-access',\n",
              "   'agent': 'all-agents',\n",
              "   'article': 'University_of_North_Texas',\n",
              "   'granularity': 'daily',\n",
              "   'project': 'en.wikipedia',\n",
              "   'timestamp': '2019012100',\n",
              "   'views': 505},\n",
              "  {'access': 'all-access',\n",
              "   'agent': 'all-agents',\n",
              "   'article': 'University_of_North_Texas',\n",
              "   'granularity': 'daily',\n",
              "   'project': 'en.wikipedia',\n",
              "   'timestamp': '2019012200',\n",
              "   'views': 567},\n",
              "  {'access': 'all-access',\n",
              "   'agent': 'all-agents',\n",
              "   'article': 'University_of_North_Texas',\n",
              "   'granularity': 'daily',\n",
              "   'project': 'en.wikipedia',\n",
              "   'timestamp': '2019012300',\n",
              "   'views': 537},\n",
              "  {'access': 'all-access',\n",
              "   'agent': 'all-agents',\n",
              "   'article': 'University_of_North_Texas',\n",
              "   'granularity': 'daily',\n",
              "   'project': 'en.wikipedia',\n",
              "   'timestamp': '2019012400',\n",
              "   'views': 504},\n",
              "  {'access': 'all-access',\n",
              "   'agent': 'all-agents',\n",
              "   'article': 'University_of_North_Texas',\n",
              "   'granularity': 'daily',\n",
              "   'project': 'en.wikipedia',\n",
              "   'timestamp': '2019012500',\n",
              "   'views': 574},\n",
              "  {'access': 'all-access',\n",
              "   'agent': 'all-agents',\n",
              "   'article': 'University_of_North_Texas',\n",
              "   'granularity': 'daily',\n",
              "   'project': 'en.wikipedia',\n",
              "   'timestamp': '2019012600',\n",
              "   'views': 430},\n",
              "  {'access': 'all-access',\n",
              "   'agent': 'all-agents',\n",
              "   'article': 'University_of_North_Texas',\n",
              "   'granularity': 'daily',\n",
              "   'project': 'en.wikipedia',\n",
              "   'timestamp': '2019012700',\n",
              "   'views': 412},\n",
              "  {'access': 'all-access',\n",
              "   'agent': 'all-agents',\n",
              "   'article': 'University_of_North_Texas',\n",
              "   'granularity': 'daily',\n",
              "   'project': 'en.wikipedia',\n",
              "   'timestamp': '2019012800',\n",
              "   'views': 486},\n",
              "  {'access': 'all-access',\n",
              "   'agent': 'all-agents',\n",
              "   'article': 'University_of_North_Texas',\n",
              "   'granularity': 'daily',\n",
              "   'project': 'en.wikipedia',\n",
              "   'timestamp': '2019012900',\n",
              "   'views': 605},\n",
              "  {'access': 'all-access',\n",
              "   'agent': 'all-agents',\n",
              "   'article': 'University_of_North_Texas',\n",
              "   'granularity': 'daily',\n",
              "   'project': 'en.wikipedia',\n",
              "   'timestamp': '2019013000',\n",
              "   'views': 515},\n",
              "  {'access': 'all-access',\n",
              "   'agent': 'all-agents',\n",
              "   'article': 'University_of_North_Texas',\n",
              "   'granularity': 'daily',\n",
              "   'project': 'en.wikipedia',\n",
              "   'timestamp': '2019013100',\n",
              "   'views': 489}]}"
            ]
          },
          "metadata": {
            "tags": []
          },
          "execution_count": 2
        }
      ]
    },
    {
      "metadata": {
        "id": "TNrhAwQLzVII",
        "colab_type": "text"
      },
      "cell_type": "markdown",
      "source": [
        "**Question 3. (20 points)** Load the JSON data into Pandas Dataframe, and show the first five rows.\n",
        "\n",
        "![](https://github.com/wshuyi/github_pub_img/raw/master/assets/2019-02-13-10-57-35-214261.png)\n",
        "\n"
      ]
    },
    {
      "metadata": {
        "id": "ndFJH614zFog",
        "colab_type": "code",
        "outputId": "0ff9cb73-0e0e-41f1-b0c5-3a2828bcfe4f",
        "colab": {
          "base_uri": "https://localhost:8080/",
          "height": 202
        }
      },
      "cell_type": "code",
      "source": [
        "import pandas as pd\n",
        "\n",
        "for k, v in data.items():\n",
        "    new_dict = v\n",
        "    \n",
        "result = pd.DataFrame(new_dict)\n",
        "result.head()"
      ],
      "execution_count": 0,
      "outputs": [
        {
          "output_type": "execute_result",
          "data": {
            "text/html": [
              "<div>\n",
              "<style scoped>\n",
              "    .dataframe tbody tr th:only-of-type {\n",
              "        vertical-align: middle;\n",
              "    }\n",
              "\n",
              "    .dataframe tbody tr th {\n",
              "        vertical-align: top;\n",
              "    }\n",
              "\n",
              "    .dataframe thead th {\n",
              "        text-align: right;\n",
              "    }\n",
              "</style>\n",
              "<table border=\"1\" class=\"dataframe\">\n",
              "  <thead>\n",
              "    <tr style=\"text-align: right;\">\n",
              "      <th></th>\n",
              "      <th>access</th>\n",
              "      <th>agent</th>\n",
              "      <th>article</th>\n",
              "      <th>granularity</th>\n",
              "      <th>project</th>\n",
              "      <th>timestamp</th>\n",
              "      <th>views</th>\n",
              "    </tr>\n",
              "  </thead>\n",
              "  <tbody>\n",
              "    <tr>\n",
              "      <th>0</th>\n",
              "      <td>all-access</td>\n",
              "      <td>all-agents</td>\n",
              "      <td>University_of_North_Texas</td>\n",
              "      <td>daily</td>\n",
              "      <td>en.wikipedia</td>\n",
              "      <td>2019010100</td>\n",
              "      <td>732</td>\n",
              "    </tr>\n",
              "    <tr>\n",
              "      <th>1</th>\n",
              "      <td>all-access</td>\n",
              "      <td>all-agents</td>\n",
              "      <td>University_of_North_Texas</td>\n",
              "      <td>daily</td>\n",
              "      <td>en.wikipedia</td>\n",
              "      <td>2019010200</td>\n",
              "      <td>834</td>\n",
              "    </tr>\n",
              "    <tr>\n",
              "      <th>2</th>\n",
              "      <td>all-access</td>\n",
              "      <td>all-agents</td>\n",
              "      <td>University_of_North_Texas</td>\n",
              "      <td>daily</td>\n",
              "      <td>en.wikipedia</td>\n",
              "      <td>2019010300</td>\n",
              "      <td>821</td>\n",
              "    </tr>\n",
              "    <tr>\n",
              "      <th>3</th>\n",
              "      <td>all-access</td>\n",
              "      <td>all-agents</td>\n",
              "      <td>University_of_North_Texas</td>\n",
              "      <td>daily</td>\n",
              "      <td>en.wikipedia</td>\n",
              "      <td>2019010400</td>\n",
              "      <td>719</td>\n",
              "    </tr>\n",
              "    <tr>\n",
              "      <th>4</th>\n",
              "      <td>all-access</td>\n",
              "      <td>all-agents</td>\n",
              "      <td>University_of_North_Texas</td>\n",
              "      <td>daily</td>\n",
              "      <td>en.wikipedia</td>\n",
              "      <td>2019010500</td>\n",
              "      <td>672</td>\n",
              "    </tr>\n",
              "  </tbody>\n",
              "</table>\n",
              "</div>"
            ],
            "text/plain": [
              "       access       agent                    article granularity  \\\n",
              "0  all-access  all-agents  University_of_North_Texas       daily   \n",
              "1  all-access  all-agents  University_of_North_Texas       daily   \n",
              "2  all-access  all-agents  University_of_North_Texas       daily   \n",
              "3  all-access  all-agents  University_of_North_Texas       daily   \n",
              "4  all-access  all-agents  University_of_North_Texas       daily   \n",
              "\n",
              "        project   timestamp  views  \n",
              "0  en.wikipedia  2019010100    732  \n",
              "1  en.wikipedia  2019010200    834  \n",
              "2  en.wikipedia  2019010300    821  \n",
              "3  en.wikipedia  2019010400    719  \n",
              "4  en.wikipedia  2019010500    672  "
            ]
          },
          "metadata": {
            "tags": []
          },
          "execution_count": 16
        }
      ]
    },
    {
      "metadata": {
        "id": "qT1mjIAFzWs5",
        "colab_type": "text"
      },
      "cell_type": "markdown",
      "source": [
        "**Question 4. (20 points)** Figure out the max and min views and corresponding date.\n",
        "\n",
        "![](https://github.com/wshuyi/github_pub_img/raw/master/assets/2019-02-13-10-57-35-195410.png)\n",
        "\n",
        "![](https://github.com/wshuyi/github_pub_img/raw/master/assets/2019-02-13-10-57-35-197160.png)\n",
        "\n"
      ]
    },
    {
      "metadata": {
        "id": "92z6TdkxzX3p",
        "colab_type": "code",
        "outputId": "63d8c240-abf6-4985-bf2e-a02d0f07b38e",
        "colab": {
          "base_uri": "https://localhost:8080/",
          "height": 121
        }
      },
      "cell_type": "code",
      "source": [
        "df = result[['timestamp', 'views']]\n",
        "print(df.loc[result['views'].idxmax()])\n",
        "print(df.loc[result['views'].idxmin()])"
      ],
      "execution_count": 0,
      "outputs": [
        {
          "output_type": "stream",
          "text": [
            "timestamp    2019010200\n",
            "views               834\n",
            "Name: 1, dtype: object\n",
            "timestamp    2019012700\n",
            "views               412\n",
            "Name: 26, dtype: object\n"
          ],
          "name": "stdout"
        }
      ]
    },
    {
      "metadata": {
        "id": "5YNmlvXkzYXC",
        "colab_type": "text"
      },
      "cell_type": "markdown",
      "source": [
        "**Question 5. (20 points)** Plot line chart of Pageviews for the whole month.\n",
        "\n",
        "![](https://github.com/wshuyi/github_pub_img/raw/master/assets/2019-02-13-10-57-35-197005.png)\n"
      ]
    },
    {
      "metadata": {
        "id": "w_SMnicQzY1Q",
        "colab_type": "code",
        "outputId": "07213785-604c-444d-83e8-888a188d8dd0",
        "colab": {
          "base_uri": "https://localhost:8080/",
          "height": 417
        }
      },
      "cell_type": "code",
      "source": [
        "import matplotlib.pyplot as plt\n",
        "import numpy as np\n",
        "result.views.plot()\n",
        "plt.ylabel('views')\n",
        "plt.title('Jan 2019', loc='left', y = -0.2)\n",
        "plt.title('feb', loc='right', y = -0.2)\n",
        "plt.title('date', y = -0.3)\n",
        "plt.xticks(np.arange(0, 31, step = 7))\n",
        "plt.show()"
      ],
      "execution_count": 0,
      "outputs": [
        {
          "output_type": "display_data",
          "data": {
            "image/png": "[encoded data removed]",
            "text/plain": [
              "<Figure size 576x396 with 1 Axes>"
            ]
          },
          "metadata": {
            "tags": []
          }
        }
      ]
    },
    {
      "metadata": {
        "id": "fJNTX69EZcMl",
        "colab_type": "code",
        "colab": {}
      },
      "cell_type": "code",
      "source": [
        ""
      ],
      "execution_count": 0,
      "outputs": []
    }
  ]
}