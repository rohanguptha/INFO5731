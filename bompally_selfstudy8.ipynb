{
  "nbformat": 4,
  "nbformat_minor": 0,
  "metadata": {
    "colab": {
      "name": "bompally_selfstudy8.ipynb",
      "version": "0.3.2",
      "provenance": [],
      "collapsed_sections": [],
      "include_colab_link": true
    },
    "kernelspec": {
      "display_name": "Python 3",
      "language": "python",
      "name": "python3"
    }
  },
  "cells": [
    {
      "cell_type": "markdown",
      "metadata": {
        "id": "view-in-github",
        "colab_type": "text"
      },
      "source": [
        "<a href=\"https://colab.research.google.com/github/rohanguptha/INFO5731/blob/master/bompally_selfstudy8.ipynb\" target=\"_parent\"><img src=\"https://colab.research.google.com/assets/colab-badge.svg\" alt=\"Open In Colab\"/></a>"
      ]
    },
    {
      "metadata": {
        "id": "gotU9L3wnn-K",
        "colab_type": "text"
      },
      "cell_type": "markdown",
      "source": [
        "# Self Study 8"
      ]
    },
    {
      "metadata": {
        "id": "dhGwfyRVnn-Q",
        "colab_type": "code",
        "colab": {}
      },
      "cell_type": "code",
      "source": [
        "from matplotlib import pyplot as plt"
      ],
      "execution_count": 0,
      "outputs": []
    },
    {
      "metadata": {
        "id": "kqjcxTI9nn-V",
        "colab_type": "code",
        "colab": {}
      },
      "cell_type": "code",
      "source": [
        "users = [\n",
        "    { \"id\": 0, \"name\": \"Hero\" },\n",
        "    { \"id\": 1, \"name\": \"Dunn\" },\n",
        "    { \"id\": 2, \"name\": \"Sue\" },\n",
        "    { \"id\": 3, \"name\": \"Chi\" },\n",
        "    { \"id\": 4, \"name\": \"Thor\" },\n",
        "    { \"id\": 5, \"name\": \"Clive\" },\n",
        "    { \"id\": 6, \"name\": \"Hicks\" },\n",
        "    { \"id\": 7, \"name\": \"Devin\" },\n",
        "    { \"id\": 8, \"name\": \"Kate\" },\n",
        "    { \"id\": 9, \"name\": \"Klein\" },\n",
        "    { \"id\": 10, \"name\": \"Jen\" }\n",
        "]\n"
      ],
      "execution_count": 0,
      "outputs": []
    },
    {
      "metadata": {
        "id": "8k6H-Fqtnn-Z",
        "colab_type": "code",
        "colab": {}
      },
      "cell_type": "code",
      "source": [
        "friendships = [(0, 1), (0, 2), (1, 2), (1, 3), (2, 3), (3, 4),\n",
        "               (4, 5), (5, 6), (5, 7), (6, 8), (7, 8), (8, 9)]"
      ],
      "execution_count": 0,
      "outputs": []
    },
    {
      "metadata": {
        "id": "WQbLZcqnnn-c",
        "colab_type": "code",
        "colab": {}
      },
      "cell_type": "code",
      "source": [
        "for user in users:\n",
        "    user[\"friends\"] = []"
      ],
      "execution_count": 0,
      "outputs": []
    },
    {
      "metadata": {
        "id": "Q2-bk3gpn6QS",
        "colab_type": "code",
        "colab": {
          "base_uri": "https://localhost:8080/",
          "height": 208
        },
        "outputId": "bad7e46b-0f44-409a-ba24-049483a8bd99"
      },
      "cell_type": "code",
      "source": [
        "users"
      ],
      "execution_count": 8,
      "outputs": [
        {
          "output_type": "execute_result",
          "data": {
            "text/plain": [
              "[{'friends': [], 'id': 0, 'name': 'Hero'},\n",
              " {'friends': [], 'id': 1, 'name': 'Dunn'},\n",
              " {'friends': [], 'id': 2, 'name': 'Sue'},\n",
              " {'friends': [], 'id': 3, 'name': 'Chi'},\n",
              " {'friends': [], 'id': 4, 'name': 'Thor'},\n",
              " {'friends': [], 'id': 5, 'name': 'Clive'},\n",
              " {'friends': [], 'id': 6, 'name': 'Hicks'},\n",
              " {'friends': [], 'id': 7, 'name': 'Devin'},\n",
              " {'friends': [], 'id': 8, 'name': 'Kate'},\n",
              " {'friends': [], 'id': 9, 'name': 'Klein'},\n",
              " {'friends': [], 'id': 10, 'name': 'Jen'}]"
            ]
          },
          "metadata": {
            "tags": []
          },
          "execution_count": 8
        }
      ]
    },
    {
      "metadata": {
        "id": "I83MG8Zdnn-f",
        "colab_type": "code",
        "colab": {}
      },
      "cell_type": "code",
      "source": [
        "for i, j in friendships:\n",
        "    users[i][\"friends\"].append(users[j]) # add i as a friend of j\n",
        "    users[j][\"friends\"].append(users[i]) # add j as a friend of i\n"
      ],
      "execution_count": 0,
      "outputs": []
    },
    {
      "metadata": {
        "id": "okNCODxyn9ln",
        "colab_type": "code",
        "colab": {
          "base_uri": "https://localhost:8080/",
          "height": 14491
        },
        "outputId": "29868dbb-2839-4705-ffe5-4c3514a5509c"
      },
      "cell_type": "code",
      "source": [
        "users"
      ],
      "execution_count": 10,
      "outputs": [
        {
          "output_type": "execute_result",
          "data": {
            "text/plain": [
              "[{'friends': [{'friends': [{...},\n",
              "     {'friends': [{...},\n",
              "       {...},\n",
              "       {'friends': [{...},\n",
              "         {...},\n",
              "         {'friends': [{...},\n",
              "           {'friends': [{...},\n",
              "             {'friends': [{...},\n",
              "               {'friends': [{...},\n",
              "                 {'friends': [{...}, {...}], 'id': 7, 'name': 'Devin'},\n",
              "                 {'friends': [{...}], 'id': 9, 'name': 'Klein'}],\n",
              "                'id': 8,\n",
              "                'name': 'Kate'}],\n",
              "              'id': 6,\n",
              "              'name': 'Hicks'},\n",
              "             {'friends': [{...},\n",
              "               {'friends': [{'friends': [{...}, {...}],\n",
              "                  'id': 6,\n",
              "                  'name': 'Hicks'},\n",
              "                 {...},\n",
              "                 {'friends': [{...}], 'id': 9, 'name': 'Klein'}],\n",
              "                'id': 8,\n",
              "                'name': 'Kate'}],\n",
              "              'id': 7,\n",
              "              'name': 'Devin'}],\n",
              "            'id': 5,\n",
              "            'name': 'Clive'}],\n",
              "          'id': 4,\n",
              "          'name': 'Thor'}],\n",
              "        'id': 3,\n",
              "        'name': 'Chi'}],\n",
              "      'id': 2,\n",
              "      'name': 'Sue'},\n",
              "     {'friends': [{...},\n",
              "       {'friends': [{...}, {...}, {...}], 'id': 2, 'name': 'Sue'},\n",
              "       {'friends': [{...},\n",
              "         {'friends': [{...},\n",
              "           {'friends': [{...},\n",
              "             {'friends': [{...},\n",
              "               {'friends': [{...}, {...}], 'id': 7, 'name': 'Devin'},\n",
              "               {'friends': [{...}], 'id': 9, 'name': 'Klein'}],\n",
              "              'id': 8,\n",
              "              'name': 'Kate'}],\n",
              "            'id': 6,\n",
              "            'name': 'Hicks'},\n",
              "           {'friends': [{...},\n",
              "             {'friends': [{'friends': [{...}, {...}],\n",
              "                'id': 6,\n",
              "                'name': 'Hicks'},\n",
              "               {...},\n",
              "               {'friends': [{...}], 'id': 9, 'name': 'Klein'}],\n",
              "              'id': 8,\n",
              "              'name': 'Kate'}],\n",
              "            'id': 7,\n",
              "            'name': 'Devin'}],\n",
              "          'id': 5,\n",
              "          'name': 'Clive'}],\n",
              "        'id': 4,\n",
              "        'name': 'Thor'}],\n",
              "      'id': 3,\n",
              "      'name': 'Chi'}],\n",
              "    'id': 1,\n",
              "    'name': 'Dunn'},\n",
              "   {'friends': [{...},\n",
              "     {'friends': [{...},\n",
              "       {...},\n",
              "       {'friends': [{...},\n",
              "         {...},\n",
              "         {'friends': [{...},\n",
              "           {'friends': [{...},\n",
              "             {'friends': [{...},\n",
              "               {'friends': [{...},\n",
              "                 {'friends': [{...}, {...}], 'id': 7, 'name': 'Devin'},\n",
              "                 {'friends': [{...}], 'id': 9, 'name': 'Klein'}],\n",
              "                'id': 8,\n",
              "                'name': 'Kate'}],\n",
              "              'id': 6,\n",
              "              'name': 'Hicks'},\n",
              "             {'friends': [{...},\n",
              "               {'friends': [{'friends': [{...}, {...}],\n",
              "                  'id': 6,\n",
              "                  'name': 'Hicks'},\n",
              "                 {...},\n",
              "                 {'friends': [{...}], 'id': 9, 'name': 'Klein'}],\n",
              "                'id': 8,\n",
              "                'name': 'Kate'}],\n",
              "              'id': 7,\n",
              "              'name': 'Devin'}],\n",
              "            'id': 5,\n",
              "            'name': 'Clive'}],\n",
              "          'id': 4,\n",
              "          'name': 'Thor'}],\n",
              "        'id': 3,\n",
              "        'name': 'Chi'}],\n",
              "      'id': 1,\n",
              "      'name': 'Dunn'},\n",
              "     {'friends': [{'friends': [{...}, {...}, {...}], 'id': 1, 'name': 'Dunn'},\n",
              "       {...},\n",
              "       {'friends': [{...},\n",
              "         {'friends': [{...},\n",
              "           {'friends': [{...},\n",
              "             {'friends': [{...},\n",
              "               {'friends': [{...}, {...}], 'id': 7, 'name': 'Devin'},\n",
              "               {'friends': [{...}], 'id': 9, 'name': 'Klein'}],\n",
              "              'id': 8,\n",
              "              'name': 'Kate'}],\n",
              "            'id': 6,\n",
              "            'name': 'Hicks'},\n",
              "           {'friends': [{...},\n",
              "             {'friends': [{'friends': [{...}, {...}],\n",
              "                'id': 6,\n",
              "                'name': 'Hicks'},\n",
              "               {...},\n",
              "               {'friends': [{...}], 'id': 9, 'name': 'Klein'}],\n",
              "              'id': 8,\n",
              "              'name': 'Kate'}],\n",
              "            'id': 7,\n",
              "            'name': 'Devin'}],\n",
              "          'id': 5,\n",
              "          'name': 'Clive'}],\n",
              "        'id': 4,\n",
              "        'name': 'Thor'}],\n",
              "      'id': 3,\n",
              "      'name': 'Chi'}],\n",
              "    'id': 2,\n",
              "    'name': 'Sue'}],\n",
              "  'id': 0,\n",
              "  'name': 'Hero'},\n",
              " {'friends': [{'friends': [{...},\n",
              "     {'friends': [{...},\n",
              "       {...},\n",
              "       {'friends': [{...},\n",
              "         {...},\n",
              "         {'friends': [{...},\n",
              "           {'friends': [{...},\n",
              "             {'friends': [{...},\n",
              "               {'friends': [{...},\n",
              "                 {'friends': [{...}, {...}], 'id': 7, 'name': 'Devin'},\n",
              "                 {'friends': [{...}], 'id': 9, 'name': 'Klein'}],\n",
              "                'id': 8,\n",
              "                'name': 'Kate'}],\n",
              "              'id': 6,\n",
              "              'name': 'Hicks'},\n",
              "             {'friends': [{...},\n",
              "               {'friends': [{'friends': [{...}, {...}],\n",
              "                  'id': 6,\n",
              "                  'name': 'Hicks'},\n",
              "                 {...},\n",
              "                 {'friends': [{...}], 'id': 9, 'name': 'Klein'}],\n",
              "                'id': 8,\n",
              "                'name': 'Kate'}],\n",
              "              'id': 7,\n",
              "              'name': 'Devin'}],\n",
              "            'id': 5,\n",
              "            'name': 'Clive'}],\n",
              "          'id': 4,\n",
              "          'name': 'Thor'}],\n",
              "        'id': 3,\n",
              "        'name': 'Chi'}],\n",
              "      'id': 2,\n",
              "      'name': 'Sue'}],\n",
              "    'id': 0,\n",
              "    'name': 'Hero'},\n",
              "   {'friends': [{'friends': [{...}, {...}], 'id': 0, 'name': 'Hero'},\n",
              "     {...},\n",
              "     {'friends': [{...},\n",
              "       {...},\n",
              "       {'friends': [{...},\n",
              "         {'friends': [{...},\n",
              "           {'friends': [{...},\n",
              "             {'friends': [{...},\n",
              "               {'friends': [{...}, {...}], 'id': 7, 'name': 'Devin'},\n",
              "               {'friends': [{...}], 'id': 9, 'name': 'Klein'}],\n",
              "              'id': 8,\n",
              "              'name': 'Kate'}],\n",
              "            'id': 6,\n",
              "            'name': 'Hicks'},\n",
              "           {'friends': [{...},\n",
              "             {'friends': [{'friends': [{...}, {...}],\n",
              "                'id': 6,\n",
              "                'name': 'Hicks'},\n",
              "               {...},\n",
              "               {'friends': [{...}], 'id': 9, 'name': 'Klein'}],\n",
              "              'id': 8,\n",
              "              'name': 'Kate'}],\n",
              "            'id': 7,\n",
              "            'name': 'Devin'}],\n",
              "          'id': 5,\n",
              "          'name': 'Clive'}],\n",
              "        'id': 4,\n",
              "        'name': 'Thor'}],\n",
              "      'id': 3,\n",
              "      'name': 'Chi'}],\n",
              "    'id': 2,\n",
              "    'name': 'Sue'},\n",
              "   {'friends': [{...},\n",
              "     {'friends': [{'friends': [{...}, {...}], 'id': 0, 'name': 'Hero'},\n",
              "       {...},\n",
              "       {...}],\n",
              "      'id': 2,\n",
              "      'name': 'Sue'},\n",
              "     {'friends': [{...},\n",
              "       {'friends': [{...},\n",
              "         {'friends': [{...},\n",
              "           {'friends': [{...},\n",
              "             {'friends': [{...}, {...}], 'id': 7, 'name': 'Devin'},\n",
              "             {'friends': [{...}], 'id': 9, 'name': 'Klein'}],\n",
              "            'id': 8,\n",
              "            'name': 'Kate'}],\n",
              "          'id': 6,\n",
              "          'name': 'Hicks'},\n",
              "         {'friends': [{...},\n",
              "           {'friends': [{'friends': [{...}, {...}], 'id': 6, 'name': 'Hicks'},\n",
              "             {...},\n",
              "             {'friends': [{...}], 'id': 9, 'name': 'Klein'}],\n",
              "            'id': 8,\n",
              "            'name': 'Kate'}],\n",
              "          'id': 7,\n",
              "          'name': 'Devin'}],\n",
              "        'id': 5,\n",
              "        'name': 'Clive'}],\n",
              "      'id': 4,\n",
              "      'name': 'Thor'}],\n",
              "    'id': 3,\n",
              "    'name': 'Chi'}],\n",
              "  'id': 1,\n",
              "  'name': 'Dunn'},\n",
              " {'friends': [{'friends': [{'friends': [{...},\n",
              "       {...},\n",
              "       {'friends': [{...},\n",
              "         {...},\n",
              "         {'friends': [{...},\n",
              "           {'friends': [{...},\n",
              "             {'friends': [{...},\n",
              "               {'friends': [{...},\n",
              "                 {'friends': [{...}, {...}], 'id': 7, 'name': 'Devin'},\n",
              "                 {'friends': [{...}], 'id': 9, 'name': 'Klein'}],\n",
              "                'id': 8,\n",
              "                'name': 'Kate'}],\n",
              "              'id': 6,\n",
              "              'name': 'Hicks'},\n",
              "             {'friends': [{...},\n",
              "               {'friends': [{'friends': [{...}, {...}],\n",
              "                  'id': 6,\n",
              "                  'name': 'Hicks'},\n",
              "                 {...},\n",
              "                 {'friends': [{...}], 'id': 9, 'name': 'Klein'}],\n",
              "                'id': 8,\n",
              "                'name': 'Kate'}],\n",
              "              'id': 7,\n",
              "              'name': 'Devin'}],\n",
              "            'id': 5,\n",
              "            'name': 'Clive'}],\n",
              "          'id': 4,\n",
              "          'name': 'Thor'}],\n",
              "        'id': 3,\n",
              "        'name': 'Chi'}],\n",
              "      'id': 1,\n",
              "      'name': 'Dunn'},\n",
              "     {...}],\n",
              "    'id': 0,\n",
              "    'name': 'Hero'},\n",
              "   {'friends': [{'friends': [{...}, {...}], 'id': 0, 'name': 'Hero'},\n",
              "     {...},\n",
              "     {'friends': [{...},\n",
              "       {...},\n",
              "       {'friends': [{...},\n",
              "         {'friends': [{...},\n",
              "           {'friends': [{...},\n",
              "             {'friends': [{...},\n",
              "               {'friends': [{...}, {...}], 'id': 7, 'name': 'Devin'},\n",
              "               {'friends': [{...}], 'id': 9, 'name': 'Klein'}],\n",
              "              'id': 8,\n",
              "              'name': 'Kate'}],\n",
              "            'id': 6,\n",
              "            'name': 'Hicks'},\n",
              "           {'friends': [{...},\n",
              "             {'friends': [{'friends': [{...}, {...}],\n",
              "                'id': 6,\n",
              "                'name': 'Hicks'},\n",
              "               {...},\n",
              "               {'friends': [{...}], 'id': 9, 'name': 'Klein'}],\n",
              "              'id': 8,\n",
              "              'name': 'Kate'}],\n",
              "            'id': 7,\n",
              "            'name': 'Devin'}],\n",
              "          'id': 5,\n",
              "          'name': 'Clive'}],\n",
              "        'id': 4,\n",
              "        'name': 'Thor'}],\n",
              "      'id': 3,\n",
              "      'name': 'Chi'}],\n",
              "    'id': 1,\n",
              "    'name': 'Dunn'},\n",
              "   {'friends': [{'friends': [{'friends': [{...}, {...}],\n",
              "        'id': 0,\n",
              "        'name': 'Hero'},\n",
              "       {...},\n",
              "       {...}],\n",
              "      'id': 1,\n",
              "      'name': 'Dunn'},\n",
              "     {...},\n",
              "     {'friends': [{...},\n",
              "       {'friends': [{...},\n",
              "         {'friends': [{...},\n",
              "           {'friends': [{...},\n",
              "             {'friends': [{...}, {...}], 'id': 7, 'name': 'Devin'},\n",
              "             {'friends': [{...}], 'id': 9, 'name': 'Klein'}],\n",
              "            'id': 8,\n",
              "            'name': 'Kate'}],\n",
              "          'id': 6,\n",
              "          'name': 'Hicks'},\n",
              "         {'friends': [{...},\n",
              "           {'friends': [{'friends': [{...}, {...}], 'id': 6, 'name': 'Hicks'},\n",
              "             {...},\n",
              "             {'friends': [{...}], 'id': 9, 'name': 'Klein'}],\n",
              "            'id': 8,\n",
              "            'name': 'Kate'}],\n",
              "          'id': 7,\n",
              "          'name': 'Devin'}],\n",
              "        'id': 5,\n",
              "        'name': 'Clive'}],\n",
              "      'id': 4,\n",
              "      'name': 'Thor'}],\n",
              "    'id': 3,\n",
              "    'name': 'Chi'}],\n",
              "  'id': 2,\n",
              "  'name': 'Sue'},\n",
              " {'friends': [{'friends': [{'friends': [{...},\n",
              "       {'friends': [{...}, {...}, {...}], 'id': 2, 'name': 'Sue'}],\n",
              "      'id': 0,\n",
              "      'name': 'Hero'},\n",
              "     {'friends': [{'friends': [{...}, {...}], 'id': 0, 'name': 'Hero'},\n",
              "       {...},\n",
              "       {...}],\n",
              "      'id': 2,\n",
              "      'name': 'Sue'},\n",
              "     {...}],\n",
              "    'id': 1,\n",
              "    'name': 'Dunn'},\n",
              "   {'friends': [{'friends': [{'friends': [{...}, {...}, {...}],\n",
              "        'id': 1,\n",
              "        'name': 'Dunn'},\n",
              "       {...}],\n",
              "      'id': 0,\n",
              "      'name': 'Hero'},\n",
              "     {'friends': [{'friends': [{...}, {...}], 'id': 0, 'name': 'Hero'},\n",
              "       {...},\n",
              "       {...}],\n",
              "      'id': 1,\n",
              "      'name': 'Dunn'},\n",
              "     {...}],\n",
              "    'id': 2,\n",
              "    'name': 'Sue'},\n",
              "   {'friends': [{...},\n",
              "     {'friends': [{...},\n",
              "       {'friends': [{...},\n",
              "         {'friends': [{...},\n",
              "           {'friends': [{...}, {...}], 'id': 7, 'name': 'Devin'},\n",
              "           {'friends': [{...}], 'id': 9, 'name': 'Klein'}],\n",
              "          'id': 8,\n",
              "          'name': 'Kate'}],\n",
              "        'id': 6,\n",
              "        'name': 'Hicks'},\n",
              "       {'friends': [{...},\n",
              "         {'friends': [{'friends': [{...}, {...}], 'id': 6, 'name': 'Hicks'},\n",
              "           {...},\n",
              "           {'friends': [{...}], 'id': 9, 'name': 'Klein'}],\n",
              "          'id': 8,\n",
              "          'name': 'Kate'}],\n",
              "        'id': 7,\n",
              "        'name': 'Devin'}],\n",
              "      'id': 5,\n",
              "      'name': 'Clive'}],\n",
              "    'id': 4,\n",
              "    'name': 'Thor'}],\n",
              "  'id': 3,\n",
              "  'name': 'Chi'},\n",
              " {'friends': [{'friends': [{'friends': [{'friends': [{...},\n",
              "         {'friends': [{...}, {...}, {...}], 'id': 2, 'name': 'Sue'}],\n",
              "        'id': 0,\n",
              "        'name': 'Hero'},\n",
              "       {'friends': [{'friends': [{...}, {...}], 'id': 0, 'name': 'Hero'},\n",
              "         {...},\n",
              "         {...}],\n",
              "        'id': 2,\n",
              "        'name': 'Sue'},\n",
              "       {...}],\n",
              "      'id': 1,\n",
              "      'name': 'Dunn'},\n",
              "     {'friends': [{'friends': [{'friends': [{...}, {...}, {...}],\n",
              "          'id': 1,\n",
              "          'name': 'Dunn'},\n",
              "         {...}],\n",
              "        'id': 0,\n",
              "        'name': 'Hero'},\n",
              "       {'friends': [{'friends': [{...}, {...}], 'id': 0, 'name': 'Hero'},\n",
              "         {...},\n",
              "         {...}],\n",
              "        'id': 1,\n",
              "        'name': 'Dunn'},\n",
              "       {...}],\n",
              "      'id': 2,\n",
              "      'name': 'Sue'},\n",
              "     {...}],\n",
              "    'id': 3,\n",
              "    'name': 'Chi'},\n",
              "   {'friends': [{...},\n",
              "     {'friends': [{...},\n",
              "       {'friends': [{...},\n",
              "         {'friends': [{...}, {...}], 'id': 7, 'name': 'Devin'},\n",
              "         {'friends': [{...}], 'id': 9, 'name': 'Klein'}],\n",
              "        'id': 8,\n",
              "        'name': 'Kate'}],\n",
              "      'id': 6,\n",
              "      'name': 'Hicks'},\n",
              "     {'friends': [{...},\n",
              "       {'friends': [{'friends': [{...}, {...}], 'id': 6, 'name': 'Hicks'},\n",
              "         {...},\n",
              "         {'friends': [{...}], 'id': 9, 'name': 'Klein'}],\n",
              "        'id': 8,\n",
              "        'name': 'Kate'}],\n",
              "      'id': 7,\n",
              "      'name': 'Devin'}],\n",
              "    'id': 5,\n",
              "    'name': 'Clive'}],\n",
              "  'id': 4,\n",
              "  'name': 'Thor'},\n",
              " {'friends': [{'friends': [{'friends': [{'friends': [{'friends': [{...},\n",
              "           {'friends': [{...}, {...}, {...}], 'id': 2, 'name': 'Sue'}],\n",
              "          'id': 0,\n",
              "          'name': 'Hero'},\n",
              "         {'friends': [{'friends': [{...}, {...}], 'id': 0, 'name': 'Hero'},\n",
              "           {...},\n",
              "           {...}],\n",
              "          'id': 2,\n",
              "          'name': 'Sue'},\n",
              "         {...}],\n",
              "        'id': 1,\n",
              "        'name': 'Dunn'},\n",
              "       {'friends': [{'friends': [{'friends': [{...}, {...}, {...}],\n",
              "            'id': 1,\n",
              "            'name': 'Dunn'},\n",
              "           {...}],\n",
              "          'id': 0,\n",
              "          'name': 'Hero'},\n",
              "         {'friends': [{'friends': [{...}, {...}], 'id': 0, 'name': 'Hero'},\n",
              "           {...},\n",
              "           {...}],\n",
              "          'id': 1,\n",
              "          'name': 'Dunn'},\n",
              "         {...}],\n",
              "        'id': 2,\n",
              "        'name': 'Sue'},\n",
              "       {...}],\n",
              "      'id': 3,\n",
              "      'name': 'Chi'},\n",
              "     {...}],\n",
              "    'id': 4,\n",
              "    'name': 'Thor'},\n",
              "   {'friends': [{...},\n",
              "     {'friends': [{...},\n",
              "       {'friends': [{...}, {...}], 'id': 7, 'name': 'Devin'},\n",
              "       {'friends': [{...}], 'id': 9, 'name': 'Klein'}],\n",
              "      'id': 8,\n",
              "      'name': 'Kate'}],\n",
              "    'id': 6,\n",
              "    'name': 'Hicks'},\n",
              "   {'friends': [{...},\n",
              "     {'friends': [{'friends': [{...}, {...}], 'id': 6, 'name': 'Hicks'},\n",
              "       {...},\n",
              "       {'friends': [{...}], 'id': 9, 'name': 'Klein'}],\n",
              "      'id': 8,\n",
              "      'name': 'Kate'}],\n",
              "    'id': 7,\n",
              "    'name': 'Devin'}],\n",
              "  'id': 5,\n",
              "  'name': 'Clive'},\n",
              " {'friends': [{'friends': [{'friends': [{'friends': [{'friends': [{'friends': [{...},\n",
              "             {'friends': [{...}, {...}, {...}], 'id': 2, 'name': 'Sue'}],\n",
              "            'id': 0,\n",
              "            'name': 'Hero'},\n",
              "           {'friends': [{'friends': [{...}, {...}], 'id': 0, 'name': 'Hero'},\n",
              "             {...},\n",
              "             {...}],\n",
              "            'id': 2,\n",
              "            'name': 'Sue'},\n",
              "           {...}],\n",
              "          'id': 1,\n",
              "          'name': 'Dunn'},\n",
              "         {'friends': [{'friends': [{'friends': [{...}, {...}, {...}],\n",
              "              'id': 1,\n",
              "              'name': 'Dunn'},\n",
              "             {...}],\n",
              "            'id': 0,\n",
              "            'name': 'Hero'},\n",
              "           {'friends': [{'friends': [{...}, {...}], 'id': 0, 'name': 'Hero'},\n",
              "             {...},\n",
              "             {...}],\n",
              "            'id': 1,\n",
              "            'name': 'Dunn'},\n",
              "           {...}],\n",
              "          'id': 2,\n",
              "          'name': 'Sue'},\n",
              "         {...}],\n",
              "        'id': 3,\n",
              "        'name': 'Chi'},\n",
              "       {...}],\n",
              "      'id': 4,\n",
              "      'name': 'Thor'},\n",
              "     {...},\n",
              "     {'friends': [{...},\n",
              "       {'friends': [{...},\n",
              "         {...},\n",
              "         {'friends': [{...}], 'id': 9, 'name': 'Klein'}],\n",
              "        'id': 8,\n",
              "        'name': 'Kate'}],\n",
              "      'id': 7,\n",
              "      'name': 'Devin'}],\n",
              "    'id': 5,\n",
              "    'name': 'Clive'},\n",
              "   {'friends': [{...},\n",
              "     {'friends': [{'friends': [{'friends': [{'friends': [{'friends': [{'friends': [{...},\n",
              "                 {'friends': [{...}, {...}, {...}], 'id': 2, 'name': 'Sue'}],\n",
              "                'id': 0,\n",
              "                'name': 'Hero'},\n",
              "               {'friends': [{'friends': [{...}, {...}],\n",
              "                  'id': 0,\n",
              "                  'name': 'Hero'},\n",
              "                 {...},\n",
              "                 {...}],\n",
              "                'id': 2,\n",
              "                'name': 'Sue'},\n",
              "               {...}],\n",
              "              'id': 1,\n",
              "              'name': 'Dunn'},\n",
              "             {'friends': [{'friends': [{'friends': [{...}, {...}, {...}],\n",
              "                  'id': 1,\n",
              "                  'name': 'Dunn'},\n",
              "                 {...}],\n",
              "                'id': 0,\n",
              "                'name': 'Hero'},\n",
              "               {'friends': [{'friends': [{...}, {...}],\n",
              "                  'id': 0,\n",
              "                  'name': 'Hero'},\n",
              "                 {...},\n",
              "                 {...}],\n",
              "                'id': 1,\n",
              "                'name': 'Dunn'},\n",
              "               {...}],\n",
              "              'id': 2,\n",
              "              'name': 'Sue'},\n",
              "             {...}],\n",
              "            'id': 3,\n",
              "            'name': 'Chi'},\n",
              "           {...}],\n",
              "          'id': 4,\n",
              "          'name': 'Thor'},\n",
              "         {...},\n",
              "         {...}],\n",
              "        'id': 5,\n",
              "        'name': 'Clive'},\n",
              "       {...}],\n",
              "      'id': 7,\n",
              "      'name': 'Devin'},\n",
              "     {'friends': [{...}], 'id': 9, 'name': 'Klein'}],\n",
              "    'id': 8,\n",
              "    'name': 'Kate'}],\n",
              "  'id': 6,\n",
              "  'name': 'Hicks'},\n",
              " {'friends': [{'friends': [{'friends': [{'friends': [{'friends': [{'friends': [{...},\n",
              "             {'friends': [{...}, {...}, {...}], 'id': 2, 'name': 'Sue'}],\n",
              "            'id': 0,\n",
              "            'name': 'Hero'},\n",
              "           {'friends': [{'friends': [{...}, {...}], 'id': 0, 'name': 'Hero'},\n",
              "             {...},\n",
              "             {...}],\n",
              "            'id': 2,\n",
              "            'name': 'Sue'},\n",
              "           {...}],\n",
              "          'id': 1,\n",
              "          'name': 'Dunn'},\n",
              "         {'friends': [{'friends': [{'friends': [{...}, {...}, {...}],\n",
              "              'id': 1,\n",
              "              'name': 'Dunn'},\n",
              "             {...}],\n",
              "            'id': 0,\n",
              "            'name': 'Hero'},\n",
              "           {'friends': [{'friends': [{...}, {...}], 'id': 0, 'name': 'Hero'},\n",
              "             {...},\n",
              "             {...}],\n",
              "            'id': 1,\n",
              "            'name': 'Dunn'},\n",
              "           {...}],\n",
              "          'id': 2,\n",
              "          'name': 'Sue'},\n",
              "         {...}],\n",
              "        'id': 3,\n",
              "        'name': 'Chi'},\n",
              "       {...}],\n",
              "      'id': 4,\n",
              "      'name': 'Thor'},\n",
              "     {'friends': [{...},\n",
              "       {'friends': [{...},\n",
              "         {...},\n",
              "         {'friends': [{...}], 'id': 9, 'name': 'Klein'}],\n",
              "        'id': 8,\n",
              "        'name': 'Kate'}],\n",
              "      'id': 6,\n",
              "      'name': 'Hicks'},\n",
              "     {...}],\n",
              "    'id': 5,\n",
              "    'name': 'Clive'},\n",
              "   {'friends': [{'friends': [{'friends': [{'friends': [{'friends': [{'friends': [{'friends': [{...},\n",
              "                 {'friends': [{...}, {...}, {...}], 'id': 2, 'name': 'Sue'}],\n",
              "                'id': 0,\n",
              "                'name': 'Hero'},\n",
              "               {'friends': [{'friends': [{...}, {...}],\n",
              "                  'id': 0,\n",
              "                  'name': 'Hero'},\n",
              "                 {...},\n",
              "                 {...}],\n",
              "                'id': 2,\n",
              "                'name': 'Sue'},\n",
              "               {...}],\n",
              "              'id': 1,\n",
              "              'name': 'Dunn'},\n",
              "             {'friends': [{'friends': [{'friends': [{...}, {...}, {...}],\n",
              "                  'id': 1,\n",
              "                  'name': 'Dunn'},\n",
              "                 {...}],\n",
              "                'id': 0,\n",
              "                'name': 'Hero'},\n",
              "               {'friends': [{'friends': [{...}, {...}],\n",
              "                  'id': 0,\n",
              "                  'name': 'Hero'},\n",
              "                 {...},\n",
              "                 {...}],\n",
              "                'id': 1,\n",
              "                'name': 'Dunn'},\n",
              "               {...}],\n",
              "              'id': 2,\n",
              "              'name': 'Sue'},\n",
              "             {...}],\n",
              "            'id': 3,\n",
              "            'name': 'Chi'},\n",
              "           {...}],\n",
              "          'id': 4,\n",
              "          'name': 'Thor'},\n",
              "         {...},\n",
              "         {...}],\n",
              "        'id': 5,\n",
              "        'name': 'Clive'},\n",
              "       {...}],\n",
              "      'id': 6,\n",
              "      'name': 'Hicks'},\n",
              "     {...},\n",
              "     {'friends': [{...}], 'id': 9, 'name': 'Klein'}],\n",
              "    'id': 8,\n",
              "    'name': 'Kate'}],\n",
              "  'id': 7,\n",
              "  'name': 'Devin'},\n",
              " {'friends': [{'friends': [{'friends': [{'friends': [{'friends': [{'friends': [{'friends': [{...},\n",
              "               {'friends': [{...}, {...}, {...}], 'id': 2, 'name': 'Sue'}],\n",
              "              'id': 0,\n",
              "              'name': 'Hero'},\n",
              "             {'friends': [{'friends': [{...}, {...}], 'id': 0, 'name': 'Hero'},\n",
              "               {...},\n",
              "               {...}],\n",
              "              'id': 2,\n",
              "              'name': 'Sue'},\n",
              "             {...}],\n",
              "            'id': 1,\n",
              "            'name': 'Dunn'},\n",
              "           {'friends': [{'friends': [{'friends': [{...}, {...}, {...}],\n",
              "                'id': 1,\n",
              "                'name': 'Dunn'},\n",
              "               {...}],\n",
              "              'id': 0,\n",
              "              'name': 'Hero'},\n",
              "             {'friends': [{'friends': [{...}, {...}], 'id': 0, 'name': 'Hero'},\n",
              "               {...},\n",
              "               {...}],\n",
              "              'id': 1,\n",
              "              'name': 'Dunn'},\n",
              "             {...}],\n",
              "            'id': 2,\n",
              "            'name': 'Sue'},\n",
              "           {...}],\n",
              "          'id': 3,\n",
              "          'name': 'Chi'},\n",
              "         {...}],\n",
              "        'id': 4,\n",
              "        'name': 'Thor'},\n",
              "       {...},\n",
              "       {'friends': [{...}, {...}], 'id': 7, 'name': 'Devin'}],\n",
              "      'id': 5,\n",
              "      'name': 'Clive'},\n",
              "     {...}],\n",
              "    'id': 6,\n",
              "    'name': 'Hicks'},\n",
              "   {'friends': [{'friends': [{'friends': [{'friends': [{'friends': [{'friends': [{...},\n",
              "               {'friends': [{...}, {...}, {...}], 'id': 2, 'name': 'Sue'}],\n",
              "              'id': 0,\n",
              "              'name': 'Hero'},\n",
              "             {'friends': [{'friends': [{...}, {...}], 'id': 0, 'name': 'Hero'},\n",
              "               {...},\n",
              "               {...}],\n",
              "              'id': 2,\n",
              "              'name': 'Sue'},\n",
              "             {...}],\n",
              "            'id': 1,\n",
              "            'name': 'Dunn'},\n",
              "           {'friends': [{'friends': [{'friends': [{...}, {...}, {...}],\n",
              "                'id': 1,\n",
              "                'name': 'Dunn'},\n",
              "               {...}],\n",
              "              'id': 0,\n",
              "              'name': 'Hero'},\n",
              "             {'friends': [{'friends': [{...}, {...}], 'id': 0, 'name': 'Hero'},\n",
              "               {...},\n",
              "               {...}],\n",
              "              'id': 1,\n",
              "              'name': 'Dunn'},\n",
              "             {...}],\n",
              "            'id': 2,\n",
              "            'name': 'Sue'},\n",
              "           {...}],\n",
              "          'id': 3,\n",
              "          'name': 'Chi'},\n",
              "         {...}],\n",
              "        'id': 4,\n",
              "        'name': 'Thor'},\n",
              "       {'friends': [{...}, {...}], 'id': 6, 'name': 'Hicks'},\n",
              "       {...}],\n",
              "      'id': 5,\n",
              "      'name': 'Clive'},\n",
              "     {...}],\n",
              "    'id': 7,\n",
              "    'name': 'Devin'},\n",
              "   {'friends': [{...}], 'id': 9, 'name': 'Klein'}],\n",
              "  'id': 8,\n",
              "  'name': 'Kate'},\n",
              " {'friends': [{'friends': [{'friends': [{'friends': [{'friends': [{'friends': [{'friends': [{'friends': [{...},\n",
              "                 {'friends': [{...}, {...}, {...}], 'id': 2, 'name': 'Sue'}],\n",
              "                'id': 0,\n",
              "                'name': 'Hero'},\n",
              "               {'friends': [{'friends': [{...}, {...}],\n",
              "                  'id': 0,\n",
              "                  'name': 'Hero'},\n",
              "                 {...},\n",
              "                 {...}],\n",
              "                'id': 2,\n",
              "                'name': 'Sue'},\n",
              "               {...}],\n",
              "              'id': 1,\n",
              "              'name': 'Dunn'},\n",
              "             {'friends': [{'friends': [{'friends': [{...}, {...}, {...}],\n",
              "                  'id': 1,\n",
              "                  'name': 'Dunn'},\n",
              "                 {...}],\n",
              "                'id': 0,\n",
              "                'name': 'Hero'},\n",
              "               {'friends': [{'friends': [{...}, {...}],\n",
              "                  'id': 0,\n",
              "                  'name': 'Hero'},\n",
              "                 {...},\n",
              "                 {...}],\n",
              "                'id': 1,\n",
              "                'name': 'Dunn'},\n",
              "               {...}],\n",
              "              'id': 2,\n",
              "              'name': 'Sue'},\n",
              "             {...}],\n",
              "            'id': 3,\n",
              "            'name': 'Chi'},\n",
              "           {...}],\n",
              "          'id': 4,\n",
              "          'name': 'Thor'},\n",
              "         {...},\n",
              "         {'friends': [{...}, {...}], 'id': 7, 'name': 'Devin'}],\n",
              "        'id': 5,\n",
              "        'name': 'Clive'},\n",
              "       {...}],\n",
              "      'id': 6,\n",
              "      'name': 'Hicks'},\n",
              "     {'friends': [{'friends': [{'friends': [{'friends': [{'friends': [{'friends': [{...},\n",
              "                 {'friends': [{...}, {...}, {...}], 'id': 2, 'name': 'Sue'}],\n",
              "                'id': 0,\n",
              "                'name': 'Hero'},\n",
              "               {'friends': [{'friends': [{...}, {...}],\n",
              "                  'id': 0,\n",
              "                  'name': 'Hero'},\n",
              "                 {...},\n",
              "                 {...}],\n",
              "                'id': 2,\n",
              "                'name': 'Sue'},\n",
              "               {...}],\n",
              "              'id': 1,\n",
              "              'name': 'Dunn'},\n",
              "             {'friends': [{'friends': [{'friends': [{...}, {...}, {...}],\n",
              "                  'id': 1,\n",
              "                  'name': 'Dunn'},\n",
              "                 {...}],\n",
              "                'id': 0,\n",
              "                'name': 'Hero'},\n",
              "               {'friends': [{'friends': [{...}, {...}],\n",
              "                  'id': 0,\n",
              "                  'name': 'Hero'},\n",
              "                 {...},\n",
              "                 {...}],\n",
              "                'id': 1,\n",
              "                'name': 'Dunn'},\n",
              "               {...}],\n",
              "              'id': 2,\n",
              "              'name': 'Sue'},\n",
              "             {...}],\n",
              "            'id': 3,\n",
              "            'name': 'Chi'},\n",
              "           {...}],\n",
              "          'id': 4,\n",
              "          'name': 'Thor'},\n",
              "         {'friends': [{...}, {...}], 'id': 6, 'name': 'Hicks'},\n",
              "         {...}],\n",
              "        'id': 5,\n",
              "        'name': 'Clive'},\n",
              "       {...}],\n",
              "      'id': 7,\n",
              "      'name': 'Devin'},\n",
              "     {...}],\n",
              "    'id': 8,\n",
              "    'name': 'Kate'}],\n",
              "  'id': 9,\n",
              "  'name': 'Klein'},\n",
              " {'friends': [], 'id': 10, 'name': 'Jen'}]"
            ]
          },
          "metadata": {
            "tags": []
          },
          "execution_count": 10
        }
      ]
    },
    {
      "metadata": {
        "id": "sa_1HGlJnn-i",
        "colab_type": "code",
        "colab": {}
      },
      "cell_type": "code",
      "source": [
        "def number_of_friends(user):\n",
        "    return len(user[\"friends\"]) # length of friend_ids list\n",
        "\n",
        "total_connections = sum(number_of_friends(user) for user in users) \n",
        "\n",
        "num_users = len(users)\n",
        "avg_connections = total_connections / num_users \n"
      ],
      "execution_count": 0,
      "outputs": []
    },
    {
      "metadata": {
        "id": "0ln1QIr9oL0e",
        "colab_type": "code",
        "colab": {
          "base_uri": "https://localhost:8080/",
          "height": 35
        },
        "outputId": "4a178695-f1b3-4815-b879-7a5f570b5201"
      },
      "cell_type": "code",
      "source": [
        "avg_connections"
      ],
      "execution_count": 15,
      "outputs": [
        {
          "output_type": "execute_result",
          "data": {
            "text/plain": [
              "2.1818181818181817"
            ]
          },
          "metadata": {
            "tags": []
          },
          "execution_count": 15
        }
      ]
    },
    {
      "metadata": {
        "id": "Klmf0qT5oJYY",
        "colab_type": "code",
        "colab": {
          "base_uri": "https://localhost:8080/",
          "height": 35
        },
        "outputId": "6b7042f4-252a-40cb-aa26-1b0c2e540f38"
      },
      "cell_type": "code",
      "source": [
        "total_connections"
      ],
      "execution_count": 16,
      "outputs": [
        {
          "output_type": "execute_result",
          "data": {
            "text/plain": [
              "24"
            ]
          },
          "metadata": {
            "tags": []
          },
          "execution_count": 16
        }
      ]
    },
    {
      "metadata": {
        "id": "IsDUOkBjnn-k",
        "colab_type": "code",
        "colab": {
          "base_uri": "https://localhost:8080/",
          "height": 208
        },
        "outputId": "b9d6c2d9-3910-4270-caa8-ec75f7d8d4bd"
      },
      "cell_type": "code",
      "source": [
        "num_friends_by_id = [(user[\"id\"], number_of_friends(user)) for user in users]\n",
        "sorted(num_friends_by_id, key= lambda userid_numfriends: userid_numfriends[1], reverse=True) "
      ],
      "execution_count": 17,
      "outputs": [
        {
          "output_type": "execute_result",
          "data": {
            "text/plain": [
              "[(1, 3),\n",
              " (2, 3),\n",
              " (3, 3),\n",
              " (5, 3),\n",
              " (8, 3),\n",
              " (0, 2),\n",
              " (4, 2),\n",
              " (6, 2),\n",
              " (7, 2),\n",
              " (9, 1),\n",
              " (10, 0)]"
            ]
          },
          "metadata": {
            "tags": []
          },
          "execution_count": 17
        }
      ]
    },
    {
      "metadata": {
        "id": "wgGRkzFLnn-o",
        "colab_type": "code",
        "colab": {}
      },
      "cell_type": "code",
      "source": [
        "def friends_of_friend_ids_bad(user):\n",
        "    return [foaf[\"id\"]\n",
        "            for friend in user[\"friends\"] \n",
        "            for foaf in friend[\"friends\"]] \n"
      ],
      "execution_count": 0,
      "outputs": []
    },
    {
      "metadata": {
        "id": "VV0zAmVKnn-q",
        "colab_type": "code",
        "colab": {
          "base_uri": "https://localhost:8080/",
          "height": 69
        },
        "outputId": "cceded5b-f9a5-4d9e-cb9a-47a34cf4a0fc"
      },
      "cell_type": "code",
      "source": [
        "print ([friend[\"id\"] for friend in users[0][\"friends\"]]) \n",
        "print ([friend[\"id\"] for friend in users[1][\"friends\"]]) \n",
        "print ([friend[\"id\"] for friend in users[2][\"friends\"]]) "
      ],
      "execution_count": 19,
      "outputs": [
        {
          "output_type": "stream",
          "text": [
            "[1, 2]\n",
            "[0, 2, 3]\n",
            "[0, 1, 3]\n"
          ],
          "name": "stdout"
        }
      ]
    },
    {
      "metadata": {
        "id": "CsnR-dRenn-t",
        "colab_type": "code",
        "colab": {}
      },
      "cell_type": "code",
      "source": [
        "from collections import Counter\n",
        "\n",
        "def not_the_same(user, other_user):\n",
        "    \"\"\"two users are not the same if they have different ids\"\"\"\n",
        "    return user[\"id\"] != other_user[\"id\"]\n",
        "\n",
        "def not_friends(user, other_user):\n",
        "    \"\"\"other_user is not a friend if he's not in user[\"friends\"];\n",
        "    that is, if he's not_the_same as all the people in user[\"friends\"]\"\"\"\n",
        "    return all(not_the_same(friend, other_user)\n",
        "               for friend in user[\"friends\"])\n",
        "\n",
        "def friends_of_friend_ids(user):\n",
        "    return Counter(foaf[\"id\"]\n",
        "                   for friend in user[\"friends\"]  # for each of my friends\n",
        "                   for foaf in friend[\"friends\"]  # count *their* friends\n",
        "                   if not_the_same(user, foaf)    # who aren't me\n",
        "                   and not_friends(user, foaf))   # and aren't my friends"
      ],
      "execution_count": 0,
      "outputs": []
    },
    {
      "metadata": {
        "id": "Frq9XWnMnn-v",
        "colab_type": "code",
        "colab": {
          "base_uri": "https://localhost:8080/",
          "height": 35
        },
        "outputId": "c12cbd75-c378-45b5-daea-30f255907122"
      },
      "cell_type": "code",
      "source": [
        "print (friends_of_friend_ids(users[3]))"
      ],
      "execution_count": 21,
      "outputs": [
        {
          "output_type": "stream",
          "text": [
            "Counter({0: 2, 5: 1})\n"
          ],
          "name": "stdout"
        }
      ]
    },
    {
      "metadata": {
        "id": "hFf-aHS6nn-y",
        "colab_type": "code",
        "colab": {}
      },
      "cell_type": "code",
      "source": [
        "interests = [\n",
        "    (0, \"Hadoop\"), (0, \"Big Data\"), (0, \"HBase\"), (0, \"Java\"),\n",
        "    (0, \"Spark\"), (0, \"Storm\"), (0, \"Cassandra\"),\n",
        "    (1, \"NoSQL\"), (1, \"MongoDB\"), (1, \"Cassandra\"), (1, \"HBase\"),\n",
        "    (1, \"Postgres\"), (2, \"Python\"), (2, \"scikit-learn\"), (2, \"scipy\"),\n",
        "    (2, \"numpy\"), (2, \"statsmodels\"), (2, \"pandas\"), (3, \"R\"), (3, \"Python\"),\n",
        "    (3, \"statistics\"), (3, \"regression\"), (3, \"probability\"),\n",
        "    (4, \"machine learning\"), (4, \"regression\"), (4, \"decision trees\"),\n",
        "    (4, \"libsvm\"), (5, \"Python\"), (5, \"R\"), (5, \"Java\"), (5, \"C++\"),\n",
        "    (5, \"Haskell\"), (5, \"programming languages\"), (6, \"statistics\"),\n",
        "    (6, \"probability\"), (6, \"mathematics\"), (6, \"theory\"),\n",
        "    (7, \"machine learning\"), (7, \"scikit-learn\"), (7, \"Mahout\"),\n",
        "    (7, \"neural networks\"), (8, \"neural networks\"), (8, \"deep learning\"),\n",
        "    (8, \"Big Data\"), (8, \"artificial intelligence\"), (9, \"Hadoop\"),\n",
        "    (9, \"Java\"), (9, \"MapReduce\"), (9, \"Big Data\")\n",
        "]"
      ],
      "execution_count": 0,
      "outputs": []
    },
    {
      "metadata": {
        "id": "J0jZHI1Fnn-0",
        "colab_type": "code",
        "colab": {}
      },
      "cell_type": "code",
      "source": [
        "def data_scientists_who_like(target_interest):\n",
        "    return [user_id\n",
        "            for user_id, user_interest in interests\n",
        "            if user_interest == target_interest]\n"
      ],
      "execution_count": 0,
      "outputs": []
    },
    {
      "metadata": {
        "id": "1QeR-rp2pqn_",
        "colab_type": "code",
        "colab": {
          "base_uri": "https://localhost:8080/",
          "height": 35
        },
        "outputId": "ce7c6de0-80ac-408f-d5e8-df9f6d3a92f5"
      },
      "cell_type": "code",
      "source": [
        "data_scientists_who_like(\"Hadoop\")"
      ],
      "execution_count": 24,
      "outputs": [
        {
          "output_type": "execute_result",
          "data": {
            "text/plain": [
              "[0, 9]"
            ]
          },
          "metadata": {
            "tags": []
          },
          "execution_count": 24
        }
      ]
    },
    {
      "metadata": {
        "id": "1giTQw4qp1c0",
        "colab_type": "code",
        "colab": {
          "base_uri": "https://localhost:8080/",
          "height": 35
        },
        "outputId": "a887e0ce-9fbc-4805-f826-76b7591741fc"
      },
      "cell_type": "code",
      "source": [
        "data_scientists_who_like(\"MapReduce\")"
      ],
      "execution_count": 25,
      "outputs": [
        {
          "output_type": "execute_result",
          "data": {
            "text/plain": [
              "[9]"
            ]
          },
          "metadata": {
            "tags": []
          },
          "execution_count": 25
        }
      ]
    },
    {
      "metadata": {
        "id": "iNLo53xMnn-2",
        "colab_type": "code",
        "colab": {}
      },
      "cell_type": "code",
      "source": [
        "from collections import defaultdict\n",
        "\n",
        "# keys are interests, values are lists of user_ids with that interest\n",
        "user_ids_by_interest = defaultdict(list)\n",
        "\n",
        "for user_id, interest in interests:\n",
        "    user_ids_by_interest[interest].append(user_id)\n",
        "\n",
        "# keys are user_ids, values are lists of interests for that user_id\n",
        "interests_by_user_id = defaultdict(list)\n",
        "\n",
        "for user_id, interest in interests:\n",
        "    interests_by_user_id[user_id].append(interest)"
      ],
      "execution_count": 0,
      "outputs": []
    },
    {
      "metadata": {
        "id": "bmRxI8VcqI2j",
        "colab_type": "code",
        "colab": {
          "base_uri": "https://localhost:8080/",
          "height": 589
        },
        "outputId": "27f16321-2fb9-49f4-a75e-36bdc9fc77c9"
      },
      "cell_type": "code",
      "source": [
        "interests_by_user_id"
      ],
      "execution_count": 27,
      "outputs": [
        {
          "output_type": "execute_result",
          "data": {
            "text/plain": [
              "defaultdict(list,\n",
              "            {0: ['Hadoop',\n",
              "              'Big Data',\n",
              "              'HBase',\n",
              "              'Java',\n",
              "              'Spark',\n",
              "              'Storm',\n",
              "              'Cassandra'],\n",
              "             1: ['NoSQL', 'MongoDB', 'Cassandra', 'HBase', 'Postgres'],\n",
              "             2: ['Python',\n",
              "              'scikit-learn',\n",
              "              'scipy',\n",
              "              'numpy',\n",
              "              'statsmodels',\n",
              "              'pandas'],\n",
              "             3: ['R', 'Python', 'statistics', 'regression', 'probability'],\n",
              "             4: ['machine learning', 'regression', 'decision trees', 'libsvm'],\n",
              "             5: ['Python',\n",
              "              'R',\n",
              "              'Java',\n",
              "              'C++',\n",
              "              'Haskell',\n",
              "              'programming languages'],\n",
              "             6: ['statistics', 'probability', 'mathematics', 'theory'],\n",
              "             7: ['machine learning',\n",
              "              'scikit-learn',\n",
              "              'Mahout',\n",
              "              'neural networks'],\n",
              "             8: ['neural networks',\n",
              "              'deep learning',\n",
              "              'Big Data',\n",
              "              'artificial intelligence'],\n",
              "             9: ['Hadoop', 'Java', 'MapReduce', 'Big Data']})"
            ]
          },
          "metadata": {
            "tags": []
          },
          "execution_count": 27
        }
      ]
    },
    {
      "metadata": {
        "id": "1yRMA_0cqNcH",
        "colab_type": "code",
        "colab": {
          "base_uri": "https://localhost:8080/",
          "height": 607
        },
        "outputId": "5df5430f-f242-4b3d-c8bd-d4ab26f64af5"
      },
      "cell_type": "code",
      "source": [
        "user_ids_by_interest"
      ],
      "execution_count": 28,
      "outputs": [
        {
          "output_type": "execute_result",
          "data": {
            "text/plain": [
              "defaultdict(list,\n",
              "            {'Big Data': [0, 8, 9],\n",
              "             'C++': [5],\n",
              "             'Cassandra': [0, 1],\n",
              "             'HBase': [0, 1],\n",
              "             'Hadoop': [0, 9],\n",
              "             'Haskell': [5],\n",
              "             'Java': [0, 5, 9],\n",
              "             'Mahout': [7],\n",
              "             'MapReduce': [9],\n",
              "             'MongoDB': [1],\n",
              "             'NoSQL': [1],\n",
              "             'Postgres': [1],\n",
              "             'Python': [2, 3, 5],\n",
              "             'R': [3, 5],\n",
              "             'Spark': [0],\n",
              "             'Storm': [0],\n",
              "             'artificial intelligence': [8],\n",
              "             'decision trees': [4],\n",
              "             'deep learning': [8],\n",
              "             'libsvm': [4],\n",
              "             'machine learning': [4, 7],\n",
              "             'mathematics': [6],\n",
              "             'neural networks': [7, 8],\n",
              "             'numpy': [2],\n",
              "             'pandas': [2],\n",
              "             'probability': [3, 6],\n",
              "             'programming languages': [5],\n",
              "             'regression': [3, 4],\n",
              "             'scikit-learn': [2, 7],\n",
              "             'scipy': [2],\n",
              "             'statistics': [3, 6],\n",
              "             'statsmodels': [2],\n",
              "             'theory': [6]})"
            ]
          },
          "metadata": {
            "tags": []
          },
          "execution_count": 28
        }
      ]
    },
    {
      "metadata": {
        "id": "8QiuXu9znn-4",
        "colab_type": "code",
        "colab": {}
      },
      "cell_type": "code",
      "source": [
        "def most_common_interests_with(user_id):\n",
        "    return Counter(interested_user_id\n",
        "        for interest in interests_by_user_id[\"user_id\"]\n",
        "        for interested_user_id in user_ids_by_interest[interest]\n",
        "        if interested_user_id != user_id)\n"
      ],
      "execution_count": 0,
      "outputs": []
    },
    {
      "metadata": {
        "id": "iLgrBlI7qV_m",
        "colab_type": "code",
        "colab": {
          "base_uri": "https://localhost:8080/",
          "height": 35
        },
        "outputId": "9d6f5797-19c1-439b-c0ac-6989bf85c13a"
      },
      "cell_type": "code",
      "source": [
        "most_common_interests_with(3)"
      ],
      "execution_count": 33,
      "outputs": [
        {
          "output_type": "execute_result",
          "data": {
            "text/plain": [
              "Counter()"
            ]
          },
          "metadata": {
            "tags": []
          },
          "execution_count": 33
        }
      ]
    },
    {
      "metadata": {
        "id": "L73Phs0bnn-7",
        "colab_type": "code",
        "colab": {}
      },
      "cell_type": "code",
      "source": [
        "salaries_and_tenures = [(83000, 8.7), (88000, 8.1),\n",
        "                        (48000, 0.7), (76000, 6),\n",
        "                        (69000, 6.5), (76000, 7.5),\n",
        "                        (60000, 2.5), (83000, 10),\n",
        "                        (48000, 1.9), (63000, 4.2)]"
      ],
      "execution_count": 0,
      "outputs": []
    },
    {
      "metadata": {
        "id": "relT36JJnn-_",
        "colab_type": "code",
        "colab": {}
      },
      "cell_type": "code",
      "source": [
        "def make_chart_salaries_by_tenure():\n",
        "    tenures = [tenure for salary, tenure in salaries_and_tenures]\n",
        "    salaries = [salary for salary, tenure in salaries_and_tenures]\n",
        "    plt.scatter(tenures, salaries)\n",
        "    plt.xlabel(\"Years Experience\")\n",
        "    plt.ylabel(\"Salary\")\n",
        "    plt.show()"
      ],
      "execution_count": 0,
      "outputs": []
    },
    {
      "metadata": {
        "id": "2xrHYh5Ann_C",
        "colab_type": "code",
        "colab": {
          "base_uri": "https://localhost:8080/",
          "height": 365
        },
        "outputId": "6e480c58-8b82-4baa-c8ff-b9b1a5c0271e"
      },
      "cell_type": "code",
      "source": [
        "make_chart_salaries_by_tenure()\n"
      ],
      "execution_count": 36,
      "outputs": [
        {
          "output_type": "display_data",
          "data": {
            "image/png": "[encoded data removed]",
            "text/plain": [
              "<Figure size 576x396 with 1 Axes>"
            ]
          },
          "metadata": {
            "tags": []
          }
        }
      ]
    },
    {
      "metadata": {
        "id": "zw8WPMWvnn_H",
        "colab_type": "code",
        "colab": {}
      },
      "cell_type": "code",
      "source": [
        "salary_by_tenure = defaultdict(list)\n",
        "\n",
        "for salary, tenure in salaries_and_tenures:\n",
        "    salary_by_tenure[tenure].append(salary)\n",
        "\n",
        "average_salary_by_tenure = {\n",
        "    tenure : sum(salaries) / len(salaries)\n",
        "    for tenure, salaries in salary_by_tenure.items()\n",
        "}"
      ],
      "execution_count": 0,
      "outputs": []
    },
    {
      "metadata": {
        "id": "2aT6oaygnn_J",
        "colab_type": "code",
        "colab": {
          "base_uri": "https://localhost:8080/",
          "height": 208
        },
        "outputId": "223beb88-22c5-4ebd-a36e-1377f6e44b4a"
      },
      "cell_type": "code",
      "source": [
        "salary_by_tenure"
      ],
      "execution_count": 38,
      "outputs": [
        {
          "output_type": "execute_result",
          "data": {
            "text/plain": [
              "defaultdict(list,\n",
              "            {0.7: [48000],\n",
              "             1.9: [48000],\n",
              "             2.5: [60000],\n",
              "             4.2: [63000],\n",
              "             6: [76000],\n",
              "             6.5: [69000],\n",
              "             7.5: [76000],\n",
              "             8.1: [88000],\n",
              "             8.7: [83000],\n",
              "             10: [83000]})"
            ]
          },
          "metadata": {
            "tags": []
          },
          "execution_count": 38
        }
      ]
    },
    {
      "metadata": {
        "id": "sIQqwJcFq5A6",
        "colab_type": "code",
        "colab": {
          "base_uri": "https://localhost:8080/",
          "height": 191
        },
        "outputId": "b3ceb3d2-b803-42c8-fbcf-8ef5c04ed159"
      },
      "cell_type": "code",
      "source": [
        "average_salary_by_tenure"
      ],
      "execution_count": 39,
      "outputs": [
        {
          "output_type": "execute_result",
          "data": {
            "text/plain": [
              "{0.7: 48000.0,\n",
              " 1.9: 48000.0,\n",
              " 2.5: 60000.0,\n",
              " 4.2: 63000.0,\n",
              " 6: 76000.0,\n",
              " 6.5: 69000.0,\n",
              " 7.5: 76000.0,\n",
              " 8.1: 88000.0,\n",
              " 8.7: 83000.0,\n",
              " 10: 83000.0}"
            ]
          },
          "metadata": {
            "tags": []
          },
          "execution_count": 39
        }
      ]
    },
    {
      "metadata": {
        "id": "ju-V9v4Nnn_M",
        "colab_type": "code",
        "colab": {}
      },
      "cell_type": "code",
      "source": [
        "def tenure_bucket(tenure):\n",
        "    if tenure < 2: return \"less than two\"\n",
        "    elif tenure < 5: return \"between two and five\"\n",
        "    else: return \"more than five\""
      ],
      "execution_count": 0,
      "outputs": []
    },
    {
      "metadata": {
        "id": "z-UzZNgSrAwp",
        "colab_type": "code",
        "colab": {
          "base_uri": "https://localhost:8080/",
          "height": 35
        },
        "outputId": "8bc9a0d3-0cf8-4a47-a812-58c633284ced"
      },
      "cell_type": "code",
      "source": [
        "tenure_bucket(5)"
      ],
      "execution_count": 41,
      "outputs": [
        {
          "output_type": "execute_result",
          "data": {
            "text/plain": [
              "'more than five'"
            ]
          },
          "metadata": {
            "tags": []
          },
          "execution_count": 41
        }
      ]
    },
    {
      "metadata": {
        "id": "OPKZS9cenn_O",
        "colab_type": "code",
        "colab": {}
      },
      "cell_type": "code",
      "source": [
        "salary_by_tenure_bucket = defaultdict(list)\n",
        "\n",
        "for salary, tenure in salaries_and_tenures:\n",
        "    bucket = tenure_bucket(tenure)\n",
        "    salary_by_tenure_bucket[bucket].append(salary)\n",
        "\n",
        "average_salary_by_bucket = {\n",
        "  tenure_bucket : sum(salaries) / len(salaries)\n",
        "  for tenure_bucket, salaries in salary_by_tenure_bucket.items()\n",
        "}"
      ],
      "execution_count": 0,
      "outputs": []
    },
    {
      "metadata": {
        "id": "dZ21KFo3q_K_",
        "colab_type": "code",
        "colab": {
          "base_uri": "https://localhost:8080/",
          "height": 87
        },
        "outputId": "b3d5eaf0-1ec5-4cca-ad9d-ea800b56edb5"
      },
      "cell_type": "code",
      "source": [
        "salary_by_tenure_bucket"
      ],
      "execution_count": 43,
      "outputs": [
        {
          "output_type": "execute_result",
          "data": {
            "text/plain": [
              "defaultdict(list,\n",
              "            {'between two and five': [60000, 63000],\n",
              "             'less than two': [48000, 48000],\n",
              "             'more than five': [83000, 88000, 76000, 69000, 76000, 83000]})"
            ]
          },
          "metadata": {
            "tags": []
          },
          "execution_count": 43
        }
      ]
    },
    {
      "metadata": {
        "id": "bEYAj8uxrNu1",
        "colab_type": "code",
        "colab": {
          "base_uri": "https://localhost:8080/",
          "height": 69
        },
        "outputId": "89a871ae-8b2a-4ad2-e9c8-023b719a085a"
      },
      "cell_type": "code",
      "source": [
        "average_salary_by_bucket"
      ],
      "execution_count": 44,
      "outputs": [
        {
          "output_type": "execute_result",
          "data": {
            "text/plain": [
              "{'between two and five': 61500.0,\n",
              " 'less than two': 48000.0,\n",
              " 'more than five': 79166.66666666667}"
            ]
          },
          "metadata": {
            "tags": []
          },
          "execution_count": 44
        }
      ]
    },
    {
      "metadata": {
        "id": "7U56lJGXnn_S",
        "colab_type": "code",
        "colab": {}
      },
      "cell_type": "code",
      "source": [
        "def predict_paid_or_unpaid(years_experience):\n",
        "  if years_experience < 3.0: return \"paid\"\n",
        "  elif years_experience < 8.5: return \"unpaid\"\n",
        "  else: return \"paid\"\n"
      ],
      "execution_count": 0,
      "outputs": []
    },
    {
      "metadata": {
        "id": "ozkZdcLUrdAR",
        "colab_type": "code",
        "colab": {
          "base_uri": "https://localhost:8080/",
          "height": 35
        },
        "outputId": "0481d7fe-4507-4236-8b14-934c278943c8"
      },
      "cell_type": "code",
      "source": [
        "predict_paid_or_unpaid(5)"
      ],
      "execution_count": 47,
      "outputs": [
        {
          "output_type": "execute_result",
          "data": {
            "text/plain": [
              "'unpaid'"
            ]
          },
          "metadata": {
            "tags": []
          },
          "execution_count": 47
        }
      ]
    },
    {
      "metadata": {
        "id": "MUmCEMbgnn_U",
        "colab_type": "code",
        "colab": {}
      },
      "cell_type": "code",
      "source": [
        "interests = [\n",
        "(0, \"Hadoop\"), (0, \"Big Data\"), (0, \"HBase\"), (0, \"Java\"),\n",
        "(0, \"Spark\"), (0, \"Storm\"), (0, \"Cassandra\"),\n",
        "(1, \"NoSQL\"), (1, \"MongoDB\"), (1, \"Cassandra\"), (1, \"HBase\"),\n",
        "(1, \"Postgres\"), (2, \"Python\"), (2, \"scikit-learn\"), (2, \"scipy\"),\n",
        "(2, \"numpy\"), (2, \"statsmodels\"), (2, \"pandas\"), (3, \"R\"), (3, \"Python\"),\n",
        "(3, \"statistics\"), (3, \"regression\"), (3, \"probability\"),\n",
        "(4, \"machine learning\"), (4, \"regression\"), (4, \"decision trees\"),\n",
        "(4, \"libsvm\"), (5, \"Python\"), (5, \"R\"), (5, \"Java\"), (5, \"C++\"),\n",
        "(5, \"Haskell\"), (5, \"programming languages\"), (6, \"statistics\"),\n",
        "(6, \"probability\"), (6, \"mathematics\"), (6, \"theory\"),\n",
        "(7, \"machine learning\"), (7, \"scikit-learn\"), (7, \"Mahout\"),\n",
        "(7, \"neural networks\"), (8, \"neural networks\"), (8, \"deep learning\"),\n",
        "(8, \"Big Data\"), (8, \"artificial intelligence\"), (9, \"Hadoop\"),\n",
        "(9, \"Java\"), (9, \"MapReduce\"), (9, \"Big Data\")\n",
        "]"
      ],
      "execution_count": 0,
      "outputs": []
    },
    {
      "metadata": {
        "id": "ebVvVTMKnn_W",
        "colab_type": "code",
        "colab": {}
      },
      "cell_type": "code",
      "source": [
        "words_and_counts = Counter(word\n",
        "                           for user, interest in interests\n",
        "                           for word in interest.lower().split())"
      ],
      "execution_count": 0,
      "outputs": []
    },
    {
      "metadata": {
        "id": "2xBQ5n4Srk9s",
        "colab_type": "code",
        "colab": {
          "base_uri": "https://localhost:8080/",
          "height": 693
        },
        "outputId": "b8bfe7fc-9f0d-4d23-955d-109dca940f77"
      },
      "cell_type": "code",
      "source": [
        "words_and_counts"
      ],
      "execution_count": 50,
      "outputs": [
        {
          "output_type": "execute_result",
          "data": {
            "text/plain": [
              "Counter({'artificial': 1,\n",
              "         'big': 3,\n",
              "         'c++': 1,\n",
              "         'cassandra': 2,\n",
              "         'data': 3,\n",
              "         'decision': 1,\n",
              "         'deep': 1,\n",
              "         'hadoop': 2,\n",
              "         'haskell': 1,\n",
              "         'hbase': 2,\n",
              "         'intelligence': 1,\n",
              "         'java': 3,\n",
              "         'languages': 1,\n",
              "         'learning': 3,\n",
              "         'libsvm': 1,\n",
              "         'machine': 2,\n",
              "         'mahout': 1,\n",
              "         'mapreduce': 1,\n",
              "         'mathematics': 1,\n",
              "         'mongodb': 1,\n",
              "         'networks': 2,\n",
              "         'neural': 2,\n",
              "         'nosql': 1,\n",
              "         'numpy': 1,\n",
              "         'pandas': 1,\n",
              "         'postgres': 1,\n",
              "         'probability': 2,\n",
              "         'programming': 1,\n",
              "         'python': 3,\n",
              "         'r': 2,\n",
              "         'regression': 2,\n",
              "         'scikit-learn': 2,\n",
              "         'scipy': 1,\n",
              "         'spark': 1,\n",
              "         'statistics': 2,\n",
              "         'statsmodels': 1,\n",
              "         'storm': 1,\n",
              "         'theory': 1,\n",
              "         'trees': 1})"
            ]
          },
          "metadata": {
            "tags": []
          },
          "execution_count": 50
        }
      ]
    },
    {
      "metadata": {
        "id": "SVTxhbmEnn_Y",
        "colab_type": "code",
        "colab": {
          "base_uri": "https://localhost:8080/",
          "height": 973
        },
        "outputId": "7bceddb0-1f49-405e-9e88-e80020a5131f"
      },
      "cell_type": "code",
      "source": [
        "if __name__ == \"__main__\":\n",
        "\n",
        "    print()\n",
        "    print(\"######################\")\n",
        "    print(\"#\")\n",
        "    print(\"# FINDING KEY CONNECTORS\")\n",
        "    print(\"#\")\n",
        "    print(\"######################\")\n",
        "    print()\n",
        "\n",
        "\n",
        "    print(\"total connections\", total_connections)\n",
        "    print(\"number of users\", num_users)\n",
        "    print(\"average connections\", total_connections / num_users)\n",
        "    print()\n",
        "\n",
        "    # create a list (user_id, number_of_friends)\n",
        "    num_friends_by_id = [(user[\"id\"], number_of_friends(user))\n",
        "                         for user in users]\n",
        "\n",
        "    print(\"users sorted by number of friends:\")\n",
        "    print(sorted(num_friends_by_id,\n",
        "                 key=lambda pair: pair[1],                       # by number of friends\n",
        "                 reverse=True))                                  # largest to smallest\n",
        "\n",
        "    print()\n",
        "    print(\"######################\")\n",
        "    print(\"#\")\n",
        "    print(\"# DATA SCIENTISTS YOU MAY KNOW\")\n",
        "    print(\"#\")\n",
        "    print(\"######################\")\n",
        "    print()\n",
        "\n",
        "\n",
        "    print(\"friends of friends bad for user 0:\", friends_of_friend_ids_bad(users[0]))\n",
        "    print(\"friends of friends for user 3:\", friends_of_friend_ids(users[3]))\n",
        "\n",
        "    print()\n",
        "    print(\"######################\")\n",
        "    print(\"#\")\n",
        "    print(\"# SALARIES AND TENURES\")\n",
        "    print(\"#\")\n",
        "    print(\"######################\")\n",
        "    print()\n",
        "\n",
        "    print(\"average salary by tenure\", average_salary_by_tenure)\n",
        "    print(\"average salary by tenure bucket\", average_salary_by_bucket)\n",
        "\n",
        "    print()\n",
        "    print(\"######################\")\n",
        "    print(\"#\")\n",
        "    print(\"# MOST COMMON WORDS\")\n",
        "    print(\"#\")\n",
        "    print(\"######################\")\n",
        "    print()\n",
        "    \n",
        "    for word, count in words_and_counts.most_common():\n",
        "        if count > 1:\n",
        "            print (word, count)"
      ],
      "execution_count": 51,
      "outputs": [
        {
          "output_type": "stream",
          "text": [
            "\n",
            "######################\n",
            "#\n",
            "# FINDING KEY CONNECTORS\n",
            "#\n",
            "######################\n",
            "\n",
            "total connections 24\n",
            "number of users 11\n",
            "average connections 2.1818181818181817\n",
            "\n",
            "users sorted by number of friends:\n",
            "[(1, 3), (2, 3), (3, 3), (5, 3), (8, 3), (0, 2), (4, 2), (6, 2), (7, 2), (9, 1), (10, 0)]\n",
            "\n",
            "######################\n",
            "#\n",
            "# DATA SCIENTISTS YOU MAY KNOW\n",
            "#\n",
            "######################\n",
            "\n",
            "friends of friends bad for user 0: [0, 2, 3, 0, 1, 3]\n",
            "friends of friends for user 3: Counter({0: 2, 5: 1})\n",
            "\n",
            "######################\n",
            "#\n",
            "# SALARIES AND TENURES\n",
            "#\n",
            "######################\n",
            "\n",
            "average salary by tenure {8.7: 83000.0, 8.1: 88000.0, 0.7: 48000.0, 6: 76000.0, 6.5: 69000.0, 7.5: 76000.0, 2.5: 60000.0, 10: 83000.0, 1.9: 48000.0, 4.2: 63000.0}\n",
            "average salary by tenure bucket {'more than five': 79166.66666666667, 'less than two': 48000.0, 'between two and five': 61500.0}\n",
            "\n",
            "######################\n",
            "#\n",
            "# MOST COMMON WORDS\n",
            "#\n",
            "######################\n",
            "\n",
            "big 3\n",
            "data 3\n",
            "java 3\n",
            "python 3\n",
            "learning 3\n",
            "hadoop 2\n",
            "hbase 2\n",
            "cassandra 2\n",
            "scikit-learn 2\n",
            "r 2\n",
            "statistics 2\n",
            "regression 2\n",
            "probability 2\n",
            "machine 2\n",
            "neural 2\n",
            "networks 2\n"
          ],
          "name": "stdout"
        }
      ]
    },
    {
      "metadata": {
        "id": "5VI7Y4a2nn_c",
        "colab_type": "code",
        "colab": {}
      },
      "cell_type": "code",
      "source": [
        "import matplotlib.pyplot as plt\n",
        "from collections import Counter"
      ],
      "execution_count": 0,
      "outputs": []
    },
    {
      "metadata": {
        "id": "jSU0q7UYnn_e",
        "colab_type": "code",
        "colab": {}
      },
      "cell_type": "code",
      "source": [
        "def make_chart_simple_line_chart():\n",
        "\n",
        "    years = [1950, 1960, 1970, 1980, 1990, 2000, 2010]\n",
        "    gdp = [300.2, 543.3, 1075.9, 2862.5, 5979.6, 10289.7, 14958.3]\n",
        "\n",
        "    # create a line chart, years on x-axis, gdp on y-axis\n",
        "    plt.plot(years, gdp, color='green', marker='o', linestyle='solid')\n",
        "\n",
        "    # add a title\n",
        "    plt.title(\"Nominal GDP\")\n",
        "\n",
        "    # add a label to the y-axis\n",
        "    plt.ylabel(\"Billions of $\")\n",
        "    plt.show()"
      ],
      "execution_count": 0,
      "outputs": []
    },
    {
      "metadata": {
        "id": "U4CiRGs0nn_h",
        "colab_type": "code",
        "colab": {
          "base_uri": "https://localhost:8080/",
          "height": 363
        },
        "outputId": "f33bbbe7-bf98-469b-f0e4-4e1e25fdacfd"
      },
      "cell_type": "code",
      "source": [
        "make_chart_simple_line_chart()"
      ],
      "execution_count": 54,
      "outputs": [
        {
          "output_type": "display_data",
          "data": {
            "image/png": "[encoded data removed]",
            "text/plain": [
              "<Figure size 576x396 with 1 Axes>"
            ]
          },
          "metadata": {
            "tags": []
          }
        }
      ]
    },
    {
      "metadata": {
        "id": "bGegFFdenn_j",
        "colab_type": "code",
        "colab": {}
      },
      "cell_type": "code",
      "source": [
        "def make_chart_simple_bar_chart():\n",
        "\n",
        "    movies = [\"Annie Hall\", \"Ben-Hur\", \"Casablanca\", \"Gandhi\", \"West Side Story\"]\n",
        "    num_oscars = [5, 11, 3, 8, 10]\n",
        "\n",
        "    # bars are by default width 0.8, so we'll add 0.1 to the left coordinates\n",
        "    # so that each bar is centered\n",
        "    xs = [i + 0.1 for i, _ in enumerate(movies)]\n",
        "\n",
        "    # plot bars with left x-coordinates [xs], heights [num_oscars]\n",
        "    plt.bar(xs, num_oscars)\n",
        "    plt.ylabel(\"# of Academy Awards\")\n",
        "    plt.title(\"My Favorite Movies\")\n",
        "\n",
        "    # label x-axis with movie names at bar centers\n",
        "    plt.xticks([i + 0.5 for i, _ in enumerate(movies)], movies)\n",
        "\n",
        "    plt.show()"
      ],
      "execution_count": 0,
      "outputs": []
    },
    {
      "metadata": {
        "id": "sVuRMrlnnn_n",
        "colab_type": "code",
        "colab": {
          "base_uri": "https://localhost:8080/",
          "height": 363
        },
        "outputId": "95fcc1c2-f316-45db-8b23-fc1ee56e388c"
      },
      "cell_type": "code",
      "source": [
        "make_chart_simple_bar_chart()"
      ],
      "execution_count": 56,
      "outputs": [
        {
          "output_type": "display_data",
          "data": {
            "image/png": "[encoded data removed]",
            "text/plain": [
              "<Figure size 576x396 with 1 Axes>"
            ]
          },
          "metadata": {
            "tags": []
          }
        }
      ]
    },
    {
      "metadata": {
        "id": "-13BKM6gnn_p",
        "colab_type": "code",
        "colab": {}
      },
      "cell_type": "code",
      "source": [
        "def make_chart_histogram():\n",
        "    grades = [83,95,91,87,70,0,85,82,100,67,73,77,0]\n",
        "    decile = lambda grade: grade // 10 * 10\n",
        "    histogram = Counter(decile(grade) for grade in grades)\n",
        "\n",
        "    plt.bar([x - 4 for x in histogram.keys()], # shift each bar to the left by 4\n",
        "            histogram.values(),                # give each bar its correct height\n",
        "            8)                                 # give each bar a width of 8\n",
        "    plt.axis([-5, 105, 0, 5])                  # x-axis from -5 to 105,\n",
        "                                               # y-axis from 0 to 5\n",
        "    plt.xticks([10 * i for i in range(11)])    # x-axis labels at 0, 10, ..., 100\n",
        "    plt.xlabel(\"Decile\")\n",
        "    plt.ylabel(\"# of Students\")\n",
        "    plt.title(\"Distribution of Exam 1 Grades\")\n",
        "    plt.show()"
      ],
      "execution_count": 0,
      "outputs": []
    },
    {
      "metadata": {
        "id": "80qosgoFnn_r",
        "colab_type": "code",
        "colab": {
          "base_uri": "https://localhost:8080/",
          "height": 377
        },
        "outputId": "19a54203-7d5f-4aa7-9267-60ac2e0236b5"
      },
      "cell_type": "code",
      "source": [
        "make_chart_histogram()"
      ],
      "execution_count": 58,
      "outputs": [
        {
          "output_type": "display_data",
          "data": {
            "image/png": "[encoded data removed]",
            "text/plain": [
              "<Figure size 576x396 with 1 Axes>"
            ]
          },
          "metadata": {
            "tags": []
          }
        }
      ]
    },
    {
      "metadata": {
        "id": "vzPuHooonn_t",
        "colab_type": "code",
        "colab": {}
      },
      "cell_type": "code",
      "source": [
        "def make_chart_misleading_y_axis(mislead=True):\n",
        "\n",
        "    mentions = [500, 505]\n",
        "    years = [2013, 2014]\n",
        "\n",
        "    plt.bar([2012.6, 2013.6], mentions, 0.8)\n",
        "    plt.xticks(years)\n",
        "    plt.ylabel(\"# of times I heard someone say 'data science'\")\n",
        "\n",
        "    # if you don't do this, matplotlib will label the x-axis 0, 1\n",
        "    # and then add a +2.013e3 off in the corner (bad matplotlib!)\n",
        "    plt.ticklabel_format(useOffset=False)\n",
        "\n",
        "    if mislead:\n",
        "        # misleading y-axis only shows the part above 500\n",
        "        plt.axis([2012.5,2014.5,499,506])\n",
        "        plt.title(\"Look at the 'Huge' Increase!\")\n",
        "    else:\n",
        "        plt.axis([2012.5,2014.5,0,550])\n",
        "        plt.title(\"Not So Huge Anymore.\")\n",
        "    plt.show()"
      ],
      "execution_count": 0,
      "outputs": []
    },
    {
      "metadata": {
        "id": "F8iaICuQnn_u",
        "colab_type": "code",
        "colab": {
          "base_uri": "https://localhost:8080/",
          "height": 363
        },
        "outputId": "f344bf79-1d34-426e-b72d-621d14841e9e"
      },
      "cell_type": "code",
      "source": [
        "make_chart_misleading_y_axis()"
      ],
      "execution_count": 60,
      "outputs": [
        {
          "output_type": "display_data",
          "data": {
            "image/png": "[encoded data removed]",
            "text/plain": [
              "<Figure size 576x396 with 1 Axes>"
            ]
          },
          "metadata": {
            "tags": []
          }
        }
      ]
    },
    {
      "metadata": {
        "id": "jCFjwq8Fnn_x",
        "colab_type": "code",
        "colab": {}
      },
      "cell_type": "code",
      "source": [
        "def make_chart_several_line_charts():\n",
        "\n",
        "    variance     = [1,2,4,8,16,32,64,128,256]\n",
        "    bias_squared = [256,128,64,32,16,8,4,2,1]\n",
        "    total_error  = [x + y for x, y in zip(variance, bias_squared)]\n",
        "\n",
        "    xs = range(len(variance))\n",
        "\n",
        "    # we can make multiple calls to plt.plot\n",
        "    # to show multiple series on the same chart\n",
        "    plt.plot(xs, variance,     'g-',  label='variance')    # green solid line\n",
        "    plt.plot(xs, bias_squared, 'r-.', label='bias^2')      # red dot-dashed line\n",
        "    plt.plot(xs, total_error,  'b:',  label='total error') # blue dotted line\n",
        "\n",
        "    # because we've assigned labels to each series\n",
        "    # we can get a legend for free\n",
        "    # loc=9 means \"top center\"\n",
        "    plt.legend(loc=9)\n",
        "    plt.xlabel(\"model complexity\")\n",
        "    plt.title(\"The Bias-Variance Tradeoff\")\n",
        "    plt.show()\n"
      ],
      "execution_count": 0,
      "outputs": []
    },
    {
      "metadata": {
        "id": "VTzSgRIwnn_y",
        "colab_type": "code",
        "colab": {
          "base_uri": "https://localhost:8080/",
          "height": 377
        },
        "outputId": "897c1079-9283-47ca-cb55-f04efbc97faf"
      },
      "cell_type": "code",
      "source": [
        "make_chart_several_line_charts()"
      ],
      "execution_count": 62,
      "outputs": [
        {
          "output_type": "display_data",
          "data": {
            "image/png": "[encoded data removed]",
            "text/plain": [
              "<Figure size 576x396 with 1 Axes>"
            ]
          },
          "metadata": {
            "tags": []
          }
        }
      ]
    },
    {
      "metadata": {
        "id": "dQ4FShiynn_1",
        "colab_type": "code",
        "colab": {}
      },
      "cell_type": "code",
      "source": [
        "def make_chart_scatter_plot():\n",
        "\n",
        "    friends = [ 70, 65, 72, 63, 71, 64, 60, 64, 67]\n",
        "    minutes = [175, 170, 205, 120, 220, 130, 105, 145, 190]\n",
        "    labels = ['a', 'b', 'c', 'd', 'e', 'f', 'g', 'h', 'i']\n",
        "\n",
        "    plt.scatter(friends, minutes)\n",
        "\n",
        "    # label each point\n",
        "    for label, friend_count, minute_count in zip(labels, friends, minutes):\n",
        "        plt.annotate(label,\n",
        "                     xy=(friend_count, minute_count), # put the label with its point\n",
        "                     xytext=(5, -5), # but slightly offset\n",
        "                     textcoords='offset points')\n",
        "\n",
        "    plt.title(\"Daily Minutes vs. Number of Friends\")\n",
        "    plt.xlabel(\"# of friends\")\n",
        "    plt.ylabel(\"daily minutes spent on the site\")\n",
        "    plt.show()"
      ],
      "execution_count": 0,
      "outputs": []
    },
    {
      "metadata": {
        "id": "U6xDhruinn_3",
        "colab_type": "code",
        "colab": {
          "base_uri": "https://localhost:8080/",
          "height": 377
        },
        "outputId": "4d54e5a8-458a-4af0-9c48-4bf63468f3c6"
      },
      "cell_type": "code",
      "source": [
        "make_chart_scatter_plot()"
      ],
      "execution_count": 64,
      "outputs": [
        {
          "output_type": "display_data",
          "data": {
            "image/png": "[encoded data removed]",
            "text/plain": [
              "<Figure size 576x396 with 1 Axes>"
            ]
          },
          "metadata": {
            "tags": []
          }
        }
      ]
    },
    {
      "metadata": {
        "id": "oDZJvXXUnn_6",
        "colab_type": "code",
        "colab": {}
      },
      "cell_type": "code",
      "source": [
        "def make_chart_scatterplot_axes(equal_axes=False):\n",
        "\n",
        "    test_1_grades = [ 99, 90, 85, 97, 80]\n",
        "    test_2_grades = [100, 85, 60, 90, 70]\n",
        "\n",
        "    plt.scatter(test_1_grades, test_2_grades)\n",
        "    plt.xlabel(\"test 1 grade\")\n",
        "    plt.ylabel(\"test 2 grade\")\n",
        "\n",
        "    if equal_axes:\n",
        "        plt.title(\"Axes Are Comparable\")\n",
        "        plt.axis(\"equal\")\n",
        "    else:\n",
        "        plt.title(\"Axes Aren't Comparable\")\n",
        "\n",
        "    plt.show()"
      ],
      "execution_count": 0,
      "outputs": []
    },
    {
      "metadata": {
        "id": "7M_B9YG9nn_7",
        "colab_type": "code",
        "colab": {
          "base_uri": "https://localhost:8080/",
          "height": 377
        },
        "outputId": "f1cb800d-5e05-403d-be3e-c390e6571b45"
      },
      "cell_type": "code",
      "source": [
        "make_chart_scatterplot_axes()"
      ],
      "execution_count": 66,
      "outputs": [
        {
          "output_type": "display_data",
          "data": {
            "image/png": "[encoded data removed]",
            "text/plain": [
              "<Figure size 576x396 with 1 Axes>"
            ]
          },
          "metadata": {
            "tags": []
          }
        }
      ]
    },
    {
      "metadata": {
        "id": "smWkIHPrnn_-",
        "colab_type": "code",
        "colab": {}
      },
      "cell_type": "code",
      "source": [
        "def make_chart_pie_chart():\n",
        "\n",
        "    plt.pie([0.95, 0.05], labels=[\"Uses pie charts\", \"Knows better\"])\n",
        "\n",
        "    # make sure pie is a circle and not an oval\n",
        "    plt.axis(\"equal\")\n",
        "    plt.show()\n",
        "\n"
      ],
      "execution_count": 0,
      "outputs": []
    },
    {
      "metadata": {
        "id": "_Gt6he-1noAA",
        "colab_type": "code",
        "colab": {
          "base_uri": "https://localhost:8080/",
          "height": 331
        },
        "outputId": "c9a3bd5c-6ae8-4896-a41d-9e8081a2e8fc"
      },
      "cell_type": "code",
      "source": [
        "make_chart_pie_chart()"
      ],
      "execution_count": 68,
      "outputs": [
        {
          "output_type": "display_data",
          "data": {
            "image/png": "[encoded data removed]",
            "text/plain": [
              "<Figure size 576x396 with 1 Axes>"
            ]
          },
          "metadata": {
            "tags": []
          }
        }
      ]
    },
    {
      "metadata": {
        "id": "QlQMz1n4noAD",
        "colab_type": "code",
        "colab": {
          "base_uri": "https://localhost:8080/",
          "height": 3149
        },
        "outputId": "bc94e596-cf1a-4edb-f216-f84c59c9817b"
      },
      "cell_type": "code",
      "source": [
        "\n",
        "if __name__ == \"__main__\":\n",
        "\n",
        "    make_chart_simple_line_chart()\n",
        "\n",
        "    make_chart_simple_bar_chart()\n",
        "\n",
        "    make_chart_histogram()\n",
        "\n",
        "    make_chart_misleading_y_axis(mislead=True)\n",
        "\n",
        "    make_chart_misleading_y_axis(mislead=False)\n",
        "\n",
        "    make_chart_several_line_charts()\n",
        "\n",
        "    make_chart_scatterplot_axes(equal_axes=False)\n",
        "\n",
        "    make_chart_scatterplot_axes(equal_axes=True)\n",
        "\n",
        "    make_chart_pie_chart()"
      ],
      "execution_count": 69,
      "outputs": [
        {
          "output_type": "display_data",
          "data": {
            "image/png": "[encoded data removed]",
            "text/plain": [
              "<Figure size 576x396 with 1 Axes>"
            ]
          },
          "metadata": {
            "tags": []
          }
        },
        {
          "output_type": "display_data",
          "data": {
            "image/png": "[encoded data removed]",
            "text/plain": [
              "<Figure size 576x396 with 1 Axes>"
            ]
          },
          "metadata": {
            "tags": []
          }
        },
        {
          "output_type": "display_data",
          "data": {
            "image/png": "[encoded data removed]",
            "text/plain": [
              "<Figure size 576x396 with 1 Axes>"
            ]
          },
          "metadata": {
            "tags": []
          }
        },
        {
          "output_type": "display_data",
          "data": {
            "image/png": "[encoded data removed]",
            "text/plain": [
              "<Figure size 576x396 with 1 Axes>"
            ]
          },
          "metadata": {
            "tags": []
          }
        },
        {
          "output_type": "display_data",
          "data": {
            "image/png": "[encoded data removed]",
            "text/plain": [
              "<Figure size 576x396 with 1 Axes>"
            ]
          },
          "metadata": {
            "tags": []
          }
        },
        {
          "output_type": "display_data",
          "data": {
            "image/png": "[encoded data removed]",
            "text/plain": [
              "<Figure size 576x396 with 1 Axes>"
            ]
          },
          "metadata": {
            "tags": []
          }
        },
        {
          "output_type": "display_data",
          "data": {
            "image/png": "[encoded data removed]",
            "text/plain": [
              "<Figure size 576x396 with 1 Axes>"
            ]
          },
          "metadata": {
            "tags": []
          }
        },
        {
          "output_type": "display_data",
          "data": {
            "image/png": "[encoded data removed]",
            "text/plain": [
              "<Figure size 576x396 with 1 Axes>"
            ]
          },
          "metadata": {
            "tags": []
          }
        },
        {
          "output_type": "display_data",
          "data": {
            "image/png": "[encoded data removed]",
            "text/plain": [
              "<Figure size 576x396 with 1 Axes>"
            ]
          },
          "metadata": {
            "tags": []
          }
        }
      ]
    },
    {
      "metadata": {
        "id": "-X26Zhb5noAI",
        "colab_type": "code",
        "colab": {}
      },
      "cell_type": "code",
      "source": [
        "import re, math, random # regexes, math functions, random numbers\n",
        "import matplotlib.pyplot as plt # pyplot\n",
        "from collections import defaultdict, Counter\n",
        "from functools import partial, reduce\n"
      ],
      "execution_count": 0,
      "outputs": []
    },
    {
      "metadata": {
        "id": "oApvuT91noAK",
        "colab_type": "code",
        "colab": {}
      },
      "cell_type": "code",
      "source": [
        "height_weight_age = [70, # inches,\n",
        " 170, # pounds,\n",
        "40 ] # years"
      ],
      "execution_count": 0,
      "outputs": []
    },
    {
      "metadata": {
        "id": "IeNmlF6fnoAM",
        "colab_type": "code",
        "colab": {}
      },
      "cell_type": "code",
      "source": [
        "grades = [95, # exam1\n",
        " 80, # exam2\n",
        " 75, # exam3\n",
        " 62 ] # exam4   "
      ],
      "execution_count": 0,
      "outputs": []
    },
    {
      "metadata": {
        "id": "y3Tf_gLinoAN",
        "colab_type": "code",
        "colab": {}
      },
      "cell_type": "code",
      "source": [
        "def vector_add(v, w):\n",
        "    \"\"\"adds two vectors componentwise\"\"\"\n",
        "    return [v_i + w_i for v_i, w_i in zip(v,w)]\n"
      ],
      "execution_count": 0,
      "outputs": []
    },
    {
      "metadata": {
        "id": "pggH-YoHnoAQ",
        "colab_type": "code",
        "colab": {}
      },
      "cell_type": "code",
      "source": [
        "def vector_subtract(v, w):\n",
        "    \"\"\"subtracts two vectors componentwise\"\"\"\n",
        "    return [v_i - w_i for v_i, w_i in zip(v,w)]\n"
      ],
      "execution_count": 0,
      "outputs": []
    },
    {
      "metadata": {
        "id": "Fv7noyW9noAT",
        "colab_type": "code",
        "colab": {}
      },
      "cell_type": "code",
      "source": [
        "def vector_sum(vectors):\n",
        "    return reduce(vector_add, vectors)"
      ],
      "execution_count": 0,
      "outputs": []
    },
    {
      "metadata": {
        "id": "Zf13J3oYnoAW",
        "colab_type": "code",
        "colab": {}
      },
      "cell_type": "code",
      "source": [
        "def scalar_multiply(c, v):\n",
        "    return [c * v_i for v_i in v]\n"
      ],
      "execution_count": 0,
      "outputs": []
    },
    {
      "metadata": {
        "id": "5LgBKse6noAX",
        "colab_type": "code",
        "colab": {
          "base_uri": "https://localhost:8080/",
          "height": 16241
        },
        "outputId": "558034ef-cb8a-4f0b-fb85-88c037724f1e"
      },
      "cell_type": "code",
      "source": [
        "scalar_multiply(height_weight_age, grades)"
      ],
      "execution_count": 77,
      "outputs": [
        {
          "output_type": "execute_result",
          "data": {
            "text/plain": [
              "[[70,\n",
              "  170,\n",
              "  40,\n",
              "  70,\n",
              "  170,\n",
              "  40,\n",
              "  70,\n",
              "  170,\n",
              "  40,\n",
              "  70,\n",
              "  170,\n",
              "  40,\n",
              "  70,\n",
              "  170,\n",
              "  40,\n",
              "  70,\n",
              "  170,\n",
              "  40,\n",
              "  70,\n",
              "  170,\n",
              "  40,\n",
              "  70,\n",
              "  170,\n",
              "  40,\n",
              "  70,\n",
              "  170,\n",
              "  40,\n",
              "  70,\n",
              "  170,\n",
              "  40,\n",
              "  70,\n",
              "  170,\n",
              "  40,\n",
              "  70,\n",
              "  170,\n",
              "  40,\n",
              "  70,\n",
              "  170,\n",
              "  40,\n",
              "  70,\n",
              "  170,\n",
              "  40,\n",
              "  70,\n",
              "  170,\n",
              "  40,\n",
              "  70,\n",
              "  170,\n",
              "  40,\n",
              "  70,\n",
              "  170,\n",
              "  40,\n",
              "  70,\n",
              "  170,\n",
              "  40,\n",
              "  70,\n",
              "  170,\n",
              "  40,\n",
              "  70,\n",
              "  170,\n",
              "  40,\n",
              "  70,\n",
              "  170,\n",
              "  40,\n",
              "  70,\n",
              "  170,\n",
              "  40,\n",
              "  70,\n",
              "  170,\n",
              "  40,\n",
              "  70,\n",
              "  170,\n",
              "  40,\n",
              "  70,\n",
              "  170,\n",
              "  40,\n",
              "  70,\n",
              "  170,\n",
              "  40,\n",
              "  70,\n",
              "  170,\n",
              "  40,\n",
              "  70,\n",
              "  170,\n",
              "  40,\n",
              "  70,\n",
              "  170,\n",
              "  40,\n",
              "  70,\n",
              "  170,\n",
              "  40,\n",
              "  70,\n",
              "  170,\n",
              "  40,\n",
              "  70,\n",
              "  170,\n",
              "  40,\n",
              "  70,\n",
              "  170,\n",
              "  40,\n",
              "  70,\n",
              "  170,\n",
              "  40,\n",
              "  70,\n",
              "  170,\n",
              "  40,\n",
              "  70,\n",
              "  170,\n",
              "  40,\n",
              "  70,\n",
              "  170,\n",
              "  40,\n",
              "  70,\n",
              "  170,\n",
              "  40,\n",
              "  70,\n",
              "  170,\n",
              "  40,\n",
              "  70,\n",
              "  170,\n",
              "  40,\n",
              "  70,\n",
              "  170,\n",
              "  40,\n",
              "  70,\n",
              "  170,\n",
              "  40,\n",
              "  70,\n",
              "  170,\n",
              "  40,\n",
              "  70,\n",
              "  170,\n",
              "  40,\n",
              "  70,\n",
              "  170,\n",
              "  40,\n",
              "  70,\n",
              "  170,\n",
              "  40,\n",
              "  70,\n",
              "  170,\n",
              "  40,\n",
              "  70,\n",
              "  170,\n",
              "  40,\n",
              "  70,\n",
              "  170,\n",
              "  40,\n",
              "  70,\n",
              "  170,\n",
              "  40,\n",
              "  70,\n",
              "  170,\n",
              "  40,\n",
              "  70,\n",
              "  170,\n",
              "  40,\n",
              "  70,\n",
              "  170,\n",
              "  40,\n",
              "  70,\n",
              "  170,\n",
              "  40,\n",
              "  70,\n",
              "  170,\n",
              "  40,\n",
              "  70,\n",
              "  170,\n",
              "  40,\n",
              "  70,\n",
              "  170,\n",
              "  40,\n",
              "  70,\n",
              "  170,\n",
              "  40,\n",
              "  70,\n",
              "  170,\n",
              "  40,\n",
              "  70,\n",
              "  170,\n",
              "  40,\n",
              "  70,\n",
              "  170,\n",
              "  40,\n",
              "  70,\n",
              "  170,\n",
              "  40,\n",
              "  70,\n",
              "  170,\n",
              "  40,\n",
              "  70,\n",
              "  170,\n",
              "  40,\n",
              "  70,\n",
              "  170,\n",
              "  40,\n",
              "  70,\n",
              "  170,\n",
              "  40,\n",
              "  70,\n",
              "  170,\n",
              "  40,\n",
              "  70,\n",
              "  170,\n",
              "  40,\n",
              "  70,\n",
              "  170,\n",
              "  40,\n",
              "  70,\n",
              "  170,\n",
              "  40,\n",
              "  70,\n",
              "  170,\n",
              "  40,\n",
              "  70,\n",
              "  170,\n",
              "  40,\n",
              "  70,\n",
              "  170,\n",
              "  40,\n",
              "  70,\n",
              "  170,\n",
              "  40,\n",
              "  70,\n",
              "  170,\n",
              "  40,\n",
              "  70,\n",
              "  170,\n",
              "  40,\n",
              "  70,\n",
              "  170,\n",
              "  40,\n",
              "  70,\n",
              "  170,\n",
              "  40,\n",
              "  70,\n",
              "  170,\n",
              "  40,\n",
              "  70,\n",
              "  170,\n",
              "  40,\n",
              "  70,\n",
              "  170,\n",
              "  40,\n",
              "  70,\n",
              "  170,\n",
              "  40,\n",
              "  70,\n",
              "  170,\n",
              "  40,\n",
              "  70,\n",
              "  170,\n",
              "  40,\n",
              "  70,\n",
              "  170,\n",
              "  40,\n",
              "  70,\n",
              "  170,\n",
              "  40,\n",
              "  70,\n",
              "  170,\n",
              "  40,\n",
              "  70,\n",
              "  170,\n",
              "  40,\n",
              "  70,\n",
              "  170,\n",
              "  40,\n",
              "  70,\n",
              "  170,\n",
              "  40,\n",
              "  70,\n",
              "  170,\n",
              "  40,\n",
              "  70,\n",
              "  170,\n",
              "  40,\n",
              "  70,\n",
              "  170,\n",
              "  40,\n",
              "  70,\n",
              "  170,\n",
              "  40,\n",
              "  70,\n",
              "  170,\n",
              "  40],\n",
              " [70,\n",
              "  170,\n",
              "  40,\n",
              "  70,\n",
              "  170,\n",
              "  40,\n",
              "  70,\n",
              "  170,\n",
              "  40,\n",
              "  70,\n",
              "  170,\n",
              "  40,\n",
              "  70,\n",
              "  170,\n",
              "  40,\n",
              "  70,\n",
              "  170,\n",
              "  40,\n",
              "  70,\n",
              "  170,\n",
              "  40,\n",
              "  70,\n",
              "  170,\n",
              "  40,\n",
              "  70,\n",
              "  170,\n",
              "  40,\n",
              "  70,\n",
              "  170,\n",
              "  40,\n",
              "  70,\n",
              "  170,\n",
              "  40,\n",
              "  70,\n",
              "  170,\n",
              "  40,\n",
              "  70,\n",
              "  170,\n",
              "  40,\n",
              "  70,\n",
              "  170,\n",
              "  40,\n",
              "  70,\n",
              "  170,\n",
              "  40,\n",
              "  70,\n",
              "  170,\n",
              "  40,\n",
              "  70,\n",
              "  170,\n",
              "  40,\n",
              "  70,\n",
              "  170,\n",
              "  40,\n",
              "  70,\n",
              "  170,\n",
              "  40,\n",
              "  70,\n",
              "  170,\n",
              "  40,\n",
              "  70,\n",
              "  170,\n",
              "  40,\n",
              "  70,\n",
              "  170,\n",
              "  40,\n",
              "  70,\n",
              "  170,\n",
              "  40,\n",
              "  70,\n",
              "  170,\n",
              "  40,\n",
              "  70,\n",
              "  170,\n",
              "  40,\n",
              "  70,\n",
              "  170,\n",
              "  40,\n",
              "  70,\n",
              "  170,\n",
              "  40,\n",
              "  70,\n",
              "  170,\n",
              "  40,\n",
              "  70,\n",
              "  170,\n",
              "  40,\n",
              "  70,\n",
              "  170,\n",
              "  40,\n",
              "  70,\n",
              "  170,\n",
              "  40,\n",
              "  70,\n",
              "  170,\n",
              "  40,\n",
              "  70,\n",
              "  170,\n",
              "  40,\n",
              "  70,\n",
              "  170,\n",
              "  40,\n",
              "  70,\n",
              "  170,\n",
              "  40,\n",
              "  70,\n",
              "  170,\n",
              "  40,\n",
              "  70,\n",
              "  170,\n",
              "  40,\n",
              "  70,\n",
              "  170,\n",
              "  40,\n",
              "  70,\n",
              "  170,\n",
              "  40,\n",
              "  70,\n",
              "  170,\n",
              "  40,\n",
              "  70,\n",
              "  170,\n",
              "  40,\n",
              "  70,\n",
              "  170,\n",
              "  40,\n",
              "  70,\n",
              "  170,\n",
              "  40,\n",
              "  70,\n",
              "  170,\n",
              "  40,\n",
              "  70,\n",
              "  170,\n",
              "  40,\n",
              "  70,\n",
              "  170,\n",
              "  40,\n",
              "  70,\n",
              "  170,\n",
              "  40,\n",
              "  70,\n",
              "  170,\n",
              "  40,\n",
              "  70,\n",
              "  170,\n",
              "  40,\n",
              "  70,\n",
              "  170,\n",
              "  40,\n",
              "  70,\n",
              "  170,\n",
              "  40,\n",
              "  70,\n",
              "  170,\n",
              "  40,\n",
              "  70,\n",
              "  170,\n",
              "  40,\n",
              "  70,\n",
              "  170,\n",
              "  40,\n",
              "  70,\n",
              "  170,\n",
              "  40,\n",
              "  70,\n",
              "  170,\n",
              "  40,\n",
              "  70,\n",
              "  170,\n",
              "  40,\n",
              "  70,\n",
              "  170,\n",
              "  40,\n",
              "  70,\n",
              "  170,\n",
              "  40,\n",
              "  70,\n",
              "  170,\n",
              "  40,\n",
              "  70,\n",
              "  170,\n",
              "  40,\n",
              "  70,\n",
              "  170,\n",
              "  40,\n",
              "  70,\n",
              "  170,\n",
              "  40,\n",
              "  70,\n",
              "  170,\n",
              "  40,\n",
              "  70,\n",
              "  170,\n",
              "  40,\n",
              "  70,\n",
              "  170,\n",
              "  40,\n",
              "  70,\n",
              "  170,\n",
              "  40,\n",
              "  70,\n",
              "  170,\n",
              "  40,\n",
              "  70,\n",
              "  170,\n",
              "  40,\n",
              "  70,\n",
              "  170,\n",
              "  40,\n",
              "  70,\n",
              "  170,\n",
              "  40,\n",
              "  70,\n",
              "  170,\n",
              "  40,\n",
              "  70,\n",
              "  170,\n",
              "  40,\n",
              "  70,\n",
              "  170,\n",
              "  40,\n",
              "  70,\n",
              "  170,\n",
              "  40,\n",
              "  70,\n",
              "  170,\n",
              "  40,\n",
              "  70,\n",
              "  170,\n",
              "  40,\n",
              "  70,\n",
              "  170,\n",
              "  40,\n",
              "  70,\n",
              "  170,\n",
              "  40,\n",
              "  70,\n",
              "  170,\n",
              "  40],\n",
              " [70,\n",
              "  170,\n",
              "  40,\n",
              "  70,\n",
              "  170,\n",
              "  40,\n",
              "  70,\n",
              "  170,\n",
              "  40,\n",
              "  70,\n",
              "  170,\n",
              "  40,\n",
              "  70,\n",
              "  170,\n",
              "  40,\n",
              "  70,\n",
              "  170,\n",
              "  40,\n",
              "  70,\n",
              "  170,\n",
              "  40,\n",
              "  70,\n",
              "  170,\n",
              "  40,\n",
              "  70,\n",
              "  170,\n",
              "  40,\n",
              "  70,\n",
              "  170,\n",
              "  40,\n",
              "  70,\n",
              "  170,\n",
              "  40,\n",
              "  70,\n",
              "  170,\n",
              "  40,\n",
              "  70,\n",
              "  170,\n",
              "  40,\n",
              "  70,\n",
              "  170,\n",
              "  40,\n",
              "  70,\n",
              "  170,\n",
              "  40,\n",
              "  70,\n",
              "  170,\n",
              "  40,\n",
              "  70,\n",
              "  170,\n",
              "  40,\n",
              "  70,\n",
              "  170,\n",
              "  40,\n",
              "  70,\n",
              "  170,\n",
              "  40,\n",
              "  70,\n",
              "  170,\n",
              "  40,\n",
              "  70,\n",
              "  170,\n",
              "  40,\n",
              "  70,\n",
              "  170,\n",
              "  40,\n",
              "  70,\n",
              "  170,\n",
              "  40,\n",
              "  70,\n",
              "  170,\n",
              "  40,\n",
              "  70,\n",
              "  170,\n",
              "  40,\n",
              "  70,\n",
              "  170,\n",
              "  40,\n",
              "  70,\n",
              "  170,\n",
              "  40,\n",
              "  70,\n",
              "  170,\n",
              "  40,\n",
              "  70,\n",
              "  170,\n",
              "  40,\n",
              "  70,\n",
              "  170,\n",
              "  40,\n",
              "  70,\n",
              "  170,\n",
              "  40,\n",
              "  70,\n",
              "  170,\n",
              "  40,\n",
              "  70,\n",
              "  170,\n",
              "  40,\n",
              "  70,\n",
              "  170,\n",
              "  40,\n",
              "  70,\n",
              "  170,\n",
              "  40,\n",
              "  70,\n",
              "  170,\n",
              "  40,\n",
              "  70,\n",
              "  170,\n",
              "  40,\n",
              "  70,\n",
              "  170,\n",
              "  40,\n",
              "  70,\n",
              "  170,\n",
              "  40,\n",
              "  70,\n",
              "  170,\n",
              "  40,\n",
              "  70,\n",
              "  170,\n",
              "  40,\n",
              "  70,\n",
              "  170,\n",
              "  40,\n",
              "  70,\n",
              "  170,\n",
              "  40,\n",
              "  70,\n",
              "  170,\n",
              "  40,\n",
              "  70,\n",
              "  170,\n",
              "  40,\n",
              "  70,\n",
              "  170,\n",
              "  40,\n",
              "  70,\n",
              "  170,\n",
              "  40,\n",
              "  70,\n",
              "  170,\n",
              "  40,\n",
              "  70,\n",
              "  170,\n",
              "  40,\n",
              "  70,\n",
              "  170,\n",
              "  40,\n",
              "  70,\n",
              "  170,\n",
              "  40,\n",
              "  70,\n",
              "  170,\n",
              "  40,\n",
              "  70,\n",
              "  170,\n",
              "  40,\n",
              "  70,\n",
              "  170,\n",
              "  40,\n",
              "  70,\n",
              "  170,\n",
              "  40,\n",
              "  70,\n",
              "  170,\n",
              "  40,\n",
              "  70,\n",
              "  170,\n",
              "  40,\n",
              "  70,\n",
              "  170,\n",
              "  40,\n",
              "  70,\n",
              "  170,\n",
              "  40,\n",
              "  70,\n",
              "  170,\n",
              "  40,\n",
              "  70,\n",
              "  170,\n",
              "  40,\n",
              "  70,\n",
              "  170,\n",
              "  40,\n",
              "  70,\n",
              "  170,\n",
              "  40,\n",
              "  70,\n",
              "  170,\n",
              "  40,\n",
              "  70,\n",
              "  170,\n",
              "  40,\n",
              "  70,\n",
              "  170,\n",
              "  40,\n",
              "  70,\n",
              "  170,\n",
              "  40,\n",
              "  70,\n",
              "  170,\n",
              "  40,\n",
              "  70,\n",
              "  170,\n",
              "  40,\n",
              "  70,\n",
              "  170,\n",
              "  40,\n",
              "  70,\n",
              "  170,\n",
              "  40,\n",
              "  70,\n",
              "  170,\n",
              "  40,\n",
              "  70,\n",
              "  170,\n",
              "  40,\n",
              "  70,\n",
              "  170,\n",
              "  40,\n",
              "  70,\n",
              "  170,\n",
              "  40],\n",
              " [70,\n",
              "  170,\n",
              "  40,\n",
              "  70,\n",
              "  170,\n",
              "  40,\n",
              "  70,\n",
              "  170,\n",
              "  40,\n",
              "  70,\n",
              "  170,\n",
              "  40,\n",
              "  70,\n",
              "  170,\n",
              "  40,\n",
              "  70,\n",
              "  170,\n",
              "  40,\n",
              "  70,\n",
              "  170,\n",
              "  40,\n",
              "  70,\n",
              "  170,\n",
              "  40,\n",
              "  70,\n",
              "  170,\n",
              "  40,\n",
              "  70,\n",
              "  170,\n",
              "  40,\n",
              "  70,\n",
              "  170,\n",
              "  40,\n",
              "  70,\n",
              "  170,\n",
              "  40,\n",
              "  70,\n",
              "  170,\n",
              "  40,\n",
              "  70,\n",
              "  170,\n",
              "  40,\n",
              "  70,\n",
              "  170,\n",
              "  40,\n",
              "  70,\n",
              "  170,\n",
              "  40,\n",
              "  70,\n",
              "  170,\n",
              "  40,\n",
              "  70,\n",
              "  170,\n",
              "  40,\n",
              "  70,\n",
              "  170,\n",
              "  40,\n",
              "  70,\n",
              "  170,\n",
              "  40,\n",
              "  70,\n",
              "  170,\n",
              "  40,\n",
              "  70,\n",
              "  170,\n",
              "  40,\n",
              "  70,\n",
              "  170,\n",
              "  40,\n",
              "  70,\n",
              "  170,\n",
              "  40,\n",
              "  70,\n",
              "  170,\n",
              "  40,\n",
              "  70,\n",
              "  170,\n",
              "  40,\n",
              "  70,\n",
              "  170,\n",
              "  40,\n",
              "  70,\n",
              "  170,\n",
              "  40,\n",
              "  70,\n",
              "  170,\n",
              "  40,\n",
              "  70,\n",
              "  170,\n",
              "  40,\n",
              "  70,\n",
              "  170,\n",
              "  40,\n",
              "  70,\n",
              "  170,\n",
              "  40,\n",
              "  70,\n",
              "  170,\n",
              "  40,\n",
              "  70,\n",
              "  170,\n",
              "  40,\n",
              "  70,\n",
              "  170,\n",
              "  40,\n",
              "  70,\n",
              "  170,\n",
              "  40,\n",
              "  70,\n",
              "  170,\n",
              "  40,\n",
              "  70,\n",
              "  170,\n",
              "  40,\n",
              "  70,\n",
              "  170,\n",
              "  40,\n",
              "  70,\n",
              "  170,\n",
              "  40,\n",
              "  70,\n",
              "  170,\n",
              "  40,\n",
              "  70,\n",
              "  170,\n",
              "  40,\n",
              "  70,\n",
              "  170,\n",
              "  40,\n",
              "  70,\n",
              "  170,\n",
              "  40,\n",
              "  70,\n",
              "  170,\n",
              "  40,\n",
              "  70,\n",
              "  170,\n",
              "  40,\n",
              "  70,\n",
              "  170,\n",
              "  40,\n",
              "  70,\n",
              "  170,\n",
              "  40,\n",
              "  70,\n",
              "  170,\n",
              "  40,\n",
              "  70,\n",
              "  170,\n",
              "  40,\n",
              "  70,\n",
              "  170,\n",
              "  40,\n",
              "  70,\n",
              "  170,\n",
              "  40,\n",
              "  70,\n",
              "  170,\n",
              "  40,\n",
              "  70,\n",
              "  170,\n",
              "  40,\n",
              "  70,\n",
              "  170,\n",
              "  40,\n",
              "  70,\n",
              "  170,\n",
              "  40,\n",
              "  70,\n",
              "  170,\n",
              "  40,\n",
              "  70,\n",
              "  170,\n",
              "  40,\n",
              "  70,\n",
              "  170,\n",
              "  40,\n",
              "  70,\n",
              "  170,\n",
              "  40,\n",
              "  70,\n",
              "  170,\n",
              "  40,\n",
              "  70,\n",
              "  170,\n",
              "  40]]"
            ]
          },
          "metadata": {
            "tags": []
          },
          "execution_count": 77
        }
      ]
    },
    {
      "metadata": {
        "id": "OydI9WDKnoAZ",
        "colab_type": "code",
        "colab": {}
      },
      "cell_type": "code",
      "source": [
        "def vector_mean(vectors):\n",
        "    \"\"\"compute the vector whose i-th element is the mean of the\n",
        "    i-th elements of the input vectors\"\"\"\n",
        "    n = len(vectors)\n",
        "    return scalar_multiply(1/n, vector_sum(vectors))"
      ],
      "execution_count": 0,
      "outputs": []
    },
    {
      "metadata": {
        "id": "nfIpIWI0noAb",
        "colab_type": "code",
        "colab": {}
      },
      "cell_type": "code",
      "source": [
        "def dot(v, w):\n",
        "    \"\"\"v_1 * w_1 + ... + v_n * w_n\"\"\"\n",
        "    return sum(v_i * w_i for v_i, w_i in zip(v, w))"
      ],
      "execution_count": 0,
      "outputs": []
    },
    {
      "metadata": {
        "id": "6TkVsMK6noAc",
        "colab_type": "code",
        "colab": {}
      },
      "cell_type": "code",
      "source": [
        "def sum_of_squares(v):\n",
        "    \"\"\"v_1 * v_1 + ... + v_n * v_n\"\"\"\n",
        "    return dot(v, v)\n"
      ],
      "execution_count": 0,
      "outputs": []
    },
    {
      "metadata": {
        "id": "gFxAmEJ3noAe",
        "colab_type": "code",
        "colab": {}
      },
      "cell_type": "code",
      "source": [
        "def magnitude(v):\n",
        "    return math.sqrt(sum_of_squares(v))"
      ],
      "execution_count": 0,
      "outputs": []
    },
    {
      "metadata": {
        "id": "OKG7UK2lnoAf",
        "colab_type": "code",
        "colab": {}
      },
      "cell_type": "code",
      "source": [
        "def squared_distance(v, w):\n",
        "    return sum_of_squares(vector_subtract(v, w))"
      ],
      "execution_count": 0,
      "outputs": []
    },
    {
      "metadata": {
        "id": "lXlqJxHSnoAh",
        "colab_type": "code",
        "colab": {}
      },
      "cell_type": "code",
      "source": [
        "def distance(v, w):\n",
        "    return math.sqrt(squared_distance(v, w))"
      ],
      "execution_count": 0,
      "outputs": []
    },
    {
      "metadata": {
        "id": "TPtxYNbInoAi",
        "colab_type": "code",
        "colab": {
          "base_uri": "https://localhost:8080/",
          "height": 35
        },
        "outputId": "20625c5d-f5c1-43ea-d013-13ceae36a88b"
      },
      "cell_type": "code",
      "source": [
        "dot(height_weight_age, grades)"
      ],
      "execution_count": 84,
      "outputs": [
        {
          "output_type": "execute_result",
          "data": {
            "text/plain": [
              "23250"
            ]
          },
          "metadata": {
            "tags": []
          },
          "execution_count": 84
        }
      ]
    },
    {
      "metadata": {
        "id": "AZfdRcVxnoAk",
        "colab_type": "code",
        "colab": {
          "base_uri": "https://localhost:8080/",
          "height": 35
        },
        "outputId": "23db9f61-71d1-4667-979a-8f9d17a19228"
      },
      "cell_type": "code",
      "source": [
        "sum_of_squares(height_weight_age)"
      ],
      "execution_count": 85,
      "outputs": [
        {
          "output_type": "execute_result",
          "data": {
            "text/plain": [
              "35400"
            ]
          },
          "metadata": {
            "tags": []
          },
          "execution_count": 85
        }
      ]
    },
    {
      "metadata": {
        "id": "oKvl9AkcnoAp",
        "colab_type": "code",
        "colab": {
          "base_uri": "https://localhost:8080/",
          "height": 35
        },
        "outputId": "a3061c62-e556-45fd-db64-ae01be8b204c"
      },
      "cell_type": "code",
      "source": [
        "magnitude(height_weight_age)"
      ],
      "execution_count": 86,
      "outputs": [
        {
          "output_type": "execute_result",
          "data": {
            "text/plain": [
              "188.1488772222678"
            ]
          },
          "metadata": {
            "tags": []
          },
          "execution_count": 86
        }
      ]
    },
    {
      "metadata": {
        "id": "TiFJA_m5noAr",
        "colab_type": "code",
        "colab": {
          "base_uri": "https://localhost:8080/",
          "height": 35
        },
        "outputId": "b625b2f8-9512-43a1-e0e7-319ff8bb1641"
      },
      "cell_type": "code",
      "source": [
        "squared_distance(height_weight_age, grades)"
      ],
      "execution_count": 87,
      "outputs": [
        {
          "output_type": "execute_result",
          "data": {
            "text/plain": [
              "9950"
            ]
          },
          "metadata": {
            "tags": []
          },
          "execution_count": 87
        }
      ]
    },
    {
      "metadata": {
        "id": "e3yRB83ZnoAt",
        "colab_type": "code",
        "colab": {
          "base_uri": "https://localhost:8080/",
          "height": 35
        },
        "outputId": "3d3150d5-be64-45e1-f1b8-ba6da44db033"
      },
      "cell_type": "code",
      "source": [
        "distance(height_weight_age, grades)"
      ],
      "execution_count": 88,
      "outputs": [
        {
          "output_type": "execute_result",
          "data": {
            "text/plain": [
              "99.74968671630002"
            ]
          },
          "metadata": {
            "tags": []
          },
          "execution_count": 88
        }
      ]
    },
    {
      "metadata": {
        "id": "7BMKrw51noAv",
        "colab_type": "code",
        "colab": {
          "base_uri": "https://localhost:8080/",
          "height": 35
        },
        "outputId": "e871f102-2b4c-4e29-d2d1-97fa0ba06e50"
      },
      "cell_type": "code",
      "source": [
        "def distance(v, w):\n",
        "    return magnitude(vector_subtract(v, w))\n",
        "distance(height_weight_age, grades)"
      ],
      "execution_count": 89,
      "outputs": [
        {
          "output_type": "execute_result",
          "data": {
            "text/plain": [
              "99.74968671630002"
            ]
          },
          "metadata": {
            "tags": []
          },
          "execution_count": 89
        }
      ]
    },
    {
      "metadata": {
        "id": "owN-IlMhnoAx",
        "colab_type": "code",
        "colab": {}
      },
      "cell_type": "code",
      "source": [
        "A = [[1, 2, 3], # A has 2 rows and 3 columns\n",
        " [4, 5, 6]]\n",
        "B = [[1, 2], # B has 3 rows and 2 columns\n",
        " [3, 4],\n",
        " [5, 6]]"
      ],
      "execution_count": 0,
      "outputs": []
    },
    {
      "metadata": {
        "id": "vtGJIfMxnoAy",
        "colab_type": "code",
        "colab": {}
      },
      "cell_type": "code",
      "source": [
        "def shape(A):\n",
        "    num_rows = len(A)\n",
        "    num_cols = len(A[0]) if A else 0\n",
        "    return num_rows, num_cols"
      ],
      "execution_count": 0,
      "outputs": []
    },
    {
      "metadata": {
        "id": "MRZyiqornoA0",
        "colab_type": "code",
        "colab": {
          "base_uri": "https://localhost:8080/",
          "height": 35
        },
        "outputId": "ed2d56a9-3adc-4538-ee94-0e8ff7d054e7"
      },
      "cell_type": "code",
      "source": [
        "shape(A)"
      ],
      "execution_count": 92,
      "outputs": [
        {
          "output_type": "execute_result",
          "data": {
            "text/plain": [
              "(2, 3)"
            ]
          },
          "metadata": {
            "tags": []
          },
          "execution_count": 92
        }
      ]
    },
    {
      "metadata": {
        "id": "tyqSsKTSnoA4",
        "colab_type": "code",
        "colab": {}
      },
      "cell_type": "code",
      "source": [
        "def get_row(A, i):\n",
        "    return A[i]"
      ],
      "execution_count": 0,
      "outputs": []
    },
    {
      "metadata": {
        "id": "bNiKeglJnoA5",
        "colab_type": "code",
        "colab": {
          "base_uri": "https://localhost:8080/",
          "height": 35
        },
        "outputId": "6a7385d9-7386-40e4-c8f3-ff0d85a43d38"
      },
      "cell_type": "code",
      "source": [
        "get_row(A, 1)"
      ],
      "execution_count": 94,
      "outputs": [
        {
          "output_type": "execute_result",
          "data": {
            "text/plain": [
              "[4, 5, 6]"
            ]
          },
          "metadata": {
            "tags": []
          },
          "execution_count": 94
        }
      ]
    },
    {
      "metadata": {
        "id": "1YvV8fBGnoA8",
        "colab_type": "code",
        "colab": {}
      },
      "cell_type": "code",
      "source": [
        "def get_column(A, j):\n",
        "    return [A_i[j] for A_i in A]"
      ],
      "execution_count": 0,
      "outputs": []
    },
    {
      "metadata": {
        "id": "qYZ25ubBnoA9",
        "colab_type": "code",
        "colab": {
          "base_uri": "https://localhost:8080/",
          "height": 35
        },
        "outputId": "888d53e6-fbb5-446e-8a06-39b3004b294f"
      },
      "cell_type": "code",
      "source": [
        "get_column(A, 1)"
      ],
      "execution_count": 96,
      "outputs": [
        {
          "output_type": "execute_result",
          "data": {
            "text/plain": [
              "[2, 5]"
            ]
          },
          "metadata": {
            "tags": []
          },
          "execution_count": 96
        }
      ]
    },
    {
      "metadata": {
        "id": "IesF4ng0noA_",
        "colab_type": "code",
        "colab": {}
      },
      "cell_type": "code",
      "source": [
        "def make_matrix(num_rows, num_cols, entry_fn):\n",
        "    \"\"\"returns a num_rows x num_cols matrix\n",
        "    whose (i,j)-th entry is entry_fn(i, j)\"\"\"\n",
        "    return [[entry_fn(i, j) for j in range(num_cols)]\n",
        "            for i in range(num_rows)]\n"
      ],
      "execution_count": 0,
      "outputs": []
    },
    {
      "metadata": {
        "id": "wih9rhzenoBB",
        "colab_type": "code",
        "colab": {}
      },
      "cell_type": "code",
      "source": [
        "def is_diagonal(i, j):\n",
        " \"\"\"1's on the 'diagonal', 0's everywhere else\"\"\"\n",
        " return 1 if i == j else 0\n",
        "identity_matrix = make_matrix(5, 5, is_diagonal)"
      ],
      "execution_count": 0,
      "outputs": []
    },
    {
      "metadata": {
        "id": "xdS0puMVnoBC",
        "colab_type": "code",
        "colab": {}
      },
      "cell_type": "code",
      "source": [
        "identity_matrix = make_matrix(5, 5, is_diagonal)"
      ],
      "execution_count": 0,
      "outputs": []
    },
    {
      "metadata": {
        "id": "Eb_g14yGnoBD",
        "colab_type": "code",
        "colab": {
          "base_uri": "https://localhost:8080/",
          "height": 104
        },
        "outputId": "095f5492-25ce-4f81-988f-869ee9c35199"
      },
      "cell_type": "code",
      "source": [
        "identity_matrix"
      ],
      "execution_count": 100,
      "outputs": [
        {
          "output_type": "execute_result",
          "data": {
            "text/plain": [
              "[[1, 0, 0, 0, 0],\n",
              " [0, 1, 0, 0, 0],\n",
              " [0, 0, 1, 0, 0],\n",
              " [0, 0, 0, 1, 0],\n",
              " [0, 0, 0, 0, 1]]"
            ]
          },
          "metadata": {
            "tags": []
          },
          "execution_count": 100
        }
      ]
    },
    {
      "metadata": {
        "id": "-cqqA1XrnoBF",
        "colab_type": "code",
        "colab": {}
      },
      "cell_type": "code",
      "source": [
        "data = [[70, 170, 40],\n",
        " [65, 120, 26],\n",
        " [77, 250, 19],\n",
        " # ....\n",
        " ]"
      ],
      "execution_count": 0,
      "outputs": []
    },
    {
      "metadata": {
        "id": "AaSfD55KnoBI",
        "colab_type": "code",
        "colab": {}
      },
      "cell_type": "code",
      "source": [
        "friendships = [(0, 1), (0, 2), (1, 2), (1, 3), (2, 3), (3, 4),\n",
        " (4, 5), (5, 6), (5, 7), (6, 8), (7, 8), (8, 9)]\n"
      ],
      "execution_count": 0,
      "outputs": []
    },
    {
      "metadata": {
        "id": "pSMPcZ3qnoBK",
        "colab_type": "code",
        "colab": {}
      },
      "cell_type": "code",
      "source": [
        "friendships = [[0, 1, 1, 0, 0, 0, 0, 0, 0, 0], # user 0\n",
        "               [1, 0, 1, 1, 0, 0, 0, 0, 0, 0], # user 1\n",
        "               [1, 1, 0, 1, 0, 0, 0, 0, 0, 0], # user 2\n",
        "               [0, 1, 1, 0, 1, 0, 0, 0, 0, 0], # user 3\n",
        "               [0, 0, 0, 1, 0, 1, 0, 0, 0, 0], # user 4\n",
        "               [0, 0, 0, 0, 1, 0, 1, 1, 0, 0], # user 5\n",
        "               [0, 0, 0, 0, 0, 1, 0, 0, 1, 0], # user 6\n",
        "               [0, 0, 0, 0, 0, 1, 0, 0, 1, 0], # user 7\n",
        "               [0, 0, 0, 0, 0, 0, 1, 1, 0, 1], # user 8\n",
        "               [0, 0, 0, 0, 0, 0, 0, 0, 1, 0]] # user 9"
      ],
      "execution_count": 0,
      "outputs": []
    },
    {
      "metadata": {
        "id": "fTN9rvbCnoBL",
        "colab_type": "code",
        "colab": {
          "base_uri": "https://localhost:8080/",
          "height": 35
        },
        "outputId": "69d12946-c556-4b1b-d3a2-395e452cf741"
      },
      "cell_type": "code",
      "source": [
        "friendships[0][2] == 1 # True, 0 and 2 are friends"
      ],
      "execution_count": 104,
      "outputs": [
        {
          "output_type": "execute_result",
          "data": {
            "text/plain": [
              "True"
            ]
          },
          "metadata": {
            "tags": []
          },
          "execution_count": 104
        }
      ]
    },
    {
      "metadata": {
        "id": "YO52fNObnoBN",
        "colab_type": "code",
        "colab": {
          "base_uri": "https://localhost:8080/",
          "height": 35
        },
        "outputId": "4cbf782a-dda0-442b-eb54-a5709e18958c"
      },
      "cell_type": "code",
      "source": [
        "friendships[0][8] == 1 # False, 0 and 8 are not friends"
      ],
      "execution_count": 105,
      "outputs": [
        {
          "output_type": "execute_result",
          "data": {
            "text/plain": [
              "False"
            ]
          },
          "metadata": {
            "tags": []
          },
          "execution_count": 105
        }
      ]
    },
    {
      "metadata": {
        "id": "bn6BgGjVnoBP",
        "colab_type": "code",
        "colab": {}
      },
      "cell_type": "code",
      "source": [
        "friends_of_five = [i # only need\n",
        " for i, is_friend in enumerate(friendships[5]) # to look at\n",
        " if is_friend] # one row"
      ],
      "execution_count": 0,
      "outputs": []
    },
    {
      "metadata": {
        "id": "rZj0D7aYnoBQ",
        "colab_type": "code",
        "colab": {
          "base_uri": "https://localhost:8080/",
          "height": 35
        },
        "outputId": "4bec0540-2a48-4e3c-98e1-c2eceed4c7b9"
      },
      "cell_type": "code",
      "source": [
        "friends_of_five"
      ],
      "execution_count": 107,
      "outputs": [
        {
          "output_type": "execute_result",
          "data": {
            "text/plain": [
              "[4, 6, 7]"
            ]
          },
          "metadata": {
            "tags": []
          },
          "execution_count": 107
        }
      ]
    },
    {
      "metadata": {
        "id": "fc36K_YRnoBR",
        "colab_type": "code",
        "colab": {}
      },
      "cell_type": "code",
      "source": [
        "def matrix_add(A, B):\n",
        "    if shape(A) != shape(B):\n",
        "        raise ArithmeticError(\"cannot add matrices with different shapes\")\n",
        "\n",
        "    num_rows, num_cols = shape(A)\n",
        "    def entry_fn(i, j): return A[i][j] + B[i][j]\n",
        "\n",
        "    return make_matrix(num_rows, num_cols, entry_fn)"
      ],
      "execution_count": 0,
      "outputs": []
    },
    {
      "metadata": {
        "id": "yE61bnO3noBS",
        "colab_type": "code",
        "colab": {}
      },
      "cell_type": "code",
      "source": [
        "def make_graph_dot_product_as_vector_projection(plt):\n",
        "\n",
        "    v = [2, 1]\n",
        "    w = [math.sqrt(.25), math.sqrt(.75)]\n",
        "    c = dot(v, w)\n",
        "    vonw = scalar_multiply(c, w)\n",
        "    o = [0,0]\n",
        "\n",
        "    plt.arrow(0, 0, v[0], v[1],\n",
        "              width=0.002, head_width=.1, length_includes_head=True)\n",
        "    plt.annotate(\"v\", v, xytext=[v[0] + 0.1, v[1]])\n",
        "    plt.arrow(0 ,0, w[0], w[1],\n",
        "              width=0.002, head_width=.1, length_includes_head=True)\n",
        "    plt.annotate(\"w\", w, xytext=[w[0] - 0.1, w[1]])\n",
        "    plt.arrow(0, 0, vonw[0], vonw[1], length_includes_head=True)\n",
        "    plt.annotate(u\"(v•w)w\", vonw, xytext=[vonw[0] - 0.1, vonw[1] + 0.1])\n",
        "    plt.arrow(v[0], v[1], vonw[0] - v[0], vonw[1] - v[1],\n",
        "              linestyle='dotted', length_includes_head=True)\n",
        "    plt.scatter(*zip(v,w,o),marker='.')\n",
        "    plt.axis('equal')\n",
        "    plt.show()"
      ],
      "execution_count": 0,
      "outputs": []
    },
    {
      "metadata": {
        "id": "XtWaVzZMnoBT",
        "colab_type": "code",
        "colab": {
          "base_uri": "https://localhost:8080/",
          "height": 453
        },
        "outputId": "f8a85cfd-21a1-463e-c339-725a5e64e32e"
      },
      "cell_type": "code",
      "source": [
        "make_graph_dot_product_as_vector_projection(plt)"
      ],
      "execution_count": 110,
      "outputs": [
        {
          "output_type": "display_data",
          "data": {
            "image/png": "[encoded data removed]",
            "text/plain": [
              "<Figure size 576x396 with 1 Axes>"
            ]
          },
          "metadata": {
            "tags": []
          }
        }
      ]
    },
    {
      "metadata": {
        "id": "hI7frLbFnoBU",
        "colab_type": "code",
        "colab": {}
      },
      "cell_type": "code",
      "source": [
        "from collections import Counter, defaultdict\n",
        "from functools import partial, reduce\n",
        "import math, random, csv\n",
        "import matplotlib.pyplot as plt\n",
        "import dateutil.parser"
      ],
      "execution_count": 0,
      "outputs": []
    },
    {
      "metadata": {
        "id": "01jmeh2tnoBV",
        "colab_type": "code",
        "colab": {}
      },
      "cell_type": "code",
      "source": [
        "def bucketize(point, bucket_size):\n",
        "    \"\"\"floor the point to the next lower multiple of bucket_size\"\"\"\n",
        "    return bucket_size * math.floor(point / bucket_size)"
      ],
      "execution_count": 0,
      "outputs": []
    },
    {
      "metadata": {
        "id": "A_3OevXynoBW",
        "colab_type": "code",
        "colab": {}
      },
      "cell_type": "code",
      "source": [
        "def make_histogram(points, bucket_size):\n",
        "    \"\"\"buckets the points and counts how many in each bucket\"\"\"\n",
        "    return Counter(bucketize(point, bucket_size) for point in points)"
      ],
      "execution_count": 0,
      "outputs": []
    },
    {
      "metadata": {
        "id": "bKU28jo6noBX",
        "colab_type": "code",
        "colab": {}
      },
      "cell_type": "code",
      "source": [
        "def plot_histogram(points, bucket_size, title=\"\"):\n",
        "    histogram = make_histogram(points, bucket_size)\n",
        "    plt.bar(histogram.keys(), histogram.values(), width=bucket_size)\n",
        "    plt.title(title)\n",
        "    plt.show()"
      ],
      "execution_count": 0,
      "outputs": []
    },
    {
      "metadata": {
        "id": "yeuKsErdnoBY",
        "colab_type": "code",
        "colab": {}
      },
      "cell_type": "code",
      "source": [
        "def compare_two_distributions():\n",
        "\n",
        "    random.seed(0)\n",
        "\n",
        "    uniform = [random.randrange(-100,101) for _ in range(200)]\n",
        "    normal = [57 * inverse_normal_cdf(random.random())\n",
        "              for _ in range(200)]\n",
        "\n",
        "    plot_histogram(uniform, 10, \"Uniform Histogram\")\n",
        "    plot_histogram(normal, 10, \"Normal Histogram\")"
      ],
      "execution_count": 0,
      "outputs": []
    },
    {
      "metadata": {
        "id": "se7YibIonoBZ",
        "colab_type": "code",
        "colab": {}
      },
      "cell_type": "code",
      "source": [
        "def normal_cdf(x, mu=0,sigma=1):\n",
        "    return (1 + math.erf((x - mu) / math.sqrt(2) / sigma)) / 2"
      ],
      "execution_count": 0,
      "outputs": []
    },
    {
      "metadata": {
        "id": "l4_1VTcEnoBc",
        "colab_type": "code",
        "colab": {}
      },
      "cell_type": "code",
      "source": [
        "def inverse_normal_cdf(p, mu=0, sigma=1, tolerance=0.00001):\n",
        "    \"\"\"find approximate inverse using binary search\"\"\"\n",
        "    # if not standard, compute standard and rescale\n",
        "    if mu != 0 or sigma != 1:\n",
        "        return mu + sigma * inverse_normal_cdf(p, tolerance=tolerance)\n",
        "    low_z, low_p = -10.0, 0 # normal_cdf(-10) is (very close to) 0\n",
        "    hi_z, hi_p = 10.0, 1 # normal_cdf(10) is (very close to) 1\n",
        "    while hi_z - low_z > tolerance:\n",
        "        mid_z = (low_z + hi_z) / 2 # consider the midpoint\n",
        "        mid_p = normal_cdf(mid_z) # and the cdf's value there\n",
        "        if mid_p < p:\n",
        "            # midpoint is still too low, search above it\n",
        "            low_z, low_p = mid_z, mid_p\n",
        "        elif mid_p > p:\n",
        "            # midpoint is still too high, search below it\n",
        "            hi_z, hi_p = mid_z, mid_p\n",
        "        else:\n",
        "            break\n",
        "    return mid_z"
      ],
      "execution_count": 0,
      "outputs": []
    },
    {
      "metadata": {
        "id": "snHIsLeXnoBe",
        "colab_type": "code",
        "colab": {}
      },
      "cell_type": "code",
      "source": [
        "import random\n",
        "random.seed(0)\n",
        "# uniform between -100 and 100\n",
        "uniform = [200 * random.random() - 100 for _ in range(10000)]\n",
        "# normal distribution with mean 0, standard deviation 57\n",
        "normal = [57 * inverse_normal_cdf(random.random())\n",
        " for _ in range(10000)]"
      ],
      "execution_count": 0,
      "outputs": []
    },
    {
      "metadata": {
        "id": "ESga33mSnoBf",
        "colab_type": "code",
        "colab": {
          "base_uri": "https://localhost:8080/",
          "height": 363
        },
        "outputId": "8bcb291b-d2d9-42c5-e256-c819c1e9db44"
      },
      "cell_type": "code",
      "source": [
        "plot_histogram(uniform, 10, \"Uniform Histogram\")"
      ],
      "execution_count": 119,
      "outputs": [
        {
          "output_type": "display_data",
          "data": {
            "image/png": "[encoded data removed]",
            "text/plain": [
              "<Figure size 576x396 with 1 Axes>"
            ]
          },
          "metadata": {
            "tags": []
          }
        }
      ]
    },
    {
      "metadata": {
        "id": "tft7egWCnoBg",
        "colab_type": "code",
        "colab": {
          "base_uri": "https://localhost:8080/",
          "height": 363
        },
        "outputId": "4ec9dc2e-7227-49f5-bd76-ad37008eb862"
      },
      "cell_type": "code",
      "source": [
        "plot_histogram(normal, 10, \"Normal Histogram\")"
      ],
      "execution_count": 120,
      "outputs": [
        {
          "output_type": "display_data",
          "data": {
            "image/png": "[encoded data removed]",
            "text/plain": [
              "<Figure size 576x396 with 1 Axes>"
            ]
          },
          "metadata": {
            "tags": []
          }
        }
      ]
    },
    {
      "metadata": {
        "id": "Jl2RsLn2noBh",
        "colab_type": "code",
        "colab": {}
      },
      "cell_type": "code",
      "source": [
        "def random_normal():\n",
        "    \"\"\"returns a random draw from a standard normal distribution\"\"\"\n",
        "    return inverse_normal_cdf(random.random())\n"
      ],
      "execution_count": 0,
      "outputs": []
    },
    {
      "metadata": {
        "id": "CdNQUDDonoBi",
        "colab_type": "code",
        "colab": {}
      },
      "cell_type": "code",
      "source": [
        "xs = [random_normal() for _ in range(1000)]\n",
        "ys1 = [ x + random_normal() / 2 for x in xs]\n",
        "ys2 = [-x + random_normal() / 2 for x in xs]\n"
      ],
      "execution_count": 0,
      "outputs": []
    },
    {
      "metadata": {
        "id": "Y9sRCYWOnoBj",
        "colab_type": "code",
        "colab": {}
      },
      "cell_type": "code",
      "source": [
        "def scatter():\n",
        "    plt.scatter(xs, ys1, marker='.', color='black', label='ys1')\n",
        "    plt.scatter(xs, ys2, marker='.', color='gray',  label='ys2')\n",
        "    plt.xlabel('xs')\n",
        "    plt.ylabel('ys')\n",
        "    plt.legend(loc=9)\n",
        "    plt.title(\"Very Different Joint Distributions\")\n",
        "    plt.show()\n"
      ],
      "execution_count": 0,
      "outputs": []
    },
    {
      "metadata": {
        "id": "rBlMVqyPnoBk",
        "colab_type": "code",
        "colab": {
          "base_uri": "https://localhost:8080/",
          "height": 377
        },
        "outputId": "565e7519-34ec-4940-cb0b-c0187ff9ef1f"
      },
      "cell_type": "code",
      "source": [
        "scatter()"
      ],
      "execution_count": 124,
      "outputs": [
        {
          "output_type": "display_data",
          "data": {
            "image/png": "[encoded data removed]",
            "text/plain": [
              "<Figure size 576x396 with 1 Axes>"
            ]
          },
          "metadata": {
            "tags": []
          }
        }
      ]
    },
    {
      "metadata": {
        "id": "_7FqsCB_noBl",
        "colab_type": "code",
        "colab": {}
      },
      "cell_type": "code",
      "source": [
        "def mean(x):\n",
        "    return sum(x) / len(x)\n",
        "def de_mean(x):\n",
        "    \"\"\"translate x by subtracting its mean (so the result has mean 0)\"\"\"\n",
        "    x_bar = mean(x)\n",
        "    return [x_i - x_bar for x_i in x]\n",
        "def variance(x):\n",
        "    \"\"\"assumes x has at least two elements\"\"\"\n",
        "    n = len(x)\n",
        "    deviations = de_mean(x)\n",
        "    return sum_of_squares(deviations) / (n - 1)\n",
        "def standard_deviation(x):\n",
        "    return math.sqrt(variance(x))\n",
        "def covariance(x, y):\n",
        "    n = len(x)\n",
        "    return dot(de_mean(x), de_mean(y)) / (n - 1)\n",
        "def correlation(x, y):\n",
        "    stdev_x = standard_deviation(x)\n",
        "    stdev_y = standard_deviation(y)\n",
        "    if stdev_x > 0 and stdev_y > 0:\n",
        "        return covariance(x, y) / stdev_x / stdev_y\n",
        "    else:\n",
        "        return 0"
      ],
      "execution_count": 0,
      "outputs": []
    },
    {
      "metadata": {
        "id": "NTTgW5M5noBm",
        "colab_type": "code",
        "colab": {
          "base_uri": "https://localhost:8080/",
          "height": 35
        },
        "outputId": "230b682f-7903-4a10-b729-f42d18afd98b"
      },
      "cell_type": "code",
      "source": [
        "print (correlation(xs, ys1))"
      ],
      "execution_count": 126,
      "outputs": [
        {
          "output_type": "stream",
          "text": [
            "0.9010493686379609\n"
          ],
          "name": "stdout"
        }
      ]
    },
    {
      "metadata": {
        "id": "XkoxAUN4noBn",
        "colab_type": "code",
        "colab": {
          "base_uri": "https://localhost:8080/",
          "height": 35
        },
        "outputId": "c4020deb-ef9e-452e-ce4f-42a8bfe6967f"
      },
      "cell_type": "code",
      "source": [
        "print (correlation(xs, ys2))"
      ],
      "execution_count": 127,
      "outputs": [
        {
          "output_type": "stream",
          "text": [
            "-0.8920981526880033\n"
          ],
          "name": "stdout"
        }
      ]
    },
    {
      "metadata": {
        "id": "q3IXig2RnoBo",
        "colab_type": "code",
        "colab": {}
      },
      "cell_type": "code",
      "source": [
        "def correlation_matrix(data):\n",
        "    \"\"\"returns the num_columns x num_columns matrix whose (i, j)th entry\n",
        "    is the correlation between columns i and j of data\"\"\"\n",
        "\n",
        "    _, num_columns = shape(data)\n",
        "    def matrix_entry(i, j):\n",
        "        return correlation(get_column(data, i), get_column(data, j))\n",
        "\n",
        "    return make_matrix(num_columns, num_columns, matrix_entry)\n",
        "\n"
      ],
      "execution_count": 0,
      "outputs": []
    },
    {
      "metadata": {
        "id": "bbIaMoZxnoBp",
        "colab_type": "code",
        "colab": {}
      },
      "cell_type": "code",
      "source": [
        "def make_scatterplot_matrix():\n",
        "\n",
        "    # first, generate some random data\n",
        "\n",
        "    num_points = 100\n",
        "\n",
        "    def random_row():\n",
        "        row = [None, None, None, None]\n",
        "        row[0] = random_normal()\n",
        "        row[1] = -5 * row[0] + random_normal()\n",
        "        row[2] = row[0] + row[1] + 5 * random_normal()\n",
        "        row[3] = 6 if row[2] > -2 else 0\n",
        "        return row\n",
        "    random.seed(0)\n",
        "    data = [random_row()\n",
        "            for _ in range(num_points)]\n",
        "\n",
        "    # then plot it\n",
        "\n",
        "    _, num_columns = shape(data)\n",
        "    fig, ax = plt.subplots(num_columns, num_columns)\n",
        "\n",
        "    for i in range(num_columns):\n",
        "        for j in range(num_columns):\n",
        "\n",
        "            # scatter column_j on the x-axis vs column_i on the y-axis\n",
        "            if i != j: ax[i][j].scatter(get_column(data, j), get_column(data, i))\n",
        "\n",
        "            # unless i == j, in which case show the series name\n",
        "            else: ax[i][j].annotate(\"series \" + str(i), (0.5, 0.5),\n",
        "                                    xycoords='axes fraction',\n",
        "                                    ha=\"center\", va=\"center\")\n",
        "\n",
        "            # then hide axis labels except left and bottom charts\n",
        "            if i < num_columns - 1: ax[i][j].xaxis.set_visible(False)\n",
        "            if j > 0: ax[i][j].yaxis.set_visible(False)\n",
        "\n",
        "    # fix the bottom right and top left axis labels, which are wrong because\n",
        "    # their charts only have text in them\n",
        "    ax[-1][-1].set_xlim(ax[0][-1].get_xlim())\n",
        "    ax[0][0].set_ylim(ax[0][1].get_ylim())\n",
        "\n",
        "    plt.show()"
      ],
      "execution_count": 0,
      "outputs": []
    },
    {
      "metadata": {
        "id": "W25LRYmdnoBq",
        "colab_type": "code",
        "colab": {
          "base_uri": "https://localhost:8080/",
          "height": 347
        },
        "outputId": "c92bd0f6-a9b9-4395-e69f-4c51523efb54"
      },
      "cell_type": "code",
      "source": [
        "make_scatterplot_matrix()"
      ],
      "execution_count": 130,
      "outputs": [
        {
          "output_type": "display_data",
          "data": {
            "image/png": "[encoded data removed]",
            "text/plain": [
              "<Figure size 576x396 with 16 Axes>"
            ]
          },
          "metadata": {
            "tags": []
          }
        }
      ]
    },
    {
      "metadata": {
        "id": "myPoF_-8noBr",
        "colab_type": "code",
        "colab": {}
      },
      "cell_type": "code",
      "source": [
        "def parse_row(input_row, parsers):\n",
        "    \"\"\"given a list of parsers (some of which may be None)\n",
        "    apply the appropriate one to each element of the input_row\"\"\"\n",
        "    return [parser(value) if parser is not None else value\n",
        "            for value, parser in zip(input_row, parsers)]\n"
      ],
      "execution_count": 0,
      "outputs": []
    },
    {
      "metadata": {
        "id": "K9dvBpuTnoBs",
        "colab_type": "code",
        "colab": {}
      },
      "cell_type": "code",
      "source": [
        "def parse_rows_with(reader, parsers):\n",
        "    \"\"\"wrap a reader to apply the parsers to each of its rows\"\"\"\n",
        "    for row in reader:\n",
        "        yield parse_row(row, parsers)\n"
      ],
      "execution_count": 0,
      "outputs": []
    },
    {
      "metadata": {
        "id": "YUN9eXLanoBt",
        "colab_type": "code",
        "colab": {}
      },
      "cell_type": "code",
      "source": [
        "def try_or_none(f):\n",
        "    \"\"\"wraps f to return None if f raises an exception\n",
        "    assumes f takes only one input\"\"\"\n",
        "    def f_or_none(x):\n",
        "        try: return f(x)\n",
        "        except: return None\n",
        "    return f_or_none"
      ],
      "execution_count": 0,
      "outputs": []
    },
    {
      "metadata": {
        "id": "a9mahHfHnoBu",
        "colab_type": "code",
        "colab": {}
      },
      "cell_type": "code",
      "source": [
        "def parse_row(input_row, parsers):\n",
        "    return [try_or_none(parser)(value) if parser is not None else value\n",
        "            for value, parser in zip(input_row, parsers)]\n"
      ],
      "execution_count": 0,
      "outputs": []
    },
    {
      "metadata": {
        "id": "2SG689DInoBw",
        "colab_type": "code",
        "colab": {}
      },
      "cell_type": "code",
      "source": [
        "import dateutil.parser\n",
        "data = []\n",
        "with open(\"comma_delimited_stock_prices.csv\", \"r\") as f:\n",
        "    reader = csv.reader(f)\n",
        "    for line in parse_rows_with(reader, [dateutil.parser.parse, None, float]):\n",
        "        data.append(line)"
      ],
      "execution_count": 0,
      "outputs": []
    },
    {
      "metadata": {
        "id": "A0_3l7DWnoBx",
        "colab_type": "code",
        "colab": {}
      },
      "cell_type": "code",
      "source": [
        "for row in data:\n",
        "    if any(x is None for x in row):\n",
        "        print(row)"
      ],
      "execution_count": 0,
      "outputs": []
    },
    {
      "metadata": {
        "id": "yA9Ol7J4noB0",
        "colab_type": "code",
        "colab": {}
      },
      "cell_type": "code",
      "source": [
        "def try_parse_field(field_name, value, parser_dict):\n",
        "    \"\"\"try to parse value using the appropriate function from parser_dict\"\"\"\n",
        "    parser = parser_dict.get(field_name) # None if no such entry\n",
        "    if parser is not None:\n",
        "        return try_or_none(parser)(value)\n",
        "    else:\n",
        "        return value"
      ],
      "execution_count": 0,
      "outputs": []
    },
    {
      "metadata": {
        "id": "cCjYv3QknoB1",
        "colab_type": "code",
        "colab": {}
      },
      "cell_type": "code",
      "source": [
        "def parse_dict(input_dict, parser_dict):\n",
        "    return { field_name : try_parse_field(field_name, value, parser_dict)\n",
        "             for field_name, value in input_dict.items() }"
      ],
      "execution_count": 0,
      "outputs": []
    },
    {
      "metadata": {
        "id": "Y8b8xcHpnoB3",
        "colab_type": "code",
        "colab": {}
      },
      "cell_type": "code",
      "source": [
        "import datetime\n",
        "data = [\n",
        " {'closing_price': 102.06,\n",
        " 'date': datetime.datetime(2014, 8, 29, 0, 0),\n",
        " 'symbol': 'AAPL'},\n",
        " # ...\n",
        "]"
      ],
      "execution_count": 0,
      "outputs": []
    },
    {
      "metadata": {
        "id": "t451mxE-noB3",
        "colab_type": "code",
        "colab": {}
      },
      "cell_type": "code",
      "source": [
        "max_aapl_price = max(row[\"closing_price\"]\n",
        "                     for row in data\n",
        "                     if row[\"symbol\"] == \"AAPL\")"
      ],
      "execution_count": 0,
      "outputs": []
    },
    {
      "metadata": {
        "id": "kmFsRBoznoB4",
        "colab_type": "code",
        "colab": {
          "base_uri": "https://localhost:8080/",
          "height": 35
        },
        "outputId": "65465871-1047-4b9a-b780-29e2f111041a"
      },
      "cell_type": "code",
      "source": [
        "max_aapl_price"
      ],
      "execution_count": 141,
      "outputs": [
        {
          "output_type": "execute_result",
          "data": {
            "text/plain": [
              "102.06"
            ]
          },
          "metadata": {
            "tags": []
          },
          "execution_count": 141
        }
      ]
    },
    {
      "metadata": {
        "id": "joYBrWhpnoB6",
        "colab_type": "code",
        "colab": {}
      },
      "cell_type": "code",
      "source": [
        "# group rows by symbol\n",
        "by_symbol = defaultdict(list)\n",
        "for row in data:\n",
        "    by_symbol[row[\"symbol\"]].append(row)\n",
        "# use a dict comprehension to find the max for each symbol\n",
        "max_price_by_symbol = { symbol : max(row[\"closing_price\"]\n",
        "                                     for row in grouped_rows)\n",
        "                        for symbol, grouped_rows in by_symbol.items() }"
      ],
      "execution_count": 0,
      "outputs": []
    },
    {
      "metadata": {
        "id": "KDtwqusCnoB8",
        "colab_type": "code",
        "colab": {
          "base_uri": "https://localhost:8080/",
          "height": 35
        },
        "outputId": "13217e1d-e7f1-4b0b-d611-c23eed078a8b"
      },
      "cell_type": "code",
      "source": [
        "max_price_by_symbol"
      ],
      "execution_count": 143,
      "outputs": [
        {
          "output_type": "execute_result",
          "data": {
            "text/plain": [
              "{'AAPL': 102.06}"
            ]
          },
          "metadata": {
            "tags": []
          },
          "execution_count": 143
        }
      ]
    },
    {
      "metadata": {
        "id": "vpLsQ_64noB9",
        "colab_type": "code",
        "colab": {}
      },
      "cell_type": "code",
      "source": [
        "def picker(field_name):\n",
        "    \"\"\"returns a function that picks a field out of a dict\"\"\"\n",
        "    return lambda row: row[field_name]\n",
        "\n",
        "def pluck(field_name, rows):\n",
        "    \"\"\"turn a list of dicts into the list of field_name values\"\"\"\n",
        "    return map(picker(field_name), rows)\n"
      ],
      "execution_count": 0,
      "outputs": []
    },
    {
      "metadata": {
        "id": "zctYEEBTnoB-",
        "colab_type": "code",
        "colab": {}
      },
      "cell_type": "code",
      "source": [
        "def group_by(grouper, rows, value_transform=None):\n",
        "    # key is output of grouper, value is list of rows\n",
        "    grouped = defaultdict(list)\n",
        "    for row in rows:\n",
        "        grouped[grouper(row)].append(row)\n",
        "    if value_transform is None:\n",
        "        return grouped\n",
        "    else:\n",
        "        return { key : value_transform(rows)\n",
        "                 for key, rows in grouped.items() }\n"
      ],
      "execution_count": 0,
      "outputs": []
    },
    {
      "metadata": {
        "id": "_g0UQu8xnoCA",
        "colab_type": "code",
        "colab": {}
      },
      "cell_type": "code",
      "source": [
        "max_price_by_symbol = group_by(picker(\"symbol\"),\n",
        "                               data,\n",
        "                               lambda rows: max(pluck(\"closing_price\", rows)))"
      ],
      "execution_count": 0,
      "outputs": []
    },
    {
      "metadata": {
        "id": "GSSbdBcWnoCA",
        "colab_type": "code",
        "colab": {
          "base_uri": "https://localhost:8080/",
          "height": 35
        },
        "outputId": "9b794f04-7b27-4bd3-9748-776f0cfe8568"
      },
      "cell_type": "code",
      "source": [
        "max_price_by_symbol"
      ],
      "execution_count": 147,
      "outputs": [
        {
          "output_type": "execute_result",
          "data": {
            "text/plain": [
              "{'AAPL': 102.06}"
            ]
          },
          "metadata": {
            "tags": []
          },
          "execution_count": 147
        }
      ]
    },
    {
      "metadata": {
        "id": "eTN-PyqSnoCC",
        "colab_type": "code",
        "colab": {}
      },
      "cell_type": "code",
      "source": [
        "def percent_price_change(yesterday, today):\n",
        "    return today[\"closing_price\"] / yesterday[\"closing_price\"] - 1"
      ],
      "execution_count": 0,
      "outputs": []
    },
    {
      "metadata": {
        "id": "uFw-m0h5noCG",
        "colab_type": "code",
        "colab": {}
      },
      "cell_type": "code",
      "source": [
        "def day_over_day_changes(grouped_rows):\n",
        "    # sort the rows by date\n",
        "    ordered = sorted(grouped_rows, key=picker(\"date\"))\n",
        "    # zip with an offset to get pairs of consecutive days\n",
        "    return [{ \"symbol\" : today[\"symbol\"],\n",
        "              \"date\" : today[\"date\"],\n",
        "              \"change\" : percent_price_change(yesterday, today) }\n",
        "             for yesterday, today in zip(ordered, ordered[1:])]"
      ],
      "execution_count": 0,
      "outputs": []
    },
    {
      "metadata": {
        "id": "5p4Z48-anoCJ",
        "colab_type": "code",
        "colab": {}
      },
      "cell_type": "code",
      "source": [
        "# key is symbol, value is list of \"change\" dicts\n",
        "changes_by_symbol = group_by(picker(\"symbol\"), data, day_over_day_changes)\n",
        "# collect all \"change\" dicts into one big list\n",
        "all_changes = [change\n",
        "               for changes in changes_by_symbol.values()\n",
        "\n",
        "               for change in changes]"
      ],
      "execution_count": 0,
      "outputs": []
    },
    {
      "metadata": {
        "id": "WrV7gGM-noCL",
        "colab_type": "code",
        "colab": {
          "base_uri": "https://localhost:8080/",
          "height": 69
        },
        "outputId": "9dc46f17-dc75-4ab9-f747-6374fd7f53f7"
      },
      "cell_type": "code",
      "source": [
        "max(all_changes, key=picker(\"change\"))"
      ],
      "execution_count": 198,
      "outputs": [
        {
          "output_type": "execute_result",
          "data": {
            "text/plain": [
              "{'change': 0.3283582089552237,\n",
              " 'date': datetime.datetime(1997, 8, 6, 0, 0),\n",
              " 'symbol': 'AAPL'}"
            ]
          },
          "metadata": {
            "tags": []
          },
          "execution_count": 198
        }
      ]
    },
    {
      "metadata": {
        "id": "IiSgsgMQnoCM",
        "colab_type": "code",
        "colab": {
          "base_uri": "https://localhost:8080/",
          "height": 69
        },
        "outputId": "d665f723-c664-43ae-a63b-977aba2e1cfa"
      },
      "cell_type": "code",
      "source": [
        "min(all_changes, key=picker(\"change\"))"
      ],
      "execution_count": 197,
      "outputs": [
        {
          "output_type": "execute_result",
          "data": {
            "text/plain": [
              "{'change': -0.5193370165745856,\n",
              " 'date': datetime.datetime(2000, 9, 29, 0, 0),\n",
              " 'symbol': 'AAPL'}"
            ]
          },
          "metadata": {
            "tags": []
          },
          "execution_count": 197
        }
      ]
    },
    {
      "metadata": {
        "id": "U4IAqlMjnoCO",
        "colab_type": "code",
        "colab": {}
      },
      "cell_type": "code",
      "source": [
        "# to combine percent changes, we add 1 to each, multiply them, and subtract 1\n",
        "# for instance, if we combine +10% and -20%, the overall change is\n",
        "# (1 + 10%) * (1 - 20%) - 1 = 1.1 * .8 - 1 = -12%\n",
        "def combine_pct_changes(pct_change1, pct_change2):\n",
        "    return (1 + pct_change1) * (1 + pct_change2) - 1\n",
        "def overall_change(changes):\n",
        "    return reduce(combine_pct_changes, pluck(\"change\", changes))\n",
        "overall_change_by_month = group_by(lambda row: row['date'].month,\n",
        "                                   all_changes,\n",
        "                                   overall_change)"
      ],
      "execution_count": 0,
      "outputs": []
    },
    {
      "metadata": {
        "id": "U2U9SuS2noCQ",
        "colab_type": "code",
        "colab": {
          "base_uri": "https://localhost:8080/",
          "height": 35
        },
        "outputId": "596d7e71-5aa8-4402-dd60-95359bb35259"
      },
      "cell_type": "code",
      "source": [
        "a_to_b = distance([63, 150], [67, 160])\n",
        "a_to_b"
      ],
      "execution_count": 153,
      "outputs": [
        {
          "output_type": "execute_result",
          "data": {
            "text/plain": [
              "10.770329614269007"
            ]
          },
          "metadata": {
            "tags": []
          },
          "execution_count": 153
        }
      ]
    },
    {
      "metadata": {
        "id": "go0-Sx1anoCT",
        "colab_type": "code",
        "colab": {
          "base_uri": "https://localhost:8080/",
          "height": 35
        },
        "outputId": "3078a41d-c352-447a-8e41-1d6796193f1c"
      },
      "cell_type": "code",
      "source": [
        "a_to_c = distance([63, 150], [70, 171]) \n",
        "a_to_c"
      ],
      "execution_count": 154,
      "outputs": [
        {
          "output_type": "execute_result",
          "data": {
            "text/plain": [
              "22.135943621178654"
            ]
          },
          "metadata": {
            "tags": []
          },
          "execution_count": 154
        }
      ]
    },
    {
      "metadata": {
        "id": "OA2EK4xKnoCU",
        "colab_type": "code",
        "colab": {
          "base_uri": "https://localhost:8080/",
          "height": 35
        },
        "outputId": "952c409d-962d-450f-fea3-99d86d68cb8d"
      },
      "cell_type": "code",
      "source": [
        "b_to_c = distance([67, 160], [70, 171]) \n",
        "b_to_c"
      ],
      "execution_count": 155,
      "outputs": [
        {
          "output_type": "execute_result",
          "data": {
            "text/plain": [
              "11.40175425099138"
            ]
          },
          "metadata": {
            "tags": []
          },
          "execution_count": 155
        }
      ]
    },
    {
      "metadata": {
        "id": "wHVbrpFTnoCW",
        "colab_type": "code",
        "colab": {
          "base_uri": "https://localhost:8080/",
          "height": 35
        },
        "outputId": "ad0975e4-dad0-4a8e-e90e-5f7ec11640cf"
      },
      "cell_type": "code",
      "source": [
        "a_to_b = distance([160, 150], [170.2, 160]) \n",
        "a_to_b"
      ],
      "execution_count": 156,
      "outputs": [
        {
          "output_type": "execute_result",
          "data": {
            "text/plain": [
              "14.284257068535268"
            ]
          },
          "metadata": {
            "tags": []
          },
          "execution_count": 156
        }
      ]
    },
    {
      "metadata": {
        "id": "YbIFKMkEnoCX",
        "colab_type": "code",
        "colab": {
          "base_uri": "https://localhost:8080/",
          "height": 35
        },
        "outputId": "e376ab56-ee31-48a3-8bca-e4ab82fba275"
      },
      "cell_type": "code",
      "source": [
        "a_to_c = distance([160, 150], [177.8, 171]) \n",
        "a_to_c"
      ],
      "execution_count": 157,
      "outputs": [
        {
          "output_type": "execute_result",
          "data": {
            "text/plain": [
              "27.52889391167034"
            ]
          },
          "metadata": {
            "tags": []
          },
          "execution_count": 157
        }
      ]
    },
    {
      "metadata": {
        "id": "hAEw_jTWnoCZ",
        "colab_type": "code",
        "colab": {
          "base_uri": "https://localhost:8080/",
          "height": 35
        },
        "outputId": "6e338279-b9bf-482f-c3e5-866065271ef3"
      },
      "cell_type": "code",
      "source": [
        "b_to_c = distance([170.2, 160], [177.8, 171]) \n",
        "b_to_c"
      ],
      "execution_count": 158,
      "outputs": [
        {
          "output_type": "execute_result",
          "data": {
            "text/plain": [
              "13.370115930686627"
            ]
          },
          "metadata": {
            "tags": []
          },
          "execution_count": 158
        }
      ]
    },
    {
      "metadata": {
        "id": "kGthSTE7noCb",
        "colab_type": "code",
        "colab": {}
      },
      "cell_type": "code",
      "source": [
        "def scale(data_matrix):\n",
        "    num_rows, num_cols = shape(data_matrix)\n",
        "    means = [mean(get_column(data_matrix,j))\n",
        "             for j in range(num_cols)]\n",
        "    stdevs = [standard_deviation(get_column(data_matrix,j))\n",
        "              for j in range(num_cols)]\n",
        "    return means, stdevs"
      ],
      "execution_count": 0,
      "outputs": []
    },
    {
      "metadata": {
        "id": "lG4N1DgfnoCb",
        "colab_type": "code",
        "colab": {
          "base_uri": "https://localhost:8080/",
          "height": 35
        },
        "outputId": "4ef74b7c-30b5-483d-bc30-e7cc38df7fef"
      },
      "cell_type": "code",
      "source": [
        "scale(A)"
      ],
      "execution_count": 160,
      "outputs": [
        {
          "output_type": "execute_result",
          "data": {
            "text/plain": [
              "([2.5, 3.5, 4.5], [2.1213203435596424, 2.1213203435596424, 2.1213203435596424])"
            ]
          },
          "metadata": {
            "tags": []
          },
          "execution_count": 160
        }
      ]
    },
    {
      "metadata": {
        "id": "y_C4rJqhnoCc",
        "colab_type": "code",
        "colab": {}
      },
      "cell_type": "code",
      "source": [
        "def rescale(data_matrix):\n",
        "    \"\"\"rescales the input data so that each column\n",
        "    has mean 0 and standard deviation 1\n",
        "    ignores columns with no deviation\"\"\"\n",
        "    means, stdevs = scale(data_matrix)\n",
        "    def rescaled(i, j):\n",
        "        if stdevs[j] > 0:\n",
        "            return (data_matrix[i][j] - means[j]) / stdevs[j]\n",
        "        else:\n",
        "            return data_matrix[i][j]\n",
        "    num_rows, num_cols = shape(data_matrix)\n",
        "    return make_matrix(num_rows, num_cols, rescaled)"
      ],
      "execution_count": 0,
      "outputs": []
    },
    {
      "metadata": {
        "id": "oSd2oEXZnoCd",
        "colab_type": "code",
        "colab": {
          "base_uri": "https://localhost:8080/",
          "height": 52
        },
        "outputId": "d25d0859-60d7-4e4e-b1b0-3cc94cab23a7"
      },
      "cell_type": "code",
      "source": [
        "rescale(A)"
      ],
      "execution_count": 162,
      "outputs": [
        {
          "output_type": "execute_result",
          "data": {
            "text/plain": [
              "[[-0.7071067811865476, -0.7071067811865476, -0.7071067811865476],\n",
              " [0.7071067811865476, 0.7071067811865476, 0.7071067811865476]]"
            ]
          },
          "metadata": {
            "tags": []
          },
          "execution_count": 162
        }
      ]
    },
    {
      "metadata": {
        "id": "dha6GsqZnoCe",
        "colab_type": "code",
        "colab": {
          "base_uri": "https://localhost:8080/",
          "height": 35
        },
        "outputId": "b5dab9a0-ff65-4d67-e272-04342f1de73e"
      },
      "cell_type": "code",
      "source": [
        "A"
      ],
      "execution_count": 163,
      "outputs": [
        {
          "output_type": "execute_result",
          "data": {
            "text/plain": [
              "[[1, 2, 3], [4, 5, 6]]"
            ]
          },
          "metadata": {
            "tags": []
          },
          "execution_count": 163
        }
      ]
    },
    {
      "metadata": {
        "id": "wlWCusJrnoCg",
        "colab_type": "code",
        "colab": {}
      },
      "cell_type": "code",
      "source": [
        "### this variable is declared to check the outputs for below function blocks\n",
        "X = [\n",
        "    [20.9666776351559,-13.1138080189357],\n",
        "    [22.7719907680008,-19.8890894944696],\n",
        "    [25.6687103160153,-11.9956004517219],\n",
        "    [18.0019794950564,-18.1989191165133],\n",
        "    [21.3967402102156,-10.8893126308196],\n",
        "    [0.443696899177716,-19.7221132386308],\n",
        "    [29.9198322142127,-14.0958668502427],\n",
        "    [19.0805843080126,-13.7888747608312],\n",
        "    [16.4685063521314,-11.2612927034291],\n",
        "    [21.4597664701884,-12.4740034586705],\n",
        "    [3.87655283720532,-17.575162461771],\n",
        "    [34.5713920556787,-10.705185165378],\n",
        "    [13.3732115747722,-16.7270274494424],\n",
        "    [20.7281704141919,-8.81165591556553],\n",
        "    [24.839851437942,-12.1240962157419],\n",
        "    [20.3019544741252,-12.8725060780898],\n",
        "    [21.9021426929599,-17.3225432396452],\n",
        "    [23.2285885715486,-12.2676568419045],\n",
        "    [28.5749111681851,-13.2616470619453],\n",
        "    [29.2957424128701,-14.6299928678996],\n",
        "    [15.2495527798625,-18.4649714274207],\n",
        "    [26.5567257400476,-9.19794350561966],\n",
        "    [30.1934232346361,-12.6272709845971],\n",
        "    [36.8267446011057,-7.25409849336718],\n",
        "    [32.157416823084,-10.4729534347553],\n",
        "    [5.85964365291694,-22.6573731626132],\n",
        "    [25.7426190674693,-14.8055803854566],\n",
        "    [16.237602636139,-16.5920595763719],\n",
        "    [14.7408608850568,-20.0537715298403],\n",
        "    [6.85907008242544,-18.3965586884781],\n",
        "    [26.5918329233128,-8.92664811750842],\n",
        "    [-11.2216019958228,-27.0519081982856],\n",
        "    [8.93593745011035,-20.8261235122575],\n",
        "    [24.4481258671796,-18.0324012215159],\n",
        "    [2.82048515404903,-22.4208457598703],\n",
        "    [30.8803004755948,-11.455358009593],\n",
        "    [15.4586738236098,-11.1242825084309],\n",
        "    [28.5332537090494,-14.7898744423126],\n",
        "    [40.4830293441052,-2.41946428697183],\n",
        "    [15.7563759125684,-13.5771266003795],\n",
        "    [19.3635588851727,-20.6224770470434],\n",
        "    [13.4212840786467,-19.0238227375766],\n",
        "    [7.77570680426702,-16.6385739839089],\n",
        "    [21.4865983854408,-15.290799330002],\n",
        "    [12.6392705930724,-23.6433305964301],\n",
        "    [12.4746151388128,-17.9720169566614],\n",
        "    [23.4572410437998,-14.602080545086],\n",
        "    [13.6878189833565,-18.9687408182414],\n",
        "    [15.4077465943441,-14.5352487124086],\n",
        "    [20.3356581548895,-10.0883159703702],\n",
        "    [20.7093833689359,-12.6939091236766],\n",
        "    [11.1032293684441,-14.1383848928755],\n",
        "    [17.5048321498308,-9.2338593361801],\n",
        "    [16.3303688220188,-15.1054735529158],\n",
        "    [26.6929062710726,-13.306030567991],\n",
        "    [34.4985678099711,-9.86199941278607],\n",
        "    [39.1374291499406,-10.5621430853401],\n",
        "    [21.9088956482146,-9.95198845621849]]"
      ],
      "execution_count": 0,
      "outputs": []
    },
    {
      "metadata": {
        "id": "MjV9Nf3NnoCg",
        "colab_type": "code",
        "colab": {}
      },
      "cell_type": "code",
      "source": [
        "def de_mean_matrix(A):\n",
        "    \"\"\"returns the result of subtracting from every value in A the mean\n",
        "    value of its column. the resulting matrix has mean 0 in every column\"\"\"\n",
        "    nr, nc = shape(A)\n",
        "    column_means, _ = scale(A)\n",
        "    return make_matrix(nr, nc, lambda i, j: A[i][j] - column_means[j])"
      ],
      "execution_count": 0,
      "outputs": []
    },
    {
      "metadata": {
        "id": "AiMpKJoWnoCh",
        "colab_type": "code",
        "colab": {
          "base_uri": "https://localhost:8080/",
          "height": 35
        },
        "outputId": "8109b8c0-f92e-4516-dc45-f360ffda9193"
      },
      "cell_type": "code",
      "source": [
        "de_mean_matrix(A)"
      ],
      "execution_count": 166,
      "outputs": [
        {
          "output_type": "execute_result",
          "data": {
            "text/plain": [
              "[[-1.5, -1.5, -1.5], [1.5, 1.5, 1.5]]"
            ]
          },
          "metadata": {
            "tags": []
          },
          "execution_count": 166
        }
      ]
    },
    {
      "metadata": {
        "id": "yBoilASinoCi",
        "colab_type": "code",
        "colab": {}
      },
      "cell_type": "code",
      "source": [
        "def direction(w):\n",
        "    mag = magnitude(w)\n",
        "    return [w_i / mag for w_i in w]"
      ],
      "execution_count": 0,
      "outputs": []
    },
    {
      "metadata": {
        "id": "ahiNuh-snoCi",
        "colab_type": "code",
        "colab": {}
      },
      "cell_type": "code",
      "source": [
        "def directional_variance_i(x_i, w):\n",
        "    \"\"\"the variance of the row x_i in the direction w\"\"\"\n",
        "    return dot(x_i, direction(w)) ** 2"
      ],
      "execution_count": 0,
      "outputs": []
    },
    {
      "metadata": {
        "id": "cEFmCz_EnoCl",
        "colab_type": "code",
        "colab": {}
      },
      "cell_type": "code",
      "source": [
        "def directional_variance(X, w):\n",
        "    \"\"\"the variance of the data in the direction w\"\"\"\n",
        "    return sum(directional_variance_i(x_i, w) for x_i in X)"
      ],
      "execution_count": 0,
      "outputs": []
    },
    {
      "metadata": {
        "id": "pIn1Uou_noCm",
        "colab_type": "code",
        "colab": {}
      },
      "cell_type": "code",
      "source": [
        "def directional_variance_gradient_i(x_i, w):\n",
        "    \"\"\"the contribution of row x_i to the gradient of\n",
        "    the direction-w variance\"\"\"\n",
        "    projection_length = dot(x_i, direction(w))\n",
        "    return [2 * projection_length * x_ij for x_ij in x_i]"
      ],
      "execution_count": 0,
      "outputs": []
    },
    {
      "metadata": {
        "id": "ckQjxnThnoCn",
        "colab_type": "code",
        "colab": {}
      },
      "cell_type": "code",
      "source": [
        "def directional_variance_gradient(X, w):\n",
        "    return vector_sum(directional_variance_gradient_i(x_i,w) for x_i in X)"
      ],
      "execution_count": 0,
      "outputs": []
    },
    {
      "metadata": {
        "id": "MIFu2AFdnoCo",
        "colab_type": "code",
        "colab": {}
      },
      "cell_type": "code",
      "source": [
        "def first_principal_component(X):\n",
        "    guess = [1 for _ in X[0]]\n",
        "    unscaled_maximizer = maximize_batch(\n",
        "        partial(directional_variance, X),           # is now a function of w\n",
        "        partial(directional_variance_gradient, X),  # is now a function of w\n",
        "        guess)\n",
        "    return direction(unscaled_maximizer)"
      ],
      "execution_count": 0,
      "outputs": []
    },
    {
      "metadata": {
        "id": "lAi5FCMBnoCq",
        "colab_type": "code",
        "colab": {}
      },
      "cell_type": "code",
      "source": [
        "## this block is written to execute first_principal_component_sgd function\n",
        "def negate(f):\n",
        "    \"\"\"return a function that for any input x returns -f(x)\"\"\"\n",
        "    return lambda *args, **kwargs: -f(*args, **kwargs)\n",
        "def negate_all(f):\n",
        "    \"\"\"the same when f returns a list of numbers\"\"\"\n",
        "    return lambda *args, **kwargs: [-y for y in f(*args, **kwargs)]\n",
        "def maximize_batch(target_fn, gradient_fn, theta_0, tolerance=0.000001):\n",
        "    return minimize_batch(negate(target_fn),\n",
        "    negate_all(gradient_fn),\n",
        "    theta_0,tolerance)\n",
        "def safe(f):\n",
        "    \"\"\"return a new function that's the same as f,\n",
        "    except that it outputs infinity whenever f produces an error\"\"\"\n",
        "    def safe_f(*args, **kwargs):\n",
        "        try:\n",
        "            return f(*args, **kwargs)\n",
        "        except:\n",
        "            return float('inf') # this means \"infinity\" in Python\n",
        "    return safe_f\n",
        "\n",
        "def minimize_batch(target_fn, gradient_fn, theta_0, tolerance=0.000001):\n",
        "    \"\"\"use gradient descent to find theta that minimizes target function\"\"\"\n",
        "    step_sizes = [100, 10, 1, 0.1, 0.01, 0.001, 0.0001, 0.00001]\n",
        "    theta = theta_0 # set theta to initial value\n",
        "    target_fn = safe(target_fn) # safe version of target_fn\n",
        "    value = target_fn(theta) # value we're minimizing\n",
        "    while True:\n",
        "        gradient = gradient_fn(theta)\n",
        "        next_thetas = [step(theta, gradient, -step_size)\n",
        "                       for step_size in step_sizes]\n",
        "    # choose the one that minimizes the error function\n",
        "    next_theta = min(next_thetas, key=target_fn)\n",
        "    next_value = target_fn(next_theta)\n",
        "    # stop if we're \"converging\"\n",
        "    if abs(value - next_value) < tolerance:\n",
        "        return theta\n",
        "    else:\n",
        "        theta, value = next_theta, next_value\n",
        "\n",
        "def in_random_order(data):\n",
        "    \"\"\"generator that returns the elements of data in random order\"\"\"\n",
        "    indexes = [i for i, _ in enumerate(data)] # create a list of indexes\n",
        "    random.shuffle(indexes) \n",
        "    for i in indexes: # return the data in that order\n",
        "        yield data[i]\n",
        "\n",
        "def minimize_stochastic(target_fn, gradient_fn, x, y, theta_0, alpha_0=0.01):\n",
        "    data = zip(x, y)\n",
        "    theta = theta_0 # initial guess\n",
        "    alpha = alpha_0 # initial step size\n",
        "    min_theta, min_value = None, float(\"inf\") # the minimum so far\n",
        "    iterations_with_no_improvement = 0\n",
        "    # if we ever go 100 iterations with no improvement, stop\n",
        "    while iterations_with_no_improvement < 100:\n",
        "        value = sum( target_fn(x_i, y_i, theta) for x_i, y_i in data )\n",
        "        if value < min_value:\n",
        "            # if we've found a new minimum, remember it\n",
        "            # and go back to the original step size\n",
        "            min_theta, min_value = theta, value\n",
        "            iterations_with_no_improvement = 0\n",
        "            alpha = alpha_0\n",
        "        else:\n",
        "            # otherwise we're not improving, so try shrinking the step size\n",
        "            iterations_with_no_improvement += 1\n",
        "            alpha *= 0.9\n",
        "        # and take a gradient step for each of the data points\n",
        "        for x_i, y_i in in_random_order(data):\n",
        "            gradient_i = gradient_fn(x_i, y_i, theta)\n",
        "            theta = vector_subtract(theta, scalar_multiply(alpha, gradient_i))\n",
        "    return min_theta"
      ],
      "execution_count": 0,
      "outputs": []
    },
    {
      "metadata": {
        "id": "VTJezh7JnoCr",
        "colab_type": "code",
        "colab": {}
      },
      "cell_type": "code",
      "source": [
        "## this block is written to execute first_principal_component_sgd function\n",
        "def maximize_stochastic(target_fn, gradient_fn, x, y, theta_0, alpha_0=0.01):\n",
        "    return minimize_stochastic(negate(target_fn),\n",
        "                               negate_all(gradient_fn),\n",
        "                               x, y, theta_0, alpha_0)"
      ],
      "execution_count": 0,
      "outputs": []
    },
    {
      "metadata": {
        "id": "4H0SsqoAnoCs",
        "colab_type": "code",
        "colab": {}
      },
      "cell_type": "code",
      "source": [
        "def first_principal_component_sgd(X):\n",
        "    guess = [1 for _ in X[0]]\n",
        "    unscaled_maximizer = maximize_stochastic(\n",
        "        lambda x, _, w: directional_variance_i(x, w),\n",
        "        lambda x, _, w: directional_variance_gradient_i(x, w),\n",
        "        X, [None for _ in X], guess)\n",
        "    return direction(unscaled_maximizer)"
      ],
      "execution_count": 0,
      "outputs": []
    },
    {
      "metadata": {
        "id": "pLT8bxMdnoCt",
        "colab_type": "code",
        "colab": {
          "base_uri": "https://localhost:8080/",
          "height": 35
        },
        "outputId": "2ae18027-f997-4a50-da26-c22415cc5800"
      },
      "cell_type": "code",
      "source": [
        "first_principal_component_sgd(X)"
      ],
      "execution_count": 176,
      "outputs": [
        {
          "output_type": "execute_result",
          "data": {
            "text/plain": [
              "[0.7071067811865475, 0.7071067811865475]"
            ]
          },
          "metadata": {
            "tags": []
          },
          "execution_count": 176
        }
      ]
    },
    {
      "metadata": {
        "id": "97BGBepOnoCv",
        "colab_type": "code",
        "colab": {}
      },
      "cell_type": "code",
      "source": [
        "def project(v, w):\n",
        "    \"\"\"return the projection of v onto w\"\"\"\n",
        "    coefficient = dot(v, w)\n",
        "    return scalar_multiply(coefficient, w)"
      ],
      "execution_count": 0,
      "outputs": []
    },
    {
      "metadata": {
        "id": "uyEwCY0enoCw",
        "colab_type": "code",
        "colab": {
          "base_uri": "https://localhost:8080/",
          "height": 35
        },
        "outputId": "6a146ff9-8b85-4e13-dcab-9122ee86b452"
      },
      "cell_type": "code",
      "source": [
        "project(height_weight_age, grades)"
      ],
      "execution_count": 178,
      "outputs": [
        {
          "output_type": "execute_result",
          "data": {
            "text/plain": [
              "[2208750, 1860000, 1743750, 1441500]"
            ]
          },
          "metadata": {
            "tags": []
          },
          "execution_count": 178
        }
      ]
    },
    {
      "metadata": {
        "id": "T8KjfA3wnoCz",
        "colab_type": "code",
        "colab": {}
      },
      "cell_type": "code",
      "source": [
        "def remove_projection_from_vector(v, w):\n",
        "    \"\"\"projects v onto w and subtracts the result from v\"\"\"\n",
        "    return vector_subtract(v, project(v, w))"
      ],
      "execution_count": 0,
      "outputs": []
    },
    {
      "metadata": {
        "id": "gse36254noC0",
        "colab_type": "code",
        "colab": {
          "base_uri": "https://localhost:8080/",
          "height": 35
        },
        "outputId": "5cd3a045-0b43-4323-8046-3c288defd964"
      },
      "cell_type": "code",
      "source": [
        "remove_projection_from_vector(height_weight_age, grades)"
      ],
      "execution_count": 180,
      "outputs": [
        {
          "output_type": "execute_result",
          "data": {
            "text/plain": [
              "[-2208680, -1859830, -1743710]"
            ]
          },
          "metadata": {
            "tags": []
          },
          "execution_count": 180
        }
      ]
    },
    {
      "metadata": {
        "id": "v1b-qHsYnoC1",
        "colab_type": "code",
        "colab": {}
      },
      "cell_type": "code",
      "source": [
        "def remove_projection(X, w):\n",
        "    \"\"\"for each row of X\n",
        "    projects the row onto w, and subtracts the result from the row\"\"\"\n",
        "    return [remove_projection_from_vector(x_i, w) for x_i in X]"
      ],
      "execution_count": 0,
      "outputs": []
    },
    {
      "metadata": {
        "id": "DhxUsQPunoC1",
        "colab_type": "code",
        "colab": {
          "base_uri": "https://localhost:8080/",
          "height": 1023
        },
        "outputId": "a2059b4e-7e4e-4228-db1e-1d14a0bd82a3"
      },
      "cell_type": "code",
      "source": [
        "remove_projection(X, grades)"
      ],
      "execution_count": 182,
      "outputs": [
        {
          "output_type": "execute_result",
          "data": {
            "text/plain": [
              "[[-89538.35803573554, -75431.4925140153],\n",
              " [-54337.36453247026, -45796.84616169511],\n",
              " [-140467.87845863562, -118322.35111114781],\n",
              " [-24138.07767788789, -20360.160735860045],\n",
              " [-110325.40766275662, -92934.51407302395],\n",
              " [145884.13979541435, 122829.70618024784],\n",
              " [-162867.9778392109, -137191.2728533135],\n",
              " [-67387.74461318858, -56777.431146336916],\n",
              " [-63025.97677557257, -53099.63626695581],\n",
              " [-98850.5063410843, -83273.07704139929],\n",
              " [98589.2219065188, 83001.6630301122],\n",
              " [-230612.8346535718, -194240.0997499043],\n",
              " [6445.547365017906, 5399.840680713196],\n",
              " [-120082.42485936968, -101148.30894415462],\n",
              " [-132011.68813635013, -111200.77924382676],\n",
              " [-85373.79098102331, -71923.68760965487],\n",
              " [-65993.60703996662, -55609.3302760056],\n",
              " [-116380.59127118034, -98036.53701242244],\n",
              " [-157071.48071091805, -132308.0453288188],\n",
              " [-153176.8337377028, -129030.31797612322],\n",
              " [2721.8185629181175, 2260.7510371100575],\n",
              " [-169743.52243548012, -142973.47513190156],\n",
              " [-176498.1917864182, -148668.1095527975],\n",
              " [-277193.39473078726, -233464.28270934673],\n",
              " [-210594.08330736973, -177379.93882643923],\n",
              " [119318.61171193785, 100451.2391053931],\n",
              " [-119778.98353537277, -100902.99602622986],\n",
              " [-20428.473408091893, -17233.190805452607],\n",
              " [19387.135000033722, 16293.541293016404],\n",
              " [77917.59760862637, 65590.64642113801],\n",
              " [-172122.17460691067, -144976.30891324088],\n",
              " [306858.2387172755, 258389.33572908284],\n",
              " [77640.63914336119, 65353.23973409707],\n",
              " [-83573.63854190787, -70416.42117408471],\n",
              " [144946.36974487582, 122035.30484663742],\n",
              " [-191603.1106188607, -161387.44771113488],\n",
              " [-54954.52552017999, -46301.63728798515],\n",
              " [-145081.03570888602, -122212.32163241711],\n",
              " [-346930.9282202194, -292188.8710428668],\n",
              " [-38999.37407213304, -32868.423819691416],\n",
              " [-18005.929822268597, -15199.816903281797],\n",
              " [23467.38527987437, 19731.682700037767],\n",
              " [56285.18407600204, 47374.86321060369],\n",
              " [-77684.98892220258, -65452.32281666728],\n",
              " [65632.53470098344, 55235.21597920598],\n",
              " [24016.401857979952, 20195.861450699034],\n",
              " [-100702.3310365958, -84836.31852487316],\n",
              " [20643.551712825578, 17353.548222417317],\n",
              " [-28571.615053055808, -24087.817606312536],\n",
              " [-106837.77781490934, -89995.8680827613],\n",
              " [-90407.76618133542, -76162.98912150628],\n",
              " [7256.183365014255, 6086.981729335176],\n",
              " [-87786.27436510439, -73949.25844649762],\n",
              " [-32563.649247737587, -27450.877782234686],\n",
              " [-139750.95387342758, -117720.7980555774],\n",
              " [-236363.88038000505, -199082.18111336228],\n",
              " [-272903.87320047925, -229857.3079364573],\n",
              " [-122070.76206222802, -102824.83279508885]]"
            ]
          },
          "metadata": {
            "tags": []
          },
          "execution_count": 182
        }
      ]
    },
    {
      "metadata": {
        "id": "7U7KCgOZnoC2",
        "colab_type": "code",
        "colab": {}
      },
      "cell_type": "code",
      "source": [
        "def principal_component_analysis(X, num_components):\n",
        "    components = []\n",
        "    for _ in range(num_components):\n",
        "        component = first_principal_component(X)\n",
        "        components.append(component)\n",
        "        X = remove_projection(X, component)\n",
        "\n",
        "    return components"
      ],
      "execution_count": 0,
      "outputs": []
    },
    {
      "metadata": {
        "id": "fRyJVznKnoC3",
        "colab_type": "code",
        "colab": {}
      },
      "cell_type": "code",
      "source": [
        "def transform_vector(v, components):\n",
        "    return [dot(v, w) for w in components]"
      ],
      "execution_count": 0,
      "outputs": []
    },
    {
      "metadata": {
        "id": "d-h1I1aUnoC3",
        "colab_type": "code",
        "colab": {}
      },
      "cell_type": "code",
      "source": [
        "def transform(X, components):\n",
        "    return [transform_vector(x_i, components) for x_i in X]"
      ],
      "execution_count": 0,
      "outputs": []
    },
    {
      "metadata": {
        "id": "ugQJUdownoC6",
        "colab_type": "code",
        "colab": {}
      },
      "cell_type": "code",
      "source": [
        "from gradient_descent import maximize_batch"
      ],
      "execution_count": 0,
      "outputs": []
    },
    {
      "metadata": {
        "id": "1Bdz4rW_noC6",
        "colab_type": "code",
        "colab": {
          "base_uri": "https://localhost:8080/",
          "height": 384
        },
        "outputId": "66941b28-e6dd-4682-923a-4645e26e85d5"
      },
      "cell_type": "code",
      "source": [
        "if __name__ == \"__main__\":\n",
        "\n",
        "    print(\"correlation(xs, ys1)\", correlation(xs, ys1))\n",
        "    print(\"correlation(xs, ys2)\", correlation(xs, ys2))\n",
        "\n",
        "    # safe parsing\n",
        "\n",
        "    data = []\n",
        "\n",
        "    with open(\"comma_delimited_stock_prices.csv\", \"r\", encoding='utf8', newline='') as f:\n",
        "        reader = csv.reader(f)\n",
        "        for line in parse_rows_with(reader, [dateutil.parser.parse, None, float]):\n",
        "            data.append(line)\n",
        "\n",
        "    for row in data:\n",
        "        if any(x is None for x in row):\n",
        "            print(row)\n",
        "\n",
        "    print(\"stocks\")\n",
        "    with open(\"stocks.txt\", \"r\", encoding='utf8', newline='') as f:\n",
        "        reader = csv.DictReader(f, delimiter=\"\\t\")\n",
        "        data = [parse_dict(row, { 'date' : dateutil.parser.parse,\n",
        "                                  'closing_price' : float })\n",
        "                for row in reader]\n",
        "\n",
        "    max_aapl_price = max(row[\"closing_price\"]\n",
        "                         for row in data\n",
        "                         if row[\"symbol\"] == \"AAPL\")\n",
        "    print(\"max aapl price\", max_aapl_price)\n",
        "\n",
        "    # group rows by symbol\n",
        "    by_symbol = defaultdict(list)\n",
        "\n",
        "    for row in data:\n",
        "        by_symbol[row[\"symbol\"]].append(row)\n",
        "\n",
        "    # use a dict comprehension to find the max for each symbol\n",
        "    max_price_by_symbol = { symbol : max(row[\"closing_price\"]\n",
        "                            for row in grouped_rows)\n",
        "                            for symbol, grouped_rows in by_symbol.items() }\n",
        "    print(\"max price by symbol\")\n",
        "    print(max_price_by_symbol)\n",
        "\n",
        "    # key is symbol, value is list of \"change\" dicts\n",
        "    changes_by_symbol = group_by(picker(\"symbol\"), data, day_over_day_changes)\n",
        "    # collect all \"change\" dicts into one big list\n",
        "    all_changes = [change\n",
        "                   for changes in changes_by_symbol.values()\n",
        "                   for change in changes]\n",
        "\n",
        "    print(\"max change\", max(all_changes, key=picker(\"change\")))\n",
        "    print(\"min change\", min(all_changes, key=picker(\"change\")))\n",
        "\n",
        "    # to combine percent changes, we add 1 to each, multiply them, and subtract 1\n",
        "    # for instance, if we combine +10% and -20%, the overall change is\n",
        "    # (1 + 10%) * (1 - 20%) - 1 = 1.1 * .8 - 1 = -12%\n",
        "    def combine_pct_changes(pct_change1, pct_change2):\n",
        "        return (1 + pct_change1) * (1 + pct_change2) - 1\n",
        "\n",
        "    def overall_change(changes):\n",
        "        return reduce(combine_pct_changes, pluck(\"change\", changes))\n",
        "\n",
        "    overall_change_by_month = group_by(lambda row: row['date'].month,\n",
        "                                       all_changes,\n",
        "                                       overall_change)\n",
        "    print(\"overall change by month\")\n",
        "    print(overall_change_by_month)\n",
        "\n",
        "    print(\"rescaling\")\n",
        "\n",
        "    data = [[1, 20, 2],\n",
        "            [1, 30, 3],\n",
        "            [1, 40, 4]]\n",
        "\n",
        "    print(\"original: \", data)\n",
        "    print(\"scale: \", scale(data))\n",
        "    print(\"rescaled: \", rescale(data))\n",
        "    print()\n",
        "\n",
        "    print(\"PCA\")\n",
        "\n",
        "    Y = de_mean_matrix(X)\n",
        "    components = principal_component_analysis(Y, 2)\n",
        "    print(\"principal components\", components)\n",
        "    print(\"first point\", Y[0])\n",
        "    print(\"first point transformed\", transform_vector(Y[0], components))"
      ],
      "execution_count": 196,
      "outputs": [
        {
          "output_type": "stream",
          "text": [
            "correlation(xs, ys1) 0.9010493686379609\n",
            "correlation(xs, ys2) -0.8920981526880033\n",
            "[datetime.datetime(2014, 6, 19, 0, 0), 'MSFT', None]\n",
            "stocks\n",
            "max aapl price 119.0\n",
            "max price by symbol\n",
            "{'AAPL': 119.0, 'MSFT': 49.3, 'FB': 81.45}\n",
            "max change {'symbol': 'AAPL', 'date': datetime.datetime(1997, 8, 6, 0, 0), 'change': 0.3283582089552237}\n",
            "min change {'symbol': 'AAPL', 'date': datetime.datetime(2000, 9, 29, 0, 0), 'change': -0.5193370165745856}\n",
            "overall change by month\n",
            "{12: 2.2895332950255933, 1: 19.972214514609085, 2: 0.11858483359215, 3: 2.818850048603327, 4: 6.9341967849847626, 5: 1.2555660890321603, 6: -0.5977889232201744, 7: -0.17183091713561482, 8: 6.220055959879489, 9: -0.741162543642831, 10: 21.552541251680015, 11: 3.758572336791725}\n",
            "rescaling\n",
            "original:  [[1, 20, 2], [1, 30, 3], [1, 40, 4]]\n",
            "scale:  ([1.0, 30.0, 3.0], [0.0, 10.0, 1.0])\n",
            "rescaled:  [[1, -1.0, -1.0], [1, 0.0, 0.0], [1, 1.0, 1.0]]\n",
            "\n",
            "PCA\n",
            "principal components [[0.9354295977047188, 0.3535130375785143], [-0.35348132375190294, 0.9354415822265988]]\n",
            "first point [1.002605467494238, 1.526056860254048]\n",
            "first point transformed [1.4773478253006256, 1.0731347360730434]\n"
          ],
          "name": "stdout"
        }
      ]
    },
    {
      "metadata": {
        "id": "7FrQc3wonoC7",
        "colab_type": "code",
        "colab": {}
      },
      "cell_type": "code",
      "source": [
        ""
      ],
      "execution_count": 0,
      "outputs": []
    }
  ]
}