{
 "cells": [
  {
   "cell_type": "markdown",
   "metadata": {},
   "source": [
    "# Assignment-2"
   ]
  },
  {
   "cell_type": "markdown",
   "metadata": {},
   "source": [
    "Link to Repository [rohangupta/INFO5731](https://github.com/rohanguptha/INFO5731)"
   ]
  },
  {
   "cell_type": "markdown",
   "metadata": {},
   "source": [
    "Question 1. Which of the following statements contain only valid builtin\n",
    "functions in Python 3? If the statement is valid, explain what it does. If it is not\n",
    "valid, explain why not."
   ]
  },
  {
   "cell_type": "code",
   "execution_count": 31,
   "metadata": {},
   "outputs": [
    {
     "data": {
      "text/plain": [
       "True"
      ]
     },
     "execution_count": 31,
     "metadata": {},
     "output_type": "execute_result"
    }
   ],
   "source": [
    "\"A\".isupper()\n",
    "# isupper() is a builtin function which return True if all the characters in string are uppercase \n",
    "# otherwise, returns false"
   ]
  },
  {
   "cell_type": "code",
   "execution_count": 32,
   "metadata": {},
   "outputs": [
    {
     "ename": "SyntaxError",
     "evalue": "Missing parentheses in call to 'print'. Did you mean print(\"This is my Python class\")? (<ipython-input-32-6fbff18deb64>, line 1)",
     "output_type": "error",
     "traceback": [
      "\u001b[1;36m  File \u001b[1;32m\"<ipython-input-32-6fbff18deb64>\"\u001b[1;36m, line \u001b[1;32m1\u001b[0m\n\u001b[1;33m    print \"This is my Python class\";\u001b[0m\n\u001b[1;37m                                  ^\u001b[0m\n\u001b[1;31mSyntaxError\u001b[0m\u001b[1;31m:\u001b[0m Missing parentheses in call to 'print'. Did you mean print(\"This is my Python class\")?\n"
     ]
    }
   ],
   "source": [
    "print \"This is my Python class\";\n",
    "# There is a missing parentheses  print(\"This is my Python class\")"
   ]
  },
  {
   "cell_type": "code",
   "execution_count": 47,
   "metadata": {},
   "outputs": [
    {
     "ename": "SyntaxError",
     "evalue": "invalid syntax (<ipython-input-47-ab94c64265ac>, line 1)",
     "output_type": "error",
     "traceback": [
      "\u001b[1;36m  File \u001b[1;32m\"<ipython-input-47-ab94c64265ac>\"\u001b[1;36m, line \u001b[1;32m1\u001b[0m\n\u001b[1;33m    x == 1 AND y > x\u001b[0m\n\u001b[1;37m             ^\u001b[0m\n\u001b[1;31mSyntaxError\u001b[0m\u001b[1;31m:\u001b[0m invalid syntax\n"
     ]
    }
   ],
   "source": [
    "x == 1 AND y > x\n",
    "# The operator 'AND' should be in lower case i.e. x == 1 and y > x"
   ]
  },
  {
   "cell_type": "code",
   "execution_count": 2,
   "metadata": {},
   "outputs": [
    {
     "ename": "SyntaxError",
     "evalue": "'return' outside function (<ipython-input-2-a97668058b27>, line 1)",
     "output_type": "error",
     "traceback": [
      "\u001b[1;36m  File \u001b[1;32m\"<ipython-input-2-a97668058b27>\"\u001b[1;36m, line \u001b[1;32m1\u001b[0m\n\u001b[1;33m    return t[1:]\u001b[0m\n\u001b[1;37m                ^\u001b[0m\n\u001b[1;31mSyntaxError\u001b[0m\u001b[1;31m:\u001b[0m 'return' outside function\n"
     ]
    }
   ],
   "source": [
    "return t[1:]\n",
    "#There should be a function defined inorder to return a variable."
   ]
  },
  {
   "cell_type": "code",
   "execution_count": 49,
   "metadata": {},
   "outputs": [
    {
     "ename": "SyntaxError",
     "evalue": "unexpected EOF while parsing (<ipython-input-49-2538f8786a40>, line 1)",
     "output_type": "error",
     "traceback": [
      "\u001b[1;36m  File \u001b[1;32m\"<ipython-input-49-2538f8786a40>\"\u001b[1;36m, line \u001b[1;32m1\u001b[0m\n\u001b[1;33m    if \"fruit\" in \"apple\":\u001b[0m\n\u001b[1;37m                          ^\u001b[0m\n\u001b[1;31mSyntaxError\u001b[0m\u001b[1;31m:\u001b[0m unexpected EOF while parsing\n"
     ]
    }
   ],
   "source": [
    "if \"fruit\" in \"apple\":\n",
    "#the condition executes only when all characters of 'fruit' are present in 'apple'\n",
    "#as it is false the statement inside the if condition will not execute.\n",
    "#There are no statements when condition is true. So, it goes to end of file"
   ]
  },
  {
   "cell_type": "code",
   "execution_count": 50,
   "metadata": {},
   "outputs": [
    {
     "ename": "AttributeError",
     "evalue": "'str' object has no attribute 'decode'",
     "output_type": "error",
     "traceback": [
      "\u001b[1;31m---------------------------------------------------------------------------\u001b[0m",
      "\u001b[1;31mAttributeError\u001b[0m                            Traceback (most recent call last)",
      "\u001b[1;32m<ipython-input-50-9ecf5aa5d4de>\u001b[0m in \u001b[0;36m<module>\u001b[1;34m\u001b[0m\n\u001b[0;32m      1\u001b[0m \u001b[1;32mwith\u001b[0m \u001b[0mopen\u001b[0m\u001b[1;33m(\u001b[0m\u001b[1;34m\"myfile.txt\"\u001b[0m\u001b[1;33m,\u001b[0m \u001b[1;34m\"r\"\u001b[0m\u001b[1;33m)\u001b[0m \u001b[1;32mas\u001b[0m \u001b[0mf\u001b[0m\u001b[1;33m:\u001b[0m\u001b[1;33m\u001b[0m\u001b[1;33m\u001b[0m\u001b[0m\n\u001b[1;32m----> 2\u001b[1;33m     \u001b[0mtext\u001b[0m \u001b[1;33m=\u001b[0m \u001b[0mf\u001b[0m\u001b[1;33m.\u001b[0m\u001b[0mread\u001b[0m\u001b[1;33m(\u001b[0m\u001b[1;33m)\u001b[0m\u001b[1;33m.\u001b[0m\u001b[0mdecode\u001b[0m\u001b[1;33m(\u001b[0m\u001b[1;34m\"UTF-8\"\u001b[0m\u001b[1;33m)\u001b[0m\u001b[1;33m\u001b[0m\u001b[1;33m\u001b[0m\u001b[0m\n\u001b[0m",
      "\u001b[1;31mAttributeError\u001b[0m: 'str' object has no attribute 'decode'"
     ]
    }
   ],
   "source": [
    "with open(\"myfile.txt\", \"r\") as f:\n",
    "    text = f.read().decode(\"UTF-8\")\n",
    "#The code works well in Python 2\n",
    "#Reading file mtfile.txt and only allowing UTF-8 characters and assign to text variable"
   ]
  },
  {
   "cell_type": "code",
   "execution_count": 39,
   "metadata": {},
   "outputs": [
    {
     "ename": "NameError",
     "evalue": "name 'foo' is not defined",
     "output_type": "error",
     "traceback": [
      "\u001b[1;31m---------------------------------------------------------------------------\u001b[0m",
      "\u001b[1;31mNameError\u001b[0m                                 Traceback (most recent call last)",
      "\u001b[1;32m<ipython-input-39-7c1055c5049e>\u001b[0m in \u001b[0;36m<module>\u001b[1;34m\u001b[0m\n\u001b[1;32m----> 1\u001b[1;33m \u001b[0mfoo\u001b[0m \u001b[1;33m==\u001b[0m \u001b[1;32mNone\u001b[0m\u001b[1;33m\u001b[0m\u001b[1;33m\u001b[0m\u001b[0m\n\u001b[0m",
      "\u001b[1;31mNameError\u001b[0m: name 'foo' is not defined"
     ]
    }
   ],
   "source": [
    "foo == None\n",
    "# '=' is an assignment operator \n",
    "# '==' If the values of two operands are equal, then the condition becomes true.\n",
    "# Hence, foo should be assigned before comparision."
   ]
  },
  {
   "cell_type": "code",
   "execution_count": 40,
   "metadata": {},
   "outputs": [
    {
     "ename": "TypeError",
     "evalue": "'str' object does not support item assignment",
     "output_type": "error",
     "traceback": [
      "\u001b[1;31m---------------------------------------------------------------------------\u001b[0m",
      "\u001b[1;31mTypeError\u001b[0m                                 Traceback (most recent call last)",
      "\u001b[1;32m<ipython-input-40-9bb4e55a7bde>\u001b[0m in \u001b[0;36m<module>\u001b[1;34m\u001b[0m\n\u001b[0;32m      1\u001b[0m \u001b[0mname\u001b[0m \u001b[1;33m=\u001b[0m \u001b[1;34m\"My name is Brenda\"\u001b[0m\u001b[1;33m\u001b[0m\u001b[1;33m\u001b[0m\u001b[0m\n\u001b[1;32m----> 2\u001b[1;33m \u001b[0mname\u001b[0m\u001b[1;33m[\u001b[0m\u001b[1;36m0\u001b[0m\u001b[1;33m]\u001b[0m \u001b[1;33m=\u001b[0m \u001b[1;34m\"A\"\u001b[0m\u001b[1;33m\u001b[0m\u001b[1;33m\u001b[0m\u001b[0m\n\u001b[0m",
      "\u001b[1;31mTypeError\u001b[0m: 'str' object does not support item assignment"
     ]
    }
   ],
   "source": [
    "name = \"My name is Brenda\"\n",
    "name[0] = \"A\"\n",
    "#As string is immutable we cannot assign a valve for particular position."
   ]
  },
  {
   "cell_type": "code",
   "execution_count": 41,
   "metadata": {},
   "outputs": [
    {
     "data": {
      "text/plain": [
       "27"
      ]
     },
     "execution_count": 41,
     "metadata": {},
     "output_type": "execute_result"
    }
   ],
   "source": [
    "x = 3\n",
    "x**3\n",
    "# a ** b that means a rised to the power of b"
   ]
  },
  {
   "cell_type": "code",
   "execution_count": 42,
   "metadata": {},
   "outputs": [
    {
     "data": {
      "text/plain": [
       "6"
      ]
     },
     "execution_count": 42,
     "metadata": {},
     "output_type": "execute_result"
    }
   ],
   "source": [
    "20 % 7 \n",
    "# a % b is a remainder when a is divided by b"
   ]
  },
  {
   "cell_type": "markdown",
   "metadata": {},
   "source": [
    "Question 2. Write a program to prompt for a score between 0 and 100. If the score is out of range, print an error message. If the score is between 0 and 100, print a grade using the following table.\n",
    "Score Grade\n",
    ">= 90 A\n",
    ">= 80 B\n",
    ">= 70 C\n",
    ">= 60 D\n",
    "< 60 F"
   ]
  },
  {
   "cell_type": "code",
   "execution_count": 22,
   "metadata": {},
   "outputs": [
    {
     "name": "stdout",
     "output_type": "stream",
     "text": [
      "Enter score between 0 to 100: 90\n",
      "Grade = A\n"
     ]
    }
   ],
   "source": [
    "number = input(\"Enter score between 0 to 100: \")\n",
    "#Converting string to integer\n",
    "num = int(number)\n",
    "\n",
    "if not 0 < num < 100:\n",
    "    print(\"Score is out of range\")\n",
    "else:\n",
    "    if num >= 90:\n",
    "        print('Grade = A')\n",
    "    elif num >= 80:\n",
    "        print(\"Grade = B\")\n",
    "    elif num >= 70:\n",
    "        print(\"Grade = C\")\n",
    "    elif num >= 60:\n",
    "        print(\"Grade = D\")\n",
    "    else:\n",
    "        print(\"Grade = F\")\n"
   ]
  },
  {
   "cell_type": "markdown",
   "metadata": {},
   "source": [
    "Question 3. Write a Python program to generate 12 random numbers between 1 and 100. Sort the list of numbers in ascending order and print it out. Sort the list of numbers in descending order and print it out. Calculate the average for the group and print it out."
   ]
  },
  {
   "cell_type": "code",
   "execution_count": 23,
   "metadata": {},
   "outputs": [
    {
     "name": "stdout",
     "output_type": "stream",
     "text": [
      "Ascending:  [3, 15, 18, 35, 46, 57, 62, 69, 70, 84, 85, 86]\n",
      "Descending:  [86, 85, 84, 70, 69, 62, 57, 46, 35, 18, 15, 3]\n",
      "Average of group: 52.5\n"
     ]
    }
   ],
   "source": [
    "import random\n",
    "from statistics import mean\n",
    "\n",
    "# based partially on code found at https://www.pythoncentral.io/how-to-generate-a-random-number-in-python/\n",
    "list = []\n",
    "for x in range(12):\n",
    "  list.append(random.randint(1,101))\n",
    "#sorts the list in ascending order\n",
    "list.sort()\n",
    "print(\"Ascending: \", list)\n",
    "#sorts the list in descending order\n",
    "deslist = sorted(list, reverse = True)\n",
    "print(\"Descending: \", deslist)\n",
    "\n",
    "print(\"Average of group:\", mean(list))"
   ]
  },
  {
   "cell_type": "markdown",
   "metadata": {},
   "source": [
    "Qusetion 4. The formula that describes the volume V of a sphere with radius r is the following: \n",
    "$$V = \\frac{4}{3} ∗ 𝜋 ∗ 𝑟^3$$\n",
    "Write a program to calculate the value of V when r is in the range of 1– 10. Output the result in the following format:\n",
    "r V\n",
    "1 …\n",
    "2 …\n",
    "3 …"
   ]
  },
  {
   "cell_type": "code",
   "execution_count": 45,
   "metadata": {},
   "outputs": [
    {
     "name": "stdout",
     "output_type": "stream",
     "text": [
      "R   V\n",
      "1   4.19\n",
      "2   33.51\n",
      "3   113.1\n",
      "4   268.08\n",
      "5   523.6\n",
      "6   904.78\n",
      "7   1436.76\n",
      "8   2144.66\n",
      "9   3053.63\n",
      "10   4188.79\n"
     ]
    }
   ],
   "source": [
    "import math\n",
    "\n",
    "print(\"R   V\")\n",
    "#Numbers from range 1 to 10 \n",
    "for r in range(1, 11):\n",
    "  V = 4 / 3 * math.pi * (r ** 3)\n",
    "  print(r , \" \", round(V, 2))"
   ]
  },
  {
   "cell_type": "markdown",
   "metadata": {},
   "source": [
    "Question 5. Write a program that will do the following string formatting tasks:\n",
    "5.1 Ask the user to enter two sentences\n",
    "5.2 Make each sentence into a list. Each element in the list should correspond to a word in the sentence. For example, if the sentence is \"Alas! Am I alive? This\n",
    "is my first python program\", the program should print out ['Alas!', 'Am', 'I', 'alive?', 'This', 'is', 'my', 'first', 'python', 'program'] or ['Alas, '!', 'Am', 'I', 'alive,\n",
    "'?', 'This', 'is', 'my', 'first', 'python', 'program']\n",
    "5.3 Compare the two sentences. Print out a list of words that occur in both sentences.\n",
    "5.4 Remove any punctuation from the sentence and print it back out. It should remove at least the following characters, but it can remove more: period(“.”),\n",
    "comma (“,”), semicolon (“;”), and colon (“:”)\n",
    "5.5 Count the number of vowels in the sentences. Print out each vowel and the number of times it appears in the sentences, such as: a:2, e:1, i:0, etc. "
   ]
  },
  {
   "cell_type": "code",
   "execution_count": 6,
   "metadata": {},
   "outputs": [
    {
     "name": "stdout",
     "output_type": "stream",
     "text": [
      "Enter first sentence: This is my first python program\n",
      "Enter second sentence: Alas! Am I alive?\n",
      "There are no common words that occur in Sentences\n",
      "Sentences after removing punctuation:\n",
      " This is my first python program \n",
      " Alas Am I alive\n",
      "vowels count for sentence1:  a: 1 e: 0 i: 3 o: 2 u: 0\n",
      "vowels count for sentence2:  a: 4 e: 1 i: 2 o: 0 u: 0\n"
     ]
    }
   ],
   "source": [
    "import string\n",
    "\n",
    "Str1 = input(\"Enter first sentence: \")\n",
    "#\"Alas! Am I alive?\"\n",
    "Str2 = input(\"Enter second sentence: \") \n",
    "#\"This is my first python program\"\n",
    "\n",
    "SplitStr1 = Str1.split(' ')\n",
    "SplitStr2 = Str2.split(' ')\n",
    "\n",
    "common_words = []\n",
    "common_words = [x for x in SplitStr1 for y in SplitStr2 if x.lower() == y.lower()]\n",
    "if len(common_words) == 0:\n",
    "  print(\"There are no common words that occur in Sentences\")\n",
    "else:\n",
    "  print(\"List of common words that occur in Sentences: \", common_words) \n",
    "\n",
    "#based partially on code found at https://pythonadventures.wordpress.com/2017/02/05/remove-punctuations-from-a-text/\n",
    "trans = str.maketrans(\"\", \"\", string.punctuation)\n",
    "Sentence1 = Str1.translate(trans)\n",
    "Sentence2 = Str2.translate(trans)\n",
    "print(\"Sentences after removing punctuation:\\n\", Sentence1 , \"\\n\", Sentence2)\n",
    "\n",
    "\n",
    "Lstr1 = Str1.lower()\n",
    "Lstr2 = Str2.lower()\n",
    "print('vowels count for sentence1: ', 'a:', Lstr1.count('a'), 'e:', Lstr1.count('e'), 'i:', Lstr1.count('i'), 'o:', Lstr1.count('o'), 'u:', Lstr1.count('u')) \n",
    "print('vowels count for sentence2: ', 'a:', Lstr2.count('a'), 'e:', Lstr2.count('e'), 'i:', Lstr2.count('i'), 'o:', Lstr2.count('o'), 'u:', Lstr2.count('u')) \n"
   ]
  },
  {
   "cell_type": "code",
   "execution_count": null,
   "metadata": {},
   "outputs": [],
   "source": []
  }
 ],
 "metadata": {
  "kernelspec": {
   "display_name": "Python 3",
   "language": "python",
   "name": "python3"
  },
  "language_info": {
   "codemirror_mode": {
    "name": "ipython",
    "version": 3
   },
   "file_extension": ".py",
   "mimetype": "text/x-python",
   "name": "python",
   "nbconvert_exporter": "python",
   "pygments_lexer": "ipython3",
   "version": "3.7.1"
  }
 },
 "nbformat": 4,
 "nbformat_minor": 2
}
