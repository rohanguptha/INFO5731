{
  "nbformat": 4,
  "nbformat_minor": 0,
  "metadata": {
    "colab": {
      "name": "bompally_Assign5",
      "version": "0.3.2",
      "provenance": [],
      "collapsed_sections": [],
      "include_colab_link": true
    },
    "kernelspec": {
      "name": "python3",
      "display_name": "Python 3"
    },
    "accelerator": "GPU"
  },
  "cells": [
    {
      "cell_type": "markdown",
      "metadata": {
        "id": "view-in-github",
        "colab_type": "text"
      },
      "source": [
        "<a href=\"https://colab.research.google.com/github/rohanguptha/INFO5731/blob/master/bompally_Assign5.ipynb\" target=\"_parent\"><img src=\"https://colab.research.google.com/assets/colab-badge.svg\" alt=\"Open In Colab\"/></a>"
      ]
    },
    {
      "metadata": {
        "id": "y_zb-KGkittm",
        "colab_type": "text"
      },
      "cell_type": "markdown",
      "source": [
        "# Assignment 5: IMDB review sample Classification with fast.ai Deep Learning Framework"
      ]
    },
    {
      "metadata": {
        "id": "oGvN9KtGi4T_",
        "colab_type": "text"
      },
      "cell_type": "markdown",
      "source": [
        "**Question 1: (10 points)**\n",
        "\n",
        "Export the sample data set you created in [Classwork 3](https://colab.research.google.com/drive/1be7ksupqRkdjU1fZUAS37F5GiLCkFzkR) with pickle library, name it `imdb-sample.pickle`, and upload it to Google Colab. Then run the following codes."
      ]
    },
    {
      "metadata": {
        "_uuid": "8f2839f25d086af736a60e9eeb907d3b93b6e0e5",
        "_cell_guid": "b1076dfc-b9ad-4769-8c92-a6c4dae69d19",
        "trusted": true,
        "id": "s3rD3HkMbCq-",
        "colab_type": "code",
        "outputId": "0474dd01-0c13-4610-e10b-167c29827c41",
        "colab": {
          "base_uri": "https://localhost:8080/",
          "height": 202
        }
      },
      "cell_type": "code",
      "source": [
        "from fastai.text import *\n",
        "path = Path('.')\n",
        "with open(\"imdb-sample.pickle\", 'rb') as f:\n",
        "    train, valid = pickle.load(f)\n",
        "valid.tail()"
      ],
      "execution_count": 17,
      "outputs": [
        {
          "output_type": "execute_result",
          "data": {
            "text/html": [
              "<div>\n",
              "<style scoped>\n",
              "    .dataframe tbody tr th:only-of-type {\n",
              "        vertical-align: middle;\n",
              "    }\n",
              "\n",
              "    .dataframe tbody tr th {\n",
              "        vertical-align: top;\n",
              "    }\n",
              "\n",
              "    .dataframe thead th {\n",
              "        text-align: right;\n",
              "    }\n",
              "</style>\n",
              "<table border=\"1\" class=\"dataframe\">\n",
              "  <thead>\n",
              "    <tr style=\"text-align: right;\">\n",
              "      <th></th>\n",
              "      <th>text</th>\n",
              "      <th>sentiment</th>\n",
              "    </tr>\n",
              "  </thead>\n",
              "  <tbody>\n",
              "    <tr>\n",
              "      <th>995</th>\n",
              "      <td>This is my opinion of this movie, expressed in...</td>\n",
              "      <td>0</td>\n",
              "    </tr>\n",
              "    <tr>\n",
              "      <th>996</th>\n",
              "      <td>Why can't a movie be rated a zero? Or even a n...</td>\n",
              "      <td>0</td>\n",
              "    </tr>\n",
              "    <tr>\n",
              "      <th>997</th>\n",
              "      <td>The Gun is probably the worst film I've ever s...</td>\n",
              "      <td>0</td>\n",
              "    </tr>\n",
              "    <tr>\n",
              "      <th>998</th>\n",
              "      <td>If you are thinking of going to see this film ...</td>\n",
              "      <td>0</td>\n",
              "    </tr>\n",
              "    <tr>\n",
              "      <th>999</th>\n",
              "      <td>This movie was like a gathering of people that...</td>\n",
              "      <td>0</td>\n",
              "    </tr>\n",
              "  </tbody>\n",
              "</table>\n",
              "</div>"
            ],
            "text/plain": [
              "                                                  text  sentiment\n",
              "995  This is my opinion of this movie, expressed in...          0\n",
              "996  Why can't a movie be rated a zero? Or even a n...          0\n",
              "997  The Gun is probably the worst film I've ever s...          0\n",
              "998  If you are thinking of going to see this film ...          0\n",
              "999  This movie was like a gathering of people that...          0"
            ]
          },
          "metadata": {
            "tags": []
          },
          "execution_count": 17
        }
      ]
    },
    {
      "metadata": {
        "id": "dJy9CWMijk9v",
        "colab_type": "text"
      },
      "cell_type": "markdown",
      "source": [
        "You should see the output like this:\n",
        "\n",
        "![](https://github.com/wshuyi/github_pub_img/raw/master/assets/2019-03-26-10-11-10-085256.png)"
      ]
    },
    {
      "metadata": {
        "id": "pD8ua3DMjt2V",
        "colab_type": "text"
      },
      "cell_type": "markdown",
      "source": [
        "**Question 2: (10 points)**\n",
        "\n",
        "Create a TextLMDataBunch instance called `data_lm`, load your train and valid Dataframe into it, and run the following code."
      ]
    },
    {
      "metadata": {
        "trusted": true,
        "_uuid": "3eb854d800019951627b86b9d0d2ddb1b0690dff",
        "id": "-5Y4DLmIbCsF",
        "colab_type": "code",
        "colab": {}
      },
      "cell_type": "code",
      "source": [
        "data_lm = TextLMDataBunch.from_df(path, train_df = train, valid_df = valid, text_cols=[\"text\"])"
      ],
      "execution_count": 0,
      "outputs": []
    },
    {
      "metadata": {
        "trusted": true,
        "_uuid": "046c6510e26fe07dcf7d87936a80ffa079a46e4b",
        "id": "e87K11gHbCsP",
        "colab_type": "code",
        "outputId": "67640974-810c-4089-db7c-6e4bef9031d1",
        "colab": {
          "base_uri": "https://localhost:8080/",
          "height": 393
        }
      },
      "cell_type": "code",
      "source": [
        "data_lm.show_batch()"
      ],
      "execution_count": 19,
      "outputs": [
        {
          "output_type": "display_data",
          "data": {
            "text/html": [
              "<table border=\"1\" class=\"dataframe\">\n",
              "  <thead>\n",
              "    <tr style=\"text-align: right;\">\n",
              "      <th>idx</th>\n",
              "      <th>text</th>\n",
              "    </tr>\n",
              "  </thead>\n",
              "  <tbody>\n",
              "    <tr>\n",
              "      <td>0</td>\n",
              "      <td>very moment . xxmaj mary xxmaj xxunk , who i seem to remember from xxup snl or some other xxup tv comedy skit show , is the evil wife , and xxmaj larry xxmaj drake plays the lunatic in the xxunk xxmaj santa outfit . i had forgotten xxmaj santa was played by xxmaj drake over the years . xxmaj his xxmaj santa is an unstoppable force and quite</td>\n",
              "    </tr>\n",
              "    <tr>\n",
              "      <td>1</td>\n",
              "      <td>these days . \\n \\n  i understand it 's a movie and that 's why i accept it as a funny situation . xxmaj plus , the humor is versatile . xxmaj there are moments involving xxup xxunk , funny lines with xxmaj chabat 's best friend , some lesbian references , funny situations involving the family women , and more . \\n \\n  xxmaj charlotte xxmaj xxunk</td>\n",
              "    </tr>\n",
              "    <tr>\n",
              "      <td>2</td>\n",
              "      <td>xxmaj chocolat before my viewing of it . i did n't know anything about the story , the cast , the director , or anything about the film 's history . xxmaj all i knew was it was a highly - acclaimed xxmaj french film . xxmaj had i known more , i probably would n't have viewed the picture with an open mind . xxmaj on paper ,</td>\n",
              "    </tr>\n",
              "    <tr>\n",
              "      <td>3</td>\n",
              "      <td>xxunk xxmaj digital xxunk xxmaj surround xxmaj sound . xxup dvd also an jam session with xxmaj sandler &amp; xxmaj cheadle , an featurette , photo montage and previews . i was expecting more for the xxup dvd features like an audio commentary track by the director and deleted scenes . \" xxmaj reign xxmaj over xxmaj me \" is certainly one of the best films that came out</td>\n",
              "    </tr>\n",
              "    <tr>\n",
              "      <td>4</td>\n",
              "      <td>his stuntmen were injured during this movie that nobody would insure them anymore - xxmaj jackie had to take responsibility himself . xxmaj there are no gimmicks , wires or stand - ins - it is all true - life action that is a treat to watch . xxmaj it is this type of action that made him the phenomenon that he is and it is a movie that</td>\n",
              "    </tr>\n",
              "  </tbody>\n",
              "</table>"
            ],
            "text/plain": [
              "<IPython.core.display.HTML object>"
            ]
          },
          "metadata": {
            "tags": []
          }
        }
      ]
    },
    {
      "metadata": {
        "id": "O2_lfse1pkup",
        "colab_type": "text"
      },
      "cell_type": "markdown",
      "source": [
        "You should see the output like this:\n",
        "\n",
        "![](https://github.com/wshuyi/github_pub_img/raw/master/assets/2019-03-26-10-14-25-459713.png)"
      ]
    },
    {
      "metadata": {
        "id": "LaqcTDHikUOm",
        "colab_type": "text"
      },
      "cell_type": "markdown",
      "source": [
        "**Question 3: (10 points)**\n",
        "\n",
        "Create a `language_model_learner` named `learn`, use `data_lm` as input data, `AWD_LSTM` as architecture, and choose 0.5 as Dropout rate. Draw the result of learning rate finder."
      ]
    },
    {
      "metadata": {
        "trusted": true,
        "_uuid": "04ce1c9b393afde82a2301ac217760a4f559a7c6",
        "id": "Dl21NZpzbCsU",
        "colab_type": "code",
        "outputId": "2b5a8109-8466-4fe4-a12a-076f43ad097d",
        "colab": {
          "base_uri": "https://localhost:8080/",
          "height": 379
        }
      },
      "cell_type": "code",
      "source": [
        "learn = language_model_learner(data_lm, AWD_LSTM, drop_mult=0.5)\n",
        "learn.lr_find()\n",
        "learn.recorder.plot()"
      ],
      "execution_count": 20,
      "outputs": [
        {
          "output_type": "display_data",
          "data": {
            "text/html": [
              ""
            ],
            "text/plain": [
              "<IPython.core.display.HTML object>"
            ]
          },
          "metadata": {
            "tags": []
          }
        },
        {
          "output_type": "stream",
          "text": [
            "LR Finder is complete, type {learner_name}.recorder.plot() to see the graph.\n"
          ],
          "name": "stdout"
        },
        {
          "output_type": "display_data",
          "data": {
            "image/png": "[encoded data removed]",
            "text/plain": [
              "<Figure size 576x396 with 1 Axes>"
            ]
          },
          "metadata": {
            "tags": []
          }
        }
      ]
    },
    {
      "metadata": {
        "id": "RRFH6xlOmEmz",
        "colab_type": "text"
      },
      "cell_type": "markdown",
      "source": [
        "You should see the output like this:\n",
        "\n",
        "![](https://github.com/wshuyi/github_pub_img/raw/master/assets/2019-03-26-10-17-47-701082.png)"
      ]
    },
    {
      "metadata": {
        "colab_type": "text",
        "id": "kYdco7i0lNsW"
      },
      "cell_type": "markdown",
      "source": [
        "**Question 4: (20 points)**\n",
        "\n",
        "Fit one cycle with your language learner (`learn`), unfreeze it and fit another 3 cycles. Save the language learner's encoder as `ft_enc`."
      ]
    },
    {
      "metadata": {
        "trusted": true,
        "_uuid": "baafa7bf5fd351f5dca7a5f6cf1f89c84a3281e8",
        "id": "Vr1IdeC0bCsp",
        "colab_type": "code",
        "outputId": "eb8d7595-5b30-4dce-8ac1-9db44270baff",
        "colab": {
          "base_uri": "https://localhost:8080/",
          "height": 103
        }
      },
      "cell_type": "code",
      "source": [
        "learn.fit_one_cycle(1, 1e-2, moms=(0.8,0.7))"
      ],
      "execution_count": 21,
      "outputs": [
        {
          "output_type": "display_data",
          "data": {
            "text/html": [
              "Total time: 01:02 <p><table border=\"1\" class=\"dataframe\">\n",
              "  <thead>\n",
              "    <tr style=\"text-align: left;\">\n",
              "      <th>epoch</th>\n",
              "      <th>train_loss</th>\n",
              "      <th>valid_loss</th>\n",
              "      <th>accuracy</th>\n",
              "      <th>time</th>\n",
              "    </tr>\n",
              "  </thead>\n",
              "  <tbody>\n",
              "    <tr>\n",
              "      <td>0</td>\n",
              "      <td>4.453549</td>\n",
              "      <td>3.990721</td>\n",
              "      <td>0.285516</td>\n",
              "      <td>01:02</td>\n",
              "    </tr>\n",
              "  </tbody>\n",
              "</table>"
            ],
            "text/plain": [
              "<IPython.core.display.HTML object>"
            ]
          },
          "metadata": {
            "tags": []
          }
        }
      ]
    },
    {
      "metadata": {
        "id": "bA8heEtxPdl7",
        "colab_type": "code",
        "colab": {}
      },
      "cell_type": "code",
      "source": [
        "learn.unfreeze()"
      ],
      "execution_count": 0,
      "outputs": []
    },
    {
      "metadata": {
        "id": "tEPl14T68fAC",
        "colab_type": "code",
        "outputId": "455174a5-3f7f-4e69-854c-98afa9e8ce08",
        "colab": {
          "base_uri": "https://localhost:8080/",
          "height": 164
        }
      },
      "cell_type": "code",
      "source": [
        "learn.fit_one_cycle(3, 1e-3, moms=(0.8,0.7))"
      ],
      "execution_count": 23,
      "outputs": [
        {
          "output_type": "display_data",
          "data": {
            "text/html": [
              "Total time: 03:43 <p><table border=\"1\" class=\"dataframe\">\n",
              "  <thead>\n",
              "    <tr style=\"text-align: left;\">\n",
              "      <th>epoch</th>\n",
              "      <th>train_loss</th>\n",
              "      <th>valid_loss</th>\n",
              "      <th>accuracy</th>\n",
              "      <th>time</th>\n",
              "    </tr>\n",
              "  </thead>\n",
              "  <tbody>\n",
              "    <tr>\n",
              "      <td>0</td>\n",
              "      <td>4.118543</td>\n",
              "      <td>3.920006</td>\n",
              "      <td>0.291459</td>\n",
              "      <td>01:14</td>\n",
              "    </tr>\n",
              "    <tr>\n",
              "      <td>1</td>\n",
              "      <td>3.976802</td>\n",
              "      <td>3.878869</td>\n",
              "      <td>0.295707</td>\n",
              "      <td>01:14</td>\n",
              "    </tr>\n",
              "    <tr>\n",
              "      <td>2</td>\n",
              "      <td>3.834942</td>\n",
              "      <td>3.866639</td>\n",
              "      <td>0.296875</td>\n",
              "      <td>01:14</td>\n",
              "    </tr>\n",
              "  </tbody>\n",
              "</table>"
            ],
            "text/plain": [
              "<IPython.core.display.HTML object>"
            ]
          },
          "metadata": {
            "tags": []
          }
        }
      ]
    },
    {
      "metadata": {
        "id": "_ypm44nqCS4V",
        "colab_type": "code",
        "colab": {}
      },
      "cell_type": "code",
      "source": [
        "learn.save_encoder('ft_enc')"
      ],
      "execution_count": 0,
      "outputs": []
    },
    {
      "metadata": {
        "id": "1Bb_WPtcmGYz",
        "colab_type": "text"
      },
      "cell_type": "markdown",
      "source": [
        "You should see the output like this:\n",
        "\n",
        "![](https://github.com/wshuyi/github_pub_img/raw/master/assets/2019-03-26-10-20-09-953060.png)"
      ]
    },
    {
      "metadata": {
        "id": "MI5j3jWQmLmv",
        "colab_type": "text"
      },
      "cell_type": "markdown",
      "source": [
        "**Question 5: (10 points)**\n",
        "\n",
        "Create a TextClasDataBunch instance called `data_clas`, load your train and valid Dataframe into it, use the vocab from `data_lm.train_ds.vocab`, set batch size as 32, and run the following code."
      ]
    },
    {
      "metadata": {
        "trusted": true,
        "_uuid": "d8c40e52341b435d6bb828faf6fbee1095262192",
        "id": "sOWsKtK8bCtC",
        "colab_type": "code",
        "colab": {}
      },
      "cell_type": "code",
      "source": [
        "data_clas = TextClasDataBunch.from_df(path, train_df = train, valid_df = valid, vocab = data_lm.train_ds.vocab, bs=32, label_cols=1, text_cols=[\"text\"])"
      ],
      "execution_count": 0,
      "outputs": []
    },
    {
      "metadata": {
        "trusted": true,
        "_uuid": "0105c7ddb6df1dd207c9533dd98804d59a4fcce6",
        "id": "xGRPON5wbCtQ",
        "colab_type": "code",
        "outputId": "0cb58c6a-e0c7-4008-ac1f-5a2a6d2c6c74",
        "colab": {
          "base_uri": "https://localhost:8080/",
          "height": 410
        }
      },
      "cell_type": "code",
      "source": [
        "data_clas.show_batch()"
      ],
      "execution_count": 26,
      "outputs": [
        {
          "output_type": "display_data",
          "data": {
            "text/html": [
              "<table border=\"1\" class=\"dataframe\">\n",
              "  <thead>\n",
              "    <tr style=\"text-align: right;\">\n",
              "      <th>text</th>\n",
              "      <th>target</th>\n",
              "    </tr>\n",
              "  </thead>\n",
              "  <tbody>\n",
              "    <tr>\n",
              "      <td>xxbos xxmaj the freedom of having your own xxmaj sea xxmaj going xxmaj power xxmaj boat , the excitement of going on underwater adventures a rugged , an 's man of an adventurer and xxunk so well endowed ! ) xxunk in fine xxmaj bikinis were all definite selling points for \" xxup sea xxup xxunk - 61 ) . \\n \\n  xxmaj just what was the reason for</td>\n",
              "      <td>1</td>\n",
              "    </tr>\n",
              "    <tr>\n",
              "      <td>xxbos xxmaj to be a xxmaj buster xxmaj keaton fan is to have your heart broken on a regular basis . xxmaj most of us first encounter xxmaj keaton in one of the brilliant feature films from his great period of independent production : ' xxmaj the xxmaj general ' , ' xxmaj the xxmaj xxunk ' , ' xxmaj sherlock xxmaj jnr ' . xxmaj we recognise him as</td>\n",
              "      <td>0</td>\n",
              "    </tr>\n",
              "    <tr>\n",
              "      <td>xxbos xxmaj the movie \" macarthur \" begins and ends at xxmaj gen. xxmaj douglas macarthur 's , xxmaj gregory xxmaj peck , xxmaj xxunk xxmaj mata the xxup us xxmaj military xxmaj academy of xxmaj west xxmaj point on the xxmaj hudson . xxmaj we see a frail 82 year old xxmaj xxunk . macarthur give the commencement speech to the xxunk class of 1962 about what an honor</td>\n",
              "      <td>1</td>\n",
              "    </tr>\n",
              "    <tr>\n",
              "      <td>xxbos xxmaj watching xxmaj cliffhanger makes me nostalgic for the early ' 90s , a time when virtually every new action movie could be described as \" xxmaj die xxmaj hard in a / on a. \" xxmaj cliffhanger is \" xxmaj die xxmaj hard on a mountain , \" and pretty good , for what it is . \\n \\n  xxmaj but unlike xxmaj passenger xxunk and xxmaj</td>\n",
              "      <td>1</td>\n",
              "    </tr>\n",
              "    <tr>\n",
              "      <td>xxbos xxmaj retitled from its original xxmaj japanese name of xxup laputa ( for being an offensive phrase , something which director xxmaj xxunk xxmaj miyazaki was oblivious to at the time ) , xxup castle xxup in xxup the xxup sky is the master animator 's third film , and it 's one of his most beloved of all time . xxmaj initially a box office disappointment in its</td>\n",
              "      <td>1</td>\n",
              "    </tr>\n",
              "  </tbody>\n",
              "</table>"
            ],
            "text/plain": [
              "<IPython.core.display.HTML object>"
            ]
          },
          "metadata": {
            "tags": []
          }
        }
      ]
    },
    {
      "metadata": {
        "id": "LXrBPvi0njxX",
        "colab_type": "text"
      },
      "cell_type": "markdown",
      "source": [
        "You should see the output like this:\n",
        "\n",
        "![](https://github.com/wshuyi/github_pub_img/raw/master/assets/2019-03-26-10-24-53-893234.png)"
      ]
    },
    {
      "metadata": {
        "id": "BjA_2QH0m6AZ",
        "colab_type": "text"
      },
      "cell_type": "markdown",
      "source": [
        "**Question 6: (10 points)**\n",
        "\n",
        "Create a `text_classifier_learner` named `learn`, use `data_clas` as input data, `AWD_LSTM` as architecture, and choose 0.5 as Dropout rate. Note to compare the result with Scikit-learn and textblob later, you need to make sure Precision and Recall are in the metrics list. Load the encoder  (`ft_enc`) you saved just now into `learn`. Draw the result of learning rate finder."
      ]
    },
    {
      "metadata": {
        "trusted": true,
        "_uuid": "ee96a122db78a62ee1a841ec2b63761d643b11b9",
        "id": "KFi3uvq-bCtH",
        "colab_type": "code",
        "outputId": "81a1c564-4be5-4b21-a6b8-68ab7ae49f4e",
        "colab": {
          "base_uri": "https://localhost:8080/",
          "height": 379
        }
      },
      "cell_type": "code",
      "source": [
        "learn = text_classifier_learner(data_clas, AWD_LSTM, drop_mult=0.5)\n",
        "precision = Precision()\n",
        "recall = Recall()\n",
        "learn.metrics = [accuracy, precision, recall]\n",
        "learn.load_encoder('ft_enc')\n",
        "learn.lr_find()\n",
        "learn.recorder.plot()"
      ],
      "execution_count": 27,
      "outputs": [
        {
          "output_type": "display_data",
          "data": {
            "text/html": [
              ""
            ],
            "text/plain": [
              "<IPython.core.display.HTML object>"
            ]
          },
          "metadata": {
            "tags": []
          }
        },
        {
          "output_type": "stream",
          "text": [
            "LR Finder is complete, type {learner_name}.recorder.plot() to see the graph.\n"
          ],
          "name": "stdout"
        },
        {
          "output_type": "display_data",
          "data": {
            "image/png": "[encoded data removed]",
            "text/plain": [
              "<Figure size 576x396 with 1 Axes>"
            ]
          },
          "metadata": {
            "tags": []
          }
        }
      ]
    },
    {
      "metadata": {
        "id": "vqn-pdAXniIw",
        "colab_type": "text"
      },
      "cell_type": "markdown",
      "source": [
        "You should see the output like this:\n",
        "\n",
        "![](https://github.com/wshuyi/github_pub_img/raw/master/assets/2019-03-26-10-27-55-239469.png)"
      ]
    },
    {
      "metadata": {
        "id": "FdAZakubnwx7",
        "colab_type": "text"
      },
      "cell_type": "markdown",
      "source": [
        "**Question 7: (20 points)**\n",
        "\n",
        "Fit one cycle with your text classifier learner (`learn`). Unfreeze the last two layers, and fit 3 cycles. Then unfreeze it totally, and fit another 2 cycles. Show the training result."
      ]
    },
    {
      "metadata": {
        "trusted": true,
        "_uuid": "b612e63b0a924444712627e3cc2224c2f69bfc7d",
        "id": "jdO8fcfxbCtY",
        "colab_type": "code",
        "outputId": "09f94011-29e1-483b-cd2f-609251553a42",
        "colab": {
          "base_uri": "https://localhost:8080/",
          "height": 103
        }
      },
      "cell_type": "code",
      "source": [
        "learn.fit_one_cycle(1, 2e-2, moms=(0.8,0.7))"
      ],
      "execution_count": 28,
      "outputs": [
        {
          "output_type": "display_data",
          "data": {
            "text/html": [
              "Total time: 00:55 <p><table border=\"1\" class=\"dataframe\">\n",
              "  <thead>\n",
              "    <tr style=\"text-align: left;\">\n",
              "      <th>epoch</th>\n",
              "      <th>train_loss</th>\n",
              "      <th>valid_loss</th>\n",
              "      <th>accuracy</th>\n",
              "      <th>precision</th>\n",
              "      <th>recall</th>\n",
              "      <th>time</th>\n",
              "    </tr>\n",
              "  </thead>\n",
              "  <tbody>\n",
              "    <tr>\n",
              "      <td>0</td>\n",
              "      <td>0.535093</td>\n",
              "      <td>0.433193</td>\n",
              "      <td>0.808000</td>\n",
              "      <td>0.815574</td>\n",
              "      <td>0.796000</td>\n",
              "      <td>00:55</td>\n",
              "    </tr>\n",
              "  </tbody>\n",
              "</table>"
            ],
            "text/plain": [
              "<IPython.core.display.HTML object>"
            ]
          },
          "metadata": {
            "tags": []
          }
        }
      ]
    },
    {
      "metadata": {
        "id": "63Th72ywRi90",
        "colab_type": "code",
        "colab": {
          "base_uri": "https://localhost:8080/",
          "height": 4128
        },
        "outputId": "601f6d31-2a3e-4cc8-a1a4-97aff3999b71"
      },
      "cell_type": "code",
      "source": [
        "learn.save('first')\n",
        "learn.load('first')"
      ],
      "execution_count": 29,
      "outputs": [
        {
          "output_type": "execute_result",
          "data": {
            "text/plain": [
              "RNNLearner(data=TextClasDataBunch;\n",
              "\n",
              "Train: LabelList (2000 items)\n",
              "x: TextList\n",
              "xxbos i have watched this episode more often than any other xxup xxunk episode , it is that enjoyable . xxmaj and it is quite scary , but all in good , xxunk fun . a woman kills her 2nd husband but runs into a problem when an escaped maniac in a xxunk xxmaj santa xxmaj claus outfit decides to pay her and her little girl a visit at that very moment . xxmaj mary xxmaj xxunk , who i seem to remember from xxup snl or some other xxup tv comedy skit show , is the evil wife , and xxmaj larry xxmaj drake plays the lunatic in the xxunk xxmaj santa outfit . i had forgotten xxmaj santa was played by xxmaj drake over the years . xxmaj his xxmaj santa is an unstoppable force and quite frightening at times . xxmaj you can probably guess how xxmaj santa finally gets into the house . xxmaj the episode is played for laughs , but it also can be pretty intense at times .,xxbos xxmaj as many reviewers here have noted , the film version differs quite a bit from the stage version of the story . i have never seen the stage version of the story , and therefore i have a more favorable review of the film than many other reviewers . xxmaj perhaps xxmaj richard xxmaj attenborough was not the best choice for director of the film , but the film is still an entertaining account of several dancers trying to make the big time in choreographer xxmaj michael xxmaj douglas ' show . xxmaj the film does right by not selecting any famous actors or performers to wind up in the final try - out group . xxmaj this way our attention is focused on the dancers ' movements and individual stories and struggles as they unfold during a marathon day of try - outs . xxmaj douglas is also probably not the best choice for the part . xxmaj apparently some songs were cut out in favor of a new one , and the xxunk cliché - ridden story of a romantic liaison between a dancer and the choreographer was added . i have to say in all xxunk this was the weakest part of the film . xxmaj the repeated xxunk xxmaj xxunk made during try - outs appear to mirror the almost desperate xxunk one often has to make when engaging in the artistic xxunk in the absence of talent and / or luck . xxmaj however , this aspect of the film has been done to death in the past , and it 's curious to see this tired old shoe kicking its xxunk up once again . xxmaj the revelations of the dancers themselves began promisingly enough with the \" i can do that \" number , but then it xxunk a little at various points while the dancers were telling their stories . xxmaj frankly , their stories xxunk little from real life folks who never get a chance like this . * * * of 4 stars .,xxbos xxmaj at first , this movie seems so bad that i almost fell in a xxunk the first time i saw it . xxmaj it was like a bad dream . a cosmic bore . xxmaj but i gave it a second chance , then another and another , etc ... i finally got addicted to this film , due to it 's dreamlike slow pace , wonderful natural sets , bathed in a mellow autumn light and especially the musical score , which is made of some 70 's xxunk rock and absolute exquisite folk songs by actor / singer / songwriter xxmaj derek xxmaj xxunk xxunk should notice the song about hazel wood , silver xxunk and lady vanishing in the air ... xxunk in the middle and near the end of the film . xxmaj there are some xxunk scenes in the beginning , xxunk allow us to appreciate the natural charms of xxmaj elizabeth xxmaj xxunk . xxmaj if that movie had been made by some \" repertoire \" directors like xxmaj bergman , xxmaj lars xxmaj von xxmaj xxunk or xxmaj jean - xxmaj luc xxmaj xxunk , critics would have rolled on the floor , xxunk about that movie as if it were a cosmic masterpiece . i personally think this film is one million times superior to any of xxmaj fellini 's cinematic sh # xxunk not for the pretentious .,xxbos xxmaj was this based on a comic - book ? a video - game ? a drawing by a 3 year - old ? \n",
              " \n",
              "  xxmaj there is nothing in this movie to be taken seriously at all ; not the characters , not the dialog , not the plot , not the action . xxmaj nothing . xxmaj we have high - tech international terrorists / criminals who bicker like pre - school kids , xxmaj stallone 's man - of - steel - type resilience towards ice - cold weather , dialog so dumb that it 's sometimes almost hilarious , and so on . xxmaj even the xxunk that the bad guys use is dumb ( \" tango - tango \" ) . a film that entertains through some suspense , good action - sequences , and a nice snowy mountainous setting . xxmaj oh , yes : and the unintentional humour . \n",
              " \n",
              "  xxmaj the film opens with some truly bad and unconvincing gay banter between our go - lucky and happy characters who are obviously having a \" swell \" time . xxmaj then comes a sweat - inducing failed - rescue part , which should make anyone with fear - of - heights problems want to pull their hair out . xxmaj and then we have some more bad dialog , and after that some more great action . xxmaj this is the rhythm of the film in a nutshell . \n",
              " \n",
              "  xxmaj stallone 's melodramatic exchange with xxmaj turner , when they meet after a long time , is so soapy , so clichéd , so fake , and so bad that it should force a chuckle out of any self - respecting viewer . xxmaj soon after this display of awful dialog - writing , we are witnesses to a spectacular and excellently shot hijack of an airplane . xxmaj the entire action is one big absurdity , but it 's mindless fun at its best . xxmaj although the rest of the action is exciting and fun , the airplane scenes are truly the highlight of the film . xxmaj after the landing , our master - criminals seek for a guide and end up with xxmaj stallone and xxmaj rooker . xxmaj they send xxmaj stallone to fetch the first case of money , but somehow they do everything to make it as difficult as possible for him to reach it ; they take most of his clothes off ( so he can freeze ) and they wo n't give him the equipment he needs ( so he can fall off ) . xxup do xxup these xxup gangsters xxup want xxup their xxup money xxup fetched xxup or xxup not ? ? ? xxmaj very silly . xxmaj apparently they do n't trust xxmaj stallone , but surely they know that they can always black - mail him by using xxmaj rooker as a hostage . xxmaj nevertheless , our gangsters make xxmaj stallone 's climb difficult , if for no logical reasons then to at least show us how truly evil they are - lest there be any doubts . xxmaj and for those who might still doubt how evil the bad guys are , they overact , brag , and snicker in a truly evil manner . xxmaj everyone convinced ? xxmaj good . xxmaj you 'd better be . xxmaj otherwise the writers will throw in a mass execution of twenty school children , just to make sure that the xxunk of the bad guys is crystal - clear to everyone . \n",
              " \n",
              "  xxmaj the old guy who flies the chopper ... xxmaj how the hell did he fall for the trap ? xxmaj firstly , he must have been warned by the xxup mtv airhead about the criminals , and secondly , he must have heard xxmaj stallone 's and xxmaj rooker 's voices on the xxunk - talkies . a whole bunch of idiotic verbal exchanges take place , with xxmaj lithgow having the questionable honour of getting most of the silly lines . \" xxmaj get off my back ! \" xxmaj lithgow : \" i have n't even started climbing on your back . \" xxmaj or , xxmaj lithgow to xxmaj stallone : \" xxmaj we had a deal , but now we only have each other ! \" xxmaj and as for xxmaj lithgow 's gang of murderers : these guys never seem to want to kill immediately . xxmaj they are very creative about it ; they xxunk , pretend that they are playing football with your body , and so on . \n",
              " \n",
              "  xxmaj stallone co - wrote this thing . i have no idea what drugs he was on when he did it . i 'd hate to think the script is this bad because of a low xxup i.q.,xxbos xxmaj melissa xxmaj joan xxmaj hart shines ! xxmaj this show is amazing ! ! xxmaj there is no match . xxmaj except for maybe xxmaj melissa in xxmaj xxunk xxmaj explains it xxmaj all . xxmaj she was marvelous in that , too . xxmaj this is xxup so much better than xxmaj xxunk , the xxmaj vampire xxmaj xxunk . xxmaj this show is xxup wonderful !\n",
              "y: CategoryList\n",
              "1,1,1,1,1\n",
              "Path: .;\n",
              "\n",
              "Valid: LabelList (1000 items)\n",
              "x: TextList\n",
              "xxbos xxmaj bug xxmaj juice changed my life . i xxmaj know it sounds strange , odd , weird . xxmaj but it did . i am from xxmaj england , xxmaj bug xxmaj juice never aired there but five years ago i went on vacation with my family and saw it on the xxmaj disney channel . xxmaj once i saw this xxup tv series i was hooked i wanted to go . xxmaj it took a lot of convincing to my parents to allow my brother and i to go to xxmaj xxunk . i have been going since i was 12 and it was my forth year this summer . xxmaj if you are a teenager reading this come to this camp it changes your life . you make life long friends at xxunk . xxmaj it does n't matter who you are or if someone at home does n't like you everyone likes you at camp . xxmaj you have so much fun . xxmaj if you want to have a look go on to xxunk and check it out for yourself . xxmaj it is so much fun i xxmaj love it there xxmaj it is my xxmaj home xxmaj away from xxmaj home,xxbos xxmaj as many of today 's movies are guilty of , the plot is n't exactly stellar , the movie does n't move anyone , and certainly this wo n't warrant any award ( outside of xxmaj blockbusters ' xxunk ... but then again , who really cares . \n",
              " \n",
              "  xxmaj eddie xxmaj murphy and xxmaj robert xxmaj de xxmaj niro team up to produce a very funny , at times hilarious , movie that i really enjoyed . xxmaj russo and xxmaj shatner played their small parts well as well . xxmaj man , i hope in the future my wife ages as well as xxmaj miss xxmaj renee has . \n",
              " \n",
              "  xxmaj moving along , this \" buddy \" cop - flick produces high laughs in a reasonable amount of time . xxmaj the movie is enjoyable enough to avoid the wait for video / dvd release and instead to go ahead and check it out . \n",
              " \n",
              "  xxmaj eddie xxmaj murphy is at his usual top - form and is downright enjoyable to watch . xxmaj de xxmaj niro has molded into this type of role perfectly . \n",
              " \n",
              "  i really enjoyed this movie and think that any true movie fan in need for a good movie or just a good laugh will really enjoy xxmaj showtime . \n",
              " \n",
              "  xxmaj top xxmaj performance : xxmaj murphy . xxmaj hilarious . xxmaj enough said . xxmaj directing xxmaj job : xxmaj nice . xxmaj nice action scenes , used xxmaj murphy and xxmaj de xxmaj niro together like a charm , xxmaj russo fed off in a nice supporting job . \n",
              " \n",
              "  xxmaj my xxmaj rating : 7 out 10 . xxmaj it 's not going to move you or anything ... but it 's an extremely enjoyable movie . \n",
              " \n",
              "  xxmaj it 's xxmaj showtime ... was a great success .,xxbos xxmaj this is one of the best movies i have ever seen . xxmaj it is about true love and friendship . xxmaj about turning your life around and doing something good for someone else . xxmaj thomas xxmaj bo xxmaj xxunk may play the same role he has done in so many other movies , but recently we have seen him in other roles which he does great too . xxmaj but so what if he plays the same role that he has done in other movies  he 's perfect for that role . xxmaj xxunk xxmaj xxunk does a great job too . xxmaj these two criminal \" low - xxunk \" are the best friends ever . xxmaj they share everything and they do everything for each other no matter what the costs are . xxmaj when they find out that xxmaj peter 's daughter is being abused they put everything on hold ( things you ca n't put on hold unless you have to make even more criminal acts ) and takes her to a better place . xxmaj they do the best they can  these two men are not xxunk but they have their heart in the right place . xxmaj all i can say is that xxmaj peter and xxmaj xxunk are my xxmaj biggest xxmaj heroes too \n",
              ",xxbos xxmaj this movie took me by surprise . xxmaj the opening credit sequence features nicely done animation . xxmaj after that , we 're xxunk into a semi - cheesy production , xxunk its low budget . xxmaj the characters , typical xxmaj american teens , are introduced slowly , with more personal detail than is usually found in movies like this . xxmaj by the time the xxunk hits the fan , we know each one of the characters , and either like or hate them according to their distinct personalities . xxmaj it 's a slow xxunk set - up , kind of like the ride up a xxunk of a really tall roller coaster . xxmaj thankfully , once the action kicks in , it 's full blown old school xxup horror ! xxmaj steve xxmaj johnson 's make - up effects are awesome . xxmaj equal in quality to much bigger budgeted films . xxmaj and the scares are xxunk . xxmaj kevin xxmaj xxunk delivers his best movie ever , with heart - stopping surprises and creepy suspenseful set - ups . xxmaj the tongue - in - cheek , sometimes cheesy , humor marks this film as pure 80s horror , as opposed to the xxunk tone of earlier genre fare like \" xxmaj night of the xxmaj living xxmaj dead \" or \" xxmaj hills xxmaj have xxmaj eyes . \" xxmaj but for true horror fans , this one is worth checking out . xxmaj play it as the first entry on a double bill with the 1999 remake of \" xxmaj house on the xxmaj haunted xxmaj hill . \" xxmaj the set - up and character dynamics are so similar that you really have to wonder what film they were actually xxunk ?,xxbos i am xxunk for the sequels . i needed something to keep me from going insane with tension , anxiety ( what if it is n't as good ? ! ) , and constant lack of information . i needed something to calm me a little , something to pass the time , other than , of course , xxmaj the xxmaj matrix . xxmaj this was just the thing . \n",
              " \n",
              "  i found it xxunk ( like the part about xxmaj keanu 's neck ... ) and some of it was funny . i xxunk xxmaj carrie - xxmaj anne s xxrep 4 o much when she said there was only one bathroom and all those guys . i found only one problem with it . xxmaj given that 95 % of the people there were as a matter of fact male , they just kinda let their mouths run wild , and there was language in it . xxmaj it 's not near as bad as xxmaj the xxmaj shawshank xxmaj redemption 's xxunk runs , but that one scene were xxmaj keanu is describing a bad day , plug your ears if you are little . xxunk \n",
              " \n",
              "  xxmaj it was entertaining and was just what i needed . xxmaj it is what all xxmaj matrix fans who are going nuts need to keep them quiet . xxmaj they mention a tiny bit about the sequels , and someone almost gives something away , but he catches himself in time ( shoot ! ) . xxmaj it gives you almost no spoilers , but it is great to have if you are a xxmaj matrix xxmaj head like me . \n",
              " \n",
              "  xxmaj there is no xxunk .\n",
              "y: CategoryList\n",
              "1,1,1,1,1\n",
              "Path: .;\n",
              "\n",
              "Test: None, model=SequentialRNN(\n",
              "  (0): MultiBatchEncoder(\n",
              "    (module): AWD_LSTM(\n",
              "      (encoder): Embedding(14385, 400, padding_idx=1)\n",
              "      (encoder_dp): EmbeddingDropout(\n",
              "        (emb): Embedding(14385, 400, padding_idx=1)\n",
              "      )\n",
              "      (rnns): ModuleList(\n",
              "        (0): WeightDropout(\n",
              "          (module): LSTM(400, 1150, batch_first=True)\n",
              "        )\n",
              "        (1): WeightDropout(\n",
              "          (module): LSTM(1150, 1150, batch_first=True)\n",
              "        )\n",
              "        (2): WeightDropout(\n",
              "          (module): LSTM(1150, 400, batch_first=True)\n",
              "        )\n",
              "      )\n",
              "      (input_dp): RNNDropout()\n",
              "      (hidden_dps): ModuleList(\n",
              "        (0): RNNDropout()\n",
              "        (1): RNNDropout()\n",
              "        (2): RNNDropout()\n",
              "      )\n",
              "    )\n",
              "  )\n",
              "  (1): PoolingLinearClassifier(\n",
              "    (layers): Sequential(\n",
              "      (0): BatchNorm1d(1200, eps=1e-05, momentum=0.1, affine=True, track_running_stats=True)\n",
              "      (1): Dropout(p=0.2)\n",
              "      (2): Linear(in_features=1200, out_features=50, bias=True)\n",
              "      (3): ReLU(inplace)\n",
              "      (4): BatchNorm1d(50, eps=1e-05, momentum=0.1, affine=True, track_running_stats=True)\n",
              "      (5): Dropout(p=0.1)\n",
              "      (6): Linear(in_features=50, out_features=2, bias=True)\n",
              "    )\n",
              "  )\n",
              "), opt_func=functools.partial(<class 'torch.optim.adam.Adam'>, betas=(0.9, 0.99)), loss_func=FlattenedLoss of CrossEntropyLoss(), metrics=[<function accuracy at 0x7f61b726e158>, Precision(average='binary', pos_label=1, eps=1e-09), Recall(average='binary', pos_label=1, eps=1e-09)], true_wd=True, bn_wd=True, wd=0.01, train_bn=True, path=PosixPath('.'), model_dir='models', callback_fns=[functools.partial(<class 'fastai.basic_train.Recorder'>, add_time=True)], callbacks=[RNNTrainer\n",
              "learn: RNNLearner(data=TextClasDataBunch;\n",
              "\n",
              "Train: LabelList (2000 items)\n",
              "x: TextList\n",
              "xxbos i have watched this episode more often than any other xxup xxunk episode , it is that enjoyable . xxmaj and it is quite scary , but all in good , xxunk fun . a woman kills her 2nd husband but runs into a problem when an escaped maniac in a xxunk xxmaj santa xxmaj claus outfit decides to pay her and her little girl a visit at that very moment . xxmaj mary xxmaj xxunk , who i seem to remember from xxup snl or some other xxup tv comedy skit show , is the evil wife , and xxmaj larry xxmaj drake plays the lunatic in the xxunk xxmaj santa outfit . i had forgotten xxmaj santa was played by xxmaj drake over the years . xxmaj his xxmaj santa is an unstoppable force and quite frightening at times . xxmaj you can probably guess how xxmaj santa finally gets into the house . xxmaj the episode is played for laughs , but it also can be pretty intense at times .,xxbos xxmaj as many reviewers here have noted , the film version differs quite a bit from the stage version of the story . i have never seen the stage version of the story , and therefore i have a more favorable review of the film than many other reviewers . xxmaj perhaps xxmaj richard xxmaj attenborough was not the best choice for director of the film , but the film is still an entertaining account of several dancers trying to make the big time in choreographer xxmaj michael xxmaj douglas ' show . xxmaj the film does right by not selecting any famous actors or performers to wind up in the final try - out group . xxmaj this way our attention is focused on the dancers ' movements and individual stories and struggles as they unfold during a marathon day of try - outs . xxmaj douglas is also probably not the best choice for the part . xxmaj apparently some songs were cut out in favor of a new one , and the xxunk cliché - ridden story of a romantic liaison between a dancer and the choreographer was added . i have to say in all xxunk this was the weakest part of the film . xxmaj the repeated xxunk xxmaj xxunk made during try - outs appear to mirror the almost desperate xxunk one often has to make when engaging in the artistic xxunk in the absence of talent and / or luck . xxmaj however , this aspect of the film has been done to death in the past , and it 's curious to see this tired old shoe kicking its xxunk up once again . xxmaj the revelations of the dancers themselves began promisingly enough with the \" i can do that \" number , but then it xxunk a little at various points while the dancers were telling their stories . xxmaj frankly , their stories xxunk little from real life folks who never get a chance like this . * * * of 4 stars .,xxbos xxmaj at first , this movie seems so bad that i almost fell in a xxunk the first time i saw it . xxmaj it was like a bad dream . a cosmic bore . xxmaj but i gave it a second chance , then another and another , etc ... i finally got addicted to this film , due to it 's dreamlike slow pace , wonderful natural sets , bathed in a mellow autumn light and especially the musical score , which is made of some 70 's xxunk rock and absolute exquisite folk songs by actor / singer / songwriter xxmaj derek xxmaj xxunk xxunk should notice the song about hazel wood , silver xxunk and lady vanishing in the air ... xxunk in the middle and near the end of the film . xxmaj there are some xxunk scenes in the beginning , xxunk allow us to appreciate the natural charms of xxmaj elizabeth xxmaj xxunk . xxmaj if that movie had been made by some \" repertoire \" directors like xxmaj bergman , xxmaj lars xxmaj von xxmaj xxunk or xxmaj jean - xxmaj luc xxmaj xxunk , critics would have rolled on the floor , xxunk about that movie as if it were a cosmic masterpiece . i personally think this film is one million times superior to any of xxmaj fellini 's cinematic sh # xxunk not for the pretentious .,xxbos xxmaj was this based on a comic - book ? a video - game ? a drawing by a 3 year - old ? \n",
              " \n",
              "  xxmaj there is nothing in this movie to be taken seriously at all ; not the characters , not the dialog , not the plot , not the action . xxmaj nothing . xxmaj we have high - tech international terrorists / criminals who bicker like pre - school kids , xxmaj stallone 's man - of - steel - type resilience towards ice - cold weather , dialog so dumb that it 's sometimes almost hilarious , and so on . xxmaj even the xxunk that the bad guys use is dumb ( \" tango - tango \" ) . a film that entertains through some suspense , good action - sequences , and a nice snowy mountainous setting . xxmaj oh , yes : and the unintentional humour . \n",
              " \n",
              "  xxmaj the film opens with some truly bad and unconvincing gay banter between our go - lucky and happy characters who are obviously having a \" swell \" time . xxmaj then comes a sweat - inducing failed - rescue part , which should make anyone with fear - of - heights problems want to pull their hair out . xxmaj and then we have some more bad dialog , and after that some more great action . xxmaj this is the rhythm of the film in a nutshell . \n",
              " \n",
              "  xxmaj stallone 's melodramatic exchange with xxmaj turner , when they meet after a long time , is so soapy , so clichéd , so fake , and so bad that it should force a chuckle out of any self - respecting viewer . xxmaj soon after this display of awful dialog - writing , we are witnesses to a spectacular and excellently shot hijack of an airplane . xxmaj the entire action is one big absurdity , but it 's mindless fun at its best . xxmaj although the rest of the action is exciting and fun , the airplane scenes are truly the highlight of the film . xxmaj after the landing , our master - criminals seek for a guide and end up with xxmaj stallone and xxmaj rooker . xxmaj they send xxmaj stallone to fetch the first case of money , but somehow they do everything to make it as difficult as possible for him to reach it ; they take most of his clothes off ( so he can freeze ) and they wo n't give him the equipment he needs ( so he can fall off ) . xxup do xxup these xxup gangsters xxup want xxup their xxup money xxup fetched xxup or xxup not ? ? ? xxmaj very silly . xxmaj apparently they do n't trust xxmaj stallone , but surely they know that they can always black - mail him by using xxmaj rooker as a hostage . xxmaj nevertheless , our gangsters make xxmaj stallone 's climb difficult , if for no logical reasons then to at least show us how truly evil they are - lest there be any doubts . xxmaj and for those who might still doubt how evil the bad guys are , they overact , brag , and snicker in a truly evil manner . xxmaj everyone convinced ? xxmaj good . xxmaj you 'd better be . xxmaj otherwise the writers will throw in a mass execution of twenty school children , just to make sure that the xxunk of the bad guys is crystal - clear to everyone . \n",
              " \n",
              "  xxmaj the old guy who flies the chopper ... xxmaj how the hell did he fall for the trap ? xxmaj firstly , he must have been warned by the xxup mtv airhead about the criminals , and secondly , he must have heard xxmaj stallone 's and xxmaj rooker 's voices on the xxunk - talkies . a whole bunch of idiotic verbal exchanges take place , with xxmaj lithgow having the questionable honour of getting most of the silly lines . \" xxmaj get off my back ! \" xxmaj lithgow : \" i have n't even started climbing on your back . \" xxmaj or , xxmaj lithgow to xxmaj stallone : \" xxmaj we had a deal , but now we only have each other ! \" xxmaj and as for xxmaj lithgow 's gang of murderers : these guys never seem to want to kill immediately . xxmaj they are very creative about it ; they xxunk , pretend that they are playing football with your body , and so on . \n",
              " \n",
              "  xxmaj stallone co - wrote this thing . i have no idea what drugs he was on when he did it . i 'd hate to think the script is this bad because of a low xxup i.q.,xxbos xxmaj melissa xxmaj joan xxmaj hart shines ! xxmaj this show is amazing ! ! xxmaj there is no match . xxmaj except for maybe xxmaj melissa in xxmaj xxunk xxmaj explains it xxmaj all . xxmaj she was marvelous in that , too . xxmaj this is xxup so much better than xxmaj xxunk , the xxmaj vampire xxmaj xxunk . xxmaj this show is xxup wonderful !\n",
              "y: CategoryList\n",
              "1,1,1,1,1\n",
              "Path: .;\n",
              "\n",
              "Valid: LabelList (1000 items)\n",
              "x: TextList\n",
              "xxbos xxmaj bug xxmaj juice changed my life . i xxmaj know it sounds strange , odd , weird . xxmaj but it did . i am from xxmaj england , xxmaj bug xxmaj juice never aired there but five years ago i went on vacation with my family and saw it on the xxmaj disney channel . xxmaj once i saw this xxup tv series i was hooked i wanted to go . xxmaj it took a lot of convincing to my parents to allow my brother and i to go to xxmaj xxunk . i have been going since i was 12 and it was my forth year this summer . xxmaj if you are a teenager reading this come to this camp it changes your life . you make life long friends at xxunk . xxmaj it does n't matter who you are or if someone at home does n't like you everyone likes you at camp . xxmaj you have so much fun . xxmaj if you want to have a look go on to xxunk and check it out for yourself . xxmaj it is so much fun i xxmaj love it there xxmaj it is my xxmaj home xxmaj away from xxmaj home,xxbos xxmaj as many of today 's movies are guilty of , the plot is n't exactly stellar , the movie does n't move anyone , and certainly this wo n't warrant any award ( outside of xxmaj blockbusters ' xxunk ... but then again , who really cares . \n",
              " \n",
              "  xxmaj eddie xxmaj murphy and xxmaj robert xxmaj de xxmaj niro team up to produce a very funny , at times hilarious , movie that i really enjoyed . xxmaj russo and xxmaj shatner played their small parts well as well . xxmaj man , i hope in the future my wife ages as well as xxmaj miss xxmaj renee has . \n",
              " \n",
              "  xxmaj moving along , this \" buddy \" cop - flick produces high laughs in a reasonable amount of time . xxmaj the movie is enjoyable enough to avoid the wait for video / dvd release and instead to go ahead and check it out . \n",
              " \n",
              "  xxmaj eddie xxmaj murphy is at his usual top - form and is downright enjoyable to watch . xxmaj de xxmaj niro has molded into this type of role perfectly . \n",
              " \n",
              "  i really enjoyed this movie and think that any true movie fan in need for a good movie or just a good laugh will really enjoy xxmaj showtime . \n",
              " \n",
              "  xxmaj top xxmaj performance : xxmaj murphy . xxmaj hilarious . xxmaj enough said . xxmaj directing xxmaj job : xxmaj nice . xxmaj nice action scenes , used xxmaj murphy and xxmaj de xxmaj niro together like a charm , xxmaj russo fed off in a nice supporting job . \n",
              " \n",
              "  xxmaj my xxmaj rating : 7 out 10 . xxmaj it 's not going to move you or anything ... but it 's an extremely enjoyable movie . \n",
              " \n",
              "  xxmaj it 's xxmaj showtime ... was a great success .,xxbos xxmaj this is one of the best movies i have ever seen . xxmaj it is about true love and friendship . xxmaj about turning your life around and doing something good for someone else . xxmaj thomas xxmaj bo xxmaj xxunk may play the same role he has done in so many other movies , but recently we have seen him in other roles which he does great too . xxmaj but so what if he plays the same role that he has done in other movies  he 's perfect for that role . xxmaj xxunk xxmaj xxunk does a great job too . xxmaj these two criminal \" low - xxunk \" are the best friends ever . xxmaj they share everything and they do everything for each other no matter what the costs are . xxmaj when they find out that xxmaj peter 's daughter is being abused they put everything on hold ( things you ca n't put on hold unless you have to make even more criminal acts ) and takes her to a better place . xxmaj they do the best they can  these two men are not xxunk but they have their heart in the right place . xxmaj all i can say is that xxmaj peter and xxmaj xxunk are my xxmaj biggest xxmaj heroes too \n",
              ",xxbos xxmaj this movie took me by surprise . xxmaj the opening credit sequence features nicely done animation . xxmaj after that , we 're xxunk into a semi - cheesy production , xxunk its low budget . xxmaj the characters , typical xxmaj american teens , are introduced slowly , with more personal detail than is usually found in movies like this . xxmaj by the time the xxunk hits the fan , we know each one of the characters , and either like or hate them according to their distinct personalities . xxmaj it 's a slow xxunk set - up , kind of like the ride up a xxunk of a really tall roller coaster . xxmaj thankfully , once the action kicks in , it 's full blown old school xxup horror ! xxmaj steve xxmaj johnson 's make - up effects are awesome . xxmaj equal in quality to much bigger budgeted films . xxmaj and the scares are xxunk . xxmaj kevin xxmaj xxunk delivers his best movie ever , with heart - stopping surprises and creepy suspenseful set - ups . xxmaj the tongue - in - cheek , sometimes cheesy , humor marks this film as pure 80s horror , as opposed to the xxunk tone of earlier genre fare like \" xxmaj night of the xxmaj living xxmaj dead \" or \" xxmaj hills xxmaj have xxmaj eyes . \" xxmaj but for true horror fans , this one is worth checking out . xxmaj play it as the first entry on a double bill with the 1999 remake of \" xxmaj house on the xxmaj haunted xxmaj hill . \" xxmaj the set - up and character dynamics are so similar that you really have to wonder what film they were actually xxunk ?,xxbos i am xxunk for the sequels . i needed something to keep me from going insane with tension , anxiety ( what if it is n't as good ? ! ) , and constant lack of information . i needed something to calm me a little , something to pass the time , other than , of course , xxmaj the xxmaj matrix . xxmaj this was just the thing . \n",
              " \n",
              "  i found it xxunk ( like the part about xxmaj keanu 's neck ... ) and some of it was funny . i xxunk xxmaj carrie - xxmaj anne s xxrep 4 o much when she said there was only one bathroom and all those guys . i found only one problem with it . xxmaj given that 95 % of the people there were as a matter of fact male , they just kinda let their mouths run wild , and there was language in it . xxmaj it 's not near as bad as xxmaj the xxmaj shawshank xxmaj redemption 's xxunk runs , but that one scene were xxmaj keanu is describing a bad day , plug your ears if you are little . xxunk \n",
              " \n",
              "  xxmaj it was entertaining and was just what i needed . xxmaj it is what all xxmaj matrix fans who are going nuts need to keep them quiet . xxmaj they mention a tiny bit about the sequels , and someone almost gives something away , but he catches himself in time ( shoot ! ) . xxmaj it gives you almost no spoilers , but it is great to have if you are a xxmaj matrix xxmaj head like me . \n",
              " \n",
              "  xxmaj there is no xxunk .\n",
              "y: CategoryList\n",
              "1,1,1,1,1\n",
              "Path: .;\n",
              "\n",
              "Test: None, model=SequentialRNN(\n",
              "  (0): MultiBatchEncoder(\n",
              "    (module): AWD_LSTM(\n",
              "      (encoder): Embedding(14385, 400, padding_idx=1)\n",
              "      (encoder_dp): EmbeddingDropout(\n",
              "        (emb): Embedding(14385, 400, padding_idx=1)\n",
              "      )\n",
              "      (rnns): ModuleList(\n",
              "        (0): WeightDropout(\n",
              "          (module): LSTM(400, 1150, batch_first=True)\n",
              "        )\n",
              "        (1): WeightDropout(\n",
              "          (module): LSTM(1150, 1150, batch_first=True)\n",
              "        )\n",
              "        (2): WeightDropout(\n",
              "          (module): LSTM(1150, 400, batch_first=True)\n",
              "        )\n",
              "      )\n",
              "      (input_dp): RNNDropout()\n",
              "      (hidden_dps): ModuleList(\n",
              "        (0): RNNDropout()\n",
              "        (1): RNNDropout()\n",
              "        (2): RNNDropout()\n",
              "      )\n",
              "    )\n",
              "  )\n",
              "  (1): PoolingLinearClassifier(\n",
              "    (layers): Sequential(\n",
              "      (0): BatchNorm1d(1200, eps=1e-05, momentum=0.1, affine=True, track_running_stats=True)\n",
              "      (1): Dropout(p=0.2)\n",
              "      (2): Linear(in_features=1200, out_features=50, bias=True)\n",
              "      (3): ReLU(inplace)\n",
              "      (4): BatchNorm1d(50, eps=1e-05, momentum=0.1, affine=True, track_running_stats=True)\n",
              "      (5): Dropout(p=0.1)\n",
              "      (6): Linear(in_features=50, out_features=2, bias=True)\n",
              "    )\n",
              "  )\n",
              "), opt_func=functools.partial(<class 'torch.optim.adam.Adam'>, betas=(0.9, 0.99)), loss_func=FlattenedLoss of CrossEntropyLoss(), metrics=[<function accuracy at 0x7f61b726e158>, Precision(average='binary', pos_label=1, eps=1e-09), Recall(average='binary', pos_label=1, eps=1e-09)], true_wd=True, bn_wd=True, wd=0.01, train_bn=True, path=PosixPath('.'), model_dir='models', callback_fns=[functools.partial(<class 'fastai.basic_train.Recorder'>, add_time=True)], callbacks=[...], layer_groups=[Sequential(\n",
              "  (0): Embedding(14385, 400, padding_idx=1)\n",
              "  (1): EmbeddingDropout(\n",
              "    (emb): Embedding(14385, 400, padding_idx=1)\n",
              "  )\n",
              "), Sequential(\n",
              "  (0): WeightDropout(\n",
              "    (module): LSTM(400, 1150, batch_first=True)\n",
              "  )\n",
              "  (1): RNNDropout()\n",
              "), Sequential(\n",
              "  (0): WeightDropout(\n",
              "    (module): LSTM(1150, 1150, batch_first=True)\n",
              "  )\n",
              "  (1): RNNDropout()\n",
              "), Sequential(\n",
              "  (0): WeightDropout(\n",
              "    (module): LSTM(1150, 400, batch_first=True)\n",
              "  )\n",
              "  (1): RNNDropout()\n",
              "), Sequential(\n",
              "  (0): PoolingLinearClassifier(\n",
              "    (layers): Sequential(\n",
              "      (0): BatchNorm1d(1200, eps=1e-05, momentum=0.1, affine=True, track_running_stats=True)\n",
              "      (1): Dropout(p=0.2)\n",
              "      (2): Linear(in_features=1200, out_features=50, bias=True)\n",
              "      (3): ReLU(inplace)\n",
              "      (4): BatchNorm1d(50, eps=1e-05, momentum=0.1, affine=True, track_running_stats=True)\n",
              "      (5): Dropout(p=0.1)\n",
              "      (6): Linear(in_features=50, out_features=2, bias=True)\n",
              "    )\n",
              "  )\n",
              ")], add_time=True)\n",
              "alpha: 2.0\n",
              "beta: 1.0], layer_groups=[Sequential(\n",
              "  (0): Embedding(14385, 400, padding_idx=1)\n",
              "  (1): EmbeddingDropout(\n",
              "    (emb): Embedding(14385, 400, padding_idx=1)\n",
              "  )\n",
              "), Sequential(\n",
              "  (0): WeightDropout(\n",
              "    (module): LSTM(400, 1150, batch_first=True)\n",
              "  )\n",
              "  (1): RNNDropout()\n",
              "), Sequential(\n",
              "  (0): WeightDropout(\n",
              "    (module): LSTM(1150, 1150, batch_first=True)\n",
              "  )\n",
              "  (1): RNNDropout()\n",
              "), Sequential(\n",
              "  (0): WeightDropout(\n",
              "    (module): LSTM(1150, 400, batch_first=True)\n",
              "  )\n",
              "  (1): RNNDropout()\n",
              "), Sequential(\n",
              "  (0): PoolingLinearClassifier(\n",
              "    (layers): Sequential(\n",
              "      (0): BatchNorm1d(1200, eps=1e-05, momentum=0.1, affine=True, track_running_stats=True)\n",
              "      (1): Dropout(p=0.2)\n",
              "      (2): Linear(in_features=1200, out_features=50, bias=True)\n",
              "      (3): ReLU(inplace)\n",
              "      (4): BatchNorm1d(50, eps=1e-05, momentum=0.1, affine=True, track_running_stats=True)\n",
              "      (5): Dropout(p=0.1)\n",
              "      (6): Linear(in_features=50, out_features=2, bias=True)\n",
              "    )\n",
              "  )\n",
              ")], add_time=True)"
            ]
          },
          "metadata": {
            "tags": []
          },
          "execution_count": 29
        }
      ]
    },
    {
      "metadata": {
        "id": "7pNqZGB6SLRl",
        "colab_type": "code",
        "colab": {}
      },
      "cell_type": "code",
      "source": [
        "learn.freeze_to(-2)"
      ],
      "execution_count": 0,
      "outputs": []
    },
    {
      "metadata": {
        "id": "_ISIWQg-jnDk",
        "colab_type": "code",
        "outputId": "7d97114d-f1a0-4010-f1f2-d9400a9d5a09",
        "colab": {
          "base_uri": "https://localhost:8080/",
          "height": 164
        }
      },
      "cell_type": "code",
      "source": [
        "learn.fit_one_cycle(3, slice(1e-2/(2.6**4),1e-2), moms=(0.8,0.7))"
      ],
      "execution_count": 31,
      "outputs": [
        {
          "output_type": "display_data",
          "data": {
            "text/html": [
              "Total time: 03:07 <p><table border=\"1\" class=\"dataframe\">\n",
              "  <thead>\n",
              "    <tr style=\"text-align: left;\">\n",
              "      <th>epoch</th>\n",
              "      <th>train_loss</th>\n",
              "      <th>valid_loss</th>\n",
              "      <th>accuracy</th>\n",
              "      <th>precision</th>\n",
              "      <th>recall</th>\n",
              "      <th>time</th>\n",
              "    </tr>\n",
              "  </thead>\n",
              "  <tbody>\n",
              "    <tr>\n",
              "      <td>0</td>\n",
              "      <td>0.464443</td>\n",
              "      <td>0.436472</td>\n",
              "      <td>0.789000</td>\n",
              "      <td>0.736498</td>\n",
              "      <td>0.900000</td>\n",
              "      <td>01:03</td>\n",
              "    </tr>\n",
              "    <tr>\n",
              "      <td>1</td>\n",
              "      <td>0.428971</td>\n",
              "      <td>0.364226</td>\n",
              "      <td>0.838000</td>\n",
              "      <td>0.806159</td>\n",
              "      <td>0.890000</td>\n",
              "      <td>01:02</td>\n",
              "    </tr>\n",
              "    <tr>\n",
              "      <td>2</td>\n",
              "      <td>0.365489</td>\n",
              "      <td>0.337702</td>\n",
              "      <td>0.858000</td>\n",
              "      <td>0.830258</td>\n",
              "      <td>0.900000</td>\n",
              "      <td>01:02</td>\n",
              "    </tr>\n",
              "  </tbody>\n",
              "</table>"
            ],
            "text/plain": [
              "<IPython.core.display.HTML object>"
            ]
          },
          "metadata": {
            "tags": []
          }
        }
      ]
    },
    {
      "metadata": {
        "id": "sf3zc02YRzmD",
        "colab_type": "code",
        "colab": {
          "base_uri": "https://localhost:8080/",
          "height": 4128
        },
        "outputId": "dcfcc91c-c759-4c0e-ada5-adca5f74677d"
      },
      "cell_type": "code",
      "source": [
        "learn.save('second')\n",
        "learn.load('second')"
      ],
      "execution_count": 32,
      "outputs": [
        {
          "output_type": "execute_result",
          "data": {
            "text/plain": [
              "RNNLearner(data=TextClasDataBunch;\n",
              "\n",
              "Train: LabelList (2000 items)\n",
              "x: TextList\n",
              "xxbos i have watched this episode more often than any other xxup xxunk episode , it is that enjoyable . xxmaj and it is quite scary , but all in good , xxunk fun . a woman kills her 2nd husband but runs into a problem when an escaped maniac in a xxunk xxmaj santa xxmaj claus outfit decides to pay her and her little girl a visit at that very moment . xxmaj mary xxmaj xxunk , who i seem to remember from xxup snl or some other xxup tv comedy skit show , is the evil wife , and xxmaj larry xxmaj drake plays the lunatic in the xxunk xxmaj santa outfit . i had forgotten xxmaj santa was played by xxmaj drake over the years . xxmaj his xxmaj santa is an unstoppable force and quite frightening at times . xxmaj you can probably guess how xxmaj santa finally gets into the house . xxmaj the episode is played for laughs , but it also can be pretty intense at times .,xxbos xxmaj as many reviewers here have noted , the film version differs quite a bit from the stage version of the story . i have never seen the stage version of the story , and therefore i have a more favorable review of the film than many other reviewers . xxmaj perhaps xxmaj richard xxmaj attenborough was not the best choice for director of the film , but the film is still an entertaining account of several dancers trying to make the big time in choreographer xxmaj michael xxmaj douglas ' show . xxmaj the film does right by not selecting any famous actors or performers to wind up in the final try - out group . xxmaj this way our attention is focused on the dancers ' movements and individual stories and struggles as they unfold during a marathon day of try - outs . xxmaj douglas is also probably not the best choice for the part . xxmaj apparently some songs were cut out in favor of a new one , and the xxunk cliché - ridden story of a romantic liaison between a dancer and the choreographer was added . i have to say in all xxunk this was the weakest part of the film . xxmaj the repeated xxunk xxmaj xxunk made during try - outs appear to mirror the almost desperate xxunk one often has to make when engaging in the artistic xxunk in the absence of talent and / or luck . xxmaj however , this aspect of the film has been done to death in the past , and it 's curious to see this tired old shoe kicking its xxunk up once again . xxmaj the revelations of the dancers themselves began promisingly enough with the \" i can do that \" number , but then it xxunk a little at various points while the dancers were telling their stories . xxmaj frankly , their stories xxunk little from real life folks who never get a chance like this . * * * of 4 stars .,xxbos xxmaj at first , this movie seems so bad that i almost fell in a xxunk the first time i saw it . xxmaj it was like a bad dream . a cosmic bore . xxmaj but i gave it a second chance , then another and another , etc ... i finally got addicted to this film , due to it 's dreamlike slow pace , wonderful natural sets , bathed in a mellow autumn light and especially the musical score , which is made of some 70 's xxunk rock and absolute exquisite folk songs by actor / singer / songwriter xxmaj derek xxmaj xxunk xxunk should notice the song about hazel wood , silver xxunk and lady vanishing in the air ... xxunk in the middle and near the end of the film . xxmaj there are some xxunk scenes in the beginning , xxunk allow us to appreciate the natural charms of xxmaj elizabeth xxmaj xxunk . xxmaj if that movie had been made by some \" repertoire \" directors like xxmaj bergman , xxmaj lars xxmaj von xxmaj xxunk or xxmaj jean - xxmaj luc xxmaj xxunk , critics would have rolled on the floor , xxunk about that movie as if it were a cosmic masterpiece . i personally think this film is one million times superior to any of xxmaj fellini 's cinematic sh # xxunk not for the pretentious .,xxbos xxmaj was this based on a comic - book ? a video - game ? a drawing by a 3 year - old ? \n",
              " \n",
              "  xxmaj there is nothing in this movie to be taken seriously at all ; not the characters , not the dialog , not the plot , not the action . xxmaj nothing . xxmaj we have high - tech international terrorists / criminals who bicker like pre - school kids , xxmaj stallone 's man - of - steel - type resilience towards ice - cold weather , dialog so dumb that it 's sometimes almost hilarious , and so on . xxmaj even the xxunk that the bad guys use is dumb ( \" tango - tango \" ) . a film that entertains through some suspense , good action - sequences , and a nice snowy mountainous setting . xxmaj oh , yes : and the unintentional humour . \n",
              " \n",
              "  xxmaj the film opens with some truly bad and unconvincing gay banter between our go - lucky and happy characters who are obviously having a \" swell \" time . xxmaj then comes a sweat - inducing failed - rescue part , which should make anyone with fear - of - heights problems want to pull their hair out . xxmaj and then we have some more bad dialog , and after that some more great action . xxmaj this is the rhythm of the film in a nutshell . \n",
              " \n",
              "  xxmaj stallone 's melodramatic exchange with xxmaj turner , when they meet after a long time , is so soapy , so clichéd , so fake , and so bad that it should force a chuckle out of any self - respecting viewer . xxmaj soon after this display of awful dialog - writing , we are witnesses to a spectacular and excellently shot hijack of an airplane . xxmaj the entire action is one big absurdity , but it 's mindless fun at its best . xxmaj although the rest of the action is exciting and fun , the airplane scenes are truly the highlight of the film . xxmaj after the landing , our master - criminals seek for a guide and end up with xxmaj stallone and xxmaj rooker . xxmaj they send xxmaj stallone to fetch the first case of money , but somehow they do everything to make it as difficult as possible for him to reach it ; they take most of his clothes off ( so he can freeze ) and they wo n't give him the equipment he needs ( so he can fall off ) . xxup do xxup these xxup gangsters xxup want xxup their xxup money xxup fetched xxup or xxup not ? ? ? xxmaj very silly . xxmaj apparently they do n't trust xxmaj stallone , but surely they know that they can always black - mail him by using xxmaj rooker as a hostage . xxmaj nevertheless , our gangsters make xxmaj stallone 's climb difficult , if for no logical reasons then to at least show us how truly evil they are - lest there be any doubts . xxmaj and for those who might still doubt how evil the bad guys are , they overact , brag , and snicker in a truly evil manner . xxmaj everyone convinced ? xxmaj good . xxmaj you 'd better be . xxmaj otherwise the writers will throw in a mass execution of twenty school children , just to make sure that the xxunk of the bad guys is crystal - clear to everyone . \n",
              " \n",
              "  xxmaj the old guy who flies the chopper ... xxmaj how the hell did he fall for the trap ? xxmaj firstly , he must have been warned by the xxup mtv airhead about the criminals , and secondly , he must have heard xxmaj stallone 's and xxmaj rooker 's voices on the xxunk - talkies . a whole bunch of idiotic verbal exchanges take place , with xxmaj lithgow having the questionable honour of getting most of the silly lines . \" xxmaj get off my back ! \" xxmaj lithgow : \" i have n't even started climbing on your back . \" xxmaj or , xxmaj lithgow to xxmaj stallone : \" xxmaj we had a deal , but now we only have each other ! \" xxmaj and as for xxmaj lithgow 's gang of murderers : these guys never seem to want to kill immediately . xxmaj they are very creative about it ; they xxunk , pretend that they are playing football with your body , and so on . \n",
              " \n",
              "  xxmaj stallone co - wrote this thing . i have no idea what drugs he was on when he did it . i 'd hate to think the script is this bad because of a low xxup i.q.,xxbos xxmaj melissa xxmaj joan xxmaj hart shines ! xxmaj this show is amazing ! ! xxmaj there is no match . xxmaj except for maybe xxmaj melissa in xxmaj xxunk xxmaj explains it xxmaj all . xxmaj she was marvelous in that , too . xxmaj this is xxup so much better than xxmaj xxunk , the xxmaj vampire xxmaj xxunk . xxmaj this show is xxup wonderful !\n",
              "y: CategoryList\n",
              "1,1,1,1,1\n",
              "Path: .;\n",
              "\n",
              "Valid: LabelList (1000 items)\n",
              "x: TextList\n",
              "xxbos xxmaj bug xxmaj juice changed my life . i xxmaj know it sounds strange , odd , weird . xxmaj but it did . i am from xxmaj england , xxmaj bug xxmaj juice never aired there but five years ago i went on vacation with my family and saw it on the xxmaj disney channel . xxmaj once i saw this xxup tv series i was hooked i wanted to go . xxmaj it took a lot of convincing to my parents to allow my brother and i to go to xxmaj xxunk . i have been going since i was 12 and it was my forth year this summer . xxmaj if you are a teenager reading this come to this camp it changes your life . you make life long friends at xxunk . xxmaj it does n't matter who you are or if someone at home does n't like you everyone likes you at camp . xxmaj you have so much fun . xxmaj if you want to have a look go on to xxunk and check it out for yourself . xxmaj it is so much fun i xxmaj love it there xxmaj it is my xxmaj home xxmaj away from xxmaj home,xxbos xxmaj as many of today 's movies are guilty of , the plot is n't exactly stellar , the movie does n't move anyone , and certainly this wo n't warrant any award ( outside of xxmaj blockbusters ' xxunk ... but then again , who really cares . \n",
              " \n",
              "  xxmaj eddie xxmaj murphy and xxmaj robert xxmaj de xxmaj niro team up to produce a very funny , at times hilarious , movie that i really enjoyed . xxmaj russo and xxmaj shatner played their small parts well as well . xxmaj man , i hope in the future my wife ages as well as xxmaj miss xxmaj renee has . \n",
              " \n",
              "  xxmaj moving along , this \" buddy \" cop - flick produces high laughs in a reasonable amount of time . xxmaj the movie is enjoyable enough to avoid the wait for video / dvd release and instead to go ahead and check it out . \n",
              " \n",
              "  xxmaj eddie xxmaj murphy is at his usual top - form and is downright enjoyable to watch . xxmaj de xxmaj niro has molded into this type of role perfectly . \n",
              " \n",
              "  i really enjoyed this movie and think that any true movie fan in need for a good movie or just a good laugh will really enjoy xxmaj showtime . \n",
              " \n",
              "  xxmaj top xxmaj performance : xxmaj murphy . xxmaj hilarious . xxmaj enough said . xxmaj directing xxmaj job : xxmaj nice . xxmaj nice action scenes , used xxmaj murphy and xxmaj de xxmaj niro together like a charm , xxmaj russo fed off in a nice supporting job . \n",
              " \n",
              "  xxmaj my xxmaj rating : 7 out 10 . xxmaj it 's not going to move you or anything ... but it 's an extremely enjoyable movie . \n",
              " \n",
              "  xxmaj it 's xxmaj showtime ... was a great success .,xxbos xxmaj this is one of the best movies i have ever seen . xxmaj it is about true love and friendship . xxmaj about turning your life around and doing something good for someone else . xxmaj thomas xxmaj bo xxmaj xxunk may play the same role he has done in so many other movies , but recently we have seen him in other roles which he does great too . xxmaj but so what if he plays the same role that he has done in other movies  he 's perfect for that role . xxmaj xxunk xxmaj xxunk does a great job too . xxmaj these two criminal \" low - xxunk \" are the best friends ever . xxmaj they share everything and they do everything for each other no matter what the costs are . xxmaj when they find out that xxmaj peter 's daughter is being abused they put everything on hold ( things you ca n't put on hold unless you have to make even more criminal acts ) and takes her to a better place . xxmaj they do the best they can  these two men are not xxunk but they have their heart in the right place . xxmaj all i can say is that xxmaj peter and xxmaj xxunk are my xxmaj biggest xxmaj heroes too \n",
              ",xxbos xxmaj this movie took me by surprise . xxmaj the opening credit sequence features nicely done animation . xxmaj after that , we 're xxunk into a semi - cheesy production , xxunk its low budget . xxmaj the characters , typical xxmaj american teens , are introduced slowly , with more personal detail than is usually found in movies like this . xxmaj by the time the xxunk hits the fan , we know each one of the characters , and either like or hate them according to their distinct personalities . xxmaj it 's a slow xxunk set - up , kind of like the ride up a xxunk of a really tall roller coaster . xxmaj thankfully , once the action kicks in , it 's full blown old school xxup horror ! xxmaj steve xxmaj johnson 's make - up effects are awesome . xxmaj equal in quality to much bigger budgeted films . xxmaj and the scares are xxunk . xxmaj kevin xxmaj xxunk delivers his best movie ever , with heart - stopping surprises and creepy suspenseful set - ups . xxmaj the tongue - in - cheek , sometimes cheesy , humor marks this film as pure 80s horror , as opposed to the xxunk tone of earlier genre fare like \" xxmaj night of the xxmaj living xxmaj dead \" or \" xxmaj hills xxmaj have xxmaj eyes . \" xxmaj but for true horror fans , this one is worth checking out . xxmaj play it as the first entry on a double bill with the 1999 remake of \" xxmaj house on the xxmaj haunted xxmaj hill . \" xxmaj the set - up and character dynamics are so similar that you really have to wonder what film they were actually xxunk ?,xxbos i am xxunk for the sequels . i needed something to keep me from going insane with tension , anxiety ( what if it is n't as good ? ! ) , and constant lack of information . i needed something to calm me a little , something to pass the time , other than , of course , xxmaj the xxmaj matrix . xxmaj this was just the thing . \n",
              " \n",
              "  i found it xxunk ( like the part about xxmaj keanu 's neck ... ) and some of it was funny . i xxunk xxmaj carrie - xxmaj anne s xxrep 4 o much when she said there was only one bathroom and all those guys . i found only one problem with it . xxmaj given that 95 % of the people there were as a matter of fact male , they just kinda let their mouths run wild , and there was language in it . xxmaj it 's not near as bad as xxmaj the xxmaj shawshank xxmaj redemption 's xxunk runs , but that one scene were xxmaj keanu is describing a bad day , plug your ears if you are little . xxunk \n",
              " \n",
              "  xxmaj it was entertaining and was just what i needed . xxmaj it is what all xxmaj matrix fans who are going nuts need to keep them quiet . xxmaj they mention a tiny bit about the sequels , and someone almost gives something away , but he catches himself in time ( shoot ! ) . xxmaj it gives you almost no spoilers , but it is great to have if you are a xxmaj matrix xxmaj head like me . \n",
              " \n",
              "  xxmaj there is no xxunk .\n",
              "y: CategoryList\n",
              "1,1,1,1,1\n",
              "Path: .;\n",
              "\n",
              "Test: None, model=SequentialRNN(\n",
              "  (0): MultiBatchEncoder(\n",
              "    (module): AWD_LSTM(\n",
              "      (encoder): Embedding(14385, 400, padding_idx=1)\n",
              "      (encoder_dp): EmbeddingDropout(\n",
              "        (emb): Embedding(14385, 400, padding_idx=1)\n",
              "      )\n",
              "      (rnns): ModuleList(\n",
              "        (0): WeightDropout(\n",
              "          (module): LSTM(400, 1150, batch_first=True)\n",
              "        )\n",
              "        (1): WeightDropout(\n",
              "          (module): LSTM(1150, 1150, batch_first=True)\n",
              "        )\n",
              "        (2): WeightDropout(\n",
              "          (module): LSTM(1150, 400, batch_first=True)\n",
              "        )\n",
              "      )\n",
              "      (input_dp): RNNDropout()\n",
              "      (hidden_dps): ModuleList(\n",
              "        (0): RNNDropout()\n",
              "        (1): RNNDropout()\n",
              "        (2): RNNDropout()\n",
              "      )\n",
              "    )\n",
              "  )\n",
              "  (1): PoolingLinearClassifier(\n",
              "    (layers): Sequential(\n",
              "      (0): BatchNorm1d(1200, eps=1e-05, momentum=0.1, affine=True, track_running_stats=True)\n",
              "      (1): Dropout(p=0.2)\n",
              "      (2): Linear(in_features=1200, out_features=50, bias=True)\n",
              "      (3): ReLU(inplace)\n",
              "      (4): BatchNorm1d(50, eps=1e-05, momentum=0.1, affine=True, track_running_stats=True)\n",
              "      (5): Dropout(p=0.1)\n",
              "      (6): Linear(in_features=50, out_features=2, bias=True)\n",
              "    )\n",
              "  )\n",
              "), opt_func=functools.partial(<class 'torch.optim.adam.Adam'>, betas=(0.9, 0.99)), loss_func=FlattenedLoss of CrossEntropyLoss(), metrics=[<function accuracy at 0x7f61b726e158>, Precision(average='binary', pos_label=1, eps=1e-09), Recall(average='binary', pos_label=1, eps=1e-09)], true_wd=True, bn_wd=True, wd=0.01, train_bn=True, path=PosixPath('.'), model_dir='models', callback_fns=[functools.partial(<class 'fastai.basic_train.Recorder'>, add_time=True)], callbacks=[RNNTrainer\n",
              "learn: RNNLearner(data=TextClasDataBunch;\n",
              "\n",
              "Train: LabelList (2000 items)\n",
              "x: TextList\n",
              "xxbos i have watched this episode more often than any other xxup xxunk episode , it is that enjoyable . xxmaj and it is quite scary , but all in good , xxunk fun . a woman kills her 2nd husband but runs into a problem when an escaped maniac in a xxunk xxmaj santa xxmaj claus outfit decides to pay her and her little girl a visit at that very moment . xxmaj mary xxmaj xxunk , who i seem to remember from xxup snl or some other xxup tv comedy skit show , is the evil wife , and xxmaj larry xxmaj drake plays the lunatic in the xxunk xxmaj santa outfit . i had forgotten xxmaj santa was played by xxmaj drake over the years . xxmaj his xxmaj santa is an unstoppable force and quite frightening at times . xxmaj you can probably guess how xxmaj santa finally gets into the house . xxmaj the episode is played for laughs , but it also can be pretty intense at times .,xxbos xxmaj as many reviewers here have noted , the film version differs quite a bit from the stage version of the story . i have never seen the stage version of the story , and therefore i have a more favorable review of the film than many other reviewers . xxmaj perhaps xxmaj richard xxmaj attenborough was not the best choice for director of the film , but the film is still an entertaining account of several dancers trying to make the big time in choreographer xxmaj michael xxmaj douglas ' show . xxmaj the film does right by not selecting any famous actors or performers to wind up in the final try - out group . xxmaj this way our attention is focused on the dancers ' movements and individual stories and struggles as they unfold during a marathon day of try - outs . xxmaj douglas is also probably not the best choice for the part . xxmaj apparently some songs were cut out in favor of a new one , and the xxunk cliché - ridden story of a romantic liaison between a dancer and the choreographer was added . i have to say in all xxunk this was the weakest part of the film . xxmaj the repeated xxunk xxmaj xxunk made during try - outs appear to mirror the almost desperate xxunk one often has to make when engaging in the artistic xxunk in the absence of talent and / or luck . xxmaj however , this aspect of the film has been done to death in the past , and it 's curious to see this tired old shoe kicking its xxunk up once again . xxmaj the revelations of the dancers themselves began promisingly enough with the \" i can do that \" number , but then it xxunk a little at various points while the dancers were telling their stories . xxmaj frankly , their stories xxunk little from real life folks who never get a chance like this . * * * of 4 stars .,xxbos xxmaj at first , this movie seems so bad that i almost fell in a xxunk the first time i saw it . xxmaj it was like a bad dream . a cosmic bore . xxmaj but i gave it a second chance , then another and another , etc ... i finally got addicted to this film , due to it 's dreamlike slow pace , wonderful natural sets , bathed in a mellow autumn light and especially the musical score , which is made of some 70 's xxunk rock and absolute exquisite folk songs by actor / singer / songwriter xxmaj derek xxmaj xxunk xxunk should notice the song about hazel wood , silver xxunk and lady vanishing in the air ... xxunk in the middle and near the end of the film . xxmaj there are some xxunk scenes in the beginning , xxunk allow us to appreciate the natural charms of xxmaj elizabeth xxmaj xxunk . xxmaj if that movie had been made by some \" repertoire \" directors like xxmaj bergman , xxmaj lars xxmaj von xxmaj xxunk or xxmaj jean - xxmaj luc xxmaj xxunk , critics would have rolled on the floor , xxunk about that movie as if it were a cosmic masterpiece . i personally think this film is one million times superior to any of xxmaj fellini 's cinematic sh # xxunk not for the pretentious .,xxbos xxmaj was this based on a comic - book ? a video - game ? a drawing by a 3 year - old ? \n",
              " \n",
              "  xxmaj there is nothing in this movie to be taken seriously at all ; not the characters , not the dialog , not the plot , not the action . xxmaj nothing . xxmaj we have high - tech international terrorists / criminals who bicker like pre - school kids , xxmaj stallone 's man - of - steel - type resilience towards ice - cold weather , dialog so dumb that it 's sometimes almost hilarious , and so on . xxmaj even the xxunk that the bad guys use is dumb ( \" tango - tango \" ) . a film that entertains through some suspense , good action - sequences , and a nice snowy mountainous setting . xxmaj oh , yes : and the unintentional humour . \n",
              " \n",
              "  xxmaj the film opens with some truly bad and unconvincing gay banter between our go - lucky and happy characters who are obviously having a \" swell \" time . xxmaj then comes a sweat - inducing failed - rescue part , which should make anyone with fear - of - heights problems want to pull their hair out . xxmaj and then we have some more bad dialog , and after that some more great action . xxmaj this is the rhythm of the film in a nutshell . \n",
              " \n",
              "  xxmaj stallone 's melodramatic exchange with xxmaj turner , when they meet after a long time , is so soapy , so clichéd , so fake , and so bad that it should force a chuckle out of any self - respecting viewer . xxmaj soon after this display of awful dialog - writing , we are witnesses to a spectacular and excellently shot hijack of an airplane . xxmaj the entire action is one big absurdity , but it 's mindless fun at its best . xxmaj although the rest of the action is exciting and fun , the airplane scenes are truly the highlight of the film . xxmaj after the landing , our master - criminals seek for a guide and end up with xxmaj stallone and xxmaj rooker . xxmaj they send xxmaj stallone to fetch the first case of money , but somehow they do everything to make it as difficult as possible for him to reach it ; they take most of his clothes off ( so he can freeze ) and they wo n't give him the equipment he needs ( so he can fall off ) . xxup do xxup these xxup gangsters xxup want xxup their xxup money xxup fetched xxup or xxup not ? ? ? xxmaj very silly . xxmaj apparently they do n't trust xxmaj stallone , but surely they know that they can always black - mail him by using xxmaj rooker as a hostage . xxmaj nevertheless , our gangsters make xxmaj stallone 's climb difficult , if for no logical reasons then to at least show us how truly evil they are - lest there be any doubts . xxmaj and for those who might still doubt how evil the bad guys are , they overact , brag , and snicker in a truly evil manner . xxmaj everyone convinced ? xxmaj good . xxmaj you 'd better be . xxmaj otherwise the writers will throw in a mass execution of twenty school children , just to make sure that the xxunk of the bad guys is crystal - clear to everyone . \n",
              " \n",
              "  xxmaj the old guy who flies the chopper ... xxmaj how the hell did he fall for the trap ? xxmaj firstly , he must have been warned by the xxup mtv airhead about the criminals , and secondly , he must have heard xxmaj stallone 's and xxmaj rooker 's voices on the xxunk - talkies . a whole bunch of idiotic verbal exchanges take place , with xxmaj lithgow having the questionable honour of getting most of the silly lines . \" xxmaj get off my back ! \" xxmaj lithgow : \" i have n't even started climbing on your back . \" xxmaj or , xxmaj lithgow to xxmaj stallone : \" xxmaj we had a deal , but now we only have each other ! \" xxmaj and as for xxmaj lithgow 's gang of murderers : these guys never seem to want to kill immediately . xxmaj they are very creative about it ; they xxunk , pretend that they are playing football with your body , and so on . \n",
              " \n",
              "  xxmaj stallone co - wrote this thing . i have no idea what drugs he was on when he did it . i 'd hate to think the script is this bad because of a low xxup i.q.,xxbos xxmaj melissa xxmaj joan xxmaj hart shines ! xxmaj this show is amazing ! ! xxmaj there is no match . xxmaj except for maybe xxmaj melissa in xxmaj xxunk xxmaj explains it xxmaj all . xxmaj she was marvelous in that , too . xxmaj this is xxup so much better than xxmaj xxunk , the xxmaj vampire xxmaj xxunk . xxmaj this show is xxup wonderful !\n",
              "y: CategoryList\n",
              "1,1,1,1,1\n",
              "Path: .;\n",
              "\n",
              "Valid: LabelList (1000 items)\n",
              "x: TextList\n",
              "xxbos xxmaj bug xxmaj juice changed my life . i xxmaj know it sounds strange , odd , weird . xxmaj but it did . i am from xxmaj england , xxmaj bug xxmaj juice never aired there but five years ago i went on vacation with my family and saw it on the xxmaj disney channel . xxmaj once i saw this xxup tv series i was hooked i wanted to go . xxmaj it took a lot of convincing to my parents to allow my brother and i to go to xxmaj xxunk . i have been going since i was 12 and it was my forth year this summer . xxmaj if you are a teenager reading this come to this camp it changes your life . you make life long friends at xxunk . xxmaj it does n't matter who you are or if someone at home does n't like you everyone likes you at camp . xxmaj you have so much fun . xxmaj if you want to have a look go on to xxunk and check it out for yourself . xxmaj it is so much fun i xxmaj love it there xxmaj it is my xxmaj home xxmaj away from xxmaj home,xxbos xxmaj as many of today 's movies are guilty of , the plot is n't exactly stellar , the movie does n't move anyone , and certainly this wo n't warrant any award ( outside of xxmaj blockbusters ' xxunk ... but then again , who really cares . \n",
              " \n",
              "  xxmaj eddie xxmaj murphy and xxmaj robert xxmaj de xxmaj niro team up to produce a very funny , at times hilarious , movie that i really enjoyed . xxmaj russo and xxmaj shatner played their small parts well as well . xxmaj man , i hope in the future my wife ages as well as xxmaj miss xxmaj renee has . \n",
              " \n",
              "  xxmaj moving along , this \" buddy \" cop - flick produces high laughs in a reasonable amount of time . xxmaj the movie is enjoyable enough to avoid the wait for video / dvd release and instead to go ahead and check it out . \n",
              " \n",
              "  xxmaj eddie xxmaj murphy is at his usual top - form and is downright enjoyable to watch . xxmaj de xxmaj niro has molded into this type of role perfectly . \n",
              " \n",
              "  i really enjoyed this movie and think that any true movie fan in need for a good movie or just a good laugh will really enjoy xxmaj showtime . \n",
              " \n",
              "  xxmaj top xxmaj performance : xxmaj murphy . xxmaj hilarious . xxmaj enough said . xxmaj directing xxmaj job : xxmaj nice . xxmaj nice action scenes , used xxmaj murphy and xxmaj de xxmaj niro together like a charm , xxmaj russo fed off in a nice supporting job . \n",
              " \n",
              "  xxmaj my xxmaj rating : 7 out 10 . xxmaj it 's not going to move you or anything ... but it 's an extremely enjoyable movie . \n",
              " \n",
              "  xxmaj it 's xxmaj showtime ... was a great success .,xxbos xxmaj this is one of the best movies i have ever seen . xxmaj it is about true love and friendship . xxmaj about turning your life around and doing something good for someone else . xxmaj thomas xxmaj bo xxmaj xxunk may play the same role he has done in so many other movies , but recently we have seen him in other roles which he does great too . xxmaj but so what if he plays the same role that he has done in other movies  he 's perfect for that role . xxmaj xxunk xxmaj xxunk does a great job too . xxmaj these two criminal \" low - xxunk \" are the best friends ever . xxmaj they share everything and they do everything for each other no matter what the costs are . xxmaj when they find out that xxmaj peter 's daughter is being abused they put everything on hold ( things you ca n't put on hold unless you have to make even more criminal acts ) and takes her to a better place . xxmaj they do the best they can  these two men are not xxunk but they have their heart in the right place . xxmaj all i can say is that xxmaj peter and xxmaj xxunk are my xxmaj biggest xxmaj heroes too \n",
              ",xxbos xxmaj this movie took me by surprise . xxmaj the opening credit sequence features nicely done animation . xxmaj after that , we 're xxunk into a semi - cheesy production , xxunk its low budget . xxmaj the characters , typical xxmaj american teens , are introduced slowly , with more personal detail than is usually found in movies like this . xxmaj by the time the xxunk hits the fan , we know each one of the characters , and either like or hate them according to their distinct personalities . xxmaj it 's a slow xxunk set - up , kind of like the ride up a xxunk of a really tall roller coaster . xxmaj thankfully , once the action kicks in , it 's full blown old school xxup horror ! xxmaj steve xxmaj johnson 's make - up effects are awesome . xxmaj equal in quality to much bigger budgeted films . xxmaj and the scares are xxunk . xxmaj kevin xxmaj xxunk delivers his best movie ever , with heart - stopping surprises and creepy suspenseful set - ups . xxmaj the tongue - in - cheek , sometimes cheesy , humor marks this film as pure 80s horror , as opposed to the xxunk tone of earlier genre fare like \" xxmaj night of the xxmaj living xxmaj dead \" or \" xxmaj hills xxmaj have xxmaj eyes . \" xxmaj but for true horror fans , this one is worth checking out . xxmaj play it as the first entry on a double bill with the 1999 remake of \" xxmaj house on the xxmaj haunted xxmaj hill . \" xxmaj the set - up and character dynamics are so similar that you really have to wonder what film they were actually xxunk ?,xxbos i am xxunk for the sequels . i needed something to keep me from going insane with tension , anxiety ( what if it is n't as good ? ! ) , and constant lack of information . i needed something to calm me a little , something to pass the time , other than , of course , xxmaj the xxmaj matrix . xxmaj this was just the thing . \n",
              " \n",
              "  i found it xxunk ( like the part about xxmaj keanu 's neck ... ) and some of it was funny . i xxunk xxmaj carrie - xxmaj anne s xxrep 4 o much when she said there was only one bathroom and all those guys . i found only one problem with it . xxmaj given that 95 % of the people there were as a matter of fact male , they just kinda let their mouths run wild , and there was language in it . xxmaj it 's not near as bad as xxmaj the xxmaj shawshank xxmaj redemption 's xxunk runs , but that one scene were xxmaj keanu is describing a bad day , plug your ears if you are little . xxunk \n",
              " \n",
              "  xxmaj it was entertaining and was just what i needed . xxmaj it is what all xxmaj matrix fans who are going nuts need to keep them quiet . xxmaj they mention a tiny bit about the sequels , and someone almost gives something away , but he catches himself in time ( shoot ! ) . xxmaj it gives you almost no spoilers , but it is great to have if you are a xxmaj matrix xxmaj head like me . \n",
              " \n",
              "  xxmaj there is no xxunk .\n",
              "y: CategoryList\n",
              "1,1,1,1,1\n",
              "Path: .;\n",
              "\n",
              "Test: None, model=SequentialRNN(\n",
              "  (0): MultiBatchEncoder(\n",
              "    (module): AWD_LSTM(\n",
              "      (encoder): Embedding(14385, 400, padding_idx=1)\n",
              "      (encoder_dp): EmbeddingDropout(\n",
              "        (emb): Embedding(14385, 400, padding_idx=1)\n",
              "      )\n",
              "      (rnns): ModuleList(\n",
              "        (0): WeightDropout(\n",
              "          (module): LSTM(400, 1150, batch_first=True)\n",
              "        )\n",
              "        (1): WeightDropout(\n",
              "          (module): LSTM(1150, 1150, batch_first=True)\n",
              "        )\n",
              "        (2): WeightDropout(\n",
              "          (module): LSTM(1150, 400, batch_first=True)\n",
              "        )\n",
              "      )\n",
              "      (input_dp): RNNDropout()\n",
              "      (hidden_dps): ModuleList(\n",
              "        (0): RNNDropout()\n",
              "        (1): RNNDropout()\n",
              "        (2): RNNDropout()\n",
              "      )\n",
              "    )\n",
              "  )\n",
              "  (1): PoolingLinearClassifier(\n",
              "    (layers): Sequential(\n",
              "      (0): BatchNorm1d(1200, eps=1e-05, momentum=0.1, affine=True, track_running_stats=True)\n",
              "      (1): Dropout(p=0.2)\n",
              "      (2): Linear(in_features=1200, out_features=50, bias=True)\n",
              "      (3): ReLU(inplace)\n",
              "      (4): BatchNorm1d(50, eps=1e-05, momentum=0.1, affine=True, track_running_stats=True)\n",
              "      (5): Dropout(p=0.1)\n",
              "      (6): Linear(in_features=50, out_features=2, bias=True)\n",
              "    )\n",
              "  )\n",
              "), opt_func=functools.partial(<class 'torch.optim.adam.Adam'>, betas=(0.9, 0.99)), loss_func=FlattenedLoss of CrossEntropyLoss(), metrics=[<function accuracy at 0x7f61b726e158>, Precision(average='binary', pos_label=1, eps=1e-09), Recall(average='binary', pos_label=1, eps=1e-09)], true_wd=True, bn_wd=True, wd=0.01, train_bn=True, path=PosixPath('.'), model_dir='models', callback_fns=[functools.partial(<class 'fastai.basic_train.Recorder'>, add_time=True)], callbacks=[...], layer_groups=[Sequential(\n",
              "  (0): Embedding(14385, 400, padding_idx=1)\n",
              "  (1): EmbeddingDropout(\n",
              "    (emb): Embedding(14385, 400, padding_idx=1)\n",
              "  )\n",
              "), Sequential(\n",
              "  (0): WeightDropout(\n",
              "    (module): LSTM(400, 1150, batch_first=True)\n",
              "  )\n",
              "  (1): RNNDropout()\n",
              "), Sequential(\n",
              "  (0): WeightDropout(\n",
              "    (module): LSTM(1150, 1150, batch_first=True)\n",
              "  )\n",
              "  (1): RNNDropout()\n",
              "), Sequential(\n",
              "  (0): WeightDropout(\n",
              "    (module): LSTM(1150, 400, batch_first=True)\n",
              "  )\n",
              "  (1): RNNDropout()\n",
              "), Sequential(\n",
              "  (0): PoolingLinearClassifier(\n",
              "    (layers): Sequential(\n",
              "      (0): BatchNorm1d(1200, eps=1e-05, momentum=0.1, affine=True, track_running_stats=True)\n",
              "      (1): Dropout(p=0.2)\n",
              "      (2): Linear(in_features=1200, out_features=50, bias=True)\n",
              "      (3): ReLU(inplace)\n",
              "      (4): BatchNorm1d(50, eps=1e-05, momentum=0.1, affine=True, track_running_stats=True)\n",
              "      (5): Dropout(p=0.1)\n",
              "      (6): Linear(in_features=50, out_features=2, bias=True)\n",
              "    )\n",
              "  )\n",
              ")], add_time=True)\n",
              "alpha: 2.0\n",
              "beta: 1.0], layer_groups=[Sequential(\n",
              "  (0): Embedding(14385, 400, padding_idx=1)\n",
              "  (1): EmbeddingDropout(\n",
              "    (emb): Embedding(14385, 400, padding_idx=1)\n",
              "  )\n",
              "), Sequential(\n",
              "  (0): WeightDropout(\n",
              "    (module): LSTM(400, 1150, batch_first=True)\n",
              "  )\n",
              "  (1): RNNDropout()\n",
              "), Sequential(\n",
              "  (0): WeightDropout(\n",
              "    (module): LSTM(1150, 1150, batch_first=True)\n",
              "  )\n",
              "  (1): RNNDropout()\n",
              "), Sequential(\n",
              "  (0): WeightDropout(\n",
              "    (module): LSTM(1150, 400, batch_first=True)\n",
              "  )\n",
              "  (1): RNNDropout()\n",
              "), Sequential(\n",
              "  (0): PoolingLinearClassifier(\n",
              "    (layers): Sequential(\n",
              "      (0): BatchNorm1d(1200, eps=1e-05, momentum=0.1, affine=True, track_running_stats=True)\n",
              "      (1): Dropout(p=0.2)\n",
              "      (2): Linear(in_features=1200, out_features=50, bias=True)\n",
              "      (3): ReLU(inplace)\n",
              "      (4): BatchNorm1d(50, eps=1e-05, momentum=0.1, affine=True, track_running_stats=True)\n",
              "      (5): Dropout(p=0.1)\n",
              "      (6): Linear(in_features=50, out_features=2, bias=True)\n",
              "    )\n",
              "  )\n",
              ")], add_time=True)"
            ]
          },
          "metadata": {
            "tags": []
          },
          "execution_count": 32
        }
      ]
    },
    {
      "metadata": {
        "id": "URvqZ2y8lSlW",
        "colab_type": "code",
        "colab": {}
      },
      "cell_type": "code",
      "source": [
        "learn.unfreeze()"
      ],
      "execution_count": 0,
      "outputs": []
    },
    {
      "metadata": {
        "id": "dqmGtJPMlXCK",
        "colab_type": "code",
        "outputId": "49b768af-b922-49e3-db7d-7503a2378b7f",
        "colab": {
          "base_uri": "https://localhost:8080/",
          "height": 133
        }
      },
      "cell_type": "code",
      "source": [
        "learn.fit_one_cycle(2, slice(5e-3/(2.6**4),5e-3), moms=(0.8,0.7))"
      ],
      "execution_count": 34,
      "outputs": [
        {
          "output_type": "display_data",
          "data": {
            "text/html": [
              "Total time: 03:51 <p><table border=\"1\" class=\"dataframe\">\n",
              "  <thead>\n",
              "    <tr style=\"text-align: left;\">\n",
              "      <th>epoch</th>\n",
              "      <th>train_loss</th>\n",
              "      <th>valid_loss</th>\n",
              "      <th>accuracy</th>\n",
              "      <th>precision</th>\n",
              "      <th>recall</th>\n",
              "      <th>time</th>\n",
              "    </tr>\n",
              "  </thead>\n",
              "  <tbody>\n",
              "    <tr>\n",
              "      <td>0</td>\n",
              "      <td>0.324519</td>\n",
              "      <td>0.354148</td>\n",
              "      <td>0.858000</td>\n",
              "      <td>0.920188</td>\n",
              "      <td>0.784000</td>\n",
              "      <td>01:54</td>\n",
              "    </tr>\n",
              "    <tr>\n",
              "      <td>1</td>\n",
              "      <td>0.292304</td>\n",
              "      <td>0.328169</td>\n",
              "      <td>0.865000</td>\n",
              "      <td>0.836096</td>\n",
              "      <td>0.908000</td>\n",
              "      <td>01:56</td>\n",
              "    </tr>\n",
              "  </tbody>\n",
              "</table>"
            ],
            "text/plain": [
              "<IPython.core.display.HTML object>"
            ]
          },
          "metadata": {
            "tags": []
          }
        }
      ]
    },
    {
      "metadata": {
        "id": "4LOhB6DRoUqU",
        "colab_type": "text"
      },
      "cell_type": "markdown",
      "source": [
        "You should see the output like this:\n",
        "\n",
        "![](https://github.com/wshuyi/github_pub_img/raw/master/assets/2019-03-26-10-31-32-631875.png)"
      ]
    },
    {
      "metadata": {
        "id": "C4A7JMTnobiI",
        "colab_type": "text"
      },
      "cell_type": "markdown",
      "source": [
        "**Question 8: (10 points)**\n",
        "\n",
        "Comparing the result with those from textblob, scikit-learn in Classwork 3, what is your finding? How about comparing with the result from Self-study 7 (the whole IMDB dataset)? Write down your answer and comments."
      ]
    },
    {
      "metadata": {
        "id": "cQypGalko4LQ",
        "colab_type": "text"
      },
      "cell_type": "markdown",
      "source": [
        "*Your answer here:*\n",
        "\n"
      ]
    },
    {
      "metadata": {
        "id": "j0lSgR07JgB6",
        "colab_type": "text"
      },
      "cell_type": "markdown",
      "source": [
        "### Comparing results of textblob and scikit-learn in class work 3:\n",
        "\n",
        "The observed results from sample shows that it has higher precision and recall average rates when compared to the results obtained from TextBlob and scikit. \n",
        "This conclude that the sample model we build performs better than textblob and scikit classifications.\n",
        "\n",
        "\n",
        "### Comparing with Self Study 7:\n",
        "\n",
        "From the observed result of self study 7 we can that the sample accuracy is less than the accuracy of selfstudy 7. \n",
        "As the above accuracy is 86.5 which is less than the accuracy from self study 7.\n",
        "This conclude that the training a model gives more accurate results. \n",
        "\n"
      ]
    }
  ]
}