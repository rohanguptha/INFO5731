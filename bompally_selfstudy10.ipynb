{
  "nbformat": 4,
  "nbformat_minor": 0,
  "metadata": {
    "colab": {
      "name": "bompally_selfstudy10.ipynb",
      "version": "0.3.2",
      "provenance": [],
      "collapsed_sections": [
        "wfZJ8grL4PjL",
        "ht7DY_8eYIIZ",
        "vYFTwVd9bKc9",
        "Qjn6VC8_1ID2"
      ],
      "include_colab_link": true
    },
    "kernelspec": {
      "name": "python3",
      "display_name": "Python 3"
    }
  },
  "cells": [
    {
      "cell_type": "markdown",
      "metadata": {
        "id": "view-in-github",
        "colab_type": "text"
      },
      "source": [
        "<a href=\"https://colab.research.google.com/github/rohanguptha/INFO5731/blob/master/bompally_selfstudy10.ipynb\" target=\"_parent\"><img src=\"https://colab.research.google.com/assets/colab-badge.svg\" alt=\"Open In Colab\"/></a>"
      ]
    },
    {
      "metadata": {
        "id": "wfZJ8grL4PjL",
        "colab_type": "text"
      },
      "cell_type": "markdown",
      "source": [
        "# nltk Chapter 6"
      ]
    },
    {
      "metadata": {
        "id": "Q74U4xHF4HKK",
        "colab_type": "code",
        "outputId": "a584cedc-a861-426d-92f0-6fd100fd0295",
        "colab": {
          "base_uri": "https://localhost:8080/",
          "height": 35
        }
      },
      "cell_type": "code",
      "source": [
        "def gender_features(word):\n",
        "     return {'last_letter': word[-1]}\n",
        "\n",
        "gender_features('Shrek')"
      ],
      "execution_count": 9,
      "outputs": [
        {
          "output_type": "execute_result",
          "data": {
            "text/plain": [
              "{'last_letter': 'k'}"
            ]
          },
          "metadata": {
            "tags": []
          },
          "execution_count": 9
        }
      ]
    },
    {
      "metadata": {
        "id": "LdqGNC9O5WEE",
        "colab_type": "code",
        "outputId": "09c96026-456a-4f8b-8e8a-b732e427cebf",
        "colab": {
          "base_uri": "https://localhost:8080/",
          "height": 69
        }
      },
      "cell_type": "code",
      "source": [
        "import nltk\n",
        "nltk.download('names')"
      ],
      "execution_count": 10,
      "outputs": [
        {
          "output_type": "stream",
          "text": [
            "[nltk_data] Downloading package names to /root/nltk_data...\n",
            "[nltk_data]   Unzipping corpora/names.zip.\n"
          ],
          "name": "stdout"
        },
        {
          "output_type": "execute_result",
          "data": {
            "text/plain": [
              "True"
            ]
          },
          "metadata": {
            "tags": []
          },
          "execution_count": 10
        }
      ]
    },
    {
      "metadata": {
        "id": "NVyoys9u4OgN",
        "colab_type": "code",
        "colab": {}
      },
      "cell_type": "code",
      "source": [
        "from nltk.corpus import names\n",
        "labeled_names = ([(name, 'male') for name in names.words('male.txt')] + [(name, 'female') for name in names.words('female.txt')])\n",
        "import random\n",
        "random.shuffle(labeled_names)"
      ],
      "execution_count": 0,
      "outputs": []
    },
    {
      "metadata": {
        "id": "6Vj1g2mt5TDI",
        "colab_type": "code",
        "outputId": "1e88bcf0-922d-450b-b42c-3733752be65f",
        "colab": {
          "base_uri": "https://localhost:8080/",
          "height": 17368
        }
      },
      "cell_type": "code",
      "source": [
        "labeled_names"
      ],
      "execution_count": 12,
      "outputs": [
        {
          "output_type": "execute_result",
          "data": {
            "text/plain": [
              "[('Althea', 'female'),\n",
              " ('Wilber', 'male'),\n",
              " ('Thalia', 'female'),\n",
              " ('Berenice', 'female'),\n",
              " ('Teriann', 'female'),\n",
              " ('Rikki', 'female'),\n",
              " ('Leeanne', 'female'),\n",
              " ('Lori', 'female'),\n",
              " ('Chloe', 'female'),\n",
              " ('Ajai', 'male'),\n",
              " ('Erich', 'male'),\n",
              " ('Verney', 'male'),\n",
              " ('Ailyn', 'female'),\n",
              " ('Donella', 'female'),\n",
              " ('Wilson', 'male'),\n",
              " ('Jennica', 'female'),\n",
              " ('Jennings', 'male'),\n",
              " ('Windy', 'female'),\n",
              " ('Skippy', 'male'),\n",
              " ('Gus', 'male'),\n",
              " ('Sayre', 'male'),\n",
              " ('Chicky', 'female'),\n",
              " ('Melodee', 'female'),\n",
              " ('Beryl', 'female'),\n",
              " ('Leif', 'male'),\n",
              " ('Hanson', 'male'),\n",
              " ('Bobbie', 'male'),\n",
              " ('Lars', 'male'),\n",
              " ('Noland', 'male'),\n",
              " ('Celestyn', 'female'),\n",
              " ('Dominic', 'male'),\n",
              " ('Sapphira', 'female'),\n",
              " ('Rhett', 'male'),\n",
              " ('Woodie', 'male'),\n",
              " ('Missie', 'female'),\n",
              " ('Iggy', 'male'),\n",
              " ('Cornie', 'female'),\n",
              " ('Antonietta', 'female'),\n",
              " ('Davidde', 'male'),\n",
              " ('Rey', 'female'),\n",
              " ('Zorine', 'female'),\n",
              " ('Atalanta', 'female'),\n",
              " ('Tracy', 'male'),\n",
              " ('Jean-Francois', 'male'),\n",
              " ('Marylynne', 'female'),\n",
              " ('Vernen', 'male'),\n",
              " ('Nicolas', 'male'),\n",
              " ('Katrinka', 'female'),\n",
              " ('Lisetta', 'female'),\n",
              " ('Barbette', 'female'),\n",
              " ('Lila', 'female'),\n",
              " ('Roseline', 'female'),\n",
              " ('Broddy', 'male'),\n",
              " ('Jennine', 'female'),\n",
              " ('Micheal', 'male'),\n",
              " ('Bradley', 'male'),\n",
              " ('Ermina', 'female'),\n",
              " ('Mattheus', 'male'),\n",
              " ('Larina', 'female'),\n",
              " ('Gibb', 'male'),\n",
              " ('Israel', 'male'),\n",
              " ('Vasili', 'male'),\n",
              " ('Robb', 'male'),\n",
              " ('Berty', 'female'),\n",
              " ('Junia', 'female'),\n",
              " ('Alta', 'female'),\n",
              " ('Herculie', 'male'),\n",
              " ('Walsh', 'male'),\n",
              " ('Kassi', 'female'),\n",
              " ('Anne-Marie', 'female'),\n",
              " ('Albatros', 'male'),\n",
              " ('Karen', 'female'),\n",
              " ('Wynton', 'male'),\n",
              " ('Lancelot', 'male'),\n",
              " ('Dewey', 'male'),\n",
              " ('Valene', 'female'),\n",
              " ('Robbie', 'female'),\n",
              " ('Aleece', 'female'),\n",
              " ('Helaina', 'female'),\n",
              " ('Brent', 'male'),\n",
              " ('Adi', 'female'),\n",
              " ('Dorise', 'female'),\n",
              " ('Artur', 'male'),\n",
              " ('Kelsi', 'female'),\n",
              " ('Ludwig', 'male'),\n",
              " ('Janella', 'female'),\n",
              " ('Chrissa', 'female'),\n",
              " ('Hazel', 'male'),\n",
              " ('Cam', 'female'),\n",
              " ('Debby', 'female'),\n",
              " ('Linnet', 'female'),\n",
              " ('Leyla', 'female'),\n",
              " ('Mikael', 'male'),\n",
              " ('Giffard', 'male'),\n",
              " ('Milka', 'female'),\n",
              " ('Manda', 'female'),\n",
              " ('Christophe', 'male'),\n",
              " ('Philis', 'female'),\n",
              " ('Kyle', 'female'),\n",
              " ('Sharra', 'female'),\n",
              " ('Tonia', 'female'),\n",
              " ('Pen', 'male'),\n",
              " ('Ranee', 'female'),\n",
              " ('Everett', 'male'),\n",
              " ('Lyle', 'male'),\n",
              " ('Esther', 'female'),\n",
              " ('Gunter', 'male'),\n",
              " ('Hedda', 'female'),\n",
              " ('Marty', 'male'),\n",
              " ('Sergei', 'male'),\n",
              " ('Joyann', 'female'),\n",
              " ('Charin', 'female'),\n",
              " ('Verna', 'female'),\n",
              " ('Meghan', 'female'),\n",
              " ('Gladi', 'female'),\n",
              " ('Adrianne', 'female'),\n",
              " ('Tatiania', 'female'),\n",
              " ('Tandi', 'female'),\n",
              " ('Melodie', 'female'),\n",
              " ('Rem', 'male'),\n",
              " ('Sharai', 'female'),\n",
              " ('Karel', 'male'),\n",
              " ('Maxi', 'female'),\n",
              " ('Geeta', 'female'),\n",
              " ('Esme', 'male'),\n",
              " ('Dusty', 'female'),\n",
              " ('Manon', 'female'),\n",
              " ('Luanna', 'female'),\n",
              " ('Aurie', 'female'),\n",
              " ('Hyacintha', 'female'),\n",
              " ('Carolyn', 'female'),\n",
              " ('Janus', 'male'),\n",
              " ('Urban', 'male'),\n",
              " ('Susi', 'female'),\n",
              " ('Vivianne', 'female'),\n",
              " ('Jasper', 'male'),\n",
              " ('Simona', 'female'),\n",
              " ('Cody', 'female'),\n",
              " ('Christalle', 'female'),\n",
              " ('Ryan', 'male'),\n",
              " ('Hilliary', 'female'),\n",
              " ('Irena', 'female'),\n",
              " ('Trude', 'female'),\n",
              " ('Wang', 'male'),\n",
              " ('Noella', 'female'),\n",
              " ('Yard', 'male'),\n",
              " ('Farand', 'female'),\n",
              " ('David', 'male'),\n",
              " ('Hadley', 'male'),\n",
              " ('Cheston', 'male'),\n",
              " ('Cindy', 'female'),\n",
              " ('Otes', 'male'),\n",
              " ('Dickey', 'male'),\n",
              " ('Gloria', 'female'),\n",
              " ('Tami', 'female'),\n",
              " ('Silvanus', 'male'),\n",
              " ('Celestia', 'female'),\n",
              " ('Orelle', 'female'),\n",
              " ('Ephrayim', 'male'),\n",
              " ('Rosa', 'female'),\n",
              " ('Natale', 'male'),\n",
              " ('Bertine', 'female'),\n",
              " ('Muffin', 'female'),\n",
              " ('Montague', 'male'),\n",
              " ('Ambrosia', 'female'),\n",
              " ('Kamila', 'female'),\n",
              " ('Amandie', 'female'),\n",
              " ('Collette', 'female'),\n",
              " ('Mack', 'male'),\n",
              " ('Goober', 'male'),\n",
              " ('Carley', 'female'),\n",
              " ('Merridie', 'female'),\n",
              " ('Ellynn', 'female'),\n",
              " ('Clayborne', 'male'),\n",
              " ('Blanche', 'female'),\n",
              " ('Candra', 'female'),\n",
              " ('Davoud', 'male'),\n",
              " ('Sosanna', 'female'),\n",
              " ('Rozamond', 'female'),\n",
              " ('Townsend', 'male'),\n",
              " ('Demeter', 'female'),\n",
              " ('Corrine', 'female'),\n",
              " ('Trish', 'female'),\n",
              " ('Cordey', 'female'),\n",
              " ('Sheppard', 'male'),\n",
              " ('Aime', 'female'),\n",
              " ('Averell', 'male'),\n",
              " ('Vlad', 'male'),\n",
              " ('Martynne', 'female'),\n",
              " ('Lishe', 'female'),\n",
              " ('Sollie', 'male'),\n",
              " ('Fedora', 'female'),\n",
              " ('Kenn', 'male'),\n",
              " ('Alma', 'female'),\n",
              " ('Clovis', 'female'),\n",
              " ('Dalia', 'female'),\n",
              " ('Eirena', 'female'),\n",
              " ('Andromeda', 'female'),\n",
              " ('Merle', 'female'),\n",
              " ('Rodger', 'male'),\n",
              " ('Tiebout', 'male'),\n",
              " ('Viv', 'female'),\n",
              " ('Datha', 'female'),\n",
              " ('Kaitlynn', 'female'),\n",
              " ('Valli', 'female'),\n",
              " ('Rochelle', 'female'),\n",
              " ('Gavra', 'female'),\n",
              " ('Ninetta', 'female'),\n",
              " ('Scott', 'male'),\n",
              " ('Jehanna', 'female'),\n",
              " ('Alyssa', 'female'),\n",
              " ('Tharen', 'male'),\n",
              " ('Trevar', 'male'),\n",
              " ('Selle', 'female'),\n",
              " ('Rania', 'female'),\n",
              " ('Giovanni', 'male'),\n",
              " ('Jackie', 'female'),\n",
              " ('Linell', 'female'),\n",
              " ('Gabriella', 'female'),\n",
              " ('Feliza', 'female'),\n",
              " ('Sigrid', 'female'),\n",
              " ('Bryce', 'male'),\n",
              " ('Abigael', 'female'),\n",
              " ('Benson', 'male'),\n",
              " ('Mick', 'male'),\n",
              " ('Cecile', 'female'),\n",
              " ('Livia', 'female'),\n",
              " ('Jordan', 'male'),\n",
              " ('Orazio', 'male'),\n",
              " ('Katharine', 'female'),\n",
              " ('Noah', 'male'),\n",
              " ('Enid', 'female'),\n",
              " ('Ranna', 'female'),\n",
              " ('Darrin', 'male'),\n",
              " ('Luci', 'female'),\n",
              " ('Odessa', 'female'),\n",
              " ('Lizzy', 'female'),\n",
              " ('Willabella', 'female'),\n",
              " ('Elena', 'female'),\n",
              " ('Hew', 'male'),\n",
              " ('Quigly', 'male'),\n",
              " ('Mia', 'female'),\n",
              " ('Ollie', 'male'),\n",
              " ('Janice', 'female'),\n",
              " ('Reagan', 'male'),\n",
              " ('Dannie', 'female'),\n",
              " ('Rodney', 'male'),\n",
              " ('Clarisa', 'female'),\n",
              " ('Chloris', 'female'),\n",
              " ('Elsy', 'female'),\n",
              " ('Wenonah', 'female'),\n",
              " ('Cherey', 'female'),\n",
              " ('Marie-Jeanne', 'female'),\n",
              " ('Thornie', 'male'),\n",
              " ('Casie', 'female'),\n",
              " ('Ortensia', 'female'),\n",
              " ('Stephie', 'female'),\n",
              " ('Harli', 'female'),\n",
              " ('Chandal', 'female'),\n",
              " ('Algernon', 'male'),\n",
              " ('Pearla', 'female'),\n",
              " ('Barr', 'male'),\n",
              " ('Nahum', 'male'),\n",
              " ('Lindy', 'female'),\n",
              " ('Marietta', 'female'),\n",
              " ('Rosetta', 'female'),\n",
              " ('Dulcinea', 'female'),\n",
              " ('Vitia', 'female'),\n",
              " ('Hyacinthie', 'female'),\n",
              " ('Charmane', 'female'),\n",
              " ('Tedmund', 'male'),\n",
              " ('Vance', 'male'),\n",
              " ('Sherwynd', 'male'),\n",
              " ('Dody', 'female'),\n",
              " ('Cammi', 'female'),\n",
              " ('Natassia', 'female'),\n",
              " ('Allianora', 'female'),\n",
              " ('Samson', 'male'),\n",
              " ('Gustaf', 'male'),\n",
              " ('Bjorne', 'male'),\n",
              " ('Rosie', 'female'),\n",
              " ('Kizzie', 'female'),\n",
              " ('Magdalena', 'female'),\n",
              " ('Marena', 'female'),\n",
              " ('Carolina', 'female'),\n",
              " ('Willard', 'male'),\n",
              " ('Remington', 'male'),\n",
              " ('Anissa', 'female'),\n",
              " ('Dulsea', 'female'),\n",
              " ('Jeanette', 'female'),\n",
              " ('Levi', 'male'),\n",
              " ('Elisa', 'female'),\n",
              " ('Jason', 'male'),\n",
              " ('Shirlene', 'female'),\n",
              " ('Julian', 'male'),\n",
              " ('Risa', 'female'),\n",
              " ('Rochette', 'female'),\n",
              " ('Lester', 'male'),\n",
              " ('Jillene', 'female'),\n",
              " ('Laura', 'female'),\n",
              " ('Jandy', 'female'),\n",
              " ('Charlott', 'female'),\n",
              " ('Annalise', 'female'),\n",
              " ('Benny', 'male'),\n",
              " ('Lindsey', 'male'),\n",
              " ('Archie', 'male'),\n",
              " ('Lettie', 'female'),\n",
              " ('Pepita', 'female'),\n",
              " ('Honor', 'female'),\n",
              " ('Sig', 'male'),\n",
              " ('Patrizia', 'female'),\n",
              " ('Darcy', 'female'),\n",
              " ('Cyril', 'male'),\n",
              " ('Tedi', 'female'),\n",
              " ('Morley', 'male'),\n",
              " ('Louis', 'male'),\n",
              " ('Page', 'male'),\n",
              " ('Delly', 'female'),\n",
              " ('Aldrich', 'male'),\n",
              " ('Anatol', 'male'),\n",
              " ('Adair', 'male'),\n",
              " ('Shirah', 'female'),\n",
              " ('Nester', 'male'),\n",
              " ('Neel', 'male'),\n",
              " ('Tiffani', 'female'),\n",
              " ('Vladimir', 'male'),\n",
              " ('Elinor', 'female'),\n",
              " ('Skelly', 'male'),\n",
              " ('Vivyan', 'female'),\n",
              " ('Theodosia', 'female'),\n",
              " ('Lucinda', 'female'),\n",
              " ('Melanie', 'female'),\n",
              " ('Melony', 'female'),\n",
              " ('Francois', 'male'),\n",
              " ('Delia', 'female'),\n",
              " ('Clarette', 'female'),\n",
              " ('Odilia', 'female'),\n",
              " ('Randy', 'male'),\n",
              " ('Fletch', 'male'),\n",
              " ('Valenka', 'female'),\n",
              " ('Rube', 'male'),\n",
              " ('Ceil', 'female'),\n",
              " ('Constantinos', 'male'),\n",
              " ('Genia', 'female'),\n",
              " ('Leroy', 'male'),\n",
              " ('Melinda', 'female'),\n",
              " ('Tony', 'male'),\n",
              " ('Nicolina', 'female'),\n",
              " ('Cassey', 'female'),\n",
              " ('Karole', 'female'),\n",
              " ('Bel', 'female'),\n",
              " ('Udall', 'male'),\n",
              " ('Joe', 'male'),\n",
              " ('Franky', 'male'),\n",
              " ('Ajay', 'female'),\n",
              " ('Carena', 'female'),\n",
              " ('Christine', 'female'),\n",
              " ('Hobart', 'male'),\n",
              " ('Waverley', 'male'),\n",
              " ('Danni', 'female'),\n",
              " ('Nunzio', 'male'),\n",
              " ('Horatia', 'female'),\n",
              " ('Kirbie', 'female'),\n",
              " ('Heinrich', 'male'),\n",
              " ('Gwenora', 'female'),\n",
              " ('Larisa', 'female'),\n",
              " ('Fidel', 'male'),\n",
              " ('Krystalle', 'female'),\n",
              " ('Eveline', 'female'),\n",
              " ('Millicent', 'female'),\n",
              " ('Sheridan', 'male'),\n",
              " ('Coralyn', 'female'),\n",
              " ('Consolata', 'female'),\n",
              " ('Calley', 'female'),\n",
              " ('Cathee', 'female'),\n",
              " ('Arline', 'female'),\n",
              " ('Shirline', 'female'),\n",
              " ('Monroe', 'male'),\n",
              " ('Brandy', 'female'),\n",
              " ('Markus', 'male'),\n",
              " ('Sharline', 'female'),\n",
              " ('Sheryl', 'female'),\n",
              " ('Odille', 'female'),\n",
              " ('Wilfrid', 'male'),\n",
              " ('Shane', 'female'),\n",
              " ('Rosalinda', 'female'),\n",
              " ('Saw', 'male'),\n",
              " ('Abner', 'male'),\n",
              " ('Ikey', 'male'),\n",
              " ('Janenna', 'female'),\n",
              " ('Adolph', 'male'),\n",
              " ('Spiros', 'male'),\n",
              " ('Len', 'male'),\n",
              " ('Jaquenetta', 'female'),\n",
              " ('Francesca', 'female'),\n",
              " ('Auria', 'female'),\n",
              " ('Johannes', 'male'),\n",
              " ('Shandy', 'female'),\n",
              " ('Robinson', 'male'),\n",
              " ('Brooks', 'male'),\n",
              " ('Randie', 'male'),\n",
              " ('Rufus', 'male'),\n",
              " ('Evangelin', 'female'),\n",
              " ('Sampson', 'male'),\n",
              " ('Dante', 'male'),\n",
              " ('Burnaby', 'male'),\n",
              " ('Christof', 'male'),\n",
              " ('Kassandra', 'female'),\n",
              " ('Magnus', 'male'),\n",
              " ('Etta', 'female'),\n",
              " ('Edith', 'female'),\n",
              " ('Hersh', 'male'),\n",
              " ('Sheila', 'female'),\n",
              " ('Lenny', 'male'),\n",
              " ('Niels', 'male'),\n",
              " ('Linnie', 'female'),\n",
              " ('Shaughn', 'male'),\n",
              " ('Walton', 'male'),\n",
              " ('Ophelie', 'female'),\n",
              " ('Lauryn', 'female'),\n",
              " ('Price', 'male'),\n",
              " ('Winston', 'male'),\n",
              " ('Richie', 'male'),\n",
              " ('Nellie', 'female'),\n",
              " ('Clemens', 'male'),\n",
              " ('Hurley', 'male'),\n",
              " ('Roxine', 'female'),\n",
              " ('Morgen', 'female'),\n",
              " ('Gerhard', 'male'),\n",
              " ('Orella', 'female'),\n",
              " ('Sharna', 'female'),\n",
              " ('Emanuel', 'male'),\n",
              " ('Patel', 'male'),\n",
              " ('Kara-Lynn', 'female'),\n",
              " ('Leann', 'female'),\n",
              " ('Cathlene', 'female'),\n",
              " ('Derron', 'male'),\n",
              " ('Wildon', 'male'),\n",
              " ('Marita', 'female'),\n",
              " ('Kittie', 'female'),\n",
              " ('Filia', 'female'),\n",
              " ('Antonina', 'female'),\n",
              " ('Lorrie', 'female'),\n",
              " ('Xever', 'male'),\n",
              " ('Josef', 'male'),\n",
              " ('Fergus', 'male'),\n",
              " ('Meridel', 'female'),\n",
              " ('Edmund', 'male'),\n",
              " ('Red', 'male'),\n",
              " ('Paola', 'female'),\n",
              " ('Sandro', 'male'),\n",
              " ('Guthrie', 'male'),\n",
              " ('Kelley', 'male'),\n",
              " ('Mollie', 'female'),\n",
              " ('Naomi', 'female'),\n",
              " ('Renell', 'female'),\n",
              " ('Jojo', 'female'),\n",
              " ('Kathrine', 'female'),\n",
              " ('Kaye', 'female'),\n",
              " ('Cynthy', 'female'),\n",
              " ('Sloan', 'male'),\n",
              " ('Clem', 'male'),\n",
              " ('Delphine', 'female'),\n",
              " ('Maribeth', 'female'),\n",
              " ('Britani', 'female'),\n",
              " ('Joelle', 'female'),\n",
              " ('Wyn', 'male'),\n",
              " ('Becca', 'female'),\n",
              " ('Hyacinth', 'female'),\n",
              " ('Cordie', 'female'),\n",
              " ('Alpa', 'female'),\n",
              " ('Anders', 'male'),\n",
              " ('Rosaleen', 'female'),\n",
              " ('Maire', 'female'),\n",
              " ('Monah', 'female'),\n",
              " ('Tibold', 'male'),\n",
              " ('Sterne', 'male'),\n",
              " ('Clarinda', 'female'),\n",
              " ('Janet', 'female'),\n",
              " ('Garold', 'male'),\n",
              " ('Amos', 'male'),\n",
              " ('Maryrose', 'female'),\n",
              " ('Mitra', 'female'),\n",
              " ('Marga', 'female'),\n",
              " ('Gaynor', 'female'),\n",
              " ('Tobe', 'female'),\n",
              " ('Rudie', 'male'),\n",
              " ('Bronson', 'male'),\n",
              " ('La', 'female'),\n",
              " ('Danette', 'female'),\n",
              " ('Theo', 'female'),\n",
              " ('Rani', 'female'),\n",
              " ('Matthew', 'male'),\n",
              " ('Margret', 'female'),\n",
              " ('Nalani', 'female'),\n",
              " ('Ariana', 'female'),\n",
              " ('Bear', 'male'),\n",
              " ('Lynda', 'female'),\n",
              " ('Chelsy', 'female'),\n",
              " ('Cyrillus', 'male'),\n",
              " ('Gianina', 'female'),\n",
              " ('Harley', 'male'),\n",
              " ('Wendell', 'male'),\n",
              " ('Neddie', 'male'),\n",
              " ('Erena', 'female'),\n",
              " ('Roselle', 'female'),\n",
              " ('Wojciech', 'male'),\n",
              " ('Fernandina', 'female'),\n",
              " ('Alyce', 'female'),\n",
              " ('Harmonia', 'female'),\n",
              " ('Tessy', 'female'),\n",
              " ('Honey', 'female'),\n",
              " ('Revkah', 'female'),\n",
              " ('Mustafa', 'male'),\n",
              " ('Dot', 'female'),\n",
              " ('Mame', 'female'),\n",
              " ('Darlene', 'female'),\n",
              " ('Shamus', 'male'),\n",
              " ('Allie', 'male'),\n",
              " ('Eda', 'female'),\n",
              " ('Lonni', 'female'),\n",
              " ('Jayme', 'female'),\n",
              " ('Winnah', 'female'),\n",
              " ('Maxie', 'male'),\n",
              " ('Jackson', 'male'),\n",
              " ('Kelci', 'female'),\n",
              " ('Mattias', 'male'),\n",
              " ('Michaella', 'female'),\n",
              " ('Willey', 'male'),\n",
              " ('Royal', 'male'),\n",
              " ('Laurence', 'male'),\n",
              " ('Max', 'female'),\n",
              " ('Lotti', 'female'),\n",
              " ('Timmie', 'female'),\n",
              " ('Christabelle', 'female'),\n",
              " ('Nathaniel', 'male'),\n",
              " ('Gerhardine', 'female'),\n",
              " ('Brena', 'female'),\n",
              " ('Coretta', 'female'),\n",
              " ('Felicle', 'female'),\n",
              " ('Will', 'male'),\n",
              " ('Elsbeth', 'female'),\n",
              " ('Taffy', 'female'),\n",
              " ('Emmet', 'male'),\n",
              " ('Barbra', 'female'),\n",
              " ('Chelsie', 'female'),\n",
              " ('Hendrik', 'male'),\n",
              " ('Gregg', 'male'),\n",
              " ('Phebe', 'female'),\n",
              " ('Gertrud', 'female'),\n",
              " ('Franciska', 'female'),\n",
              " ('Olympe', 'female'),\n",
              " ('Jaynell', 'female'),\n",
              " ('Mommy', 'female'),\n",
              " ('Laurene', 'female'),\n",
              " ('Corrina', 'female'),\n",
              " ('Penny', 'male'),\n",
              " ('Zondra', 'female'),\n",
              " ('Bernadette', 'female'),\n",
              " ('Georges', 'male'),\n",
              " ('Harris', 'male'),\n",
              " ('Rebeca', 'female'),\n",
              " ('Morna', 'female'),\n",
              " ('Theda', 'female'),\n",
              " ('Mario', 'male'),\n",
              " ('Consuelo', 'female'),\n",
              " ('Doralin', 'female'),\n",
              " ('Leone', 'female'),\n",
              " ('Greer', 'female'),\n",
              " ('Abelard', 'male'),\n",
              " ('Germain', 'female'),\n",
              " ('Ki', 'female'),\n",
              " ('Ros', 'female'),\n",
              " ('Geri', 'male'),\n",
              " ('Devora', 'female'),\n",
              " ('Kingsley', 'male'),\n",
              " ('Barton', 'male'),\n",
              " ('Tiffie', 'female'),\n",
              " ('Leoline', 'female'),\n",
              " ('Anstice', 'female'),\n",
              " ('Cherish', 'female'),\n",
              " ('Prudy', 'female'),\n",
              " ('Torrie', 'female'),\n",
              " ('Belle', 'female'),\n",
              " ('Darrel', 'male'),\n",
              " ('Page', 'female'),\n",
              " ('Claudius', 'male'),\n",
              " ('Vanna', 'female'),\n",
              " ('Roman', 'male'),\n",
              " ('Gertie', 'female'),\n",
              " ('Mollee', 'female'),\n",
              " ('Somerset', 'male'),\n",
              " ('Dennis', 'male'),\n",
              " ('Paule', 'female'),\n",
              " ('Marleah', 'female'),\n",
              " ('Simonne', 'female'),\n",
              " ('Davita', 'female'),\n",
              " ('Ulberto', 'male'),\n",
              " ('Dyna', 'female'),\n",
              " ('Felicdad', 'female'),\n",
              " ('Marshall', 'male'),\n",
              " ('Carlisle', 'female'),\n",
              " ('Gerrie', 'female'),\n",
              " ('Thaxter', 'male'),\n",
              " ('Wiley', 'male'),\n",
              " ('Crista', 'female'),\n",
              " ('Tessa', 'female'),\n",
              " ('Harlan', 'male'),\n",
              " ('Reta', 'female'),\n",
              " ('Louella', 'female'),\n",
              " ('Geralda', 'female'),\n",
              " ('Hollis', 'male'),\n",
              " ('Raven', 'female'),\n",
              " ('Sydelle', 'female'),\n",
              " ('Glenn', 'female'),\n",
              " ('Gregor', 'male'),\n",
              " ('Darrell', 'male'),\n",
              " ('Adorne', 'female'),\n",
              " ('Estrellita', 'female'),\n",
              " ('Amadeus', 'male'),\n",
              " ('Carlita', 'female'),\n",
              " ('Adria', 'female'),\n",
              " ('Emmalee', 'female'),\n",
              " ('Manish', 'male'),\n",
              " ('Crystie', 'female'),\n",
              " ('Janos', 'male'),\n",
              " ('Marieann', 'female'),\n",
              " ('Ignacius', 'male'),\n",
              " ('Verine', 'female'),\n",
              " ('Fredric', 'male'),\n",
              " ('Daveta', 'female'),\n",
              " ('Joaquin', 'male'),\n",
              " ('Juditha', 'female'),\n",
              " ('Hyatt', 'male'),\n",
              " ('Zak', 'male'),\n",
              " ('Millisent', 'female'),\n",
              " ('Athena', 'female'),\n",
              " ('Desmund', 'male'),\n",
              " ('Haywood', 'male'),\n",
              " ('Shell', 'female'),\n",
              " ('Gretal', 'female'),\n",
              " ('Louisette', 'female'),\n",
              " ('Norma', 'female'),\n",
              " ('Skipp', 'male'),\n",
              " ('Brier', 'female'),\n",
              " ('Felisha', 'female'),\n",
              " ('Sylvester', 'male'),\n",
              " ('Jeanine', 'female'),\n",
              " ('Armstrong', 'male'),\n",
              " ('Shepperd', 'male'),\n",
              " ('Eleonora', 'female'),\n",
              " ('Evangeline', 'female'),\n",
              " ('Crysta', 'female'),\n",
              " ('Hilton', 'male'),\n",
              " ('Paloma', 'female'),\n",
              " ('Onida', 'female'),\n",
              " ('Sauncho', 'male'),\n",
              " ('Catlin', 'female'),\n",
              " ('Carleigh', 'male'),\n",
              " ('Frederic', 'male'),\n",
              " ('Iain', 'male'),\n",
              " ('Cherri', 'female'),\n",
              " ('Bekki', 'female'),\n",
              " ('Conney', 'female'),\n",
              " ('Othilia', 'female'),\n",
              " ('Tamar', 'female'),\n",
              " ('Tatiana', 'female'),\n",
              " ('Orson', 'male'),\n",
              " ('Stoddard', 'female'),\n",
              " ('Sandy', 'female'),\n",
              " ('Miranda', 'female'),\n",
              " ('Neal', 'male'),\n",
              " ('Zollie', 'male'),\n",
              " ('Roxane', 'female'),\n",
              " ('Enrico', 'male'),\n",
              " ('Alina', 'female'),\n",
              " ('Ellen', 'female'),\n",
              " ('Tabbitha', 'female'),\n",
              " ('Cresa', 'female'),\n",
              " ('Carri', 'female'),\n",
              " ('Holly', 'male'),\n",
              " ('Petronia', 'female'),\n",
              " ('Blancha', 'female'),\n",
              " ('Locke', 'male'),\n",
              " ('Jeanna', 'female'),\n",
              " ('Moselle', 'female'),\n",
              " ('Kristan', 'female'),\n",
              " ('Wilma', 'female'),\n",
              " ('Skye', 'male'),\n",
              " ('Mair', 'female'),\n",
              " ('Christin', 'female'),\n",
              " ('Nat', 'female'),\n",
              " ('Godart', 'male'),\n",
              " ('Hagan', 'male'),\n",
              " ('Barty', 'male'),\n",
              " ('Emmaline', 'female'),\n",
              " ('Waiter', 'male'),\n",
              " ('Heath', 'male'),\n",
              " ('Gunvor', 'female'),\n",
              " ('Towney', 'male'),\n",
              " ('Paul', 'male'),\n",
              " ('Giff', 'male'),\n",
              " ('Laurent', 'male'),\n",
              " ('Raphaela', 'female'),\n",
              " ('Kelly', 'male'),\n",
              " ('Shimon', 'male'),\n",
              " ('Brigitte', 'female'),\n",
              " ('Cori', 'female'),\n",
              " ('Savina', 'female'),\n",
              " ('Geri', 'female'),\n",
              " ('Nickie', 'female'),\n",
              " ('Garwood', 'male'),\n",
              " ('Cleopatra', 'female'),\n",
              " ('Kee', 'female'),\n",
              " ('Jackquelin', 'female'),\n",
              " ('Vivia', 'female'),\n",
              " ('Tally', 'male'),\n",
              " ('Prisca', 'female'),\n",
              " ('Ulric', 'male'),\n",
              " ('Alanna', 'female'),\n",
              " ('Christos', 'male'),\n",
              " ('Helise', 'female'),\n",
              " ('Lamar', 'male'),\n",
              " ('Vince', 'male'),\n",
              " ('Gwenneth', 'female'),\n",
              " ('Terri-Jo', 'female'),\n",
              " ('Tamera', 'female'),\n",
              " ('Gardener', 'male'),\n",
              " ('Amandi', 'female'),\n",
              " ('Esta', 'female'),\n",
              " ('Darcie', 'female'),\n",
              " ('Sonnie', 'male'),\n",
              " ('Tomlin', 'male'),\n",
              " ('Kinna', 'female'),\n",
              " ('Mackenzie', 'male'),\n",
              " ('Felipe', 'male'),\n",
              " ('Cornelius', 'male'),\n",
              " ('Olle', 'male'),\n",
              " ('Karlee', 'female'),\n",
              " ('Ashleigh', 'female'),\n",
              " ('Aloisia', 'female'),\n",
              " ('Martyn', 'male'),\n",
              " ('Maxie', 'female'),\n",
              " ('Wylma', 'female'),\n",
              " ('Marianne', 'female'),\n",
              " ('Teddy', 'male'),\n",
              " ('Elmer', 'male'),\n",
              " ('Angy', 'female'),\n",
              " ('Donnie', 'male'),\n",
              " ('Pete', 'male'),\n",
              " ('Dyanne', 'female'),\n",
              " ('Ingaborg', 'female'),\n",
              " ('Starlene', 'female'),\n",
              " ('Berkie', 'male'),\n",
              " ('Daren', 'male'),\n",
              " ('Orlando', 'male'),\n",
              " ('Walker', 'male'),\n",
              " ('Othella', 'female'),\n",
              " ('Nanette', 'female'),\n",
              " ('Sasha', 'male'),\n",
              " ('Garrot', 'male'),\n",
              " ('Cami', 'female'),\n",
              " ('Loren', 'female'),\n",
              " ('Bird', 'female'),\n",
              " ('Ettie', 'female'),\n",
              " ('Quincy', 'male'),\n",
              " ('Bennett', 'male'),\n",
              " ('Perl', 'female'),\n",
              " ('Viola', 'female'),\n",
              " ('Danica', 'female'),\n",
              " ('Stewart', 'male'),\n",
              " ('Guenna', 'female'),\n",
              " ('Dorian', 'female'),\n",
              " ('Betty', 'female'),\n",
              " ('Verge', 'male'),\n",
              " ('Jenda', 'female'),\n",
              " ('Isabel', 'female'),\n",
              " ('Blythe', 'female'),\n",
              " ('Emmit', 'male'),\n",
              " ('Job', 'male'),\n",
              " ('Jaleh', 'female'),\n",
              " ('Gustave', 'male'),\n",
              " ('Izabel', 'female'),\n",
              " ('Simone', 'male'),\n",
              " ('Xenia', 'female'),\n",
              " ('Ema', 'female'),\n",
              " ('Dasha', 'female'),\n",
              " ('Tate', 'male'),\n",
              " ('Fraser', 'male'),\n",
              " ('Zebulon', 'male'),\n",
              " ('Clement', 'male'),\n",
              " ('Milo', 'male'),\n",
              " ('Rawley', 'male'),\n",
              " ('Olwen', 'female'),\n",
              " ('Valentina', 'female'),\n",
              " ('Thedrick', 'male'),\n",
              " ('Jacenta', 'female'),\n",
              " ('Lorelle', 'female'),\n",
              " ('Jesus', 'male'),\n",
              " ('Elsinore', 'female'),\n",
              " ('Mignonne', 'female'),\n",
              " ('Son', 'male'),\n",
              " ('Vladamir', 'male'),\n",
              " ('Louie', 'male'),\n",
              " ('Augustus', 'male'),\n",
              " ('Pembroke', 'male'),\n",
              " ('Farrah', 'female'),\n",
              " ('Lanita', 'female'),\n",
              " ('Maggie', 'female'),\n",
              " ('Conny', 'female'),\n",
              " ('Monty', 'male'),\n",
              " ('Erin', 'male'),\n",
              " ('Anabella', 'female'),\n",
              " ('Hirsch', 'male'),\n",
              " ('Vanni', 'female'),\n",
              " ('Bayard', 'male'),\n",
              " ('Mady', 'female'),\n",
              " ('Gerianna', 'female'),\n",
              " ('Felipa', 'female'),\n",
              " ('Lotty', 'female'),\n",
              " ('Ardelle', 'female'),\n",
              " ('Torey', 'male'),\n",
              " ('Luke', 'male'),\n",
              " ('Gonzales', 'male'),\n",
              " ('Sivert', 'male'),\n",
              " ('Zaria', 'female'),\n",
              " ('Lionel', 'male'),\n",
              " ('Sammie', 'male'),\n",
              " ('Ardenia', 'female'),\n",
              " ('Sharleen', 'female'),\n",
              " ('Willy', 'male'),\n",
              " ('Dexter', 'male'),\n",
              " ('Herold', 'male'),\n",
              " ('Romeo', 'male'),\n",
              " ('Darryl', 'male'),\n",
              " ('Clinten', 'male'),\n",
              " ('Rabi', 'male'),\n",
              " ('Marj', 'female'),\n",
              " ('Bogart', 'male'),\n",
              " ('Eryn', 'female'),\n",
              " ('Jessa', 'female'),\n",
              " ('Joby', 'female'),\n",
              " ('Maegan', 'female'),\n",
              " ('Brenn', 'female'),\n",
              " ('Debbie', 'female'),\n",
              " ('Karlene', 'female'),\n",
              " ('Lorena', 'female'),\n",
              " ('Gusty', 'female'),\n",
              " ('Jennilee', 'female'),\n",
              " ('Lynnea', 'female'),\n",
              " ('Genny', 'female'),\n",
              " ('Olga', 'female'),\n",
              " ('Clayborn', 'male'),\n",
              " ('Eleanor', 'female'),\n",
              " ('Aili', 'female'),\n",
              " ('Catherin', 'female'),\n",
              " ('Eileen', 'female'),\n",
              " ('Madlin', 'female'),\n",
              " ('Kraig', 'male'),\n",
              " ('Chriss', 'female'),\n",
              " ('Lawrence', 'male'),\n",
              " ('Elysee', 'female'),\n",
              " ('Baird', 'male'),\n",
              " ('Jeth', 'male'),\n",
              " ('Hank', 'male'),\n",
              " ('Alysa', 'female'),\n",
              " ('Brinkley', 'male'),\n",
              " ('Ardis', 'female'),\n",
              " ('Leesa', 'female'),\n",
              " ('Georgeta', 'female'),\n",
              " ('Lyn', 'female'),\n",
              " ('Dorisa', 'female'),\n",
              " ('Matelda', 'female'),\n",
              " ('Cloe', 'female'),\n",
              " ('Lark', 'female'),\n",
              " ('Nedda', 'female'),\n",
              " ('Kathleen', 'female'),\n",
              " ('Lilas', 'female'),\n",
              " ('George', 'female'),\n",
              " ('Clem', 'female'),\n",
              " ('Ileane', 'female'),\n",
              " ('Bettina', 'female'),\n",
              " ('Kriste', 'female'),\n",
              " ('Claretta', 'female'),\n",
              " ('Rutledge', 'male'),\n",
              " ('Kimberly', 'female'),\n",
              " ('Ami', 'female'),\n",
              " ('Rutger', 'male'),\n",
              " ('Jacquette', 'female'),\n",
              " ('Heddie', 'female'),\n",
              " ('Desiree', 'female'),\n",
              " ('Thorn', 'male'),\n",
              " ('Glori', 'female'),\n",
              " ('Maxine', 'female'),\n",
              " ('Alastair', 'male'),\n",
              " ('Lucy', 'female'),\n",
              " ('Diandra', 'female'),\n",
              " ('Kent', 'male'),\n",
              " ('Bobina', 'female'),\n",
              " ('Leigh', 'male'),\n",
              " ('Cordelia', 'female'),\n",
              " ('Pooh', 'male'),\n",
              " ('Devina', 'female'),\n",
              " ('Charo', 'female'),\n",
              " ('Jonathan', 'male'),\n",
              " ('Juanita', 'male'),\n",
              " ('Esmaria', 'female'),\n",
              " ('Lin', 'female'),\n",
              " ('Arabella', 'female'),\n",
              " ('Kennedy', 'male'),\n",
              " ('Klee', 'male'),\n",
              " ('Dominique', 'female'),\n",
              " ('Orbadiah', 'male'),\n",
              " ('Kikelia', 'female'),\n",
              " ('Christel', 'female'),\n",
              " ('Harriott', 'female'),\n",
              " ('Jotham', 'male'),\n",
              " ('Hartwell', 'male'),\n",
              " ('Aliza', 'female'),\n",
              " ('Reed', 'male'),\n",
              " ('Roxanne', 'female'),\n",
              " ('Elsi', 'female'),\n",
              " ('Isabelita', 'female'),\n",
              " ('Elbert', 'male'),\n",
              " ('Norene', 'female'),\n",
              " ('Simmonds', 'male'),\n",
              " ('Fredra', 'female'),\n",
              " ('Lauren', 'female'),\n",
              " ('Jemmie', 'female'),\n",
              " ('Salome', 'female'),\n",
              " ('Taddeus', 'male'),\n",
              " ('Guthrey', 'male'),\n",
              " ('Ioana', 'female'),\n",
              " ('Julius', 'male'),\n",
              " ('Marcio', 'male'),\n",
              " ('Sonny', 'female'),\n",
              " ('Lynnelle', 'female'),\n",
              " ('Abagael', 'female'),\n",
              " ('Corly', 'female'),\n",
              " ('Micheline', 'female'),\n",
              " ('Fredia', 'female'),\n",
              " ('Zsa Zsa', 'female'),\n",
              " ('Alleen', 'female'),\n",
              " ('Claudine', 'female'),\n",
              " ('Cletus', 'male'),\n",
              " ('Carole', 'female'),\n",
              " ('Karel', 'female'),\n",
              " ('Doreen', 'female'),\n",
              " ('Jade', 'female'),\n",
              " ('Paulie', 'female'),\n",
              " ('Emile', 'male'),\n",
              " ('Catharina', 'female'),\n",
              " ('Freda', 'female'),\n",
              " ('Prudi', 'female'),\n",
              " ('Andriette', 'female'),\n",
              " ('Junina', 'female'),\n",
              " ('Han', 'male'),\n",
              " ('Darbie', 'female'),\n",
              " ('Pearle', 'female'),\n",
              " ('Leiah', 'female'),\n",
              " ('Bartholemy', 'male'),\n",
              " ('Elke', 'female'),\n",
              " ('Lacee', 'female'),\n",
              " ('Jackie', 'male'),\n",
              " ('Sharla', 'female'),\n",
              " ('Elane', 'female'),\n",
              " ('Donnamarie', 'female'),\n",
              " ('Adena', 'female'),\n",
              " ('Charil', 'female'),\n",
              " ('Mendie', 'male'),\n",
              " ('Marlo', 'male'),\n",
              " ('Maya', 'female'),\n",
              " ('Haleigh', 'male'),\n",
              " ('Avraham', 'male'),\n",
              " ('Jo-Ann', 'female'),\n",
              " ('Chauncey', 'male'),\n",
              " ('Diann', 'female'),\n",
              " ('Brice', 'male'),\n",
              " ('Shannon', 'female'),\n",
              " ('Kia', 'female'),\n",
              " ('Annissa', 'female'),\n",
              " ('Emogene', 'female'),\n",
              " ('Alida', 'female'),\n",
              " ('Golda', 'female'),\n",
              " ('Claudette', 'female'),\n",
              " ('Adore', 'female'),\n",
              " ('Tasha', 'female'),\n",
              " ('Patricia', 'female'),\n",
              " ('Constantia', 'female'),\n",
              " ('Liorah', 'female'),\n",
              " ('Meier', 'male'),\n",
              " ('Lefty', 'male'),\n",
              " ('Laurance', 'male'),\n",
              " ('Cari', 'female'),\n",
              " ('Ozzie', 'male'),\n",
              " ('Tim', 'male'),\n",
              " ('Dolora', 'female'),\n",
              " ('Lorrie', 'male'),\n",
              " ('Doralynne', 'female'),\n",
              " ('Kurtis', 'male'),\n",
              " ...]"
            ]
          },
          "metadata": {
            "tags": []
          },
          "execution_count": 12
        }
      ]
    },
    {
      "metadata": {
        "id": "x6ItN92I59R2",
        "colab_type": "code",
        "outputId": "5b0cb215-eed8-4a47-f0c1-e9447dc08c48",
        "colab": {
          "base_uri": "https://localhost:8080/",
          "height": 35
        }
      },
      "cell_type": "code",
      "source": [
        "len(labeled_names)"
      ],
      "execution_count": 13,
      "outputs": [
        {
          "output_type": "execute_result",
          "data": {
            "text/plain": [
              "7944"
            ]
          },
          "metadata": {
            "tags": []
          },
          "execution_count": 13
        }
      ]
    },
    {
      "metadata": {
        "id": "SpFF05Js5cnM",
        "colab_type": "code",
        "colab": {}
      },
      "cell_type": "code",
      "source": [
        "featuresets = [(gender_features(n), gender) for (n, gender) in labeled_names]\n",
        "train_set, test_set = featuresets[500:], featuresets[:500]\n",
        "classifier = nltk.NaiveBayesClassifier.train(train_set)"
      ],
      "execution_count": 0,
      "outputs": []
    },
    {
      "metadata": {
        "id": "Klik0c8B7ioy",
        "colab_type": "code",
        "outputId": "13dfb5f5-085a-4cf1-e3d4-3e38719f179a",
        "colab": {
          "base_uri": "https://localhost:8080/",
          "height": 35
        }
      },
      "cell_type": "code",
      "source": [
        "classifier.classify(gender_features('Neo'))"
      ],
      "execution_count": 15,
      "outputs": [
        {
          "output_type": "execute_result",
          "data": {
            "text/plain": [
              "'male'"
            ]
          },
          "metadata": {
            "tags": []
          },
          "execution_count": 15
        }
      ]
    },
    {
      "metadata": {
        "id": "dkSXWklR9Jyd",
        "colab_type": "code",
        "outputId": "f5381927-d9f6-470e-a5b8-645426003fb0",
        "colab": {
          "base_uri": "https://localhost:8080/",
          "height": 35
        }
      },
      "cell_type": "code",
      "source": [
        "classifier.classify(gender_features('Trinity'))"
      ],
      "execution_count": 16,
      "outputs": [
        {
          "output_type": "execute_result",
          "data": {
            "text/plain": [
              "'female'"
            ]
          },
          "metadata": {
            "tags": []
          },
          "execution_count": 16
        }
      ]
    },
    {
      "metadata": {
        "id": "-dWblacR9M4J",
        "colab_type": "code",
        "outputId": "2a4f583e-5c35-425d-e251-48adf7c027d6",
        "colab": {
          "base_uri": "https://localhost:8080/",
          "height": 35
        }
      },
      "cell_type": "code",
      "source": [
        "print(nltk.classify.accuracy(classifier, test_set))"
      ],
      "execution_count": 17,
      "outputs": [
        {
          "output_type": "stream",
          "text": [
            "0.764\n"
          ],
          "name": "stdout"
        }
      ]
    },
    {
      "metadata": {
        "id": "PyHqsxIF9Rjd",
        "colab_type": "code",
        "outputId": "cb6f205b-2ff7-4ee2-eb99-4fbf3e3d3a71",
        "colab": {
          "base_uri": "https://localhost:8080/",
          "height": 208
        }
      },
      "cell_type": "code",
      "source": [
        "classifier.show_most_informative_features()"
      ],
      "execution_count": 18,
      "outputs": [
        {
          "output_type": "stream",
          "text": [
            "Most Informative Features\n",
            "             last_letter = 'a'            female : male   =     33.0 : 1.0\n",
            "             last_letter = 'k'              male : female =     32.9 : 1.0\n",
            "             last_letter = 'v'              male : female =     18.8 : 1.0\n",
            "             last_letter = 'f'              male : female =     14.7 : 1.0\n",
            "             last_letter = 'p'              male : female =     12.6 : 1.0\n",
            "             last_letter = 'd'              male : female =     10.2 : 1.0\n",
            "             last_letter = 'm'              male : female =      9.1 : 1.0\n",
            "             last_letter = 'o'              male : female =      8.8 : 1.0\n",
            "             last_letter = 'r'              male : female =      7.1 : 1.0\n",
            "             last_letter = 'g'              male : female =      4.8 : 1.0\n"
          ],
          "name": "stdout"
        }
      ]
    },
    {
      "metadata": {
        "id": "EtX_3aNR9ec8",
        "colab_type": "code",
        "colab": {}
      },
      "cell_type": "code",
      "source": [
        "from nltk.classify import apply_features\n",
        "train_set = apply_features(gender_features, labeled_names[500:])\n",
        "test_set = apply_features(gender_features, labeled_names[:500])"
      ],
      "execution_count": 0,
      "outputs": []
    },
    {
      "metadata": {
        "id": "J1n_Bh5x9ymX",
        "colab_type": "code",
        "outputId": "b00e1d2a-da8c-49a2-c0d3-1070f11f074c",
        "colab": {
          "base_uri": "https://localhost:8080/",
          "height": 35
        }
      },
      "cell_type": "code",
      "source": [
        "train_set"
      ],
      "execution_count": 20,
      "outputs": [
        {
          "output_type": "execute_result",
          "data": {
            "text/plain": [
              "[({'last_letter': 'a'}, 'female'), ({'last_letter': 'y'}, 'male'), ...]"
            ]
          },
          "metadata": {
            "tags": []
          },
          "execution_count": 20
        }
      ]
    },
    {
      "metadata": {
        "id": "ajCx6M_v92bj",
        "colab_type": "code",
        "outputId": "98c9272d-a870-4eb0-fa65-c47e842712e9",
        "colab": {
          "base_uri": "https://localhost:8080/",
          "height": 35
        }
      },
      "cell_type": "code",
      "source": [
        "test_set"
      ],
      "execution_count": 21,
      "outputs": [
        {
          "output_type": "execute_result",
          "data": {
            "text/plain": [
              "[({'last_letter': 'a'}, 'female'), ({'last_letter': 'r'}, 'male'), ...]"
            ]
          },
          "metadata": {
            "tags": []
          },
          "execution_count": 21
        }
      ]
    },
    {
      "metadata": {
        "id": "Deolx9GV99O0",
        "colab_type": "code",
        "colab": {}
      },
      "cell_type": "code",
      "source": [
        "def gender_features2(name):\n",
        "    features = {}\n",
        "    features[\"first_letter\"] = name[0].lower()\n",
        "    features[\"last_letter\"] = name[-1].lower()\n",
        "    for letter in 'abcdefghijklmnopqrstuvwxyz':\n",
        "        features[\"count({})\".format(letter)] = name.lower().count(letter)\n",
        "        features[\"has({})\".format(letter)] = (letter in name.lower())\n",
        "    return features"
      ],
      "execution_count": 0,
      "outputs": []
    },
    {
      "metadata": {
        "id": "Yg1WzHoDBAlU",
        "colab_type": "code",
        "outputId": "2541a78b-1dde-419b-f8f9-1ba9a300497a",
        "colab": {
          "base_uri": "https://localhost:8080/",
          "height": 35
        }
      },
      "cell_type": "code",
      "source": [
        "featuresets = [(gender_features2(n), gender) for (n, gender) in labeled_names]\n",
        "train_set, test_set = featuresets[500:], featuresets[:500]\n",
        "classifier = nltk.NaiveBayesClassifier.train(train_set)\n",
        "print(nltk.classify.accuracy(classifier, test_set))"
      ],
      "execution_count": 23,
      "outputs": [
        {
          "output_type": "stream",
          "text": [
            "0.774\n"
          ],
          "name": "stdout"
        }
      ]
    },
    {
      "metadata": {
        "id": "2genti-SBGEr",
        "colab_type": "code",
        "colab": {}
      },
      "cell_type": "code",
      "source": [
        "train_names = labeled_names[1500:]\n",
        "devtest_names = labeled_names[500:1500]\n",
        "test_names = labeled_names[:500]"
      ],
      "execution_count": 0,
      "outputs": []
    },
    {
      "metadata": {
        "id": "yydalCcIBWR8",
        "colab_type": "code",
        "outputId": "dc3becc4-1522-4ece-9889-c6fc83e3e090",
        "colab": {
          "base_uri": "https://localhost:8080/",
          "height": 35
        }
      },
      "cell_type": "code",
      "source": [
        "train_set = [(gender_features(n), gender) for (n, gender) in train_names]\n",
        "devtest_set = [(gender_features(n), gender) for (n, gender) in devtest_names]\n",
        "test_set = [(gender_features(n), gender) for (n, gender) in test_names]\n",
        "classifier = nltk.NaiveBayesClassifier.train(train_set)\n",
        "print(nltk.classify.accuracy(classifier, devtest_set)) "
      ],
      "execution_count": 25,
      "outputs": [
        {
          "output_type": "stream",
          "text": [
            "0.73\n"
          ],
          "name": "stdout"
        }
      ]
    },
    {
      "metadata": {
        "id": "GdPP4dY9Bdf3",
        "colab_type": "code",
        "colab": {}
      },
      "cell_type": "code",
      "source": [
        "errors = []\n",
        "for (name, tag) in devtest_names:\n",
        "  guess = classifier.classify(gender_features(name))\n",
        "  if guess != tag:\n",
        "    errors.append( (tag, guess, name) )"
      ],
      "execution_count": 0,
      "outputs": []
    },
    {
      "metadata": {
        "id": "8UugViUGBmw_",
        "colab_type": "code",
        "outputId": "cc49f309-83a8-47a1-fb9b-eb234f727ca0",
        "colab": {
          "base_uri": "https://localhost:8080/",
          "height": 4697
        }
      },
      "cell_type": "code",
      "source": [
        "for (tag, guess, name) in sorted(errors):\n",
        "  print('correct={:<8} guess={:<8s} name={:<30}'.format(tag, guess, name))"
      ],
      "execution_count": 27,
      "outputs": [
        {
          "output_type": "stream",
          "text": [
            "correct=female   guess=male     name=Ag                            \n",
            "correct=female   guess=male     name=Alex                          \n",
            "correct=female   guess=male     name=Alleen                        \n",
            "correct=female   guess=male     name=Allyn                         \n",
            "correct=female   guess=male     name=Alys                          \n",
            "correct=female   guess=male     name=Ardis                         \n",
            "correct=female   guess=male     name=Arleen                        \n",
            "correct=female   guess=male     name=Astrix                        \n",
            "correct=female   guess=male     name=Bird                          \n",
            "correct=female   guess=male     name=Blair                         \n",
            "correct=female   guess=male     name=Brenn                         \n",
            "correct=female   guess=male     name=Bridget                       \n",
            "correct=female   guess=male     name=Brier                         \n",
            "correct=female   guess=male     name=Caren                         \n",
            "correct=female   guess=male     name=Caroleen                      \n",
            "correct=female   guess=male     name=Caryn                         \n",
            "correct=female   guess=male     name=Catherin                      \n",
            "correct=female   guess=male     name=Catlin                        \n",
            "correct=female   guess=male     name=Chad                          \n",
            "correct=female   guess=male     name=Charo                         \n",
            "correct=female   guess=male     name=Chriss                        \n",
            "correct=female   guess=male     name=Christin                      \n",
            "correct=female   guess=male     name=Clem                          \n",
            "correct=female   guess=male     name=Consuelo                      \n",
            "correct=female   guess=male     name=Coriss                        \n",
            "correct=female   guess=male     name=Cristin                       \n",
            "correct=female   guess=male     name=Daloris                       \n",
            "correct=female   guess=male     name=Daryn                         \n",
            "correct=female   guess=male     name=Diann                         \n",
            "correct=female   guess=male     name=Doralin                       \n",
            "correct=female   guess=male     name=Doreen                        \n",
            "correct=female   guess=male     name=Dorian                        \n",
            "correct=female   guess=male     name=Dot                           \n",
            "correct=female   guess=male     name=Eileen                        \n",
            "correct=female   guess=male     name=Eleanor                       \n",
            "correct=female   guess=male     name=Ellen                         \n",
            "correct=female   guess=male     name=Eryn                          \n",
            "correct=female   guess=male     name=Evelyn                        \n",
            "correct=female   guess=male     name=Fanchon                       \n",
            "correct=female   guess=male     name=Felicdad                      \n",
            "correct=female   guess=male     name=Frances                       \n",
            "correct=female   guess=male     name=Garland                       \n",
            "correct=female   guess=male     name=Germain                       \n",
            "correct=female   guess=male     name=Gertrud                       \n",
            "correct=female   guess=male     name=Gillian                       \n",
            "correct=female   guess=male     name=Glenn                         \n",
            "correct=female   guess=male     name=Greer                         \n",
            "correct=female   guess=male     name=Gretchen                      \n",
            "correct=female   guess=male     name=Gunvor                        \n",
            "correct=female   guess=male     name=Harriott                      \n",
            "correct=female   guess=male     name=Hedwig                        \n",
            "correct=female   guess=male     name=Inez                          \n",
            "correct=female   guess=male     name=Ingaborg                      \n",
            "correct=female   guess=male     name=Ingeberg                      \n",
            "correct=female   guess=male     name=Ingrid                        \n",
            "correct=female   guess=male     name=Jackquelin                    \n",
            "correct=female   guess=male     name=Jaquelin                      \n",
            "correct=female   guess=male     name=Jilleen                       \n",
            "correct=female   guess=male     name=Jo-Ann                        \n",
            "correct=female   guess=male     name=Jolyn                         \n",
            "correct=female   guess=male     name=Karlen                        \n",
            "correct=female   guess=male     name=Kathleen                      \n",
            "correct=female   guess=male     name=Katleen                       \n",
            "correct=female   guess=male     name=Kristan                       \n",
            "correct=female   guess=male     name=Kylen                         \n",
            "correct=female   guess=male     name=Lark                          \n",
            "correct=female   guess=male     name=Laureen                       \n",
            "correct=female   guess=male     name=Lauren                        \n",
            "correct=female   guess=male     name=LeeAnn                        \n",
            "correct=female   guess=male     name=Lilas                         \n",
            "correct=female   guess=male     name=Lin                           \n",
            "correct=female   guess=male     name=Loren                         \n",
            "correct=female   guess=male     name=Lyn                           \n",
            "correct=female   guess=male     name=Madlin                        \n",
            "correct=female   guess=male     name=Maegan                        \n",
            "correct=female   guess=male     name=Mair                          \n",
            "correct=female   guess=male     name=Mairead                       \n",
            "correct=female   guess=male     name=Marieann                      \n",
            "correct=female   guess=male     name=Marijo                        \n",
            "correct=female   guess=male     name=Marj                          \n",
            "correct=female   guess=male     name=Marleen                       \n",
            "correct=female   guess=male     name=Marris                        \n",
            "correct=female   guess=male     name=Max                           \n",
            "correct=female   guess=male     name=Millisent                     \n",
            "correct=female   guess=male     name=Nadeen                        \n",
            "correct=female   guess=male     name=Nat                           \n",
            "correct=female   guess=male     name=Noelyn                        \n",
            "correct=female   guess=male     name=Olwen                         \n",
            "correct=female   guess=male     name=Raf                           \n",
            "correct=female   guess=male     name=Raven                         \n",
            "correct=female   guess=male     name=Ros                           \n",
            "correct=female   guess=male     name=Rosalynd                      \n",
            "correct=female   guess=male     name=Roslyn                        \n",
            "correct=female   guess=male     name=Ryann                         \n",
            "correct=female   guess=male     name=Shannon                       \n",
            "correct=female   guess=male     name=Sharleen                      \n",
            "correct=female   guess=male     name=Sharron                       \n",
            "correct=female   guess=male     name=Siobhan                       \n",
            "correct=female   guess=male     name=Sioux                         \n",
            "correct=female   guess=male     name=Starr                         \n",
            "correct=female   guess=male     name=Stoddard                      \n",
            "correct=female   guess=male     name=Tamar                         \n",
            "correct=female   guess=male     name=Terri-Jo                      \n",
            "correct=female   guess=male     name=Vin                           \n",
            "correct=female   guess=male     name=Wallis                        \n",
            "correct=female   guess=male     name=Wynn                          \n",
            "correct=male     guess=female   name=Abdel                         \n",
            "correct=male     guess=female   name=Allie                         \n",
            "correct=male     guess=female   name=Ambrose                       \n",
            "correct=male     guess=female   name=Anatoly                       \n",
            "correct=male     guess=female   name=Baillie                       \n",
            "correct=male     guess=female   name=Bartholemy                    \n",
            "correct=male     guess=female   name=Barty                         \n",
            "correct=male     guess=female   name=Bentley                       \n",
            "correct=male     guess=female   name=Berkie                        \n",
            "correct=male     guess=female   name=Bertie                        \n",
            "correct=male     guess=female   name=Blayne                        \n",
            "correct=male     guess=female   name=Bobby                         \n",
            "correct=male     guess=female   name=Brady                         \n",
            "correct=male     guess=female   name=Brice                         \n",
            "correct=male     guess=female   name=Brinkley                      \n",
            "correct=male     guess=female   name=Carleigh                      \n",
            "correct=male     guess=female   name=Chaddy                        \n",
            "correct=male     guess=female   name=Chauncey                      \n",
            "correct=male     guess=female   name=Chevy                         \n",
            "correct=male     guess=female   name=Claire                        \n",
            "correct=male     guess=female   name=Cobby                         \n",
            "correct=male     guess=female   name=Daniel                        \n",
            "correct=male     guess=female   name=Darby                         \n",
            "correct=male     guess=female   name=Darcy                         \n",
            "correct=male     guess=female   name=Darrel                        \n",
            "correct=male     guess=female   name=Darrell                       \n",
            "correct=male     guess=female   name=Darryl                        \n",
            "correct=male     guess=female   name=Davide                        \n",
            "correct=male     guess=female   name=Deane                         \n",
            "correct=male     guess=female   name=Demetri                       \n",
            "correct=male     guess=female   name=Donnie                        \n",
            "correct=male     guess=female   name=Dryke                         \n",
            "correct=male     guess=female   name=Duffie                        \n",
            "correct=male     guess=female   name=Earle                         \n",
            "correct=male     guess=female   name=Elijah                        \n",
            "correct=male     guess=female   name=Emile                         \n",
            "correct=male     guess=female   name=Errol                         \n",
            "correct=male     guess=female   name=Felipe                        \n",
            "correct=male     guess=female   name=Garvy                         \n",
            "correct=male     guess=female   name=Gavriel                       \n",
            "correct=male     guess=female   name=Geri                          \n",
            "correct=male     guess=female   name=Godfry                        \n",
            "correct=male     guess=female   name=Graeme                        \n",
            "correct=male     guess=female   name=Gustave                       \n",
            "correct=male     guess=female   name=Guthrey                       \n",
            "correct=male     guess=female   name=Guy                           \n",
            "correct=male     guess=female   name=Haleigh                       \n",
            "correct=male     guess=female   name=Hall                          \n",
            "correct=male     guess=female   name=Harley                        \n",
            "correct=male     guess=female   name=Hartwell                      \n",
            "correct=male     guess=female   name=Heath                         \n",
            "correct=male     guess=female   name=Herby                         \n",
            "correct=male     guess=female   name=Hillary                       \n",
            "correct=male     guess=female   name=Hirsch                        \n",
            "correct=male     guess=female   name=Holly                         \n",
            "correct=male     guess=female   name=Humphrey                      \n",
            "correct=male     guess=female   name=Huntlee                       \n",
            "correct=male     guess=female   name=Ignace                        \n",
            "correct=male     guess=female   name=Irvine                        \n",
            "correct=male     guess=female   name=Jackie                        \n",
            "correct=male     guess=female   name=Jeremiah                      \n",
            "correct=male     guess=female   name=Jerri                         \n",
            "correct=male     guess=female   name=Jeth                          \n",
            "correct=male     guess=female   name=Jorge                         \n",
            "correct=male     guess=female   name=Juanita                       \n",
            "correct=male     guess=female   name=Jule                          \n",
            "correct=male     guess=female   name=Kelly                         \n",
            "correct=male     guess=female   name=Kennedy                       \n",
            "correct=male     guess=female   name=Kingsley                      \n",
            "correct=male     guess=female   name=Klee                          \n",
            "correct=male     guess=female   name=Laurance                      \n",
            "correct=male     guess=female   name=Laurence                      \n",
            "correct=male     guess=female   name=Lawerence                     \n",
            "correct=male     guess=female   name=Lawrence                      \n",
            "correct=male     guess=female   name=Lefty                         \n",
            "correct=male     guess=female   name=Leigh                         \n",
            "correct=male     guess=female   name=Lindsay                       \n",
            "correct=male     guess=female   name=Lionel                        \n",
            "correct=male     guess=female   name=Locke                         \n",
            "correct=male     guess=female   name=Lorrie                        \n",
            "correct=male     guess=female   name=Louie                         \n",
            "correct=male     guess=female   name=Luke                          \n",
            "correct=male     guess=female   name=Mackenzie                     \n",
            "correct=male     guess=female   name=Manish                        \n",
            "correct=male     guess=female   name=Marcel                        \n",
            "correct=male     guess=female   name=Marshall                      \n",
            "correct=male     guess=female   name=Maxie                         \n",
            "correct=male     guess=female   name=Mendie                        \n",
            "correct=male     guess=female   name=Micheil                       \n",
            "correct=male     guess=female   name=Monty                         \n",
            "correct=male     guess=female   name=Morry                         \n",
            "correct=male     guess=female   name=Mustafa                       \n",
            "correct=male     guess=female   name=Nathaniel                     \n",
            "correct=male     guess=female   name=Neal                          \n",
            "correct=male     guess=female   name=Neddie                        \n",
            "correct=male     guess=female   name=Nevil                         \n",
            "correct=male     guess=female   name=Nikki                         \n",
            "correct=male     guess=female   name=Olle                          \n",
            "correct=male     guess=female   name=Orbadiah                      \n",
            "correct=male     guess=female   name=Ozzie                         \n",
            "correct=male     guess=female   name=Parke                         \n",
            "correct=male     guess=female   name=Pasquale                      \n",
            "correct=male     guess=female   name=Patsy                         \n",
            "correct=male     guess=female   name=Paul                          \n",
            "correct=male     guess=female   name=Pearce                        \n",
            "correct=male     guess=female   name=Pembroke                      \n",
            "correct=male     guess=female   name=Penny                         \n",
            "correct=male     guess=female   name=Pete                          \n",
            "correct=male     guess=female   name=Pooh                          \n",
            "correct=male     guess=female   name=Quiggly                       \n",
            "correct=male     guess=female   name=Quincey                       \n",
            "correct=male     guess=female   name=Quincy                        \n",
            "correct=male     guess=female   name=Rabi                          \n",
            "correct=male     guess=female   name=Ralph                         \n",
            "correct=male     guess=female   name=Ramsey                        \n",
            "correct=male     guess=female   name=Randal                        \n",
            "correct=male     guess=female   name=Ravi                          \n",
            "correct=male     guess=female   name=Rawley                        \n",
            "correct=male     guess=female   name=Rene                          \n",
            "correct=male     guess=female   name=Rodolphe                      \n",
            "correct=male     guess=female   name=Royal                         \n",
            "correct=male     guess=female   name=Ruddie                        \n",
            "correct=male     guess=female   name=Rutledge                      \n",
            "correct=male     guess=female   name=Sammie                        \n",
            "correct=male     guess=female   name=Sansone                       \n",
            "correct=male     guess=female   name=Sasha                         \n",
            "correct=male     guess=female   name=See                           \n",
            "correct=male     guess=female   name=Shane                         \n",
            "correct=male     guess=female   name=Shay                          \n",
            "correct=male     guess=female   name=Si                            \n",
            "correct=male     guess=female   name=Simone                        \n",
            "correct=male     guess=female   name=Skell                         \n",
            "correct=male     guess=female   name=Skye                          \n",
            "correct=male     guess=female   name=Sonnie                        \n",
            "correct=male     guess=female   name=Stanly                        \n",
            "correct=male     guess=female   name=Tally                         \n",
            "correct=male     guess=female   name=Tate                          \n",
            "correct=male     guess=female   name=Teddie                        \n",
            "correct=male     guess=female   name=Teddy                         \n",
            "correct=male     guess=female   name=Terrell                       \n",
            "correct=male     guess=female   name=Tommy                         \n",
            "correct=male     guess=female   name=Torey                         \n",
            "correct=male     guess=female   name=Towney                        \n",
            "correct=male     guess=female   name=Tye                           \n",
            "correct=male     guess=female   name=Vachel                        \n",
            "correct=male     guess=female   name=Val                           \n",
            "correct=male     guess=female   name=Verge                         \n",
            "correct=male     guess=female   name=Vince                         \n",
            "correct=male     guess=female   name=Wake                          \n",
            "correct=male     guess=female   name=Ware                          \n",
            "correct=male     guess=female   name=Wayne                         \n",
            "correct=male     guess=female   name=Welby                         \n",
            "correct=male     guess=female   name=Wendell                       \n",
            "correct=male     guess=female   name=Wiley                         \n",
            "correct=male     guess=female   name=Will                          \n",
            "correct=male     guess=female   name=Willey                        \n",
            "correct=male     guess=female   name=Willy                         \n",
            "correct=male     guess=female   name=Wojciech                      \n",
            "correct=male     guess=female   name=Worthy                        \n",
            "correct=male     guess=female   name=Yankee                        \n",
            "correct=male     guess=female   name=Yigal                         \n",
            "correct=male     guess=female   name=Zachariah                     \n",
            "correct=male     guess=female   name=Zackariah                     \n",
            "correct=male     guess=female   name=Zollie                        \n"
          ],
          "name": "stdout"
        }
      ]
    },
    {
      "metadata": {
        "id": "du0L2RcABri5",
        "colab_type": "code",
        "colab": {}
      },
      "cell_type": "code",
      "source": [
        "def gender_features(word):\n",
        "  return {'suffix1': word[-1:], 'suffix2': word[-2:]}"
      ],
      "execution_count": 0,
      "outputs": []
    },
    {
      "metadata": {
        "id": "gYZT1o64Ctqm",
        "colab_type": "code",
        "outputId": "efb7ed1f-509d-448b-e539-82269205882d",
        "colab": {
          "base_uri": "https://localhost:8080/",
          "height": 35
        }
      },
      "cell_type": "code",
      "source": [
        "train_set = [(gender_features(n), gender) for (n, gender) in train_names]\n",
        "devtest_set = [(gender_features(n), gender) for (n, gender) in devtest_names]\n",
        "classifier = nltk.NaiveBayesClassifier.train(train_set)\n",
        "print(nltk.classify.accuracy(classifier, devtest_set))"
      ],
      "execution_count": 29,
      "outputs": [
        {
          "output_type": "stream",
          "text": [
            "0.755\n"
          ],
          "name": "stdout"
        }
      ]
    },
    {
      "metadata": {
        "id": "sfxR9LTWDi3e",
        "colab_type": "code",
        "outputId": "792e860a-2991-4f79-9bb7-137acbc01674",
        "colab": {
          "base_uri": "https://localhost:8080/",
          "height": 69
        }
      },
      "cell_type": "code",
      "source": [
        "import nltk\n",
        "nltk.download('movie_reviews')"
      ],
      "execution_count": 30,
      "outputs": [
        {
          "output_type": "stream",
          "text": [
            "[nltk_data] Downloading package movie_reviews to /root/nltk_data...\n",
            "[nltk_data]   Unzipping corpora/movie_reviews.zip.\n"
          ],
          "name": "stdout"
        },
        {
          "output_type": "execute_result",
          "data": {
            "text/plain": [
              "True"
            ]
          },
          "metadata": {
            "tags": []
          },
          "execution_count": 30
        }
      ]
    },
    {
      "metadata": {
        "id": "gy8CDgdnC3k_",
        "colab_type": "code",
        "colab": {}
      },
      "cell_type": "code",
      "source": [
        "from nltk.corpus import movie_reviews\n",
        "documents = [(list(movie_reviews.words(fileid)), category)\n",
        "              for category in movie_reviews.categories()\n",
        "              for fileid in movie_reviews.fileids(category)]\n",
        "random.shuffle(documents)"
      ],
      "execution_count": 0,
      "outputs": []
    },
    {
      "metadata": {
        "id": "Jas_BBCEDRpT",
        "colab_type": "code",
        "colab": {}
      },
      "cell_type": "code",
      "source": [
        "all_words = nltk.FreqDist(w.lower() for w in movie_reviews.words())\n",
        "word_features = list(all_words)[:2000]\n",
        "\n",
        "def document_features(document): \n",
        "    document_words = set(document)\n",
        "    features = {}\n",
        "    for word in word_features:\n",
        "        features['contains({})'.format(word)] = (word in document_words)\n",
        "    return features"
      ],
      "execution_count": 0,
      "outputs": []
    },
    {
      "metadata": {
        "id": "ptQ03stiDxfk",
        "colab_type": "code",
        "outputId": "ba05af95-fc0d-49b5-f312-5aa68b81be8d",
        "colab": {
          "base_uri": "https://localhost:8080/",
          "height": 55
        }
      },
      "cell_type": "code",
      "source": [
        "print(document_features(movie_reviews.words('pos/cv957_8737.txt'))) "
      ],
      "execution_count": 33,
      "outputs": [
        {
          "output_type": "stream",
          "text": [
            "{'contains(plot)': True, 'contains(:)': True, 'contains(two)': True, 'contains(teen)': False, 'contains(couples)': False, 'contains(go)': False, 'contains(to)': True, 'contains(a)': True, 'contains(church)': False, 'contains(party)': False, 'contains(,)': True, 'contains(drink)': False, 'contains(and)': True, 'contains(then)': True, 'contains(drive)': False, 'contains(.)': True, 'contains(they)': True, 'contains(get)': True, 'contains(into)': True, 'contains(an)': True, 'contains(accident)': False, 'contains(one)': True, 'contains(of)': True, 'contains(the)': True, 'contains(guys)': False, 'contains(dies)': False, 'contains(but)': True, 'contains(his)': True, 'contains(girlfriend)': True, 'contains(continues)': False, 'contains(see)': False, 'contains(him)': True, 'contains(in)': True, 'contains(her)': False, 'contains(life)': False, 'contains(has)': True, 'contains(nightmares)': False, 'contains(what)': True, \"contains(')\": True, 'contains(s)': True, 'contains(deal)': False, 'contains(?)': False, 'contains(watch)': True, 'contains(movie)': True, 'contains(\")': True, 'contains(sorta)': False, 'contains(find)': False, 'contains(out)': True, 'contains(critique)': False, 'contains(mind)': False, 'contains(-)': True, 'contains(fuck)': False, 'contains(for)': True, 'contains(generation)': False, 'contains(that)': True, 'contains(touches)': False, 'contains(on)': True, 'contains(very)': True, 'contains(cool)': False, 'contains(idea)': True, 'contains(presents)': False, 'contains(it)': True, 'contains(bad)': False, 'contains(package)': False, 'contains(which)': True, 'contains(is)': True, 'contains(makes)': False, 'contains(this)': True, 'contains(review)': False, 'contains(even)': False, 'contains(harder)': False, 'contains(write)': False, 'contains(since)': False, 'contains(i)': False, 'contains(generally)': False, 'contains(applaud)': False, 'contains(films)': False, 'contains(attempt)': False, 'contains(break)': False, 'contains(mold)': False, 'contains(mess)': False, 'contains(with)': True, 'contains(your)': False, 'contains(head)': False, 'contains(such)': False, 'contains(()': True, 'contains(lost)': False, 'contains(highway)': False, 'contains(&)': False, 'contains(memento)': False, 'contains())': True, 'contains(there)': True, 'contains(are)': True, 'contains(good)': False, 'contains(ways)': False, 'contains(making)': True, 'contains(all)': True, 'contains(types)': False, 'contains(these)': False, 'contains(folks)': False, 'contains(just)': True, 'contains(didn)': False, 'contains(t)': False, 'contains(snag)': False, 'contains(correctly)': False, 'contains(seem)': False, 'contains(have)': True, 'contains(taken)': False, 'contains(pretty)': False, 'contains(neat)': False, 'contains(concept)': False, 'contains(executed)': False, 'contains(terribly)': False, 'contains(so)': False, 'contains(problems)': True, 'contains(well)': True, 'contains(its)': False, 'contains(main)': False, 'contains(problem)': False, 'contains(simply)': False, 'contains(too)': False, 'contains(jumbled)': False, 'contains(starts)': False, 'contains(off)': False, 'contains(normal)': False, 'contains(downshifts)': False, 'contains(fantasy)': False, 'contains(world)': True, 'contains(you)': True, 'contains(as)': True, 'contains(audience)': False, 'contains(member)': False, 'contains(no)': False, 'contains(going)': False, 'contains(dreams)': False, 'contains(characters)': False, 'contains(coming)': False, 'contains(back)': False, 'contains(from)': True, 'contains(dead)': False, 'contains(others)': True, 'contains(who)': True, 'contains(look)': True, 'contains(like)': True, 'contains(strange)': False, 'contains(apparitions)': False, 'contains(disappearances)': False, 'contains(looooot)': False, 'contains(chase)': True, 'contains(scenes)': False, 'contains(tons)': False, 'contains(weird)': False, 'contains(things)': True, 'contains(happen)': False, 'contains(most)': True, 'contains(not)': True, 'contains(explained)': False, 'contains(now)': False, 'contains(personally)': False, 'contains(don)': False, 'contains(trying)': False, 'contains(unravel)': False, 'contains(film)': False, 'contains(every)': False, 'contains(when)': True, 'contains(does)': False, 'contains(give)': False, 'contains(me)': True, 'contains(same)': True, 'contains(clue)': False, 'contains(over)': False, 'contains(again)': False, 'contains(kind)': True, 'contains(fed)': False, 'contains(up)': False, 'contains(after)': False, 'contains(while)': True, 'contains(biggest)': False, 'contains(obviously)': False, 'contains(got)': True, 'contains(big)': False, 'contains(secret)': False, 'contains(hide)': False, 'contains(seems)': False, 'contains(want)': False, 'contains(completely)': False, 'contains(until)': False, 'contains(final)': False, 'contains(five)': False, 'contains(minutes)': False, 'contains(do)': True, 'contains(make)': True, 'contains(entertaining)': False, 'contains(thrilling)': False, 'contains(or)': False, 'contains(engaging)': False, 'contains(meantime)': False, 'contains(really)': False, 'contains(sad)': False, 'contains(part)': False, 'contains(arrow)': False, 'contains(both)': False, 'contains(dig)': False, 'contains(flicks)': False, 'contains(we)': False, 'contains(actually)': True, 'contains(figured)': False, 'contains(by)': True, 'contains(half)': False, 'contains(way)': True, 'contains(point)': False, 'contains(strangeness)': False, 'contains(did)': False, 'contains(start)': True, 'contains(little)': True, 'contains(bit)': False, 'contains(sense)': False, 'contains(still)': False, 'contains(more)': False, 'contains(guess)': False, 'contains(bottom)': False, 'contains(line)': False, 'contains(movies)': True, 'contains(should)': False, 'contains(always)': False, 'contains(sure)': False, 'contains(before)': False, 'contains(given)': False, 'contains(password)': False, 'contains(enter)': False, 'contains(understanding)': False, 'contains(mean)': False, 'contains(showing)': False, 'contains(melissa)': False, 'contains(sagemiller)': False, 'contains(running)': False, 'contains(away)': False, 'contains(visions)': False, 'contains(about)': True, 'contains(20)': False, 'contains(throughout)': False, 'contains(plain)': False, 'contains(lazy)': False, 'contains(!)': True, 'contains(okay)': False, 'contains(people)': False, 'contains(chasing)': False, 'contains(know)': False, 'contains(need)': False, 'contains(how)': True, 'contains(giving)': False, 'contains(us)': True, 'contains(different)': False, 'contains(offering)': False, 'contains(further)': False, 'contains(insight)': False, 'contains(down)': False, 'contains(apparently)': False, 'contains(studio)': False, 'contains(took)': False, 'contains(director)': False, 'contains(chopped)': False, 'contains(themselves)': False, 'contains(shows)': False, 'contains(might)': False, 'contains(ve)': False, 'contains(been)': False, 'contains(decent)': False, 'contains(here)': True, 'contains(somewhere)': False, 'contains(suits)': False, 'contains(decided)': False, 'contains(turning)': False, 'contains(music)': False, 'contains(video)': False, 'contains(edge)': False, 'contains(would)': False, 'contains(actors)': False, 'contains(although)': False, 'contains(wes)': False, 'contains(bentley)': False, 'contains(seemed)': False, 'contains(be)': True, 'contains(playing)': True, 'contains(exact)': False, 'contains(character)': False, 'contains(he)': True, 'contains(american)': False, 'contains(beauty)': False, 'contains(only)': True, 'contains(new)': False, 'contains(neighborhood)': False, 'contains(my)': False, 'contains(kudos)': False, 'contains(holds)': False, 'contains(own)': True, 'contains(entire)': False, 'contains(feeling)': False, 'contains(unraveling)': False, 'contains(overall)': False, 'contains(doesn)': False, 'contains(stick)': False, 'contains(because)': False, 'contains(entertain)': False, 'contains(confusing)': False, 'contains(rarely)': False, 'contains(excites)': False, 'contains(feels)': False, 'contains(redundant)': False, 'contains(runtime)': False, 'contains(despite)': False, 'contains(ending)': False, 'contains(explanation)': False, 'contains(craziness)': False, 'contains(came)': False, 'contains(oh)': False, 'contains(horror)': False, 'contains(slasher)': False, 'contains(flick)': False, 'contains(packaged)': False, 'contains(someone)': False, 'contains(assuming)': False, 'contains(genre)': False, 'contains(hot)': False, 'contains(kids)': False, 'contains(also)': True, 'contains(wrapped)': False, 'contains(production)': False, 'contains(years)': False, 'contains(ago)': False, 'contains(sitting)': False, 'contains(shelves)': False, 'contains(ever)': True, 'contains(whatever)': False, 'contains(skip)': False, 'contains(where)': True, 'contains(joblo)': False, 'contains(nightmare)': False, 'contains(elm)': False, 'contains(street)': False, 'contains(3)': False, 'contains(7)': False, 'contains(/)': False, 'contains(10)': False, 'contains(blair)': False, 'contains(witch)': False, 'contains(2)': False, 'contains(crow)': False, 'contains(9)': False, 'contains(salvation)': False, 'contains(4)': False, 'contains(stir)': False, 'contains(echoes)': False, 'contains(8)': False, 'contains(happy)': False, 'contains(bastard)': False, 'contains(quick)': True, 'contains(damn)': False, 'contains(y2k)': False, 'contains(bug)': False, 'contains(starring)': False, 'contains(jamie)': False, 'contains(lee)': False, 'contains(curtis)': False, 'contains(another)': False, 'contains(baldwin)': False, 'contains(brother)': False, 'contains(william)': False, 'contains(time)': False, 'contains(story)': False, 'contains(regarding)': False, 'contains(crew)': False, 'contains(tugboat)': False, 'contains(comes)': False, 'contains(across)': False, 'contains(deserted)': False, 'contains(russian)': False, 'contains(tech)': False, 'contains(ship)': False, 'contains(kick)': False, 'contains(power)': False, 'contains(within)': False, 'contains(gore)': False, 'contains(bringing)': False, 'contains(few)': False, 'contains(action)': True, 'contains(sequences)': False, 'contains(virus)': False, 'contains(empty)': False, 'contains(flash)': False, 'contains(substance)': False, 'contains(why)': False, 'contains(was)': False, 'contains(middle)': False, 'contains(nowhere)': False, 'contains(origin)': False, 'contains(pink)': False, 'contains(flashy)': False, 'contains(thing)': False, 'contains(hit)': False, 'contains(mir)': False, 'contains(course)': True, 'contains(donald)': False, 'contains(sutherland)': False, 'contains(stumbling)': False, 'contains(around)': False, 'contains(drunkenly)': False, 'contains(hey)': False, 'contains(let)': False, 'contains(some)': False, 'contains(robots)': False, 'contains(acting)': False, 'contains(below)': False, 'contains(average)': False, 'contains(likes)': False, 'contains(re)': True, 'contains(likely)': False, 'contains(work)': False, 'contains(halloween)': False, 'contains(h20)': False, 'contains(wasted)': False, 'contains(real)': False, 'contains(star)': False, 'contains(stan)': False, 'contains(winston)': False, 'contains(robot)': False, 'contains(design)': False, 'contains(schnazzy)': False, 'contains(cgi)': False, 'contains(occasional)': False, 'contains(shot)': False, 'contains(picking)': False, 'contains(brain)': False, 'contains(if)': True, 'contains(body)': False, 'contains(parts)': False, 'contains(turn)': False, 'contains(otherwise)': False, 'contains(much)': False, 'contains(sunken)': False, 'contains(jaded)': False, 'contains(viewer)': False, 'contains(thankful)': False, 'contains(invention)': False, 'contains(timex)': False, 'contains(indiglo)': False, 'contains(based)': False, 'contains(late)': False, 'contains(1960)': False, 'contains(television)': False, 'contains(show)': False, 'contains(name)': False, 'contains(mod)': False, 'contains(squad)': False, 'contains(tells)': False, 'contains(tale)': False, 'contains(three)': False, 'contains(reformed)': False, 'contains(criminals)': False, 'contains(under)': False, 'contains(employ)': False, 'contains(police)': False, 'contains(undercover)': True, 'contains(however)': True, 'contains(wrong)': True, 'contains(evidence)': False, 'contains(gets)': True, 'contains(stolen)': False, 'contains(immediately)': False, 'contains(suspicion)': False, 'contains(ads)': False, 'contains(cuts)': False, 'contains(claire)': False, 'contains(dane)': False, 'contains(nice)': False, 'contains(hair)': False, 'contains(cute)': False, 'contains(outfits)': False, 'contains(car)': False, 'contains(chases)': False, 'contains(stuff)': False, 'contains(blowing)': False, 'contains(sounds)': False, 'contains(first)': False, 'contains(fifteen)': False, 'contains(quickly)': False, 'contains(becomes)': False, 'contains(apparent)': False, 'contains(certainly)': False, 'contains(slick)': False, 'contains(looking)': False, 'contains(complete)': False, 'contains(costumes)': False, 'contains(isn)': False, 'contains(enough)': False, 'contains(best)': True, 'contains(described)': False, 'contains(cross)': False, 'contains(between)': True, 'contains(hour)': False, 'contains(long)': False, 'contains(cop)': False, 'contains(stretched)': False, 'contains(span)': False, 'contains(single)': False, 'contains(clich)': False, 'contains(matter)': False, 'contains(elements)': False, 'contains(recycled)': False, 'contains(everything)': True, 'contains(already)': False, 'contains(seen)': False, 'contains(nothing)': False, 'contains(spectacular)': False, 'contains(sometimes)': False, 'contains(bordering)': False, 'contains(wooden)': False, 'contains(danes)': False, 'contains(omar)': False, 'contains(epps)': False, 'contains(deliver)': False, 'contains(their)': False, 'contains(lines)': False, 'contains(bored)': False, 'contains(transfers)': False, 'contains(onto)': False, 'contains(escape)': False, 'contains(relatively)': False, 'contains(unscathed)': False, 'contains(giovanni)': False, 'contains(ribisi)': False, 'contains(plays)': False, 'contains(resident)': False, 'contains(crazy)': False, 'contains(man)': False, 'contains(ultimately)': False, 'contains(being)': False, 'contains(worth)': True, 'contains(watching)': False, 'contains(unfortunately)': False, 'contains(save)': False, 'contains(convoluted)': False, 'contains(apart)': False, 'contains(occupying)': False, 'contains(screen)': True, 'contains(young)': False, 'contains(cast)': False, 'contains(clothes)': False, 'contains(hip)': False, 'contains(soundtrack)': False, 'contains(appears)': False, 'contains(geared)': False, 'contains(towards)': False, 'contains(teenage)': False, 'contains(mindset)': False, 'contains(r)': False, 'contains(rating)': False, 'contains(content)': False, 'contains(justify)': False, 'contains(juvenile)': False, 'contains(older)': False, 'contains(information)': False, 'contains(literally)': False, 'contains(spoon)': False, 'contains(hard)': False, 'contains(instead)': False, 'contains(telling)': False, 'contains(dialogue)': False, 'contains(poorly)': False, 'contains(written)': False, 'contains(extremely)': False, 'contains(predictable)': False, 'contains(progresses)': False, 'contains(won)': False, 'contains(care)': False, 'contains(heroes)': False, 'contains(any)': False, 'contains(jeopardy)': False, 'contains(ll)': False, 'contains(aren)': False, 'contains(basing)': False, 'contains(nobody)': False, 'contains(remembers)': False, 'contains(questionable)': False, 'contains(wisdom)': False, 'contains(especially)': True, 'contains(considers)': False, 'contains(target)': False, 'contains(fact)': False, 'contains(number)': False, 'contains(memorable)': False, 'contains(can)': False, 'contains(counted)': False, 'contains(hand)': False, 'contains(missing)': False, 'contains(finger)': False, 'contains(times)': False, 'contains(checked)': False, 'contains(six)': False, 'contains(clear)': False, 'contains(indication)': False, 'contains(them)': True, 'contains(than)': False, 'contains(cash)': False, 'contains(spending)': False, 'contains(dollar)': False, 'contains(judging)': False, 'contains(rash)': False, 'contains(awful)': False, 'contains(seeing)': True, 'contains(avoid)': False, 'contains(at)': False, 'contains(costs)': False, 'contains(quest)': False, 'contains(camelot)': False, 'contains(warner)': False, 'contains(bros)': False, 'contains(feature)': False, 'contains(length)': False, 'contains(fully)': False, 'contains(animated)': False, 'contains(steal)': False, 'contains(clout)': False, 'contains(disney)': False, 'contains(cartoon)': False, 'contains(empire)': False, 'contains(mouse)': False, 'contains(reason)': False, 'contains(worried)': False, 'contains(other)': True, 'contains(recent)': False, 'contains(challenger)': False, 'contains(throne)': False, 'contains(last)': False, 'contains(fall)': False, 'contains(promising)': False, 'contains(flawed)': False, 'contains(20th)': False, 'contains(century)': False, 'contains(fox)': False, 'contains(anastasia)': False, 'contains(hercules)': False, 'contains(lively)': False, 'contains(colorful)': False, 'contains(palate)': False, 'contains(had)': False, 'contains(beat)': False, 'contains(hands)': False, 'contains(crown)': False, 'contains(1997)': False, 'contains(piece)': False, 'contains(animation)': False, 'contains(year)': False, 'contains(contest)': False, 'contains(arrival)': False, 'contains(magic)': False, 'contains(kingdom)': False, 'contains(mediocre)': False, 'contains(--)': True, 'contains(d)': False, 'contains(pocahontas)': False, 'contains(those)': False, 'contains(keeping)': False, 'contains(score)': False, 'contains(nearly)': False, 'contains(dull)': False, 'contains(revolves)': False, 'contains(adventures)': False, 'contains(free)': False, 'contains(spirited)': False, 'contains(kayley)': False, 'contains(voiced)': False, 'contains(jessalyn)': False, 'contains(gilsig)': False, 'contains(early)': True, 'contains(daughter)': False, 'contains(belated)': False, 'contains(knight)': False, 'contains(king)': False, 'contains(arthur)': False, 'contains(round)': False, 'contains(table)': False, 'contains(dream)': False, 'contains(follow)': False, 'contains(father)': False, 'contains(footsteps)': False, 'contains(she)': True, 'contains(chance)': False, 'contains(evil)': False, 'contains(warlord)': False, 'contains(ruber)': False, 'contains(gary)': False, 'contains(oldman)': False, 'contains(ex)': False, 'contains(gone)': False, 'contains(steals)': False, 'contains(magical)': False, 'contains(sword)': False, 'contains(excalibur)': False, 'contains(accidentally)': False, 'contains(loses)': False, 'contains(dangerous)': True, 'contains(booby)': False, 'contains(trapped)': False, 'contains(forest)': False, 'contains(help)': True, 'contains(hunky)': False, 'contains(blind)': False, 'contains(timberland)': False, 'contains(dweller)': False, 'contains(garrett)': False, 'contains(carey)': False, 'contains(elwes)': False, 'contains(headed)': False, 'contains(dragon)': False, 'contains(eric)': False, 'contains(idle)': False, 'contains(rickles)': False, 'contains(arguing)': False, 'contains(itself)': False, 'contains(able)': False, 'contains(medieval)': False, 'contains(sexist)': False, 'contains(prove)': False, 'contains(fighter)': False, 'contains(side)': False, 'contains(pure)': False, 'contains(showmanship)': False, 'contains(essential)': False, 'contains(element)': False, 'contains(expected)': False, 'contains(climb)': False, 'contains(high)': False, 'contains(ranks)': False, 'contains(differentiates)': False, 'contains(something)': False, 'contains(saturday)': False, 'contains(morning)': False, 'contains(subpar)': False, 'contains(instantly)': False, 'contains(forgettable)': False, 'contains(songs)': False, 'contains(integrated)': False, 'contains(computerized)': False, 'contains(footage)': False, 'contains(compare)': False, 'contains(run)': False, 'contains(angry)': False, 'contains(ogre)': False, 'contains(herc)': False, 'contains(battle)': False, 'contains(hydra)': False, 'contains(rest)': False, 'contains(case)': False, 'contains(stink)': False, 'contains(none)': False, 'contains(remotely)': False, 'contains(interesting)': False, 'contains(race)': False, 'contains(bland)': False, 'contains(end)': False, 'contains(tie)': False, 'contains(win)': False, 'contains(comedy)': True, 'contains(shtick)': False, 'contains(awfully)': False, 'contains(cloying)': False, 'contains(least)': True, 'contains(signs)': False, 'contains(pulse)': False, 'contains(fans)': False, \"contains(-')\": False, 'contains(90s)': False, 'contains(tgif)': False, 'contains(will)': True, 'contains(thrilled)': False, 'contains(jaleel)': False, 'contains(urkel)': False, 'contains(white)': False, 'contains(bronson)': False, 'contains(balki)': False, 'contains(pinchot)': False, 'contains(sharing)': False, 'contains(nicely)': False, 'contains(realized)': False, 'contains(though)': False, 'contains(m)': False, 'contains(loss)': False, 'contains(recall)': False, 'contains(specific)': False, 'contains(providing)': False, 'contains(voice)': False, 'contains(talent)': False, 'contains(enthusiastic)': False, 'contains(paired)': False, 'contains(singers)': False, 'contains(sound)': False, 'contains(musical)': False, 'contains(moments)': False, 'contains(jane)': False, 'contains(seymour)': False, 'contains(celine)': False, 'contains(dion)': False, 'contains(must)': False, 'contains(strain)': False, 'contains(through)': False, 'contains(aside)': False, 'contains(children)': False, 'contains(probably)': False, 'contains(adults)': False, 'contains(grievous)': False, 'contains(error)': False, 'contains(lack)': False, 'contains(personality)': False, 'contains(learn)': False, 'contains(goes)': False, 'contains(synopsis)': False, 'contains(mentally)': False, 'contains(unstable)': False, 'contains(undergoing)': False, 'contains(psychotherapy)': False, 'contains(saves)': False, 'contains(boy)': False, 'contains(potentially)': False, 'contains(fatal)': False, 'contains(falls)': False, 'contains(love)': False, 'contains(mother)': False, 'contains(fledgling)': False, 'contains(restauranteur)': False, 'contains(unsuccessfully)': False, 'contains(attempting)': False, 'contains(gain)': False, 'contains(woman)': True, 'contains(favor)': False, 'contains(takes)': False, 'contains(pictures)': False, 'contains(kills)': False, 'contains(comments)': True, 'contains(stalked)': False, 'contains(yet)': False, 'contains(seemingly)': False, 'contains(endless)': True, 'contains(string)': False, 'contains(spurned)': False, 'contains(psychos)': False, 'contains(getting)': True, 'contains(revenge)': False, 'contains(type)': False, 'contains(stable)': False, 'contains(category)': False, 'contains(1990s)': False, 'contains(industry)': False, 'contains(theatrical)': False, 'contains(direct)': False, 'contains(proliferation)': False, 'contains(may)': False, 'contains(due)': False, 'contains(typically)': False, 'contains(inexpensive)': False, 'contains(produce)': False, 'contains(special)': False, 'contains(effects)': False, 'contains(stars)': False, 'contains(serve)': False, 'contains(vehicles)': False, 'contains(nudity)': False, 'contains(allowing)': False, 'contains(frequent)': False, 'contains(night)': False, 'contains(cable)': False, 'contains(wavers)': False, 'contains(slightly)': False, 'contains(norm)': False, 'contains(respect)': False, 'contains(psycho)': False, 'contains(never)': True, 'contains(affair)': False, 'contains(;)': False, 'contains(contrary)': False, 'contains(rejected)': False, 'contains(rather)': False, 'contains(lover)': False, 'contains(wife)': True, 'contains(husband)': False, 'contains(entry)': False, 'contains(doomed)': False, 'contains(collect)': False, 'contains(dust)': False, 'contains(viewed)': False, 'contains(midnight)': False, 'contains(provide)': False, 'contains(suspense)': False, 'contains(sets)': False, 'contains(interspersed)': False, 'contains(opening)': False, 'contains(credits)': False, 'contains(instance)': False, 'contains(serious)': False, 'contains(sounding)': False, 'contains(narrator)': False, 'contains(spouts)': False, 'contains(statistics)': False, 'contains(stalkers)': False, 'contains(ponders)': False, 'contains(cause)': False, 'contains(stalk)': False, 'contains(implicitly)': False, 'contains(implied)': False, 'contains(men)': False, 'contains(shown)': False, 'contains(snapshot)': False, 'contains(actor)': False, 'contains(jay)': False, 'contains(underwood)': False, 'contains(states)': False, 'contains(daryl)': False, 'contains(gleason)': False, 'contains(stalker)': False, 'contains(brooke)': False, 'contains(daniels)': False, 'contains(meant)': False, 'contains(called)': False, 'contains(guesswork)': False, 'contains(required)': False, 'contains(proceeds)': False, 'contains(begins)': False, 'contains(obvious)': False, 'contains(sequence)': False, 'contains(contrived)': False, 'contains(quite)': False, 'contains(brings)': False, 'contains(victim)': False, 'contains(together)': False, 'contains(obsesses)': False, 'contains(follows)': False, 'contains(tries)': True, 'contains(woo)': False, 'contains(plans)': False, 'contains(become)': False, 'contains(desperate)': False, 'contains(elaborate)': False, 'contains(include)': False, 'contains(cliche)': False, 'contains(murdered)': False, 'contains(pet)': False, 'contains(require)': False, 'contains(found)': False, 'contains(exception)': False, 'contains(cat)': False, 'contains(shower)': False, 'contains(events)': False, 'contains(lead)': True, 'contains(inevitable)': False, 'contains(showdown)': False, 'contains(survives)': False, 'contains(invariably)': False, 'contains(conclusion)': False, 'contains(turkey)': False, 'contains(uniformly)': False, 'contains(adequate)': False, 'contains(anything)': False, 'contains(home)': False, 'contains(either)': False, 'contains(turns)': False, 'contains(toward)': False, 'contains(melodrama)': False, 'contains(overdoes)': False, 'contains(words)': False, 'contains(manages)': False, 'contains(creepy)': False, 'contains(pass)': False, 'contains(demands)': False, 'contains(maryam)': False, 'contains(abo)': False, 'contains(close)': False, 'contains(played)': True, 'contains(bond)': False, 'contains(chick)': False, 'contains(living)': False, 'contains(daylights)': False, 'contains(equally)': False, 'contains(title)': False, 'contains(ditzy)': False, 'contains(strong)': False, 'contains(independent)': False, 'contains(business)': False, 'contains(owner)': False, 'contains(needs)': False, 'contains(proceed)': False, 'contains(example)': False, 'contains(suspicions)': False, 'contains(ensure)': False, 'contains(use)': False, 'contains(excuse)': False, 'contains(decides)': False, 'contains(return)': False, 'contains(toolbox)': False, 'contains(left)': False, 'contains(place)': True, 'contains(house)': False, 'contains(leave)': False, 'contains(door)': False, 'contains(answers)': False, 'contains(opens)': False, 'contains(wanders)': False, 'contains(returns)': False, 'contains(enters)': False, 'contains(our)': False, 'contains(heroine)': False, 'contains(danger)': False, 'contains(somehow)': False, 'contains(parked)': False, 'contains(front)': False, 'contains(right)': False, 'contains(oblivious)': False, 'contains(presence)': False, 'contains(inside)': False, 'contains(whole)': False, 'contains(episode)': False, 'contains(places)': False, 'contains(incredible)': False, 'contains(suspension)': False, 'contains(disbelief)': False, 'contains(questions)': False, 'contains(validity)': False, 'contains(intelligence)': False, 'contains(receives)': False, 'contains(highly)': False, 'contains(derivative)': False, 'contains(somewhat)': False, 'contains(boring)': False, 'contains(cannot)': False, 'contains(watched)': False, 'contains(rated)': False, 'contains(mostly)': False, 'contains(several)': False, 'contains(murder)': False, 'contains(brief)': True, 'contains(strip)': False, 'contains(bar)': False, 'contains(offensive)': False, 'contains(many)': True, 'contains(thrillers)': False, 'contains(mood)': False, 'contains(stake)': False, 'contains(else)': False, 'contains(capsule)': True, 'contains(2176)': False, 'contains(planet)': False, 'contains(mars)': False, 'contains(taking)': False, 'contains(custody)': False, 'contains(accused)': False, 'contains(murderer)': False, 'contains(face)': False, 'contains(menace)': False, 'contains(lot)': False, 'contains(fighting)': False, 'contains(john)': False, 'contains(carpenter)': False, 'contains(reprises)': False, 'contains(ideas)': False, 'contains(previous)': False, 'contains(assault)': False, 'contains(precinct)': False, 'contains(13)': False, 'contains(homage)': False, 'contains(himself)': False, 'contains(0)': False, 'contains(+)': False, 'contains(believes)': False, 'contains(fight)': True, 'contains(horrible)': False, 'contains(writer)': False, 'contains(supposedly)': False, 'contains(expert)': False, 'contains(mistake)': False, 'contains(ghosts)': False, 'contains(drawn)': False, 'contains(humans)': False, 'contains(surprisingly)': False, 'contains(low)': False, 'contains(powered)': False, 'contains(alien)': False, 'contains(addition)': False, 'contains(anybody)': False, 'contains(made)': False, 'contains(grounds)': False, 'contains(sue)': False, 'contains(chock)': False, 'contains(full)': False, 'contains(pieces)': False, 'contains(prince)': False, 'contains(darkness)': False, 'contains(surprising)': False, 'contains(managed)': False, 'contains(fit)': False, 'contains(admittedly)': False, 'contains(novel)': False, 'contains(science)': False, 'contains(fiction)': False, 'contains(experience)': False, 'contains(terraformed)': False, 'contains(walk)': False, 'contains(surface)': False, 'contains(without)': False, 'contains(breathing)': False, 'contains(gear)': False, 'contains(budget)': False, 'contains(mentioned)': False, 'contains(gravity)': False, 'contains(increased)': False, 'contains(earth)': False, 'contains(easier)': False, 'contains(society)': False, 'contains(changed)': False, 'contains(advanced)': False, 'contains(culture)': False, 'contains(women)': False, 'contains(positions)': False, 'contains(control)': False, 'contains(view)': False, 'contains(stagnated)': False, 'contains(female)': False, 'contains(beyond)': False, 'contains(minor)': False, 'contains(technological)': False, 'contains(advances)': False, 'contains(less)': False, 'contains(175)': False, 'contains(expect)': False, 'contains(change)': False, 'contains(ten)': False, 'contains(basic)': False, 'contains(common)': False, 'contains(except)': False, 'contains(yes)': False, 'contains(replaced)': False, 'contains(tacky)': False, 'contains(rundown)': False, 'contains(martian)': False, 'contains(mining)': False, 'contains(colony)': False, 'contains(having)': False, 'contains(criminal)': False, 'contains(napolean)': False, 'contains(wilson)': False, 'contains(desolation)': False, 'contains(williams)': False, 'contains(facing)': False, 'contains(hoodlums)': False, 'contains(automatic)': False, 'contains(weapons)': False, 'contains(nature)': False, 'contains(behave)': False, 'contains(manner)': False, 'contains(essentially)': False, 'contains(human)': False, 'contains(savages)': False, 'contains(lapse)': False, 'contains(imagination)': False, 'contains(told)': False, 'contains(flashback)': False, 'contains(entirely)': False, 'contains(filmed)': False, 'contains(almost)': False, 'contains(tones)': False, 'contains(red)': False, 'contains(yellow)': False, 'contains(black)': False, 'contains(powerful)': False, 'contains(scene)': True, 'contains(train)': True, 'contains(rushing)': False, 'contains(heavy)': False, 'contains(sadly)': False, 'contains(buildup)': False, 'contains(terror)': False, 'contains(creates)': False, 'contains(looks)': True, 'contains(fugitive)': False, 'contains(wannabes)': False, 'contains(rock)': False, 'contains(band)': False, 'contains(kiss)': False, 'contains(building)': False, 'contains(bunch)': False, 'contains(sudden)': False, 'contains(jump)': False, 'contains(sucker)': False, 'contains(thinking)': False, 'contains(scary)': False, 'contains(happening)': False, 'contains(standard)': False, 'contains(haunted)': False, 'contains(shock)': False, 'contains(great)': True, 'contains(newer)': False, 'contains(unimpressive)': False, 'contains(digital)': False, 'contains(decapitations)': False, 'contains(fights)': False, 'contains(short)': False, 'contains(stretch)': False, 'contains(release)': False, 'contains(mission)': False, 'contains(panned)': False, 'contains(reviewers)': False, 'contains(better)': False, 'contains(rate)': False, 'contains(scale)': False, 'contains(following)': False, 'contains(showed)': False, 'contains(liked)': False, 'contains(moderately)': False, 'contains(classic)': False, 'contains(comment)': False, 'contains(twice)': False, 'contains(ask)': False, 'contains(yourself)': False, 'contains(8mm)': False, 'contains(eight)': True, 'contains(millimeter)': False, 'contains(wholesome)': False, 'contains(surveillance)': False, 'contains(sight)': False, 'contains(values)': False, 'contains(becoming)': False, 'contains(enmeshed)': False, 'contains(seedy)': False, 'contains(sleazy)': False, 'contains(underworld)': False, 'contains(hardcore)': False, 'contains(pornography)': False, 'contains(bubbling)': False, 'contains(beneath)': False, 'contains(town)': False, 'contains(americana)': False, 'contains(sordid)': False, 'contains(sick)': False, 'contains(depraved)': False, 'contains(necessarily)': False, 'contains(stop)': True, 'contains(order)': False, 'contains(satisfy)': False, 'contains(twisted)': False, 'contains(desires)': False, 'contains(position)': False, 'contains(influence)': False, 'contains(kinds)': False, 'contains(demented)': False, 'contains(talking)': False, 'contains(snuff)': False, 'contains(supposed)': False, 'contains(documentaries)': False, 'contains(victims)': False, 'contains(brutalized)': False, 'contains(killed)': False, 'contains(camera)': False, 'contains(joel)': False, 'contains(schumacher)': False, 'contains(credit)': False, 'contains(batman)': False, 'contains(robin)': False, 'contains(kill)': False, 'contains(forever)': False, 'contains(client)': False, 'contains(thirds)': False, 'contains(unwind)': False, 'contains(fairly)': True, 'contains(conventional)': False, 'contains(persons)': False, 'contains(drama)': False, 'contains(albeit)': False, 'contains(particularly)': False, 'contains(unsavory)': False, 'contains(core)': False, 'contains(threatening)': False, 'contains(along)': True, 'contains(explodes)': False, 'contains(violence)': False, 'contains(think)': False, 'contains(finally)': False, 'contains(tags)': False, 'contains(ridiculous)': False, 'contains(self)': False, 'contains(righteous)': False, 'contains(finale)': False, 'contains(drags)': False, 'contains(unpleasant)': False, 'contains(trust)': False, 'contains(waste)': False, 'contains(hours)': False, 'contains(nicolas)': False, 'contains(snake)': False, 'contains(eyes)': False, 'contains(cage)': False, 'contains(private)': False, 'contains(investigator)': False, 'contains(tom)': False, 'contains(welles)': False, 'contains(hired)': False, 'contains(wealthy)': False, 'contains(philadelphia)': False, 'contains(widow)': False, 'contains(determine)': False, 'contains(whether)': False, 'contains(reel)': False, 'contains(safe)': False, 'contains(documents)': False, 'contains(girl)': False, 'contains(assignment)': True, 'contains(factly)': False, 'contains(puzzle)': False, 'contains(neatly)': False, 'contains(specialized)': False, 'contains(skills)': False, 'contains(training)': False, 'contains(easy)': False, 'contains(cops)': False, 'contains(toilet)': False, 'contains(tanks)': False, 'contains(clues)': False, 'contains(deeper)': False, 'contains(digs)': False, 'contains(investigation)': False, 'contains(obsessed)': False, 'contains(george)': False, 'contains(c)': False, 'contains(scott)': False, 'contains(paul)': False, 'contains(schrader)': False, 'contains(occasionally)': False, 'contains(flickering)': False, 'contains(whirs)': False, 'contains(sprockets)': False, 'contains(winding)': False, 'contains(projector)': False, 'contains(reminding)': False, 'contains(task)': False, 'contains(hints)': False, 'contains(toll)': False, 'contains(lovely)': False, 'contains(catherine)': False, 'contains(keener)': False, 'contains(frustrated)': False, 'contains(cleveland)': False, 'contains(ugly)': False, 'contains(split)': False, 'contains(level)': False, 'contains(harrisburg)': False, 'contains(pa)': False, 'contains(condemn)': False, 'contains(condone)': False, 'contains(subject)': False, 'contains(exploits)': False, 'contains(irony)': False, 'contains(seven)': False, 'contains(scribe)': False, 'contains(andrew)': False, 'contains(kevin)': True, 'contains(walker)': False, 'contains(vision)': False, 'contains(lane)': False, 'contains(limited)': False, 'contains(hollywood)': False, 'contains(product)': False, 'contains(snippets)': False, 'contains(covering)': False, 'contains(later)': False, 'contains(joaquin)': False, 'contains(phoenix)': False, 'contains(far)': False, 'contains(adult)': False, 'contains(bookstore)': False, 'contains(flunky)': False, 'contains(max)': False, 'contains(california)': False, 'contains(cover)': False, 'contains(horrid)': False, 'contains(screened)': False, 'contains(familiar)': False, 'contains(revelation)': False, 'contains(sexual)': False, 'contains(deviants)': False, 'contains(indeed)': False, 'contains(monsters)': False, 'contains(everyday)': False, 'contains(neither)': False, 'contains(super)': False, 'contains(nor)': False, 'contains(shocking)': False, 'contains(banality)': False, 'contains(exactly)': False, 'contains(felt)': False, 'contains(weren)': False, 'contains(nine)': False, 'contains(laughs)': False, 'contains(months)': False, 'contains(terrible)': False, 'contains(mr)': False, 'contains(hugh)': False, 'contains(grant)': False, 'contains(huge)': False, 'contains(dork)': False, 'contains(oral)': False, 'contains(sex)': False, 'contains(prostitution)': False, 'contains(referring)': False, 'contains(bugs)': False, 'contains(annoying)': False, 'contains(adam)': False, 'contains(sandler)': False, 'contains(jim)': False, 'contains(carrey)': False, 'contains(eye)': False, 'contains(flutters)': False, 'contains(nervous)': False, 'contains(smiles)': False, 'contains(slapstick)': False, 'contains(fistfight)': False, 'contains(delivery)': False, 'contains(room)': False, 'contains(culminating)': False, 'contains(joan)': False, 'contains(cusack)': False, 'contains(lap)': False, 'contains(paid)': False, 'contains($)': False, 'contains(60)': False, 'contains(included)': False, 'contains(obscene)': False, 'contains(double)': False, 'contains(entendres)': False, 'contains(obstetrician)': False, 'contains(pregnant)': False, 'contains(pussy)': False, 'contains(size)': False, 'contains(hairs)': False, 'contains(coat)': False, 'contains(nonetheless)': False, 'contains(exchange)': False, 'contains(cookie)': False, 'contains(cutter)': False, 'contains(originality)': False, 'contains(humor)': False, 'contains(successful)': False, 'contains(child)': False, 'contains(psychiatrist)': False, 'contains(psychologist)': False, 'contains(scriptwriters)': False, 'contains(could)': False, 'contains(inject)': False, 'contains(unfunny)': False, 'contains(kid)': False, 'contains(dad)': False, 'contains(asshole)': False, 'contains(eyelashes)': False, 'contains(offers)': False, 'contains(smile)': False, 'contains(responds)': False, 'contains(english)': False, 'contains(accent)': False, 'contains(attitude)': False, 'contains(possibly)': False, 'contains(_huge_)': False, 'contains(beside)': False, 'contains(includes)': False, 'contains(needlessly)': False, 'contains(stupid)': False, 'contains(jokes)': False, 'contains(olds)': False, 'contains(everyone)': False, 'contains(shakes)': False, 'contains(anyway)': False, 'contains(finds)': False, 'contains(usual)': False, 'contains(reaction)': False, 'contains(fluttered)': False, 'contains(paves)': False, 'contains(possible)': False, 'contains(pregnancy)': False, 'contains(birth)': False, 'contains(gag)': False, 'contains(book)': False, 'contains(friend)': False, 'contains(arnold)': True, 'contains(provides)': False, 'contains(cacophonous)': False, 'contains(funny)': True, 'contains(beats)': False, 'contains(costumed)': False, 'contains(arnie)': False, 'contains(dinosaur)': False, 'contains(draw)': False, 'contains(parallels)': False, 'contains(toy)': False, 'contains(store)': False, 'contains(jeff)': False, 'contains(goldblum)': False, 'contains(hid)': False, 'contains(dreadful)': False, 'contains(hideaway)': False, 'contains(artist)': False, 'contains(fear)': False, 'contains(simultaneous)': False, 'contains(longing)': False, 'contains(commitment)': False, 'contains(doctor)': False, 'contains(recently)': False, 'contains(switch)': False, 'contains(veterinary)': False, 'contains(medicine)': False, 'contains(obstetrics)': False, 'contains(joke)': False, 'contains(old)': False, 'contains(foreign)': False, 'contains(guy)': True, 'contains(mispronounces)': False, 'contains(stereotype)': False, 'contains(say)': False, 'contains(yakov)': False, 'contains(smirnov)': False, 'contains(favorite)': False, 'contains(vodka)': False, 'contains(hence)': False, 'contains(take)': False, 'contains(volvo)': False, 'contains(nasty)': False, 'contains(unamusing)': False, 'contains(heads)': False, 'contains(simultaneously)': False, 'contains(groan)': False, 'contains(failure)': False, 'contains(loud)': False, 'contains(failed)': False, 'contains(uninspired)': False, 'contains(lunacy)': False, 'contains(sunset)': False, 'contains(boulevard)': False, 'contains(arrest)': False, 'contains(please)': False, 'contains(caught)': False, 'contains(pants)': False, 'contains(bring)': False, 'contains(theaters)': False, 'contains(faces)': False, 'contains(90)': False, 'contains(forced)': False, 'contains(unauthentic)': False, 'contains(anyone)': False, 'contains(q)': False, 'contains(80)': False, 'contains(sorry)': False, 'contains(money)': False, 'contains(unfulfilled)': False, 'contains(desire)': False, 'contains(spend)': False, 'contains(bucks)': False, 'contains(call)': False, 'contains(road)': False, 'contains(trip)': False, 'contains(walking)': False, 'contains(wounded)': False, 'contains(stellan)': False, 'contains(skarsg)': False, 'contains(rd)': False, 'contains(convincingly)': False, 'contains(zombified)': False, 'contains(drunken)': False, 'contains(loser)': False, 'contains(difficult)': True, 'contains(smelly)': False, 'contains(boozed)': False, 'contains(reliable)': False, 'contains(swedish)': False, 'contains(adds)': False, 'contains(depth)': False, 'contains(significance)': False, 'contains(plodding)': False, 'contains(aberdeen)': False, 'contains(sentimental)': False, 'contains(painfully)': False, 'contains(mundane)': False, 'contains(european)': False, 'contains(playwright)': False, 'contains(august)': False, 'contains(strindberg)': False, 'contains(built)': False, 'contains(career)': False, 'contains(families)': False, 'contains(relationships)': False, 'contains(paralyzed)': False, 'contains(secrets)': False, 'contains(unable)': False, 'contains(express)': False, 'contains(longings)': False, 'contains(accurate)': False, 'contains(reflection)': False, 'contains(strives)': False, 'contains(focusing)': False, 'contains(pairing)': False, 'contains(alcoholic)': False, 'contains(tomas)': False, 'contains(alienated)': False, 'contains(openly)': False, 'contains(hostile)': False, 'contains(yuppie)': False, 'contains(kaisa)': False, 'contains(lena)': False, 'contains(headey)': False, 'contains(gossip)': False, 'contains(haven)': False, 'contains(spoken)': False, 'contains(wouldn)': False, 'contains(norway)': False, 'contains(scotland)': False, 'contains(automobile)': False, 'contains(charlotte)': False, 'contains(rampling)': False, 'contains(sand)': False, 'contains(rotting)': False, 'contains(hospital)': False, 'contains(bed)': False, 'contains(cancer)': False, 'contains(soap)': False, 'contains(opera)': False, 'contains(twist)': False, 'contains(days)': False, 'contains(live)': False, 'contains(blitzed)': False, 'contains(step)': False, 'contains(foot)': False, 'contains(plane)': False, 'contains(hits)': False, 'contains(open)': False, 'contains(loathing)': False, 'contains(each)': True, 'contains(periodic)': False, 'contains(stops)': True, 'contains(puke)': False, 'contains(dashboard)': False, 'contains(whenever)': False, 'contains(muttering)': False, 'contains(rotten)': False, 'contains(turned)': False, 'contains(sloshed)': False, 'contains(viewpoint)': False, 'contains(recognizes)': False, 'contains(apple)': False, 'contains(hasn)': False, 'contains(fallen)': False, 'contains(tree)': False, 'contains(nosebleeds)': False, 'contains(snorting)': False, 'contains(coke)': False, 'contains(sabotages)': False, 'contains(personal)': False, 'contains(indifference)': False, 'contains(restrain)': False, 'contains(vindictive)': False, 'contains(temper)': False, 'contains(ain)': False, 'contains(pair)': False, 'contains(true)': False, 'contains(notes)': False, 'contains(unspoken)': False, 'contains(familial)': False, 'contains(empathy)': False, 'contains(note)': False, 'contains(repetitively)': False, 'contains(bitchy)': False, 'contains(screenwriters)': False, 'contains(kristin)': False, 'contains(amundsen)': False, 'contains(hans)': False, 'contains(petter)': False, 'contains(moland)': False, 'contains(fabricate)': False, 'contains(series)': True, 'contains(contrivances)': False, 'contains(propel)': False, 'contains(forward)': False, 'contains(roving)': False, 'contains(hooligans)': False, 'contains(drunks)': False, 'contains(nosy)': False, 'contains(flat)': False, 'contains(tires)': False, 'contains(figure)': False, 'contains(schematic)': False, 'contains(convenient)': False, 'contains(narrative)': False, 'contains(reach)': False, 'contains(unveil)': False, 'contains(dark)': False, 'contains(past)': False, 'contains(simplistic)': False, 'contains(devices)': False, 'contains(trivialize)': False, 'contains(conflict)': False, 'contains(mainstays)': False, 'contains(wannabe)': False, 'contains(exists)': False, 'contains(purely)': False, 'contains(sake)': False, 'contains(weak)': False, 'contains(unimaginative)': False, 'contains(casting)': False, 'contains(thwarts)': False, 'contains(pivotal)': False, 'contains(role)': False, 'contains(were)': False, 'contains(stronger)': False, 'contains(actress)': False, 'contains(perhaps)': False, 'contains(coast)': True, 'contains(performances)': False, 'contains(moody)': False, 'contains(haunting)': False, 'contains(cinematography)': False, 'contains(rendering)': False, 'contains(pastoral)': False, 'contains(ghost)': False, 'contains(reference)': False, 'contains(certain)': False, 'contains(superior)': False, 'contains(indie)': False, 'contains(intentional)': False, 'contains(busy)': False, 'contains(using)': False, 'contains(furrowed)': False, 'contains(brow)': False, 'contains(convey)': False, 'contains(twitch)': False, 'contains(insouciance)': False, 'contains(paying)': False, 'contains(attention)': False, 'contains(maybe)': False, 'contains(doing)': False, 'contains(reveal)': False, 'contains(worthwhile)': False, 'contains(earlier)': False, 'contains(released)': False, 'contains(2001)': False, 'contains(jonathan)': False, 'contains(nossiter)': False, 'contains(captivating)': False, 'contains(wonders)': False, 'contains(disturbed)': False, 'contains(parental)': False, 'contains(figures)': False, 'contains(bound)': False, 'contains(ceremonial)': False, 'contains(wedlock)': False, 'contains(differences)': False, 'contains(presented)': False, 'contains(significant)': False, 'contains(luminous)': False, 'contains(diva)': False, 'contains(preening)': False, 'contains(static)': False, 'contains(solid)': False, 'contains(performance)': False, 'contains(pathetic)': False, 'contains(drunk)': False, 'contains(emote)': False, 'contains(besides)': False, 'contains(catatonic)': False, 'contains(sorrow)': False, 'contains(genuine)': False, 'contains(ferocity)': False, 'contains(sexually)': False, 'contains(charged)': False, 'contains(frisson)': False, 'contains(during)': False, 'contains(understated)': False, 'contains(confrontations)': False, 'contains(suggest)': False, 'contains(gray)': False, 'contains(zone)': False, 'contains(complications)': False, 'contains(accompany)': False, 'contains(torn)': False, 'contains(romance)': False, 'contains(stifled)': False, 'contains(curiosity)': False, 'contains(thoroughly)': False, 'contains(explores)': False, 'contains(neurotic)': False, 'contains(territory)': False, 'contains(delving)': False, 'contains(americanization)': False, 'contains(greece)': False, 'contains(mysticism)': False, 'contains(illusion)': False, 'contains(deflect)': False, 'contains(pain)': False, 'contains(overloaded)': False, 'contains(willing)': False, 'contains(come)': False, 'contains(traditional)': False, 'contains(ambitious)': False, 'contains(sleepwalk)': False, 'contains(rhythms)': False, 'contains(timing)': False, 'contains(driven)': False, 'contains(stories)': False, 'contains(complexities)': False, 'contains(depressing)': False, 'contains(answer)': False, 'contains(lawrence)': False, 'contains(kasdan)': False, 'contains(trite)': False, 'contains(useful)': False, 'contains(grand)': False, 'contains(canyon)': False, 'contains(steve)': False, 'contains(martin)': False, 'contains(mogul)': False, 'contains(pronounces)': False, 'contains(riddles)': False, 'contains(answered)': False, 'contains(advice)': False, 'contains(heart)': False, 'contains(french)': False, 'contains(sees)': True, 'contains(parents)': False, 'contains(tim)': False, 'contains(roth)': False, 'contains(oops)': False, 'contains(vows)': False, 'contains(taught)': False, 'contains(musketeer)': False, 'contains(dude)': False, 'contains(used)': True, 'contains(fourteen)': False, 'contains(arrgh)': False, 'contains(swish)': False, 'contains(zzzzzzz)': False, 'contains(original)': False, 'contains(lacks)': False, 'contains(energy)': False, 'contains(next)': False, 'contains(hmmmm)': False, 'contains(justin)': False, 'contains(chambers)': False, 'contains(basically)': False, 'contains(uncharismatic)': False, 'contains(version)': False, 'contains(chris)': False, 'contains(o)': False, 'contains(donnell)': False, 'contains(range)': False, 'contains(mena)': False, 'contains(suvari)': False, 'contains(thora)': False, 'contains(birch)': False, 'contains(dungeons)': False, 'contains(dragons)': False, 'contains(miscast)': False, 'contains(deliveries)': False, 'contains(piss)': False, 'contains(poor)': False, 'contains(ms)': False, 'contains(fault)': False, 'contains(definitely)': False, 'contains(higher)': False, 'contains(semi)': False, 'contains(saving)': False, 'contains(grace)': False, 'contains(wise)': False, 'contains(irrepressible)': False, 'contains(once)': True, 'contains(thousand)': False, 'contains(god)': False, 'contains(beg)': False, 'contains(agent)': False, 'contains(marketplace)': False, 'contains(modern)': False, 'contains(day)': True, 'contains(roles)': False, 'contains(romantic)': False, 'contains(gunk)': False, 'contains(alright)': False, 'contains(yeah)': False, 'contains(yikes)': False, 'contains(notches)': False, 'contains(fellas)': False, 'contains(blares)': False, 'contains(ear)': False, 'contains(accentuate)': False, 'contains(annoy)': False, 'contains(important)': False, 'contains(behind)': False, 'contains(recognize)': False, 'contains(epic)': False, 'contains(fluffy)': False, 'contains(rehashed)': False, 'contains(cake)': False, 'contains(created)': False, 'contains(shrewd)': False, 'contains(advantage)': False, 'contains(kung)': True, 'contains(fu)': True, 'contains(phenomenon)': False, 'contains(test)': False, 'contains(dudes)': False, 'contains(keep)': False, 'contains(reading)': False, 'contains(editing)': False, 'contains(shoddy)': False, 'contains(banal)': False, 'contains(stilted)': False, 'contains(plentiful)': False, 'contains(top)': True, 'contains(horse)': False, 'contains(carriage)': False, 'contains(stand)': False, 'contains(opponent)': False, 'contains(scampering)': False, 'contains(cut)': False, 'contains(mouseketeer)': False, 'contains(rope)': False, 'contains(tower)': False, 'contains(jumping)': False, 'contains(chords)': False, 'contains(hanging)': False, 'contains(says)': False, 'contains(14)': False, 'contains(shirt)': False, 'contains(strayed)': False, 'contains(championing)': False, 'contains(fun)': True, 'contains(stretches)': False, 'contains(atrocious)': False, 'contains(lake)': False, 'contains(reminded)': False, 'contains(school)': False, 'contains(cringe)': False, 'contains(musketeers)': False, 'contains(fat)': False, 'contains(raison)': False, 'contains(etre)': False, 'contains(numbers)': False, 'contains(hoping)': False, 'contains(packed)': False, 'contains(stuntwork)': False, 'contains(promoted)': False, 'contains(trailer)': False, 'contains(major)': False, 'contains(swashbuckling)': False, 'contains(beginning)': False, 'contains(finishes)': False, 'contains(juggling)': False, 'contains(ladders)': False, 'contains(ladder)': True, 'contains(definite)': False, 'contains(keeper)': False, 'contains(regurgitated)': False, 'contains(crap)': False, 'contains(tell)': False, 'contains(deneuve)': False, 'contains(placed)': False, 'contains(hullo)': False, 'contains(barely)': False, 'contains(ugh)': False, 'contains(small)': False, 'contains(annoyed)': False, 'contains(trash)': False, 'contains(gang)': False, 'contains(vow)': False, 'contains(stay)': False, 'contains(thank)': False, 'contains(outlaws)': False, 'contains(5)': False, 'contains(crouching)': False, 'contains(tiger)': False, 'contains(hidden)': False, 'contains(matrix)': False, 'contains(replacement)': False, 'contains(killers)': False, 'contains(6)': False, 'contains(romeo)': False, 'contains(die)': False, 'contains(shanghai)': False, 'contains(noon)': False, 'contains(remembered)': False, 'contains(dr)': False, 'contains(hannibal)': False, 'contains(lecter)': False, 'contains(michael)': False, 'contains(mann)': False, 'contains(forensics)': False, 'contains(thriller)': False, 'contains(manhunter)': False, 'contains(scottish)': False, 'contains(brian)': False, 'contains(cox)': False}\n"
          ],
          "name": "stdout"
        }
      ]
    },
    {
      "metadata": {
        "id": "XvLJouD8D04v",
        "colab_type": "code",
        "colab": {}
      },
      "cell_type": "code",
      "source": [
        "featuresets = [(document_features(d), c) for (d,c) in documents]\n",
        "train_set, test_set = featuresets[100:], featuresets[:100]\n",
        "classifier = nltk.NaiveBayesClassifier.train(train_set)"
      ],
      "execution_count": 0,
      "outputs": []
    },
    {
      "metadata": {
        "id": "PdxjgpkFD5EO",
        "colab_type": "code",
        "outputId": "c34443e1-0595-4ffe-9d24-cd6240196575",
        "colab": {
          "base_uri": "https://localhost:8080/",
          "height": 35
        }
      },
      "cell_type": "code",
      "source": [
        "print(nltk.classify.accuracy(classifier, test_set))"
      ],
      "execution_count": 35,
      "outputs": [
        {
          "output_type": "stream",
          "text": [
            "0.87\n"
          ],
          "name": "stdout"
        }
      ]
    },
    {
      "metadata": {
        "id": "woqV27h0D70o",
        "colab_type": "code",
        "outputId": "62c68571-83a8-448f-e317-79b9e0704f1a",
        "colab": {
          "base_uri": "https://localhost:8080/",
          "height": 208
        }
      },
      "cell_type": "code",
      "source": [
        "classifier.show_most_informative_features()"
      ],
      "execution_count": 36,
      "outputs": [
        {
          "output_type": "stream",
          "text": [
            "Most Informative Features\n",
            "        contains(turkey) = True              neg : pos    =      8.4 : 1.0\n",
            " contains(unimaginative) = True              neg : pos    =      8.3 : 1.0\n",
            "    contains(schumacher) = True              neg : pos    =      6.9 : 1.0\n",
            "     contains(atrocious) = True              neg : pos    =      6.9 : 1.0\n",
            "         contains(awful) = True              neg : pos    =      6.0 : 1.0\n",
            "     contains(stretched) = True              neg : pos    =      5.8 : 1.0\n",
            "       contains(unravel) = True              pos : neg    =      5.7 : 1.0\n",
            "        contains(shoddy) = True              neg : pos    =      5.6 : 1.0\n",
            "        contains(canyon) = True              neg : pos    =      5.6 : 1.0\n",
            "     contains(underwood) = True              neg : pos    =      5.6 : 1.0\n"
          ],
          "name": "stdout"
        }
      ]
    },
    {
      "metadata": {
        "id": "SdN1Yi2UES2d",
        "colab_type": "code",
        "outputId": "bdca5a06-c775-45a3-f50a-f6dc03158b60",
        "colab": {
          "base_uri": "https://localhost:8080/",
          "height": 69
        }
      },
      "cell_type": "code",
      "source": [
        "import nltk\n",
        "nltk.download('brown')"
      ],
      "execution_count": 37,
      "outputs": [
        {
          "output_type": "stream",
          "text": [
            "[nltk_data] Downloading package brown to /root/nltk_data...\n",
            "[nltk_data]   Unzipping corpora/brown.zip.\n"
          ],
          "name": "stdout"
        },
        {
          "output_type": "execute_result",
          "data": {
            "text/plain": [
              "True"
            ]
          },
          "metadata": {
            "tags": []
          },
          "execution_count": 37
        }
      ]
    },
    {
      "metadata": {
        "id": "gXE8kXlvEBXF",
        "colab_type": "code",
        "colab": {}
      },
      "cell_type": "code",
      "source": [
        "from nltk.corpus import brown\n",
        "suffix_fdist = nltk.FreqDist()\n",
        "for word in brown.words():\n",
        "    word = word.lower()\n",
        "    suffix_fdist[word[-1:]] += 1\n",
        "    suffix_fdist[word[-2:]] += 1\n",
        "    suffix_fdist[word[-3:]] += 1"
      ],
      "execution_count": 0,
      "outputs": []
    },
    {
      "metadata": {
        "id": "7Hrrcg2kEQj_",
        "colab_type": "code",
        "outputId": "5a1cea4a-5bad-4471-9cdd-8524e8bc53bf",
        "colab": {
          "base_uri": "https://localhost:8080/",
          "height": 55
        }
      },
      "cell_type": "code",
      "source": [
        "common_suffixes = [suffix for (suffix, count) in suffix_fdist.most_common(100)]\n",
        "print(common_suffixes)"
      ],
      "execution_count": 39,
      "outputs": [
        {
          "output_type": "stream",
          "text": [
            "['e', ',', '.', 's', 'd', 't', 'he', 'n', 'a', 'of', 'the', 'y', 'r', 'to', 'in', 'f', 'o', 'ed', 'nd', 'is', 'on', 'l', 'g', 'and', 'ng', 'er', 'as', 'ing', 'h', 'at', 'es', 'or', 're', 'it', '``', 'an', \"''\", 'm', ';', 'i', 'ly', 'ion', 'en', 'al', '?', 'nt', 'be', 'hat', 'st', 'his', 'th', 'll', 'le', 'ce', 'by', 'ts', 'me', 've', \"'\", 'se', 'ut', 'was', 'for', 'ent', 'ch', 'k', 'w', 'ld', '`', 'rs', 'ted', 'ere', 'her', 'ne', 'ns', 'ith', 'ad', 'ry', ')', '(', 'te', '--', 'ay', 'ty', 'ot', 'p', 'nce', \"'s\", 'ter', 'om', 'ss', ':', 'we', 'are', 'c', 'ers', 'uld', 'had', 'so', 'ey']\n"
          ],
          "name": "stdout"
        }
      ]
    },
    {
      "metadata": {
        "id": "9xcRG2FpEaS8",
        "colab_type": "code",
        "colab": {}
      },
      "cell_type": "code",
      "source": [
        "def pos_features(word):\n",
        "  features = {}\n",
        "  for suffix in common_suffixes:\n",
        "    features['endswith({})'.format(suffix)] = word.lower().endswith(suffix)\n",
        "  return features"
      ],
      "execution_count": 0,
      "outputs": []
    },
    {
      "metadata": {
        "id": "_TDVaDkcEoV7",
        "colab_type": "code",
        "colab": {}
      },
      "cell_type": "code",
      "source": [
        "tagged_words = brown.tagged_words(categories='news')\n",
        "featuresets = [(pos_features(n), g) for (n,g) in tagged_words]"
      ],
      "execution_count": 0,
      "outputs": []
    },
    {
      "metadata": {
        "id": "R0Pi-KEUEyZe",
        "colab_type": "code",
        "colab": {}
      },
      "cell_type": "code",
      "source": [
        "size = int(len(featuresets) * 0.1)\n",
        "train_set, test_set = featuresets[size:], featuresets[:size]"
      ],
      "execution_count": 0,
      "outputs": []
    },
    {
      "metadata": {
        "id": "We3d64sjIIEy",
        "colab_type": "code",
        "outputId": "5abcc291-85fe-4f38-9aa2-6eab207a40ea",
        "colab": {
          "base_uri": "https://localhost:8080/",
          "height": 35
        }
      },
      "cell_type": "code",
      "source": [
        "classifier = nltk.DecisionTreeClassifier.train(train_set)\n",
        "nltk.classify.accuracy(classifier, test_set)"
      ],
      "execution_count": 43,
      "outputs": [
        {
          "output_type": "execute_result",
          "data": {
            "text/plain": [
              "0.6270512182993535"
            ]
          },
          "metadata": {
            "tags": []
          },
          "execution_count": 43
        }
      ]
    },
    {
      "metadata": {
        "id": "XEcY1GrZE4wK",
        "colab_type": "code",
        "outputId": "4304c78c-7bf8-41da-b346-b59c46e78cb2",
        "colab": {
          "base_uri": "https://localhost:8080/",
          "height": 35
        }
      },
      "cell_type": "code",
      "source": [
        "classifier.classify(pos_features('cats'))"
      ],
      "execution_count": 44,
      "outputs": [
        {
          "output_type": "execute_result",
          "data": {
            "text/plain": [
              "'NNS'"
            ]
          },
          "metadata": {
            "tags": []
          },
          "execution_count": 44
        }
      ]
    },
    {
      "metadata": {
        "id": "EZHqDbwDFDQ7",
        "colab_type": "code",
        "outputId": "61f62f1d-6d70-4887-c295-e67dad7e2047",
        "colab": {
          "base_uri": "https://localhost:8080/",
          "height": 208
        }
      },
      "cell_type": "code",
      "source": [
        "print(classifier.pseudocode(depth=4))"
      ],
      "execution_count": 45,
      "outputs": [
        {
          "output_type": "stream",
          "text": [
            "if endswith(the) == False: \n",
            "  if endswith(,) == False: \n",
            "    if endswith(s) == False: \n",
            "      if endswith(.) == False: return '.'\n",
            "      if endswith(.) == True: return '.'\n",
            "    if endswith(s) == True: \n",
            "      if endswith(is) == False: return 'PP$'\n",
            "      if endswith(is) == True: return 'BEZ'\n",
            "  if endswith(,) == True: return ','\n",
            "if endswith(the) == True: return 'AT'\n",
            "\n"
          ],
          "name": "stdout"
        }
      ]
    },
    {
      "metadata": {
        "id": "LhO_yqLoFFfC",
        "colab_type": "code",
        "colab": {}
      },
      "cell_type": "code",
      "source": [
        "def pos_features(sentence, i): \n",
        "    features = {\"suffix(1)\": sentence[i][-1:],\n",
        "                \"suffix(2)\": sentence[i][-2:],\n",
        "                \"suffix(3)\": sentence[i][-3:]}\n",
        "    if i == 0:\n",
        "        features[\"prev-word\"] = \"<START>\"\n",
        "    else:\n",
        "        features[\"prev-word\"] = sentence[i-1]\n",
        "    return features"
      ],
      "execution_count": 0,
      "outputs": []
    },
    {
      "metadata": {
        "id": "yeMoajuGOx_l",
        "colab_type": "code",
        "outputId": "c1b19615-d85b-4761-d55a-ee868271f2de",
        "colab": {
          "base_uri": "https://localhost:8080/",
          "height": 35
        }
      },
      "cell_type": "code",
      "source": [
        "pos_features(brown.sents()[0], 8)"
      ],
      "execution_count": 47,
      "outputs": [
        {
          "output_type": "execute_result",
          "data": {
            "text/plain": [
              "{'prev-word': 'an', 'suffix(1)': 'n', 'suffix(2)': 'on', 'suffix(3)': 'ion'}"
            ]
          },
          "metadata": {
            "tags": []
          },
          "execution_count": 47
        }
      ]
    },
    {
      "metadata": {
        "id": "MOlgU4GbO08S",
        "colab_type": "code",
        "colab": {}
      },
      "cell_type": "code",
      "source": [
        "tagged_sents = brown.tagged_sents(categories='news')\n",
        "featuresets = []\n",
        "for tagged_sent in tagged_sents:\n",
        "  untagged_sent = nltk.tag.untag(tagged_sent)\n",
        "  for i, (word, tag) in enumerate(tagged_sent):\n",
        "    featuresets.append( (pos_features(untagged_sent, i), tag) )\n",
        "\n",
        "size = int(len(featuresets) * 0.1)\n",
        "train_set, test_set = featuresets[size:], featuresets[:size]\n",
        "classifier = nltk.NaiveBayesClassifier.train(train_set)"
      ],
      "execution_count": 0,
      "outputs": []
    },
    {
      "metadata": {
        "id": "W5K-hHLtPC4s",
        "colab_type": "code",
        "outputId": "ae985f1c-aebe-4a04-d919-d7491bffa370",
        "colab": {
          "base_uri": "https://localhost:8080/",
          "height": 35
        }
      },
      "cell_type": "code",
      "source": [
        "nltk.classify.accuracy(classifier, test_set)"
      ],
      "execution_count": 49,
      "outputs": [
        {
          "output_type": "execute_result",
          "data": {
            "text/plain": [
              "0.7891596220785678"
            ]
          },
          "metadata": {
            "tags": []
          },
          "execution_count": 49
        }
      ]
    },
    {
      "metadata": {
        "id": "06LrL6W6PD6G",
        "colab_type": "code",
        "colab": {}
      },
      "cell_type": "code",
      "source": [
        "def pos_features(sentence, i, history): \n",
        "    features = {\"suffix(1)\": sentence[i][-1:],\n",
        "                 \"suffix(2)\": sentence[i][-2:],\n",
        "                 \"suffix(3)\": sentence[i][-3:]}\n",
        "    if i == 0:\n",
        "      features[\"prev-word\"] = \"<START>\"\n",
        "      features[\"prev-tag\"] = \"<START>\"\n",
        "    else:\n",
        "      features[\"prev-word\"] = sentence[i-1]\n",
        "      features[\"prev-tag\"] = history[i-1]\n",
        "    return features\n",
        "\n",
        "class ConsecutivePosTagger(nltk.TaggerI): \n",
        "\n",
        "    def __init__(self, train_sents):\n",
        "        train_set = []\n",
        "        for tagged_sent in train_sents:\n",
        "            untagged_sent = nltk.tag.untag(tagged_sent)\n",
        "            history = []\n",
        "            for i, (word, tag) in enumerate(tagged_sent):\n",
        "                featureset = pos_features(untagged_sent, i, history)\n",
        "                train_set.append( (featureset, tag) )\n",
        "                history.append(tag)\n",
        "        self.classifier = nltk.NaiveBayesClassifier.train(train_set)\n",
        "\n",
        "    def tag(self, sentence):\n",
        "        history = []\n",
        "        for i, word in enumerate(sentence):\n",
        "            featureset = pos_features(sentence, i, history)\n",
        "            tag = self.classifier.classify(featureset)\n",
        "            history.append(tag)\n",
        "        return zip(sentence, history)"
      ],
      "execution_count": 0,
      "outputs": []
    },
    {
      "metadata": {
        "id": "H9Up3elDPu8f",
        "colab_type": "code",
        "outputId": "6dcd722a-e7c9-446b-b72c-78415f2ecf5c",
        "colab": {
          "base_uri": "https://localhost:8080/",
          "height": 35
        }
      },
      "cell_type": "code",
      "source": [
        "tagged_sents = brown.tagged_sents(categories='news')\n",
        "size = int(len(tagged_sents) * 0.1)\n",
        "train_sents, test_sents = tagged_sents[size:], tagged_sents[:size]\n",
        "tagger = ConsecutivePosTagger(train_sents)\n",
        "print(tagger.evaluate(test_sents))"
      ],
      "execution_count": 51,
      "outputs": [
        {
          "output_type": "stream",
          "text": [
            "0.7980528511821975\n"
          ],
          "name": "stdout"
        }
      ]
    },
    {
      "metadata": {
        "id": "xmkg8mS3SUWb",
        "colab_type": "code",
        "outputId": "fddfc886-51f3-4130-8c7d-117139984e04",
        "colab": {
          "base_uri": "https://localhost:8080/",
          "height": 69
        }
      },
      "cell_type": "code",
      "source": [
        "import nltk\n",
        "nltk.download('treebank')"
      ],
      "execution_count": 52,
      "outputs": [
        {
          "output_type": "stream",
          "text": [
            "[nltk_data] Downloading package treebank to /root/nltk_data...\n",
            "[nltk_data]   Unzipping corpora/treebank.zip.\n"
          ],
          "name": "stdout"
        },
        {
          "output_type": "execute_result",
          "data": {
            "text/plain": [
              "True"
            ]
          },
          "metadata": {
            "tags": []
          },
          "execution_count": 52
        }
      ]
    },
    {
      "metadata": {
        "id": "Vf848KE7TBRX",
        "colab_type": "code",
        "outputId": "6f3018ab-96a8-4e53-b6d9-f51320534631",
        "colab": {
          "base_uri": "https://localhost:8080/",
          "height": 69
        }
      },
      "cell_type": "code",
      "source": [
        "import nltk\n",
        "nltk.download('nps_chat')"
      ],
      "execution_count": 53,
      "outputs": [
        {
          "output_type": "stream",
          "text": [
            "[nltk_data] Downloading package nps_chat to /root/nltk_data...\n",
            "[nltk_data]   Unzipping corpora/nps_chat.zip.\n"
          ],
          "name": "stdout"
        },
        {
          "output_type": "execute_result",
          "data": {
            "text/plain": [
              "True"
            ]
          },
          "metadata": {
            "tags": []
          },
          "execution_count": 53
        }
      ]
    },
    {
      "metadata": {
        "id": "SrK7SmOjSRhZ",
        "colab_type": "code",
        "colab": {}
      },
      "cell_type": "code",
      "source": [
        "posts = nltk.corpus.nps_chat.xml_posts()[:10000]"
      ],
      "execution_count": 0,
      "outputs": []
    },
    {
      "metadata": {
        "id": "7YNo_vscTVQV",
        "colab_type": "code",
        "outputId": "8ecd1aeb-6344-44af-f8ff-064e8216459e",
        "colab": {
          "base_uri": "https://localhost:8080/",
          "height": 69
        }
      },
      "cell_type": "code",
      "source": [
        "import nltk\n",
        "nltk.download('punkt')"
      ],
      "execution_count": 55,
      "outputs": [
        {
          "output_type": "stream",
          "text": [
            "[nltk_data] Downloading package punkt to /root/nltk_data...\n",
            "[nltk_data]   Unzipping tokenizers/punkt.zip.\n"
          ],
          "name": "stdout"
        },
        {
          "output_type": "execute_result",
          "data": {
            "text/plain": [
              "True"
            ]
          },
          "metadata": {
            "tags": []
          },
          "execution_count": 55
        }
      ]
    },
    {
      "metadata": {
        "id": "atNHQOSLS8ia",
        "colab_type": "code",
        "colab": {}
      },
      "cell_type": "code",
      "source": [
        "def dialogue_act_features(post):\n",
        "  features = {}\n",
        "  for word in nltk.word_tokenize(post):\n",
        "    features['contains({})'.format(word.lower())] = True\n",
        "  return features"
      ],
      "execution_count": 0,
      "outputs": []
    },
    {
      "metadata": {
        "id": "_J9MbJFtTM0z",
        "colab_type": "code",
        "colab": {}
      },
      "cell_type": "code",
      "source": [
        "featuresets = [(dialogue_act_features(post.text), post.get('class')) for post in posts]"
      ],
      "execution_count": 0,
      "outputs": []
    },
    {
      "metadata": {
        "id": "2rHGNITBTSCn",
        "colab_type": "code",
        "outputId": "757fcc50-8dbd-4f00-8c94-2c4caf1a864a",
        "colab": {
          "base_uri": "https://localhost:8080/",
          "height": 35
        }
      },
      "cell_type": "code",
      "source": [
        "size = int(len(featuresets) * 0.1)\n",
        "train_set, test_set = featuresets[size:], featuresets[:size]\n",
        "classifier = nltk.NaiveBayesClassifier.train(train_set)\n",
        "print(nltk.classify.accuracy(classifier, test_set))"
      ],
      "execution_count": 58,
      "outputs": [
        {
          "output_type": "stream",
          "text": [
            "0.668\n"
          ],
          "name": "stdout"
        }
      ]
    },
    {
      "metadata": {
        "id": "LcI3j1LFTnKq",
        "colab_type": "code",
        "outputId": "fdbc3ffc-fdbb-4220-b598-912deee2208b",
        "colab": {
          "base_uri": "https://localhost:8080/",
          "height": 69
        }
      },
      "cell_type": "code",
      "source": [
        "import nltk\n",
        "nltk.download('rte')"
      ],
      "execution_count": 59,
      "outputs": [
        {
          "output_type": "stream",
          "text": [
            "[nltk_data] Downloading package rte to /root/nltk_data...\n",
            "[nltk_data]   Unzipping corpora/rte.zip.\n"
          ],
          "name": "stdout"
        },
        {
          "output_type": "execute_result",
          "data": {
            "text/plain": [
              "True"
            ]
          },
          "metadata": {
            "tags": []
          },
          "execution_count": 59
        }
      ]
    },
    {
      "metadata": {
        "id": "uhG_FYm7Td0T",
        "colab_type": "code",
        "colab": {}
      },
      "cell_type": "code",
      "source": [
        "def rte_features(rtepair):\n",
        "    extractor = nltk.RTEFeatureExtractor(rtepair)\n",
        "    features = {}\n",
        "    features['word_overlap'] = len(extractor.overlap('word'))\n",
        "    features['word_hyp_extra'] = len(extractor.hyp_extra('word'))\n",
        "    features['ne_overlap'] = len(extractor.overlap('ne'))\n",
        "    features['ne_hyp_extra'] = len(extractor.hyp_extra('ne'))\n",
        "    return features"
      ],
      "execution_count": 0,
      "outputs": []
    },
    {
      "metadata": {
        "id": "RCM9ZrPTThzY",
        "colab_type": "code",
        "colab": {}
      },
      "cell_type": "code",
      "source": [
        "rtepair = nltk.corpus.rte.pairs(['rte3_dev.xml'])[33]"
      ],
      "execution_count": 0,
      "outputs": []
    },
    {
      "metadata": {
        "id": "3BkuGl99TkGV",
        "colab_type": "code",
        "outputId": "1120c966-3644-42d9-b02f-163abf9bee23",
        "colab": {
          "base_uri": "https://localhost:8080/",
          "height": 55
        }
      },
      "cell_type": "code",
      "source": [
        "extractor = nltk.RTEFeatureExtractor(rtepair)\n",
        "print(extractor.text_words)"
      ],
      "execution_count": 62,
      "outputs": [
        {
          "output_type": "stream",
          "text": [
            "{'four', 'China', 'central', 'Soviet', 'terrorism.', 'Asia', 'Organisation', 'at', 'operation', 'republics', 'Co', 'was', 'association', 'Iran', 'fight', 'meeting', 'SCO', 'that', 'former', 'Davudi', 'representing', 'fledgling', 'together', 'Parviz', 'binds', 'Shanghai', 'Russia'}\n"
          ],
          "name": "stdout"
        }
      ]
    },
    {
      "metadata": {
        "id": "BJ-Y5_ugTuN-",
        "colab_type": "code",
        "outputId": "1f3579dd-d1d8-45a1-a8c2-2ffdd9a012f3",
        "colab": {
          "base_uri": "https://localhost:8080/",
          "height": 35
        }
      },
      "cell_type": "code",
      "source": [
        "print(extractor.hyp_words)"
      ],
      "execution_count": 63,
      "outputs": [
        {
          "output_type": "stream",
          "text": [
            "{'member', 'SCO.', 'China'}\n"
          ],
          "name": "stdout"
        }
      ]
    },
    {
      "metadata": {
        "id": "RrYm24xlTyJD",
        "colab_type": "code",
        "outputId": "bafbdb43-27af-4a1a-a0ca-71b5998a6e9c",
        "colab": {
          "base_uri": "https://localhost:8080/",
          "height": 35
        }
      },
      "cell_type": "code",
      "source": [
        "print(extractor.overlap('word'))"
      ],
      "execution_count": 64,
      "outputs": [
        {
          "output_type": "stream",
          "text": [
            "set()\n"
          ],
          "name": "stdout"
        }
      ]
    },
    {
      "metadata": {
        "id": "ZWoNUpptT0Sg",
        "colab_type": "code",
        "outputId": "353b9407-990e-44cd-eff4-922fbea2876e",
        "colab": {
          "base_uri": "https://localhost:8080/",
          "height": 35
        }
      },
      "cell_type": "code",
      "source": [
        "print(extractor.overlap('ne'))"
      ],
      "execution_count": 65,
      "outputs": [
        {
          "output_type": "stream",
          "text": [
            "{'China'}\n"
          ],
          "name": "stdout"
        }
      ]
    },
    {
      "metadata": {
        "id": "c6bGUD34T2Mf",
        "colab_type": "code",
        "outputId": "a7152d5a-58a2-4d04-e66f-0456786c8ad9",
        "colab": {
          "base_uri": "https://localhost:8080/",
          "height": 35
        }
      },
      "cell_type": "code",
      "source": [
        "print(extractor.hyp_extra('word'))"
      ],
      "execution_count": 66,
      "outputs": [
        {
          "output_type": "stream",
          "text": [
            "{'member'}\n"
          ],
          "name": "stdout"
        }
      ]
    },
    {
      "metadata": {
        "id": "6ZG3ArgyT4-V",
        "colab_type": "code",
        "colab": {}
      },
      "cell_type": "code",
      "source": [
        "import random\n",
        "from nltk.corpus import brown\n",
        "tagged_sents = list(brown.tagged_sents(categories='news'))\n",
        "random.shuffle(tagged_sents)\n",
        "size = int(len(tagged_sents) * 0.1)\n",
        "train_set, test_set = tagged_sents[size:], tagged_sents[:size]"
      ],
      "execution_count": 0,
      "outputs": []
    },
    {
      "metadata": {
        "id": "eXxJ-8YFUR76",
        "colab_type": "code",
        "colab": {}
      },
      "cell_type": "code",
      "source": [
        "file_ids = brown.fileids(categories='news')\n",
        "size = int(len(file_ids) * 0.1)\n",
        "train_set = brown.tagged_sents(file_ids[size:])\n",
        "test_set = brown.tagged_sents(file_ids[:size])"
      ],
      "execution_count": 0,
      "outputs": []
    },
    {
      "metadata": {
        "id": "48LN5xIOUUdp",
        "colab_type": "code",
        "colab": {}
      },
      "cell_type": "code",
      "source": [
        "train_set = brown.tagged_sents(categories='news')\n",
        "test_set = brown.tagged_sents(categories='fiction')"
      ],
      "execution_count": 0,
      "outputs": []
    },
    {
      "metadata": {
        "id": "DZAJY3DJVOl-",
        "colab_type": "code",
        "outputId": "27ee02ca-f8d2-4d50-ca57-db45bfdda7ab",
        "colab": {
          "base_uri": "https://localhost:8080/",
          "height": 295
        }
      },
      "cell_type": "code",
      "source": [
        "def tag_list(tagged_sents):\n",
        "    return [tag for sent in tagged_sents for (word, tag) in sent]\n",
        "def apply_tagger(tagger, corpus):\n",
        "    return [tagger.tag(nltk.tag.untag(sent)) for sent in corpus]\n",
        "gold = tag_list(brown.tagged_sents(categories='editorial'))\n",
        "test = tag_list(brown.tagged_sents(categories='editorial'))\n",
        "cm = nltk.ConfusionMatrix(gold, test)\n",
        "print(cm.pretty_format(sort_by_count=True, show_percents=True, truncate=9))"
      ],
      "execution_count": 71,
      "outputs": [
        {
          "output_type": "stream",
          "text": [
            "    |                                         N                      |\n",
            "    |      N      I      A      J             N             V      N |\n",
            "    |      N      N      T      J      .      S      ,      B      P |\n",
            "----+----------------------------------------------------------------+\n",
            " NN | <12.5%>     .      .      .      .      .      .      .      . |\n",
            " IN |      . <10.1%>     .      .      .      .      .      .      . |\n",
            " AT |      .      .  <8.6%>     .      .      .      .      .      . |\n",
            " JJ |      .      .      .  <5.8%>     .      .      .      .      . |\n",
            "  . |      .      .      .      .  <4.9%>     .      .      .      . |\n",
            "NNS |      .      .      .      .      .  <4.8%>     .      .      . |\n",
            "  , |      .      .      .      .      .      .  <4.4%>     .      . |\n",
            " VB |      .      .      .      .      .      .      .  <3.5%>     . |\n",
            " NP |      .      .      .      .      .      .      .      .  <3.1%>|\n",
            "----+----------------------------------------------------------------+\n",
            "(row = reference; col = test)\n",
            "\n"
          ],
          "name": "stdout"
        }
      ]
    },
    {
      "metadata": {
        "id": "OgfXHnmRVkmh",
        "colab_type": "code",
        "colab": {}
      },
      "cell_type": "code",
      "source": [
        "import math\n",
        "def entropy(labels):\n",
        "    freqdist = nltk.FreqDist(labels)\n",
        "    probs = [freqdist.freq(l) for l in freqdist]\n",
        "    return -sum(p * math.log(p,2) for p in probs)\n",
        " "
      ],
      "execution_count": 0,
      "outputs": []
    },
    {
      "metadata": {
        "id": "BGzyVVjmWCbN",
        "colab_type": "code",
        "outputId": "e18d6496-11e3-4570-c771-a868b18939f7",
        "colab": {
          "base_uri": "https://localhost:8080/",
          "height": 35
        }
      },
      "cell_type": "code",
      "source": [
        "print(entropy(['male', 'male', 'male', 'male'])) "
      ],
      "execution_count": 73,
      "outputs": [
        {
          "output_type": "stream",
          "text": [
            "-0.0\n"
          ],
          "name": "stdout"
        }
      ]
    },
    {
      "metadata": {
        "id": "fuoESUG0WFfN",
        "colab_type": "code",
        "outputId": "891e46be-f8bc-4c32-ba22-682a41647972",
        "colab": {
          "base_uri": "https://localhost:8080/",
          "height": 35
        }
      },
      "cell_type": "code",
      "source": [
        "print(entropy(['male', 'female', 'male', 'male']))"
      ],
      "execution_count": 74,
      "outputs": [
        {
          "output_type": "stream",
          "text": [
            "0.8112781244591328\n"
          ],
          "name": "stdout"
        }
      ]
    },
    {
      "metadata": {
        "id": "GGxYm2BvWIHK",
        "colab_type": "code",
        "outputId": "035c1ce8-d3c9-4405-8a06-7704c0063c3c",
        "colab": {
          "base_uri": "https://localhost:8080/",
          "height": 35
        }
      },
      "cell_type": "code",
      "source": [
        " print(entropy(['female', 'male', 'female', 'male']))"
      ],
      "execution_count": 75,
      "outputs": [
        {
          "output_type": "stream",
          "text": [
            "1.0\n"
          ],
          "name": "stdout"
        }
      ]
    },
    {
      "metadata": {
        "id": "aadfvAbbWKno",
        "colab_type": "code",
        "outputId": "f8b3f8f7-4aca-4085-b33d-4d6abc54bef0",
        "colab": {
          "base_uri": "https://localhost:8080/",
          "height": 35
        }
      },
      "cell_type": "code",
      "source": [
        "print(entropy(['female', 'female', 'male', 'female']))"
      ],
      "execution_count": 76,
      "outputs": [
        {
          "output_type": "stream",
          "text": [
            "0.8112781244591328\n"
          ],
          "name": "stdout"
        }
      ]
    },
    {
      "metadata": {
        "id": "NdHPkchLWQ47",
        "colab_type": "code",
        "outputId": "fb14ecf7-341b-4926-f3d5-dd061dd58d09",
        "colab": {
          "base_uri": "https://localhost:8080/",
          "height": 35
        }
      },
      "cell_type": "code",
      "source": [
        "print(entropy(['female', 'female', 'female', 'female'])) "
      ],
      "execution_count": 77,
      "outputs": [
        {
          "output_type": "stream",
          "text": [
            "-0.0\n"
          ],
          "name": "stdout"
        }
      ]
    },
    {
      "metadata": {
        "id": "ht7DY_8eYIIZ",
        "colab_type": "text"
      },
      "cell_type": "markdown",
      "source": [
        "# Gruss Chapter 11: Machine Learning"
      ]
    },
    {
      "metadata": {
        "id": "NQlB0pzxWS7r",
        "colab_type": "code",
        "colab": {}
      },
      "cell_type": "code",
      "source": [
        "def split_data(data, prob):\n",
        "  \"\"\"split data into fractions [prob, 1 - prob]\"\"\"\n",
        "  results = [], []\n",
        "  for row in data:\n",
        "    results[0 if random.random() < prob else 1].append(row)\n",
        "  return results"
      ],
      "execution_count": 0,
      "outputs": []
    },
    {
      "metadata": {
        "id": "QqcXvR5QYfD-",
        "colab_type": "code",
        "colab": {}
      },
      "cell_type": "code",
      "source": [
        "def train_test_split(x, y, test_pct):\n",
        "  data = zip(x, y) # pair corresponding values\n",
        "  train, test = split_data(data, 1 - test_pct) # split the data set of pairs\n",
        "  x_train, y_train = zip(*train) # magical un-zip trick\n",
        "  x_test, y_test = zip(*test)\n",
        "  return x_train, x_test, y_train, y_test"
      ],
      "execution_count": 0,
      "outputs": []
    },
    {
      "metadata": {
        "id": "QgYjA77aYw5o",
        "colab_type": "code",
        "outputId": "0cbf67c4-a490-4496-d005-22efaa256c11",
        "colab": {
          "base_uri": "https://localhost:8080/",
          "height": 35
        }
      },
      "cell_type": "code",
      "source": [
        "def accuracy(tp, fp, fn, tn):\n",
        "  correct = tp + tn\n",
        "  total = tp + fp + fn + tn\n",
        "  return correct / total\n",
        "\n",
        "print(accuracy(70, 4930, 13930, 981070))"
      ],
      "execution_count": 4,
      "outputs": [
        {
          "output_type": "stream",
          "text": [
            "0.98114\n"
          ],
          "name": "stdout"
        }
      ]
    },
    {
      "metadata": {
        "id": "-VU4y4I2ZqM6",
        "colab_type": "code",
        "outputId": "c535c7f5-6823-4832-9bd0-948bc4274cdb",
        "colab": {
          "base_uri": "https://localhost:8080/",
          "height": 35
        }
      },
      "cell_type": "code",
      "source": [
        "def precision(tp, fp, fn, tn):\n",
        "  return tp / (tp + fp)\n",
        "print(precision(70, 4930, 13930, 981070))"
      ],
      "execution_count": 5,
      "outputs": [
        {
          "output_type": "stream",
          "text": [
            "0.014\n"
          ],
          "name": "stdout"
        }
      ]
    },
    {
      "metadata": {
        "id": "_N3S4lC1Z1cr",
        "colab_type": "code",
        "outputId": "7990b7fd-2027-4f70-f0fa-785a0778222e",
        "colab": {
          "base_uri": "https://localhost:8080/",
          "height": 35
        }
      },
      "cell_type": "code",
      "source": [
        "def recall(tp, fp, fn, tn):\n",
        "  return tp / (tp + fn)\n",
        "print(recall(70, 4930, 13930, 981070))"
      ],
      "execution_count": 6,
      "outputs": [
        {
          "output_type": "stream",
          "text": [
            "0.005\n"
          ],
          "name": "stdout"
        }
      ]
    },
    {
      "metadata": {
        "id": "545eq7ylZ7p0",
        "colab_type": "code",
        "colab": {}
      },
      "cell_type": "code",
      "source": [
        "def f1_score(tp, fp, fn, tn):\n",
        "  p = precision(tp, fp, fn, tn)\n",
        "  r = recall(tp, fp, fn, tn)\n",
        "  return 2 * p * r / (p + r)"
      ],
      "execution_count": 0,
      "outputs": []
    },
    {
      "metadata": {
        "id": "7iKoqw8c1vSb",
        "colab_type": "code",
        "colab": {
          "base_uri": "https://localhost:8080/",
          "height": 87
        },
        "outputId": "989c9199-fc7b-4fb3-ee4f-3f687e7117b1"
      },
      "cell_type": "code",
      "source": [
        "if __name__ == \"__main__\":\n",
        "\n",
        "    print(\"accuracy(70, 4930, 13930, 981070)\", accuracy(70, 4930, 13930, 981070))\n",
        "    print(\"precision(70, 4930, 13930, 981070)\", precision(70, 4930, 13930, 981070))\n",
        "    print(\"recall(70, 4930, 13930, 981070)\", recall(70, 4930, 13930, 981070))\n",
        "    print(\"f1_score(70, 4930, 13930, 981070)\", f1_score(70, 4930, 13930, 981070))"
      ],
      "execution_count": 8,
      "outputs": [
        {
          "output_type": "stream",
          "text": [
            "accuracy(70, 4930, 13930, 981070) 0.98114\n",
            "precision(70, 4930, 13930, 981070) 0.014\n",
            "recall(70, 4930, 13930, 981070) 0.005\n",
            "f1_score(70, 4930, 13930, 981070) 0.00736842105263158\n"
          ],
          "name": "stdout"
        }
      ]
    },
    {
      "metadata": {
        "id": "vYFTwVd9bKc9",
        "colab_type": "text"
      },
      "cell_type": "markdown",
      "source": [
        "# Grus  Chapter 13: Navie Bayes"
      ]
    },
    {
      "metadata": {
        "id": "-3yTeH5OaBUj",
        "colab_type": "code",
        "colab": {}
      },
      "cell_type": "code",
      "source": [
        "def tokenize(message):\n",
        "  message = message.lower() # convert to lowercase\n",
        "  all_words = re.findall(\"[a-z0-9']+\", message) # extract the words\n",
        "  return set(all_words)"
      ],
      "execution_count": 0,
      "outputs": []
    },
    {
      "metadata": {
        "id": "ILw8lEVVbWgm",
        "colab_type": "code",
        "colab": {}
      },
      "cell_type": "code",
      "source": [
        "def count_words(training_set):\n",
        "  \"\"\"training set consists of pairs (message, is_spam)\"\"\"\n",
        "  counts = defaultdict(lambda: [0, 0])\n",
        "  for message, is_spam in training_set:\n",
        "    for word in tokenize(message):\n",
        "      counts[word][0 if is_spam else 1] += 1\n",
        "  return counts"
      ],
      "execution_count": 0,
      "outputs": []
    },
    {
      "metadata": {
        "id": "BE4iLsUIbF0U",
        "colab_type": "code",
        "colab": {}
      },
      "cell_type": "code",
      "source": [
        "def word_probabilities(counts, total_spams, total_non_spams, k=0.5):\n",
        "  \"\"\"turn the word_counts into a list of triplet w, p(w | spam) and p(w | ~spam)\"\"\"\n",
        "  return [(w, (spam + k) / (total_spams + 2 * k), (non_spam + k) / (total_non_spams + 2 * k)) for w, (spam, non_spam) in counts.iteritems()]"
      ],
      "execution_count": 0,
      "outputs": []
    },
    {
      "metadata": {
        "id": "4C_GgvHxbs57",
        "colab_type": "code",
        "colab": {}
      },
      "cell_type": "code",
      "source": [
        "def spam_probability(word_probs, message):\n",
        "  message_words = tokenize(message)\n",
        "  log_prob_if_spam = log_prob_if_not_spam = 0.0\n",
        "  # iterate through each word in our vocabulary\n",
        "  for word, prob_if_spam, prob_if_not_spam in word_probs:\n",
        "  # if *word* appears in the message,\n",
        "  # add the log probability of seeing it\n",
        "    if word in message_words:\n",
        "      log_prob_if_spam += math.log(prob_if_spam)\n",
        "      log_prob_if_not_spam += math.log(prob_if_not_spam)\n",
        "      # if *word* doesn't appear in the message\n",
        "      # add the log probability of _not_ seeing it\n",
        "      # which is log(1 - probability of seeing it)\n",
        "    else:\n",
        "      log_prob_if_spam += math.log(1.0 - prob_if_spam)\n",
        "      log_prob_if_not_spam += math.log(1.0 - prob_if_not_spam)\n",
        "      prob_if_spam = math.exp(log_prob_if_spam)\n",
        "      prob_if_not_spam = math.exp(log_prob_if_not_spam)\n",
        "  return prob_if_spam / (prob_if_spam + prob_if_not_spam)"
      ],
      "execution_count": 0,
      "outputs": []
    },
    {
      "metadata": {
        "id": "czCOZ2UfcMVC",
        "colab_type": "code",
        "colab": {}
      },
      "cell_type": "code",
      "source": [
        "class NaiveBayesClassifier:\n",
        "  \n",
        "  def __init__(self, k=0.5):\n",
        "    self.k = k\n",
        "    self.word_probs = []\n",
        "  \n",
        "  def train(self, training_set):\n",
        "    # count spam and non-spam messages\n",
        "    num_spams = len([is_spam for message, is_spam in training_set if is_spam])\n",
        "    num_non_spams = len(training_set) - num_spams\n",
        "    # run training data through our \"pipeline\"\n",
        "    word_counts = count_words(training_set)\n",
        "    self.word_probs = word_probabilities(word_counts, num_spams, num_non_spams, self.k)\n",
        "\n",
        "  def classify(self, message):\n",
        "    return spam_probability(self.word_probs, message)"
      ],
      "execution_count": 0,
      "outputs": []
    },
    {
      "metadata": {
        "id": "oTecrcIL1IDa",
        "colab_type": "code",
        "colab": {}
      },
      "cell_type": "code",
      "source": [
        "import glob, re\n",
        "# modify the path with wherever you've put the files\n",
        "path = r\"C:\\Users\\varun\\Python scripts\\20021010_spam\\*\\*\"\n",
        "data = []\n",
        "# glob.glob returns every filename that matches the wildcarded path\n",
        "for fn in glob.glob(path):\n",
        "    is_spam = \"ham\" not in fn\n",
        "    with open(fn,'r') as file:\n",
        "        for line in file:\n",
        "            if line.startswith(\"Subject:\"):\n",
        "                # remove the leading \"Subject: \" and keep what's left\n",
        "                subject = re.sub(r\"^Subject: \", \"\", line).strip()\n",
        "                data.append((subject, is_spam))"
      ],
      "execution_count": 0,
      "outputs": []
    },
    {
      "metadata": {
        "id": "vwfXptCJ1IDd",
        "colab_type": "code",
        "outputId": "a0e90efc-2484-4c58-bf31-b515e1c9d3d7",
        "colab": {}
      },
      "cell_type": "code",
      "source": [
        "data"
      ],
      "execution_count": 0,
      "outputs": [
        {
          "output_type": "execute_result",
          "data": {
            "text/plain": [
              "[]"
            ]
          },
          "metadata": {
            "tags": []
          },
          "execution_count": 42
        }
      ]
    },
    {
      "metadata": {
        "id": "fqm25uX31IDg",
        "colab_type": "code",
        "colab": {}
      },
      "cell_type": "code",
      "source": [
        "random.seed(0) # just so you get the same answers as me\n",
        "train_data, test_data = split_data(data, 0.75)\n",
        "classifier = NaiveBayesClassifier()\n",
        "classifier.train(train_data)"
      ],
      "execution_count": 0,
      "outputs": []
    },
    {
      "metadata": {
        "id": "XKgBUa1E1IDj",
        "colab_type": "code",
        "colab": {}
      },
      "cell_type": "code",
      "source": [
        "# triplets (subject, actual is_spam, predicted spam probability)\n",
        "classified = [(subject, is_spam, classifier.classify(subject))\n",
        "for subject, is_spam in test_data]\n",
        "# assume that spam_probability > 0.5 corresponds to spam prediction\n",
        "# and count the combinations of (actual is_spam, predicted is_spam)\n",
        "counts = Counter((is_spam, spam_probability > 0.5)\n",
        "for _, is_spam, spam_probability in classified)"
      ],
      "execution_count": 0,
      "outputs": []
    },
    {
      "metadata": {
        "id": "c8aIWzie1IDn",
        "colab_type": "code",
        "colab": {}
      },
      "cell_type": "code",
      "source": [
        "def get_subject_data(path):\n",
        "\n",
        "    data = []\n",
        "\n",
        "    # regex for stripping out the leading \"Subject:\" and any spaces after it\n",
        "    subject_regex = re.compile(r\"^Subject:\\s+\")\n",
        "\n",
        "    # glob.glob returns every filename that matches the wildcarded path\n",
        "    for fn in glob.glob(path):\n",
        "        is_spam = \"ham\" not in fn\n",
        "\n",
        "        with open(fn,'r',encoding='ISO-8859-1') as file:\n",
        "            for line in file:\n",
        "                if line.startswith(\"Subject:\"):\n",
        "                    subject = subject_regex.sub(\"\", line).strip()\n",
        "                    data.append((subject, is_spam))\n",
        "\n",
        "    return data"
      ],
      "execution_count": 0,
      "outputs": []
    },
    {
      "metadata": {
        "id": "mQgspwHp1IDq",
        "colab_type": "code",
        "colab": {}
      },
      "cell_type": "code",
      "source": [
        "def p_spam_given_word(word_prob):\n",
        "    word, prob_if_spam, prob_if_not_spam = word_prob\n",
        "    return prob_if_spam / (prob_if_spam + prob_if_not_spam)\n"
      ],
      "execution_count": 0,
      "outputs": []
    },
    {
      "metadata": {
        "id": "tBz30R001IDs",
        "colab_type": "code",
        "colab": {}
      },
      "cell_type": "code",
      "source": [
        "words = sorted(classifier.word_probs, key=p_spam_given_word)\n",
        "spammiest_words = words[-5:]\n",
        "hammiest_words = words[:5]"
      ],
      "execution_count": 0,
      "outputs": []
    },
    {
      "metadata": {
        "id": "lgwqVqSK1IDu",
        "colab_type": "code",
        "colab": {}
      },
      "cell_type": "code",
      "source": [
        "def drop_final_s(word):\n",
        "    return re.sub(\"s$\", \"\", word)"
      ],
      "execution_count": 0,
      "outputs": []
    },
    {
      "metadata": {
        "id": "jAMI_E8r1IDx",
        "colab_type": "code",
        "colab": {}
      },
      "cell_type": "code",
      "source": [
        "def train_and_test_model(path):\n",
        "\n",
        "    data = get_subject_data(path)\n",
        "    random.seed(0)      # just so you get the same answers as me\n",
        "    train_data, test_data = split_data(data, 0.75)\n",
        "\n",
        "    classifier = NaiveBayesClassifier()\n",
        "    classifier.train(train_data)\n",
        "\n",
        "    classified = [(subject, is_spam, classifier.classify(subject))\n",
        "              for subject, is_spam in test_data]\n",
        "\n",
        "    counts = Counter((is_spam, spam_probability > 0.5) # (actual, predicted)\n",
        "                     for _, is_spam, spam_probability in classified)\n",
        "\n",
        "    print(counts)\n",
        "\n",
        "    classified.sort(key=lambda row: row[2])\n",
        "    spammiest_hams = list(filter(lambda row: not row[1], classified))[-5:]\n",
        "    hammiest_spams = list(filter(lambda row: row[1], classified))[:5]\n",
        "\n",
        "    print(\"spammiest_hams\", spammiest_hams)\n",
        "    print(\"hammiest_spams\", hammiest_spams)\n",
        "\n",
        "    words = sorted(classifier.word_probs, key=p_spam_given_word)\n",
        "\n",
        "    spammiest_words = words[-5:]\n",
        "    hammiest_words = words[:5]\n",
        "\n",
        "    print(\"spammiest_words\", spammiest_words)\n",
        "    print(\"hammiest_words\", hammiest_words)"
      ],
      "execution_count": 0,
      "outputs": []
    },
    {
      "metadata": {
        "id": "4TjhmvmE1ID0",
        "colab_type": "code",
        "outputId": "f434a3a0-bec6-4f12-fe23-440e0be14cb1",
        "colab": {}
      },
      "cell_type": "code",
      "source": [
        "if __name__ == \"__main__\":\n",
        "    #train_and_test_model(r\"c:\\spam\\*\\*\")\n",
        "    train_and_test_model(r\"C:\\Users\\varun\\Python scripts\\spam/*/*\")"
      ],
      "execution_count": 0,
      "outputs": [
        {
          "output_type": "stream",
          "text": [
            "Counter({(False, False): 704, (True, True): 101, (True, False): 38, (False, True): 33})\n",
            "spammiest_hams [('Attn programmers: support offered [FLOSS-Sarai Initiative]', False, 0.9756129605140703), ('2000+ year old Greek computer reinterpreted', False, 0.9835355008104817), ('What to look for in your next smart phone (Tech Update)', False, 0.9898719206903398), ('[ILUG-Social] Re: Important - reenactor insurance needed', False, 0.9995349057803387), ('[ILUG-Social] Re: Important - reenactor insurance needed', False, 0.9995349057803387)]\n",
            "hammiest_spams [('Re: girls', True, 0.0009525186158413664), ('Introducing Chase Platinum for Students with a 0% Introductory APR', True, 0.0012566691211122294), ('.Message report from your contact page....//ytu855 rkq', True, 0.0015109358288642794), ('Testing a system, please delete', True, 0.002692053883693121), ('Never pay for the goodz again (8SimUgQ)', True, 0.005911623221945909)]\n",
            "spammiest_words [('year', 0.028767123287671233, 0.00022893772893772894), ('rates', 0.031506849315068496, 0.00022893772893772894), ('sale', 0.031506849315068496, 0.00022893772893772894), ('systemworks', 0.036986301369863014, 0.00022893772893772894), ('money', 0.03972602739726028, 0.00022893772893772894)]\n",
            "hammiest_words [('spambayes', 0.0013698630136986301, 0.04601648351648352), ('users', 0.0013698630136986301, 0.036401098901098904), ('razor', 0.0013698630136986301, 0.030906593406593408), ('zzzzteana', 0.0013698630136986301, 0.029075091575091576), ('sadev', 0.0013698630136986301, 0.026785714285714284)]\n"
          ],
          "name": "stdout"
        }
      ]
    },
    {
      "metadata": {
        "id": "Qjn6VC8_1ID2",
        "colab_type": "text"
      },
      "cell_type": "markdown",
      "source": [
        "# Chapter- 17 Decision Trees"
      ]
    },
    {
      "metadata": {
        "id": "aLlcOtXC1ID3",
        "colab_type": "code",
        "colab": {}
      },
      "cell_type": "code",
      "source": [
        "from collections import Counter, defaultdict\n",
        "from functools import partial\n",
        "import math, random"
      ],
      "execution_count": 0,
      "outputs": []
    },
    {
      "metadata": {
        "id": "_HmKKX8L1ID4",
        "colab_type": "code",
        "colab": {}
      },
      "cell_type": "code",
      "source": [
        "def entropy(class_probabilities):\n",
        "    \"\"\"given a list of class probabilities, compute the entropy\"\"\"\n",
        "    return sum(-p * math.log(p, 2) for p in class_probabilities if p)\n"
      ],
      "execution_count": 0,
      "outputs": []
    },
    {
      "metadata": {
        "id": "oEMNe58X1ID6",
        "colab_type": "code",
        "colab": {}
      },
      "cell_type": "code",
      "source": [
        "def class_probabilities(labels):\n",
        "    total_count = len(labels)\n",
        "    return [count / total_count\n",
        "            for count in Counter(labels).values()]\n"
      ],
      "execution_count": 0,
      "outputs": []
    },
    {
      "metadata": {
        "id": "T8mQdVks1ID9",
        "colab_type": "code",
        "colab": {}
      },
      "cell_type": "code",
      "source": [
        "def data_entropy(labeled_data):\n",
        "    labels = [label for _, label in labeled_data]\n",
        "    probabilities = class_probabilities(labels)\n",
        "    return entropy(probabilities)"
      ],
      "execution_count": 0,
      "outputs": []
    },
    {
      "metadata": {
        "id": "8vFzB6GZ1IEA",
        "colab_type": "code",
        "colab": {}
      },
      "cell_type": "code",
      "source": [
        "def partition_entropy(subsets):\n",
        "    \"\"\"find the entropy from this partition of data into subsets\"\"\"\n",
        "    total_count = sum(len(subset) for subset in subsets)\n",
        "\n",
        "    return sum( data_entropy(subset) * len(subset) / total_count\n",
        "                for subset in subsets )"
      ],
      "execution_count": 0,
      "outputs": []
    },
    {
      "metadata": {
        "id": "YKcCLn7W1IEC",
        "colab_type": "code",
        "colab": {}
      },
      "cell_type": "code",
      "source": [
        "inputs = [\n",
        "({'level':'Senior', 'lang':'Java', 'tweets':'no', 'phd':'no'}, False),\n",
        "({'level':'Senior', 'lang':'Java', 'tweets':'no', 'phd':'yes'}, False),\n",
        "({'level':'Mid', 'lang':'Python', 'tweets':'no', 'phd':'no'}, True),\n",
        "({'level':'Junior', 'lang':'Python', 'tweets':'no', 'phd':'no'}, True),\n",
        "({'level':'Junior', 'lang':'R', 'tweets':'yes', 'phd':'no'}, True),\n",
        "({'level':'Junior', 'lang':'R', 'tweets':'yes', 'phd':'yes'}, False),\n",
        "({'level':'Mid', 'lang':'R', 'tweets':'yes', 'phd':'yes'}, True),\n",
        "({'level':'Senior', 'lang':'Python', 'tweets':'no', 'phd':'no'}, False),\n",
        "({'level':'Senior', 'lang':'R', 'tweets':'yes', 'phd':'no'}, True),\n",
        "({'level':'Junior', 'lang':'Python', 'tweets':'yes', 'phd':'no'}, True),\n",
        "({'level':'Senior', 'lang':'Python', 'tweets':'yes', 'phd':'yes'}, True),\n",
        "({'level':'Mid', 'lang':'Python', 'tweets':'no', 'phd':'yes'}, True),\n",
        "({'level':'Mid', 'lang':'Java', 'tweets':'yes', 'phd':'no'}, True),\n",
        "({'level':'Junior', 'lang':'Python', 'tweets':'no', 'phd':'yes'}, False)\n",
        "]"
      ],
      "execution_count": 0,
      "outputs": []
    },
    {
      "metadata": {
        "id": "y3_IXZAn1IED",
        "colab_type": "code",
        "colab": {}
      },
      "cell_type": "code",
      "source": [
        "def group_by(items, key_fn):\n",
        "    \"\"\"returns a defaultdict(list), where each input item\n",
        "    is in the list whose key is key_fn(item)\"\"\"\n",
        "    groups = defaultdict(list)\n",
        "    for item in items:\n",
        "        key = key_fn(item)\n",
        "        groups[key].append(item)\n",
        "    return groups"
      ],
      "execution_count": 0,
      "outputs": []
    },
    {
      "metadata": {
        "id": "TNEjcpK51IEF",
        "colab_type": "code",
        "colab": {}
      },
      "cell_type": "code",
      "source": [
        "def partition_by(inputs, attribute):\n",
        "    \"\"\"returns a dict of inputs partitioned by the attribute\n",
        "    each input is a pair (attribute_dict, label)\"\"\"\n",
        "    return group_by(inputs, lambda x: x[0][attribute])\n"
      ],
      "execution_count": 0,
      "outputs": []
    },
    {
      "metadata": {
        "id": "C2BSutNA1IEG",
        "colab_type": "code",
        "colab": {}
      },
      "cell_type": "code",
      "source": [
        "def partition_entropy_by(inputs,attribute):\n",
        "    \"\"\"computes the entropy corresponding to the given partition\"\"\"\n",
        "    partitions = partition_by(inputs, attribute)\n",
        "    return partition_entropy(partitions.values())"
      ],
      "execution_count": 0,
      "outputs": []
    },
    {
      "metadata": {
        "id": "4Nhg8rkU1IEI",
        "colab_type": "code",
        "outputId": "aefae135-53c7-45e8-cb44-0db823185c82",
        "colab": {}
      },
      "cell_type": "code",
      "source": [
        "for key in ['level','lang','tweets','phd']:\n",
        "    print(key, partition_entropy_by(inputs, key))"
      ],
      "execution_count": 0,
      "outputs": [
        {
          "output_type": "stream",
          "text": [
            "level 0.6935361388961919\n",
            "lang 0.8601317128547441\n",
            "tweets 0.7884504573082896\n",
            "phd 0.8921589282623617\n"
          ],
          "name": "stdout"
        }
      ]
    },
    {
      "metadata": {
        "id": "YW-cHHOH1IEK",
        "colab_type": "code",
        "outputId": "dc7d2959-b069-4eab-f2b3-f74c29f27973",
        "colab": {}
      },
      "cell_type": "code",
      "source": [
        "senior_inputs = [(input, label)\n",
        "                 for input, label in inputs if input[\"level\"] == \"Senior\"]\n",
        "for key in ['lang', 'tweets', 'phd']:\n",
        "    print(key, partition_entropy_by(senior_inputs, key))"
      ],
      "execution_count": 0,
      "outputs": [
        {
          "output_type": "stream",
          "text": [
            "lang 0.4\n",
            "tweets 0.0\n",
            "phd 0.9509775004326938\n"
          ],
          "name": "stdout"
        }
      ]
    },
    {
      "metadata": {
        "id": "0C8rsfai1IEM",
        "colab_type": "code",
        "colab": {}
      },
      "cell_type": "code",
      "source": [
        "def classify(tree, input):\n",
        "    \"\"\"classify the input using the given decision tree\"\"\"\n",
        "\n",
        "    # if this is a leaf node, return its value\n",
        "    if tree in [True, False]:\n",
        "        return tree\n",
        "\n",
        "    # otherwise find the correct subtree\n",
        "    attribute, subtree_dict = tree\n",
        "\n",
        "    subtree_key = input.get(attribute)  # None if input is missing attribute\n",
        "\n",
        "    if subtree_key not in subtree_dict: # if no subtree for key,\n",
        "        subtree_key = None              # we'll use the None subtree\n",
        "\n",
        "    subtree = subtree_dict[subtree_key] # choose the appropriate subtree\n",
        "    return classify(subtree, input)     # and use it to classify the input\n"
      ],
      "execution_count": 0,
      "outputs": []
    },
    {
      "metadata": {
        "id": "uhThcLOF1IEN",
        "colab_type": "code",
        "colab": {}
      },
      "cell_type": "code",
      "source": [
        "def build_tree_id3(inputs, split_candidates=None):\n",
        "\n",
        "    # if this is our first pass,\n",
        "    # all keys of the first input are split candidates\n",
        "    if split_candidates is None:\n",
        "        split_candidates = inputs[0][0].keys()\n",
        "\n",
        "    # count Trues and Falses in the inputs\n",
        "    num_inputs = len(inputs)\n",
        "    num_trues = len([label for item, label in inputs if label])\n",
        "    num_falses = num_inputs - num_trues\n",
        "\n",
        "    if num_trues == 0:                  # if only Falses are left\n",
        "        return False                    # return a \"False\" leaf\n",
        "\n",
        "    if num_falses == 0:                 # if only Trues are left\n",
        "        return True                     # return a \"True\" leaf\n",
        "\n",
        "    if not split_candidates:            # if no split candidates left\n",
        "        return num_trues >= num_falses  # return the majority leaf\n",
        "\n",
        "    # otherwise, split on the best attribute\n",
        "    best_attribute = min(split_candidates,\n",
        "        key=partial(partition_entropy_by, inputs))\n",
        "\n",
        "    partitions = partition_by(inputs, best_attribute)\n",
        "    new_candidates = [a for a in split_candidates\n",
        "                      if a != best_attribute]\n",
        "\n",
        "    # recursively build the subtrees\n",
        "    subtrees = { attribute : build_tree_id3(subset, new_candidates)\n",
        "                 for attribute, subset in partitions.items() }\n",
        "\n",
        "    subtrees[None] = num_trues > num_falses # default case\n",
        "\n",
        "    return (best_attribute, subtrees)"
      ],
      "execution_count": 0,
      "outputs": []
    },
    {
      "metadata": {
        "id": "xeDIVHm51IEP",
        "colab_type": "code",
        "colab": {}
      },
      "cell_type": "code",
      "source": [
        "tree = build_tree_id3(inputs)"
      ],
      "execution_count": 0,
      "outputs": []
    },
    {
      "metadata": {
        "id": "u85hOu_U1IER",
        "colab_type": "code",
        "outputId": "7f43a209-2082-43d5-fa0f-7e0bfa0fc808",
        "colab": {}
      },
      "cell_type": "code",
      "source": [
        "classify(tree, { \"level\" : \"Junior\",\n",
        "\"lang\" : \"Java\",\n",
        "\"tweets\" : \"yes\",\n",
        "\"phd\" : \"no\"} )"
      ],
      "execution_count": 0,
      "outputs": [
        {
          "output_type": "execute_result",
          "data": {
            "text/plain": [
              "True"
            ]
          },
          "metadata": {
            "tags": []
          },
          "execution_count": 68
        }
      ]
    },
    {
      "metadata": {
        "id": "klbRLgrC1IET",
        "colab_type": "code",
        "outputId": "253fb35a-00f3-4390-ff20-ddf04badbde8",
        "colab": {}
      },
      "cell_type": "code",
      "source": [
        "classify(tree, { \"level\" : \"Junior\",\n",
        "\"lang\" : \"Java\",\n",
        "\"tweets\" : \"yes\",\n",
        "\"phd\" : \"yes\"} )"
      ],
      "execution_count": 0,
      "outputs": [
        {
          "output_type": "execute_result",
          "data": {
            "text/plain": [
              "False"
            ]
          },
          "metadata": {
            "tags": []
          },
          "execution_count": 69
        }
      ]
    },
    {
      "metadata": {
        "id": "Yb8XVtin1IEW",
        "colab_type": "code",
        "outputId": "714a3581-9a28-4b3f-f071-1a5f6946e0b3",
        "colab": {}
      },
      "cell_type": "code",
      "source": [
        "classify(tree, { \"level\" : \"Intern\" } ) "
      ],
      "execution_count": 0,
      "outputs": [
        {
          "output_type": "execute_result",
          "data": {
            "text/plain": [
              "True"
            ]
          },
          "metadata": {
            "tags": []
          },
          "execution_count": 70
        }
      ]
    },
    {
      "metadata": {
        "id": "7gof2SCS1IEZ",
        "colab_type": "code",
        "outputId": "2cb4aa82-38a6-45a7-ef0a-c61f1f37fbef",
        "colab": {}
      },
      "cell_type": "code",
      "source": [
        "classify(tree, { \"level\" : \"Senior\" } ) "
      ],
      "execution_count": 0,
      "outputs": [
        {
          "output_type": "execute_result",
          "data": {
            "text/plain": [
              "False"
            ]
          },
          "metadata": {
            "tags": []
          },
          "execution_count": 71
        }
      ]
    },
    {
      "metadata": {
        "id": "JqGXDEbP1IEc",
        "colab_type": "code",
        "colab": {}
      },
      "cell_type": "code",
      "source": [
        "def forest_classify(trees, input):\n",
        "    votes = [classify(tree, input) for tree in trees]\n",
        "    vote_counts = Counter(votes)\n",
        "    return vote_counts.most_common(1)[0][0]\n"
      ],
      "execution_count": 0,
      "outputs": []
    },
    {
      "metadata": {
        "id": "eMs0Jc621IEe",
        "colab_type": "code",
        "outputId": "41af0bfc-c3aa-49cf-dd9b-4619da00f9ce",
        "colab": {}
      },
      "cell_type": "code",
      "source": [
        "if __name__ == \"__main__\":\n",
        "\n",
        "    inputs = [\n",
        "        ({'level':'Senior','lang':'Java','tweets':'no','phd':'no'},   False),\n",
        "        ({'level':'Senior','lang':'Java','tweets':'no','phd':'yes'},  False),\n",
        "        ({'level':'Mid','lang':'Python','tweets':'no','phd':'no'},     True),\n",
        "        ({'level':'Junior','lang':'Python','tweets':'no','phd':'no'},  True),\n",
        "        ({'level':'Junior','lang':'R','tweets':'yes','phd':'no'},      True),\n",
        "        ({'level':'Junior','lang':'R','tweets':'yes','phd':'yes'},    False),\n",
        "        ({'level':'Mid','lang':'R','tweets':'yes','phd':'yes'},        True),\n",
        "        ({'level':'Senior','lang':'Python','tweets':'no','phd':'no'}, False),\n",
        "        ({'level':'Senior','lang':'R','tweets':'yes','phd':'no'},      True),\n",
        "        ({'level':'Junior','lang':'Python','tweets':'yes','phd':'no'}, True),\n",
        "        ({'level':'Senior','lang':'Python','tweets':'yes','phd':'yes'},True),\n",
        "        ({'level':'Mid','lang':'Python','tweets':'no','phd':'yes'},    True),\n",
        "        ({'level':'Mid','lang':'Java','tweets':'yes','phd':'no'},      True),\n",
        "        ({'level':'Junior','lang':'Python','tweets':'no','phd':'yes'},False)\n",
        "    ]\n",
        "\n",
        "    for key in ['level','lang','tweets','phd']:\n",
        "        print(key, partition_entropy_by(inputs, key))\n",
        "    print()\n",
        "\n",
        "    senior_inputs = [(input, label)\n",
        "                     for input, label in inputs if input[\"level\"] == \"Senior\"]\n",
        "\n",
        "    for key in ['lang', 'tweets', 'phd']:\n",
        "        print(key, partition_entropy_by(senior_inputs, key))\n",
        "    print()\n",
        "\n",
        "    print(\"building the tree\")\n",
        "    tree = build_tree_id3(inputs)\n",
        "    print(tree)\n",
        "\n",
        "    print(\"Junior / Java / tweets / no phd\", classify(tree,\n",
        "        { \"level\" : \"Junior\",\n",
        "          \"lang\" : \"Java\",\n",
        "          \"tweets\" : \"yes\",\n",
        "          \"phd\" : \"no\"} ))\n",
        "\n",
        "    print(\"Junior / Java / tweets / phd\", classify(tree,\n",
        "        { \"level\" : \"Junior\",\n",
        "                 \"lang\" : \"Java\",\n",
        "                 \"tweets\" : \"yes\",\n",
        "                 \"phd\" : \"yes\"} ))\n",
        "\n",
        "    print(\"Intern\", classify(tree, { \"level\" : \"Intern\" } ))\n",
        "    print(\"Senior\", classify(tree, { \"level\" : \"Senior\" } ))"
      ],
      "execution_count": 0,
      "outputs": [
        {
          "output_type": "stream",
          "text": [
            "level 0.6935361388961919\n",
            "lang 0.8601317128547441\n",
            "tweets 0.7884504573082896\n",
            "phd 0.8921589282623617\n",
            "\n",
            "lang 0.4\n",
            "tweets 0.0\n",
            "phd 0.9509775004326938\n",
            "\n",
            "building the tree\n",
            "('level', {'Senior': ('tweets', {'no': False, 'yes': True, None: False}), 'Mid': True, 'Junior': ('phd', {'no': True, 'yes': False, None: True}), None: True})\n",
            "Junior / Java / tweets / no phd True\n",
            "Junior / Java / tweets / phd False\n",
            "Intern True\n",
            "Senior False\n"
          ],
          "name": "stdout"
        }
      ]
    }
  ]
}