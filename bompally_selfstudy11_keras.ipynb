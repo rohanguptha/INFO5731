{
  "nbformat": 4,
  "nbformat_minor": 0,
  "metadata": {
    "colab": {
      "name": "bompally_selfstudy11_keras.ipynb",
      "version": "0.3.2",
      "provenance": [],
      "collapsed_sections": [],
      "include_colab_link": true
    },
    "kernelspec": {
      "name": "python3",
      "display_name": "Python 3"
    }
  },
  "cells": [
    {
      "cell_type": "markdown",
      "metadata": {
        "id": "view-in-github",
        "colab_type": "text"
      },
      "source": [
        "<a href=\"https://colab.research.google.com/github/rohanguptha/INFO5731/blob/master/bompally_selfstudy11_keras.ipynb\" target=\"_parent\"><img src=\"https://colab.research.google.com/assets/colab-badge.svg\" alt=\"Open In Colab\"/></a>"
      ]
    },
    {
      "metadata": {
        "id": "6gUPbie3p4zX",
        "colab_type": "code",
        "colab": {}
      },
      "cell_type": "code",
      "source": [
        "import pickle\n",
        "import pandas as pd"
      ],
      "execution_count": 0,
      "outputs": []
    },
    {
      "metadata": {
        "id": "ds9tRaPUqLjL",
        "colab_type": "code",
        "colab": {}
      },
      "cell_type": "code",
      "source": [
        "with open('imdb-review.pickle','rb') as f:\n",
        "  train, test = pickle.load(f)"
      ],
      "execution_count": 0,
      "outputs": []
    },
    {
      "metadata": {
        "id": "sIiCoiWJqdqn",
        "colab_type": "code",
        "colab": {
          "base_uri": "https://localhost:8080/",
          "height": 202
        },
        "outputId": "f1d41d90-3f6f-49e2-898e-2dd23605c6c6"
      },
      "cell_type": "code",
      "source": [
        "train.head()"
      ],
      "execution_count": 4,
      "outputs": [
        {
          "output_type": "execute_result",
          "data": {
            "text/html": [
              "<div>\n",
              "<style scoped>\n",
              "    .dataframe tbody tr th:only-of-type {\n",
              "        vertical-align: middle;\n",
              "    }\n",
              "\n",
              "    .dataframe tbody tr th {\n",
              "        vertical-align: top;\n",
              "    }\n",
              "\n",
              "    .dataframe thead th {\n",
              "        text-align: right;\n",
              "    }\n",
              "</style>\n",
              "<table border=\"1\" class=\"dataframe\">\n",
              "  <thead>\n",
              "    <tr style=\"text-align: right;\">\n",
              "      <th></th>\n",
              "      <th>text</th>\n",
              "      <th>sentiment</th>\n",
              "    </tr>\n",
              "  </thead>\n",
              "  <tbody>\n",
              "    <tr>\n",
              "      <th>0</th>\n",
              "      <td>For a movie that gets no respect there sure ar...</td>\n",
              "      <td>1</td>\n",
              "    </tr>\n",
              "    <tr>\n",
              "      <th>1</th>\n",
              "      <td>Bizarre horror movie filled with famous faces ...</td>\n",
              "      <td>1</td>\n",
              "    </tr>\n",
              "    <tr>\n",
              "      <th>2</th>\n",
              "      <td>A solid, if unremarkable film. Matthau, as Ein...</td>\n",
              "      <td>1</td>\n",
              "    </tr>\n",
              "    <tr>\n",
              "      <th>3</th>\n",
              "      <td>It's a strange feeling to sit alone in a theat...</td>\n",
              "      <td>1</td>\n",
              "    </tr>\n",
              "    <tr>\n",
              "      <th>4</th>\n",
              "      <td>You probably all already know this by now, but...</td>\n",
              "      <td>1</td>\n",
              "    </tr>\n",
              "  </tbody>\n",
              "</table>\n",
              "</div>"
            ],
            "text/plain": [
              "                                                text  sentiment\n",
              "0  For a movie that gets no respect there sure ar...          1\n",
              "1  Bizarre horror movie filled with famous faces ...          1\n",
              "2  A solid, if unremarkable film. Matthau, as Ein...          1\n",
              "3  It's a strange feeling to sit alone in a theat...          1\n",
              "4  You probably all already know this by now, but...          1"
            ]
          },
          "metadata": {
            "tags": []
          },
          "execution_count": 4
        }
      ]
    },
    {
      "metadata": {
        "id": "FHrg9avutRc3",
        "colab_type": "code",
        "colab": {
          "base_uri": "https://localhost:8080/",
          "height": 287
        },
        "outputId": "c9d35276-d25d-40b1-d4ca-8facebdbeff5"
      },
      "cell_type": "code",
      "source": [
        "train.sentiment.value_counts().plot(kind='barh')"
      ],
      "execution_count": 7,
      "outputs": [
        {
          "output_type": "execute_result",
          "data": {
            "text/plain": [
              "<matplotlib.axes._subplots.AxesSubplot at 0x7fa8b0873240>"
            ]
          },
          "metadata": {
            "tags": []
          },
          "execution_count": 7
        },
        {
          "output_type": "display_data",
          "data": {
            "image/png": "[encoded data removed]",
            "text/plain": [
              "<Figure size 432x288 with 1 Axes>"
            ]
          },
          "metadata": {
            "tags": []
          }
        }
      ]
    },
    {
      "metadata": {
        "id": "66qUeBcuta6y",
        "colab_type": "code",
        "colab": {
          "base_uri": "https://localhost:8080/",
          "height": 35
        },
        "outputId": "1cbb6810-6e7f-47be-fbcf-779d52573aac"
      },
      "cell_type": "code",
      "source": [
        "from keras.preprocessing.text import Tokenizer\n",
        "import numpy as np"
      ],
      "execution_count": 8,
      "outputs": [
        {
          "output_type": "stream",
          "text": [
            "Using TensorFlow backend.\n"
          ],
          "name": "stderr"
        }
      ]
    },
    {
      "metadata": {
        "id": "iCFX8bOZtr2e",
        "colab_type": "code",
        "colab": {}
      },
      "cell_type": "code",
      "source": [
        "num_words = 10000"
      ],
      "execution_count": 0,
      "outputs": []
    },
    {
      "metadata": {
        "id": "495r0gHYt4kX",
        "colab_type": "code",
        "colab": {}
      },
      "cell_type": "code",
      "source": [
        "tokenizer = Tokenizer(num_words=num_words)"
      ],
      "execution_count": 0,
      "outputs": []
    },
    {
      "metadata": {
        "id": "hbTQ7YjTt-yl",
        "colab_type": "code",
        "colab": {}
      },
      "cell_type": "code",
      "source": [
        "tokenizer.fit_on_texts(train.text)"
      ],
      "execution_count": 0,
      "outputs": []
    },
    {
      "metadata": {
        "id": "N_gkldvhuF9J",
        "colab_type": "code",
        "colab": {}
      },
      "cell_type": "code",
      "source": [
        "train_sequence = tokenizer.texts_to_sequences(train.text)\n",
        "test_sequence = tokenizer.texts_to_sequences(test.text)"
      ],
      "execution_count": 0,
      "outputs": []
    },
    {
      "metadata": {
        "id": "0KW4X9-Gu3Ln",
        "colab_type": "code",
        "colab": {
          "base_uri": "https://localhost:8080/",
          "height": 55
        },
        "outputId": "3707231c-d9ef-47d7-a5ee-a163ed75b6fb"
      },
      "cell_type": "code",
      "source": [
        "train.text[0]"
      ],
      "execution_count": 14,
      "outputs": [
        {
          "output_type": "execute_result",
          "data": {
            "text/plain": [
              "'For a movie that gets no respect there sure are a lot of memorable quotes listed for this gem. Imagine a movie where Joe Piscopo is actually funny! Maureen Stapleton is a scene stealer. The Moroni character is an absolute scream. Watch for Alan \"The Skipper\" Hale jr. as a police Sgt.'"
            ]
          },
          "metadata": {
            "tags": []
          },
          "execution_count": 14
        }
      ]
    },
    {
      "metadata": {
        "id": "TA5WGk8Gu7Jy",
        "colab_type": "code",
        "colab": {
          "base_uri": "https://localhost:8080/",
          "height": 832
        },
        "outputId": "4af29569-090b-4331-a10c-ee1d1768caae"
      },
      "cell_type": "code",
      "source": [
        "train_sequence[0]"
      ],
      "execution_count": 16,
      "outputs": [
        {
          "output_type": "execute_result",
          "data": {
            "text/plain": [
              "[15,\n",
              " 3,\n",
              " 17,\n",
              " 12,\n",
              " 211,\n",
              " 54,\n",
              " 1158,\n",
              " 47,\n",
              " 249,\n",
              " 23,\n",
              " 3,\n",
              " 173,\n",
              " 4,\n",
              " 903,\n",
              " 4381,\n",
              " 3559,\n",
              " 15,\n",
              " 11,\n",
              " 1525,\n",
              " 835,\n",
              " 3,\n",
              " 17,\n",
              " 118,\n",
              " 911,\n",
              " 6,\n",
              " 162,\n",
              " 160,\n",
              " 7262,\n",
              " 6,\n",
              " 3,\n",
              " 133,\n",
              " 1,\n",
              " 106,\n",
              " 6,\n",
              " 32,\n",
              " 1552,\n",
              " 2032,\n",
              " 103,\n",
              " 15,\n",
              " 1605,\n",
              " 1,\n",
              " 8595,\n",
              " 1789,\n",
              " 14,\n",
              " 3,\n",
              " 565,\n",
              " 6259]"
            ]
          },
          "metadata": {
            "tags": []
          },
          "execution_count": 16
        }
      ]
    },
    {
      "metadata": {
        "id": "xve6EDeou8iD",
        "colab_type": "code",
        "colab": {
          "base_uri": "https://localhost:8080/",
          "height": 364
        },
        "outputId": "32b21835-b92b-4497-fa5c-7370dbe97b07"
      },
      "cell_type": "code",
      "source": [
        "list(tokenizer.index_word.items())[:20]"
      ],
      "execution_count": 17,
      "outputs": [
        {
          "output_type": "execute_result",
          "data": {
            "text/plain": [
              "[(1, 'the'),\n",
              " (2, 'and'),\n",
              " (3, 'a'),\n",
              " (4, 'of'),\n",
              " (5, 'to'),\n",
              " (6, 'is'),\n",
              " (7, 'br'),\n",
              " (8, 'in'),\n",
              " (9, 'it'),\n",
              " (10, 'i'),\n",
              " (11, 'this'),\n",
              " (12, 'that'),\n",
              " (13, 'was'),\n",
              " (14, 'as'),\n",
              " (15, 'for'),\n",
              " (16, 'with'),\n",
              " (17, 'movie'),\n",
              " (18, 'but'),\n",
              " (19, 'film'),\n",
              " (20, 'on')]"
            ]
          },
          "metadata": {
            "tags": []
          },
          "execution_count": 17
        }
      ]
    },
    {
      "metadata": {
        "id": "xjawiUSBvX32",
        "colab_type": "code",
        "colab": {
          "base_uri": "https://localhost:8080/",
          "height": 202
        },
        "outputId": "6d4c45af-a529-46ff-a402-42ada0f591d9"
      },
      "cell_type": "code",
      "source": [
        "train.head()"
      ],
      "execution_count": 19,
      "outputs": [
        {
          "output_type": "execute_result",
          "data": {
            "text/html": [
              "<div>\n",
              "<style scoped>\n",
              "    .dataframe tbody tr th:only-of-type {\n",
              "        vertical-align: middle;\n",
              "    }\n",
              "\n",
              "    .dataframe tbody tr th {\n",
              "        vertical-align: top;\n",
              "    }\n",
              "\n",
              "    .dataframe thead th {\n",
              "        text-align: right;\n",
              "    }\n",
              "</style>\n",
              "<table border=\"1\" class=\"dataframe\">\n",
              "  <thead>\n",
              "    <tr style=\"text-align: right;\">\n",
              "      <th></th>\n",
              "      <th>text</th>\n",
              "      <th>sentiment</th>\n",
              "    </tr>\n",
              "  </thead>\n",
              "  <tbody>\n",
              "    <tr>\n",
              "      <th>0</th>\n",
              "      <td>For a movie that gets no respect there sure ar...</td>\n",
              "      <td>1</td>\n",
              "    </tr>\n",
              "    <tr>\n",
              "      <th>1</th>\n",
              "      <td>Bizarre horror movie filled with famous faces ...</td>\n",
              "      <td>1</td>\n",
              "    </tr>\n",
              "    <tr>\n",
              "      <th>2</th>\n",
              "      <td>A solid, if unremarkable film. Matthau, as Ein...</td>\n",
              "      <td>1</td>\n",
              "    </tr>\n",
              "    <tr>\n",
              "      <th>3</th>\n",
              "      <td>It's a strange feeling to sit alone in a theat...</td>\n",
              "      <td>1</td>\n",
              "    </tr>\n",
              "    <tr>\n",
              "      <th>4</th>\n",
              "      <td>You probably all already know this by now, but...</td>\n",
              "      <td>1</td>\n",
              "    </tr>\n",
              "  </tbody>\n",
              "</table>\n",
              "</div>"
            ],
            "text/plain": [
              "                                                text  sentiment\n",
              "0  For a movie that gets no respect there sure ar...          1\n",
              "1  Bizarre horror movie filled with famous faces ...          1\n",
              "2  A solid, if unremarkable film. Matthau, as Ein...          1\n",
              "3  It's a strange feeling to sit alone in a theat...          1\n",
              "4  You probably all already know this by now, but...          1"
            ]
          },
          "metadata": {
            "tags": []
          },
          "execution_count": 19
        }
      ]
    },
    {
      "metadata": {
        "id": "W83SgwXyvblF",
        "colab_type": "code",
        "colab": {}
      },
      "cell_type": "code",
      "source": [
        "train['text_length'] = train['text'].str.len()"
      ],
      "execution_count": 0,
      "outputs": []
    },
    {
      "metadata": {
        "id": "C2doJw8uvoQt",
        "colab_type": "code",
        "colab": {
          "base_uri": "https://localhost:8080/",
          "height": 202
        },
        "outputId": "c0dc694a-1e99-4b89-9853-34e498956c17"
      },
      "cell_type": "code",
      "source": [
        "train.head()"
      ],
      "execution_count": 21,
      "outputs": [
        {
          "output_type": "execute_result",
          "data": {
            "text/html": [
              "<div>\n",
              "<style scoped>\n",
              "    .dataframe tbody tr th:only-of-type {\n",
              "        vertical-align: middle;\n",
              "    }\n",
              "\n",
              "    .dataframe tbody tr th {\n",
              "        vertical-align: top;\n",
              "    }\n",
              "\n",
              "    .dataframe thead th {\n",
              "        text-align: right;\n",
              "    }\n",
              "</style>\n",
              "<table border=\"1\" class=\"dataframe\">\n",
              "  <thead>\n",
              "    <tr style=\"text-align: right;\">\n",
              "      <th></th>\n",
              "      <th>text</th>\n",
              "      <th>sentiment</th>\n",
              "      <th>text_length</th>\n",
              "    </tr>\n",
              "  </thead>\n",
              "  <tbody>\n",
              "    <tr>\n",
              "      <th>0</th>\n",
              "      <td>For a movie that gets no respect there sure ar...</td>\n",
              "      <td>1</td>\n",
              "      <td>284</td>\n",
              "    </tr>\n",
              "    <tr>\n",
              "      <th>1</th>\n",
              "      <td>Bizarre horror movie filled with famous faces ...</td>\n",
              "      <td>1</td>\n",
              "      <td>1033</td>\n",
              "    </tr>\n",
              "    <tr>\n",
              "      <th>2</th>\n",
              "      <td>A solid, if unremarkable film. Matthau, as Ein...</td>\n",
              "      <td>1</td>\n",
              "      <td>318</td>\n",
              "    </tr>\n",
              "    <tr>\n",
              "      <th>3</th>\n",
              "      <td>It's a strange feeling to sit alone in a theat...</td>\n",
              "      <td>1</td>\n",
              "      <td>2596</td>\n",
              "    </tr>\n",
              "    <tr>\n",
              "      <th>4</th>\n",
              "      <td>You probably all already know this by now, but...</td>\n",
              "      <td>1</td>\n",
              "      <td>783</td>\n",
              "    </tr>\n",
              "  </tbody>\n",
              "</table>\n",
              "</div>"
            ],
            "text/plain": [
              "                                                text  sentiment  text_length\n",
              "0  For a movie that gets no respect there sure ar...          1          284\n",
              "1  Bizarre horror movie filled with famous faces ...          1         1033\n",
              "2  A solid, if unremarkable film. Matthau, as Ein...          1          318\n",
              "3  It's a strange feeling to sit alone in a theat...          1         2596\n",
              "4  You probably all already know this by now, but...          1          783"
            ]
          },
          "metadata": {
            "tags": []
          },
          "execution_count": 21
        }
      ]
    },
    {
      "metadata": {
        "id": "FoIxKHQwwFbv",
        "colab_type": "code",
        "colab": {
          "base_uri": "https://localhost:8080/",
          "height": 287
        },
        "outputId": "683828b1-2d6e-4a51-eaad-cf6da7db2ccf"
      },
      "cell_type": "code",
      "source": [
        "train.groupby(['text_length']).count().plot(kind='hist')"
      ],
      "execution_count": 23,
      "outputs": [
        {
          "output_type": "execute_result",
          "data": {
            "text/plain": [
              "<matplotlib.axes._subplots.AxesSubplot at 0x7fa87c31b4a8>"
            ]
          },
          "metadata": {
            "tags": []
          },
          "execution_count": 23
        },
        {
          "output_type": "display_data",
          "data": {
            "image/png": "[encoded data removed]",
            "text/plain": [
              "<Figure size 432x288 with 1 Axes>"
            ]
          },
          "metadata": {
            "tags": []
          }
        }
      ]
    },
    {
      "metadata": {
        "id": "1hurj-pNwfas",
        "colab_type": "code",
        "colab": {}
      },
      "cell_type": "code",
      "source": [
        "lens = [len(seq) for seq in train_sequence]"
      ],
      "execution_count": 0,
      "outputs": []
    },
    {
      "metadata": {
        "id": "YllpC4JzwntG",
        "colab_type": "code",
        "colab": {
          "base_uri": "https://localhost:8080/",
          "height": 17368
        },
        "outputId": "45d4ec12-9fa7-4392-92fb-92920fa69ed9"
      },
      "cell_type": "code",
      "source": [
        "lens"
      ],
      "execution_count": 26,
      "outputs": [
        {
          "output_type": "execute_result",
          "data": {
            "text/plain": [
              "[47,\n",
              " 148,\n",
              " 51,\n",
              " 393,\n",
              " 136,\n",
              " 88,\n",
              " 114,\n",
              " 116,\n",
              " 439,\n",
              " 55,\n",
              " 56,\n",
              " 322,\n",
              " 78,\n",
              " 613,\n",
              " 114,\n",
              " 44,\n",
              " 128,\n",
              " 134,\n",
              " 179,\n",
              " 139,\n",
              " 54,\n",
              " 127,\n",
              " 698,\n",
              " 150,\n",
              " 172,\n",
              " 182,\n",
              " 132,\n",
              " 414,\n",
              " 123,\n",
              " 311,\n",
              " 464,\n",
              " 143,\n",
              " 176,\n",
              " 170,\n",
              " 188,\n",
              " 106,\n",
              " 178,\n",
              " 79,\n",
              " 85,\n",
              " 251,\n",
              " 103,\n",
              " 108,\n",
              " 417,\n",
              " 254,\n",
              " 161,\n",
              " 123,\n",
              " 145,\n",
              " 131,\n",
              " 68,\n",
              " 313,\n",
              " 161,\n",
              " 244,\n",
              " 115,\n",
              " 112,\n",
              " 238,\n",
              " 800,\n",
              " 129,\n",
              " 415,\n",
              " 571,\n",
              " 305,\n",
              " 110,\n",
              " 162,\n",
              " 115,\n",
              " 149,\n",
              " 129,\n",
              " 194,\n",
              " 76,\n",
              " 259,\n",
              " 166,\n",
              " 444,\n",
              " 74,\n",
              " 137,\n",
              " 74,\n",
              " 151,\n",
              " 125,\n",
              " 303,\n",
              " 233,\n",
              " 119,\n",
              " 132,\n",
              " 293,\n",
              " 218,\n",
              " 290,\n",
              " 200,\n",
              " 127,\n",
              " 287,\n",
              " 116,\n",
              " 128,\n",
              " 328,\n",
              " 563,\n",
              " 126,\n",
              " 143,\n",
              " 176,\n",
              " 68,\n",
              " 263,\n",
              " 130,\n",
              " 121,\n",
              " 150,\n",
              " 372,\n",
              " 143,\n",
              " 105,\n",
              " 124,\n",
              " 56,\n",
              " 234,\n",
              " 77,\n",
              " 129,\n",
              " 329,\n",
              " 445,\n",
              " 517,\n",
              " 216,\n",
              " 141,\n",
              " 93,\n",
              " 132,\n",
              " 283,\n",
              " 157,\n",
              " 332,\n",
              " 396,\n",
              " 72,\n",
              " 53,\n",
              " 126,\n",
              " 431,\n",
              " 171,\n",
              " 455,\n",
              " 373,\n",
              " 119,\n",
              " 25,\n",
              " 107,\n",
              " 169,\n",
              " 180,\n",
              " 510,\n",
              " 271,\n",
              " 170,\n",
              " 308,\n",
              " 115,\n",
              " 489,\n",
              " 256,\n",
              " 220,\n",
              " 188,\n",
              " 40,\n",
              " 60,\n",
              " 412,\n",
              " 227,\n",
              " 515,\n",
              " 214,\n",
              " 140,\n",
              " 106,\n",
              " 176,\n",
              " 134,\n",
              " 419,\n",
              " 222,\n",
              " 64,\n",
              " 571,\n",
              " 218,\n",
              " 168,\n",
              " 140,\n",
              " 344,\n",
              " 230,\n",
              " 349,\n",
              " 42,\n",
              " 146,\n",
              " 47,\n",
              " 117,\n",
              " 288,\n",
              " 69,\n",
              " 299,\n",
              " 63,\n",
              " 454,\n",
              " 251,\n",
              " 103,\n",
              " 74,\n",
              " 489,\n",
              " 231,\n",
              " 180,\n",
              " 192,\n",
              " 217,\n",
              " 113,\n",
              " 63,\n",
              " 516,\n",
              " 204,\n",
              " 489,\n",
              " 716,\n",
              " 295,\n",
              " 163,\n",
              " 45,\n",
              " 94,\n",
              " 138,\n",
              " 256,\n",
              " 369,\n",
              " 241,\n",
              " 419,\n",
              " 239,\n",
              " 124,\n",
              " 746,\n",
              " 369,\n",
              " 128,\n",
              " 454,\n",
              " 82,\n",
              " 196,\n",
              " 218,\n",
              " 121,\n",
              " 363,\n",
              " 124,\n",
              " 101,\n",
              " 562,\n",
              " 402,\n",
              " 135,\n",
              " 126,\n",
              " 401,\n",
              " 382,\n",
              " 318,\n",
              " 147,\n",
              " 245,\n",
              " 220,\n",
              " 624,\n",
              " 201,\n",
              " 188,\n",
              " 280,\n",
              " 134,\n",
              " 157,\n",
              " 103,\n",
              " 228,\n",
              " 233,\n",
              " 440,\n",
              " 226,\n",
              " 113,\n",
              " 271,\n",
              " 144,\n",
              " 126,\n",
              " 104,\n",
              " 283,\n",
              " 535,\n",
              " 128,\n",
              " 114,\n",
              " 92,\n",
              " 112,\n",
              " 423,\n",
              " 97,\n",
              " 484,\n",
              " 256,\n",
              " 114,\n",
              " 369,\n",
              " 85,\n",
              " 287,\n",
              " 116,\n",
              " 127,\n",
              " 132,\n",
              " 585,\n",
              " 144,\n",
              " 375,\n",
              " 372,\n",
              " 399,\n",
              " 141,\n",
              " 402,\n",
              " 129,\n",
              " 437,\n",
              " 91,\n",
              " 145,\n",
              " 234,\n",
              " 202,\n",
              " 254,\n",
              " 218,\n",
              " 147,\n",
              " 426,\n",
              " 91,\n",
              " 221,\n",
              " 36,\n",
              " 32,\n",
              " 143,\n",
              " 263,\n",
              " 426,\n",
              " 223,\n",
              " 211,\n",
              " 316,\n",
              " 79,\n",
              " 209,\n",
              " 150,\n",
              " 573,\n",
              " 132,\n",
              " 397,\n",
              " 132,\n",
              " 195,\n",
              " 174,\n",
              " 158,\n",
              " 232,\n",
              " 112,\n",
              " 206,\n",
              " 106,\n",
              " 214,\n",
              " 249,\n",
              " 166,\n",
              " 125,\n",
              " 207,\n",
              " 82,\n",
              " 175,\n",
              " 196,\n",
              " 207,\n",
              " 129,\n",
              " 250,\n",
              " 119,\n",
              " 144,\n",
              " 389,\n",
              " 173,\n",
              " 191,\n",
              " 156,\n",
              " 154,\n",
              " 642,\n",
              " 117,\n",
              " 52,\n",
              " 67,\n",
              " 56,\n",
              " 286,\n",
              " 49,\n",
              " 266,\n",
              " 115,\n",
              " 224,\n",
              " 130,\n",
              " 196,\n",
              " 109,\n",
              " 331,\n",
              " 142,\n",
              " 109,\n",
              " 256,\n",
              " 121,\n",
              " 651,\n",
              " 136,\n",
              " 142,\n",
              " 225,\n",
              " 45,\n",
              " 197,\n",
              " 294,\n",
              " 199,\n",
              " 102,\n",
              " 140,\n",
              " 282,\n",
              " 563,\n",
              " 172,\n",
              " 543,\n",
              " 153,\n",
              " 189,\n",
              " 247,\n",
              " 797,\n",
              " 370,\n",
              " 129,\n",
              " 74,\n",
              " 302,\n",
              " 161,\n",
              " 129,\n",
              " 60,\n",
              " 283,\n",
              " 58,\n",
              " 110,\n",
              " 141,\n",
              " 572,\n",
              " 310,\n",
              " 118,\n",
              " 145,\n",
              " 129,\n",
              " 115,\n",
              " 103,\n",
              " 96,\n",
              " 317,\n",
              " 702,\n",
              " 116,\n",
              " 123,\n",
              " 148,\n",
              " 50,\n",
              " 79,\n",
              " 187,\n",
              " 263,\n",
              " 318,\n",
              " 154,\n",
              " 129,\n",
              " 249,\n",
              " 135,\n",
              " 159,\n",
              " 69,\n",
              " 153,\n",
              " 402,\n",
              " 117,\n",
              " 145,\n",
              " 191,\n",
              " 137,\n",
              " 141,\n",
              " 178,\n",
              " 118,\n",
              " 176,\n",
              " 261,\n",
              " 54,\n",
              " 162,\n",
              " 325,\n",
              " 142,\n",
              " 148,\n",
              " 328,\n",
              " 95,\n",
              " 165,\n",
              " 411,\n",
              " 135,\n",
              " 140,\n",
              " 297,\n",
              " 47,\n",
              " 107,\n",
              " 468,\n",
              " 309,\n",
              " 510,\n",
              " 71,\n",
              " 168,\n",
              " 76,\n",
              " 196,\n",
              " 183,\n",
              " 131,\n",
              " 73,\n",
              " 28,\n",
              " 101,\n",
              " 406,\n",
              " 543,\n",
              " 140,\n",
              " 115,\n",
              " 291,\n",
              " 141,\n",
              " 415,\n",
              " 110,\n",
              " 203,\n",
              " 274,\n",
              " 220,\n",
              " 103,\n",
              " 147,\n",
              " 68,\n",
              " 145,\n",
              " 445,\n",
              " 139,\n",
              " 451,\n",
              " 72,\n",
              " 506,\n",
              " 223,\n",
              " 148,\n",
              " 302,\n",
              " 112,\n",
              " 112,\n",
              " 369,\n",
              " 352,\n",
              " 268,\n",
              " 325,\n",
              " 138,\n",
              " 183,\n",
              " 86,\n",
              " 626,\n",
              " 134,\n",
              " 79,\n",
              " 167,\n",
              " 119,\n",
              " 106,\n",
              " 111,\n",
              " 112,\n",
              " 107,\n",
              " 135,\n",
              " 153,\n",
              " 267,\n",
              " 134,\n",
              " 419,\n",
              " 174,\n",
              " 413,\n",
              " 165,\n",
              " 133,\n",
              " 138,\n",
              " 272,\n",
              " 231,\n",
              " 123,\n",
              " 231,\n",
              " 107,\n",
              " 329,\n",
              " 227,\n",
              " 148,\n",
              " 226,\n",
              " 890,\n",
              " 221,\n",
              " 180,\n",
              " 240,\n",
              " 217,\n",
              " 79,\n",
              " 175,\n",
              " 55,\n",
              " 87,\n",
              " 659,\n",
              " 408,\n",
              " 162,\n",
              " 213,\n",
              " 55,\n",
              " 204,\n",
              " 106,\n",
              " 169,\n",
              " 109,\n",
              " 57,\n",
              " 620,\n",
              " 585,\n",
              " 146,\n",
              " 72,\n",
              " 140,\n",
              " 356,\n",
              " 173,\n",
              " 716,\n",
              " 219,\n",
              " 1465,\n",
              " 395,\n",
              " 222,\n",
              " 143,\n",
              " 57,\n",
              " 155,\n",
              " 255,\n",
              " 381,\n",
              " 220,\n",
              " 136,\n",
              " 348,\n",
              " 130,\n",
              " 363,\n",
              " 292,\n",
              " 89,\n",
              " 154,\n",
              " 265,\n",
              " 185,\n",
              " 83,\n",
              " 73,\n",
              " 43,\n",
              " 267,\n",
              " 154,\n",
              " 198,\n",
              " 181,\n",
              " 133,\n",
              " 268,\n",
              " 169,\n",
              " 130,\n",
              " 138,\n",
              " 400,\n",
              " 151,\n",
              " 63,\n",
              " 713,\n",
              " 186,\n",
              " 312,\n",
              " 285,\n",
              " 185,\n",
              " 44,\n",
              " 90,\n",
              " 337,\n",
              " 448,\n",
              " 61,\n",
              " 180,\n",
              " 257,\n",
              " 105,\n",
              " 246,\n",
              " 320,\n",
              " 141,\n",
              " 345,\n",
              " 96,\n",
              " 195,\n",
              " 402,\n",
              " 635,\n",
              " 44,\n",
              " 405,\n",
              " 613,\n",
              " 240,\n",
              " 125,\n",
              " 160,\n",
              " 142,\n",
              " 128,\n",
              " 777,\n",
              " 186,\n",
              " 180,\n",
              " 197,\n",
              " 59,\n",
              " 55,\n",
              " 194,\n",
              " 253,\n",
              " 189,\n",
              " 124,\n",
              " 477,\n",
              " 486,\n",
              " 315,\n",
              " 98,\n",
              " 233,\n",
              " 109,\n",
              " 77,\n",
              " 181,\n",
              " 79,\n",
              " 82,\n",
              " 166,\n",
              " 152,\n",
              " 115,\n",
              " 76,\n",
              " 153,\n",
              " 129,\n",
              " 144,\n",
              " 367,\n",
              " 604,\n",
              " 143,\n",
              " 220,\n",
              " 515,\n",
              " 109,\n",
              " 174,\n",
              " 82,\n",
              " 111,\n",
              " 89,\n",
              " 121,\n",
              " 507,\n",
              " 67,\n",
              " 208,\n",
              " 159,\n",
              " 225,\n",
              " 194,\n",
              " 174,\n",
              " 444,\n",
              " 182,\n",
              " 131,\n",
              " 157,\n",
              " 77,\n",
              " 180,\n",
              " 41,\n",
              " 175,\n",
              " 125,\n",
              " 85,\n",
              " 195,\n",
              " 257,\n",
              " 103,\n",
              " 76,\n",
              " 104,\n",
              " 68,\n",
              " 145,\n",
              " 48,\n",
              " 845,\n",
              " 142,\n",
              " 152,\n",
              " 200,\n",
              " 154,\n",
              " 122,\n",
              " 571,\n",
              " 335,\n",
              " 294,\n",
              " 147,\n",
              " 109,\n",
              " 145,\n",
              " 624,\n",
              " 105,\n",
              " 167,\n",
              " 167,\n",
              " 107,\n",
              " 170,\n",
              " 132,\n",
              " 339,\n",
              " 66,\n",
              " 115,\n",
              " 101,\n",
              " 278,\n",
              " 462,\n",
              " 170,\n",
              " 211,\n",
              " 153,\n",
              " 285,\n",
              " 154,\n",
              " 81,\n",
              " 225,\n",
              " 212,\n",
              " 168,\n",
              " 107,\n",
              " 119,\n",
              " 123,\n",
              " 130,\n",
              " 237,\n",
              " 176,\n",
              " 256,\n",
              " 114,\n",
              " 359,\n",
              " 194,\n",
              " 51,\n",
              " 74,\n",
              " 114,\n",
              " 102,\n",
              " 704,\n",
              " 103,\n",
              " 590,\n",
              " 170,\n",
              " 160,\n",
              " 161,\n",
              " 163,\n",
              " 111,\n",
              " 318,\n",
              " 575,\n",
              " 188,\n",
              " 215,\n",
              " 70,\n",
              " 64,\n",
              " 93,\n",
              " 110,\n",
              " 117,\n",
              " 263,\n",
              " 78,\n",
              " 111,\n",
              " 405,\n",
              " 783,\n",
              " 226,\n",
              " 151,\n",
              " 710,\n",
              " 339,\n",
              " 714,\n",
              " 218,\n",
              " 199,\n",
              " 61,\n",
              " 262,\n",
              " 110,\n",
              " 230,\n",
              " 245,\n",
              " 585,\n",
              " 115,\n",
              " 119,\n",
              " 60,\n",
              " 340,\n",
              " 179,\n",
              " 74,\n",
              " 178,\n",
              " 72,\n",
              " 142,\n",
              " 307,\n",
              " 401,\n",
              " 101,\n",
              " 489,\n",
              " 114,\n",
              " 290,\n",
              " 564,\n",
              " 195,\n",
              " 319,\n",
              " 129,\n",
              " 225,\n",
              " 498,\n",
              " 150,\n",
              " 421,\n",
              " 106,\n",
              " 131,\n",
              " 162,\n",
              " 61,\n",
              " 63,\n",
              " 141,\n",
              " 181,\n",
              " 120,\n",
              " 145,\n",
              " 164,\n",
              " 389,\n",
              " 256,\n",
              " 143,\n",
              " 500,\n",
              " 186,\n",
              " 133,\n",
              " 65,\n",
              " 267,\n",
              " 82,\n",
              " 174,\n",
              " 129,\n",
              " 283,\n",
              " 152,\n",
              " 134,\n",
              " 160,\n",
              " 122,\n",
              " 159,\n",
              " 66,\n",
              " 240,\n",
              " 236,\n",
              " 81,\n",
              " 458,\n",
              " 94,\n",
              " 92,\n",
              " 194,\n",
              " 191,\n",
              " 117,\n",
              " 111,\n",
              " 60,\n",
              " 194,\n",
              " 317,\n",
              " 198,\n",
              " 120,\n",
              " 478,\n",
              " 186,\n",
              " 252,\n",
              " 262,\n",
              " 78,\n",
              " 137,\n",
              " 651,\n",
              " 183,\n",
              " 372,\n",
              " 251,\n",
              " 223,\n",
              " 121,\n",
              " 233,\n",
              " 100,\n",
              " 293,\n",
              " 177,\n",
              " 240,\n",
              " 397,\n",
              " 118,\n",
              " 155,\n",
              " 219,\n",
              " 149,\n",
              " 178,\n",
              " 97,\n",
              " 244,\n",
              " 183,\n",
              " 171,\n",
              " 195,\n",
              " 596,\n",
              " 83,\n",
              " 56,\n",
              " 116,\n",
              " 181,\n",
              " 274,\n",
              " 118,\n",
              " 393,\n",
              " 213,\n",
              " 137,\n",
              " 183,\n",
              " 173,\n",
              " 188,\n",
              " 169,\n",
              " 608,\n",
              " 159,\n",
              " 151,\n",
              " 165,\n",
              " 138,\n",
              " 346,\n",
              " 895,\n",
              " 607,\n",
              " 339,\n",
              " 97,\n",
              " 397,\n",
              " 323,\n",
              " 315,\n",
              " 119,\n",
              " 500,\n",
              " 142,\n",
              " 114,\n",
              " 911,\n",
              " 57,\n",
              " 82,\n",
              " 350,\n",
              " 195,\n",
              " 283,\n",
              " 123,\n",
              " 581,\n",
              " 273,\n",
              " 123,\n",
              " 272,\n",
              " 96,\n",
              " 104,\n",
              " 219,\n",
              " 133,\n",
              " 120,\n",
              " 197,\n",
              " 185,\n",
              " 74,\n",
              " 401,\n",
              " 355,\n",
              " 168,\n",
              " 118,\n",
              " 82,\n",
              " 283,\n",
              " 133,\n",
              " 463,\n",
              " 134,\n",
              " 137,\n",
              " 134,\n",
              " 253,\n",
              " 77,\n",
              " 137,\n",
              " 98,\n",
              " 165,\n",
              " 187,\n",
              " 316,\n",
              " 287,\n",
              " 396,\n",
              " 458,\n",
              " 46,\n",
              " 286,\n",
              " 399,\n",
              " 572,\n",
              " 133,\n",
              " 385,\n",
              " 244,\n",
              " 105,\n",
              " 331,\n",
              " 181,\n",
              " 244,\n",
              " 87,\n",
              " 441,\n",
              " 800,\n",
              " 127,\n",
              " 374,\n",
              " 132,\n",
              " 269,\n",
              " 140,\n",
              " 240,\n",
              " 474,\n",
              " 142,\n",
              " 296,\n",
              " 432,\n",
              " 125,\n",
              " 258,\n",
              " 765,\n",
              " 313,\n",
              " 204,\n",
              " 160,\n",
              " 546,\n",
              " 59,\n",
              " 138,\n",
              " 422,\n",
              " 134,\n",
              " 127,\n",
              " 296,\n",
              " 121,\n",
              " 98,\n",
              " 162,\n",
              " 851,\n",
              " 29,\n",
              " 344,\n",
              " 206,\n",
              " 102,\n",
              " 150,\n",
              " 190,\n",
              " 59,\n",
              " 38,\n",
              " 188,\n",
              " 216,\n",
              " 289,\n",
              " 467,\n",
              " 554,\n",
              " 136,\n",
              " 68,\n",
              " 125,\n",
              " 228,\n",
              " 579,\n",
              " 947,\n",
              " 222,\n",
              " 439,\n",
              " 235,\n",
              " 330,\n",
              " 142,\n",
              " 161,\n",
              " 45,\n",
              " 112,\n",
              " 183,\n",
              " 73,\n",
              " 185,\n",
              " 271,\n",
              " 189,\n",
              " 53,\n",
              " 606,\n",
              " 410,\n",
              " 70,\n",
              " 132,\n",
              " 480,\n",
              " 193,\n",
              " 235,\n",
              " 178,\n",
              " 69,\n",
              " 119,\n",
              " 102,\n",
              " 180,\n",
              " 229,\n",
              " 223,\n",
              " 246,\n",
              " 220,\n",
              " 75,\n",
              " 1077,\n",
              " 305,\n",
              " 246,\n",
              " 297,\n",
              " 125,\n",
              " 676,\n",
              " 265,\n",
              " 231,\n",
              " 103,\n",
              " 108,\n",
              " 114,\n",
              " 587,\n",
              " 167,\n",
              " 711,\n",
              " 131,\n",
              " 235,\n",
              " 132,\n",
              " 187,\n",
              " 270,\n",
              " 123,\n",
              " 550,\n",
              " 79,\n",
              " 263,\n",
              " 289,\n",
              " 296,\n",
              " 372,\n",
              " 401,\n",
              " 118,\n",
              " 591,\n",
              " 63,\n",
              " 104,\n",
              " 156,\n",
              " 114,\n",
              " 109,\n",
              " 363,\n",
              " 418,\n",
              " ...]"
            ]
          },
          "metadata": {
            "tags": []
          },
          "execution_count": 26
        }
      ]
    },
    {
      "metadata": {
        "id": "KPude0gOwqQ5",
        "colab_type": "code",
        "colab": {
          "base_uri": "https://localhost:8080/",
          "height": 356
        },
        "outputId": "6ab97e17-2213-49ca-8f09-27c1dc6c3ef3"
      },
      "cell_type": "code",
      "source": [
        "import matplotlib.pyplot as plt\n",
        "plt.hist(lens)"
      ],
      "execution_count": 27,
      "outputs": [
        {
          "output_type": "execute_result",
          "data": {
            "text/plain": [
              "(array([1.6757e+04, 5.8740e+03, 1.6080e+03, 5.4900e+02, 1.9500e+02,\n",
              "        7.0000e+00, 6.0000e+00, 2.0000e+00, 1.0000e+00, 1.0000e+00]),\n",
              " array([   9. ,  227.4,  445.8,  664.2,  882.6, 1101. , 1319.4, 1537.8,\n",
              "        1756.2, 1974.6, 2193. ]),\n",
              " <a list of 10 Patch objects>)"
            ]
          },
          "metadata": {
            "tags": []
          },
          "execution_count": 27
        },
        {
          "output_type": "display_data",
          "data": {
            "image/png": "[encoded data removed]",
            "text/plain": [
              "<Figure size 432x288 with 1 Axes>"
            ]
          },
          "metadata": {
            "tags": []
          }
        }
      ]
    },
    {
      "metadata": {
        "id": "Mm2cYuA-wxtg",
        "colab_type": "code",
        "colab": {}
      },
      "cell_type": "code",
      "source": [
        "maxlen = 400"
      ],
      "execution_count": 0,
      "outputs": []
    },
    {
      "metadata": {
        "id": "KrD17xivxbjJ",
        "colab_type": "code",
        "colab": {}
      },
      "cell_type": "code",
      "source": [
        "from keras.preprocessing.sequence import pad_sequences"
      ],
      "execution_count": 0,
      "outputs": []
    },
    {
      "metadata": {
        "id": "W5Ev52vUw-pd",
        "colab_type": "code",
        "colab": {}
      },
      "cell_type": "code",
      "source": [
        "X_train = pad_sequences(train_sequence, maxlen=maxlen)\n",
        "X_test =  pad_sequences(test_sequence, maxlen=maxlen)"
      ],
      "execution_count": 0,
      "outputs": []
    },
    {
      "metadata": {
        "id": "jbIs0EmbxTvB",
        "colab_type": "code",
        "colab": {}
      },
      "cell_type": "code",
      "source": [
        "y_train = train.sentiment\n",
        "y_test = test.sentiment"
      ],
      "execution_count": 0,
      "outputs": []
    },
    {
      "metadata": {
        "id": "d5yGrjrvxj6C",
        "colab_type": "code",
        "colab": {
          "base_uri": "https://localhost:8080/",
          "height": 139
        },
        "outputId": "a9ec01d2-0ef6-499e-b8e8-c4861be610c3"
      },
      "cell_type": "code",
      "source": [
        "X_train"
      ],
      "execution_count": 33,
      "outputs": [
        {
          "output_type": "execute_result",
          "data": {
            "text/plain": [
              "array([[   0,    0,    0, ...,    3,  565, 6259],\n",
              "       [   0,    0,    0, ...,  297,  238,   36],\n",
              "       [   0,    0,    0, ...,    5, 8926,    1],\n",
              "       ...,\n",
              "       [   0,    0,    0, ...,  155,    7,    7],\n",
              "       [1802, 6124,   42, ...,    1, 3476, 1873],\n",
              "       [   0,    0,    0, ...,  302,  339,  155]], dtype=int32)"
            ]
          },
          "metadata": {
            "tags": []
          },
          "execution_count": 33
        }
      ]
    },
    {
      "metadata": {
        "id": "U6GR4Wynxm6k",
        "colab_type": "code",
        "colab": {
          "base_uri": "https://localhost:8080/",
          "height": 35
        },
        "outputId": "7903b381-7e5c-4529-f356-3c4940e91122"
      },
      "cell_type": "code",
      "source": [
        "X_train.shape"
      ],
      "execution_count": 34,
      "outputs": [
        {
          "output_type": "execute_result",
          "data": {
            "text/plain": [
              "(25000, 400)"
            ]
          },
          "metadata": {
            "tags": []
          },
          "execution_count": 34
        }
      ]
    },
    {
      "metadata": {
        "id": "UC8U12-Cxp4s",
        "colab_type": "code",
        "colab": {}
      },
      "cell_type": "code",
      "source": [
        "import spacy"
      ],
      "execution_count": 0,
      "outputs": []
    },
    {
      "metadata": {
        "id": "c4v_9NzzyXZc",
        "colab_type": "code",
        "colab": {
          "base_uri": "https://localhost:8080/",
          "height": 139
        },
        "outputId": "e9d5e982-c33a-4cdb-bfa8-db7a2005be3c"
      },
      "cell_type": "code",
      "source": [
        "spacy.cli.download(\"en_core_web_lg\")"
      ],
      "execution_count": 36,
      "outputs": [
        {
          "output_type": "stream",
          "text": [
            "\n",
            "\u001b[93m    Linking successful\u001b[0m\n",
            "    /usr/local/lib/python3.6/dist-packages/en_core_web_lg -->\n",
            "    /usr/local/lib/python3.6/dist-packages/spacy/data/en_core_web_lg\n",
            "\n",
            "    You can now load the model via spacy.load('en_core_web_lg')\n",
            "\n"
          ],
          "name": "stdout"
        }
      ]
    },
    {
      "metadata": {
        "id": "43mYu3lzyaaq",
        "colab_type": "code",
        "colab": {}
      },
      "cell_type": "code",
      "source": [
        "nlp = spacy.load(\"en_core_web_lg\")"
      ],
      "execution_count": 0,
      "outputs": []
    },
    {
      "metadata": {
        "id": "t2a23yfPyfH5",
        "colab_type": "code",
        "colab": {
          "base_uri": "https://localhost:8080/",
          "height": 1075
        },
        "outputId": "7ce57883-d842-4f4e-db3d-140880bbab31"
      },
      "cell_type": "code",
      "source": [
        "nlp.vocab[\"the\"].vector"
      ],
      "execution_count": 38,
      "outputs": [
        {
          "output_type": "execute_result",
          "data": {
            "text/plain": [
              "array([ 2.7204e-01, -6.2030e-02, -1.8840e-01,  2.3225e-02, -1.8158e-02,\n",
              "        6.7192e-03, -1.3877e-01,  1.7708e-01,  1.7709e-01,  2.5882e+00,\n",
              "       -3.5179e-01, -1.7312e-01,  4.3285e-01, -1.0708e-01,  1.5006e-01,\n",
              "       -1.9982e-01, -1.9093e-01,  1.1871e+00, -1.6207e-01, -2.3538e-01,\n",
              "        3.6640e-03, -1.9156e-01, -8.5662e-02,  3.9199e-02, -6.6449e-02,\n",
              "       -4.2090e-02, -1.9122e-01,  1.1679e-02, -3.7138e-01,  2.1886e-01,\n",
              "        1.1423e-03,  4.3190e-01, -1.4205e-01,  3.8059e-01,  3.0654e-01,\n",
              "        2.0167e-02, -1.8316e-01, -6.5186e-03, -8.0549e-03, -1.2063e-01,\n",
              "        2.7507e-02,  2.9839e-01, -2.2896e-01, -2.2882e-01,  1.4671e-01,\n",
              "       -7.6301e-02, -1.2680e-01, -6.6651e-03, -5.2795e-02,  1.4258e-01,\n",
              "        1.5610e-01,  5.5510e-02, -1.6149e-01,  9.6290e-02, -7.6533e-02,\n",
              "       -4.9971e-02, -1.0195e-02, -4.7641e-02, -1.6679e-01, -2.3940e-01,\n",
              "        5.0141e-03, -4.9175e-02,  1.3338e-02,  4.1923e-01, -1.0104e-01,\n",
              "        1.5111e-02, -7.7706e-02, -1.3471e-01,  1.1900e-01,  1.0802e-01,\n",
              "        2.1061e-01, -5.1904e-02,  1.8527e-01,  1.7856e-01,  4.1293e-02,\n",
              "       -1.4385e-02, -8.2567e-02, -3.5483e-02, -7.6173e-02, -4.5367e-02,\n",
              "        8.9281e-02,  3.3672e-01, -2.2099e-01, -6.7275e-03,  2.3983e-01,\n",
              "       -2.3147e-01, -8.8592e-01,  9.1297e-02, -1.2123e-02,  1.3233e-02,\n",
              "       -2.5799e-01, -2.9720e-02,  1.6754e-02,  1.3690e-02,  3.2377e-01,\n",
              "        3.9546e-02,  4.2114e-02, -8.8243e-02,  3.0318e-01,  8.7747e-02,\n",
              "        1.6346e-01, -4.0485e-01, -4.3845e-02, -4.0697e-02,  2.0936e-01,\n",
              "       -7.7795e-01,  2.9970e-01,  2.3340e-01,  1.4891e-01, -3.9037e-01,\n",
              "       -5.3086e-02,  6.2922e-02,  6.5663e-02, -1.3906e-01,  9.4193e-02,\n",
              "        1.0344e-01, -2.7970e-01,  2.8905e-01, -3.2161e-01,  2.0687e-02,\n",
              "        6.3254e-02, -2.3257e-01, -4.3520e-01, -1.7049e-02, -3.2744e-01,\n",
              "       -4.7064e-02, -7.5149e-02, -1.8788e-01, -1.5017e-02,  2.9342e-02,\n",
              "       -3.5270e-01, -4.4278e-02, -1.3507e-01, -1.1644e-01, -1.0430e-01,\n",
              "        1.3920e-01,  3.9199e-03,  3.7603e-01,  6.7217e-02, -3.7992e-01,\n",
              "       -1.1241e+00, -5.7357e-02, -1.6826e-01,  3.9410e-02,  2.6040e-01,\n",
              "       -2.3866e-02,  1.7963e-01,  1.3553e-01,  2.1390e-01,  5.2633e-02,\n",
              "       -2.5033e-01, -1.1307e-01,  2.2234e-01,  6.6597e-02, -1.1161e-01,\n",
              "        6.2438e-02, -2.7972e-01,  1.9878e-01, -3.6262e-01, -1.0006e-05,\n",
              "       -1.7262e-01,  2.9166e-01, -1.5723e-01,  5.4295e-02,  6.1010e-02,\n",
              "       -3.9165e-01,  2.7660e-01,  5.7816e-02,  3.9709e-01,  2.5229e-02,\n",
              "        2.4672e-01, -8.9050e-02,  1.5683e-01, -2.0960e-01, -2.2196e-01,\n",
              "        5.2394e-02, -1.1360e-02,  5.0417e-02, -1.4023e-01, -4.2825e-02,\n",
              "       -3.1931e-02, -2.1336e-01, -2.0402e-01, -2.3272e-01,  7.4490e-02,\n",
              "        8.8202e-02, -1.1063e-01, -3.3526e-01, -1.4028e-02, -2.9429e-01,\n",
              "       -8.6911e-02, -1.3210e-01, -4.3616e-01,  2.0513e-01,  7.9362e-03,\n",
              "        4.8505e-01,  6.4237e-02,  1.4261e-01, -4.3711e-01,  1.2783e-01,\n",
              "       -1.3111e-01,  2.4673e-01, -2.7496e-01,  1.5896e-01,  4.3314e-01,\n",
              "        9.0286e-02,  2.4662e-01,  6.6463e-02, -2.0099e-01,  1.1010e-01,\n",
              "        3.6440e-02,  1.7359e-01, -1.5689e-01, -8.6328e-02, -1.7316e-01,\n",
              "        3.6975e-01, -4.0317e-01, -6.4814e-02, -3.4166e-02, -1.3773e-02,\n",
              "        6.2854e-02, -1.7183e-01, -1.2366e-01, -3.4663e-02, -2.2793e-01,\n",
              "       -2.3172e-01,  2.3900e-01,  2.7473e-01,  1.5332e-01,  1.0661e-01,\n",
              "       -6.0982e-02, -2.4805e-02, -1.3478e-01,  1.7932e-01, -3.7374e-01,\n",
              "       -2.8930e-02, -1.1142e-01, -8.3890e-02, -5.5932e-02,  6.8039e-02,\n",
              "       -1.0783e-01,  1.4650e-01,  9.4617e-02, -8.4554e-02,  6.7429e-02,\n",
              "       -3.2910e-01,  3.4082e-02, -1.6747e-01, -2.5997e-01, -2.2917e-01,\n",
              "        2.0159e-02, -2.7580e-02,  1.6136e-01, -1.8538e-01,  3.7665e-02,\n",
              "        5.7603e-01,  2.0684e-01,  2.7941e-01,  1.6477e-01, -1.8769e-02,\n",
              "        1.2062e-01,  6.9648e-02,  5.9022e-02, -2.3154e-01,  2.4095e-01,\n",
              "       -3.4710e-01,  4.8540e-02, -5.6502e-02,  4.1566e-01, -4.3194e-01,\n",
              "        4.8230e-01, -5.1759e-02, -2.7285e-01, -2.5893e-01,  1.6555e-01,\n",
              "       -1.8310e-01, -6.7340e-02,  4.2457e-01,  1.0346e-02,  1.4237e-01,\n",
              "        2.5939e-01,  1.7123e-01, -1.3821e-01, -6.6846e-02,  1.5981e-02,\n",
              "       -3.0193e-01,  4.3579e-02, -4.3102e-02,  3.5025e-01, -1.9681e-01,\n",
              "       -4.2810e-01,  1.6899e-01,  2.2511e-01, -2.8557e-01, -1.0280e-01,\n",
              "       -1.8168e-02,  1.1407e-01,  1.3015e-01, -1.8317e-01,  1.3230e-01],\n",
              "      dtype=float32)"
            ]
          },
          "metadata": {
            "tags": []
          },
          "execution_count": 38
        }
      ]
    },
    {
      "metadata": {
        "id": "yOksQBYOzsCZ",
        "colab_type": "code",
        "colab": {
          "base_uri": "https://localhost:8080/",
          "height": 356
        },
        "outputId": "c358dd7f-51a3-42d8-fa9a-7da15baa7f72"
      },
      "cell_type": "code",
      "source": [
        "plt.hist(nlp.vocab[\"the\"].vector)"
      ],
      "execution_count": 39,
      "outputs": [
        {
          "output_type": "execute_result",
          "data": {
            "text/plain": [
              "(array([  3.,   9., 140., 133.,  13.,   0.,   1.,   0.,   0.,   1.]),\n",
              " array([-1.1241    , -0.75286996, -0.38163996, -0.01040995,  0.36082006,\n",
              "         0.73205006,  1.1032801 ,  1.4745101 ,  1.8457401 ,  2.21697   ,\n",
              "         2.5882    ], dtype=float32),\n",
              " <a list of 10 Patch objects>)"
            ]
          },
          "metadata": {
            "tags": []
          },
          "execution_count": 39
        },
        {
          "output_type": "display_data",
          "data": {
            "image/png": "[encoded data removed]",
            "text/plain": [
              "<Figure size 432x288 with 1 Axes>"
            ]
          },
          "metadata": {
            "tags": []
          }
        }
      ]
    },
    {
      "metadata": {
        "id": "2vJW837rzv1c",
        "colab_type": "code",
        "colab": {}
      },
      "cell_type": "code",
      "source": [
        "embedding_dim = nlp.vocab.vectors_length"
      ],
      "execution_count": 0,
      "outputs": []
    },
    {
      "metadata": {
        "id": "GMeKxlumz0ke",
        "colab_type": "code",
        "colab": {
          "base_uri": "https://localhost:8080/",
          "height": 35
        },
        "outputId": "51f35507-2232-4431-ef86-f507b832f9a0"
      },
      "cell_type": "code",
      "source": [
        "embedding_dim"
      ],
      "execution_count": 43,
      "outputs": [
        {
          "output_type": "execute_result",
          "data": {
            "text/plain": [
              "300"
            ]
          },
          "metadata": {
            "tags": []
          },
          "execution_count": 43
        }
      ]
    },
    {
      "metadata": {
        "id": "_1JQVQe50CnV",
        "colab_type": "code",
        "colab": {
          "base_uri": "https://localhost:8080/",
          "height": 1075
        },
        "outputId": "577935fc-8cae-497f-e2c9-539636f2a6e3"
      },
      "cell_type": "code",
      "source": [
        "nlp.vocab[\"movie\"].vector"
      ],
      "execution_count": 45,
      "outputs": [
        {
          "output_type": "execute_result",
          "data": {
            "text/plain": [
              "array([ 2.0710e-01, -4.7656e-01,  1.5479e-01, -3.8965e-01,  4.8447e-01,\n",
              "        5.9815e-01, -6.0361e-02, -6.6422e-01,  5.3934e-01,  1.8491e+00,\n",
              "       -3.0595e-01,  3.5849e-01,  4.8760e-01, -1.7715e-01, -1.5448e-01,\n",
              "       -1.6732e-02,  4.9752e-01,  6.0761e-01, -6.8789e-01,  7.9932e-02,\n",
              "       -3.6166e-01, -7.1046e-01,  5.9322e-01,  5.8712e-02,  6.1551e-02,\n",
              "        6.4212e-01, -2.3157e-01, -4.6528e-01, -5.0984e-01, -7.2840e-02,\n",
              "       -1.7711e-02, -5.7277e-01, -2.1122e-01,  5.5066e-01,  4.8092e-02,\n",
              "       -1.4431e-01,  1.4189e-01,  2.6226e-01, -5.8394e-01,  3.8901e-01,\n",
              "        4.1958e-01, -2.0731e-01,  1.5663e-01, -4.4107e-01,  3.0562e-01,\n",
              "        9.6708e-02,  1.3916e-01,  1.0335e-02, -3.2717e-02, -5.7420e-01,\n",
              "        6.2223e-01, -2.9390e-01,  2.9001e-01, -1.6932e-01, -2.7118e-01,\n",
              "        1.2735e-01, -2.9766e-02, -7.9835e-01, -2.4082e-01, -5.7272e-01,\n",
              "       -1.3385e-01, -2.5457e-04,  5.8948e-01,  3.4175e-01,  2.8423e-01,\n",
              "       -4.6960e-01,  1.5337e-01, -8.2005e-02, -2.3874e-01, -3.3641e-01,\n",
              "        5.9665e-01, -7.3306e-01,  3.0852e-02, -1.4965e-01,  4.1782e-01,\n",
              "       -3.9437e-02, -4.5271e-01,  4.4231e-01,  5.9446e-01,  8.8170e-01,\n",
              "        4.7335e-02, -4.3555e-01,  3.3402e-01,  1.8312e-02,  1.6548e-01,\n",
              "        6.0438e-02, -3.5004e-01, -3.0558e-01,  2.3026e-01, -4.4354e-01,\n",
              "       -7.3370e-01,  9.9891e-02, -6.5653e-01, -3.3173e-02,  4.8499e-01,\n",
              "       -2.1258e-01, -2.5289e-01,  1.5102e-02, -4.9067e-01,  4.3074e-01,\n",
              "       -2.1455e-01,  4.1800e-01, -2.8483e-01, -2.8137e-01,  1.7207e-01,\n",
              "        3.9718e-01, -2.1496e-01, -1.3029e-01, -5.5696e-01, -5.2795e-01,\n",
              "        1.4200e-02,  7.1383e-01,  1.2805e-01, -7.9991e-02,  4.5455e-02,\n",
              "        1.4101e-02,  4.5682e-01,  8.8511e-01,  2.2564e-01,  3.5516e-01,\n",
              "       -2.4065e-01, -2.7947e-01, -7.5772e-01,  6.5204e-02, -4.5320e-01,\n",
              "        3.3027e-01, -5.9497e-02,  1.6402e-01, -6.4153e-01,  3.2435e-01,\n",
              "        8.4376e-02, -6.2744e-03,  7.6774e-01, -1.9785e-01, -3.9945e-03,\n",
              "        2.6907e-01, -1.7002e-01, -1.4076e-01, -8.6839e-02, -9.8939e-02,\n",
              "       -3.7366e+00, -6.6920e-01,  1.3280e-01,  8.9765e-03, -3.2659e-01,\n",
              "       -1.2951e-01,  9.2428e-03, -4.8702e-01,  1.6228e-01,  1.9048e-01,\n",
              "       -4.2048e-02,  3.9213e-03, -1.8159e-01, -2.9457e-01, -2.0489e-01,\n",
              "       -1.5560e-01, -2.0947e-01, -2.4039e-01, -1.2614e-01,  3.7575e-01,\n",
              "        3.5663e-01, -4.7156e-01,  2.3462e-01,  1.3429e-01, -3.3429e-01,\n",
              "       -1.6691e-01,  8.6062e-02,  3.6777e-01,  2.7096e-01, -1.8573e-01,\n",
              "        1.1511e-01, -7.7149e-01, -1.8265e-01,  4.2853e-01,  4.5192e-01,\n",
              "       -2.1442e-01,  1.3089e-01, -3.8675e-02,  9.8245e-02, -4.7458e-01,\n",
              "       -1.6065e-01,  2.6147e-03, -3.6470e-01,  2.1255e-01,  2.1056e-01,\n",
              "        1.3531e-01, -5.0535e-01,  5.6443e-01, -2.0756e-01,  1.4172e-01,\n",
              "       -5.4563e-01, -2.2121e-01, -8.5813e-02,  3.3857e-01, -4.2172e-01,\n",
              "       -1.1349e+00,  8.7366e-02,  1.6533e-01,  4.1059e-02, -1.6843e-01,\n",
              "        5.2718e-01,  2.6099e-02, -2.1973e-01, -1.4039e-01, -1.3433e-02,\n",
              "        5.4268e-01,  1.8380e-01,  2.5954e-01,  3.8688e-01,  4.8662e-01,\n",
              "       -8.7807e-02,  9.7082e-02,  2.7560e-01, -5.9431e-01, -3.3723e-01,\n",
              "        1.0200e-01,  6.9022e-01, -2.4012e-01,  1.6538e-01, -5.2865e-01,\n",
              "       -4.1785e-01, -4.5182e-02, -8.6440e-02,  7.9650e-02, -4.0789e-02,\n",
              "        7.8141e-02, -2.7950e-01, -6.2237e-02,  4.2491e-01, -2.9104e-02,\n",
              "       -3.2761e-01,  1.6300e-01,  6.2248e-02,  2.8707e-01, -4.3214e-01,\n",
              "        3.1645e-01,  2.9625e-01, -7.3290e-02, -1.7555e-01,  7.8942e-02,\n",
              "       -6.8152e-02, -1.4003e-01,  5.6683e-01, -2.3880e-01,  5.7614e-01,\n",
              "       -5.9536e-02,  1.2489e-01,  7.5039e-01,  1.4964e-01, -2.1104e-01,\n",
              "        2.1550e-01,  5.4676e-01,  6.5404e-01, -4.0745e-01, -2.2905e-01,\n",
              "        2.9930e-01,  6.1241e-01,  4.8778e-01, -3.9494e-01, -6.1087e-01,\n",
              "        5.3420e-01, -1.9649e-01,  1.6385e-01, -2.1712e-01,  2.8270e-02,\n",
              "       -5.0565e-01,  9.7484e-02,  1.8294e-01,  1.9555e-01,  1.8784e-01,\n",
              "       -7.1307e-01, -2.8448e-01,  1.6124e-01, -2.1249e-01, -2.8012e-01,\n",
              "        1.2283e-01, -2.9615e-01, -2.5020e-01, -2.4961e-01,  9.0737e-01,\n",
              "        2.1200e-01,  3.2665e-01,  2.6884e-01, -4.3844e-02,  3.7932e-01,\n",
              "        3.7511e-01,  4.3233e-01, -3.3570e-01,  1.0399e-02, -8.1436e-01,\n",
              "       -1.1990e-01,  1.8936e-01,  8.4682e-03,  3.6339e-01,  1.5050e-01,\n",
              "       -4.2618e-02, -4.1885e-01, -2.6411e-01, -1.6523e-01,  2.3532e-01],\n",
              "      dtype=float32)"
            ]
          },
          "metadata": {
            "tags": []
          },
          "execution_count": 45
        }
      ]
    },
    {
      "metadata": {
        "id": "yb6lfpJy0FWM",
        "colab_type": "code",
        "colab": {
          "base_uri": "https://localhost:8080/",
          "height": 364
        },
        "outputId": "ca930503-7f40-4beb-e9db-347b22b0006d"
      },
      "cell_type": "code",
      "source": [
        "list(tokenizer.index_word.items())[:20]"
      ],
      "execution_count": 46,
      "outputs": [
        {
          "output_type": "execute_result",
          "data": {
            "text/plain": [
              "[(1, 'the'),\n",
              " (2, 'and'),\n",
              " (3, 'a'),\n",
              " (4, 'of'),\n",
              " (5, 'to'),\n",
              " (6, 'is'),\n",
              " (7, 'br'),\n",
              " (8, 'in'),\n",
              " (9, 'it'),\n",
              " (10, 'i'),\n",
              " (11, 'this'),\n",
              " (12, 'that'),\n",
              " (13, 'was'),\n",
              " (14, 'as'),\n",
              " (15, 'for'),\n",
              " (16, 'with'),\n",
              " (17, 'movie'),\n",
              " (18, 'but'),\n",
              " (19, 'film'),\n",
              " (20, 'on')]"
            ]
          },
          "metadata": {
            "tags": []
          },
          "execution_count": 46
        }
      ]
    },
    {
      "metadata": {
        "id": "X3FxfgKQ0P05",
        "colab_type": "code",
        "colab": {
          "base_uri": "https://localhost:8080/",
          "height": 884
        },
        "outputId": "c0f7e24e-fd68-4992-b968-318a0ad9d051"
      },
      "cell_type": "code",
      "source": [
        "list(tokenizer.index_word.items())[9950:10000]"
      ],
      "execution_count": 47,
      "outputs": [
        {
          "output_type": "execute_result",
          "data": {
            "text/plain": [
              "[(9951, \"day's\"),\n",
              " (9952, 'ewan'),\n",
              " (9953, \"murphy's\"),\n",
              " (9954, 'uniquely'),\n",
              " (9955, 'wicker'),\n",
              " (9956, 'maniacal'),\n",
              " (9957, 'devastated'),\n",
              " (9958, 'lamas'),\n",
              " (9959, 'transform'),\n",
              " (9960, 'willy'),\n",
              " (9961, \"ben's\"),\n",
              " (9962, 'unsuccessful'),\n",
              " (9963, 'decoration'),\n",
              " (9964, 'olympia'),\n",
              " (9965, 'perfected'),\n",
              " (9966, 'mattei'),\n",
              " (9967, 'indulge'),\n",
              " (9968, 'frenchman'),\n",
              " (9969, \"streisand's\"),\n",
              " (9970, 'starving'),\n",
              " (9971, 'mismatched'),\n",
              " (9972, 'cambodia'),\n",
              " (9973, 'transcends'),\n",
              " (9974, 'exhausted'),\n",
              " (9975, 'bickering'),\n",
              " (9976, 'researched'),\n",
              " (9977, 'complains'),\n",
              " (9978, 'washing'),\n",
              " (9979, 'weaves'),\n",
              " (9980, 'raping'),\n",
              " (9981, 'kusturica'),\n",
              " (9982, 'lamarr'),\n",
              " (9983, 'exceedingly'),\n",
              " (9984, 'tent'),\n",
              " (9985, 'enthralled'),\n",
              " (9986, 'liza'),\n",
              " (9987, 'geeky'),\n",
              " (9988, 'sentiments'),\n",
              " (9989, 'transferred'),\n",
              " (9990, 'blends'),\n",
              " (9991, 'voters'),\n",
              " (9992, 'stevenson'),\n",
              " (9993, 'retrospect'),\n",
              " (9994, 'praying'),\n",
              " (9995, 'secluded'),\n",
              " (9996, 'crowds'),\n",
              " (9997, 'boarding'),\n",
              " (9998, 'contacts'),\n",
              " (9999, 'di'),\n",
              " (10000, 'logo')]"
            ]
          },
          "metadata": {
            "tags": []
          },
          "execution_count": 47
        }
      ]
    },
    {
      "metadata": {
        "id": "f6TpkKfs0UZV",
        "colab_type": "code",
        "colab": {}
      },
      "cell_type": "code",
      "source": [
        "embedding_matrix = np.random.rand(num_words + 1, embedding_dim)"
      ],
      "execution_count": 0,
      "outputs": []
    },
    {
      "metadata": {
        "id": "BwI-xmBL0lT9",
        "colab_type": "code",
        "colab": {
          "base_uri": "https://localhost:8080/",
          "height": 35
        },
        "outputId": "9e82a8c6-3fa8-49f9-def0-026c1ab95df5"
      },
      "cell_type": "code",
      "source": [
        "embedding_matrix.shape"
      ],
      "execution_count": 49,
      "outputs": [
        {
          "output_type": "execute_result",
          "data": {
            "text/plain": [
              "(10001, 300)"
            ]
          },
          "metadata": {
            "tags": []
          },
          "execution_count": 49
        }
      ]
    },
    {
      "metadata": {
        "id": "xYyaHpzB0nDM",
        "colab_type": "code",
        "colab": {
          "base_uri": "https://localhost:8080/",
          "height": 356
        },
        "outputId": "c57a49d5-6a7c-45b1-8286-c752df415da8"
      },
      "cell_type": "code",
      "source": [
        "plt.hist(embedding_matrix[0])"
      ],
      "execution_count": 50,
      "outputs": [
        {
          "output_type": "execute_result",
          "data": {
            "text/plain": [
              "(array([27., 30., 34., 27., 32., 33., 25., 34., 19., 39.]),\n",
              " array([0.0015807 , 0.10120519, 0.20082968, 0.30045417, 0.40007866,\n",
              "        0.49970314, 0.59932763, 0.69895212, 0.79857661, 0.89820109,\n",
              "        0.99782558]),\n",
              " <a list of 10 Patch objects>)"
            ]
          },
          "metadata": {
            "tags": []
          },
          "execution_count": 50
        },
        {
          "output_type": "display_data",
          "data": {
            "image/png": "[encoded data removed]",
            "text/plain": [
              "<Figure size 432x288 with 1 Axes>"
            ]
          },
          "metadata": {
            "tags": []
          }
        }
      ]
    },
    {
      "metadata": {
        "id": "R6mGB0660phJ",
        "colab_type": "code",
        "colab": {}
      },
      "cell_type": "code",
      "source": [
        "embedding_matrix = (embedding_matrix - 0.5) * 4"
      ],
      "execution_count": 0,
      "outputs": []
    },
    {
      "metadata": {
        "id": "zJJY-0Gs07eb",
        "colab_type": "code",
        "colab": {
          "base_uri": "https://localhost:8080/",
          "height": 35
        },
        "outputId": "919b6c71-4bb6-4bd5-ca72-816f71fb0825"
      },
      "cell_type": "code",
      "source": [
        "embedding_matrix.shape"
      ],
      "execution_count": 52,
      "outputs": [
        {
          "output_type": "execute_result",
          "data": {
            "text/plain": [
              "(10001, 300)"
            ]
          },
          "metadata": {
            "tags": []
          },
          "execution_count": 52
        }
      ]
    },
    {
      "metadata": {
        "id": "JCpUOxtH084X",
        "colab_type": "code",
        "colab": {
          "base_uri": "https://localhost:8080/",
          "height": 356
        },
        "outputId": "a5b57f48-445f-4973-8693-7335bcb4b35d"
      },
      "cell_type": "code",
      "source": [
        "plt.hist(embedding_matrix[0])"
      ],
      "execution_count": 53,
      "outputs": [
        {
          "output_type": "execute_result",
          "data": {
            "text/plain": [
              "(array([27., 30., 34., 27., 32., 33., 25., 34., 19., 39.]),\n",
              " array([-1.99367719e+00, -1.59517923e+00, -1.19668128e+00, -7.98183331e-01,\n",
              "        -3.99685380e-01, -1.18742835e-03,  3.97310523e-01,  7.95808475e-01,\n",
              "         1.19430643e+00,  1.59280438e+00,  1.99130233e+00]),\n",
              " <a list of 10 Patch objects>)"
            ]
          },
          "metadata": {
            "tags": []
          },
          "execution_count": 53
        },
        {
          "output_type": "display_data",
          "data": {
            "image/png": "[encoded data removed]",
            "text/plain": [
              "<Figure size 432x288 with 1 Axes>"
            ]
          },
          "metadata": {
            "tags": []
          }
        }
      ]
    },
    {
      "metadata": {
        "id": "GDwRUXzd0_hj",
        "colab_type": "code",
        "colab": {}
      },
      "cell_type": "code",
      "source": [
        "for word, i in list(tokenizer.word_index.items())[:num_words]:\n",
        "  try:\n",
        "    embedding_vector = nlp.vocab[word].vector\n",
        "    embedding_matrix[i] = embedding_vector\n",
        "  except:\n",
        "    pass"
      ],
      "execution_count": 0,
      "outputs": []
    },
    {
      "metadata": {
        "id": "LtRsNr4o1D0W",
        "colab_type": "code",
        "colab": {
          "base_uri": "https://localhost:8080/",
          "height": 243
        },
        "outputId": "00c5eb53-3d7c-4abe-cea1-aefc9199d207"
      },
      "cell_type": "code",
      "source": [
        "embedding_matrix[:10]"
      ],
      "execution_count": 55,
      "outputs": [
        {
          "output_type": "execute_result",
          "data": {
            "text/plain": [
              "array([[ 1.78354217e+00, -5.08391592e-01,  1.76439024e-01, ...,\n",
              "         1.59471693e+00,  1.15441593e+00,  9.03784220e-01],\n",
              "       [ 2.72040009e-01, -6.20299987e-02, -1.88400000e-01, ...,\n",
              "         1.30150005e-01, -1.83170006e-01,  1.32300004e-01],\n",
              "       [-1.85670003e-01,  6.60080016e-02, -2.52090007e-01, ...,\n",
              "        -2.34520007e-02,  1.23020001e-01,  3.31200004e-01],\n",
              "       ...,\n",
              "       [ 1.82070002e-01, -2.15480000e-01, -1.03340000e-01, ...,\n",
              "         9.85630006e-02,  2.98720002e-02, -1.80759996e-01],\n",
              "       [ 8.91870037e-02,  2.57919997e-01,  2.62820005e-01, ...,\n",
              "         1.44209996e-01, -1.69000000e-01,  2.65009999e-01],\n",
              "       [ 1.36290002e-03,  3.56530011e-01, -5.54970019e-02, ...,\n",
              "        -1.12369999e-01,  7.82589987e-02,  2.23979995e-01]])"
            ]
          },
          "metadata": {
            "tags": []
          },
          "execution_count": 55
        }
      ]
    },
    {
      "metadata": {
        "id": "fMn7nvE-1Fix",
        "colab_type": "code",
        "colab": {}
      },
      "cell_type": "code",
      "source": [
        "from keras.models import Sequential"
      ],
      "execution_count": 0,
      "outputs": []
    },
    {
      "metadata": {
        "id": "OnmJnSxV1NAk",
        "colab_type": "code",
        "colab": {}
      },
      "cell_type": "code",
      "source": [
        "from keras.layers import Embedding, Flatten, Dense, LSTM"
      ],
      "execution_count": 0,
      "outputs": []
    },
    {
      "metadata": {
        "id": "V-n9wQVf1RHd",
        "colab_type": "code",
        "colab": {}
      },
      "cell_type": "code",
      "source": [
        "units = 32"
      ],
      "execution_count": 0,
      "outputs": []
    },
    {
      "metadata": {
        "id": "tPac79HA1Tco",
        "colab_type": "code",
        "colab": {}
      },
      "cell_type": "code",
      "source": [
        "model = Sequential()"
      ],
      "execution_count": 0,
      "outputs": []
    },
    {
      "metadata": {
        "id": "qqvdwiXA1Vjy",
        "colab_type": "code",
        "colab": {
          "base_uri": "https://localhost:8080/",
          "height": 89
        },
        "outputId": "12643f86-e793-45ba-9d6e-804218f173d2"
      },
      "cell_type": "code",
      "source": [
        "model.add(Embedding(num_words + 1, embedding_dim))\n",
        "model.add(LSTM(units))\n",
        "model.add(Dense(1, activation='sigmoid'))"
      ],
      "execution_count": 60,
      "outputs": [
        {
          "output_type": "stream",
          "text": [
            "WARNING:tensorflow:From /usr/local/lib/python3.6/dist-packages/tensorflow/python/framework/op_def_library.py:263: colocate_with (from tensorflow.python.framework.ops) is deprecated and will be removed in a future version.\n",
            "Instructions for updating:\n",
            "Colocations handled automatically by placer.\n"
          ],
          "name": "stdout"
        }
      ]
    },
    {
      "metadata": {
        "id": "qXTyg02f1a8W",
        "colab_type": "code",
        "colab": {
          "base_uri": "https://localhost:8080/",
          "height": 243
        },
        "outputId": "91bdf309-a41b-45aa-efdc-9efcee47a7c2"
      },
      "cell_type": "code",
      "source": [
        "model.summary()"
      ],
      "execution_count": 61,
      "outputs": [
        {
          "output_type": "stream",
          "text": [
            "_________________________________________________________________\n",
            "Layer (type)                 Output Shape              Param #   \n",
            "=================================================================\n",
            "embedding_1 (Embedding)      (None, None, 300)         3000300   \n",
            "_________________________________________________________________\n",
            "lstm_1 (LSTM)                (None, 32)                42624     \n",
            "_________________________________________________________________\n",
            "dense_1 (Dense)              (None, 1)                 33        \n",
            "=================================================================\n",
            "Total params: 3,042,957\n",
            "Trainable params: 3,042,957\n",
            "Non-trainable params: 0\n",
            "_________________________________________________________________\n"
          ],
          "name": "stdout"
        }
      ]
    },
    {
      "metadata": {
        "id": "en-lahqI1eo9",
        "colab_type": "code",
        "colab": {}
      },
      "cell_type": "code",
      "source": [
        "model.layers[0].set_weights([embedding_matrix])"
      ],
      "execution_count": 0,
      "outputs": []
    },
    {
      "metadata": {
        "id": "OrGPj0Zl1jww",
        "colab_type": "code",
        "colab": {}
      },
      "cell_type": "code",
      "source": [
        "model.layers[0].trainable = False"
      ],
      "execution_count": 0,
      "outputs": []
    },
    {
      "metadata": {
        "id": "PUxGlwya1lQV",
        "colab_type": "code",
        "colab": {}
      },
      "cell_type": "code",
      "source": [
        "model.compile(optimizer='rmsprop',\n",
        "             loss='binary_crossentropy',\n",
        "             metrics=['acc'])"
      ],
      "execution_count": 0,
      "outputs": []
    },
    {
      "metadata": {
        "id": "vMhTuuFq1nOs",
        "colab_type": "code",
        "colab": {
          "base_uri": "https://localhost:8080/",
          "height": 453
        },
        "outputId": "a3674ab2-7318-4a22-e209-ad08a8afb3eb"
      },
      "cell_type": "code",
      "source": [
        "history = model.fit(X_train, y_train,\n",
        "                   epochs=10,\n",
        "                   batch_size=32,\n",
        "                   validation_data = (X_test, y_test))"
      ],
      "execution_count": 65,
      "outputs": [
        {
          "output_type": "stream",
          "text": [
            "WARNING:tensorflow:From /usr/local/lib/python3.6/dist-packages/tensorflow/python/ops/math_ops.py:3066: to_int32 (from tensorflow.python.ops.math_ops) is deprecated and will be removed in a future version.\n",
            "Instructions for updating:\n",
            "Use tf.cast instead.\n",
            "Train on 25000 samples, validate on 25000 samples\n",
            "Epoch 1/10\n",
            "25000/25000 [==============================] - 256s 10ms/step - loss: 0.4698 - acc: 0.7794 - val_loss: 0.4445 - val_acc: 0.8228\n",
            "Epoch 2/10\n",
            "25000/25000 [==============================] - 254s 10ms/step - loss: 0.3416 - acc: 0.8552 - val_loss: 0.3310 - val_acc: 0.8611\n",
            "Epoch 3/10\n",
            "25000/25000 [==============================] - 253s 10ms/step - loss: 0.2885 - acc: 0.8797 - val_loss: 0.2782 - val_acc: 0.8876\n",
            "Epoch 4/10\n",
            "25000/25000 [==============================] - 252s 10ms/step - loss: 0.2569 - acc: 0.8969 - val_loss: 0.2585 - val_acc: 0.8939\n",
            "Epoch 5/10\n",
            "25000/25000 [==============================] - 272s 11ms/step - loss: 0.2320 - acc: 0.9082 - val_loss: 0.2473 - val_acc: 0.8988\n",
            "Epoch 6/10\n",
            "25000/25000 [==============================] - 264s 11ms/step - loss: 0.2107 - acc: 0.9158 - val_loss: 0.2875 - val_acc: 0.8831\n",
            "Epoch 7/10\n",
            "25000/25000 [==============================] - 401s 16ms/step - loss: 0.1901 - acc: 0.9273 - val_loss: 0.2714 - val_acc: 0.8979\n",
            "Epoch 8/10\n",
            "25000/25000 [==============================] - 473s 19ms/step - loss: 0.1709 - acc: 0.9340 - val_loss: 0.2564 - val_acc: 0.8987\n",
            "Epoch 9/10\n",
            "25000/25000 [==============================] - 517s 21ms/step - loss: 0.1522 - acc: 0.9410 - val_loss: 0.2606 - val_acc: 0.8996\n",
            "Epoch 10/10\n",
            "25000/25000 [==============================] - 528s 21ms/step - loss: 0.1369 - acc: 0.9490 - val_loss: 0.2829 - val_acc: 0.9018\n"
          ],
          "name": "stdout"
        }
      ]
    },
    {
      "metadata": {
        "id": "m20UJFo71pPJ",
        "colab_type": "code",
        "colab": {}
      },
      "cell_type": "code",
      "source": [
        ""
      ],
      "execution_count": 0,
      "outputs": []
    }
  ]
}