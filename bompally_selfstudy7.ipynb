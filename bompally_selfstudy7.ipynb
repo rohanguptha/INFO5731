{
  "nbformat": 4,
  "nbformat_minor": 0,
  "metadata": {
    "colab": {
      "name": "bompally_selfstudy7.ipynb",
      "version": "0.3.2",
      "provenance": [],
      "collapsed_sections": [],
      "include_colab_link": true
    },
    "kernelspec": {
      "name": "python3",
      "display_name": "Python 3"
    },
    "accelerator": "GPU"
  },
  "cells": [
    {
      "cell_type": "markdown",
      "metadata": {
        "id": "view-in-github",
        "colab_type": "text"
      },
      "source": [
        "<a href=\"https://colab.research.google.com/github/rohanguptha/INFO5731/blob/master/bompally_selfstudy7.ipynb\" target=\"_parent\"><img src=\"https://colab.research.google.com/assets/colab-badge.svg\" alt=\"Open In Colab\"/></a>"
      ]
    },
    {
      "metadata": {
        "id": "OTMKc4TAlg0t",
        "colab_type": "text"
      },
      "cell_type": "markdown",
      "source": [
        "# Self Study 7"
      ]
    },
    {
      "metadata": {
        "id": "owaTk36LxnjP",
        "colab_type": "code",
        "colab": {}
      },
      "cell_type": "code",
      "source": [
        "%reload_ext autoreload\n",
        "%autoreload 2\n",
        "%matplotlib inline"
      ],
      "execution_count": 0,
      "outputs": []
    },
    {
      "metadata": {
        "id": "8EZpbWmIBAdA",
        "colab_type": "code",
        "colab": {}
      },
      "cell_type": "code",
      "source": [
        "from fastai.text import *"
      ],
      "execution_count": 0,
      "outputs": []
    },
    {
      "metadata": {
        "id": "_iRYoMWoBHp2",
        "colab_type": "code",
        "outputId": "91bd7ac6-7cc4-420e-977a-4cacde895269",
        "colab": {
          "base_uri": "https://localhost:8080/",
          "height": 35
        }
      },
      "cell_type": "code",
      "source": [
        "path = untar_data(URLs.IMDB_SAMPLE)\n",
        "path.ls()"
      ],
      "execution_count": 3,
      "outputs": [
        {
          "output_type": "execute_result",
          "data": {
            "text/plain": [
              "[PosixPath('/root/.fastai/data/imdb_sample/texts.csv')]"
            ]
          },
          "metadata": {
            "tags": []
          },
          "execution_count": 3
        }
      ]
    },
    {
      "metadata": {
        "id": "3sXlk448BMDn",
        "colab_type": "code",
        "outputId": "ccf64318-ccdd-475d-ba2d-4282ac6f990a",
        "colab": {
          "base_uri": "https://localhost:8080/",
          "height": 202
        }
      },
      "cell_type": "code",
      "source": [
        "df = pd.read_csv(path/'texts.csv')\n",
        "df.head()"
      ],
      "execution_count": 4,
      "outputs": [
        {
          "output_type": "execute_result",
          "data": {
            "text/html": [
              "<div>\n",
              "<style scoped>\n",
              "    .dataframe tbody tr th:only-of-type {\n",
              "        vertical-align: middle;\n",
              "    }\n",
              "\n",
              "    .dataframe tbody tr th {\n",
              "        vertical-align: top;\n",
              "    }\n",
              "\n",
              "    .dataframe thead th {\n",
              "        text-align: right;\n",
              "    }\n",
              "</style>\n",
              "<table border=\"1\" class=\"dataframe\">\n",
              "  <thead>\n",
              "    <tr style=\"text-align: right;\">\n",
              "      <th></th>\n",
              "      <th>label</th>\n",
              "      <th>text</th>\n",
              "      <th>is_valid</th>\n",
              "    </tr>\n",
              "  </thead>\n",
              "  <tbody>\n",
              "    <tr>\n",
              "      <th>0</th>\n",
              "      <td>negative</td>\n",
              "      <td>Un-bleeping-believable! Meg Ryan doesn't even ...</td>\n",
              "      <td>False</td>\n",
              "    </tr>\n",
              "    <tr>\n",
              "      <th>1</th>\n",
              "      <td>positive</td>\n",
              "      <td>This is a extremely well-made film. The acting...</td>\n",
              "      <td>False</td>\n",
              "    </tr>\n",
              "    <tr>\n",
              "      <th>2</th>\n",
              "      <td>negative</td>\n",
              "      <td>Every once in a long while a movie will come a...</td>\n",
              "      <td>False</td>\n",
              "    </tr>\n",
              "    <tr>\n",
              "      <th>3</th>\n",
              "      <td>positive</td>\n",
              "      <td>Name just says it all. I watched this movie wi...</td>\n",
              "      <td>False</td>\n",
              "    </tr>\n",
              "    <tr>\n",
              "      <th>4</th>\n",
              "      <td>negative</td>\n",
              "      <td>This movie succeeds at being one of the most u...</td>\n",
              "      <td>False</td>\n",
              "    </tr>\n",
              "  </tbody>\n",
              "</table>\n",
              "</div>"
            ],
            "text/plain": [
              "      label                                               text  is_valid\n",
              "0  negative  Un-bleeping-believable! Meg Ryan doesn't even ...     False\n",
              "1  positive  This is a extremely well-made film. The acting...     False\n",
              "2  negative  Every once in a long while a movie will come a...     False\n",
              "3  positive  Name just says it all. I watched this movie wi...     False\n",
              "4  negative  This movie succeeds at being one of the most u...     False"
            ]
          },
          "metadata": {
            "tags": []
          },
          "execution_count": 4
        }
      ]
    },
    {
      "metadata": {
        "id": "D3W-iTarBOil",
        "colab_type": "code",
        "outputId": "6749151e-3f3e-4f00-9259-504d3932b81e",
        "colab": {
          "base_uri": "https://localhost:8080/",
          "height": 55
        }
      },
      "cell_type": "code",
      "source": [
        "df['text'][1]"
      ],
      "execution_count": 5,
      "outputs": [
        {
          "output_type": "execute_result",
          "data": {
            "text/plain": [
              "'This is a extremely well-made film. The acting, script and camera-work are all first-rate. The music is good, too, though it is mostly early in the film, when things are still relatively cheery. There are no really superstars in the cast, though several faces will be familiar. The entire cast does an excellent job with the script.<br /><br />But it is hard to watch, because there is no good end to a situation like the one presented. It is now fashionable to blame the British for setting Hindus and Muslims against each other, and then cruelly separating them into two countries. There is some merit in this view, but it\\'s also true that no one forced Hindus and Muslims in the region to mistreat each other as they did around the time of partition. It seems more likely that the British simply saw the tensions between the religions and were clever enough to exploit them to their own ends.<br /><br />The result is that there is much cruelty and inhumanity in the situation and this is very unpleasant to remember and to see on the screen. But it is never painted as a black-and-white case. There is baseness and nobility on both sides, and also the hope for change in the younger generation.<br /><br />There is redemption of a sort, in the end, when Puro has to make a hard choice between a man who has ruined her life, but also truly loved her, and her family which has disowned her, then later come looking for her. But by that point, she has no option that is without great pain for her.<br /><br />This film carries the message that both Muslims and Hindus have their grave faults, and also that both can be dignified and caring people. The reality of partition makes that realisation all the more wrenching, since there can never be real reconciliation across the India/Pakistan border. In that sense, it is similar to \"Mr & Mrs Iyer\".<br /><br />In the end, we were glad to have seen the film, even though the resolution was heartbreaking. If the UK and US could deal with their own histories of racism with this kind of frankness, they would certainly be better off.'"
            ]
          },
          "metadata": {
            "tags": []
          },
          "execution_count": 5
        }
      ]
    },
    {
      "metadata": {
        "id": "0v8miTVhBQlZ",
        "colab_type": "code",
        "colab": {}
      },
      "cell_type": "code",
      "source": [
        "data_lm = TextDataBunch.from_csv(path, 'texts.csv')"
      ],
      "execution_count": 0,
      "outputs": []
    },
    {
      "metadata": {
        "id": "XJQVcECjBTUV",
        "colab_type": "code",
        "colab": {}
      },
      "cell_type": "code",
      "source": [
        "data_lm.save()"
      ],
      "execution_count": 0,
      "outputs": []
    },
    {
      "metadata": {
        "id": "eKNsQUCgBXSg",
        "colab_type": "code",
        "colab": {}
      },
      "cell_type": "code",
      "source": [
        "data = load_data(path)"
      ],
      "execution_count": 0,
      "outputs": []
    },
    {
      "metadata": {
        "id": "Mwzka8MEBZgw",
        "colab_type": "code",
        "outputId": "fd5141ee-8fb8-4f09-8823-2c3e26454ab6",
        "colab": {
          "base_uri": "https://localhost:8080/",
          "height": 289
        }
      },
      "cell_type": "code",
      "source": [
        "data = TextClasDataBunch.from_csv(path, 'texts.csv')\n",
        "data.show_batch()"
      ],
      "execution_count": 9,
      "outputs": [
        {
          "output_type": "display_data",
          "data": {
            "text/html": [
              "<table border=\"1\" class=\"dataframe\">\n",
              "  <thead>\n",
              "    <tr style=\"text-align: right;\">\n",
              "      <th>text</th>\n",
              "      <th>target</th>\n",
              "    </tr>\n",
              "  </thead>\n",
              "  <tbody>\n",
              "    <tr>\n",
              "      <td>xxbos xxmaj raising xxmaj victor xxmaj vargas : a xxmaj review \\n \\n  xxmaj you know , xxmaj raising xxmaj victor xxmaj vargas is like sticking your hands into a big , steaming bowl of xxunk . xxmaj it 's warm and gooey , but you 're not sure if it feels right . xxmaj try as i might , no matter how warm and gooey xxmaj raising xxmaj</td>\n",
              "      <td>negative</td>\n",
              "    </tr>\n",
              "    <tr>\n",
              "      <td>xxbos xxup the xxup shop xxup around xxup the xxup corner is one of the sweetest and most feel - good romantic comedies ever made . xxmaj there 's just no getting around that , and it 's hard to actually put one 's feeling for this film into words . xxmaj it 's not one of those films that tries too hard , nor does it come up with</td>\n",
              "      <td>positive</td>\n",
              "    </tr>\n",
              "    <tr>\n",
              "      <td>xxbos xxmaj this film sat on my xxmaj tivo for weeks before i watched it . i dreaded a self - indulgent xxunk flick about relationships gone bad . i was wrong ; this was an xxunk xxunk into the screwed - up xxunk of xxmaj new xxmaj yorkers . \\n \\n  xxmaj the format is the same as xxmaj max xxmaj xxunk ' \" xxmaj la xxmaj ronde</td>\n",
              "      <td>positive</td>\n",
              "    </tr>\n",
              "    <tr>\n",
              "      <td>xxbos xxmaj many neglect that this is n't just a classic due to the fact that it 's the first xxup 3d game , or even the first xxunk - up . xxmaj it 's also one of the first stealth games , one of the xxunk definitely the first ) truly claustrophobic games , and just a pretty well - rounded gaming experience in general . xxmaj with graphics</td>\n",
              "      <td>positive</td>\n",
              "    </tr>\n",
              "    <tr>\n",
              "      <td>xxbos i really wanted to love this show . i truly , honestly did . \\n \\n  xxmaj for the first time , gay viewers get their own version of the \" xxmaj the xxmaj bachelor \" . xxmaj with the help of his obligatory \" hag \" xxmaj xxunk , xxmaj james , a good looking , well - to - do thirty - something has the chance</td>\n",
              "      <td>negative</td>\n",
              "    </tr>\n",
              "  </tbody>\n",
              "</table>"
            ],
            "text/plain": [
              "<IPython.core.display.HTML object>"
            ]
          },
          "metadata": {
            "tags": []
          }
        }
      ]
    },
    {
      "metadata": {
        "id": "lfdn2BKZBcP5",
        "colab_type": "code",
        "outputId": "caa61aa1-3d93-4468-b8bd-5564d27cbc94",
        "colab": {
          "base_uri": "https://localhost:8080/",
          "height": 191
        }
      },
      "cell_type": "code",
      "source": [
        "data.vocab.itos[:10]"
      ],
      "execution_count": 10,
      "outputs": [
        {
          "output_type": "execute_result",
          "data": {
            "text/plain": [
              "['xxunk',\n",
              " 'xxpad',\n",
              " 'xxbos',\n",
              " 'xxfld',\n",
              " 'xxmaj',\n",
              " 'xxup',\n",
              " 'xxrep',\n",
              " 'xxwrep',\n",
              " 'the',\n",
              " ',']"
            ]
          },
          "metadata": {
            "tags": []
          },
          "execution_count": 10
        }
      ]
    },
    {
      "metadata": {
        "id": "YwFQaC1hBf_w",
        "colab_type": "code",
        "outputId": "e03e24fe-f969-4d09-a847-dde8231fe9fa",
        "colab": {
          "base_uri": "https://localhost:8080/",
          "height": 159
        }
      },
      "cell_type": "code",
      "source": [
        "data.train_ds[0][0]"
      ],
      "execution_count": 11,
      "outputs": [
        {
          "output_type": "execute_result",
          "data": {
            "text/plain": [
              "Text xxbos xxmaj sometimes they get lucky and have a hit on their hands ( xxmaj wayne 's xxmaj world , the first one , not the second ) . xxmaj but most often they have duds ( xxmaj it 's xxmaj pat comes to mind rather quickly ) . xxmaj this time out it 's xxmaj tim xxmaj meadows as xxmaj the xxmaj ladies xxmaj man . xxmaj this movie falls somewhere in between a hit and a dud . xxmaj it was very funny for the first 20 minutes , but then , as usually happens with xxup snl skits , it starts to slow down , before finally ending , long after it should have . \n",
              " \n",
              "  xxmaj tim xxmaj meadows is xxmaj leon xxmaj phelps , a radio xxup dj with a xxunk show called xxmaj the xxmaj ladies xxmaj man . xxmaj he answers any and all questions dealing with sex and relationships , usually in the crudest way possible . xxmaj everything seems to ultimately come down to the butt . xxmaj after pushing the xxunk of the station manager , xxmaj leon , along with his producer xxmaj julie ( xxmaj xxunk xxmaj xxunk ) gets fired , and needs to find another job . xxmaj out of the random blue , comes a letter from one of his ex - ladies . xxmaj the letter offers him wealth and luxury for the rest of his life , the only problem being that the letter is n't signed . xxmaj so xxmaj leon needs to track down all the women he 's been with to find the woman of his dreams . xxmaj but sometimes , as xxmaj billy xxmaj dee xxmaj williams says in the film , the woman of your dreams is standing right in front of you . xxmaj there is also a sub - plot about a bunch of guys who 's wives / girlfriends have all slept with xxmaj leon , and they want to first figure out who he is ( by a tattoo he has on a part of his xxunk ) , then kill him . xxmaj leading this bunch of guys is , surprise ! xxmaj will xxmaj ferrell from xxup snl . xxmaj first off , i thought the sub - plot was rather lame . xxmaj the singing and dancing stuff was just completely worthless . i usually like xxmaj will xxmaj ferrell but here he just never xxunk for me . xxmaj and the rest of the guys were just xxunk who xxunk along , and in the end all decided that having their wives / girlfriends xxunk on them was in fact their fault . xxmaj so back to the main story . xxmaj the story basically centers around xxmaj leon and sex . xxmaj so what it comes down to is , if you do n't like the character of xxmaj leon , you wo n't like the movie . xxmaj his voice , his mannerisms , his dialogue is what carries the movie . i am not a big fan of xxmaj tim xxmaj meadows . i never thought he was a particularly good actor on xxup snl . xxmaj the only thing i ever really liked of his , was his xxmaj ladies xxmaj man skits . xxmaj but the best thing about those , is that they usually involved the guest host ( remember the one with xxmaj cameron xxmaj diaz ? ) , and they were short . xxmaj for about 5 minutes , they were pretty funny . xxmaj and here , for about 20 minutes , it 's really funny . xxmaj what i thought was good about the character in the movie , is that he stayed in character throughout . xxmaj he never xxunk from his wanted to just get laid persona . xxmaj until right at the end where there was this transformation , and the ever present speech to tie things up . xxmaj other than that , it was pretty good at keeping xxmaj leon as xxmaj leon , and not changing him into something less crude than he was . xxmaj there is n't a lot of substance to this movie , if you could n't guess . xxmaj but like i said earlier , the beginning of the movie i found to be very funny . xxmaj some real laugh out loud moments , all xxunk around sex and his xxunk . xxmaj the problem of course with this movie , and most other xxup snl spin xxunk , is that these are characters that are only supposed to be shown for a few minutes at a time . xxmaj xxunk the concept into 80 minutes is very difficult . xxmaj that difficulty is obviously why they needed the sub - plot , because without it , this movie would have been a little under an hour . xxmaj when it was good , it was good , but when it was n't good , it got to be boring . \n",
              " \n",
              "  xxmaj so overall , xxmaj the xxmaj ladies xxmaj man was n't as bad as other xxup snl films , but it was n't as good as others . xxmaj it had some funny moments , the first 20 minutes was pretty good , but the rest of it dragged on . xxmaj there was an unnecessary sub - plot whose only purpose was to xxunk the film . xxmaj the bottom line is , if you like xxmaj tim xxmaj meadows and his xxmaj leon xxmaj phelps character , you 'll be able to watch the film . xxmaj if he annoys you , do n't even bother going . xxmaj unless you just want to see xxmaj xxunk xxmaj xxunk in some nice revealing clothing . \n",
              " \n",
              " "
            ]
          },
          "metadata": {
            "tags": []
          },
          "execution_count": 11
        }
      ]
    },
    {
      "metadata": {
        "id": "wDW1hQ17Bih_",
        "colab_type": "code",
        "outputId": "0df41a9c-0900-4eb8-fdef-1d8cc3c97c2a",
        "colab": {
          "base_uri": "https://localhost:8080/",
          "height": 35
        }
      },
      "cell_type": "code",
      "source": [
        "data.train_ds[0][0].data[:10]"
      ],
      "execution_count": 12,
      "outputs": [
        {
          "output_type": "execute_result",
          "data": {
            "text/plain": [
              "array([   2,    4,  490,   44,   97, 2205,   11,   41,   12,  512])"
            ]
          },
          "metadata": {
            "tags": []
          },
          "execution_count": 12
        }
      ]
    },
    {
      "metadata": {
        "id": "y9O4w42gBkyr",
        "colab_type": "code",
        "colab": {}
      },
      "cell_type": "code",
      "source": [
        "data = (TextList.from_csv(path, 'texts.csv', cols='text')\n",
        "                .split_from_df(col=2)\n",
        "                .label_from_df(cols=0)\n",
        "                .databunch())"
      ],
      "execution_count": 0,
      "outputs": []
    },
    {
      "metadata": {
        "id": "MG9rhxHZBnBk",
        "colab_type": "code",
        "colab": {}
      },
      "cell_type": "code",
      "source": [
        "bs=48"
      ],
      "execution_count": 0,
      "outputs": []
    },
    {
      "metadata": {
        "id": "lQKMtRmhBqvd",
        "colab_type": "code",
        "outputId": "b44b6483-7183-4f89-c826-ced06ae6c982",
        "colab": {
          "base_uri": "https://localhost:8080/",
          "height": 139
        }
      },
      "cell_type": "code",
      "source": [
        "path = untar_data(URLs.IMDB)\n",
        "path.ls()"
      ],
      "execution_count": 15,
      "outputs": [
        {
          "output_type": "execute_result",
          "data": {
            "text/plain": [
              "[PosixPath('/root/.fastai/data/imdb/unsup'),\n",
              " PosixPath('/root/.fastai/data/imdb/README'),\n",
              " PosixPath('/root/.fastai/data/imdb/tmp_lm'),\n",
              " PosixPath('/root/.fastai/data/imdb/train'),\n",
              " PosixPath('/root/.fastai/data/imdb/test'),\n",
              " PosixPath('/root/.fastai/data/imdb/imdb.vocab'),\n",
              " PosixPath('/root/.fastai/data/imdb/tmp_clas')]"
            ]
          },
          "metadata": {
            "tags": []
          },
          "execution_count": 15
        }
      ]
    },
    {
      "metadata": {
        "id": "LvH_YZq4BtSf",
        "colab_type": "code",
        "outputId": "b21be894-558e-4700-97ae-bc81746ad629",
        "colab": {
          "base_uri": "https://localhost:8080/",
          "height": 87
        }
      },
      "cell_type": "code",
      "source": [
        "(path/'train').ls()"
      ],
      "execution_count": 16,
      "outputs": [
        {
          "output_type": "execute_result",
          "data": {
            "text/plain": [
              "[PosixPath('/root/.fastai/data/imdb/train/unsupBow.feat'),\n",
              " PosixPath('/root/.fastai/data/imdb/train/neg'),\n",
              " PosixPath('/root/.fastai/data/imdb/train/labeledBow.feat'),\n",
              " PosixPath('/root/.fastai/data/imdb/train/pos')]"
            ]
          },
          "metadata": {
            "tags": []
          },
          "execution_count": 16
        }
      ]
    },
    {
      "metadata": {
        "id": "8sOy3D8IBwqZ",
        "colab_type": "code",
        "colab": {}
      },
      "cell_type": "code",
      "source": [
        "data_lm = (TextList.from_folder(path)\n",
        "           #Inputs: all the text files in path\n",
        "            .filter_by_folder(include=['train', 'test', 'unsup']) \n",
        "           #We may have other temp folders that contain text files so we only keep what's in train and test\n",
        "            .split_by_rand_pct(0.1)\n",
        "           #We randomly split and keep 10% (10,000 reviews) for validation\n",
        "            .label_for_lm()           \n",
        "           #We want to do a language model so we label accordingly\n",
        "            .databunch(bs=bs))\n",
        "data_lm.save('data_lm.pkl')"
      ],
      "execution_count": 0,
      "outputs": []
    },
    {
      "metadata": {
        "id": "O4M4X7SGBwsP",
        "colab_type": "code",
        "colab": {}
      },
      "cell_type": "code",
      "source": [
        "data_lm = load_data(path, 'data_lm.pkl', bs=bs)"
      ],
      "execution_count": 0,
      "outputs": []
    },
    {
      "metadata": {
        "id": "SGN80I1OBwvk",
        "colab_type": "code",
        "outputId": "b5308b20-7236-4170-a6c6-97e24296499d",
        "colab": {
          "base_uri": "https://localhost:8080/",
          "height": 323
        }
      },
      "cell_type": "code",
      "source": [
        "data_lm.show_batch()"
      ],
      "execution_count": 19,
      "outputs": [
        {
          "output_type": "display_data",
          "data": {
            "text/html": [
              "<table border=\"1\" class=\"dataframe\">\n",
              "  <thead>\n",
              "    <tr style=\"text-align: right;\">\n",
              "      <th>idx</th>\n",
              "      <th>text</th>\n",
              "    </tr>\n",
              "  </thead>\n",
              "  <tbody>\n",
              "    <tr>\n",
              "      <td>0</td>\n",
              "      <td>of the 2 sides to a story and how the lowest rank are always the ones that take the fall . xxmaj nobody above a xxmaj staff xxmaj sargent was ever charged , that 's non - commissioned officer 's . xxmaj imagine that ? ! xxmaj this is a very revealing portrait that shows just how screwed up the military can be in times of war &amp; in general</td>\n",
              "    </tr>\n",
              "    <tr>\n",
              "      <td>1</td>\n",
              "      <td>thugs related to his late father . xxmaj will tracks down xxmaj miro but ends up falling in love with xxmaj miro 's mother , xxmaj amira ( xxmaj juliette xxmaj binoche ) a soundless - piano playing seamstress . \\n \\n  xxmaj need some xxmaj xxunk ? xxmaj that 's only about half of the movie and i have n't even mentioned xxmaj will 's depressed light -</td>\n",
              "    </tr>\n",
              "    <tr>\n",
              "      <td>2</td>\n",
              "      <td>and fragile . xxmaj scott xxmaj bakula ... ah ... he just gets better and more seasoned with every new role he takes on : compassionate and kind , but stern and demanding when needed . \\n \\n  xxmaj the relationships before she met xxmaj bo were as heartbreaking in the movie as in the book . xxmaj though i could n't decide if the one she had with</td>\n",
              "    </tr>\n",
              "    <tr>\n",
              "      <td>3</td>\n",
              "      <td>sad , uplifting , absorbing . xxmaj good acting , good writing . xxmaj lots of meaning , lots of symbolism , but never in your face , never tiring . xxmaj mystical stuff that 's presented well and believably . a movie at once so ambitious and so real and so well - done ... there just are n't very many in its league . xxmaj action , love</td>\n",
              "    </tr>\n",
              "    <tr>\n",
              "      <td>4</td>\n",
              "      <td>best comedies and xxup great music as well ! xxmaj the best of the eighties xxunk i do count \" you spin me round \" as one of them ! ) xxmaj this movie pays tribute to a great time period and retains a place in my heart as both sweet / sentimental and roll on the floor funny . xxmaj watch it if you have n't , you will</td>\n",
              "    </tr>\n",
              "  </tbody>\n",
              "</table>"
            ],
            "text/plain": [
              "<IPython.core.display.HTML object>"
            ]
          },
          "metadata": {
            "tags": []
          }
        }
      ]
    },
    {
      "metadata": {
        "id": "ox0Wd6iABwyd",
        "colab_type": "code",
        "colab": {}
      },
      "cell_type": "code",
      "source": [
        "learn = language_model_learner(data_lm, AWD_LSTM, drop_mult=0.3)"
      ],
      "execution_count": 0,
      "outputs": []
    },
    {
      "metadata": {
        "id": "uRvpK8qiB_Ii",
        "colab_type": "code",
        "outputId": "1ecbc0b9-ef79-4459-8bd2-cec763e97508",
        "colab": {
          "base_uri": "https://localhost:8080/",
          "height": 35
        }
      },
      "cell_type": "code",
      "source": [
        "learn.lr_find()"
      ],
      "execution_count": 21,
      "outputs": [
        {
          "output_type": "display_data",
          "data": {
            "text/html": [
              ""
            ],
            "text/plain": [
              "<IPython.core.display.HTML object>"
            ]
          },
          "metadata": {
            "tags": []
          }
        },
        {
          "output_type": "stream",
          "text": [
            "LR Finder is complete, type {learner_name}.recorder.plot() to see the graph.\n"
          ],
          "name": "stdout"
        }
      ]
    },
    {
      "metadata": {
        "id": "0x2rpRTWB_Mo",
        "colab_type": "code",
        "outputId": "f8f27514-ebab-4b0a-c7b8-392d0653124a",
        "colab": {
          "base_uri": "https://localhost:8080/",
          "height": 279
        }
      },
      "cell_type": "code",
      "source": [
        "learn.recorder.plot(skip_end=15)"
      ],
      "execution_count": 22,
      "outputs": [
        {
          "output_type": "display_data",
          "data": {
            "image/png": "[encoded data removed]",
            "text/plain": [
              "<Figure size 432x288 with 1 Axes>"
            ]
          },
          "metadata": {
            "tags": []
          }
        }
      ]
    },
    {
      "metadata": {
        "id": "lHf4MnhqB_PZ",
        "colab_type": "code",
        "outputId": "4b2ce24f-14e6-4da1-ac78-82e03cd73d6a",
        "colab": {
          "base_uri": "https://localhost:8080/",
          "height": 103
        }
      },
      "cell_type": "code",
      "source": [
        "learn.fit_one_cycle(1, 1e-2, moms=(0.8,0.7))"
      ],
      "execution_count": 23,
      "outputs": [
        {
          "output_type": "display_data",
          "data": {
            "text/html": [
              "Total time: 1:24:05 <p><table border=\"1\" class=\"dataframe\">\n",
              "  <thead>\n",
              "    <tr style=\"text-align: left;\">\n",
              "      <th>epoch</th>\n",
              "      <th>train_loss</th>\n",
              "      <th>valid_loss</th>\n",
              "      <th>accuracy</th>\n",
              "      <th>time</th>\n",
              "    </tr>\n",
              "  </thead>\n",
              "  <tbody>\n",
              "    <tr>\n",
              "      <td>0</td>\n",
              "      <td>4.216619</td>\n",
              "      <td>4.059005</td>\n",
              "      <td>0.293155</td>\n",
              "      <td>1:24:05</td>\n",
              "    </tr>\n",
              "  </tbody>\n",
              "</table>"
            ],
            "text/plain": [
              "<IPython.core.display.HTML object>"
            ]
          },
          "metadata": {
            "tags": []
          }
        }
      ]
    },
    {
      "metadata": {
        "id": "dAjufdd9yPWd",
        "colab_type": "code",
        "colab": {}
      },
      "cell_type": "code",
      "source": [
        "learn.save('fit_head')"
      ],
      "execution_count": 0,
      "outputs": []
    },
    {
      "metadata": {
        "id": "Jg8u1mPJyZHk",
        "colab_type": "code",
        "outputId": "ed0bb7a2-1ca3-4059-c131-cc9a803b0037",
        "colab": {
          "base_uri": "https://localhost:8080/",
          "height": 2672
        }
      },
      "cell_type": "code",
      "source": [
        "learn.load('fit_head')"
      ],
      "execution_count": 25,
      "outputs": [
        {
          "output_type": "execute_result",
          "data": {
            "text/plain": [
              "LanguageLearner(data=TextLMDataBunch;\n",
              "\n",
              "Train: LabelList (90000 items)\n",
              "x: LMTextList\n",
              "xxbos i 'm a proud xxmaj american despite all the people going on vacation saying their xxmaj canadian . ( grow up take some responsibility & know at least xxup some of what 's going on in the world huh ? xxmaj unless your teenager because you are terribly self - centered and ca n't really help it , thanks hormones ! ) xxmaj anyway this is just another example of the 2 sides to a story and how the lowest rank are always the ones that take the fall . xxmaj nobody above a xxmaj staff xxmaj sargent was ever charged , that 's non - commissioned officer 's . xxmaj imagine that ? ! xxmaj this is a very revealing portrait that shows just how screwed up the military can be in times of war & in general . xxmaj the investigator made a couple outstanding points : 1 . if there were never any pictures , we never would have heard of this . 2 . xxmaj the xxmaj colonels / xxmaj generals can be extremely intimidating to a young 18 year old just out of his parents house for the 1st time . xxmaj hell you do n't have to have a xxmaj high xxmaj school education to get in the military anymore , so these kids do n't really have an understanding that a hardened military man has who has seen everything . i do n't care what anyone says , this is a pretty good look & is pretty fair in it 's portrayal of everything & everyone involved . xxmaj the people seemed to be puppets more than anything & the higher ranks xxup knew what was happening . xxmaj when people are going to learn that xxup torture xxup doesn't xxup work is beyond me . xxmaj people will say anything under the right condition to get out of the pain they are being in . xxmaj this is interesting documentary & maybe it will keep a few from getting involved in things that are beyond there comprehension or capability . i 'm not a politician nor want to be , ( they make me sick ) but getting out of the war is going to be mess just like every other war & it is going to be a no - win issue no matter what we do which is really sad . xxmaj give this doc a try & try not be moved by the issues .,xxbos a film that splits people in to two groups indeed . first of all lets look at the bad reviews , well to begin with there are no ghost moose 's . xxmaj the tension and horror in this film does not look to supernatural or alien things to scare us . xxmaj their might be a hint of that but when it comes down to it its about our imaginations , our superstitions and beliefs that trigger our responses to situations . xxmaj the exorcist had a massive audience compared to this but it was all made up hokum and mostly hysterically funny . xxmaj at least \" xxmaj the xxmaj last xxmaj winter \" tried to take in to account cause and effect from a scientific point of view . it may not do it very well at times but the film has consistency . xxmaj apparently most xxmaj americans do n't even believe that global warming is happening let alone that humans are contributing to it so its not surprising some of the films messages are dismissed . a gas that causes hallucinations and paranoia ? xxmaj we have made them so i 'm sure nature can . xxmaj if you are not a gore fest carnage freak then this is a film for you,xxbos xxmaj stories / xxmaj plots : xxmaj each story written and directed by xxmaj bo xxmaj buckley and presented with a different level of spookiness . i have to admit the first installment xxup the xxup doll xxup 's xxup house started off a bit slow but the other stories moved smoothly and made up for it . xxmaj my favorite of the four would have to be xxup world xxup 's xxup most xxup haunted - any \" reality \" haunted show should end up like this one . xxmaj so in one movie you get a haunted house , some werewolves , a haunted sanitarium and a tarot card reader . xxmaj it spans a good variety of the horror genre . \n",
              " \n",
              "  f / x : i was impressed with the effects . xxmaj they did n't come across too cheesy and and felt pretty high quality . xxmaj always a bonus in xxmaj indie films . xxmaj two thumbs up to the f / x crew . xxmaj only problem i ran into was soundtrack music overrunning the dialog at times . \n",
              " \n",
              "  xxmaj cast / xxmaj characters : xxmaj good scripting allowed for good follow through on the actors part . xxmaj everyone did their parts to tee - the ditsy girl does get killed and the annoying guy will get killed , that is what we like to see . \n",
              " \n",
              "  xxmaj jekyll 's xxmaj final xxmaj thoughts : i was very happy to hear about this movie through a friend and glad i had the chance to watch and review it . i will recommend it to my fellow horror fans and look forward to seeing what else xxmaj mr. xxmaj buckley has in store for us . xxmaj this one , appropriately , gets a 4 star rating from me ( out of 5 ),xxbos xxmaj brilliantly directed , superb camerawork , great script ! xxmaj whoever owned the multi - story xxunk used in the amazing climax must be thrilled to have given their permission for it to be rammed by a car ! i 've heard on the grapevine that this film was made on a very low budget - surely a sign that the director and his company \" xxmaj troubled xxmaj children xxmaj films \" are capable of so much more ! i happened to stumble across the film - maker 's website , and hope to see more of their back - catalogue - xxmaj the silent snooker film in particular seems just as well - scripted as this masterpiece ! i stand by my fellow impartial reviewers and say \" xxmaj well done ! 10 / 10 xxrep 4 ! \",xxbos xxmaj one of the many productions dealing with the offshoring of xxmaj american jobs , but narrated with class and delicacy , with no clichés . xxmaj there 's plenty of culture shock , due to new food , busted xxunk , and other cultural barriers but with a pace never seen before , in my opinion . xxmaj it 's funny but becomes a romance as well and has one of its best moments when the two leading actors imitate the stereotype of the other , with impressive results . xxmaj almost entirely shot in xxmaj india , xxmaj outsourced is a truly tiny movie that ultimately says a lot about troubles crossing cultural divisions . xxmaj among many films handling the subject this is one of the best .\n",
              "y: LMLabelList\n",
              ",,,,\n",
              "Path: /root/.fastai/data/imdb;\n",
              "\n",
              "Valid: LabelList (10000 items)\n",
              "x: LMTextList\n",
              "xxbos xxmaj ken xxmaj russell directed and co - authored this flagrantly useless biography of silent - screen legend xxmaj rudolph xxmaj valentino , adapted from the book \" xxmaj valentino , an xxmaj intimate xxmaj exposé of xxmaj the xxmaj sheik \" by xxmaj brad xxmaj steiger and xxmaj xxunk xxmaj mank ; certainly the producers and actors associated with this film knew of xxmaj russell 's penchant for the gross and bizarre , yet everyone seems to have jumped on - board blindfolded . xxmaj it 's a stiff and self - conscious circus , albeit one with an opulent 1920s production design . xxmaj the essence of capturing a romantic hero of the movies on film has seldom come off ( proof of that is the unsuccessful 1951 version of \" xxmaj valentino \" starring xxmaj anthony xxmaj dexter ) ; here , xxmaj russian ballet star xxmaj rudolf xxmaj nureyev struggles with his xxmaj italian accent , struggles with his romantic partners , and really only looks comfortable with the dancing ( an early scene featuring xxmaj valentino and xxmaj xxunk xxmaj xxunk together on the dance floor is the picture 's best moment ) . xxmaj the impersonations of real - life players in xxmaj valentino 's short life are grotesque caricatures , and the flashback conceit of female admirers recalling their associations with \" xxmaj the xxmaj sheik \" after his premature demise is flabby and tiresome ( and fails to pay off in any sort of narrative context ) . xxmaj ken xxmaj russell has never been very nimble with actors , but one expects more fireworks with this large cast ( they are largely posed and wooden ) . xxmaj leslie xxmaj caron 's nutty interpretation of famed actress xxmaj alla xxmaj xxunk gets some xxunk laughs , and xxmaj seymour xxmaj cassel is always nice to have around as xxmaj valentino 's manager , but the lead is too old for his role -- and intensely uncharismatic on the screen . * 1 / 2 from xxrep 4 *,xxbos xxmaj this movie was clearly an early attempt for a new director , but still succeeded in being original and entertaining as well as in some moments thought - provoking . xxmaj however , i have to say the story would not have come across as well without the stellar performance of xxmaj paul xxmaj anthony as xxmaj pip . xxmaj he made the well written parts very believable and affecting , and the more weakly written parts much more bearable . xxmaj also , i have to mention the performance by xxmaj alan xxmaj cumming . xxmaj it was refreshing to see him in a part like this . xxmaj he brought a weight to his role that provided a very grounding element to the film . xxmaj as for xxmaj paul xxmaj anthony : xxmaj who is this guy ? xxmaj why have n't i seen more of him ? xxmaj someone give him more roles , please !,xxbos xxunk this ok comedy about an aging father ( xxup c. xxmaj aubrey xxmaj smith ) who decides to gather his grown children from around the world . xxmaj davies is working as a chorus girl in xxmaj new xxmaj york when she gets the news that \" daddy \" wants her . h xxrep 4 m , sounds familiar . xxmaj davies ' considerable talents as a comedienne save this otherwise so - so comedy as she upsets the staid xxmaj british countryside with her brazen xxmaj american personality . xxmaj not as sharp as some other xxmaj davies comedies , but still worth a look . xxmaj ray xxmaj milland plays her long - lost \" brother . \" xxmaj doris xxmaj lloyd , xxmaj elizabeth xxmaj murray , and xxmaj halliwell xxmaj hobbes are all fun , too .,xxbos xxmaj this movie has all the ingredients of a great horror story and loses it in the last half . xxmaj few movies can actually give me chill bumps . xxmaj this one did . xxmaj few horror movie give me a sense of dread . xxmaj this one did . xxmaj it kept me guessing . i cared about the story . i cared about the characters . xxmaj the acting was decent . xxmaj unfortunately , about half way through the movie , the story just does n't have many good directions it can go . xxmaj it becomes evident that everything cool about the plot is going to self - destruct . xxmaj it does . xxmaj what builds in the first half as a great horror concept shifts away from horror and towards the absurd . a plausible fear turns into a series of implausible reactions from the characters . xxmaj the story concludes with disappointment . xxmaj while this movie seems complete , there is one loose end that could setup for a sequel . xxmaj the movie is n't good enough for a sequel . xxmaj this movie is worth seeing in the theater , just do n't expect to be stunned . xxmaj this is best suited as a movie to rent . xxmaj it 's probably not a movie you 'd want to own .,xxbos xxmaj yeah , i remember this one ! xxmaj many years since i actually watched it . xxmaj the story was entirely surreal , but nonetheless great ! xxmaj what anyone who rates and reviews movies ought to bear in mind is what the respective movie aims at . xxmaj it 's the same with \" xxmaj first xxmaj kid \" , which follows a similar pattern . xxmaj certain movies - like this one here - just aim at plain and comical nonsense . xxmaj such movies ca n't be rated from the point of view of a xxunk reviewer . xxmaj of course these movies lack quality , lack a sophisticated storyline , very often lack first - class acting , but if they do fulfil their primary premise - that 's okay . i do n't have this movie here on my list of all - time favorites , but i still thought it was funny , had some very enjoyable sequences and made a good story . xxmaj brian xxmaj xxunk is a smart actor anyway .\n",
              "y: LMLabelList\n",
              ",,,,\n",
              "Path: /root/.fastai/data/imdb;\n",
              "\n",
              "Test: None, model=SequentialRNN(\n",
              "  (0): AWD_LSTM(\n",
              "    (encoder): Embedding(60003, 400, padding_idx=1)\n",
              "    (encoder_dp): EmbeddingDropout(\n",
              "      (emb): Embedding(60003, 400, padding_idx=1)\n",
              "    )\n",
              "    (rnns): ModuleList(\n",
              "      (0): WeightDropout(\n",
              "        (module): LSTM(400, 1150, batch_first=True)\n",
              "      )\n",
              "      (1): WeightDropout(\n",
              "        (module): LSTM(1150, 1150, batch_first=True)\n",
              "      )\n",
              "      (2): WeightDropout(\n",
              "        (module): LSTM(1150, 400, batch_first=True)\n",
              "      )\n",
              "    )\n",
              "    (input_dp): RNNDropout()\n",
              "    (hidden_dps): ModuleList(\n",
              "      (0): RNNDropout()\n",
              "      (1): RNNDropout()\n",
              "      (2): RNNDropout()\n",
              "    )\n",
              "  )\n",
              "  (1): LinearDecoder(\n",
              "    (decoder): Linear(in_features=400, out_features=60003, bias=True)\n",
              "    (output_dp): RNNDropout()\n",
              "  )\n",
              "), opt_func=functools.partial(<class 'torch.optim.adam.Adam'>, betas=(0.9, 0.99)), loss_func=FlattenedLoss of CrossEntropyLoss(), metrics=[<function accuracy at 0x7f6a3454dc80>], true_wd=True, bn_wd=True, wd=0.01, train_bn=True, path=PosixPath('/root/.fastai/data/imdb'), model_dir='models', callback_fns=[functools.partial(<class 'fastai.basic_train.Recorder'>, add_time=True)], callbacks=[RNNTrainer\n",
              "learn: LanguageLearner(data=TextLMDataBunch;\n",
              "\n",
              "Train: LabelList (90000 items)\n",
              "x: LMTextList\n",
              "xxbos i 'm a proud xxmaj american despite all the people going on vacation saying their xxmaj canadian . ( grow up take some responsibility & know at least xxup some of what 's going on in the world huh ? xxmaj unless your teenager because you are terribly self - centered and ca n't really help it , thanks hormones ! ) xxmaj anyway this is just another example of the 2 sides to a story and how the lowest rank are always the ones that take the fall . xxmaj nobody above a xxmaj staff xxmaj sargent was ever charged , that 's non - commissioned officer 's . xxmaj imagine that ? ! xxmaj this is a very revealing portrait that shows just how screwed up the military can be in times of war & in general . xxmaj the investigator made a couple outstanding points : 1 . if there were never any pictures , we never would have heard of this . 2 . xxmaj the xxmaj colonels / xxmaj generals can be extremely intimidating to a young 18 year old just out of his parents house for the 1st time . xxmaj hell you do n't have to have a xxmaj high xxmaj school education to get in the military anymore , so these kids do n't really have an understanding that a hardened military man has who has seen everything . i do n't care what anyone says , this is a pretty good look & is pretty fair in it 's portrayal of everything & everyone involved . xxmaj the people seemed to be puppets more than anything & the higher ranks xxup knew what was happening . xxmaj when people are going to learn that xxup torture xxup doesn't xxup work is beyond me . xxmaj people will say anything under the right condition to get out of the pain they are being in . xxmaj this is interesting documentary & maybe it will keep a few from getting involved in things that are beyond there comprehension or capability . i 'm not a politician nor want to be , ( they make me sick ) but getting out of the war is going to be mess just like every other war & it is going to be a no - win issue no matter what we do which is really sad . xxmaj give this doc a try & try not be moved by the issues .,xxbos a film that splits people in to two groups indeed . first of all lets look at the bad reviews , well to begin with there are no ghost moose 's . xxmaj the tension and horror in this film does not look to supernatural or alien things to scare us . xxmaj their might be a hint of that but when it comes down to it its about our imaginations , our superstitions and beliefs that trigger our responses to situations . xxmaj the exorcist had a massive audience compared to this but it was all made up hokum and mostly hysterically funny . xxmaj at least \" xxmaj the xxmaj last xxmaj winter \" tried to take in to account cause and effect from a scientific point of view . it may not do it very well at times but the film has consistency . xxmaj apparently most xxmaj americans do n't even believe that global warming is happening let alone that humans are contributing to it so its not surprising some of the films messages are dismissed . a gas that causes hallucinations and paranoia ? xxmaj we have made them so i 'm sure nature can . xxmaj if you are not a gore fest carnage freak then this is a film for you,xxbos xxmaj stories / xxmaj plots : xxmaj each story written and directed by xxmaj bo xxmaj buckley and presented with a different level of spookiness . i have to admit the first installment xxup the xxup doll xxup 's xxup house started off a bit slow but the other stories moved smoothly and made up for it . xxmaj my favorite of the four would have to be xxup world xxup 's xxup most xxup haunted - any \" reality \" haunted show should end up like this one . xxmaj so in one movie you get a haunted house , some werewolves , a haunted sanitarium and a tarot card reader . xxmaj it spans a good variety of the horror genre . \n",
              " \n",
              "  f / x : i was impressed with the effects . xxmaj they did n't come across too cheesy and and felt pretty high quality . xxmaj always a bonus in xxmaj indie films . xxmaj two thumbs up to the f / x crew . xxmaj only problem i ran into was soundtrack music overrunning the dialog at times . \n",
              " \n",
              "  xxmaj cast / xxmaj characters : xxmaj good scripting allowed for good follow through on the actors part . xxmaj everyone did their parts to tee - the ditsy girl does get killed and the annoying guy will get killed , that is what we like to see . \n",
              " \n",
              "  xxmaj jekyll 's xxmaj final xxmaj thoughts : i was very happy to hear about this movie through a friend and glad i had the chance to watch and review it . i will recommend it to my fellow horror fans and look forward to seeing what else xxmaj mr. xxmaj buckley has in store for us . xxmaj this one , appropriately , gets a 4 star rating from me ( out of 5 ),xxbos xxmaj brilliantly directed , superb camerawork , great script ! xxmaj whoever owned the multi - story xxunk used in the amazing climax must be thrilled to have given their permission for it to be rammed by a car ! i 've heard on the grapevine that this film was made on a very low budget - surely a sign that the director and his company \" xxmaj troubled xxmaj children xxmaj films \" are capable of so much more ! i happened to stumble across the film - maker 's website , and hope to see more of their back - catalogue - xxmaj the silent snooker film in particular seems just as well - scripted as this masterpiece ! i stand by my fellow impartial reviewers and say \" xxmaj well done ! 10 / 10 xxrep 4 ! \",xxbos xxmaj one of the many productions dealing with the offshoring of xxmaj american jobs , but narrated with class and delicacy , with no clichés . xxmaj there 's plenty of culture shock , due to new food , busted xxunk , and other cultural barriers but with a pace never seen before , in my opinion . xxmaj it 's funny but becomes a romance as well and has one of its best moments when the two leading actors imitate the stereotype of the other , with impressive results . xxmaj almost entirely shot in xxmaj india , xxmaj outsourced is a truly tiny movie that ultimately says a lot about troubles crossing cultural divisions . xxmaj among many films handling the subject this is one of the best .\n",
              "y: LMLabelList\n",
              ",,,,\n",
              "Path: /root/.fastai/data/imdb;\n",
              "\n",
              "Valid: LabelList (10000 items)\n",
              "x: LMTextList\n",
              "xxbos xxmaj ken xxmaj russell directed and co - authored this flagrantly useless biography of silent - screen legend xxmaj rudolph xxmaj valentino , adapted from the book \" xxmaj valentino , an xxmaj intimate xxmaj exposé of xxmaj the xxmaj sheik \" by xxmaj brad xxmaj steiger and xxmaj xxunk xxmaj mank ; certainly the producers and actors associated with this film knew of xxmaj russell 's penchant for the gross and bizarre , yet everyone seems to have jumped on - board blindfolded . xxmaj it 's a stiff and self - conscious circus , albeit one with an opulent 1920s production design . xxmaj the essence of capturing a romantic hero of the movies on film has seldom come off ( proof of that is the unsuccessful 1951 version of \" xxmaj valentino \" starring xxmaj anthony xxmaj dexter ) ; here , xxmaj russian ballet star xxmaj rudolf xxmaj nureyev struggles with his xxmaj italian accent , struggles with his romantic partners , and really only looks comfortable with the dancing ( an early scene featuring xxmaj valentino and xxmaj xxunk xxmaj xxunk together on the dance floor is the picture 's best moment ) . xxmaj the impersonations of real - life players in xxmaj valentino 's short life are grotesque caricatures , and the flashback conceit of female admirers recalling their associations with \" xxmaj the xxmaj sheik \" after his premature demise is flabby and tiresome ( and fails to pay off in any sort of narrative context ) . xxmaj ken xxmaj russell has never been very nimble with actors , but one expects more fireworks with this large cast ( they are largely posed and wooden ) . xxmaj leslie xxmaj caron 's nutty interpretation of famed actress xxmaj alla xxmaj xxunk gets some xxunk laughs , and xxmaj seymour xxmaj cassel is always nice to have around as xxmaj valentino 's manager , but the lead is too old for his role -- and intensely uncharismatic on the screen . * 1 / 2 from xxrep 4 *,xxbos xxmaj this movie was clearly an early attempt for a new director , but still succeeded in being original and entertaining as well as in some moments thought - provoking . xxmaj however , i have to say the story would not have come across as well without the stellar performance of xxmaj paul xxmaj anthony as xxmaj pip . xxmaj he made the well written parts very believable and affecting , and the more weakly written parts much more bearable . xxmaj also , i have to mention the performance by xxmaj alan xxmaj cumming . xxmaj it was refreshing to see him in a part like this . xxmaj he brought a weight to his role that provided a very grounding element to the film . xxmaj as for xxmaj paul xxmaj anthony : xxmaj who is this guy ? xxmaj why have n't i seen more of him ? xxmaj someone give him more roles , please !,xxbos xxunk this ok comedy about an aging father ( xxup c. xxmaj aubrey xxmaj smith ) who decides to gather his grown children from around the world . xxmaj davies is working as a chorus girl in xxmaj new xxmaj york when she gets the news that \" daddy \" wants her . h xxrep 4 m , sounds familiar . xxmaj davies ' considerable talents as a comedienne save this otherwise so - so comedy as she upsets the staid xxmaj british countryside with her brazen xxmaj american personality . xxmaj not as sharp as some other xxmaj davies comedies , but still worth a look . xxmaj ray xxmaj milland plays her long - lost \" brother . \" xxmaj doris xxmaj lloyd , xxmaj elizabeth xxmaj murray , and xxmaj halliwell xxmaj hobbes are all fun , too .,xxbos xxmaj this movie has all the ingredients of a great horror story and loses it in the last half . xxmaj few movies can actually give me chill bumps . xxmaj this one did . xxmaj few horror movie give me a sense of dread . xxmaj this one did . xxmaj it kept me guessing . i cared about the story . i cared about the characters . xxmaj the acting was decent . xxmaj unfortunately , about half way through the movie , the story just does n't have many good directions it can go . xxmaj it becomes evident that everything cool about the plot is going to self - destruct . xxmaj it does . xxmaj what builds in the first half as a great horror concept shifts away from horror and towards the absurd . a plausible fear turns into a series of implausible reactions from the characters . xxmaj the story concludes with disappointment . xxmaj while this movie seems complete , there is one loose end that could setup for a sequel . xxmaj the movie is n't good enough for a sequel . xxmaj this movie is worth seeing in the theater , just do n't expect to be stunned . xxmaj this is best suited as a movie to rent . xxmaj it 's probably not a movie you 'd want to own .,xxbos xxmaj yeah , i remember this one ! xxmaj many years since i actually watched it . xxmaj the story was entirely surreal , but nonetheless great ! xxmaj what anyone who rates and reviews movies ought to bear in mind is what the respective movie aims at . xxmaj it 's the same with \" xxmaj first xxmaj kid \" , which follows a similar pattern . xxmaj certain movies - like this one here - just aim at plain and comical nonsense . xxmaj such movies ca n't be rated from the point of view of a xxunk reviewer . xxmaj of course these movies lack quality , lack a sophisticated storyline , very often lack first - class acting , but if they do fulfil their primary premise - that 's okay . i do n't have this movie here on my list of all - time favorites , but i still thought it was funny , had some very enjoyable sequences and made a good story . xxmaj brian xxmaj xxunk is a smart actor anyway .\n",
              "y: LMLabelList\n",
              ",,,,\n",
              "Path: /root/.fastai/data/imdb;\n",
              "\n",
              "Test: None, model=SequentialRNN(\n",
              "  (0): AWD_LSTM(\n",
              "    (encoder): Embedding(60003, 400, padding_idx=1)\n",
              "    (encoder_dp): EmbeddingDropout(\n",
              "      (emb): Embedding(60003, 400, padding_idx=1)\n",
              "    )\n",
              "    (rnns): ModuleList(\n",
              "      (0): WeightDropout(\n",
              "        (module): LSTM(400, 1150, batch_first=True)\n",
              "      )\n",
              "      (1): WeightDropout(\n",
              "        (module): LSTM(1150, 1150, batch_first=True)\n",
              "      )\n",
              "      (2): WeightDropout(\n",
              "        (module): LSTM(1150, 400, batch_first=True)\n",
              "      )\n",
              "    )\n",
              "    (input_dp): RNNDropout()\n",
              "    (hidden_dps): ModuleList(\n",
              "      (0): RNNDropout()\n",
              "      (1): RNNDropout()\n",
              "      (2): RNNDropout()\n",
              "    )\n",
              "  )\n",
              "  (1): LinearDecoder(\n",
              "    (decoder): Linear(in_features=400, out_features=60003, bias=True)\n",
              "    (output_dp): RNNDropout()\n",
              "  )\n",
              "), opt_func=functools.partial(<class 'torch.optim.adam.Adam'>, betas=(0.9, 0.99)), loss_func=FlattenedLoss of CrossEntropyLoss(), metrics=[<function accuracy at 0x7f6a3454dc80>], true_wd=True, bn_wd=True, wd=0.01, train_bn=True, path=PosixPath('/root/.fastai/data/imdb'), model_dir='models', callback_fns=[functools.partial(<class 'fastai.basic_train.Recorder'>, add_time=True)], callbacks=[...], layer_groups=[Sequential(\n",
              "  (0): WeightDropout(\n",
              "    (module): LSTM(400, 1150, batch_first=True)\n",
              "  )\n",
              "  (1): RNNDropout()\n",
              "), Sequential(\n",
              "  (0): WeightDropout(\n",
              "    (module): LSTM(1150, 1150, batch_first=True)\n",
              "  )\n",
              "  (1): RNNDropout()\n",
              "), Sequential(\n",
              "  (0): WeightDropout(\n",
              "    (module): LSTM(1150, 400, batch_first=True)\n",
              "  )\n",
              "  (1): RNNDropout()\n",
              "), Sequential(\n",
              "  (0): Embedding(60003, 400, padding_idx=1)\n",
              "  (1): EmbeddingDropout(\n",
              "    (emb): Embedding(60003, 400, padding_idx=1)\n",
              "  )\n",
              "  (2): LinearDecoder(\n",
              "    (decoder): Linear(in_features=400, out_features=60003, bias=True)\n",
              "    (output_dp): RNNDropout()\n",
              "  )\n",
              ")], add_time=True)\n",
              "alpha: 2.0\n",
              "beta: 1.0], layer_groups=[Sequential(\n",
              "  (0): WeightDropout(\n",
              "    (module): LSTM(400, 1150, batch_first=True)\n",
              "  )\n",
              "  (1): RNNDropout()\n",
              "), Sequential(\n",
              "  (0): WeightDropout(\n",
              "    (module): LSTM(1150, 1150, batch_first=True)\n",
              "  )\n",
              "  (1): RNNDropout()\n",
              "), Sequential(\n",
              "  (0): WeightDropout(\n",
              "    (module): LSTM(1150, 400, batch_first=True)\n",
              "  )\n",
              "  (1): RNNDropout()\n",
              "), Sequential(\n",
              "  (0): Embedding(60003, 400, padding_idx=1)\n",
              "  (1): EmbeddingDropout(\n",
              "    (emb): Embedding(60003, 400, padding_idx=1)\n",
              "  )\n",
              "  (2): LinearDecoder(\n",
              "    (decoder): Linear(in_features=400, out_features=60003, bias=True)\n",
              "    (output_dp): RNNDropout()\n",
              "  )\n",
              ")], add_time=True)"
            ]
          },
          "metadata": {
            "tags": []
          },
          "execution_count": 25
        }
      ]
    },
    {
      "metadata": {
        "id": "G8XtT0xSydnq",
        "colab_type": "code",
        "colab": {}
      },
      "cell_type": "code",
      "source": [
        "learn.unfreeze()"
      ],
      "execution_count": 0,
      "outputs": []
    },
    {
      "metadata": {
        "id": "SIG2EUMuyja2",
        "colab_type": "code",
        "outputId": "7516d805-298b-41b0-9319-0ba0ab95fce3",
        "colab": {
          "base_uri": "https://localhost:8080/",
          "height": 103
        }
      },
      "cell_type": "code",
      "source": [
        "learn.fit_one_cycle(1, 1e-3, moms=(0.8,0.7))"
      ],
      "execution_count": 27,
      "outputs": [
        {
          "output_type": "display_data",
          "data": {
            "text/html": [
              "Total time: 1:33:33 <p><table border=\"1\" class=\"dataframe\">\n",
              "  <thead>\n",
              "    <tr style=\"text-align: left;\">\n",
              "      <th>epoch</th>\n",
              "      <th>train_loss</th>\n",
              "      <th>valid_loss</th>\n",
              "      <th>accuracy</th>\n",
              "      <th>time</th>\n",
              "    </tr>\n",
              "  </thead>\n",
              "  <tbody>\n",
              "    <tr>\n",
              "      <td>0</td>\n",
              "      <td>3.883287</td>\n",
              "      <td>3.801356</td>\n",
              "      <td>0.321771</td>\n",
              "      <td>1:33:33</td>\n",
              "    </tr>\n",
              "  </tbody>\n",
              "</table>"
            ],
            "text/plain": [
              "<IPython.core.display.HTML object>"
            ]
          },
          "metadata": {
            "tags": []
          }
        }
      ]
    },
    {
      "metadata": {
        "id": "rlqhLGqpkr87",
        "colab_type": "code",
        "colab": {}
      },
      "cell_type": "code",
      "source": [
        "learn.save('fine_tuned')"
      ],
      "execution_count": 0,
      "outputs": []
    },
    {
      "metadata": {
        "id": "gY7BgILakwKN",
        "colab_type": "code",
        "colab": {}
      },
      "cell_type": "code",
      "source": [
        "learn.load('fine_tuned');"
      ],
      "execution_count": 0,
      "outputs": []
    },
    {
      "metadata": {
        "id": "FqxOqHAvlp9o",
        "colab_type": "code",
        "colab": {}
      },
      "cell_type": "code",
      "source": [
        "TEXT = \"I liked this movie because\"\n",
        "N_WORDS = 40\n",
        "N_SENTENCES = 2"
      ],
      "execution_count": 0,
      "outputs": []
    },
    {
      "metadata": {
        "id": "0YUzOxo_lvcl",
        "colab_type": "code",
        "outputId": "3d0e666e-e17a-4d64-d8d2-aa9dc8f9d042",
        "colab": {
          "base_uri": "https://localhost:8080/",
          "height": 72
        }
      },
      "cell_type": "code",
      "source": [
        "print(\"\\n\".join(learn.predict(TEXT, N_WORDS, temperature=0.75) for _ in range(N_SENTENCES)))"
      ],
      "execution_count": 31,
      "outputs": [
        {
          "output_type": "stream",
          "text": [
            "I liked this movie because i love movies that i do n't like to do . i did n't like it , but i loved it . i thought it was a good movie , but it had a good story , good story ,\n",
            "I liked this movie because it was well made . The original was the most beautiful , New York in the Big Apple , even if it was one of the small , and beautiful women in the movie .\n"
          ],
          "name": "stdout"
        }
      ]
    },
    {
      "metadata": {
        "id": "1yXR0H5tmLtg",
        "colab_type": "code",
        "colab": {}
      },
      "cell_type": "code",
      "source": [
        "learn.save_encoder('fine_tuned_enc')"
      ],
      "execution_count": 0,
      "outputs": []
    },
    {
      "metadata": {
        "id": "lLopxIokmRtg",
        "colab_type": "code",
        "colab": {}
      },
      "cell_type": "code",
      "source": [
        "path = untar_data(URLs.IMDB)"
      ],
      "execution_count": 0,
      "outputs": []
    },
    {
      "metadata": {
        "id": "yXouGo2mmUyv",
        "colab_type": "code",
        "colab": {}
      },
      "cell_type": "code",
      "source": [
        "data_clas = (TextList.from_folder(path, vocab=data_lm.vocab)\n",
        "             #grab all the text files in path\n",
        "             .split_by_folder(valid='test')\n",
        "             #split by train and valid folder (that only keeps 'train' and 'test' so no need to filter)\n",
        "             .label_from_folder(classes=['neg', 'pos'])\n",
        "             #label them all with their folders\n",
        "             .databunch(bs=bs))\n",
        "\n",
        "data_clas.save('data_clas.pkl')"
      ],
      "execution_count": 0,
      "outputs": []
    },
    {
      "metadata": {
        "id": "VPMFTHgpngpZ",
        "colab_type": "code",
        "colab": {}
      },
      "cell_type": "code",
      "source": [
        "data_clas = load_data(path, 'data_clas.pkl', bs=bs)"
      ],
      "execution_count": 0,
      "outputs": []
    },
    {
      "metadata": {
        "id": "I5dGEUG1nkeq",
        "colab_type": "code",
        "outputId": "33b152d9-61d5-4e25-9b18-1740189fad31",
        "colab": {
          "base_uri": "https://localhost:8080/",
          "height": 323
        }
      },
      "cell_type": "code",
      "source": [
        "data_clas.show_batch()"
      ],
      "execution_count": 36,
      "outputs": [
        {
          "output_type": "display_data",
          "data": {
            "text/html": [
              "<table border=\"1\" class=\"dataframe\">\n",
              "  <thead>\n",
              "    <tr style=\"text-align: right;\">\n",
              "      <th>text</th>\n",
              "      <th>target</th>\n",
              "    </tr>\n",
              "  </thead>\n",
              "  <tbody>\n",
              "    <tr>\n",
              "      <td>xxbos xxmaj match 1 : xxmaj tag xxmaj team xxmaj table xxmaj match xxmaj bubba xxmaj ray and xxmaj spike xxmaj dudley vs xxmaj eddie xxmaj guerrero and xxmaj chris xxmaj benoit xxmaj bubba xxmaj ray and xxmaj spike xxmaj dudley started things off with a xxmaj tag xxmaj team xxmaj table xxmaj match against xxmaj eddie xxmaj guerrero and xxmaj chris xxmaj benoit . xxmaj according to the rules</td>\n",
              "      <td>pos</td>\n",
              "    </tr>\n",
              "    <tr>\n",
              "      <td>xxbos xxmaj some have praised xxunk :- xxmaj the xxmaj lost xxmaj xxunk as a xxmaj disney adventure for adults . i do n't think so -- at least not for thinking adults . \\n \\n  xxmaj this script suggests a beginning as a live - action movie , that struck someone as the type of crap you can not sell to adults anymore . xxmaj the \" crack</td>\n",
              "      <td>neg</td>\n",
              "    </tr>\n",
              "    <tr>\n",
              "      <td>xxbos * * * xxmaj warning - this review contains \" plot spoilers , \" though nothing could \" spoil \" this movie any more than it already is . xxmaj it really xxup is that bad . * * * \\n \\n  xxmaj before i begin , i 'd like to let everyone know that this definitely is one of those so - incredibly - bad - that</td>\n",
              "      <td>neg</td>\n",
              "    </tr>\n",
              "    <tr>\n",
              "      <td>xxbos xxmaj okay , so i 'm not a big video game buff , but was the game xxmaj house of the xxmaj dead really famous enough to make a movie from ? xxmaj sure , they went as far as to actually put in quick video game clips throughout the movie , as though justifying any particular scene of violence , but there are dozens and dozens of games</td>\n",
              "      <td>neg</td>\n",
              "    </tr>\n",
              "    <tr>\n",
              "      <td>xxbos xxup the xxup shop xxup around xxup the xxup corner is one of the sweetest and most feel - good romantic comedies ever made . xxmaj there 's just no getting around that , and it 's hard to actually put one 's feeling for this film into words . xxmaj it 's not one of those films that tries too hard , nor does it come up with</td>\n",
              "      <td>pos</td>\n",
              "    </tr>\n",
              "  </tbody>\n",
              "</table>"
            ],
            "text/plain": [
              "<IPython.core.display.HTML object>"
            ]
          },
          "metadata": {
            "tags": []
          }
        }
      ]
    },
    {
      "metadata": {
        "id": "VFZgFWN1noKu",
        "colab_type": "code",
        "colab": {}
      },
      "cell_type": "code",
      "source": [
        "learn = text_classifier_learner(data_clas, AWD_LSTM, drop_mult=0.5)\n",
        "learn.load_encoder('fine_tuned_enc')"
      ],
      "execution_count": 0,
      "outputs": []
    },
    {
      "metadata": {
        "id": "sQg2Z1C9nvJI",
        "colab_type": "code",
        "outputId": "359b320d-80e4-431b-a130-98405b4ec267",
        "colab": {
          "base_uri": "https://localhost:8080/",
          "height": 35
        }
      },
      "cell_type": "code",
      "source": [
        "learn.lr_find()"
      ],
      "execution_count": 38,
      "outputs": [
        {
          "output_type": "display_data",
          "data": {
            "text/html": [
              ""
            ],
            "text/plain": [
              "<IPython.core.display.HTML object>"
            ]
          },
          "metadata": {
            "tags": []
          }
        },
        {
          "output_type": "stream",
          "text": [
            "LR Finder is complete, type {learner_name}.recorder.plot() to see the graph.\n"
          ],
          "name": "stdout"
        }
      ]
    },
    {
      "metadata": {
        "id": "yaiKf9gcoIPv",
        "colab_type": "code",
        "colab": {
          "base_uri": "https://localhost:8080/",
          "height": 283
        },
        "outputId": "e534859b-2fac-4f80-ccad-fd3e6c91e108"
      },
      "cell_type": "code",
      "source": [
        "learn.recorder.plot()"
      ],
      "execution_count": 39,
      "outputs": [
        {
          "output_type": "display_data",
          "data": {
            "image/png": "[encoded data removed]",
            "text/plain": [
              "<Figure size 432x288 with 1 Axes>"
            ]
          },
          "metadata": {
            "tags": []
          }
        }
      ]
    },
    {
      "metadata": {
        "id": "fO2K2PAgoMKj",
        "colab_type": "code",
        "outputId": "37a00eed-116e-47d4-ec0d-05dbec7cee7a",
        "colab": {
          "base_uri": "https://localhost:8080/",
          "height": 103
        }
      },
      "cell_type": "code",
      "source": [
        "learn.fit_one_cycle(1, 2e-2, moms=(0.8,0.7))"
      ],
      "execution_count": 40,
      "outputs": [
        {
          "output_type": "display_data",
          "data": {
            "text/html": [
              "Total time: 10:40 <p><table border=\"1\" class=\"dataframe\">\n",
              "  <thead>\n",
              "    <tr style=\"text-align: left;\">\n",
              "      <th>epoch</th>\n",
              "      <th>train_loss</th>\n",
              "      <th>valid_loss</th>\n",
              "      <th>accuracy</th>\n",
              "      <th>time</th>\n",
              "    </tr>\n",
              "  </thead>\n",
              "  <tbody>\n",
              "    <tr>\n",
              "      <td>0</td>\n",
              "      <td>0.347614</td>\n",
              "      <td>0.270374</td>\n",
              "      <td>0.888520</td>\n",
              "      <td>10:40</td>\n",
              "    </tr>\n",
              "  </tbody>\n",
              "</table>"
            ],
            "text/plain": [
              "<IPython.core.display.HTML object>"
            ]
          },
          "metadata": {
            "tags": []
          }
        }
      ]
    },
    {
      "metadata": {
        "id": "Qm89F8uTB_HH",
        "colab_type": "code",
        "colab": {}
      },
      "cell_type": "code",
      "source": [
        "learn.save('first')"
      ],
      "execution_count": 0,
      "outputs": []
    },
    {
      "metadata": {
        "id": "z3MzwNrODMrK",
        "colab_type": "code",
        "outputId": "42b1376b-adcb-4c03-ade0-4de5c1fd51ff",
        "colab": {
          "base_uri": "https://localhost:8080/",
          "height": 4440
        }
      },
      "cell_type": "code",
      "source": [
        "learn.load('first')"
      ],
      "execution_count": 42,
      "outputs": [
        {
          "output_type": "execute_result",
          "data": {
            "text/plain": [
              "RNNLearner(data=TextClasDataBunch;\n",
              "\n",
              "Train: LabelList (25000 items)\n",
              "x: TextList\n",
              "xxbos xxmaj going into a movie like i this , i was expecting absolutely nothing entertaining except for a xxunk of kills xxrep 5 . what i got was even less . \n",
              " \n",
              "  xxmaj christmas eve 1947 a kid witnesses his parents doing it while daddy is in a santa suit . xxmaj horrified , he runs up the stairs and cuts himself . xxmaj the story begins 33 years later and xxmaj harry xxmaj stalling is your normal everyday joe xxrep 5 . xxunk for the fact he 's obsessed with xxmaj santa . xxmaj after his boss makes fun of him he goes insane , dressing up like santa and starts killing non - santa believing patrons and his boss . xxmaj an unruly neighborhood catches up to him and just as they 're about to torch him , he drives his van off a cliff xxrep 5 . into the moon . xxmaj not the best ending i 've seen but it was original . \n",
              " \n",
              "  xxmaj it was a slow paced , boring movie that really had no redeeming quality except when xxmaj harry went xxunk on the church goers . xxmaj there was hardly any gore and even the \" sex \" scenes were toned down . \n",
              " \n",
              "  xxmaj too boring xxrep 6 . 4 out of 10,xxbos xxmaj it is such a strange movie , you can call it awful or if you sit with friends it can give you a killer laugh - athon . xxmaj strange comes to mind again and again . xxmaj shot amateurishly , acted even worse and the directions , maybe none . xxmaj the special effects are funny but the music accompanying a flying demon baby will surely be the biggest hit . xxmaj see it if you got time to kill . xxmaj but do n't , do n't even try to take it seriously . xxmaj supposed to be a tribute to ' xxmaj porno holocaust ' , . xxmaj since i have n't seen it , from the tribute i can assume it to be as bad . xxmaj should have given it 1 / 10 , but it did give me a good laugh or two , so it gets a 3 . xxmaj excessive gore , the only thing somebody worked on . xxmaj stay away if you are squeamish , more gore than laughs . xxmaj wonder if the makers had a laugh making it ?,xxbos xxmaj honestly , i was disappointed in \" xxmaj expiration xxmaj date . \" xxmaj super clever title and interesting premise , but i do n't think it delivered . xxmaj what was it about ? xxmaj the main character 's desire to reconnect with his xxmaj native roots ? xxmaj or , more likely , it was his need to overcome his fear of death . xxmaj but , he was n't set up as someone who has lived his life in fear -- it seems as if his life was going fine , but since doomsday is approaching he should now start worrying . i did n't buy it . xxmaj meanwhile , the supporting characters in the film did n't seem to have needs that blended into an overarching story . xxmaj they were all just doing their thing , running parallel to the main character . xxmaj also , what was treated as a \" curse \" looked more like a coincidence . xxmaj who cursed the family ? xxmaj why ? xxmaj when ? xxmaj finally , why did n't he just plan on staying in his apartment all day on his birthday ? xxmaj those are my criticisms , but i did love the shots of xxmaj seattle , cinematography was beautiful , acting was good in the times it was n't outstanding .,xxbos i 'm not a regular viewer of xxmaj springer 's , but i do watch his show in glimpses and i think the show is a fine guilty pleasure and a good way to kill some time . xxmaj so naturally , i 'm going to watch this movie expecting to see \" xxmaj jerry xxmaj springer xxmaj uncensored . \" xxmaj first of all , xxmaj jerry appears in approximately twenty minutes of the film 's running time . xxmaj the other hour and twenty minutes is spent building up this pseudo - farce about trailer - trash , jealousy , incest and deception . xxmaj jaime xxmaj pressley ( who looks hot as xxup he xxrep 4 l ) is a trailer - trash slut who sleeps with her stepfather ( a very unusual - looking , chain - smoking , drunken xxmaj michael xxmaj dudikoff who finally strays from his action hero persona ) . xxmaj the mom finds out about the affair , they get into a fight , they want to take it to the \" xxmaj jerry \" show ( that 's right , no xxmaj springer ) . xxmaj and then we have a parallel story with an xxmaj african - xxmaj american couple . xxmaj they take it to the \" xxmaj jerry \" show . xxmaj the characters collide . xxmaj blah , blah , freakin ' blah ! xxmaj trash has rarely been this xxup xxunk xxrep 4 ! i was wondering why the hell xxmaj springer has millions of fans , yet none of them checked out his movie . xxmaj well , now it 's xxup totally obvious ! ! xxmaj whether you love him or hate him , you will hate this movie ! xxmaj how can i explain ? xxmaj it 's a total mess of a motion picture ( if that 's what you call it ) . xxmaj it 's so badly edited , with scenes that just do n't connect , and after a period of time the plot virtually disappears and it 's simply all over the map ! xxmaj just imagine a predictable soap opera transformed into a comic farce . xxmaj with seldom laughs . \n",
              " \n",
              "  xxmaj my only positive note is a hot girl - girl scene . xxmaj that 's as risque as it gets . xxmaj do n't get me wrong , the scene 's pretty risque , but if you look at the overall film comparing it to the material on xxmaj springer 's program -- this disastrous farce seems extremely sanitized . \n",
              " \n",
              "  xxmaj my score : 3 ( out of 10 ),xxbos xxmaj they 're showing this on some off - network . xxmaj it 's well crap . xxmaj while it is not as bad as the b - movies they show on the xxmaj sci - fi network on xxmaj saturdays but still a fairly large pile of crap . xxmaj the acting is passable . xxmaj the plot and writing are fairly sub - standard and the pacing is entirely too slow . xxmaj every minute of the movie feels like the part of the movie where they 're wrapping things up before the credits - not the peak of the movie , the denouement . xxmaj also , large portions of the cast look way to old for the age range they 're playing . xxmaj the whole thing is predictable , boring and not worthy of being watched . xxmaj save your time . xxmaj it 's not even worth the time it takes to watch it for free .\n",
              "y: CategoryList\n",
              "neg,neg,neg,neg,neg\n",
              "Path: /root/.fastai/data/imdb;\n",
              "\n",
              "Valid: LabelList (25000 items)\n",
              "x: TextList\n",
              "xxbos xxmaj as i do n't have a xxup tv , and had never heard of this mini - series , i did n't know what to expect from xxmaj the xxmaj second xxmaj coming and hired it purely on the strength of its plot synopsis , which sounded interesting . \n",
              " \n",
              "  xxmaj dear xxmaj god ! ( xxmaj every pun intended . ) xxmaj if someone told me that this had been written by a class of thirteen year olds who had been given the project of turning the second coming into a school play i would n't have been surprised . \n",
              " \n",
              "  xxmaj why , oh why did they decide to portray xxmaj jesus mark xxup ii as what amounted to an idiot savant ? xxmaj is there anything in any of the gospels to suggest this ? xxmaj okay , an ordinary bloke , but a xxmaj great xxmaj northern xxmaj moron . i do n't think so . \n",
              " \n",
              "  xxmaj apparently all xxmaj jesus did to impress people was his miracles , because according to this take his preaching sure as hell never impressed anyone . xxmaj certainly without the night into day stunt xxmaj mr xxmaj jesus xxmaj eccleston would have been floundering without a canoe , a paddle or any kind of following at all . \n",
              " \n",
              "  xxmaj and the odd little gay polemics put in willy - nilly , without rhyme or reason . xxmaj other than , of course , xxmaj russell waving to his xxup xxunk fan base . xxmaj jesus turns up in the pub to recruit ' disciples ' ( more gormless xxmaj northern losers and , of course , the gay writer 's standby - the harpy woman , nag , nag , nagging away ) . xxmaj gay rights are rammed down his throat to no real purpose , almost like xxmaj russell thought he ' owed it to the lads ' to put xxmaj jesus on the spot . \n",
              " \n",
              "  i ca n't really see the real xxmaj jesus coming out with \" xxmaj well , i 've nothing against it personally , mate . \" xxmaj only someone truly middle class and woolly could imagine xxmaj jesus to be quite this wet . \n",
              " \n",
              "  xxmaj and do n't start me on the ending . ' xxmaj please come in and eat rat poison because the only way we can be truly free is if xxmaj god dies ' . \n",
              " \n",
              "  xxmaj it was like an xxmaj eddie xxmaj izzard sketch of xxmaj god as xxmaj bill xxmaj gates . \" xxmaj hello , i 'm xxmaj bill xxmaj gates , and now you 've pointed out to me that my global domination is xxunk your style i 'm going to give it all to you , my customers . \" xxmaj and eat the rat poison , of course . \n",
              " \n",
              "  i 'm often mystified by the ratings on imdb , but the high rating on this one takes the biscuit . \n",
              " \n",
              "  xxmaj never mind xxmaj jesus for the new millennium - this is xxmaj jesus for brainless xxup mtv lads . \n",
              " \n",
              "  xxmaj god help us all indeed .,xxbos xxmaj this movie is over hyped ! ! i am sad to say that i manage to watch the first 15 minutes of this movie and anything beyond that , i will have to force myself real hard to sit down and watch the rest of the movie . xxmaj it 's totally stupid and very fake . xxmaj the robot in the movie looks like a man wearing those steel suit and the acting is really bad especially the one playing the character xxmaj alien . xxmaj he is totally annoying ! ! xxmaj do n't waste your money watching this sequel to the popular xxmaj gen - x xxmaj cops . i 'd rather sleep or spend my money on some other things rather than watching this movie . 1 out of 10 . xxmaj if possible , xxmaj i'd give 0 .,xxbos i first read about the xxmaj left xxmaj behind series a few months ago and made a mental note to check it out since i have an interest in the way religion is used to control people in our ever more hate filled world , so imagine my surprise and joy when i found a copy of xxmaj left xxmaj behind : xxmaj world at xxmaj war in my local library , xxunk innocently among the big budget action movies . \n",
              " \n",
              "  xxmaj now as a movie it 's extremely poor . xxmaj the acting is straight out of an elementary school production and the \" special effects \" would have looked dated in the early 90 's . xxmaj being the third part of a series the story would be unintelligible to anyone who had n't seen or read about the other xxmaj left xxmaj behind movies , and even with my prior knowledge it was still pretty laughable . \n",
              " \n",
              "  xxmaj on the religious front , i do n't think anyone who was n't already filled with the spirit of the lord would find anything in the movie to convince them to change their ways . xxmaj how are you supposed to fear the xxmaj antichrist when he 's got a comedy xxmaj russian accent , and the worst of his powers are some pitiful xxup cgi ? \n",
              " \n",
              "  xxmaj however , my main problem with this movie is the blatant attempt to try and dupe people into believing that it 's a big budget action movie . xxmaj upon picking up the box and reading the spiel i immediately noticed something odd ... nowhere on the packaging was there a mention of the true nature of this film . xxmaj to someone not in the know it would appear for all intents and purposed that xxmaj left xxmaj behind : xxmaj world at xxmaj war was no different from the latest xxmaj tom xxmaj xxunk . xxmaj nor , on the copy that i rented did it say anything about it being the third in a series . \n",
              " \n",
              "  xxmaj considering the whole premise of the series is that the xxmaj antichrist has deceived the whole world , i find it extremely hypocritical that the film makers tried to deceive me xxup twice before i even got the to counter ! xxmaj if you 're so firm in your beliefs then why not be honest about it ? \n",
              " \n",
              "  xxmaj the simple fact is , had this not been a \" xxmaj christian \" movie with the built in fan base that goes with it , i seriously doubt it would ever have seen the light of day . xxmaj if xxmaj cloud xxmaj ten were hoping that i 'd see the error of my ways and give myself to xxmaj god , i 'm afraid to say i would have died of boredom and / or laughed myself to death before i ever had the chance .,xxbos xxmaj do n't waste your time and money on it . xxmaj it 's not quite as bad as \" xxmaj adrenalin \" , by the same director but that 's not saying much .,xxbos xxmaj oh , my . xxmaj poor xxmaj jane must have done the old rolling - over - in - the - grave thing . xxmaj even allowing for poor production values for the time ( 1971 ) and the format ( some kind of mini - series ) , this is b xxrep 6 a d. xxmaj whatever else you do with xxmaj austen , the dialog should sparkle ( even in this , perhaps her most serious work ) , and melodrama should be strictly out of bounds . xxmaj alas , not the case with this production . xxmaj by the time you get to xxmaj anne 's \" xxmaj frederick , xxmaj frederick , xxmaj frederick , \" you 'll either be laughing or crying . xxmaj unless you 're just out to visually \" collect \" all extant films of xxmaj austen 's work , you can skip this one . xxmaj if you do watch it , however , there are small xxunk : xxmaj the actresses playing xxmaj anne 's sisters each do a wonderful job with their roles .\n",
              "y: CategoryList\n",
              "neg,neg,neg,neg,neg\n",
              "Path: /root/.fastai/data/imdb;\n",
              "\n",
              "Test: None, model=SequentialRNN(\n",
              "  (0): MultiBatchEncoder(\n",
              "    (module): AWD_LSTM(\n",
              "      (encoder): Embedding(60003, 400, padding_idx=1)\n",
              "      (encoder_dp): EmbeddingDropout(\n",
              "        (emb): Embedding(60003, 400, padding_idx=1)\n",
              "      )\n",
              "      (rnns): ModuleList(\n",
              "        (0): WeightDropout(\n",
              "          (module): LSTM(400, 1150, batch_first=True)\n",
              "        )\n",
              "        (1): WeightDropout(\n",
              "          (module): LSTM(1150, 1150, batch_first=True)\n",
              "        )\n",
              "        (2): WeightDropout(\n",
              "          (module): LSTM(1150, 400, batch_first=True)\n",
              "        )\n",
              "      )\n",
              "      (input_dp): RNNDropout()\n",
              "      (hidden_dps): ModuleList(\n",
              "        (0): RNNDropout()\n",
              "        (1): RNNDropout()\n",
              "        (2): RNNDropout()\n",
              "      )\n",
              "    )\n",
              "  )\n",
              "  (1): PoolingLinearClassifier(\n",
              "    (layers): Sequential(\n",
              "      (0): BatchNorm1d(1200, eps=1e-05, momentum=0.1, affine=True, track_running_stats=True)\n",
              "      (1): Dropout(p=0.2)\n",
              "      (2): Linear(in_features=1200, out_features=50, bias=True)\n",
              "      (3): ReLU(inplace)\n",
              "      (4): BatchNorm1d(50, eps=1e-05, momentum=0.1, affine=True, track_running_stats=True)\n",
              "      (5): Dropout(p=0.1)\n",
              "      (6): Linear(in_features=50, out_features=2, bias=True)\n",
              "    )\n",
              "  )\n",
              "), opt_func=functools.partial(<class 'torch.optim.adam.Adam'>, betas=(0.9, 0.99)), loss_func=FlattenedLoss of CrossEntropyLoss(), metrics=[<function accuracy at 0x7f6a3454dc80>], true_wd=True, bn_wd=True, wd=0.01, train_bn=True, path=PosixPath('/root/.fastai/data/imdb'), model_dir='models', callback_fns=[functools.partial(<class 'fastai.basic_train.Recorder'>, add_time=True)], callbacks=[RNNTrainer\n",
              "learn: RNNLearner(data=TextClasDataBunch;\n",
              "\n",
              "Train: LabelList (25000 items)\n",
              "x: TextList\n",
              "xxbos xxmaj going into a movie like i this , i was expecting absolutely nothing entertaining except for a xxunk of kills xxrep 5 . what i got was even less . \n",
              " \n",
              "  xxmaj christmas eve 1947 a kid witnesses his parents doing it while daddy is in a santa suit . xxmaj horrified , he runs up the stairs and cuts himself . xxmaj the story begins 33 years later and xxmaj harry xxmaj stalling is your normal everyday joe xxrep 5 . xxunk for the fact he 's obsessed with xxmaj santa . xxmaj after his boss makes fun of him he goes insane , dressing up like santa and starts killing non - santa believing patrons and his boss . xxmaj an unruly neighborhood catches up to him and just as they 're about to torch him , he drives his van off a cliff xxrep 5 . into the moon . xxmaj not the best ending i 've seen but it was original . \n",
              " \n",
              "  xxmaj it was a slow paced , boring movie that really had no redeeming quality except when xxmaj harry went xxunk on the church goers . xxmaj there was hardly any gore and even the \" sex \" scenes were toned down . \n",
              " \n",
              "  xxmaj too boring xxrep 6 . 4 out of 10,xxbos xxmaj it is such a strange movie , you can call it awful or if you sit with friends it can give you a killer laugh - athon . xxmaj strange comes to mind again and again . xxmaj shot amateurishly , acted even worse and the directions , maybe none . xxmaj the special effects are funny but the music accompanying a flying demon baby will surely be the biggest hit . xxmaj see it if you got time to kill . xxmaj but do n't , do n't even try to take it seriously . xxmaj supposed to be a tribute to ' xxmaj porno holocaust ' , . xxmaj since i have n't seen it , from the tribute i can assume it to be as bad . xxmaj should have given it 1 / 10 , but it did give me a good laugh or two , so it gets a 3 . xxmaj excessive gore , the only thing somebody worked on . xxmaj stay away if you are squeamish , more gore than laughs . xxmaj wonder if the makers had a laugh making it ?,xxbos xxmaj honestly , i was disappointed in \" xxmaj expiration xxmaj date . \" xxmaj super clever title and interesting premise , but i do n't think it delivered . xxmaj what was it about ? xxmaj the main character 's desire to reconnect with his xxmaj native roots ? xxmaj or , more likely , it was his need to overcome his fear of death . xxmaj but , he was n't set up as someone who has lived his life in fear -- it seems as if his life was going fine , but since doomsday is approaching he should now start worrying . i did n't buy it . xxmaj meanwhile , the supporting characters in the film did n't seem to have needs that blended into an overarching story . xxmaj they were all just doing their thing , running parallel to the main character . xxmaj also , what was treated as a \" curse \" looked more like a coincidence . xxmaj who cursed the family ? xxmaj why ? xxmaj when ? xxmaj finally , why did n't he just plan on staying in his apartment all day on his birthday ? xxmaj those are my criticisms , but i did love the shots of xxmaj seattle , cinematography was beautiful , acting was good in the times it was n't outstanding .,xxbos i 'm not a regular viewer of xxmaj springer 's , but i do watch his show in glimpses and i think the show is a fine guilty pleasure and a good way to kill some time . xxmaj so naturally , i 'm going to watch this movie expecting to see \" xxmaj jerry xxmaj springer xxmaj uncensored . \" xxmaj first of all , xxmaj jerry appears in approximately twenty minutes of the film 's running time . xxmaj the other hour and twenty minutes is spent building up this pseudo - farce about trailer - trash , jealousy , incest and deception . xxmaj jaime xxmaj pressley ( who looks hot as xxup he xxrep 4 l ) is a trailer - trash slut who sleeps with her stepfather ( a very unusual - looking , chain - smoking , drunken xxmaj michael xxmaj dudikoff who finally strays from his action hero persona ) . xxmaj the mom finds out about the affair , they get into a fight , they want to take it to the \" xxmaj jerry \" show ( that 's right , no xxmaj springer ) . xxmaj and then we have a parallel story with an xxmaj african - xxmaj american couple . xxmaj they take it to the \" xxmaj jerry \" show . xxmaj the characters collide . xxmaj blah , blah , freakin ' blah ! xxmaj trash has rarely been this xxup xxunk xxrep 4 ! i was wondering why the hell xxmaj springer has millions of fans , yet none of them checked out his movie . xxmaj well , now it 's xxup totally obvious ! ! xxmaj whether you love him or hate him , you will hate this movie ! xxmaj how can i explain ? xxmaj it 's a total mess of a motion picture ( if that 's what you call it ) . xxmaj it 's so badly edited , with scenes that just do n't connect , and after a period of time the plot virtually disappears and it 's simply all over the map ! xxmaj just imagine a predictable soap opera transformed into a comic farce . xxmaj with seldom laughs . \n",
              " \n",
              "  xxmaj my only positive note is a hot girl - girl scene . xxmaj that 's as risque as it gets . xxmaj do n't get me wrong , the scene 's pretty risque , but if you look at the overall film comparing it to the material on xxmaj springer 's program -- this disastrous farce seems extremely sanitized . \n",
              " \n",
              "  xxmaj my score : 3 ( out of 10 ),xxbos xxmaj they 're showing this on some off - network . xxmaj it 's well crap . xxmaj while it is not as bad as the b - movies they show on the xxmaj sci - fi network on xxmaj saturdays but still a fairly large pile of crap . xxmaj the acting is passable . xxmaj the plot and writing are fairly sub - standard and the pacing is entirely too slow . xxmaj every minute of the movie feels like the part of the movie where they 're wrapping things up before the credits - not the peak of the movie , the denouement . xxmaj also , large portions of the cast look way to old for the age range they 're playing . xxmaj the whole thing is predictable , boring and not worthy of being watched . xxmaj save your time . xxmaj it 's not even worth the time it takes to watch it for free .\n",
              "y: CategoryList\n",
              "neg,neg,neg,neg,neg\n",
              "Path: /root/.fastai/data/imdb;\n",
              "\n",
              "Valid: LabelList (25000 items)\n",
              "x: TextList\n",
              "xxbos xxmaj as i do n't have a xxup tv , and had never heard of this mini - series , i did n't know what to expect from xxmaj the xxmaj second xxmaj coming and hired it purely on the strength of its plot synopsis , which sounded interesting . \n",
              " \n",
              "  xxmaj dear xxmaj god ! ( xxmaj every pun intended . ) xxmaj if someone told me that this had been written by a class of thirteen year olds who had been given the project of turning the second coming into a school play i would n't have been surprised . \n",
              " \n",
              "  xxmaj why , oh why did they decide to portray xxmaj jesus mark xxup ii as what amounted to an idiot savant ? xxmaj is there anything in any of the gospels to suggest this ? xxmaj okay , an ordinary bloke , but a xxmaj great xxmaj northern xxmaj moron . i do n't think so . \n",
              " \n",
              "  xxmaj apparently all xxmaj jesus did to impress people was his miracles , because according to this take his preaching sure as hell never impressed anyone . xxmaj certainly without the night into day stunt xxmaj mr xxmaj jesus xxmaj eccleston would have been floundering without a canoe , a paddle or any kind of following at all . \n",
              " \n",
              "  xxmaj and the odd little gay polemics put in willy - nilly , without rhyme or reason . xxmaj other than , of course , xxmaj russell waving to his xxup xxunk fan base . xxmaj jesus turns up in the pub to recruit ' disciples ' ( more gormless xxmaj northern losers and , of course , the gay writer 's standby - the harpy woman , nag , nag , nagging away ) . xxmaj gay rights are rammed down his throat to no real purpose , almost like xxmaj russell thought he ' owed it to the lads ' to put xxmaj jesus on the spot . \n",
              " \n",
              "  i ca n't really see the real xxmaj jesus coming out with \" xxmaj well , i 've nothing against it personally , mate . \" xxmaj only someone truly middle class and woolly could imagine xxmaj jesus to be quite this wet . \n",
              " \n",
              "  xxmaj and do n't start me on the ending . ' xxmaj please come in and eat rat poison because the only way we can be truly free is if xxmaj god dies ' . \n",
              " \n",
              "  xxmaj it was like an xxmaj eddie xxmaj izzard sketch of xxmaj god as xxmaj bill xxmaj gates . \" xxmaj hello , i 'm xxmaj bill xxmaj gates , and now you 've pointed out to me that my global domination is xxunk your style i 'm going to give it all to you , my customers . \" xxmaj and eat the rat poison , of course . \n",
              " \n",
              "  i 'm often mystified by the ratings on imdb , but the high rating on this one takes the biscuit . \n",
              " \n",
              "  xxmaj never mind xxmaj jesus for the new millennium - this is xxmaj jesus for brainless xxup mtv lads . \n",
              " \n",
              "  xxmaj god help us all indeed .,xxbos xxmaj this movie is over hyped ! ! i am sad to say that i manage to watch the first 15 minutes of this movie and anything beyond that , i will have to force myself real hard to sit down and watch the rest of the movie . xxmaj it 's totally stupid and very fake . xxmaj the robot in the movie looks like a man wearing those steel suit and the acting is really bad especially the one playing the character xxmaj alien . xxmaj he is totally annoying ! ! xxmaj do n't waste your money watching this sequel to the popular xxmaj gen - x xxmaj cops . i 'd rather sleep or spend my money on some other things rather than watching this movie . 1 out of 10 . xxmaj if possible , xxmaj i'd give 0 .,xxbos i first read about the xxmaj left xxmaj behind series a few months ago and made a mental note to check it out since i have an interest in the way religion is used to control people in our ever more hate filled world , so imagine my surprise and joy when i found a copy of xxmaj left xxmaj behind : xxmaj world at xxmaj war in my local library , xxunk innocently among the big budget action movies . \n",
              " \n",
              "  xxmaj now as a movie it 's extremely poor . xxmaj the acting is straight out of an elementary school production and the \" special effects \" would have looked dated in the early 90 's . xxmaj being the third part of a series the story would be unintelligible to anyone who had n't seen or read about the other xxmaj left xxmaj behind movies , and even with my prior knowledge it was still pretty laughable . \n",
              " \n",
              "  xxmaj on the religious front , i do n't think anyone who was n't already filled with the spirit of the lord would find anything in the movie to convince them to change their ways . xxmaj how are you supposed to fear the xxmaj antichrist when he 's got a comedy xxmaj russian accent , and the worst of his powers are some pitiful xxup cgi ? \n",
              " \n",
              "  xxmaj however , my main problem with this movie is the blatant attempt to try and dupe people into believing that it 's a big budget action movie . xxmaj upon picking up the box and reading the spiel i immediately noticed something odd ... nowhere on the packaging was there a mention of the true nature of this film . xxmaj to someone not in the know it would appear for all intents and purposed that xxmaj left xxmaj behind : xxmaj world at xxmaj war was no different from the latest xxmaj tom xxmaj xxunk . xxmaj nor , on the copy that i rented did it say anything about it being the third in a series . \n",
              " \n",
              "  xxmaj considering the whole premise of the series is that the xxmaj antichrist has deceived the whole world , i find it extremely hypocritical that the film makers tried to deceive me xxup twice before i even got the to counter ! xxmaj if you 're so firm in your beliefs then why not be honest about it ? \n",
              " \n",
              "  xxmaj the simple fact is , had this not been a \" xxmaj christian \" movie with the built in fan base that goes with it , i seriously doubt it would ever have seen the light of day . xxmaj if xxmaj cloud xxmaj ten were hoping that i 'd see the error of my ways and give myself to xxmaj god , i 'm afraid to say i would have died of boredom and / or laughed myself to death before i ever had the chance .,xxbos xxmaj do n't waste your time and money on it . xxmaj it 's not quite as bad as \" xxmaj adrenalin \" , by the same director but that 's not saying much .,xxbos xxmaj oh , my . xxmaj poor xxmaj jane must have done the old rolling - over - in - the - grave thing . xxmaj even allowing for poor production values for the time ( 1971 ) and the format ( some kind of mini - series ) , this is b xxrep 6 a d. xxmaj whatever else you do with xxmaj austen , the dialog should sparkle ( even in this , perhaps her most serious work ) , and melodrama should be strictly out of bounds . xxmaj alas , not the case with this production . xxmaj by the time you get to xxmaj anne 's \" xxmaj frederick , xxmaj frederick , xxmaj frederick , \" you 'll either be laughing or crying . xxmaj unless you 're just out to visually \" collect \" all extant films of xxmaj austen 's work , you can skip this one . xxmaj if you do watch it , however , there are small xxunk : xxmaj the actresses playing xxmaj anne 's sisters each do a wonderful job with their roles .\n",
              "y: CategoryList\n",
              "neg,neg,neg,neg,neg\n",
              "Path: /root/.fastai/data/imdb;\n",
              "\n",
              "Test: None, model=SequentialRNN(\n",
              "  (0): MultiBatchEncoder(\n",
              "    (module): AWD_LSTM(\n",
              "      (encoder): Embedding(60003, 400, padding_idx=1)\n",
              "      (encoder_dp): EmbeddingDropout(\n",
              "        (emb): Embedding(60003, 400, padding_idx=1)\n",
              "      )\n",
              "      (rnns): ModuleList(\n",
              "        (0): WeightDropout(\n",
              "          (module): LSTM(400, 1150, batch_first=True)\n",
              "        )\n",
              "        (1): WeightDropout(\n",
              "          (module): LSTM(1150, 1150, batch_first=True)\n",
              "        )\n",
              "        (2): WeightDropout(\n",
              "          (module): LSTM(1150, 400, batch_first=True)\n",
              "        )\n",
              "      )\n",
              "      (input_dp): RNNDropout()\n",
              "      (hidden_dps): ModuleList(\n",
              "        (0): RNNDropout()\n",
              "        (1): RNNDropout()\n",
              "        (2): RNNDropout()\n",
              "      )\n",
              "    )\n",
              "  )\n",
              "  (1): PoolingLinearClassifier(\n",
              "    (layers): Sequential(\n",
              "      (0): BatchNorm1d(1200, eps=1e-05, momentum=0.1, affine=True, track_running_stats=True)\n",
              "      (1): Dropout(p=0.2)\n",
              "      (2): Linear(in_features=1200, out_features=50, bias=True)\n",
              "      (3): ReLU(inplace)\n",
              "      (4): BatchNorm1d(50, eps=1e-05, momentum=0.1, affine=True, track_running_stats=True)\n",
              "      (5): Dropout(p=0.1)\n",
              "      (6): Linear(in_features=50, out_features=2, bias=True)\n",
              "    )\n",
              "  )\n",
              "), opt_func=functools.partial(<class 'torch.optim.adam.Adam'>, betas=(0.9, 0.99)), loss_func=FlattenedLoss of CrossEntropyLoss(), metrics=[<function accuracy at 0x7f6a3454dc80>], true_wd=True, bn_wd=True, wd=0.01, train_bn=True, path=PosixPath('/root/.fastai/data/imdb'), model_dir='models', callback_fns=[functools.partial(<class 'fastai.basic_train.Recorder'>, add_time=True)], callbacks=[...], layer_groups=[Sequential(\n",
              "  (0): Embedding(60003, 400, padding_idx=1)\n",
              "  (1): EmbeddingDropout(\n",
              "    (emb): Embedding(60003, 400, padding_idx=1)\n",
              "  )\n",
              "), Sequential(\n",
              "  (0): WeightDropout(\n",
              "    (module): LSTM(400, 1150, batch_first=True)\n",
              "  )\n",
              "  (1): RNNDropout()\n",
              "), Sequential(\n",
              "  (0): WeightDropout(\n",
              "    (module): LSTM(1150, 1150, batch_first=True)\n",
              "  )\n",
              "  (1): RNNDropout()\n",
              "), Sequential(\n",
              "  (0): WeightDropout(\n",
              "    (module): LSTM(1150, 400, batch_first=True)\n",
              "  )\n",
              "  (1): RNNDropout()\n",
              "), Sequential(\n",
              "  (0): PoolingLinearClassifier(\n",
              "    (layers): Sequential(\n",
              "      (0): BatchNorm1d(1200, eps=1e-05, momentum=0.1, affine=True, track_running_stats=True)\n",
              "      (1): Dropout(p=0.2)\n",
              "      (2): Linear(in_features=1200, out_features=50, bias=True)\n",
              "      (3): ReLU(inplace)\n",
              "      (4): BatchNorm1d(50, eps=1e-05, momentum=0.1, affine=True, track_running_stats=True)\n",
              "      (5): Dropout(p=0.1)\n",
              "      (6): Linear(in_features=50, out_features=2, bias=True)\n",
              "    )\n",
              "  )\n",
              ")], add_time=True)\n",
              "alpha: 2.0\n",
              "beta: 1.0], layer_groups=[Sequential(\n",
              "  (0): Embedding(60003, 400, padding_idx=1)\n",
              "  (1): EmbeddingDropout(\n",
              "    (emb): Embedding(60003, 400, padding_idx=1)\n",
              "  )\n",
              "), Sequential(\n",
              "  (0): WeightDropout(\n",
              "    (module): LSTM(400, 1150, batch_first=True)\n",
              "  )\n",
              "  (1): RNNDropout()\n",
              "), Sequential(\n",
              "  (0): WeightDropout(\n",
              "    (module): LSTM(1150, 1150, batch_first=True)\n",
              "  )\n",
              "  (1): RNNDropout()\n",
              "), Sequential(\n",
              "  (0): WeightDropout(\n",
              "    (module): LSTM(1150, 400, batch_first=True)\n",
              "  )\n",
              "  (1): RNNDropout()\n",
              "), Sequential(\n",
              "  (0): PoolingLinearClassifier(\n",
              "    (layers): Sequential(\n",
              "      (0): BatchNorm1d(1200, eps=1e-05, momentum=0.1, affine=True, track_running_stats=True)\n",
              "      (1): Dropout(p=0.2)\n",
              "      (2): Linear(in_features=1200, out_features=50, bias=True)\n",
              "      (3): ReLU(inplace)\n",
              "      (4): BatchNorm1d(50, eps=1e-05, momentum=0.1, affine=True, track_running_stats=True)\n",
              "      (5): Dropout(p=0.1)\n",
              "      (6): Linear(in_features=50, out_features=2, bias=True)\n",
              "    )\n",
              "  )\n",
              ")], add_time=True)"
            ]
          },
          "metadata": {
            "tags": []
          },
          "execution_count": 42
        }
      ]
    },
    {
      "metadata": {
        "id": "9jEK6yo4DMtB",
        "colab_type": "code",
        "outputId": "d1bcb16e-2705-46e0-ccfc-cd93d53dec2c",
        "colab": {
          "base_uri": "https://localhost:8080/",
          "height": 103
        }
      },
      "cell_type": "code",
      "source": [
        "learn.freeze_to(-2)\n",
        "learn.fit_one_cycle(1, slice(1e-2/(2.6**4),1e-2), moms=(0.8,0.7))"
      ],
      "execution_count": 43,
      "outputs": [
        {
          "output_type": "display_data",
          "data": {
            "text/html": [
              "Total time: 12:54 <p><table border=\"1\" class=\"dataframe\">\n",
              "  <thead>\n",
              "    <tr style=\"text-align: left;\">\n",
              "      <th>epoch</th>\n",
              "      <th>train_loss</th>\n",
              "      <th>valid_loss</th>\n",
              "      <th>accuracy</th>\n",
              "      <th>time</th>\n",
              "    </tr>\n",
              "  </thead>\n",
              "  <tbody>\n",
              "    <tr>\n",
              "      <td>0</td>\n",
              "      <td>0.286626</td>\n",
              "      <td>0.219355</td>\n",
              "      <td>0.913200</td>\n",
              "      <td>12:54</td>\n",
              "    </tr>\n",
              "  </tbody>\n",
              "</table>"
            ],
            "text/plain": [
              "<IPython.core.display.HTML object>"
            ]
          },
          "metadata": {
            "tags": []
          }
        }
      ]
    },
    {
      "metadata": {
        "id": "BlZ6F72IDMwG",
        "colab_type": "code",
        "colab": {}
      },
      "cell_type": "code",
      "source": [
        "learn.save('second')"
      ],
      "execution_count": 0,
      "outputs": []
    },
    {
      "metadata": {
        "colab_type": "code",
        "outputId": "366e5aa7-d301-4488-83d2-b14230710189",
        "id": "WVCeZgHG4bGR",
        "colab": {
          "base_uri": "https://localhost:8080/",
          "height": 4440
        }
      },
      "cell_type": "code",
      "source": [
        "learn.load('second')"
      ],
      "execution_count": 45,
      "outputs": [
        {
          "output_type": "execute_result",
          "data": {
            "text/plain": [
              "RNNLearner(data=TextClasDataBunch;\n",
              "\n",
              "Train: LabelList (25000 items)\n",
              "x: TextList\n",
              "xxbos xxmaj going into a movie like i this , i was expecting absolutely nothing entertaining except for a xxunk of kills xxrep 5 . what i got was even less . \n",
              " \n",
              "  xxmaj christmas eve 1947 a kid witnesses his parents doing it while daddy is in a santa suit . xxmaj horrified , he runs up the stairs and cuts himself . xxmaj the story begins 33 years later and xxmaj harry xxmaj stalling is your normal everyday joe xxrep 5 . xxunk for the fact he 's obsessed with xxmaj santa . xxmaj after his boss makes fun of him he goes insane , dressing up like santa and starts killing non - santa believing patrons and his boss . xxmaj an unruly neighborhood catches up to him and just as they 're about to torch him , he drives his van off a cliff xxrep 5 . into the moon . xxmaj not the best ending i 've seen but it was original . \n",
              " \n",
              "  xxmaj it was a slow paced , boring movie that really had no redeeming quality except when xxmaj harry went xxunk on the church goers . xxmaj there was hardly any gore and even the \" sex \" scenes were toned down . \n",
              " \n",
              "  xxmaj too boring xxrep 6 . 4 out of 10,xxbos xxmaj it is such a strange movie , you can call it awful or if you sit with friends it can give you a killer laugh - athon . xxmaj strange comes to mind again and again . xxmaj shot amateurishly , acted even worse and the directions , maybe none . xxmaj the special effects are funny but the music accompanying a flying demon baby will surely be the biggest hit . xxmaj see it if you got time to kill . xxmaj but do n't , do n't even try to take it seriously . xxmaj supposed to be a tribute to ' xxmaj porno holocaust ' , . xxmaj since i have n't seen it , from the tribute i can assume it to be as bad . xxmaj should have given it 1 / 10 , but it did give me a good laugh or two , so it gets a 3 . xxmaj excessive gore , the only thing somebody worked on . xxmaj stay away if you are squeamish , more gore than laughs . xxmaj wonder if the makers had a laugh making it ?,xxbos xxmaj honestly , i was disappointed in \" xxmaj expiration xxmaj date . \" xxmaj super clever title and interesting premise , but i do n't think it delivered . xxmaj what was it about ? xxmaj the main character 's desire to reconnect with his xxmaj native roots ? xxmaj or , more likely , it was his need to overcome his fear of death . xxmaj but , he was n't set up as someone who has lived his life in fear -- it seems as if his life was going fine , but since doomsday is approaching he should now start worrying . i did n't buy it . xxmaj meanwhile , the supporting characters in the film did n't seem to have needs that blended into an overarching story . xxmaj they were all just doing their thing , running parallel to the main character . xxmaj also , what was treated as a \" curse \" looked more like a coincidence . xxmaj who cursed the family ? xxmaj why ? xxmaj when ? xxmaj finally , why did n't he just plan on staying in his apartment all day on his birthday ? xxmaj those are my criticisms , but i did love the shots of xxmaj seattle , cinematography was beautiful , acting was good in the times it was n't outstanding .,xxbos i 'm not a regular viewer of xxmaj springer 's , but i do watch his show in glimpses and i think the show is a fine guilty pleasure and a good way to kill some time . xxmaj so naturally , i 'm going to watch this movie expecting to see \" xxmaj jerry xxmaj springer xxmaj uncensored . \" xxmaj first of all , xxmaj jerry appears in approximately twenty minutes of the film 's running time . xxmaj the other hour and twenty minutes is spent building up this pseudo - farce about trailer - trash , jealousy , incest and deception . xxmaj jaime xxmaj pressley ( who looks hot as xxup he xxrep 4 l ) is a trailer - trash slut who sleeps with her stepfather ( a very unusual - looking , chain - smoking , drunken xxmaj michael xxmaj dudikoff who finally strays from his action hero persona ) . xxmaj the mom finds out about the affair , they get into a fight , they want to take it to the \" xxmaj jerry \" show ( that 's right , no xxmaj springer ) . xxmaj and then we have a parallel story with an xxmaj african - xxmaj american couple . xxmaj they take it to the \" xxmaj jerry \" show . xxmaj the characters collide . xxmaj blah , blah , freakin ' blah ! xxmaj trash has rarely been this xxup xxunk xxrep 4 ! i was wondering why the hell xxmaj springer has millions of fans , yet none of them checked out his movie . xxmaj well , now it 's xxup totally obvious ! ! xxmaj whether you love him or hate him , you will hate this movie ! xxmaj how can i explain ? xxmaj it 's a total mess of a motion picture ( if that 's what you call it ) . xxmaj it 's so badly edited , with scenes that just do n't connect , and after a period of time the plot virtually disappears and it 's simply all over the map ! xxmaj just imagine a predictable soap opera transformed into a comic farce . xxmaj with seldom laughs . \n",
              " \n",
              "  xxmaj my only positive note is a hot girl - girl scene . xxmaj that 's as risque as it gets . xxmaj do n't get me wrong , the scene 's pretty risque , but if you look at the overall film comparing it to the material on xxmaj springer 's program -- this disastrous farce seems extremely sanitized . \n",
              " \n",
              "  xxmaj my score : 3 ( out of 10 ),xxbos xxmaj they 're showing this on some off - network . xxmaj it 's well crap . xxmaj while it is not as bad as the b - movies they show on the xxmaj sci - fi network on xxmaj saturdays but still a fairly large pile of crap . xxmaj the acting is passable . xxmaj the plot and writing are fairly sub - standard and the pacing is entirely too slow . xxmaj every minute of the movie feels like the part of the movie where they 're wrapping things up before the credits - not the peak of the movie , the denouement . xxmaj also , large portions of the cast look way to old for the age range they 're playing . xxmaj the whole thing is predictable , boring and not worthy of being watched . xxmaj save your time . xxmaj it 's not even worth the time it takes to watch it for free .\n",
              "y: CategoryList\n",
              "neg,neg,neg,neg,neg\n",
              "Path: /root/.fastai/data/imdb;\n",
              "\n",
              "Valid: LabelList (25000 items)\n",
              "x: TextList\n",
              "xxbos xxmaj as i do n't have a xxup tv , and had never heard of this mini - series , i did n't know what to expect from xxmaj the xxmaj second xxmaj coming and hired it purely on the strength of its plot synopsis , which sounded interesting . \n",
              " \n",
              "  xxmaj dear xxmaj god ! ( xxmaj every pun intended . ) xxmaj if someone told me that this had been written by a class of thirteen year olds who had been given the project of turning the second coming into a school play i would n't have been surprised . \n",
              " \n",
              "  xxmaj why , oh why did they decide to portray xxmaj jesus mark xxup ii as what amounted to an idiot savant ? xxmaj is there anything in any of the gospels to suggest this ? xxmaj okay , an ordinary bloke , but a xxmaj great xxmaj northern xxmaj moron . i do n't think so . \n",
              " \n",
              "  xxmaj apparently all xxmaj jesus did to impress people was his miracles , because according to this take his preaching sure as hell never impressed anyone . xxmaj certainly without the night into day stunt xxmaj mr xxmaj jesus xxmaj eccleston would have been floundering without a canoe , a paddle or any kind of following at all . \n",
              " \n",
              "  xxmaj and the odd little gay polemics put in willy - nilly , without rhyme or reason . xxmaj other than , of course , xxmaj russell waving to his xxup xxunk fan base . xxmaj jesus turns up in the pub to recruit ' disciples ' ( more gormless xxmaj northern losers and , of course , the gay writer 's standby - the harpy woman , nag , nag , nagging away ) . xxmaj gay rights are rammed down his throat to no real purpose , almost like xxmaj russell thought he ' owed it to the lads ' to put xxmaj jesus on the spot . \n",
              " \n",
              "  i ca n't really see the real xxmaj jesus coming out with \" xxmaj well , i 've nothing against it personally , mate . \" xxmaj only someone truly middle class and woolly could imagine xxmaj jesus to be quite this wet . \n",
              " \n",
              "  xxmaj and do n't start me on the ending . ' xxmaj please come in and eat rat poison because the only way we can be truly free is if xxmaj god dies ' . \n",
              " \n",
              "  xxmaj it was like an xxmaj eddie xxmaj izzard sketch of xxmaj god as xxmaj bill xxmaj gates . \" xxmaj hello , i 'm xxmaj bill xxmaj gates , and now you 've pointed out to me that my global domination is xxunk your style i 'm going to give it all to you , my customers . \" xxmaj and eat the rat poison , of course . \n",
              " \n",
              "  i 'm often mystified by the ratings on imdb , but the high rating on this one takes the biscuit . \n",
              " \n",
              "  xxmaj never mind xxmaj jesus for the new millennium - this is xxmaj jesus for brainless xxup mtv lads . \n",
              " \n",
              "  xxmaj god help us all indeed .,xxbos xxmaj this movie is over hyped ! ! i am sad to say that i manage to watch the first 15 minutes of this movie and anything beyond that , i will have to force myself real hard to sit down and watch the rest of the movie . xxmaj it 's totally stupid and very fake . xxmaj the robot in the movie looks like a man wearing those steel suit and the acting is really bad especially the one playing the character xxmaj alien . xxmaj he is totally annoying ! ! xxmaj do n't waste your money watching this sequel to the popular xxmaj gen - x xxmaj cops . i 'd rather sleep or spend my money on some other things rather than watching this movie . 1 out of 10 . xxmaj if possible , xxmaj i'd give 0 .,xxbos i first read about the xxmaj left xxmaj behind series a few months ago and made a mental note to check it out since i have an interest in the way religion is used to control people in our ever more hate filled world , so imagine my surprise and joy when i found a copy of xxmaj left xxmaj behind : xxmaj world at xxmaj war in my local library , xxunk innocently among the big budget action movies . \n",
              " \n",
              "  xxmaj now as a movie it 's extremely poor . xxmaj the acting is straight out of an elementary school production and the \" special effects \" would have looked dated in the early 90 's . xxmaj being the third part of a series the story would be unintelligible to anyone who had n't seen or read about the other xxmaj left xxmaj behind movies , and even with my prior knowledge it was still pretty laughable . \n",
              " \n",
              "  xxmaj on the religious front , i do n't think anyone who was n't already filled with the spirit of the lord would find anything in the movie to convince them to change their ways . xxmaj how are you supposed to fear the xxmaj antichrist when he 's got a comedy xxmaj russian accent , and the worst of his powers are some pitiful xxup cgi ? \n",
              " \n",
              "  xxmaj however , my main problem with this movie is the blatant attempt to try and dupe people into believing that it 's a big budget action movie . xxmaj upon picking up the box and reading the spiel i immediately noticed something odd ... nowhere on the packaging was there a mention of the true nature of this film . xxmaj to someone not in the know it would appear for all intents and purposed that xxmaj left xxmaj behind : xxmaj world at xxmaj war was no different from the latest xxmaj tom xxmaj xxunk . xxmaj nor , on the copy that i rented did it say anything about it being the third in a series . \n",
              " \n",
              "  xxmaj considering the whole premise of the series is that the xxmaj antichrist has deceived the whole world , i find it extremely hypocritical that the film makers tried to deceive me xxup twice before i even got the to counter ! xxmaj if you 're so firm in your beliefs then why not be honest about it ? \n",
              " \n",
              "  xxmaj the simple fact is , had this not been a \" xxmaj christian \" movie with the built in fan base that goes with it , i seriously doubt it would ever have seen the light of day . xxmaj if xxmaj cloud xxmaj ten were hoping that i 'd see the error of my ways and give myself to xxmaj god , i 'm afraid to say i would have died of boredom and / or laughed myself to death before i ever had the chance .,xxbos xxmaj do n't waste your time and money on it . xxmaj it 's not quite as bad as \" xxmaj adrenalin \" , by the same director but that 's not saying much .,xxbos xxmaj oh , my . xxmaj poor xxmaj jane must have done the old rolling - over - in - the - grave thing . xxmaj even allowing for poor production values for the time ( 1971 ) and the format ( some kind of mini - series ) , this is b xxrep 6 a d. xxmaj whatever else you do with xxmaj austen , the dialog should sparkle ( even in this , perhaps her most serious work ) , and melodrama should be strictly out of bounds . xxmaj alas , not the case with this production . xxmaj by the time you get to xxmaj anne 's \" xxmaj frederick , xxmaj frederick , xxmaj frederick , \" you 'll either be laughing or crying . xxmaj unless you 're just out to visually \" collect \" all extant films of xxmaj austen 's work , you can skip this one . xxmaj if you do watch it , however , there are small xxunk : xxmaj the actresses playing xxmaj anne 's sisters each do a wonderful job with their roles .\n",
              "y: CategoryList\n",
              "neg,neg,neg,neg,neg\n",
              "Path: /root/.fastai/data/imdb;\n",
              "\n",
              "Test: None, model=SequentialRNN(\n",
              "  (0): MultiBatchEncoder(\n",
              "    (module): AWD_LSTM(\n",
              "      (encoder): Embedding(60003, 400, padding_idx=1)\n",
              "      (encoder_dp): EmbeddingDropout(\n",
              "        (emb): Embedding(60003, 400, padding_idx=1)\n",
              "      )\n",
              "      (rnns): ModuleList(\n",
              "        (0): WeightDropout(\n",
              "          (module): LSTM(400, 1150, batch_first=True)\n",
              "        )\n",
              "        (1): WeightDropout(\n",
              "          (module): LSTM(1150, 1150, batch_first=True)\n",
              "        )\n",
              "        (2): WeightDropout(\n",
              "          (module): LSTM(1150, 400, batch_first=True)\n",
              "        )\n",
              "      )\n",
              "      (input_dp): RNNDropout()\n",
              "      (hidden_dps): ModuleList(\n",
              "        (0): RNNDropout()\n",
              "        (1): RNNDropout()\n",
              "        (2): RNNDropout()\n",
              "      )\n",
              "    )\n",
              "  )\n",
              "  (1): PoolingLinearClassifier(\n",
              "    (layers): Sequential(\n",
              "      (0): BatchNorm1d(1200, eps=1e-05, momentum=0.1, affine=True, track_running_stats=True)\n",
              "      (1): Dropout(p=0.2)\n",
              "      (2): Linear(in_features=1200, out_features=50, bias=True)\n",
              "      (3): ReLU(inplace)\n",
              "      (4): BatchNorm1d(50, eps=1e-05, momentum=0.1, affine=True, track_running_stats=True)\n",
              "      (5): Dropout(p=0.1)\n",
              "      (6): Linear(in_features=50, out_features=2, bias=True)\n",
              "    )\n",
              "  )\n",
              "), opt_func=functools.partial(<class 'torch.optim.adam.Adam'>, betas=(0.9, 0.99)), loss_func=FlattenedLoss of CrossEntropyLoss(), metrics=[<function accuracy at 0x7f6a3454dc80>], true_wd=True, bn_wd=True, wd=0.01, train_bn=True, path=PosixPath('/root/.fastai/data/imdb'), model_dir='models', callback_fns=[functools.partial(<class 'fastai.basic_train.Recorder'>, add_time=True)], callbacks=[RNNTrainer\n",
              "learn: RNNLearner(data=TextClasDataBunch;\n",
              "\n",
              "Train: LabelList (25000 items)\n",
              "x: TextList\n",
              "xxbos xxmaj going into a movie like i this , i was expecting absolutely nothing entertaining except for a xxunk of kills xxrep 5 . what i got was even less . \n",
              " \n",
              "  xxmaj christmas eve 1947 a kid witnesses his parents doing it while daddy is in a santa suit . xxmaj horrified , he runs up the stairs and cuts himself . xxmaj the story begins 33 years later and xxmaj harry xxmaj stalling is your normal everyday joe xxrep 5 . xxunk for the fact he 's obsessed with xxmaj santa . xxmaj after his boss makes fun of him he goes insane , dressing up like santa and starts killing non - santa believing patrons and his boss . xxmaj an unruly neighborhood catches up to him and just as they 're about to torch him , he drives his van off a cliff xxrep 5 . into the moon . xxmaj not the best ending i 've seen but it was original . \n",
              " \n",
              "  xxmaj it was a slow paced , boring movie that really had no redeeming quality except when xxmaj harry went xxunk on the church goers . xxmaj there was hardly any gore and even the \" sex \" scenes were toned down . \n",
              " \n",
              "  xxmaj too boring xxrep 6 . 4 out of 10,xxbos xxmaj it is such a strange movie , you can call it awful or if you sit with friends it can give you a killer laugh - athon . xxmaj strange comes to mind again and again . xxmaj shot amateurishly , acted even worse and the directions , maybe none . xxmaj the special effects are funny but the music accompanying a flying demon baby will surely be the biggest hit . xxmaj see it if you got time to kill . xxmaj but do n't , do n't even try to take it seriously . xxmaj supposed to be a tribute to ' xxmaj porno holocaust ' , . xxmaj since i have n't seen it , from the tribute i can assume it to be as bad . xxmaj should have given it 1 / 10 , but it did give me a good laugh or two , so it gets a 3 . xxmaj excessive gore , the only thing somebody worked on . xxmaj stay away if you are squeamish , more gore than laughs . xxmaj wonder if the makers had a laugh making it ?,xxbos xxmaj honestly , i was disappointed in \" xxmaj expiration xxmaj date . \" xxmaj super clever title and interesting premise , but i do n't think it delivered . xxmaj what was it about ? xxmaj the main character 's desire to reconnect with his xxmaj native roots ? xxmaj or , more likely , it was his need to overcome his fear of death . xxmaj but , he was n't set up as someone who has lived his life in fear -- it seems as if his life was going fine , but since doomsday is approaching he should now start worrying . i did n't buy it . xxmaj meanwhile , the supporting characters in the film did n't seem to have needs that blended into an overarching story . xxmaj they were all just doing their thing , running parallel to the main character . xxmaj also , what was treated as a \" curse \" looked more like a coincidence . xxmaj who cursed the family ? xxmaj why ? xxmaj when ? xxmaj finally , why did n't he just plan on staying in his apartment all day on his birthday ? xxmaj those are my criticisms , but i did love the shots of xxmaj seattle , cinematography was beautiful , acting was good in the times it was n't outstanding .,xxbos i 'm not a regular viewer of xxmaj springer 's , but i do watch his show in glimpses and i think the show is a fine guilty pleasure and a good way to kill some time . xxmaj so naturally , i 'm going to watch this movie expecting to see \" xxmaj jerry xxmaj springer xxmaj uncensored . \" xxmaj first of all , xxmaj jerry appears in approximately twenty minutes of the film 's running time . xxmaj the other hour and twenty minutes is spent building up this pseudo - farce about trailer - trash , jealousy , incest and deception . xxmaj jaime xxmaj pressley ( who looks hot as xxup he xxrep 4 l ) is a trailer - trash slut who sleeps with her stepfather ( a very unusual - looking , chain - smoking , drunken xxmaj michael xxmaj dudikoff who finally strays from his action hero persona ) . xxmaj the mom finds out about the affair , they get into a fight , they want to take it to the \" xxmaj jerry \" show ( that 's right , no xxmaj springer ) . xxmaj and then we have a parallel story with an xxmaj african - xxmaj american couple . xxmaj they take it to the \" xxmaj jerry \" show . xxmaj the characters collide . xxmaj blah , blah , freakin ' blah ! xxmaj trash has rarely been this xxup xxunk xxrep 4 ! i was wondering why the hell xxmaj springer has millions of fans , yet none of them checked out his movie . xxmaj well , now it 's xxup totally obvious ! ! xxmaj whether you love him or hate him , you will hate this movie ! xxmaj how can i explain ? xxmaj it 's a total mess of a motion picture ( if that 's what you call it ) . xxmaj it 's so badly edited , with scenes that just do n't connect , and after a period of time the plot virtually disappears and it 's simply all over the map ! xxmaj just imagine a predictable soap opera transformed into a comic farce . xxmaj with seldom laughs . \n",
              " \n",
              "  xxmaj my only positive note is a hot girl - girl scene . xxmaj that 's as risque as it gets . xxmaj do n't get me wrong , the scene 's pretty risque , but if you look at the overall film comparing it to the material on xxmaj springer 's program -- this disastrous farce seems extremely sanitized . \n",
              " \n",
              "  xxmaj my score : 3 ( out of 10 ),xxbos xxmaj they 're showing this on some off - network . xxmaj it 's well crap . xxmaj while it is not as bad as the b - movies they show on the xxmaj sci - fi network on xxmaj saturdays but still a fairly large pile of crap . xxmaj the acting is passable . xxmaj the plot and writing are fairly sub - standard and the pacing is entirely too slow . xxmaj every minute of the movie feels like the part of the movie where they 're wrapping things up before the credits - not the peak of the movie , the denouement . xxmaj also , large portions of the cast look way to old for the age range they 're playing . xxmaj the whole thing is predictable , boring and not worthy of being watched . xxmaj save your time . xxmaj it 's not even worth the time it takes to watch it for free .\n",
              "y: CategoryList\n",
              "neg,neg,neg,neg,neg\n",
              "Path: /root/.fastai/data/imdb;\n",
              "\n",
              "Valid: LabelList (25000 items)\n",
              "x: TextList\n",
              "xxbos xxmaj as i do n't have a xxup tv , and had never heard of this mini - series , i did n't know what to expect from xxmaj the xxmaj second xxmaj coming and hired it purely on the strength of its plot synopsis , which sounded interesting . \n",
              " \n",
              "  xxmaj dear xxmaj god ! ( xxmaj every pun intended . ) xxmaj if someone told me that this had been written by a class of thirteen year olds who had been given the project of turning the second coming into a school play i would n't have been surprised . \n",
              " \n",
              "  xxmaj why , oh why did they decide to portray xxmaj jesus mark xxup ii as what amounted to an idiot savant ? xxmaj is there anything in any of the gospels to suggest this ? xxmaj okay , an ordinary bloke , but a xxmaj great xxmaj northern xxmaj moron . i do n't think so . \n",
              " \n",
              "  xxmaj apparently all xxmaj jesus did to impress people was his miracles , because according to this take his preaching sure as hell never impressed anyone . xxmaj certainly without the night into day stunt xxmaj mr xxmaj jesus xxmaj eccleston would have been floundering without a canoe , a paddle or any kind of following at all . \n",
              " \n",
              "  xxmaj and the odd little gay polemics put in willy - nilly , without rhyme or reason . xxmaj other than , of course , xxmaj russell waving to his xxup xxunk fan base . xxmaj jesus turns up in the pub to recruit ' disciples ' ( more gormless xxmaj northern losers and , of course , the gay writer 's standby - the harpy woman , nag , nag , nagging away ) . xxmaj gay rights are rammed down his throat to no real purpose , almost like xxmaj russell thought he ' owed it to the lads ' to put xxmaj jesus on the spot . \n",
              " \n",
              "  i ca n't really see the real xxmaj jesus coming out with \" xxmaj well , i 've nothing against it personally , mate . \" xxmaj only someone truly middle class and woolly could imagine xxmaj jesus to be quite this wet . \n",
              " \n",
              "  xxmaj and do n't start me on the ending . ' xxmaj please come in and eat rat poison because the only way we can be truly free is if xxmaj god dies ' . \n",
              " \n",
              "  xxmaj it was like an xxmaj eddie xxmaj izzard sketch of xxmaj god as xxmaj bill xxmaj gates . \" xxmaj hello , i 'm xxmaj bill xxmaj gates , and now you 've pointed out to me that my global domination is xxunk your style i 'm going to give it all to you , my customers . \" xxmaj and eat the rat poison , of course . \n",
              " \n",
              "  i 'm often mystified by the ratings on imdb , but the high rating on this one takes the biscuit . \n",
              " \n",
              "  xxmaj never mind xxmaj jesus for the new millennium - this is xxmaj jesus for brainless xxup mtv lads . \n",
              " \n",
              "  xxmaj god help us all indeed .,xxbos xxmaj this movie is over hyped ! ! i am sad to say that i manage to watch the first 15 minutes of this movie and anything beyond that , i will have to force myself real hard to sit down and watch the rest of the movie . xxmaj it 's totally stupid and very fake . xxmaj the robot in the movie looks like a man wearing those steel suit and the acting is really bad especially the one playing the character xxmaj alien . xxmaj he is totally annoying ! ! xxmaj do n't waste your money watching this sequel to the popular xxmaj gen - x xxmaj cops . i 'd rather sleep or spend my money on some other things rather than watching this movie . 1 out of 10 . xxmaj if possible , xxmaj i'd give 0 .,xxbos i first read about the xxmaj left xxmaj behind series a few months ago and made a mental note to check it out since i have an interest in the way religion is used to control people in our ever more hate filled world , so imagine my surprise and joy when i found a copy of xxmaj left xxmaj behind : xxmaj world at xxmaj war in my local library , xxunk innocently among the big budget action movies . \n",
              " \n",
              "  xxmaj now as a movie it 's extremely poor . xxmaj the acting is straight out of an elementary school production and the \" special effects \" would have looked dated in the early 90 's . xxmaj being the third part of a series the story would be unintelligible to anyone who had n't seen or read about the other xxmaj left xxmaj behind movies , and even with my prior knowledge it was still pretty laughable . \n",
              " \n",
              "  xxmaj on the religious front , i do n't think anyone who was n't already filled with the spirit of the lord would find anything in the movie to convince them to change their ways . xxmaj how are you supposed to fear the xxmaj antichrist when he 's got a comedy xxmaj russian accent , and the worst of his powers are some pitiful xxup cgi ? \n",
              " \n",
              "  xxmaj however , my main problem with this movie is the blatant attempt to try and dupe people into believing that it 's a big budget action movie . xxmaj upon picking up the box and reading the spiel i immediately noticed something odd ... nowhere on the packaging was there a mention of the true nature of this film . xxmaj to someone not in the know it would appear for all intents and purposed that xxmaj left xxmaj behind : xxmaj world at xxmaj war was no different from the latest xxmaj tom xxmaj xxunk . xxmaj nor , on the copy that i rented did it say anything about it being the third in a series . \n",
              " \n",
              "  xxmaj considering the whole premise of the series is that the xxmaj antichrist has deceived the whole world , i find it extremely hypocritical that the film makers tried to deceive me xxup twice before i even got the to counter ! xxmaj if you 're so firm in your beliefs then why not be honest about it ? \n",
              " \n",
              "  xxmaj the simple fact is , had this not been a \" xxmaj christian \" movie with the built in fan base that goes with it , i seriously doubt it would ever have seen the light of day . xxmaj if xxmaj cloud xxmaj ten were hoping that i 'd see the error of my ways and give myself to xxmaj god , i 'm afraid to say i would have died of boredom and / or laughed myself to death before i ever had the chance .,xxbos xxmaj do n't waste your time and money on it . xxmaj it 's not quite as bad as \" xxmaj adrenalin \" , by the same director but that 's not saying much .,xxbos xxmaj oh , my . xxmaj poor xxmaj jane must have done the old rolling - over - in - the - grave thing . xxmaj even allowing for poor production values for the time ( 1971 ) and the format ( some kind of mini - series ) , this is b xxrep 6 a d. xxmaj whatever else you do with xxmaj austen , the dialog should sparkle ( even in this , perhaps her most serious work ) , and melodrama should be strictly out of bounds . xxmaj alas , not the case with this production . xxmaj by the time you get to xxmaj anne 's \" xxmaj frederick , xxmaj frederick , xxmaj frederick , \" you 'll either be laughing or crying . xxmaj unless you 're just out to visually \" collect \" all extant films of xxmaj austen 's work , you can skip this one . xxmaj if you do watch it , however , there are small xxunk : xxmaj the actresses playing xxmaj anne 's sisters each do a wonderful job with their roles .\n",
              "y: CategoryList\n",
              "neg,neg,neg,neg,neg\n",
              "Path: /root/.fastai/data/imdb;\n",
              "\n",
              "Test: None, model=SequentialRNN(\n",
              "  (0): MultiBatchEncoder(\n",
              "    (module): AWD_LSTM(\n",
              "      (encoder): Embedding(60003, 400, padding_idx=1)\n",
              "      (encoder_dp): EmbeddingDropout(\n",
              "        (emb): Embedding(60003, 400, padding_idx=1)\n",
              "      )\n",
              "      (rnns): ModuleList(\n",
              "        (0): WeightDropout(\n",
              "          (module): LSTM(400, 1150, batch_first=True)\n",
              "        )\n",
              "        (1): WeightDropout(\n",
              "          (module): LSTM(1150, 1150, batch_first=True)\n",
              "        )\n",
              "        (2): WeightDropout(\n",
              "          (module): LSTM(1150, 400, batch_first=True)\n",
              "        )\n",
              "      )\n",
              "      (input_dp): RNNDropout()\n",
              "      (hidden_dps): ModuleList(\n",
              "        (0): RNNDropout()\n",
              "        (1): RNNDropout()\n",
              "        (2): RNNDropout()\n",
              "      )\n",
              "    )\n",
              "  )\n",
              "  (1): PoolingLinearClassifier(\n",
              "    (layers): Sequential(\n",
              "      (0): BatchNorm1d(1200, eps=1e-05, momentum=0.1, affine=True, track_running_stats=True)\n",
              "      (1): Dropout(p=0.2)\n",
              "      (2): Linear(in_features=1200, out_features=50, bias=True)\n",
              "      (3): ReLU(inplace)\n",
              "      (4): BatchNorm1d(50, eps=1e-05, momentum=0.1, affine=True, track_running_stats=True)\n",
              "      (5): Dropout(p=0.1)\n",
              "      (6): Linear(in_features=50, out_features=2, bias=True)\n",
              "    )\n",
              "  )\n",
              "), opt_func=functools.partial(<class 'torch.optim.adam.Adam'>, betas=(0.9, 0.99)), loss_func=FlattenedLoss of CrossEntropyLoss(), metrics=[<function accuracy at 0x7f6a3454dc80>], true_wd=True, bn_wd=True, wd=0.01, train_bn=True, path=PosixPath('/root/.fastai/data/imdb'), model_dir='models', callback_fns=[functools.partial(<class 'fastai.basic_train.Recorder'>, add_time=True)], callbacks=[...], layer_groups=[Sequential(\n",
              "  (0): Embedding(60003, 400, padding_idx=1)\n",
              "  (1): EmbeddingDropout(\n",
              "    (emb): Embedding(60003, 400, padding_idx=1)\n",
              "  )\n",
              "), Sequential(\n",
              "  (0): WeightDropout(\n",
              "    (module): LSTM(400, 1150, batch_first=True)\n",
              "  )\n",
              "  (1): RNNDropout()\n",
              "), Sequential(\n",
              "  (0): WeightDropout(\n",
              "    (module): LSTM(1150, 1150, batch_first=True)\n",
              "  )\n",
              "  (1): RNNDropout()\n",
              "), Sequential(\n",
              "  (0): WeightDropout(\n",
              "    (module): LSTM(1150, 400, batch_first=True)\n",
              "  )\n",
              "  (1): RNNDropout()\n",
              "), Sequential(\n",
              "  (0): PoolingLinearClassifier(\n",
              "    (layers): Sequential(\n",
              "      (0): BatchNorm1d(1200, eps=1e-05, momentum=0.1, affine=True, track_running_stats=True)\n",
              "      (1): Dropout(p=0.2)\n",
              "      (2): Linear(in_features=1200, out_features=50, bias=True)\n",
              "      (3): ReLU(inplace)\n",
              "      (4): BatchNorm1d(50, eps=1e-05, momentum=0.1, affine=True, track_running_stats=True)\n",
              "      (5): Dropout(p=0.1)\n",
              "      (6): Linear(in_features=50, out_features=2, bias=True)\n",
              "    )\n",
              "  )\n",
              ")], add_time=True)\n",
              "alpha: 2.0\n",
              "beta: 1.0], layer_groups=[Sequential(\n",
              "  (0): Embedding(60003, 400, padding_idx=1)\n",
              "  (1): EmbeddingDropout(\n",
              "    (emb): Embedding(60003, 400, padding_idx=1)\n",
              "  )\n",
              "), Sequential(\n",
              "  (0): WeightDropout(\n",
              "    (module): LSTM(400, 1150, batch_first=True)\n",
              "  )\n",
              "  (1): RNNDropout()\n",
              "), Sequential(\n",
              "  (0): WeightDropout(\n",
              "    (module): LSTM(1150, 1150, batch_first=True)\n",
              "  )\n",
              "  (1): RNNDropout()\n",
              "), Sequential(\n",
              "  (0): WeightDropout(\n",
              "    (module): LSTM(1150, 400, batch_first=True)\n",
              "  )\n",
              "  (1): RNNDropout()\n",
              "), Sequential(\n",
              "  (0): PoolingLinearClassifier(\n",
              "    (layers): Sequential(\n",
              "      (0): BatchNorm1d(1200, eps=1e-05, momentum=0.1, affine=True, track_running_stats=True)\n",
              "      (1): Dropout(p=0.2)\n",
              "      (2): Linear(in_features=1200, out_features=50, bias=True)\n",
              "      (3): ReLU(inplace)\n",
              "      (4): BatchNorm1d(50, eps=1e-05, momentum=0.1, affine=True, track_running_stats=True)\n",
              "      (5): Dropout(p=0.1)\n",
              "      (6): Linear(in_features=50, out_features=2, bias=True)\n",
              "    )\n",
              "  )\n",
              ")], add_time=True)"
            ]
          },
          "metadata": {
            "tags": []
          },
          "execution_count": 45
        }
      ]
    },
    {
      "metadata": {
        "colab_type": "code",
        "outputId": "0a075d01-d5c8-4dc5-a27e-2eacc545d12e",
        "id": "LWArK2mo4bGb",
        "colab": {
          "base_uri": "https://localhost:8080/",
          "height": 103
        }
      },
      "cell_type": "code",
      "source": [
        "learn.freeze_to(-3)\n",
        "learn.fit_one_cycle(1, slice(5e-3/(2.6**4),5e-3), moms=(0.8,0.7))"
      ],
      "execution_count": 46,
      "outputs": [
        {
          "output_type": "display_data",
          "data": {
            "text/html": [
              "Total time: 18:55 <p><table border=\"1\" class=\"dataframe\">\n",
              "  <thead>\n",
              "    <tr style=\"text-align: left;\">\n",
              "      <th>epoch</th>\n",
              "      <th>train_loss</th>\n",
              "      <th>valid_loss</th>\n",
              "      <th>accuracy</th>\n",
              "      <th>time</th>\n",
              "    </tr>\n",
              "  </thead>\n",
              "  <tbody>\n",
              "    <tr>\n",
              "      <td>0</td>\n",
              "      <td>0.232162</td>\n",
              "      <td>0.176751</td>\n",
              "      <td>0.932160</td>\n",
              "      <td>18:55</td>\n",
              "    </tr>\n",
              "  </tbody>\n",
              "</table>"
            ],
            "text/plain": [
              "<IPython.core.display.HTML object>"
            ]
          },
          "metadata": {
            "tags": []
          }
        }
      ]
    },
    {
      "metadata": {
        "colab_type": "code",
        "id": "7JNsM7Hd4bGk",
        "colab": {}
      },
      "cell_type": "code",
      "source": [
        "learn.save('third')"
      ],
      "execution_count": 0,
      "outputs": []
    },
    {
      "metadata": {
        "colab_type": "code",
        "outputId": "2e50fc7b-9d8b-4a84-d77a-aeedc465925f",
        "id": "94hz8SaK4bGq",
        "colab": {
          "base_uri": "https://localhost:8080/",
          "height": 4440
        }
      },
      "cell_type": "code",
      "source": [
        "learn.load('third')"
      ],
      "execution_count": 48,
      "outputs": [
        {
          "output_type": "execute_result",
          "data": {
            "text/plain": [
              "RNNLearner(data=TextClasDataBunch;\n",
              "\n",
              "Train: LabelList (25000 items)\n",
              "x: TextList\n",
              "xxbos xxmaj going into a movie like i this , i was expecting absolutely nothing entertaining except for a xxunk of kills xxrep 5 . what i got was even less . \n",
              " \n",
              "  xxmaj christmas eve 1947 a kid witnesses his parents doing it while daddy is in a santa suit . xxmaj horrified , he runs up the stairs and cuts himself . xxmaj the story begins 33 years later and xxmaj harry xxmaj stalling is your normal everyday joe xxrep 5 . xxunk for the fact he 's obsessed with xxmaj santa . xxmaj after his boss makes fun of him he goes insane , dressing up like santa and starts killing non - santa believing patrons and his boss . xxmaj an unruly neighborhood catches up to him and just as they 're about to torch him , he drives his van off a cliff xxrep 5 . into the moon . xxmaj not the best ending i 've seen but it was original . \n",
              " \n",
              "  xxmaj it was a slow paced , boring movie that really had no redeeming quality except when xxmaj harry went xxunk on the church goers . xxmaj there was hardly any gore and even the \" sex \" scenes were toned down . \n",
              " \n",
              "  xxmaj too boring xxrep 6 . 4 out of 10,xxbos xxmaj it is such a strange movie , you can call it awful or if you sit with friends it can give you a killer laugh - athon . xxmaj strange comes to mind again and again . xxmaj shot amateurishly , acted even worse and the directions , maybe none . xxmaj the special effects are funny but the music accompanying a flying demon baby will surely be the biggest hit . xxmaj see it if you got time to kill . xxmaj but do n't , do n't even try to take it seriously . xxmaj supposed to be a tribute to ' xxmaj porno holocaust ' , . xxmaj since i have n't seen it , from the tribute i can assume it to be as bad . xxmaj should have given it 1 / 10 , but it did give me a good laugh or two , so it gets a 3 . xxmaj excessive gore , the only thing somebody worked on . xxmaj stay away if you are squeamish , more gore than laughs . xxmaj wonder if the makers had a laugh making it ?,xxbos xxmaj honestly , i was disappointed in \" xxmaj expiration xxmaj date . \" xxmaj super clever title and interesting premise , but i do n't think it delivered . xxmaj what was it about ? xxmaj the main character 's desire to reconnect with his xxmaj native roots ? xxmaj or , more likely , it was his need to overcome his fear of death . xxmaj but , he was n't set up as someone who has lived his life in fear -- it seems as if his life was going fine , but since doomsday is approaching he should now start worrying . i did n't buy it . xxmaj meanwhile , the supporting characters in the film did n't seem to have needs that blended into an overarching story . xxmaj they were all just doing their thing , running parallel to the main character . xxmaj also , what was treated as a \" curse \" looked more like a coincidence . xxmaj who cursed the family ? xxmaj why ? xxmaj when ? xxmaj finally , why did n't he just plan on staying in his apartment all day on his birthday ? xxmaj those are my criticisms , but i did love the shots of xxmaj seattle , cinematography was beautiful , acting was good in the times it was n't outstanding .,xxbos i 'm not a regular viewer of xxmaj springer 's , but i do watch his show in glimpses and i think the show is a fine guilty pleasure and a good way to kill some time . xxmaj so naturally , i 'm going to watch this movie expecting to see \" xxmaj jerry xxmaj springer xxmaj uncensored . \" xxmaj first of all , xxmaj jerry appears in approximately twenty minutes of the film 's running time . xxmaj the other hour and twenty minutes is spent building up this pseudo - farce about trailer - trash , jealousy , incest and deception . xxmaj jaime xxmaj pressley ( who looks hot as xxup he xxrep 4 l ) is a trailer - trash slut who sleeps with her stepfather ( a very unusual - looking , chain - smoking , drunken xxmaj michael xxmaj dudikoff who finally strays from his action hero persona ) . xxmaj the mom finds out about the affair , they get into a fight , they want to take it to the \" xxmaj jerry \" show ( that 's right , no xxmaj springer ) . xxmaj and then we have a parallel story with an xxmaj african - xxmaj american couple . xxmaj they take it to the \" xxmaj jerry \" show . xxmaj the characters collide . xxmaj blah , blah , freakin ' blah ! xxmaj trash has rarely been this xxup xxunk xxrep 4 ! i was wondering why the hell xxmaj springer has millions of fans , yet none of them checked out his movie . xxmaj well , now it 's xxup totally obvious ! ! xxmaj whether you love him or hate him , you will hate this movie ! xxmaj how can i explain ? xxmaj it 's a total mess of a motion picture ( if that 's what you call it ) . xxmaj it 's so badly edited , with scenes that just do n't connect , and after a period of time the plot virtually disappears and it 's simply all over the map ! xxmaj just imagine a predictable soap opera transformed into a comic farce . xxmaj with seldom laughs . \n",
              " \n",
              "  xxmaj my only positive note is a hot girl - girl scene . xxmaj that 's as risque as it gets . xxmaj do n't get me wrong , the scene 's pretty risque , but if you look at the overall film comparing it to the material on xxmaj springer 's program -- this disastrous farce seems extremely sanitized . \n",
              " \n",
              "  xxmaj my score : 3 ( out of 10 ),xxbos xxmaj they 're showing this on some off - network . xxmaj it 's well crap . xxmaj while it is not as bad as the b - movies they show on the xxmaj sci - fi network on xxmaj saturdays but still a fairly large pile of crap . xxmaj the acting is passable . xxmaj the plot and writing are fairly sub - standard and the pacing is entirely too slow . xxmaj every minute of the movie feels like the part of the movie where they 're wrapping things up before the credits - not the peak of the movie , the denouement . xxmaj also , large portions of the cast look way to old for the age range they 're playing . xxmaj the whole thing is predictable , boring and not worthy of being watched . xxmaj save your time . xxmaj it 's not even worth the time it takes to watch it for free .\n",
              "y: CategoryList\n",
              "neg,neg,neg,neg,neg\n",
              "Path: /root/.fastai/data/imdb;\n",
              "\n",
              "Valid: LabelList (25000 items)\n",
              "x: TextList\n",
              "xxbos xxmaj as i do n't have a xxup tv , and had never heard of this mini - series , i did n't know what to expect from xxmaj the xxmaj second xxmaj coming and hired it purely on the strength of its plot synopsis , which sounded interesting . \n",
              " \n",
              "  xxmaj dear xxmaj god ! ( xxmaj every pun intended . ) xxmaj if someone told me that this had been written by a class of thirteen year olds who had been given the project of turning the second coming into a school play i would n't have been surprised . \n",
              " \n",
              "  xxmaj why , oh why did they decide to portray xxmaj jesus mark xxup ii as what amounted to an idiot savant ? xxmaj is there anything in any of the gospels to suggest this ? xxmaj okay , an ordinary bloke , but a xxmaj great xxmaj northern xxmaj moron . i do n't think so . \n",
              " \n",
              "  xxmaj apparently all xxmaj jesus did to impress people was his miracles , because according to this take his preaching sure as hell never impressed anyone . xxmaj certainly without the night into day stunt xxmaj mr xxmaj jesus xxmaj eccleston would have been floundering without a canoe , a paddle or any kind of following at all . \n",
              " \n",
              "  xxmaj and the odd little gay polemics put in willy - nilly , without rhyme or reason . xxmaj other than , of course , xxmaj russell waving to his xxup xxunk fan base . xxmaj jesus turns up in the pub to recruit ' disciples ' ( more gormless xxmaj northern losers and , of course , the gay writer 's standby - the harpy woman , nag , nag , nagging away ) . xxmaj gay rights are rammed down his throat to no real purpose , almost like xxmaj russell thought he ' owed it to the lads ' to put xxmaj jesus on the spot . \n",
              " \n",
              "  i ca n't really see the real xxmaj jesus coming out with \" xxmaj well , i 've nothing against it personally , mate . \" xxmaj only someone truly middle class and woolly could imagine xxmaj jesus to be quite this wet . \n",
              " \n",
              "  xxmaj and do n't start me on the ending . ' xxmaj please come in and eat rat poison because the only way we can be truly free is if xxmaj god dies ' . \n",
              " \n",
              "  xxmaj it was like an xxmaj eddie xxmaj izzard sketch of xxmaj god as xxmaj bill xxmaj gates . \" xxmaj hello , i 'm xxmaj bill xxmaj gates , and now you 've pointed out to me that my global domination is xxunk your style i 'm going to give it all to you , my customers . \" xxmaj and eat the rat poison , of course . \n",
              " \n",
              "  i 'm often mystified by the ratings on imdb , but the high rating on this one takes the biscuit . \n",
              " \n",
              "  xxmaj never mind xxmaj jesus for the new millennium - this is xxmaj jesus for brainless xxup mtv lads . \n",
              " \n",
              "  xxmaj god help us all indeed .,xxbos xxmaj this movie is over hyped ! ! i am sad to say that i manage to watch the first 15 minutes of this movie and anything beyond that , i will have to force myself real hard to sit down and watch the rest of the movie . xxmaj it 's totally stupid and very fake . xxmaj the robot in the movie looks like a man wearing those steel suit and the acting is really bad especially the one playing the character xxmaj alien . xxmaj he is totally annoying ! ! xxmaj do n't waste your money watching this sequel to the popular xxmaj gen - x xxmaj cops . i 'd rather sleep or spend my money on some other things rather than watching this movie . 1 out of 10 . xxmaj if possible , xxmaj i'd give 0 .,xxbos i first read about the xxmaj left xxmaj behind series a few months ago and made a mental note to check it out since i have an interest in the way religion is used to control people in our ever more hate filled world , so imagine my surprise and joy when i found a copy of xxmaj left xxmaj behind : xxmaj world at xxmaj war in my local library , xxunk innocently among the big budget action movies . \n",
              " \n",
              "  xxmaj now as a movie it 's extremely poor . xxmaj the acting is straight out of an elementary school production and the \" special effects \" would have looked dated in the early 90 's . xxmaj being the third part of a series the story would be unintelligible to anyone who had n't seen or read about the other xxmaj left xxmaj behind movies , and even with my prior knowledge it was still pretty laughable . \n",
              " \n",
              "  xxmaj on the religious front , i do n't think anyone who was n't already filled with the spirit of the lord would find anything in the movie to convince them to change their ways . xxmaj how are you supposed to fear the xxmaj antichrist when he 's got a comedy xxmaj russian accent , and the worst of his powers are some pitiful xxup cgi ? \n",
              " \n",
              "  xxmaj however , my main problem with this movie is the blatant attempt to try and dupe people into believing that it 's a big budget action movie . xxmaj upon picking up the box and reading the spiel i immediately noticed something odd ... nowhere on the packaging was there a mention of the true nature of this film . xxmaj to someone not in the know it would appear for all intents and purposed that xxmaj left xxmaj behind : xxmaj world at xxmaj war was no different from the latest xxmaj tom xxmaj xxunk . xxmaj nor , on the copy that i rented did it say anything about it being the third in a series . \n",
              " \n",
              "  xxmaj considering the whole premise of the series is that the xxmaj antichrist has deceived the whole world , i find it extremely hypocritical that the film makers tried to deceive me xxup twice before i even got the to counter ! xxmaj if you 're so firm in your beliefs then why not be honest about it ? \n",
              " \n",
              "  xxmaj the simple fact is , had this not been a \" xxmaj christian \" movie with the built in fan base that goes with it , i seriously doubt it would ever have seen the light of day . xxmaj if xxmaj cloud xxmaj ten were hoping that i 'd see the error of my ways and give myself to xxmaj god , i 'm afraid to say i would have died of boredom and / or laughed myself to death before i ever had the chance .,xxbos xxmaj do n't waste your time and money on it . xxmaj it 's not quite as bad as \" xxmaj adrenalin \" , by the same director but that 's not saying much .,xxbos xxmaj oh , my . xxmaj poor xxmaj jane must have done the old rolling - over - in - the - grave thing . xxmaj even allowing for poor production values for the time ( 1971 ) and the format ( some kind of mini - series ) , this is b xxrep 6 a d. xxmaj whatever else you do with xxmaj austen , the dialog should sparkle ( even in this , perhaps her most serious work ) , and melodrama should be strictly out of bounds . xxmaj alas , not the case with this production . xxmaj by the time you get to xxmaj anne 's \" xxmaj frederick , xxmaj frederick , xxmaj frederick , \" you 'll either be laughing or crying . xxmaj unless you 're just out to visually \" collect \" all extant films of xxmaj austen 's work , you can skip this one . xxmaj if you do watch it , however , there are small xxunk : xxmaj the actresses playing xxmaj anne 's sisters each do a wonderful job with their roles .\n",
              "y: CategoryList\n",
              "neg,neg,neg,neg,neg\n",
              "Path: /root/.fastai/data/imdb;\n",
              "\n",
              "Test: None, model=SequentialRNN(\n",
              "  (0): MultiBatchEncoder(\n",
              "    (module): AWD_LSTM(\n",
              "      (encoder): Embedding(60003, 400, padding_idx=1)\n",
              "      (encoder_dp): EmbeddingDropout(\n",
              "        (emb): Embedding(60003, 400, padding_idx=1)\n",
              "      )\n",
              "      (rnns): ModuleList(\n",
              "        (0): WeightDropout(\n",
              "          (module): LSTM(400, 1150, batch_first=True)\n",
              "        )\n",
              "        (1): WeightDropout(\n",
              "          (module): LSTM(1150, 1150, batch_first=True)\n",
              "        )\n",
              "        (2): WeightDropout(\n",
              "          (module): LSTM(1150, 400, batch_first=True)\n",
              "        )\n",
              "      )\n",
              "      (input_dp): RNNDropout()\n",
              "      (hidden_dps): ModuleList(\n",
              "        (0): RNNDropout()\n",
              "        (1): RNNDropout()\n",
              "        (2): RNNDropout()\n",
              "      )\n",
              "    )\n",
              "  )\n",
              "  (1): PoolingLinearClassifier(\n",
              "    (layers): Sequential(\n",
              "      (0): BatchNorm1d(1200, eps=1e-05, momentum=0.1, affine=True, track_running_stats=True)\n",
              "      (1): Dropout(p=0.2)\n",
              "      (2): Linear(in_features=1200, out_features=50, bias=True)\n",
              "      (3): ReLU(inplace)\n",
              "      (4): BatchNorm1d(50, eps=1e-05, momentum=0.1, affine=True, track_running_stats=True)\n",
              "      (5): Dropout(p=0.1)\n",
              "      (6): Linear(in_features=50, out_features=2, bias=True)\n",
              "    )\n",
              "  )\n",
              "), opt_func=functools.partial(<class 'torch.optim.adam.Adam'>, betas=(0.9, 0.99)), loss_func=FlattenedLoss of CrossEntropyLoss(), metrics=[<function accuracy at 0x7f6a3454dc80>], true_wd=True, bn_wd=True, wd=0.01, train_bn=True, path=PosixPath('/root/.fastai/data/imdb'), model_dir='models', callback_fns=[functools.partial(<class 'fastai.basic_train.Recorder'>, add_time=True)], callbacks=[RNNTrainer\n",
              "learn: RNNLearner(data=TextClasDataBunch;\n",
              "\n",
              "Train: LabelList (25000 items)\n",
              "x: TextList\n",
              "xxbos xxmaj going into a movie like i this , i was expecting absolutely nothing entertaining except for a xxunk of kills xxrep 5 . what i got was even less . \n",
              " \n",
              "  xxmaj christmas eve 1947 a kid witnesses his parents doing it while daddy is in a santa suit . xxmaj horrified , he runs up the stairs and cuts himself . xxmaj the story begins 33 years later and xxmaj harry xxmaj stalling is your normal everyday joe xxrep 5 . xxunk for the fact he 's obsessed with xxmaj santa . xxmaj after his boss makes fun of him he goes insane , dressing up like santa and starts killing non - santa believing patrons and his boss . xxmaj an unruly neighborhood catches up to him and just as they 're about to torch him , he drives his van off a cliff xxrep 5 . into the moon . xxmaj not the best ending i 've seen but it was original . \n",
              " \n",
              "  xxmaj it was a slow paced , boring movie that really had no redeeming quality except when xxmaj harry went xxunk on the church goers . xxmaj there was hardly any gore and even the \" sex \" scenes were toned down . \n",
              " \n",
              "  xxmaj too boring xxrep 6 . 4 out of 10,xxbos xxmaj it is such a strange movie , you can call it awful or if you sit with friends it can give you a killer laugh - athon . xxmaj strange comes to mind again and again . xxmaj shot amateurishly , acted even worse and the directions , maybe none . xxmaj the special effects are funny but the music accompanying a flying demon baby will surely be the biggest hit . xxmaj see it if you got time to kill . xxmaj but do n't , do n't even try to take it seriously . xxmaj supposed to be a tribute to ' xxmaj porno holocaust ' , . xxmaj since i have n't seen it , from the tribute i can assume it to be as bad . xxmaj should have given it 1 / 10 , but it did give me a good laugh or two , so it gets a 3 . xxmaj excessive gore , the only thing somebody worked on . xxmaj stay away if you are squeamish , more gore than laughs . xxmaj wonder if the makers had a laugh making it ?,xxbos xxmaj honestly , i was disappointed in \" xxmaj expiration xxmaj date . \" xxmaj super clever title and interesting premise , but i do n't think it delivered . xxmaj what was it about ? xxmaj the main character 's desire to reconnect with his xxmaj native roots ? xxmaj or , more likely , it was his need to overcome his fear of death . xxmaj but , he was n't set up as someone who has lived his life in fear -- it seems as if his life was going fine , but since doomsday is approaching he should now start worrying . i did n't buy it . xxmaj meanwhile , the supporting characters in the film did n't seem to have needs that blended into an overarching story . xxmaj they were all just doing their thing , running parallel to the main character . xxmaj also , what was treated as a \" curse \" looked more like a coincidence . xxmaj who cursed the family ? xxmaj why ? xxmaj when ? xxmaj finally , why did n't he just plan on staying in his apartment all day on his birthday ? xxmaj those are my criticisms , but i did love the shots of xxmaj seattle , cinematography was beautiful , acting was good in the times it was n't outstanding .,xxbos i 'm not a regular viewer of xxmaj springer 's , but i do watch his show in glimpses and i think the show is a fine guilty pleasure and a good way to kill some time . xxmaj so naturally , i 'm going to watch this movie expecting to see \" xxmaj jerry xxmaj springer xxmaj uncensored . \" xxmaj first of all , xxmaj jerry appears in approximately twenty minutes of the film 's running time . xxmaj the other hour and twenty minutes is spent building up this pseudo - farce about trailer - trash , jealousy , incest and deception . xxmaj jaime xxmaj pressley ( who looks hot as xxup he xxrep 4 l ) is a trailer - trash slut who sleeps with her stepfather ( a very unusual - looking , chain - smoking , drunken xxmaj michael xxmaj dudikoff who finally strays from his action hero persona ) . xxmaj the mom finds out about the affair , they get into a fight , they want to take it to the \" xxmaj jerry \" show ( that 's right , no xxmaj springer ) . xxmaj and then we have a parallel story with an xxmaj african - xxmaj american couple . xxmaj they take it to the \" xxmaj jerry \" show . xxmaj the characters collide . xxmaj blah , blah , freakin ' blah ! xxmaj trash has rarely been this xxup xxunk xxrep 4 ! i was wondering why the hell xxmaj springer has millions of fans , yet none of them checked out his movie . xxmaj well , now it 's xxup totally obvious ! ! xxmaj whether you love him or hate him , you will hate this movie ! xxmaj how can i explain ? xxmaj it 's a total mess of a motion picture ( if that 's what you call it ) . xxmaj it 's so badly edited , with scenes that just do n't connect , and after a period of time the plot virtually disappears and it 's simply all over the map ! xxmaj just imagine a predictable soap opera transformed into a comic farce . xxmaj with seldom laughs . \n",
              " \n",
              "  xxmaj my only positive note is a hot girl - girl scene . xxmaj that 's as risque as it gets . xxmaj do n't get me wrong , the scene 's pretty risque , but if you look at the overall film comparing it to the material on xxmaj springer 's program -- this disastrous farce seems extremely sanitized . \n",
              " \n",
              "  xxmaj my score : 3 ( out of 10 ),xxbos xxmaj they 're showing this on some off - network . xxmaj it 's well crap . xxmaj while it is not as bad as the b - movies they show on the xxmaj sci - fi network on xxmaj saturdays but still a fairly large pile of crap . xxmaj the acting is passable . xxmaj the plot and writing are fairly sub - standard and the pacing is entirely too slow . xxmaj every minute of the movie feels like the part of the movie where they 're wrapping things up before the credits - not the peak of the movie , the denouement . xxmaj also , large portions of the cast look way to old for the age range they 're playing . xxmaj the whole thing is predictable , boring and not worthy of being watched . xxmaj save your time . xxmaj it 's not even worth the time it takes to watch it for free .\n",
              "y: CategoryList\n",
              "neg,neg,neg,neg,neg\n",
              "Path: /root/.fastai/data/imdb;\n",
              "\n",
              "Valid: LabelList (25000 items)\n",
              "x: TextList\n",
              "xxbos xxmaj as i do n't have a xxup tv , and had never heard of this mini - series , i did n't know what to expect from xxmaj the xxmaj second xxmaj coming and hired it purely on the strength of its plot synopsis , which sounded interesting . \n",
              " \n",
              "  xxmaj dear xxmaj god ! ( xxmaj every pun intended . ) xxmaj if someone told me that this had been written by a class of thirteen year olds who had been given the project of turning the second coming into a school play i would n't have been surprised . \n",
              " \n",
              "  xxmaj why , oh why did they decide to portray xxmaj jesus mark xxup ii as what amounted to an idiot savant ? xxmaj is there anything in any of the gospels to suggest this ? xxmaj okay , an ordinary bloke , but a xxmaj great xxmaj northern xxmaj moron . i do n't think so . \n",
              " \n",
              "  xxmaj apparently all xxmaj jesus did to impress people was his miracles , because according to this take his preaching sure as hell never impressed anyone . xxmaj certainly without the night into day stunt xxmaj mr xxmaj jesus xxmaj eccleston would have been floundering without a canoe , a paddle or any kind of following at all . \n",
              " \n",
              "  xxmaj and the odd little gay polemics put in willy - nilly , without rhyme or reason . xxmaj other than , of course , xxmaj russell waving to his xxup xxunk fan base . xxmaj jesus turns up in the pub to recruit ' disciples ' ( more gormless xxmaj northern losers and , of course , the gay writer 's standby - the harpy woman , nag , nag , nagging away ) . xxmaj gay rights are rammed down his throat to no real purpose , almost like xxmaj russell thought he ' owed it to the lads ' to put xxmaj jesus on the spot . \n",
              " \n",
              "  i ca n't really see the real xxmaj jesus coming out with \" xxmaj well , i 've nothing against it personally , mate . \" xxmaj only someone truly middle class and woolly could imagine xxmaj jesus to be quite this wet . \n",
              " \n",
              "  xxmaj and do n't start me on the ending . ' xxmaj please come in and eat rat poison because the only way we can be truly free is if xxmaj god dies ' . \n",
              " \n",
              "  xxmaj it was like an xxmaj eddie xxmaj izzard sketch of xxmaj god as xxmaj bill xxmaj gates . \" xxmaj hello , i 'm xxmaj bill xxmaj gates , and now you 've pointed out to me that my global domination is xxunk your style i 'm going to give it all to you , my customers . \" xxmaj and eat the rat poison , of course . \n",
              " \n",
              "  i 'm often mystified by the ratings on imdb , but the high rating on this one takes the biscuit . \n",
              " \n",
              "  xxmaj never mind xxmaj jesus for the new millennium - this is xxmaj jesus for brainless xxup mtv lads . \n",
              " \n",
              "  xxmaj god help us all indeed .,xxbos xxmaj this movie is over hyped ! ! i am sad to say that i manage to watch the first 15 minutes of this movie and anything beyond that , i will have to force myself real hard to sit down and watch the rest of the movie . xxmaj it 's totally stupid and very fake . xxmaj the robot in the movie looks like a man wearing those steel suit and the acting is really bad especially the one playing the character xxmaj alien . xxmaj he is totally annoying ! ! xxmaj do n't waste your money watching this sequel to the popular xxmaj gen - x xxmaj cops . i 'd rather sleep or spend my money on some other things rather than watching this movie . 1 out of 10 . xxmaj if possible , xxmaj i'd give 0 .,xxbos i first read about the xxmaj left xxmaj behind series a few months ago and made a mental note to check it out since i have an interest in the way religion is used to control people in our ever more hate filled world , so imagine my surprise and joy when i found a copy of xxmaj left xxmaj behind : xxmaj world at xxmaj war in my local library , xxunk innocently among the big budget action movies . \n",
              " \n",
              "  xxmaj now as a movie it 's extremely poor . xxmaj the acting is straight out of an elementary school production and the \" special effects \" would have looked dated in the early 90 's . xxmaj being the third part of a series the story would be unintelligible to anyone who had n't seen or read about the other xxmaj left xxmaj behind movies , and even with my prior knowledge it was still pretty laughable . \n",
              " \n",
              "  xxmaj on the religious front , i do n't think anyone who was n't already filled with the spirit of the lord would find anything in the movie to convince them to change their ways . xxmaj how are you supposed to fear the xxmaj antichrist when he 's got a comedy xxmaj russian accent , and the worst of his powers are some pitiful xxup cgi ? \n",
              " \n",
              "  xxmaj however , my main problem with this movie is the blatant attempt to try and dupe people into believing that it 's a big budget action movie . xxmaj upon picking up the box and reading the spiel i immediately noticed something odd ... nowhere on the packaging was there a mention of the true nature of this film . xxmaj to someone not in the know it would appear for all intents and purposed that xxmaj left xxmaj behind : xxmaj world at xxmaj war was no different from the latest xxmaj tom xxmaj xxunk . xxmaj nor , on the copy that i rented did it say anything about it being the third in a series . \n",
              " \n",
              "  xxmaj considering the whole premise of the series is that the xxmaj antichrist has deceived the whole world , i find it extremely hypocritical that the film makers tried to deceive me xxup twice before i even got the to counter ! xxmaj if you 're so firm in your beliefs then why not be honest about it ? \n",
              " \n",
              "  xxmaj the simple fact is , had this not been a \" xxmaj christian \" movie with the built in fan base that goes with it , i seriously doubt it would ever have seen the light of day . xxmaj if xxmaj cloud xxmaj ten were hoping that i 'd see the error of my ways and give myself to xxmaj god , i 'm afraid to say i would have died of boredom and / or laughed myself to death before i ever had the chance .,xxbos xxmaj do n't waste your time and money on it . xxmaj it 's not quite as bad as \" xxmaj adrenalin \" , by the same director but that 's not saying much .,xxbos xxmaj oh , my . xxmaj poor xxmaj jane must have done the old rolling - over - in - the - grave thing . xxmaj even allowing for poor production values for the time ( 1971 ) and the format ( some kind of mini - series ) , this is b xxrep 6 a d. xxmaj whatever else you do with xxmaj austen , the dialog should sparkle ( even in this , perhaps her most serious work ) , and melodrama should be strictly out of bounds . xxmaj alas , not the case with this production . xxmaj by the time you get to xxmaj anne 's \" xxmaj frederick , xxmaj frederick , xxmaj frederick , \" you 'll either be laughing or crying . xxmaj unless you 're just out to visually \" collect \" all extant films of xxmaj austen 's work , you can skip this one . xxmaj if you do watch it , however , there are small xxunk : xxmaj the actresses playing xxmaj anne 's sisters each do a wonderful job with their roles .\n",
              "y: CategoryList\n",
              "neg,neg,neg,neg,neg\n",
              "Path: /root/.fastai/data/imdb;\n",
              "\n",
              "Test: None, model=SequentialRNN(\n",
              "  (0): MultiBatchEncoder(\n",
              "    (module): AWD_LSTM(\n",
              "      (encoder): Embedding(60003, 400, padding_idx=1)\n",
              "      (encoder_dp): EmbeddingDropout(\n",
              "        (emb): Embedding(60003, 400, padding_idx=1)\n",
              "      )\n",
              "      (rnns): ModuleList(\n",
              "        (0): WeightDropout(\n",
              "          (module): LSTM(400, 1150, batch_first=True)\n",
              "        )\n",
              "        (1): WeightDropout(\n",
              "          (module): LSTM(1150, 1150, batch_first=True)\n",
              "        )\n",
              "        (2): WeightDropout(\n",
              "          (module): LSTM(1150, 400, batch_first=True)\n",
              "        )\n",
              "      )\n",
              "      (input_dp): RNNDropout()\n",
              "      (hidden_dps): ModuleList(\n",
              "        (0): RNNDropout()\n",
              "        (1): RNNDropout()\n",
              "        (2): RNNDropout()\n",
              "      )\n",
              "    )\n",
              "  )\n",
              "  (1): PoolingLinearClassifier(\n",
              "    (layers): Sequential(\n",
              "      (0): BatchNorm1d(1200, eps=1e-05, momentum=0.1, affine=True, track_running_stats=True)\n",
              "      (1): Dropout(p=0.2)\n",
              "      (2): Linear(in_features=1200, out_features=50, bias=True)\n",
              "      (3): ReLU(inplace)\n",
              "      (4): BatchNorm1d(50, eps=1e-05, momentum=0.1, affine=True, track_running_stats=True)\n",
              "      (5): Dropout(p=0.1)\n",
              "      (6): Linear(in_features=50, out_features=2, bias=True)\n",
              "    )\n",
              "  )\n",
              "), opt_func=functools.partial(<class 'torch.optim.adam.Adam'>, betas=(0.9, 0.99)), loss_func=FlattenedLoss of CrossEntropyLoss(), metrics=[<function accuracy at 0x7f6a3454dc80>], true_wd=True, bn_wd=True, wd=0.01, train_bn=True, path=PosixPath('/root/.fastai/data/imdb'), model_dir='models', callback_fns=[functools.partial(<class 'fastai.basic_train.Recorder'>, add_time=True)], callbacks=[...], layer_groups=[Sequential(\n",
              "  (0): Embedding(60003, 400, padding_idx=1)\n",
              "  (1): EmbeddingDropout(\n",
              "    (emb): Embedding(60003, 400, padding_idx=1)\n",
              "  )\n",
              "), Sequential(\n",
              "  (0): WeightDropout(\n",
              "    (module): LSTM(400, 1150, batch_first=True)\n",
              "  )\n",
              "  (1): RNNDropout()\n",
              "), Sequential(\n",
              "  (0): WeightDropout(\n",
              "    (module): LSTM(1150, 1150, batch_first=True)\n",
              "  )\n",
              "  (1): RNNDropout()\n",
              "), Sequential(\n",
              "  (0): WeightDropout(\n",
              "    (module): LSTM(1150, 400, batch_first=True)\n",
              "  )\n",
              "  (1): RNNDropout()\n",
              "), Sequential(\n",
              "  (0): PoolingLinearClassifier(\n",
              "    (layers): Sequential(\n",
              "      (0): BatchNorm1d(1200, eps=1e-05, momentum=0.1, affine=True, track_running_stats=True)\n",
              "      (1): Dropout(p=0.2)\n",
              "      (2): Linear(in_features=1200, out_features=50, bias=True)\n",
              "      (3): ReLU(inplace)\n",
              "      (4): BatchNorm1d(50, eps=1e-05, momentum=0.1, affine=True, track_running_stats=True)\n",
              "      (5): Dropout(p=0.1)\n",
              "      (6): Linear(in_features=50, out_features=2, bias=True)\n",
              "    )\n",
              "  )\n",
              ")], add_time=True)\n",
              "alpha: 2.0\n",
              "beta: 1.0], layer_groups=[Sequential(\n",
              "  (0): Embedding(60003, 400, padding_idx=1)\n",
              "  (1): EmbeddingDropout(\n",
              "    (emb): Embedding(60003, 400, padding_idx=1)\n",
              "  )\n",
              "), Sequential(\n",
              "  (0): WeightDropout(\n",
              "    (module): LSTM(400, 1150, batch_first=True)\n",
              "  )\n",
              "  (1): RNNDropout()\n",
              "), Sequential(\n",
              "  (0): WeightDropout(\n",
              "    (module): LSTM(1150, 1150, batch_first=True)\n",
              "  )\n",
              "  (1): RNNDropout()\n",
              "), Sequential(\n",
              "  (0): WeightDropout(\n",
              "    (module): LSTM(1150, 400, batch_first=True)\n",
              "  )\n",
              "  (1): RNNDropout()\n",
              "), Sequential(\n",
              "  (0): PoolingLinearClassifier(\n",
              "    (layers): Sequential(\n",
              "      (0): BatchNorm1d(1200, eps=1e-05, momentum=0.1, affine=True, track_running_stats=True)\n",
              "      (1): Dropout(p=0.2)\n",
              "      (2): Linear(in_features=1200, out_features=50, bias=True)\n",
              "      (3): ReLU(inplace)\n",
              "      (4): BatchNorm1d(50, eps=1e-05, momentum=0.1, affine=True, track_running_stats=True)\n",
              "      (5): Dropout(p=0.1)\n",
              "      (6): Linear(in_features=50, out_features=2, bias=True)\n",
              "    )\n",
              "  )\n",
              ")], add_time=True)"
            ]
          },
          "metadata": {
            "tags": []
          },
          "execution_count": 48
        }
      ]
    },
    {
      "metadata": {
        "id": "3oRur4dQDajH",
        "colab_type": "code",
        "outputId": "a3ad8fea-5c3d-459f-b4f9-7f967e968249",
        "colab": {
          "base_uri": "https://localhost:8080/",
          "height": 103
        }
      },
      "cell_type": "code",
      "source": [
        "learn.unfreeze()\n",
        "learn.fit_one_cycle(1, slice(1e-3/(2.6**4),1e-3), moms=(0.8,0.7))"
      ],
      "execution_count": 0,
      "outputs": [
        {
          "output_type": "display_data",
          "data": {
            "text/html": [
              "Total time: 24:37 <p><table border=\"1\" class=\"dataframe\">\n",
              "  <thead>\n",
              "    <tr style=\"text-align: left;\">\n",
              "      <th>epoch</th>\n",
              "      <th>train_loss</th>\n",
              "      <th>valid_loss</th>\n",
              "      <th>accuracy</th>\n",
              "      <th>time</th>\n",
              "    </tr>\n",
              "  </thead>\n",
              "  <tbody>\n",
              "    <tr>\n",
              "      <td>0</td>\n",
              "      <td>0.213888</td>\n",
              "      <td>0.168152</td>\n",
              "      <td>0.936520</td>\n",
              "      <td>24:37</td>\n",
              "    </tr>\n",
              "  </tbody>\n",
              "</table>"
            ],
            "text/plain": [
              "<IPython.core.display.HTML object>"
            ]
          },
          "metadata": {
            "tags": []
          }
        }
      ]
    },
    {
      "metadata": {
        "colab_type": "code",
        "outputId": "87aa2d8f-c1f3-4caa-9508-832ff2e8aa88",
        "id": "W_cYfIJx4bGz",
        "colab": {
          "base_uri": "https://localhost:8080/",
          "height": 35
        }
      },
      "cell_type": "code",
      "source": [
        "learn.predict(\"I really loved that movie, it was awesome!\")"
      ],
      "execution_count": 51,
      "outputs": [
        {
          "output_type": "execute_result",
          "data": {
            "text/plain": [
              "(Category pos, tensor(1), tensor([3.6104e-05, 9.9996e-01]))"
            ]
          },
          "metadata": {
            "tags": []
          },
          "execution_count": 51
        }
      ]
    },
    {
      "metadata": {
        "id": "f5dztYq5km5q",
        "colab_type": "code",
        "colab": {}
      },
      "cell_type": "code",
      "source": [
        ""
      ],
      "execution_count": 0,
      "outputs": []
    }
  ]
}