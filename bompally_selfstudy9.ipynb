{
  "nbformat": 4,
  "nbformat_minor": 0,
  "metadata": {
    "colab": {
      "name": "bompally_selfstudy9.ipynb",
      "version": "0.3.2",
      "provenance": [],
      "collapsed_sections": [],
      "include_colab_link": true
    },
    "kernelspec": {
      "name": "python3",
      "display_name": "Python 3"
    }
  },
  "cells": [
    {
      "cell_type": "markdown",
      "metadata": {
        "id": "view-in-github",
        "colab_type": "text"
      },
      "source": [
        "<a href=\"https://colab.research.google.com/github/rohanguptha/INFO5731/blob/master/bompally_selfstudy9.ipynb\" target=\"_parent\"><img src=\"https://colab.research.google.com/assets/colab-badge.svg\" alt=\"Open In Colab\"/></a>"
      ]
    },
    {
      "metadata": {
        "id": "mhYLd5jCrNaP",
        "colab_type": "text"
      },
      "cell_type": "markdown",
      "source": [
        "# Self Study 9"
      ]
    },
    {
      "metadata": {
        "id": "gdwahkn0xA3V",
        "colab_type": "code",
        "colab": {}
      },
      "cell_type": "code",
      "source": [
        "num_friends = [100,49,41,40,25,21,21,19,19,18,18,16,15,15,15,15,14,14,13,13,13,13,12,12,11,10,10,10,10,10,10,10,10,10,10,10,10,10,10,10,9,9,9,9,9,9,9,9,9,9,9,9,9,9,9,9,9,9,8,8,8,8,8,8,8,8,8,8,8,8,8,7,7,7,7,7,7,7,7,7,7,7,7,7,7,7,6,6,6,6,6,6,6,6,6,6,6,6,6,6,6,6,6,6,6,6,6,6,5,5,5,5,5,5,5,5,5,5,5,5,5,5,5,5,5,4,4,4,4,4,4,4,4,4,4,4,4,4,4,4,4,4,4,4,4,3,3,3,3,3,3,3,3,3,3,3,3,3,3,3,3,3,3,3,3,2,2,2,2,2,2,2,2,2,2,2,2,2,2,2,2,2,1,1,1,1,1,1,1,1,1,1,1,1,1,1,1,1,1,1,1,1,1,1]"
      ],
      "execution_count": 0,
      "outputs": []
    },
    {
      "metadata": {
        "id": "2o4ZFNZBxe20",
        "colab_type": "code",
        "colab": {}
      },
      "cell_type": "code",
      "source": [
        "from collections import Counter\n",
        "import math\n",
        "import matplotlib.pyplot as plt\n",
        "from linear_algebra import sum_of_squares, dot"
      ],
      "execution_count": 0,
      "outputs": []
    },
    {
      "metadata": {
        "id": "3nkedCHMxGvY",
        "colab_type": "code",
        "outputId": "4aac5253-cc66-437c-a89c-3837f9eb36cc",
        "colab": {
          "base_uri": "https://localhost:8080/",
          "height": 376
        }
      },
      "cell_type": "code",
      "source": [
        "friend_counts = Counter(num_friends)\n",
        "xs = range(101) # largest value is 100\n",
        "ys = [friend_counts[x] for x in xs] # height is just # of friends\n",
        "plt.bar(xs, ys)\n",
        "plt.axis([0, 101, 0, 25])\n",
        "plt.title(\"Histogram of Friend Counts\")\n",
        "plt.xlabel(\"# of friends\")\n",
        "plt.ylabel(\"# of people\")\n",
        "plt.show()"
      ],
      "execution_count": 0,
      "outputs": [
        {
          "output_type": "display_data",
          "data": {
            "image/png": "[encoded data removed]",
            "text/plain": [
              "<Figure size 576x396 with 1 Axes>"
            ]
          },
          "metadata": {
            "tags": []
          }
        }
      ]
    },
    {
      "metadata": {
        "id": "pcKpnn89xgz3",
        "colab_type": "code",
        "outputId": "9de617d7-2bf7-4a63-f8af-6fc34e24101c",
        "colab": {
          "base_uri": "https://localhost:8080/",
          "height": 34
        }
      },
      "cell_type": "code",
      "source": [
        "num_points = len(num_friends) \n",
        "num_points"
      ],
      "execution_count": 0,
      "outputs": [
        {
          "output_type": "execute_result",
          "data": {
            "text/plain": [
              "204"
            ]
          },
          "metadata": {
            "tags": []
          },
          "execution_count": 92
        }
      ]
    },
    {
      "metadata": {
        "id": "hDWle1n3yG8H",
        "colab_type": "code",
        "outputId": "330ed856-9576-4548-9859-e818f681a3b3",
        "colab": {
          "base_uri": "https://localhost:8080/",
          "height": 34
        }
      },
      "cell_type": "code",
      "source": [
        "largest_value = max(num_friends) \n",
        "largest_value"
      ],
      "execution_count": 0,
      "outputs": [
        {
          "output_type": "execute_result",
          "data": {
            "text/plain": [
              "100"
            ]
          },
          "metadata": {
            "tags": []
          },
          "execution_count": 93
        }
      ]
    },
    {
      "metadata": {
        "id": "t-HtzGC_ynpm",
        "colab_type": "code",
        "outputId": "81f8d520-e53c-4048-a3cf-a63d44873fb9",
        "colab": {
          "base_uri": "https://localhost:8080/",
          "height": 34
        }
      },
      "cell_type": "code",
      "source": [
        "smallest_value = min(num_friends) \n",
        "smallest_value"
      ],
      "execution_count": 0,
      "outputs": [
        {
          "output_type": "execute_result",
          "data": {
            "text/plain": [
              "1"
            ]
          },
          "metadata": {
            "tags": []
          },
          "execution_count": 94
        }
      ]
    },
    {
      "metadata": {
        "id": "Ln5d9O05yqR2",
        "colab_type": "code",
        "outputId": "f027be2b-4582-4427-f19f-b4face5dd4ee",
        "colab": {
          "base_uri": "https://localhost:8080/",
          "height": 34
        }
      },
      "cell_type": "code",
      "source": [
        "sorted_values = sorted(num_friends)\n",
        "sorted_values[1:25]"
      ],
      "execution_count": 0,
      "outputs": [
        {
          "output_type": "execute_result",
          "data": {
            "text/plain": [
              "[1, 1, 1, 1, 1, 1, 1, 1, 1, 1, 1, 1, 1, 1, 1, 1, 1, 1, 1, 1, 1, 2, 2, 2]"
            ]
          },
          "metadata": {
            "tags": []
          },
          "execution_count": 95
        }
      ]
    },
    {
      "metadata": {
        "id": "TUeuL8SYytq2",
        "colab_type": "code",
        "outputId": "3d196e81-382b-419d-c0cf-2ae0b9865b56",
        "colab": {
          "base_uri": "https://localhost:8080/",
          "height": 34
        }
      },
      "cell_type": "code",
      "source": [
        "smallest_value = sorted_values[0]\n",
        "smallest_value"
      ],
      "execution_count": 0,
      "outputs": [
        {
          "output_type": "execute_result",
          "data": {
            "text/plain": [
              "1"
            ]
          },
          "metadata": {
            "tags": []
          },
          "execution_count": 96
        }
      ]
    },
    {
      "metadata": {
        "id": "yNKNuYm9y-oO",
        "colab_type": "code",
        "outputId": "14b3110a-ef18-494d-a099-cdc623cca37c",
        "colab": {
          "base_uri": "https://localhost:8080/",
          "height": 34
        }
      },
      "cell_type": "code",
      "source": [
        "second_smallest_value = sorted_values[1]\n",
        "second_smallest_value"
      ],
      "execution_count": 0,
      "outputs": [
        {
          "output_type": "execute_result",
          "data": {
            "text/plain": [
              "1"
            ]
          },
          "metadata": {
            "tags": []
          },
          "execution_count": 97
        }
      ]
    },
    {
      "metadata": {
        "id": "jtNLl6IizBWO",
        "colab_type": "code",
        "outputId": "6ee3e601-c051-4ad1-f2b9-72881d397617",
        "colab": {
          "base_uri": "https://localhost:8080/",
          "height": 34
        }
      },
      "cell_type": "code",
      "source": [
        "second_largest_value = sorted_values[-2] \n",
        "second_largest_value"
      ],
      "execution_count": 0,
      "outputs": [
        {
          "output_type": "execute_result",
          "data": {
            "text/plain": [
              "49"
            ]
          },
          "metadata": {
            "tags": []
          },
          "execution_count": 98
        }
      ]
    },
    {
      "metadata": {
        "id": "QJf4q_ayzEWW",
        "colab_type": "code",
        "outputId": "18305d43-31af-445f-dbfc-be3cab848dd4",
        "colab": {
          "base_uri": "https://localhost:8080/",
          "height": 34
        }
      },
      "cell_type": "code",
      "source": [
        "def mean(x):\n",
        "  return sum(x) / len(x)\n",
        "mean(num_friends)"
      ],
      "execution_count": 0,
      "outputs": [
        {
          "output_type": "execute_result",
          "data": {
            "text/plain": [
              "7.333333333333333"
            ]
          },
          "metadata": {
            "tags": []
          },
          "execution_count": 99
        }
      ]
    },
    {
      "metadata": {
        "id": "VS3_YJ3NzInm",
        "colab_type": "code",
        "outputId": "500c6d71-3914-441c-fa2f-ea5e28f3e8e9",
        "colab": {
          "base_uri": "https://localhost:8080/",
          "height": 34
        }
      },
      "cell_type": "code",
      "source": [
        "def median(v):\n",
        "    \"\"\"finds the 'middle-most' value of v\"\"\"\n",
        "    n = len(v)\n",
        "    sorted_v = sorted(v)\n",
        "    midpoint = n // 2\n",
        "\n",
        "    if n % 2 == 1:\n",
        "        # if odd, return the middle value\n",
        "        return sorted_v[midpoint]\n",
        "    else:\n",
        "        # if even, return the average of the middle values\n",
        "        lo = midpoint - 1\n",
        "        hi = midpoint\n",
        "        return (sorted_v[lo] + sorted_v[hi]) / 2\n",
        "median(num_friends)"
      ],
      "execution_count": 0,
      "outputs": [
        {
          "output_type": "execute_result",
          "data": {
            "text/plain": [
              "6.0"
            ]
          },
          "metadata": {
            "tags": []
          },
          "execution_count": 100
        }
      ]
    },
    {
      "metadata": {
        "id": "agcwGdmhzSom",
        "colab_type": "code",
        "colab": {}
      },
      "cell_type": "code",
      "source": [
        "def quantile(x, p):\n",
        "    \"\"\"returns the pth-percentile value in x\"\"\"\n",
        "    p_index = int(p * len(x))\n",
        "    return sorted(x)[p_index]"
      ],
      "execution_count": 0,
      "outputs": []
    },
    {
      "metadata": {
        "id": "dTrZTRKNzWnW",
        "colab_type": "code",
        "outputId": "dc360ded-4278-4205-e387-3a50f9153a90",
        "colab": {
          "base_uri": "https://localhost:8080/",
          "height": 34
        }
      },
      "cell_type": "code",
      "source": [
        "quantile(num_friends, 0.10)"
      ],
      "execution_count": 0,
      "outputs": [
        {
          "output_type": "execute_result",
          "data": {
            "text/plain": [
              "1"
            ]
          },
          "metadata": {
            "tags": []
          },
          "execution_count": 102
        }
      ]
    },
    {
      "metadata": {
        "id": "qI7MGSXizYeW",
        "colab_type": "code",
        "outputId": "81990096-c16d-4a62-dd52-1c5367e57629",
        "colab": {
          "base_uri": "https://localhost:8080/",
          "height": 34
        }
      },
      "cell_type": "code",
      "source": [
        "quantile(num_friends, 0.25)"
      ],
      "execution_count": 0,
      "outputs": [
        {
          "output_type": "execute_result",
          "data": {
            "text/plain": [
              "3"
            ]
          },
          "metadata": {
            "tags": []
          },
          "execution_count": 103
        }
      ]
    },
    {
      "metadata": {
        "id": "9V9ODkwFzZwW",
        "colab_type": "code",
        "outputId": "6b88e4cf-9286-4e72-855b-b02e37010796",
        "colab": {
          "base_uri": "https://localhost:8080/",
          "height": 34
        }
      },
      "cell_type": "code",
      "source": [
        "quantile(num_friends, 0.75)"
      ],
      "execution_count": 0,
      "outputs": [
        {
          "output_type": "execute_result",
          "data": {
            "text/plain": [
              "9"
            ]
          },
          "metadata": {
            "tags": []
          },
          "execution_count": 104
        }
      ]
    },
    {
      "metadata": {
        "id": "d7gj7HbpzbQO",
        "colab_type": "code",
        "outputId": "dc30471d-a3ff-4cc7-8b4f-36bf251adea7",
        "colab": {
          "base_uri": "https://localhost:8080/",
          "height": 34
        }
      },
      "cell_type": "code",
      "source": [
        "quantile(num_friends, 0.90)"
      ],
      "execution_count": 0,
      "outputs": [
        {
          "output_type": "execute_result",
          "data": {
            "text/plain": [
              "13"
            ]
          },
          "metadata": {
            "tags": []
          },
          "execution_count": 105
        }
      ]
    },
    {
      "metadata": {
        "id": "uKddM5Vmzcj-",
        "colab_type": "code",
        "outputId": "c51dfef0-965a-4062-827f-4c1c73322013",
        "colab": {
          "base_uri": "https://localhost:8080/",
          "height": 34
        }
      },
      "cell_type": "code",
      "source": [
        "def mode(x):\n",
        "    \"\"\"returns a list, might be more than one mode\"\"\"\n",
        "    counts = Counter(x)\n",
        "    max_count = max(counts.values())\n",
        "    return [x_i for x_i, count in counts.items()\n",
        "            if count == max_count]\n",
        "mode(num_friends)"
      ],
      "execution_count": 0,
      "outputs": [
        {
          "output_type": "execute_result",
          "data": {
            "text/plain": [
              "[6, 1]"
            ]
          },
          "metadata": {
            "tags": []
          },
          "execution_count": 106
        }
      ]
    },
    {
      "metadata": {
        "id": "nCEmuDenzgte",
        "colab_type": "code",
        "outputId": "40af5457-d6e0-49ad-e227-fb1b73dbbb05",
        "colab": {
          "base_uri": "https://localhost:8080/",
          "height": 34
        }
      },
      "cell_type": "code",
      "source": [
        "def data_range(x):\n",
        "    return max(x) - min(x)\n",
        "data_range(num_friends) "
      ],
      "execution_count": 0,
      "outputs": [
        {
          "output_type": "execute_result",
          "data": {
            "text/plain": [
              "99"
            ]
          },
          "metadata": {
            "tags": []
          },
          "execution_count": 107
        }
      ]
    },
    {
      "metadata": {
        "id": "Eg6FMTkDzo0d",
        "colab_type": "code",
        "outputId": "7b0974fa-93c5-4390-f75c-54705958e586",
        "colab": {
          "base_uri": "https://localhost:8080/",
          "height": 34
        }
      },
      "cell_type": "code",
      "source": [
        "def de_mean(x):\n",
        "    \"\"\"translate x by subtracting its mean (so the result has mean 0)\"\"\"\n",
        "    x_bar = mean(x)\n",
        "    return [x_i - x_bar for x_i in x]\n",
        "\n",
        "def variance(x):\n",
        "    \"\"\"assumes x has at least two elements\"\"\"\n",
        "    n = len(x)\n",
        "    deviations = de_mean(x)\n",
        "    return sum_of_squares(deviations) / (n - 1)\n",
        "  \n",
        "variance(num_friends) "
      ],
      "execution_count": 0,
      "outputs": [
        {
          "output_type": "execute_result",
          "data": {
            "text/plain": [
              "81.54351395730716"
            ]
          },
          "metadata": {
            "tags": []
          },
          "execution_count": 108
        }
      ]
    },
    {
      "metadata": {
        "id": "frmRE12ozvHP",
        "colab_type": "code",
        "outputId": "145b6749-9440-46c1-e60e-ccefaebb7929",
        "colab": {
          "base_uri": "https://localhost:8080/",
          "height": 34
        }
      },
      "cell_type": "code",
      "source": [
        "def standard_deviation(x):\n",
        "    return math.sqrt(variance(x))\n",
        "standard_deviation(num_friends)"
      ],
      "execution_count": 0,
      "outputs": [
        {
          "output_type": "execute_result",
          "data": {
            "text/plain": [
              "9.03014473623248"
            ]
          },
          "metadata": {
            "tags": []
          },
          "execution_count": 109
        }
      ]
    },
    {
      "metadata": {
        "id": "gddhRT3P1wCM",
        "colab_type": "code",
        "outputId": "b67a24c4-f39a-45bd-911b-0c64eaaaa9b2",
        "colab": {
          "base_uri": "https://localhost:8080/",
          "height": 34
        }
      },
      "cell_type": "code",
      "source": [
        "def interquartile_range(x):\n",
        "    return quantile(x, 0.75) - quantile(x, 0.25)\n",
        "interquartile_range(num_friends)"
      ],
      "execution_count": 0,
      "outputs": [
        {
          "output_type": "execute_result",
          "data": {
            "text/plain": [
              "6"
            ]
          },
          "metadata": {
            "tags": []
          },
          "execution_count": 110
        }
      ]
    },
    {
      "metadata": {
        "id": "PTQgshe21zcs",
        "colab_type": "code",
        "colab": {}
      },
      "cell_type": "code",
      "source": [
        "daily_minutes = [1,68.77,51.25,52.08,38.36,44.54,57.13,51.4,41.42,31.22,34.76,54.01,38.79,47.59,49.1,27.66,41.03,36.73,48.65,28.12,46.62,35.57,32.98,35,26.07,23.77,39.73,40.57,31.65,31.21,36.32,20.45,21.93,26.02,27.34,23.49,46.94,30.5,33.8,24.23,21.4,27.94,32.24,40.57,25.07,19.42,22.39,18.42,46.96,23.72,26.41,26.97,36.76,40.32,35.02,29.47,30.2,31,38.11,38.18,36.31,21.03,30.86,36.07,28.66,29.08,37.28,15.28,24.17,22.31,30.17,25.53,19.85,35.37,44.6,17.23,13.47,26.33,35.02,32.09,24.81,19.33,28.77,24.26,31.98,25.73,24.86,16.28,34.51,15.23,39.72,40.8,26.06,35.76,34.76,16.13,44.04,18.03,19.65,32.62,35.59,39.43,14.18,35.24,40.13,41.82,35.45,36.07,43.67,24.61,20.9,21.9,18.79,27.61,27.21,26.61,29.77,20.59,27.53,13.82,33.2,25,33.1,36.65,18.63,14.87,22.2,36.81,25.53,24.62,26.25,18.21,28.08,19.42,29.79,32.8,35.99,28.32,27.79,35.88,29.06,36.28,14.1,36.63,37.49,26.9,18.58,38.48,24.48,18.95,33.55,14.24,29.04,32.51,25.63,22.22,19,32.73,15.16,13.9,27.2,32.01,29.27,33,13.74,20.42,27.32,18.23,35.35,28.48,9.08,24.62,20.12,35.26,19.92,31.02,16.49,12.16,30.7,31.22,34.65,13.13,27.51,33.2,31.57,14.1,33.42,17.44,10.12,24.42,9.82,23.39,30.93,15.03,21.67,31.09,33.29,22.61,26.89,23.48,8.38,27.81,32.35,23.84]\n"
      ],
      "execution_count": 0,
      "outputs": []
    },
    {
      "metadata": {
        "id": "9Eus-r0N1-x6",
        "colab_type": "code",
        "outputId": "289063e6-f698-4ee5-a774-a4c444a41db5",
        "colab": {
          "base_uri": "https://localhost:8080/",
          "height": 34
        }
      },
      "cell_type": "code",
      "source": [
        "def covariance(x, y):\n",
        "    n = len(x)\n",
        "    return dot(de_mean(x), de_mean(y)) / (n - 1)\n",
        "covariance(num_friends, daily_minutes)"
      ],
      "execution_count": 0,
      "outputs": [
        {
          "output_type": "execute_result",
          "data": {
            "text/plain": [
              "22.425435139573064"
            ]
          },
          "metadata": {
            "tags": []
          },
          "execution_count": 112
        }
      ]
    },
    {
      "metadata": {
        "id": "39KFNviv1_kC",
        "colab_type": "code",
        "outputId": "dd3fd980-f377-4a55-ac2e-2a0eb80a729e",
        "colab": {
          "base_uri": "https://localhost:8080/",
          "height": 34
        }
      },
      "cell_type": "code",
      "source": [
        "def correlation(x, y):\n",
        "    stdev_x = standard_deviation(x)\n",
        "    stdev_y = standard_deviation(y)\n",
        "    if stdev_x > 0 and stdev_y > 0:\n",
        "        return covariance(x, y) / stdev_x / stdev_y\n",
        "    else:\n",
        "        return 0 # if no variation, correlation is zero\n",
        "correlation(num_friends, daily_minutes)"
      ],
      "execution_count": 0,
      "outputs": [
        {
          "output_type": "execute_result",
          "data": {
            "text/plain": [
              "0.24736957366478218"
            ]
          },
          "metadata": {
            "tags": []
          },
          "execution_count": 113
        }
      ]
    },
    {
      "metadata": {
        "id": "cJwAG-n82GjS",
        "colab_type": "code",
        "outputId": "d9872cb2-e223-4fb3-8d85-52e14ef4e4bf",
        "colab": {
          "base_uri": "https://localhost:8080/",
          "height": 376
        }
      },
      "cell_type": "code",
      "source": [
        "import matplotlib.pyplot as plt\n",
        "plt.scatter(num_friends, daily_minutes)\n",
        "plt.xlabel('# of friends')\n",
        "plt.ylabel('minutes per day')\n",
        "plt.title('Correlation with an Outlier')\n",
        "plt.show()"
      ],
      "execution_count": 0,
      "outputs": [
        {
          "output_type": "display_data",
          "data": {
            "image/png": "[encoded data removed]",
            "text/plain": [
              "<Figure size 576x396 with 1 Axes>"
            ]
          },
          "metadata": {
            "tags": []
          }
        }
      ]
    },
    {
      "metadata": {
        "id": "m9aXe8dG2qsK",
        "colab_type": "code",
        "colab": {}
      },
      "cell_type": "code",
      "source": [
        "outlier = num_friends.index(100) "
      ],
      "execution_count": 0,
      "outputs": []
    },
    {
      "metadata": {
        "id": "ZwlDbtfy24Rh",
        "colab_type": "code",
        "colab": {}
      },
      "cell_type": "code",
      "source": [
        "num_friends_good = [x\n",
        "                    for i, x in enumerate(num_friends)\n",
        "                    if i != outlier]\n",
        "\n",
        "daily_minutes_good = [x\n",
        "                      for i, x in enumerate(daily_minutes)\n",
        "                      if i != outlier]"
      ],
      "execution_count": 0,
      "outputs": []
    },
    {
      "metadata": {
        "id": "j8vUPgq528I5",
        "colab_type": "code",
        "outputId": "7a1b329b-37fc-4e03-f296-2148e01c8bf3",
        "colab": {
          "base_uri": "https://localhost:8080/",
          "height": 34
        }
      },
      "cell_type": "code",
      "source": [
        "correlation(num_friends_good, daily_minutes_good) "
      ],
      "execution_count": 0,
      "outputs": [
        {
          "output_type": "execute_result",
          "data": {
            "text/plain": [
              "0.5736792115665573"
            ]
          },
          "metadata": {
            "tags": []
          },
          "execution_count": 117
        }
      ]
    },
    {
      "metadata": {
        "id": "LKIRZ-gX2_zK",
        "colab_type": "code",
        "outputId": "1a53182a-f079-4cf5-d5f4-d27e3ca33790",
        "colab": {
          "base_uri": "https://localhost:8080/",
          "height": 376
        }
      },
      "cell_type": "code",
      "source": [
        "plt.scatter(num_friends_good, daily_minutes_good)\n",
        "plt.xlabel('# of friends')\n",
        "plt.ylabel('minutes per day')\n",
        "plt.title('Correlation After Removing the Outlier')\n",
        "plt.show()"
      ],
      "execution_count": 0,
      "outputs": [
        {
          "output_type": "display_data",
          "data": {
            "image/png": "[encoded data removed]",
            "text/plain": [
              "<Figure size 576x396 with 1 Axes>"
            ]
          },
          "metadata": {
            "tags": []
          }
        }
      ]
    },
    {
      "metadata": {
        "id": "W6whnBKXsRXw",
        "colab_type": "code",
        "colab": {}
      },
      "cell_type": "code",
      "source": [
        "outlier = num_friends.index(49) "
      ],
      "execution_count": 0,
      "outputs": []
    },
    {
      "metadata": {
        "id": "XFj3jlf3sRa0",
        "colab_type": "code",
        "colab": {}
      },
      "cell_type": "code",
      "source": [
        "num_friends_good = [x\n",
        "                    for i, x in enumerate(num_friends_good)\n",
        "                    if i != outlier]\n",
        "\n",
        "daily_minutes_good = [x\n",
        "                      for i, x in enumerate(daily_minutes_good)\n",
        "                      if i != outlier]"
      ],
      "execution_count": 0,
      "outputs": []
    },
    {
      "metadata": {
        "id": "PNCNc7rNsnRK",
        "colab_type": "code",
        "outputId": "cb73ebbc-4229-44d3-c7b1-67a117738f59",
        "colab": {
          "base_uri": "https://localhost:8080/",
          "height": 376
        }
      },
      "cell_type": "code",
      "source": [
        "plt.scatter(num_friends_good, daily_minutes_good)\n",
        "plt.xlabel('# of friends')\n",
        "plt.ylabel('minutes per day')\n",
        "plt.title('Correlation After Removing the Outlier')\n",
        "plt.show()"
      ],
      "execution_count": 0,
      "outputs": [
        {
          "output_type": "display_data",
          "data": {
            "image/png": "[encoded data removed]",
            "text/plain": [
              "<Figure size 576x396 with 1 Axes>"
            ]
          },
          "metadata": {
            "tags": []
          }
        }
      ]
    },
    {
      "metadata": {
        "id": "IGhx16IM3KHB",
        "colab_type": "code",
        "colab": {}
      },
      "cell_type": "code",
      "source": [
        "import math, random"
      ],
      "execution_count": 0,
      "outputs": []
    },
    {
      "metadata": {
        "id": "XxTpi5av3uLJ",
        "colab_type": "code",
        "colab": {}
      },
      "cell_type": "code",
      "source": [
        "def random_kid():\n",
        "  return random.choice([\"boy\", \"girl\"])\n",
        "both_girls = 0\n",
        "older_girl = 0\n",
        "either_girl = 0\n",
        "random.seed(0)\n",
        "for _ in range(10000):\n",
        "  younger = random_kid()\n",
        "  older = random_kid()\n",
        "  if older == \"girl\":\n",
        "    older_girl += 1\n",
        "  if older == \"girl\" and younger == \"girl\":\n",
        "    both_girls += 1\n",
        "  if older == \"girl\" or younger == \"girl\":\n",
        "    either_girl += 1"
      ],
      "execution_count": 0,
      "outputs": []
    },
    {
      "metadata": {
        "id": "jt09hPWQ37Ix",
        "colab_type": "code",
        "outputId": "7cee8b5d-3c94-4983-b72e-b861231f903b",
        "colab": {
          "base_uri": "https://localhost:8080/",
          "height": 34
        }
      },
      "cell_type": "code",
      "source": [
        "print (\"P(both | older):\", both_girls / older_girl)"
      ],
      "execution_count": 0,
      "outputs": [
        {
          "output_type": "stream",
          "text": [
            "P(both | older): 0.5007089325501317\n"
          ],
          "name": "stdout"
        }
      ]
    },
    {
      "metadata": {
        "id": "yvSMLAoA4BMh",
        "colab_type": "code",
        "outputId": "43680dfc-d6af-4dcf-acd2-88dc915c725f",
        "colab": {
          "base_uri": "https://localhost:8080/",
          "height": 34
        }
      },
      "cell_type": "code",
      "source": [
        "print (\"P(both | either): \", both_girls / either_girl)"
      ],
      "execution_count": 0,
      "outputs": [
        {
          "output_type": "stream",
          "text": [
            "P(both | either):  0.3311897106109325\n"
          ],
          "name": "stdout"
        }
      ]
    },
    {
      "metadata": {
        "id": "ga3f0vPK4Iyq",
        "colab_type": "code",
        "colab": {}
      },
      "cell_type": "code",
      "source": [
        "def uniform_pdf(x):\n",
        "    return 1 if x >= 0 and x < 1 else 0"
      ],
      "execution_count": 0,
      "outputs": []
    },
    {
      "metadata": {
        "id": "Y6_o9UKd4N7a",
        "colab_type": "code",
        "colab": {}
      },
      "cell_type": "code",
      "source": [
        "def uniform_cdf(x):\n",
        "    \"returns the probability that a uniform random variable is less than x\"\n",
        "    if x < 0:   return 0    # uniform random is never less than 0\n",
        "    elif x < 1: return x    # e.g. P(X < 0.4) = 0.4\n",
        "    else:       return 1    # uniform random is always less than 1"
      ],
      "execution_count": 0,
      "outputs": []
    },
    {
      "metadata": {
        "id": "0omgoEBe4iyB",
        "colab_type": "code",
        "colab": {}
      },
      "cell_type": "code",
      "source": [
        "def normal_pdf(x, mu=0, sigma=1):\n",
        "    sqrt_two_pi = math.sqrt(2 * math.pi)\n",
        "    return (math.exp(-(x-mu) ** 2 / 2 / sigma ** 2) / (sqrt_two_pi * sigma))"
      ],
      "execution_count": 0,
      "outputs": []
    },
    {
      "metadata": {
        "id": "3FhiZCaw4QvC",
        "colab_type": "code",
        "outputId": "a40eb60b-6846-4d3c-ee10-99538db8408c",
        "colab": {
          "base_uri": "https://localhost:8080/",
          "height": 362
        }
      },
      "cell_type": "code",
      "source": [
        "xs = [x / 10.0 for x in range(-50, 50)]\n",
        "plt.plot(xs,[normal_pdf(x,sigma=1) for x in xs],'-',label='mu=0,sigma=1')\n",
        "plt.plot(xs,[normal_pdf(x,sigma=2) for x in xs],'--',label='mu=0,sigma=2')\n",
        "plt.plot(xs,[normal_pdf(x,sigma=0.5) for x in xs],':',label='mu=0,sigma=0.5')\n",
        "plt.plot(xs,[normal_pdf(x,mu=-1) for x in xs],'-.',label='mu=-1,sigma=1')\n",
        "plt.legend()\n",
        "plt.title(\"Various Normal pdfs\")\n",
        "plt.show()"
      ],
      "execution_count": 0,
      "outputs": [
        {
          "output_type": "display_data",
          "data": {
            "image/png": "[encoded data removed]",
            "text/plain": [
              "<Figure size 576x396 with 1 Axes>"
            ]
          },
          "metadata": {
            "tags": []
          }
        }
      ]
    },
    {
      "metadata": {
        "id": "GDpC0M4s4bV6",
        "colab_type": "code",
        "colab": {}
      },
      "cell_type": "code",
      "source": [
        "def normal_cdf(x, mu=0,sigma=1):\n",
        "    return (1 + math.erf((x - mu) / math.sqrt(2) / sigma)) / 2"
      ],
      "execution_count": 0,
      "outputs": []
    },
    {
      "metadata": {
        "id": "uHnhNfP34dX6",
        "colab_type": "code",
        "outputId": "efd0423c-f1d0-4779-bfa3-6864122fc7fc",
        "colab": {
          "base_uri": "https://localhost:8080/",
          "height": 362
        }
      },
      "cell_type": "code",
      "source": [
        "plt.plot(xs,[normal_cdf(x,sigma=1) for x in xs],'-',label='mu=0,sigma=1')\n",
        "plt.plot(xs,[normal_cdf(x,sigma=2) for x in xs],'--',label='mu=0,sigma=2')\n",
        "plt.plot(xs,[normal_cdf(x,sigma=0.5) for x in xs],':',label='mu=0,sigma=0.5')\n",
        "plt.plot(xs,[normal_cdf(x,mu=-1) for x in xs],'-.',label='mu=-1,sigma=1')\n",
        "plt.legend(loc=4) # bottom right\n",
        "plt.title(\"Various Normal cdfs\")\n",
        "plt.show()\n"
      ],
      "execution_count": 0,
      "outputs": [
        {
          "output_type": "display_data",
          "data": {
            "image/png": "[encoded data removed]",
            "text/plain": [
              "<Figure size 576x396 with 1 Axes>"
            ]
          },
          "metadata": {
            "tags": []
          }
        }
      ]
    },
    {
      "metadata": {
        "id": "JC9allZQ5ABL",
        "colab_type": "code",
        "colab": {}
      },
      "cell_type": "code",
      "source": [
        "def inverse_normal_cdf(p, mu=0, sigma=1, tolerance=0.00001):\n",
        "    \"\"\"find approximate inverse using binary search\"\"\"\n",
        "\n",
        "    # if not standard, compute standard and rescale\n",
        "    if mu != 0 or sigma != 1:\n",
        "        return mu + sigma * inverse_normal_cdf(p, tolerance=tolerance)\n",
        "\n",
        "    low_z, low_p = -10.0, 0            # normal_cdf(-10) is (very close to) 0\n",
        "    hi_z,  hi_p  =  10.0, 1            # normal_cdf(10)  is (very close to) 1\n",
        "    while hi_z - low_z > tolerance:\n",
        "        mid_z = (low_z + hi_z) / 2     # consider the midpoint\n",
        "        mid_p = normal_cdf(mid_z)      # and the cdf's value there\n",
        "        if mid_p < p:\n",
        "            # midpoint is still too low, search above it\n",
        "            low_z, low_p = mid_z, mid_p\n",
        "        elif mid_p > p:\n",
        "            # midpoint is still too high, search below it\n",
        "            hi_z, hi_p = mid_z, mid_p\n",
        "        else:\n",
        "            break\n",
        "\n",
        "    return mid_z"
      ],
      "execution_count": 0,
      "outputs": []
    },
    {
      "metadata": {
        "id": "Ij7qaNFG5DIs",
        "colab_type": "code",
        "colab": {}
      },
      "cell_type": "code",
      "source": [
        "def bernoulli_trial(p):\n",
        "    return 1 if random.random() < p else 0"
      ],
      "execution_count": 0,
      "outputs": []
    },
    {
      "metadata": {
        "id": "Vc7RRXx65HNc",
        "colab_type": "code",
        "colab": {}
      },
      "cell_type": "code",
      "source": [
        "def binomial(p, n):\n",
        "    return sum(bernoulli_trial(p) for _ in range(n))"
      ],
      "execution_count": 0,
      "outputs": []
    },
    {
      "metadata": {
        "id": "AxWoYqbF5IcL",
        "colab_type": "code",
        "colab": {}
      },
      "cell_type": "code",
      "source": [
        "def make_hist(p, n, num_points):\n",
        "\n",
        "    data = [binomial(p, n) for _ in range(num_points)]\n",
        "\n",
        "    # use a bar chart to show the actual binomial samples\n",
        "    histogram = Counter(data)\n",
        "    plt.bar([x - 0.4 for x in histogram.keys()],\n",
        "            [v / num_points for v in histogram.values()],\n",
        "            0.8,\n",
        "            color='0.75')\n",
        "\n",
        "    mu = p * n\n",
        "    sigma = math.sqrt(n * p * (1 - p))\n",
        "\n",
        "    # use a line chart to show the normal approximation\n",
        "    xs = range(min(data), max(data) + 1)\n",
        "    ys = [normal_cdf(i + 0.5, mu, sigma) - normal_cdf(i - 0.5, mu, sigma)\n",
        "          for i in xs]\n",
        "    plt.plot(xs,ys)\n",
        "    plt.show()"
      ],
      "execution_count": 0,
      "outputs": []
    },
    {
      "metadata": {
        "id": "y360AAyV5Kir",
        "colab_type": "code",
        "outputId": "f3d202f0-5df6-4aae-8e16-feabcca52b24",
        "colab": {
          "base_uri": "https://localhost:8080/",
          "height": 347
        }
      },
      "cell_type": "code",
      "source": [
        "make_hist(0.75, 100, 10000)"
      ],
      "execution_count": 0,
      "outputs": [
        {
          "output_type": "display_data",
          "data": {
            "image/png": "[encoded data removed]",
            "text/plain": [
              "<Figure size 576x396 with 1 Axes>"
            ]
          },
          "metadata": {
            "tags": []
          }
        }
      ]
    },
    {
      "metadata": {
        "id": "5UA1ffWL5Nij",
        "colab_type": "code",
        "colab": {}
      },
      "cell_type": "code",
      "source": [
        "from probability import normal_cdf, inverse_normal_cdf"
      ],
      "execution_count": 0,
      "outputs": []
    },
    {
      "metadata": {
        "id": "bELTzB5N56CL",
        "colab_type": "code",
        "colab": {}
      },
      "cell_type": "code",
      "source": [
        "def normal_approximation_to_binomial(n, p):\n",
        "    \"\"\"finds mu and sigma corresponding to a Binomial(n, p)\"\"\"\n",
        "    mu = p * n\n",
        "    sigma = math.sqrt(p * (1 - p) * n)\n",
        "    return mu, sigma"
      ],
      "execution_count": 0,
      "outputs": []
    },
    {
      "metadata": {
        "id": "di_74OSw5-Mj",
        "colab_type": "code",
        "colab": {}
      },
      "cell_type": "code",
      "source": [
        "# the normal cdf _is_ the probability the variable is below a threshold\n",
        "normal_probability_below = normal_cdf"
      ],
      "execution_count": 0,
      "outputs": []
    },
    {
      "metadata": {
        "id": "BWk7F5Tz6Bcj",
        "colab_type": "code",
        "colab": {}
      },
      "cell_type": "code",
      "source": [
        "# it's above the threshold if it's not below the threshold\n",
        "def normal_probability_above(lo, mu=0, sigma=1):\n",
        "    return 1 - normal_cdf(lo, mu, sigma)"
      ],
      "execution_count": 0,
      "outputs": []
    },
    {
      "metadata": {
        "id": "EZIKiIfi6C7j",
        "colab_type": "code",
        "colab": {}
      },
      "cell_type": "code",
      "source": [
        "# it's between if it's less than hi, but not less than lo\n",
        "def normal_probability_between(lo, hi, mu=0, sigma=1):\n",
        "    return normal_cdf(hi, mu, sigma) - normal_cdf(lo, mu, sigma)"
      ],
      "execution_count": 0,
      "outputs": []
    },
    {
      "metadata": {
        "id": "ePdYOBVh6Elb",
        "colab_type": "code",
        "colab": {}
      },
      "cell_type": "code",
      "source": [
        "# it's outside if it's not between\n",
        "def normal_probability_outside(lo, hi, mu=0, sigma=1):\n",
        "    return 1 - normal_probability_between(lo, hi, mu, sigma)"
      ],
      "execution_count": 0,
      "outputs": []
    },
    {
      "metadata": {
        "id": "WEskxX576IFL",
        "colab_type": "code",
        "colab": {}
      },
      "cell_type": "code",
      "source": [
        "def normal_upper_bound(probability, mu=0, sigma=1):\n",
        "    \"\"\"returns the z for which P(Z <= z) = probability\"\"\"\n",
        "    return inverse_normal_cdf(probability, mu, sigma)"
      ],
      "execution_count": 0,
      "outputs": []
    },
    {
      "metadata": {
        "id": "opuG7Prg6KPz",
        "colab_type": "code",
        "colab": {}
      },
      "cell_type": "code",
      "source": [
        "def normal_lower_bound(probability, mu=0, sigma=1):\n",
        "    \"\"\"returns the z for which P(Z >= z) = probability\"\"\"\n",
        "    return inverse_normal_cdf(1 - probability, mu, sigma)"
      ],
      "execution_count": 0,
      "outputs": []
    },
    {
      "metadata": {
        "id": "GEVH1AK86Lk7",
        "colab_type": "code",
        "colab": {}
      },
      "cell_type": "code",
      "source": [
        "def normal_two_sided_bounds(probability, mu=0, sigma=1):\n",
        "    \"\"\"returns the symmetric (about the mean) bounds\n",
        "    that contain the specified probability\"\"\"\n",
        "    tail_probability = (1 - probability) / 2\n",
        "\n",
        "    # upper bound should have tail_probability above it\n",
        "    upper_bound = normal_lower_bound(tail_probability, mu, sigma)\n",
        "\n",
        "    # lower bound should have tail_probability below it\n",
        "    lower_bound = normal_upper_bound(tail_probability, mu, sigma)\n",
        "\n",
        "    return lower_bound, upper_bound"
      ],
      "execution_count": 0,
      "outputs": []
    },
    {
      "metadata": {
        "id": "yawPaJJ76TTz",
        "colab_type": "code",
        "outputId": "eab9c327-8b2a-47dc-c3ba-d3fdf47d90ee",
        "colab": {
          "base_uri": "https://localhost:8080/",
          "height": 34
        }
      },
      "cell_type": "code",
      "source": [
        "mu_0, sigma_0 = normal_approximation_to_binomial(1000, 0.5)\n",
        "mu_0, sigma_0"
      ],
      "execution_count": 0,
      "outputs": [
        {
          "output_type": "execute_result",
          "data": {
            "text/plain": [
              "(500.0, 15.811388300841896)"
            ]
          },
          "metadata": {
            "tags": []
          },
          "execution_count": 146
        }
      ]
    },
    {
      "metadata": {
        "id": "m0uPWlqE6bMC",
        "colab_type": "code",
        "outputId": "1c2d585d-5816-4ad2-a1ec-8b58c3785d47",
        "colab": {
          "base_uri": "https://localhost:8080/",
          "height": 34
        }
      },
      "cell_type": "code",
      "source": [
        "normal_two_sided_bounds(0.95, mu_0, sigma_0)"
      ],
      "execution_count": 0,
      "outputs": [
        {
          "output_type": "execute_result",
          "data": {
            "text/plain": [
              "(469.01026640487555, 530.9897335951244)"
            ]
          },
          "metadata": {
            "tags": []
          },
          "execution_count": 147
        }
      ]
    },
    {
      "metadata": {
        "id": "LQ5wnF5v6vdB",
        "colab_type": "code",
        "outputId": "d26b053c-aef1-4ac9-c3c8-ef71a1302362",
        "colab": {
          "base_uri": "https://localhost:8080/",
          "height": 34
        }
      },
      "cell_type": "code",
      "source": [
        "# 95% bounds based on assumption p is 0.5\n",
        "lo, hi = normal_two_sided_bounds(0.95, mu_0, sigma_0)\n",
        "lo, hi"
      ],
      "execution_count": 0,
      "outputs": [
        {
          "output_type": "execute_result",
          "data": {
            "text/plain": [
              "(469.01026640487555, 530.9897335951244)"
            ]
          },
          "metadata": {
            "tags": []
          },
          "execution_count": 148
        }
      ]
    },
    {
      "metadata": {
        "id": "Nq_4mZ-D6vlv",
        "colab_type": "code",
        "outputId": "1308912c-2887-4a06-ece0-0e846fac473b",
        "colab": {
          "base_uri": "https://localhost:8080/",
          "height": 34
        }
      },
      "cell_type": "code",
      "source": [
        "# actual mu and sigma based on p = 0.55\n",
        "mu_1, sigma_1 = normal_approximation_to_binomial(1000, 0.55)\n",
        "mu_1, sigma_1"
      ],
      "execution_count": 0,
      "outputs": [
        {
          "output_type": "execute_result",
          "data": {
            "text/plain": [
              "(550.0, 15.732132722552274)"
            ]
          },
          "metadata": {
            "tags": []
          },
          "execution_count": 149
        }
      ]
    },
    {
      "metadata": {
        "id": "yMYygiTj6vwg",
        "colab_type": "code",
        "outputId": "493c140e-0bd7-4c0b-a250-67b8292f1d10",
        "colab": {
          "base_uri": "https://localhost:8080/",
          "height": 34
        }
      },
      "cell_type": "code",
      "source": [
        "type_2_probability = normal_probability_between(lo, hi, mu_1, sigma_1)\n",
        "power = 1 - type_2_probability\n",
        "type_2_probability, power"
      ],
      "execution_count": 0,
      "outputs": [
        {
          "output_type": "execute_result",
          "data": {
            "text/plain": [
              "(0.11345199870463285, 0.8865480012953671)"
            ]
          },
          "metadata": {
            "tags": []
          },
          "execution_count": 150
        }
      ]
    },
    {
      "metadata": {
        "id": "gzHkjQfV6v8K",
        "colab_type": "code",
        "outputId": "373a48e3-5d20-45f6-f275-8edd7f00cb09",
        "colab": {
          "base_uri": "https://localhost:8080/",
          "height": 34
        }
      },
      "cell_type": "code",
      "source": [
        "hi = normal_upper_bound(0.95, mu_0, sigma_0)\n",
        "hi"
      ],
      "execution_count": 0,
      "outputs": [
        {
          "output_type": "execute_result",
          "data": {
            "text/plain": [
              "526.0073585242053"
            ]
          },
          "metadata": {
            "tags": []
          },
          "execution_count": 151
        }
      ]
    },
    {
      "metadata": {
        "id": "3Vt2Tgn16wGI",
        "colab_type": "code",
        "outputId": "f23b3510-9462-4bc7-c627-55906226a9ca",
        "colab": {
          "base_uri": "https://localhost:8080/",
          "height": 34
        }
      },
      "cell_type": "code",
      "source": [
        "type_2_probability = normal_probability_below(hi, mu_1, sigma_1)\n",
        "type_2_probability"
      ],
      "execution_count": 0,
      "outputs": [
        {
          "output_type": "execute_result",
          "data": {
            "text/plain": [
              "0.06362051966928273"
            ]
          },
          "metadata": {
            "tags": []
          },
          "execution_count": 152
        }
      ]
    },
    {
      "metadata": {
        "id": "9-5BHYj-6wPt",
        "colab_type": "code",
        "outputId": "345faa52-df8b-4e21-843e-2fdfd0e19f1f",
        "colab": {
          "base_uri": "https://localhost:8080/",
          "height": 34
        }
      },
      "cell_type": "code",
      "source": [
        "power = 1 - type_2_probability \n",
        "power"
      ],
      "execution_count": 0,
      "outputs": [
        {
          "output_type": "execute_result",
          "data": {
            "text/plain": [
              "0.9363794803307173"
            ]
          },
          "metadata": {
            "tags": []
          },
          "execution_count": 153
        }
      ]
    },
    {
      "metadata": {
        "id": "VIa3bujv6NSj",
        "colab_type": "code",
        "colab": {}
      },
      "cell_type": "code",
      "source": [
        "def two_sided_p_value(x, mu=0, sigma=1):\n",
        "    if x >= mu:\n",
        "        # if x is greater than the mean, the tail is above x\n",
        "        return 2 * normal_probability_above(x, mu, sigma)\n",
        "    else:\n",
        "        # if x is less than the mean, the tail is below x\n",
        "        return 2 * normal_probability_below(x, mu, sigma)"
      ],
      "execution_count": 0,
      "outputs": []
    },
    {
      "metadata": {
        "id": "ZnkyoQ_d6PJL",
        "colab_type": "code",
        "outputId": "707fed72-90ea-4e22-c06a-626b3f866ade",
        "colab": {
          "base_uri": "https://localhost:8080/",
          "height": 34
        }
      },
      "cell_type": "code",
      "source": [
        "two_sided_p_value(529.5, mu_0, sigma_0)"
      ],
      "execution_count": 0,
      "outputs": [
        {
          "output_type": "execute_result",
          "data": {
            "text/plain": [
              "0.06207721579598857"
            ]
          },
          "metadata": {
            "tags": []
          },
          "execution_count": 155
        }
      ]
    },
    {
      "metadata": {
        "id": "EuV2XkQU6qIL",
        "colab_type": "code",
        "outputId": "077d988d-7d36-4750-9014-fab86c93eaf5",
        "colab": {
          "base_uri": "https://localhost:8080/",
          "height": 34
        }
      },
      "cell_type": "code",
      "source": [
        "extreme_value_count = 0\n",
        "for _ in range(100000):\n",
        "  num_heads = sum(1 if random.random() < 0.5 else 0    # count # of heads\n",
        "                  for _ in range(1000))                               # in 1000 flips\n",
        "  if num_heads >= 530 or num_heads <= 470:           # and count how often\n",
        "      extreme_value_count += 1                         # the # is 'extreme'\n",
        "print(extreme_value_count / 100000)\n"
      ],
      "execution_count": 0,
      "outputs": [
        {
          "output_type": "stream",
          "text": [
            "0.06249\n"
          ],
          "name": "stdout"
        }
      ]
    },
    {
      "metadata": {
        "id": "s19la3Sl7kGC",
        "colab_type": "code",
        "outputId": "62158727-144e-4710-e6fe-f3735b4ca97b",
        "colab": {
          "base_uri": "https://localhost:8080/",
          "height": 34
        }
      },
      "cell_type": "code",
      "source": [
        "two_sided_p_value(531.5, mu_0, sigma_0)"
      ],
      "execution_count": 0,
      "outputs": [
        {
          "output_type": "execute_result",
          "data": {
            "text/plain": [
              "0.046345287837786575"
            ]
          },
          "metadata": {
            "tags": []
          },
          "execution_count": 157
        }
      ]
    },
    {
      "metadata": {
        "id": "O-760Ks38AP6",
        "colab_type": "code",
        "colab": {}
      },
      "cell_type": "code",
      "source": [
        "upper_p_value = normal_probability_above\n",
        "lower_p_value = normal_probability_below"
      ],
      "execution_count": 0,
      "outputs": []
    },
    {
      "metadata": {
        "id": "MZlu-IMY8FMK",
        "colab_type": "code",
        "outputId": "506d3a1d-9254-4e73-8b7d-896bd8b76d27",
        "colab": {
          "base_uri": "https://localhost:8080/",
          "height": 34
        }
      },
      "cell_type": "code",
      "source": [
        "upper_p_value(524.5, mu_0, sigma_0)"
      ],
      "execution_count": 0,
      "outputs": [
        {
          "output_type": "execute_result",
          "data": {
            "text/plain": [
              "0.06062885772582083"
            ]
          },
          "metadata": {
            "tags": []
          },
          "execution_count": 159
        }
      ]
    },
    {
      "metadata": {
        "id": "52qrlqG_8Fcj",
        "colab_type": "code",
        "outputId": "bb7ab260-9a95-4b6d-bace-480f4899c648",
        "colab": {
          "base_uri": "https://localhost:8080/",
          "height": 34
        }
      },
      "cell_type": "code",
      "source": [
        "upper_p_value(526.5, mu_0, sigma_0)"
      ],
      "execution_count": 0,
      "outputs": [
        {
          "output_type": "execute_result",
          "data": {
            "text/plain": [
              "0.04686839508859242"
            ]
          },
          "metadata": {
            "tags": []
          },
          "execution_count": 160
        }
      ]
    },
    {
      "metadata": {
        "id": "7lxJ1Fl68HQi",
        "colab_type": "code",
        "outputId": "90ebff0e-30fa-4935-ed05-df5454c59c17",
        "colab": {
          "base_uri": "https://localhost:8080/",
          "height": 163
        }
      },
      "cell_type": "code",
      "source": [
        "math.sqrt(p * (1 - p) / 1000)  ## p value is not given, so instead we use our estimate"
      ],
      "execution_count": 0,
      "outputs": [
        {
          "output_type": "error",
          "ename": "NameError",
          "evalue": "ignored",
          "traceback": [
            "\u001b[0;31m---------------------------------------------------------------------------\u001b[0m",
            "\u001b[0;31mNameError\u001b[0m                                 Traceback (most recent call last)",
            "\u001b[0;32m<ipython-input-161-f50302498f51>\u001b[0m in \u001b[0;36m<module>\u001b[0;34m()\u001b[0m\n\u001b[0;32m----> 1\u001b[0;31m \u001b[0mmath\u001b[0m\u001b[0;34m.\u001b[0m\u001b[0msqrt\u001b[0m\u001b[0;34m(\u001b[0m\u001b[0mp\u001b[0m \u001b[0;34m*\u001b[0m \u001b[0;34m(\u001b[0m\u001b[0;36m1\u001b[0m \u001b[0;34m-\u001b[0m \u001b[0mp\u001b[0m\u001b[0;34m)\u001b[0m \u001b[0;34m/\u001b[0m \u001b[0;36m1000\u001b[0m\u001b[0;34m)\u001b[0m  \u001b[0;31m## Here we don’t know p, so instead we use our estimate\u001b[0m\u001b[0;34m\u001b[0m\u001b[0;34m\u001b[0m\u001b[0m\n\u001b[0m",
            "\u001b[0;31mNameError\u001b[0m: name 'p' is not defined"
          ]
        }
      ]
    },
    {
      "metadata": {
        "id": "7zNVGj_38Joy",
        "colab_type": "code",
        "colab": {}
      },
      "cell_type": "code",
      "source": [
        "p_hat = 525 / 1000\n",
        "mu = p_hat\n",
        "sigma = math.sqrt(p_hat * (1 - p_hat) / 1000) "
      ],
      "execution_count": 0,
      "outputs": []
    },
    {
      "metadata": {
        "id": "2_jRRp0N8Ltb",
        "colab_type": "code",
        "colab": {}
      },
      "cell_type": "code",
      "source": [
        "normal_two_sided_bounds(0.95, mu, sigma)"
      ],
      "execution_count": 0,
      "outputs": []
    },
    {
      "metadata": {
        "id": "AcUGpJvV8Yuz",
        "colab_type": "code",
        "colab": {}
      },
      "cell_type": "code",
      "source": [
        "p_hat = 540 / 1000\n",
        "mu = p_hat\n",
        "sigma = math.sqrt(p_hat * (1 - p_hat) / 1000)\n",
        "sigma"
      ],
      "execution_count": 0,
      "outputs": []
    },
    {
      "metadata": {
        "id": "HtMmdSpI8aqU",
        "colab_type": "code",
        "colab": {}
      },
      "cell_type": "code",
      "source": [
        "normal_two_sided_bounds(0.95, mu, sigma) "
      ],
      "execution_count": 0,
      "outputs": []
    },
    {
      "metadata": {
        "id": "e1EzEP5t8eAE",
        "colab_type": "code",
        "colab": {}
      },
      "cell_type": "code",
      "source": [
        "def run_experiment():\n",
        "    \"\"\"flip a fair coin 1000 times, True = heads, False = tails\"\"\"\n",
        "    return [random.random() < 0.5 for _ in range(1000)]\n",
        "\n",
        "def reject_fairness(experiment):\n",
        "    \"\"\"using the 5% significance levels\"\"\"\n",
        "    num_heads = len([flip for flip in experiment if flip])\n",
        "    return num_heads < 469 or num_heads > 531"
      ],
      "execution_count": 0,
      "outputs": []
    },
    {
      "metadata": {
        "id": "0rJtmNFe8hCz",
        "colab_type": "code",
        "colab": {}
      },
      "cell_type": "code",
      "source": [
        "random.seed(0)\n",
        "experiments = [run_experiment() for _ in range(1000)]\n",
        "num_rejections = len([experiment\n",
        "                      for experiment in experiments\n",
        "                       if reject_fairness(experiment)])\n"
      ],
      "execution_count": 0,
      "outputs": []
    },
    {
      "metadata": {
        "id": "9LmULYx58p_c",
        "colab_type": "code",
        "colab": {}
      },
      "cell_type": "code",
      "source": [
        "print (num_rejections)"
      ],
      "execution_count": 0,
      "outputs": []
    },
    {
      "metadata": {
        "id": "j7S0doHd8qeM",
        "colab_type": "code",
        "colab": {}
      },
      "cell_type": "code",
      "source": [
        "def estimated_parameters(N, n):\n",
        "    p = n / N\n",
        "    sigma = math.sqrt(p * (1 - p) / N)\n",
        "    return p, sigma"
      ],
      "execution_count": 0,
      "outputs": []
    },
    {
      "metadata": {
        "id": "qGhC3UU88v38",
        "colab_type": "code",
        "colab": {}
      },
      "cell_type": "code",
      "source": [
        "def a_b_test_statistic(N_A, n_A, N_B, n_B):\n",
        "    p_A, sigma_A = estimated_parameters(N_A, n_A)\n",
        "    p_B, sigma_B = estimated_parameters(N_B, n_B)\n",
        "    return (p_B - p_A) / math.sqrt(sigma_A ** 2 + sigma_B ** 2)"
      ],
      "execution_count": 0,
      "outputs": []
    },
    {
      "metadata": {
        "id": "BVCvqzay8y4M",
        "colab_type": "code",
        "colab": {}
      },
      "cell_type": "code",
      "source": [
        "z = a_b_test_statistic(1000, 200, 1000, 180)"
      ],
      "execution_count": 0,
      "outputs": []
    },
    {
      "metadata": {
        "id": "iH1GpXkM80z7",
        "colab_type": "code",
        "colab": {}
      },
      "cell_type": "code",
      "source": [
        "two_sided_p_value(z) "
      ],
      "execution_count": 0,
      "outputs": []
    },
    {
      "metadata": {
        "id": "FLpk7uTW82Ps",
        "colab_type": "code",
        "colab": {}
      },
      "cell_type": "code",
      "source": [
        "z = a_b_test_statistic(1000, 200, 1000, 150) \n",
        "z"
      ],
      "execution_count": 0,
      "outputs": []
    },
    {
      "metadata": {
        "id": "HH7T7Q2K84k0",
        "colab_type": "code",
        "colab": {}
      },
      "cell_type": "code",
      "source": [
        "two_sided_p_value(z)"
      ],
      "execution_count": 0,
      "outputs": []
    },
    {
      "metadata": {
        "id": "30isydhJ85_8",
        "colab_type": "code",
        "colab": {}
      },
      "cell_type": "code",
      "source": [
        "def B(alpha, beta):\n",
        "    \"\"\"a normalizing constant so that the total probability is 1\"\"\"\n",
        "    return math.gamma(alpha) * math.gamma(beta) / math.gamma(alpha + beta)"
      ],
      "execution_count": 0,
      "outputs": []
    },
    {
      "metadata": {
        "id": "zx1AbtRj88_0",
        "colab_type": "code",
        "colab": {}
      },
      "cell_type": "code",
      "source": [
        "def beta_pdf(x, alpha, beta):\n",
        "    if x < 0 or x > 1:          # no weight outside of [0, 1]\n",
        "        return 0\n",
        "    return x ** (alpha - 1) * (1 - x) ** (beta - 1) / B(alpha, beta)"
      ],
      "execution_count": 0,
      "outputs": []
    }
  ]
}